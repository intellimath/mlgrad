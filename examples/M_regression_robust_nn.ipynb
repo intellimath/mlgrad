{
 "cells": [
  {
   "cell_type": "code",
   "execution_count": 2,
   "metadata": {},
   "outputs": [],
   "source": [
    "import sys\n",
    "#print(sys.version)\n",
    "\n",
    "import matplotlib.pyplot as plt\n",
    "#%config BackendInline.figure_format='svg'\n",
    "\n",
    "plt.style.use(['seaborn-paper', 'seaborn-white', 'seaborn-ticks'])\n",
    "plt.matplotlib.rcParams['figure.dpi'] = 120\n",
    "plt.matplotlib.rcParams['savefig.dpi'] = 120\n",
    "\n",
    "import numpy as np\n",
    "import pandas as pd\n",
    "\n",
    "import mlgrad.model as model\n",
    "import mlgrad.func as func\n",
    "import mlgrad.regnorm as regular\n",
    "import mlgrad.loss as loss\n",
    "import mlgrad.weights as weights\n",
    "import mlgrad.averager as averager\n",
    "\n",
    "from mlgrad import averager_it, averager_fg, fg, erm_fg, sg, erm_sg, irgd, erm_irgd, erisk"
   ]
  },
  {
   "cell_type": "code",
   "execution_count": 34,
   "metadata": {},
   "outputs": [],
   "source": [
    "def sigma_neuron_layer(n_input, n):\n",
    "    layer = model.GeneralModelLayer(n_input)\n",
    "    outfunc = func.Sigmoidal()\n",
    "    for i in range(n):\n",
    "        mod = model.SigmaNeuronModel(outfunc, n_input)\n",
    "        layer.append(mod)\n",
    "    return layer"
   ]
  },
  {
   "cell_type": "code",
   "execution_count": 35,
   "metadata": {},
   "outputs": [],
   "source": [
    "def create_nn(n_hidden):\n",
    "    n_input = X.shape[1]\n",
    "    layer1 = sigma_neuron_layer(n_input, n_hidden)\n",
    "\n",
    "    body = model.FFNetworkModel()\n",
    "    body.append(layer1)\n",
    "\n",
    "    head = model.LinearModel(n_hidden)\n",
    "    ffnn = model.FFNetworkFuncModel(head, body)\n",
    "    ffnn.allocate()\n",
    "    return ffnn"
   ]
  },
  {
   "cell_type": "markdown",
   "metadata": {},
   "source": [
    "## Dataset 1"
   ]
  },
  {
   "cell_type": "code",
   "execution_count": 36,
   "metadata": {},
   "outputs": [],
   "source": [
    "def gendataset(N=1000, m=3, dy=0.2):\n",
    "    X = np.random.random(size=(N, m))\n",
    "    X = 2. * X - 1.\n",
    "    X = 2. * X\n",
    "    Y0 = np.array([np.sum(x*x)**(1./3.) for x in X])\n",
    "    Y = Y0 + dy * (2*np.random.random(N) - 1)\n",
    "    return X, Y\n",
    "\n",
    "def add_outliers(X, Y, q=0.1, DY=30.):\n",
    "    N = len(Y)\n",
    "    M = int(q*N)\n",
    "    I1 = np.random.randint(0, N-1, M)\n",
    "    Y1 = Y.copy()\n",
    "    for i1 in I1:\n",
    "        Y1[i1] = DY\n",
    "    return Y1\n",
    "    "
   ]
  },
  {
   "cell_type": "code",
   "execution_count": 37,
   "metadata": {},
   "outputs": [],
   "source": [
    "loss_func_sq = loss.ErrorLoss(func.Square())\n",
    "loss_func_abs = loss.ErrorLoss(func.Absolute())\n",
    "#loss_func_hub = loss.ErrorLoss(func.Huber(0.1))"
   ]
  },
  {
   "cell_type": "code",
   "execution_count": 38,
   "metadata": {},
   "outputs": [],
   "source": [
    "result = {}"
   ]
  },
  {
   "cell_type": "code",
   "execution_count": 39,
   "metadata": {},
   "outputs": [],
   "source": [
    "n_hidden = 20\n",
    "Q = 30\n",
    "q = Q / 100."
   ]
  },
  {
   "cell_type": "code",
   "execution_count": 40,
   "metadata": {},
   "outputs": [],
   "source": [
    "X, Y = gendataset()\n",
    "X_t, Y_t = gendataset(dy=0)\n",
    "Y_o = add_outliers(X, Y, q)"
   ]
  },
  {
   "cell_type": "code",
   "execution_count": 41,
   "metadata": {},
   "outputs": [
    {
     "ename": "AttributeError",
     "evalue": "'mlgrad.model.FFNetworkModel' object has no attribute 'append'",
     "output_type": "error",
     "traceback": [
      "\u001b[0;31m---------------------------------------------------------------------------\u001b[0m",
      "\u001b[0;31mAttributeError\u001b[0m                            Traceback (most recent call last)",
      "\u001b[0;32m/tmp/ipykernel_57040/3962532299.py\u001b[0m in \u001b[0;36m<module>\u001b[0;34m\u001b[0m\n\u001b[0;32m----> 1\u001b[0;31m \u001b[0mffnn0\u001b[0m \u001b[0;34m=\u001b[0m \u001b[0mcreate_nn\u001b[0m\u001b[0;34m(\u001b[0m\u001b[0mn_hidden\u001b[0m\u001b[0;34m)\u001b[0m\u001b[0;34m\u001b[0m\u001b[0;34m\u001b[0m\u001b[0m\n\u001b[0m\u001b[1;32m      2\u001b[0m \u001b[0mffnn0\u001b[0m\u001b[0;34m.\u001b[0m\u001b[0mparam\u001b[0m\u001b[0;34m[\u001b[0m\u001b[0;34m:\u001b[0m\u001b[0;34m]\u001b[0m \u001b[0;34m=\u001b[0m \u001b[0mnp\u001b[0m\u001b[0;34m.\u001b[0m\u001b[0mrandom\u001b[0m\u001b[0;34m.\u001b[0m\u001b[0mrandom\u001b[0m\u001b[0;34m(\u001b[0m\u001b[0msize\u001b[0m\u001b[0;34m=\u001b[0m\u001b[0mffnn0\u001b[0m\u001b[0;34m.\u001b[0m\u001b[0mn_param\u001b[0m\u001b[0;34m)\u001b[0m\u001b[0;34m\u001b[0m\u001b[0;34m\u001b[0m\u001b[0m\n\u001b[1;32m      3\u001b[0m \u001b[0mffnn1\u001b[0m \u001b[0;34m=\u001b[0m \u001b[0mcreate_nn\u001b[0m\u001b[0;34m(\u001b[0m\u001b[0mn_hidden\u001b[0m\u001b[0;34m)\u001b[0m\u001b[0;34m\u001b[0m\u001b[0;34m\u001b[0m\u001b[0m\n\u001b[1;32m      4\u001b[0m \u001b[0mffnn1\u001b[0m\u001b[0;34m.\u001b[0m\u001b[0mparam\u001b[0m\u001b[0;34m[\u001b[0m\u001b[0;34m:\u001b[0m\u001b[0;34m]\u001b[0m \u001b[0;34m=\u001b[0m \u001b[0mnp\u001b[0m\u001b[0;34m.\u001b[0m\u001b[0mrandom\u001b[0m\u001b[0;34m.\u001b[0m\u001b[0mrandom\u001b[0m\u001b[0;34m(\u001b[0m\u001b[0msize\u001b[0m\u001b[0;34m=\u001b[0m\u001b[0mffnn1\u001b[0m\u001b[0;34m.\u001b[0m\u001b[0mn_param\u001b[0m\u001b[0;34m)\u001b[0m\u001b[0;34m\u001b[0m\u001b[0;34m\u001b[0m\u001b[0m\n\u001b[1;32m      5\u001b[0m \u001b[0mffnn2\u001b[0m \u001b[0;34m=\u001b[0m \u001b[0mcreate_nn\u001b[0m\u001b[0;34m(\u001b[0m\u001b[0mn_hidden\u001b[0m\u001b[0;34m)\u001b[0m\u001b[0;34m\u001b[0m\u001b[0;34m\u001b[0m\u001b[0m\n",
      "\u001b[0;32m/tmp/ipykernel_57040/2263370460.py\u001b[0m in \u001b[0;36mcreate_nn\u001b[0;34m(n_hidden)\u001b[0m\n\u001b[1;32m      4\u001b[0m \u001b[0;34m\u001b[0m\u001b[0m\n\u001b[1;32m      5\u001b[0m     \u001b[0mbody\u001b[0m \u001b[0;34m=\u001b[0m \u001b[0mmodel\u001b[0m\u001b[0;34m.\u001b[0m\u001b[0mFFNetworkModel\u001b[0m\u001b[0;34m(\u001b[0m\u001b[0;34m)\u001b[0m\u001b[0;34m\u001b[0m\u001b[0;34m\u001b[0m\u001b[0m\n\u001b[0;32m----> 6\u001b[0;31m     \u001b[0mbody\u001b[0m\u001b[0;34m.\u001b[0m\u001b[0mappend\u001b[0m\u001b[0;34m(\u001b[0m\u001b[0mlayer1\u001b[0m\u001b[0;34m)\u001b[0m\u001b[0;34m\u001b[0m\u001b[0;34m\u001b[0m\u001b[0m\n\u001b[0m\u001b[1;32m      7\u001b[0m \u001b[0;34m\u001b[0m\u001b[0m\n\u001b[1;32m      8\u001b[0m     \u001b[0mhead\u001b[0m \u001b[0;34m=\u001b[0m \u001b[0mmodel\u001b[0m\u001b[0;34m.\u001b[0m\u001b[0mLinearModel\u001b[0m\u001b[0;34m(\u001b[0m\u001b[0mn_hidden\u001b[0m\u001b[0;34m)\u001b[0m\u001b[0;34m\u001b[0m\u001b[0;34m\u001b[0m\u001b[0m\n",
      "\u001b[0;31mAttributeError\u001b[0m: 'mlgrad.model.FFNetworkModel' object has no attribute 'append'"
     ]
    }
   ],
   "source": [
    "ffnn0 = create_nn(n_hidden)\n",
    "ffnn0.param[:] = np.random.random(size=ffnn0.n_param)\n",
    "ffnn1 = create_nn(n_hidden)\n",
    "ffnn1.param[:] = np.random.random(size=ffnn1.n_param)\n",
    "ffnn2 = create_nn(n_hidden)\n",
    "ffnn2.param[:] = np.random.random(size=ffnn2.n_param)\n",
    "ffnn3 = create_nn(n_hidden)\n",
    "ffnn3.param[:] = np.random.random(size=ffnn3.n_param)"
   ]
  },
  {
   "cell_type": "code",
   "execution_count": null,
   "metadata": {},
   "outputs": [],
   "source": [
    "er0 = erisk(X, Y, ffnn0, loss_func_sq)\n",
    "_fg0 = erm_fg(er0, h=0.01, tol=1.0e-5, verbose=0)\n",
    "print(\"Completed?\", _fg0.completed)\n",
    "\n",
    "plt.plot(_fg0.lvals)\n",
    "plt.show()"
   ]
  },
  {
   "cell_type": "code",
   "execution_count": null,
   "metadata": {},
   "outputs": [],
   "source": [
    "er1 = erisk(X, Y_o, ffnn1, loss_func_sq)\n",
    "_fg1 = erm_fg(er1, h=0.01, tol=1.0e-5, verbose=0)\n",
    "print(\"Completed?\", _fg1.completed)\n",
    "\n",
    "plt.plot(_fg1.lvals)\n",
    "plt.show()"
   ]
  },
  {
   "cell_type": "code",
   "execution_count": null,
   "metadata": {},
   "outputs": [],
   "source": [
    "# er2 = erisk(X, Y_o, ffnn2, loss_func_abs)\n",
    "# _fg2 = erm_fg(er2, h=0.001, tol=1.0e-6, verbose=0)\n",
    "# print(\"Completed?\", _fg2.completed)\n",
    "\n",
    "# plt.plot(_fg2.lvals)\n",
    "# plt.show()"
   ]
  },
  {
   "cell_type": "code",
   "execution_count": null,
   "metadata": {},
   "outputs": [],
   "source": [
    "er3 = erisk(X, Y_o, ffnn3, loss_func_abs)\n",
    "_fg3 = fg(er3, h=0.01, tol=1.0e-5)\n",
    "wg3 = weights.RWeights(func.Huber(0.1), er3)\n",
    "irgd3 = erm_irgd(_fg3, wg3, n_iter=21, verbose=0)\n",
    "\n",
    "plt.figure(figsize=(10,4))\n",
    "plt.subplot(1,2,1)\n",
    "plt.plot(irgd3.lvals)\n",
    "plt.subplot(1,2,2)\n",
    "plt.plot(irgd3.n_iters)\n",
    "plt.show()"
   ]
  },
  {
   "cell_type": "code",
   "execution_count": null,
   "metadata": {},
   "outputs": [],
   "source": [
    "result[Q] = {\n",
    "    'nn':(\n",
    "        ffnn0, ffnn1, ffnn3),\n",
    "    'title':(\n",
    "        'ER / Squared Errors / without outliers',\n",
    "        'ER / Squared Errors / %s%% outliers' % Q,\n",
    "        #'ER / Absolute Errors / %s%% outliers' % Q,\n",
    "        'MS / Absolute Errors / %s%% outliers' % Q ),\n",
    "    'b':0.1\n",
    "}"
   ]
  },
  {
   "cell_type": "code",
   "execution_count": null,
   "metadata": {},
   "outputs": [],
   "source": [
    "m_q = len(result)\n",
    "plt.figure(figsize=(9.0, m_q * 2.75))\n",
    "for j, Q in enumerate(result):\n",
    "    for i in range(3):\n",
    "        current = result[Q]\n",
    "        b = current['b']\n",
    "        plt.subplot(m_q, 3, 3*j+i+1)\n",
    "        _ffnn = current['nn'][i]\n",
    "        Y1 = np.array([_ffnn(x) for x in X_t])\n",
    "        title = current['title'][i]\n",
    "        plt.title(title)\n",
    "        V = np.abs(Y_t-Y1)\n",
    "        I = np.argsort(V)\n",
    "        I = I[::-1]\n",
    "        Y2 = [np.min(Y1), np.max(Y1)]\n",
    "        plt.plot(Y2, Y2, c='k')\n",
    "        plt.scatter(Y_t[I], Y1[I], c=V[I], s=9, cmap=plt.cm.gray)\n",
    "        c = sum(V < b) / len(V) * 100\n",
    "        y_min, y_max = plt.xlim()\n",
    "        plt.text(y_min, Y1.max(), r'$\\{|err|<%.1f\\}\\to%s$%%' % (b, int(c)))\n",
    "        if i == 0:\n",
    "            plt.ylabel(\"predicted target\")\n",
    "        if j == m_q-1:\n",
    "            plt.xlabel(\"original target\")\n",
    "        if j < m_q-1:\n",
    "            plt.xticks([], [])\n",
    "        plt.minorticks_on()\n",
    "plt.tight_layout()\n",
    "plt.savefig(r\"fig/isnn2018_dataset_1_%s.pdf\" % n_hidden)\n",
    "plt.show()"
   ]
  },
  {
   "cell_type": "code",
   "execution_count": null,
   "metadata": {},
   "outputs": [],
   "source": []
  }
 ],
 "metadata": {
  "hide_input": false,
  "kernelspec": {
   "display_name": "Python 3 (ipykernel)",
   "language": "python",
   "name": "python3"
  },
  "language_info": {
   "codemirror_mode": {
    "name": "ipython",
    "version": 3
   },
   "file_extension": ".py",
   "mimetype": "text/x-python",
   "name": "python",
   "nbconvert_exporter": "python",
   "pygments_lexer": "ipython3",
   "version": "3.13.5"
  }
 },
 "nbformat": 4,
 "nbformat_minor": 4
}
