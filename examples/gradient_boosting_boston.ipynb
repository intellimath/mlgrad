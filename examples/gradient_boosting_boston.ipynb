{
 "cells": [
  {
   "cell_type": "code",
   "execution_count": 1,
   "id": "715b5f1f-92d7-4207-9825-25e2af2f83f0",
   "metadata": {},
   "outputs": [
    {
     "name": "stderr",
     "output_type": "stream",
     "text": [
      "<frozen importlib._bootstrap>:241: RuntimeWarning: mlgrad.avragg.MAverage size changed, may indicate binary incompatibility. Expected 88 from C header, got 96 from PyObject\n",
      "<frozen importlib._bootstrap>:241: RuntimeWarning: mlgrad.avragg.SAverage size changed, may indicate binary incompatibility. Expected 88 from C header, got 96 from PyObject\n"
     ]
    }
   ],
   "source": [
    "from mlgrad.risk import ERisk, ERiskGB\n",
    "from mlgrad.loss import SquareErrorLoss, ErrorLoss\n",
    "from mlgrad.model import LinearFuncModel, SigmaNeuronModel, FFNetworkModel, \\\n",
    "                        FFNetworkFuncModel, SigmaNeuronModelLayer, LinearModel\n",
    "from mlgrad.func import SoftPlus, Sqrt, Sigmoidal, HingeSqrt, Arctang, Absolute\n",
    "\n",
    "from mlgrad import erm_fg, erm_irgd, fg, erm_fg, erisk\n",
    "# from mlgrad.regr import m_regression_irls\n",
    "# from mlgrad.af import averaging_function\n",
    "# from mlgrad.weights import MWeights\n",
    "\n",
    "import numpy as np"
   ]
  },
  {
   "cell_type": "code",
   "execution_count": 2,
   "id": "108eeddf-036d-49d9-ab73-fcd019084c67",
   "metadata": {},
   "outputs": [
    {
     "name": "stdout",
     "output_type": "stream",
     "text": [
      "3.11.2 (main, Mar 13 2023, 12:18:29) [GCC 12.2.0]\n"
     ]
    }
   ],
   "source": [
    "import sklearn.datasets as datasets\n",
    "import sklearn.metrics as metrics\n",
    "import sklearn.preprocessing as preprocessing\n",
    "import matplotlib.pyplot as plt\n",
    "\n",
    "import sys\n",
    "print(sys.version)"
   ]
  },
  {
   "cell_type": "code",
   "execution_count": 3,
   "id": "587bd378-0b3b-4cc9-8ace-cbb338db4e31",
   "metadata": {},
   "outputs": [
    {
     "ename": "ImportError",
     "evalue": "\n`load_boston` has been removed from scikit-learn since version 1.2.\n\nThe Boston housing prices dataset has an ethical problem: as\ninvestigated in [1], the authors of this dataset engineered a\nnon-invertible variable \"B\" assuming that racial self-segregation had a\npositive impact on house prices [2]. Furthermore the goal of the\nresearch that led to the creation of this dataset was to study the\nimpact of air quality but it did not give adequate demonstration of the\nvalidity of this assumption.\n\nThe scikit-learn maintainers therefore strongly discourage the use of\nthis dataset unless the purpose of the code is to study and educate\nabout ethical issues in data science and machine learning.\n\nIn this special case, you can fetch the dataset from the original\nsource::\n\n    import pandas as pd\n    import numpy as np\n\n    data_url = \"http://lib.stat.cmu.edu/datasets/boston\"\n    raw_df = pd.read_csv(data_url, sep=\"\\s+\", skiprows=22, header=None)\n    data = np.hstack([raw_df.values[::2, :], raw_df.values[1::2, :2]])\n    target = raw_df.values[1::2, 2]\n\nAlternative datasets include the California housing dataset and the\nAmes housing dataset. You can load the datasets as follows::\n\n    from sklearn.datasets import fetch_california_housing\n    housing = fetch_california_housing()\n\nfor the California housing dataset and::\n\n    from sklearn.datasets import fetch_openml\n    housing = fetch_openml(name=\"house_prices\", as_frame=True)\n\nfor the Ames housing dataset.\n\n[1] M Carlisle.\n\"Racist data destruction?\"\n<https://medium.com/@docintangible/racist-data-destruction-113e3eff54a8>\n\n[2] Harrison Jr, David, and Daniel L. Rubinfeld.\n\"Hedonic housing prices and the demand for clean air.\"\nJournal of environmental economics and management 5.1 (1978): 81-102.\n<https://www.researchgate.net/publication/4974606_Hedonic_housing_prices_and_the_demand_for_clean_air>\n",
     "output_type": "error",
     "traceback": [
      "\u001b[0;31m---------------------------------------------------------------------------\u001b[0m",
      "\u001b[0;31mImportError\u001b[0m                               Traceback (most recent call last)",
      "Cell \u001b[0;32mIn [3], line 1\u001b[0m\n\u001b[0;32m----> 1\u001b[0m X, Y \u001b[38;5;241m=\u001b[39m \u001b[43mdatasets\u001b[49m\u001b[38;5;241;43m.\u001b[39;49m\u001b[43mload_boston\u001b[49m(return_X_y\u001b[38;5;241m=\u001b[39m\u001b[38;5;28;01mTrue\u001b[39;00m)\n\u001b[1;32m      2\u001b[0m N \u001b[38;5;241m=\u001b[39m \u001b[38;5;28mlen\u001b[39m(X)\n\u001b[1;32m      3\u001b[0m \u001b[38;5;28mprint\u001b[39m(X\u001b[38;5;241m.\u001b[39mshape, X\u001b[38;5;241m.\u001b[39mdtype)\n",
      "File \u001b[0;32m/usr/lib/python3/dist-packages/sklearn/datasets/__init__.py:156\u001b[0m, in \u001b[0;36m__getattr__\u001b[0;34m(name)\u001b[0m\n\u001b[1;32m    105\u001b[0m \u001b[38;5;28;01mif\u001b[39;00m name \u001b[38;5;241m==\u001b[39m \u001b[38;5;124m\"\u001b[39m\u001b[38;5;124mload_boston\u001b[39m\u001b[38;5;124m\"\u001b[39m:\n\u001b[1;32m    106\u001b[0m     msg \u001b[38;5;241m=\u001b[39m textwrap\u001b[38;5;241m.\u001b[39mdedent(\n\u001b[1;32m    107\u001b[0m \u001b[38;5;250m        \u001b[39m\u001b[38;5;124;03m\"\"\"\u001b[39;00m\n\u001b[1;32m    108\u001b[0m \u001b[38;5;124;03m        `load_boston` has been removed from scikit-learn since version 1.2.\u001b[39;00m\n\u001b[0;32m   (...)\u001b[0m\n\u001b[1;32m    154\u001b[0m \u001b[38;5;124;03m        \"\"\"\u001b[39;00m\n\u001b[1;32m    155\u001b[0m     )\n\u001b[0;32m--> 156\u001b[0m     \u001b[38;5;28;01mraise\u001b[39;00m \u001b[38;5;167;01mImportError\u001b[39;00m(msg)\n\u001b[1;32m    157\u001b[0m \u001b[38;5;28;01mtry\u001b[39;00m:\n\u001b[1;32m    158\u001b[0m     \u001b[38;5;28;01mreturn\u001b[39;00m \u001b[38;5;28mglobals\u001b[39m()[name]\n",
      "\u001b[0;31mImportError\u001b[0m: \n`load_boston` has been removed from scikit-learn since version 1.2.\n\nThe Boston housing prices dataset has an ethical problem: as\ninvestigated in [1], the authors of this dataset engineered a\nnon-invertible variable \"B\" assuming that racial self-segregation had a\npositive impact on house prices [2]. Furthermore the goal of the\nresearch that led to the creation of this dataset was to study the\nimpact of air quality but it did not give adequate demonstration of the\nvalidity of this assumption.\n\nThe scikit-learn maintainers therefore strongly discourage the use of\nthis dataset unless the purpose of the code is to study and educate\nabout ethical issues in data science and machine learning.\n\nIn this special case, you can fetch the dataset from the original\nsource::\n\n    import pandas as pd\n    import numpy as np\n\n    data_url = \"http://lib.stat.cmu.edu/datasets/boston\"\n    raw_df = pd.read_csv(data_url, sep=\"\\s+\", skiprows=22, header=None)\n    data = np.hstack([raw_df.values[::2, :], raw_df.values[1::2, :2]])\n    target = raw_df.values[1::2, 2]\n\nAlternative datasets include the California housing dataset and the\nAmes housing dataset. You can load the datasets as follows::\n\n    from sklearn.datasets import fetch_california_housing\n    housing = fetch_california_housing()\n\nfor the California housing dataset and::\n\n    from sklearn.datasets import fetch_openml\n    housing = fetch_openml(name=\"house_prices\", as_frame=True)\n\nfor the Ames housing dataset.\n\n[1] M Carlisle.\n\"Racist data destruction?\"\n<https://medium.com/@docintangible/racist-data-destruction-113e3eff54a8>\n\n[2] Harrison Jr, David, and Daniel L. Rubinfeld.\n\"Hedonic housing prices and the demand for clean air.\"\nJournal of environmental economics and management 5.1 (1978): 81-102.\n<https://www.researchgate.net/publication/4974606_Hedonic_housing_prices_and_the_demand_for_clean_air>\n"
     ]
    }
   ],
   "source": [
    "X, Y = datasets.load_boston(return_X_y=True)\n",
    "N = len(X)\n",
    "print(X.shape, X.dtype)\n",
    "print(Y.shape, Y.dtype)\n",
    "# print(Y)"
   ]
  },
  {
   "cell_type": "code",
   "execution_count": null,
   "id": "e2576850-f35b-4462-a629-b5b7c633b649",
   "metadata": {},
   "outputs": [],
   "source": [
    "print(Y.shape, X.shape)\n",
    "print(Y.dtype, X.dtype)"
   ]
  },
  {
   "cell_type": "code",
   "execution_count": null,
   "id": "c9c7cceb-2b8e-4741-8141-37da27586e9c",
   "metadata": {},
   "outputs": [],
   "source": [
    "X_o = preprocessing.robust_scale(np.ascontiguousarray(X)) \n",
    "Y_o = Y.copy() #preprocessing.robust_scale(Y)"
   ]
  },
  {
   "cell_type": "code",
   "execution_count": null,
   "id": "61bbbd66-41a7-4d94-b257-b4bd1a17075a",
   "metadata": {},
   "outputs": [],
   "source": [
    "# print(Y_o)"
   ]
  },
  {
   "cell_type": "code",
   "execution_count": null,
   "id": "7dad6d68-b4af-4097-a3a9-2e2ea07e7ec0",
   "metadata": {},
   "outputs": [],
   "source": [
    "from mlgrad.boost.gb_regression import gb_fit, gb_fit_agg"
   ]
  },
  {
   "cell_type": "code",
   "execution_count": null,
   "id": "c0bcff39-70ea-4225-bffb-221eddfc871d",
   "metadata": {},
   "outputs": [],
   "source": [
    "def new_model(N):\n",
    "    mod = SigmaNeuronModel(Sigmoidal(0.5), N)\n",
    "    mod.init_param()\n",
    "    return mod\n",
    "\n",
    "m = 40\n",
    "lfm = gb_fit(X_o, Y_o, new_model, h=0.01, tol=1.0e-8, n_iter=m)\n",
    "lfm, lvals = lfm.complex_model, lfm.lvals\n",
    "# print(np.asarray(lfm.weights))"
   ]
  },
  {
   "cell_type": "code",
   "execution_count": null,
   "id": "a701e73d-087d-4ffe-9e6f-6cb41fe83738",
   "metadata": {},
   "outputs": [],
   "source": [
    "alpha=0.99\n",
    "lfm_agg = gb_fit_agg(X_o, Y_o, new_model, alpha=alpha, h=0.01, tol=1.0e-8, n_iter=m)\n",
    "lfm_agg, lvals_agg = lfm_agg.complex_model, lfm_agg.lvals\n",
    "# print(np.asarray(lfm_agg.weights))"
   ]
  },
  {
   "cell_type": "code",
   "execution_count": null,
   "id": "6f9f8200-8717-480a-8f56-3fd6b4a4cd5c",
   "metadata": {},
   "outputs": [],
   "source": [
    "plt.plot(np.log(lvals), label='ls')\n",
    "plt.plot(np.log(lvals_agg), label='wm')\n",
    "plt.legend()\n",
    "plt.savefig('boston_%.0f_%s_lvals.eps' % (alpha*100,m))\n",
    "plt.show()"
   ]
  },
  {
   "cell_type": "code",
   "execution_count": null,
   "id": "6a2c7029-5bb8-42fa-9a8e-664ab9d25dcc",
   "metadata": {},
   "outputs": [],
   "source": [
    "plt.figure(figsize=(6,5))\n",
    "plt.xlabel('Ранг')\n",
    "plt.ylabel('Абсолютная ошибка')\n",
    "plt.title(\"Boston: Распределение ошибок (m=%s)\" % m)\n",
    "plt.loglog(sorted([abs(lfm(X_o[k])-Y_o[k]) for k in range(N)]), linestyle='--', color='k', label='LS')\n",
    "plt.loglog(sorted([abs(lfm_agg(X_o[k])-Y_o[k]) for k in range(N)]), \n",
    "           linestyle='-', color='k', label=r\"WM($\\alpha$=%s)\" % alpha)\n",
    "plt.savefig('boston_%.0f_%s_errors.eps' % (alpha*100,m))\n",
    "plt.legend()\n",
    "plt.show()"
   ]
  },
  {
   "cell_type": "code",
   "execution_count": null,
   "id": "f79fcf65-04f1-4ee0-a379-bab8f7450e85",
   "metadata": {},
   "outputs": [],
   "source": [
    "plt.figure(figsize=(7,6))\n",
    "plt.scatter(np.abs(lfm.evaluate_all(X_o)-Y_o), np.abs(lfm_agg.evaluate_all(X_o)-Y_o), s=9, c='k')\n",
    "plt.savefig('boston_%.0f_%s_errors_box.eps' % (alpha*100,m))\n",
    "plt.show()"
   ]
  },
  {
   "cell_type": "code",
   "execution_count": null,
   "id": "c5db67a4-9f4f-47c6-aa8e-a3affd4d74a3",
   "metadata": {},
   "outputs": [],
   "source": [
    "Y_ls = np.array([lfm(Xk) for Xk in X_o])\n",
    "Y_agg = np.array([lfm_agg(Xk) for Xk in X_o])"
   ]
  },
  {
   "cell_type": "code",
   "execution_count": null,
   "id": "fa82ee45-f0fd-492e-bb79-2a68b2630aa1",
   "metadata": {},
   "outputs": [],
   "source": [
    "err_ls = np.abs(Y_o - Y_ls)\n",
    "err_wm = np.abs(Y_o - Y_agg)\n",
    "\n",
    "acc_ls = np.mean(err_ls)\n",
    "acc_wm = np.mean(err_wm)\n",
    "var_ls = np.mean(np.abs(err_ls - acc_ls))\n",
    "var_wm = np.mean(np.abs(err_wm - acc_wm))\n",
    "\n",
    "print(acc_ls, acc_wm)\n",
    "print(var_ls, var_wm)"
   ]
  },
  {
   "cell_type": "code",
   "execution_count": null,
   "id": "61e6fd52-d592-48e3-9a5a-87c3e4fb6fc0",
   "metadata": {},
   "outputs": [],
   "source": [
    "err_ls = np.abs(Y_o - Y_ls)\n",
    "err_wm = np.abs(Y_o - Y_agg)\n",
    "acc_ls = np.median(err_ls)\n",
    "acc_wm = np.median(err_wm)\n",
    "var_ls = np.median(np.abs(err_ls - acc_ls))\n",
    "var_wm = np.median(np.abs(err_wm - acc_wm))\n",
    "\n",
    "print(acc_ls, acc_wm)\n",
    "print(var_ls, var_wm)"
   ]
  },
  {
   "cell_type": "code",
   "execution_count": null,
   "id": "5b686e6b-96ff-47f1-8965-648d4bc02de6",
   "metadata": {},
   "outputs": [],
   "source": [
    "plt.figure(figsize=(12,5))\n",
    "plt.subplot(1,2,1)\n",
    "plt.scatter(Y_o, Y_ls, c=np.abs(Y_o-Y_ls), s=9, cmap=plt.cm.Greys_r)\n",
    "plt.plot([0,50], [0,50], color='k')\n",
    "plt.subplot(1,2,2)\n",
    "plt.scatter(Y_o, Y_agg, c=np.abs(Y_o-Y_agg), s=9, cmap=plt.cm.Greys_r)\n",
    "plt.plot([0,50], [0,50], color='k')\n",
    "plt.subplot(1,2,2)\n",
    "plt.tight_layout()\n",
    "plt.show()"
   ]
  },
  {
   "cell_type": "code",
   "execution_count": null,
   "id": "58774f3b-f23a-4f0b-93e7-d23ce72c0cd8",
   "metadata": {},
   "outputs": [],
   "source": []
  },
  {
   "cell_type": "code",
   "execution_count": null,
   "id": "0d628cb1-e91f-4d0f-b64d-bb5a57f78c46",
   "metadata": {},
   "outputs": [],
   "source": []
  }
 ],
 "metadata": {
  "kernelspec": {
   "display_name": "Python 3 (ipykernel)",
   "language": "python",
   "name": "python3"
  },
  "language_info": {
   "codemirror_mode": {
    "name": "ipython",
    "version": 3
   },
   "file_extension": ".py",
   "mimetype": "text/x-python",
   "name": "python",
   "nbconvert_exporter": "python",
   "pygments_lexer": "ipython3",
   "version": "3.13.2"
  }
 },
 "nbformat": 4,
 "nbformat_minor": 5
}
