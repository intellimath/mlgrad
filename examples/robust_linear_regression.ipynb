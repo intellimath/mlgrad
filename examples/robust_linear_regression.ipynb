{
 "cells": [
  {
   "cell_type": "code",
   "execution_count": null,
   "metadata": {},
   "outputs": [],
   "source": [
    "import matplotlib.pyplot as plt\n",
    "\n",
    "plt.style.use(['seaborn-paper', 'seaborn-white'])\n",
    "plt.matplotlib.rcParams['figure.dpi'] = 100\n",
    "plt.matplotlib.rcParams['savefig.dpi'] = 100\n",
    "\n",
    "\n",
    "import numpy as np\n",
    "import pandas as pd\n",
    "\n",
    "import mlgrad.model as model\n",
    "import mlgrad.func as func\n",
    "import mlgrad.regular as regular\n",
    "import mlgrad.avragg as avragg\n",
    "import mlgrad.gd as gd\n",
    "import mlgrad.loss as loss\n"
   ]
  }
 ],
 "metadata": {
  "kernelspec": {
   "display_name": "Python 3",
   "language": "python",
   "name": "python3"
  },
  "language_info": {
   "codemirror_mode": {
    "name": "ipython",
    "version": 3
   },
   "file_extension": ".py",
   "mimetype": "text/x-python",
   "name": "python",
   "nbconvert_exporter": "python",
   "pygments_lexer": "ipython3",
   "version": "3.8.4rc1"
  }
 },
 "nbformat": 4,
 "nbformat_minor": 4
}
