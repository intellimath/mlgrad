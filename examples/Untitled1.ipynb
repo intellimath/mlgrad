{
 "cells": [
  {
   "cell_type": "code",
   "execution_count": 2,
   "metadata": {},
   "outputs": [],
   "source": [
    "import mlgrad.cytest as cytest\n",
    "import numpy as np"
   ]
  },
  {
   "cell_type": "code",
   "execution_count": 3,
   "metadata": {},
   "outputs": [],
   "source": [
    "A = np.random.random((1000, 10000))\n",
    "B = np.random.random(10000)\n",
    "C1 = np.zeros(1000, 'd')\n",
    "C2 = np.zeros(1000, 'd')"
   ]
  },
  {
   "cell_type": "code",
   "execution_count": 5,
   "metadata": {},
   "outputs": [
    {
     "name": "stdout",
     "output_type": "stream",
     "text": [
      "CPU times: user 21.6 ms, sys: 89 µs, total: 21.7 ms\n",
      "Wall time: 21.5 ms\n"
     ]
    }
   ],
   "source": [
    "%time cytest.dot(A,B,C1)"
   ]
  },
  {
   "cell_type": "code",
   "execution_count": 6,
   "metadata": {},
   "outputs": [
    {
     "name": "stdout",
     "output_type": "stream",
     "text": [
      "CPU times: user 1.42 s, sys: 1.88 ms, total: 1.43 s\n",
      "Wall time: 210 ms\n"
     ]
    }
   ],
   "source": [
    "%time cytest.dot_parallel(A,B,C2)"
   ]
  },
  {
   "cell_type": "code",
   "execution_count": 5,
   "metadata": {},
   "outputs": [
    {
     "name": "stdout",
     "output_type": "stream",
     "text": [
      "[260.80643397 261.37206769 262.96443251 255.85801624 256.21634922\n",
      " 263.7174287  257.48414051 256.40402615 254.49515309 260.78711657]\n",
      "[260.80643397 261.37206769 262.96443251 255.85801624 256.21634922\n",
      " 263.7174287  257.48414051 256.40402615 254.49515309 260.78711657]\n"
     ]
    }
   ],
   "source": [
    "print(C1[0],C1[-1])\n",
    "print(C2[0],C2[-1])"
   ]
  }
 ],
 "metadata": {
  "hide_input": false,
  "kernelspec": {
   "display_name": "Python 3",
   "language": "python",
   "name": "python3"
  },
  "language_info": {
   "codemirror_mode": {
    "name": "ipython",
    "version": 3
   },
   "file_extension": ".py",
   "mimetype": "text/x-python",
   "name": "python",
   "nbconvert_exporter": "python",
   "pygments_lexer": "ipython3",
   "version": "3.7.6"
  }
 },
 "nbformat": 4,
 "nbformat_minor": 4
}
