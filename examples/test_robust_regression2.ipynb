{
 "cells": [
  {
   "cell_type": "code",
   "execution_count": 1,
   "metadata": {},
   "outputs": [
    {
     "name": "stderr",
     "output_type": "stream",
     "text": [
      "/Library/Frameworks/Python.framework/Versions/3.6/lib/python3.6/site-packages/statsmodels/compat/pandas.py:56: FutureWarning: The pandas.core.datetools module is deprecated and will be removed in a future version. Please use the pandas.tseries module instead.\n",
      "  from pandas.core import datetools\n"
     ]
    }
   ],
   "source": [
    "import numpy as np\n",
    "import pandas as pd\n",
    "\n",
    "import mlgrad.model as model\n",
    "import mlgrad.loss as loss\n",
    "import mlgrad.regular as regular\n",
    "import mlgrad.func as func\n",
    "import mlgrad.avragg as avragg\n",
    "import mlgrad.averager as averager\n",
    "import mlgrad.weights as weights\n",
    "\n",
    "from mlgrad import fg, erm_fg, irgd, erm_irgd, averager_fg\n",
    "\n",
    "# import sklearn.linear_model as linear_model\n",
    "# import sklearn.datasets as datasets\n",
    "# import sklearn.metrics as metrics\n",
    "# import sklearn.decomposition as decomposition\n",
    "\n",
    "#import statsmodels.api as sm\n",
    "\n",
    "import matplotlib.pyplot as plt\n",
    "plt.style.use(['seaborn-paper', 'seaborn-white'])\n",
    "plt.matplotlib.rcParams[\"figure.dpi\"] = 120\n",
    "plt.matplotlib.rcParams['savefig.dpi'] = 120"
   ]
  },
  {
   "cell_type": "markdown",
   "metadata": {},
   "source": [
    "## US Judge Ratings"
   ]
  },
  {
   "cell_type": "code",
   "execution_count": 2,
   "metadata": {},
   "outputs": [],
   "source": [
    "df = pd.read_csv('data/USJudgeRatings.csv', sep='\\t')\n",
    "#df"
   ]
  },
  {
   "cell_type": "code",
   "execution_count": 3,
   "metadata": {},
   "outputs": [],
   "source": [
    "#pd.scatter_matrix(df, figsize=(15,10))\n",
    "#plt.show()"
   ]
  },
  {
   "cell_type": "code",
   "execution_count": 4,
   "metadata": {},
   "outputs": [],
   "source": [
    "X = DILG = df['DILG'].values\n",
    "Y = PHYS = df['PHYS'].values"
   ]
  },
  {
   "cell_type": "code",
   "execution_count": 5,
   "metadata": {},
   "outputs": [
    {
     "data": {
      "image/png": "[encoded data removed]",
      "text/plain": [
       "<matplotlib.figure.Figure at 0x10b127860>"
      ]
     },
     "metadata": {},
     "output_type": "display_data"
    }
   ],
   "source": [
    "plt.figure(figsize=(4, 3.5))\n",
    "plt.scatter(X, Y, s=25, marker='o', c='w', edgecolors='k', linewidths=1.2, label='data')\n",
    "plt.grid(1)\n",
    "plt.minorticks_on()\n",
    "plt.legend(loc='upper left')\n",
    "plt.xlabel('DILG')\n",
    "plt.ylabel('PHYS')\n",
    "plt.show()"
   ]
  },
  {
   "cell_type": "code",
   "execution_count": 6,
   "metadata": {},
   "outputs": [
    {
     "name": "stdout",
     "output_type": "stream",
     "text": [
      "102 [ 1.05359026  0.89416552]\n"
     ]
    }
   ],
   "source": [
    "param_init_q = np.random.random((2,))\n",
    "lm_line_q = model.LinearModel(param_init_q)\n",
    "loss_func_q = loss.ErrorLoss(func.Comp(func.Quantile(0.4), func.Square()))\n",
    "alg_gd_q = erm_fg(X.reshape(-1,1), Y, lm_line_q, loss_func_q)"
   ]
  },
  {
   "cell_type": "code",
   "execution_count": 7,
   "metadata": {},
   "outputs": [
    {
     "name": "stdout",
     "output_type": "stream",
     "text": [
      "95 [ 0.93755164  0.88752968]\n"
     ]
    }
   ],
   "source": [
    "param_init_e = np.random.random((2,))\n",
    "lm_line_e = model.LinearModel(param_init_e)\n",
    "loss_func_e = loss.ErrorLoss(func.Comp(func.Expectile(0.6), func.Square()))\n",
    "alg_gd_q = erm_fg(X.reshape(-1,1), Y, lm_line_e, loss_func_e)"
   ]
  },
  {
   "cell_type": "code",
   "execution_count": 8,
   "metadata": {},
   "outputs": [
    {
     "ename": "TypeError",
     "evalue": "__init__() got an unexpected keyword argument 'param_averager'",
     "output_type": "error",
     "traceback": [
      "\u001b[0;31m---------------------------------------------------------------------------\u001b[0m",
      "\u001b[0;31mTypeError\u001b[0m                                 Traceback (most recent call last)",
      "\u001b[0;32m<ipython-input-8-16cc1549baf6>\u001b[0m in \u001b[0;36m<module>\u001b[0;34m()\u001b[0m\n\u001b[1;32m     20\u001b[0m \u001b[0malg_gd\u001b[0m \u001b[0;34m=\u001b[0m \u001b[0mfg\u001b[0m\u001b[0;34m(\u001b[0m\u001b[0mlm_line\u001b[0m\u001b[0;34m,\u001b[0m \u001b[0mloss_func\u001b[0m\u001b[0;34m)\u001b[0m\u001b[0;34m\u001b[0m\u001b[0m\n\u001b[1;32m     21\u001b[0m \u001b[0malg_weights\u001b[0m \u001b[0;34m=\u001b[0m \u001b[0mweights\u001b[0m\u001b[0;34m.\u001b[0m\u001b[0mMWeights\u001b[0m\u001b[0;34m(\u001b[0m\u001b[0mavrfunc\u001b[0m\u001b[0;34m,\u001b[0m \u001b[0malg_gd\u001b[0m\u001b[0;34m)\u001b[0m\u001b[0;34m\u001b[0m\u001b[0m\n\u001b[0;32m---> 22\u001b[0;31m \u001b[0malg_pbfg\u001b[0m \u001b[0;34m=\u001b[0m \u001b[0merm_irgd\u001b[0m\u001b[0;34m(\u001b[0m\u001b[0mX\u001b[0m\u001b[0;34m.\u001b[0m\u001b[0mreshape\u001b[0m\u001b[0;34m(\u001b[0m\u001b[0;34m-\u001b[0m\u001b[0;36m1\u001b[0m\u001b[0;34m,\u001b[0m\u001b[0;36m1\u001b[0m\u001b[0;34m)\u001b[0m\u001b[0;34m,\u001b[0m \u001b[0mY\u001b[0m\u001b[0;34m,\u001b[0m \u001b[0malg_gd\u001b[0m\u001b[0;34m,\u001b[0m \u001b[0malg_weights\u001b[0m\u001b[0;34m,\u001b[0m \u001b[0mcallback\u001b[0m\u001b[0;34m=\u001b[0m\u001b[0mcallback\u001b[0m\u001b[0;34m)\u001b[0m\u001b[0;34m\u001b[0m\u001b[0m\n\u001b[0m",
      "\u001b[0;32mlib/mlgrad/irgd.pyx\u001b[0m in \u001b[0;36mmlgrad.irgd.erm_irgd (lib/mlgrad/irgd.c:6087)\u001b[0;34m()\u001b[0m\n",
      "\u001b[0;32mlib/mlgrad/irgd.pyx\u001b[0m in \u001b[0;36mmlgrad.irgd.IRGD.__init__ (lib/mlgrad/irgd.c:3815)\u001b[0;34m()\u001b[0m\n",
      "\u001b[0;31mTypeError\u001b[0m: __init__() got an unexpected keyword argument 'param_averager'"
     ]
    }
   ],
   "source": [
    "#param_init = np.random.random((2,))\n",
    "param_init = np.array([0.,-1.])\n",
    "lm_line = model.LinearModel(param_init)\n",
    "#loss_func = loss.ErrorLoss(func.Square())\n",
    "loss_func = loss.ErrorLoss(func.Absolute())\n",
    "#loss_func = loss.ErrorLoss(func.Sqrt(2.0))\n",
    "penalty_func = func.Quantile_AlphaLog(0.01, 0.5)\n",
    "#penalty_func = func.Sqrt(0.1)\n",
    "\n",
    "d = {\"u\":[],\"param\":[], \"K\":[], \"Ka\":[], 'lval':[]}\n",
    "def callback(alg):\n",
    "    d[\"u\"].append(alg.weights.average.u)\n",
    "    d[\"lval\"].append(alg.gd.lval_min)\n",
    "    d[\"param\"].append(alg.gd.model.lm_line.param.base.copy())\n",
    "    d[\"K\"].append(alg.gd.K)\n",
    "    d[\"Ka\"].append(alg.weights.average.K)\n",
    "\n",
    "#avrfunc = avragg.Average_Iterative(penalty_func, tol=1.0e-6)\n",
    "avrfunc = averager_fg(penalty_func)\n",
    "alg_gd = fg(lm_line, loss_func)\n",
    "alg_weights = weights.MWeights(avrfunc, alg_gd)\n",
    "alg_pbfg = erm_irgd(X.reshape(-1,1), Y, alg_gd, alg_weights, callback=callback)"
   ]
  },
  {
   "cell_type": "code",
   "execution_count": null,
   "metadata": {},
   "outputs": [],
   "source": [
    "xrange = np.linspace(X.min()*0.9, X.max()*1.1, 40)\n",
    "\n",
    "plt.figure(figsize=(4, 3.5))\n",
    "plt.scatter(X, Y, s=25, marker='o', c='w', edgecolors='k', linewidths=1.2, label='data')\n",
    "#plt.plot(xrange, rlm_results.predict(xrange), marker='o', label='huber', color='k', markersize=4)\n",
    "plt.plot(xrange, lm_line_q.evaluate_all(xrange.reshape(-1,1)), marker='v', label='quantile', color='k', markersize=5)\n",
    "plt.plot(xrange, lm_line_e.evaluate_all(xrange.reshape(-1,1)), marker='s', label='expectile', color='k', markersize=4)\n",
    "plt.plot(xrange, lm_line.evaluate_all(xrange.reshape(-1,1)), label='lms', color='k')\n",
    "plt.legend(loc='upper left')\n",
    "plt.grid(1)\n",
    "plt.minorticks_on()\n",
    "plt.ylabel('DILG')\n",
    "plt.xlabel('PHYS')\n",
    "plt.show()"
   ]
  },
  {
   "cell_type": "code",
   "execution_count": null,
   "metadata": {},
   "outputs": [],
   "source": [
    "def plot_log(d):\n",
    "    plt.figure(figsize=(15,4))\n",
    "    m = len(d)\n",
    "    i = 1\n",
    "    for key, vals in sorted(d.items()):\n",
    "        plt.subplot(1, m, i)\n",
    "        k_range, u_seq = zip(*enumerate(d[key]))\n",
    "        plt.plot(k_range, u_seq, marker='s', markersize=3)\n",
    "        #plt.plot(k_range[-1:], np.abs(u_seq[-1:]), marker='s', markersize=8)\n",
    "        plt.grid(1)\n",
    "        plt.title(key)\n",
    "        plt.minorticks_on()\n",
    "        i += 1\n",
    "        plt.tight_layout()\n",
    "    plt.show()\n",
    "    \n",
    "plot_log(d)"
   ]
  },
  {
   "cell_type": "code",
   "execution_count": null,
   "metadata": {
    "collapsed": true
   },
   "outputs": [],
   "source": []
  }
 ],
 "metadata": {
  "kernelspec": {
   "display_name": "Python 3",
   "language": "python",
   "name": "python3"
  },
  "language_info": {
   "codemirror_mode": {
    "name": "ipython",
    "version": 3
   },
   "file_extension": ".py",
   "mimetype": "text/x-python",
   "name": "python",
   "nbconvert_exporter": "python",
   "pygments_lexer": "ipython3",
   "version": "3.6.1"
  }
 },
 "nbformat": 4,
 "nbformat_minor": 1
}
