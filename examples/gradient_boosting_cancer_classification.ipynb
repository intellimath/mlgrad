{
 "cells": [
  {
   "cell_type": "code",
   "execution_count": 1,
   "id": "715b5f1f-92d7-4207-9825-25e2af2f83f0",
   "metadata": {},
   "outputs": [],
   "source": [
    "from mlgrad.risk import ERisk, ERiskGB\n",
    "from mlgrad.loss import SquareErrorLoss\n",
    "from mlgrad.model import LinearFuncModel, SigmaNeuronModel, FFNetworkModel, \\\n",
    "                        FFNetworkFuncModel, SigmaNeuronModelLayer, LinearModel\n",
    "from mlgrad.func import SoftPlus, Sqrt, Sigmoidal, HingeSqrt, Arctang\n",
    "\n",
    "from mlgrad import erm_fg, erm_irgd, fg, erm_fg, erisk\n",
    "from mlgrad.regr import m_regression_irls\n",
    "from mlgrad.af import averaging_function\n",
    "from mlgrad.weights import MWeights\n",
    "\n",
    "import numpy as np"
   ]
  },
  {
   "cell_type": "code",
   "execution_count": 2,
   "id": "108eeddf-036d-49d9-ab73-fcd019084c67",
   "metadata": {},
   "outputs": [],
   "source": [
    "import sklearn.datasets as datasets\n",
    "import sklearn.metrics as metrics\n",
    "import sklearn.preprocessing as preprocessing\n",
    "import matplotlib.pyplot as plt"
   ]
  },
  {
   "cell_type": "code",
   "execution_count": 3,
   "id": "587bd378-0b3b-4cc9-8ace-cbb338db4e31",
   "metadata": {},
   "outputs": [
    {
     "name": "stdout",
     "output_type": "stream",
     "text": [
      "(569, 30) float64\n",
      "(569,) float64\n"
     ]
    }
   ],
   "source": [
    "X, Y = datasets.load_breast_cancer(return_X_y=True)\n",
    "N = len(X)\n",
    "Y = 2.0*Y-1.0\n",
    "print(X.shape, X.dtype)\n",
    "print(Y.shape, Y.dtype)"
   ]
  },
  {
   "cell_type": "code",
   "execution_count": 4,
   "id": "330cba7c-5cd8-4a27-a481-b622c05fd073",
   "metadata": {},
   "outputs": [
    {
     "data": {
      "image/png": "[encoded data removed]",
      "text/plain": [
       "<Figure size 432x288 with 1 Axes>"
      ]
     },
     "metadata": {
      "needs_background": "light"
     },
     "output_type": "display_data"
    }
   ],
   "source": [
    "plt.plot(sorted(Y))\n",
    "plt.show()"
   ]
  },
  {
   "cell_type": "code",
   "execution_count": 5,
   "id": "c9c7cceb-2b8e-4741-8141-37da27586e9c",
   "metadata": {},
   "outputs": [],
   "source": [
    "X_o = preprocessing.scale(X)\n",
    "Y_o = Y.copy()"
   ]
  },
  {
   "cell_type": "code",
   "execution_count": 6,
   "id": "fc4c6feb-6ff5-4f89-b623-562969fc1705",
   "metadata": {},
   "outputs": [],
   "source": [
    "from mlgrad.boost.gb_classification import gb_fit, gb_fit_agg\n",
    "\n",
    "def new_model(n):\n",
    "    mod = SigmaNeuronModel(Sigmoidal(0.5), n)\n",
    "    mod.init_param()\n",
    "    return mod\n",
    "\n",
    "m = 50"
   ]
  },
  {
   "cell_type": "code",
   "execution_count": 7,
   "id": "c0bcff39-70ea-4225-bffb-221eddfc871d",
   "metadata": {},
   "outputs": [],
   "source": [
    "gb = gb_fit(X_o, Y_o, new_model, h=0.001, n_iter=m, n_iter2=3)\n",
    "lfm, lvals = gb.complex_model, gb.lvals"
   ]
  },
  {
   "cell_type": "code",
   "execution_count": 8,
   "id": "f6059b73-7ab1-46c5-9f5a-518b01af561c",
   "metadata": {},
   "outputs": [
    {
     "name": "stdout",
     "output_type": "stream",
     "text": [
      "[0.99999999 1.97513161 0.23371181 0.38330525 0.65143508 0.89301588\n",
      " 0.81095613 0.86977649 0.82089384 0.85459575 0.83284804 0.86920289\n",
      " 0.90287805 0.8874197  0.93732958 0.89556196 0.90140832 0.48053771\n",
      " 0.55846801 0.36755077 0.58327456 0.51410294 0.30541723 0.5773989\n",
      " 0.56184678 0.6007889  0.70010201 0.72404928 0.42473826 0.74054748\n",
      " 0.72200765 0.79866099 0.64678982 0.9387982  1.00188998 0.86870395\n",
      " 0.78807758 0.92344504 0.52466653 0.31647609 0.50921268 0.31047072\n",
      " 0.95990003 0.69222816 0.85778627 0.63194599 0.92817727 0.76328515\n",
      " 0.95185529 0.43100904]\n"
     ]
    }
   ],
   "source": [
    "print(np.asarray(lfm.weights))"
   ]
  },
  {
   "cell_type": "code",
   "execution_count": 9,
   "id": "a701e73d-087d-4ffe-9e6f-6cb41fe83738",
   "metadata": {},
   "outputs": [],
   "source": [
    "alpha=0.98\n",
    "# gb_agg = gb_fit_agg(X_o, Y_o, new_model, aggname='WM', alpha=alpha, h=0.01, n_iter=m, n_iter2=3)\n",
    "# lfm_agg, lvals_agg = gb_agg.complex_model, gb_agg.lvals"
   ]
  },
  {
   "cell_type": "code",
   "execution_count": 10,
   "id": "8bf236bb-efe6-4988-b6ac-f88ce41b7adc",
   "metadata": {},
   "outputs": [
    {
     "name": "stdout",
     "output_type": "stream",
     "text": [
      "[1.0, 1.7512559037264603, 0.045149271138926, 0.029727596335153133, 0.026881615363478405, 0.02428241457180941, 0.039331331169556935, 0.03814546011617302, 0.03924898294258199, 0.04031627961134487, 0.042289093019389906, 0.024127710960138563, 0.019791373055569546, 0.042551933627031316, 0.026046095683182002, 0.019105674405702454, 0.016986482197494747, 0.016281181777632, 0.01590593711303622, 0.016348650545280525, 0.015130457219972294, 0.01617809646081317, 0.014372636598006642, 0.014723180999245187, 0.014736689691268364, 0.014465391948407605, 0.014599045063683477, 0.013330094807616873, 0.012775911714497327, 0.014924546424216267, 0.013869991469155683, 0.018566157998108696, 0.01670656197800973, 0.014697802951658057, 0.02918344557257002, 0.016197341913565356, 0.01323091860464254, 0.019493184234228005, 0.007360598996628132, 0.01146577614118569, 0.010838183623279502, 0.009340182337021451, 0.010326738855490188, 0.017072163528440588, 0.014672224616058688, 0.005462322689527396, 0.009839086295783511, 0.0033370095775295473, 0.011057120291744221, 0.0035222814482088836]\n"
     ]
    }
   ],
   "source": [
    "print(lvals)"
   ]
  },
  {
   "cell_type": "code",
   "execution_count": 11,
   "id": "6f377a66-cf30-4cd6-9452-22665f9e4fd1",
   "metadata": {},
   "outputs": [
    {
     "data": {
      "image/png": "[encoded data removed]",
      "text/plain": [
       "<Figure size 432x288 with 1 Axes>"
      ]
     },
     "metadata": {
      "needs_background": "light"
     },
     "output_type": "display_data"
    }
   ],
   "source": [
    "plt.plot(lvals, label='ls')\n",
    "# plt.plot(lvals_agg, label='wm')\n",
    "plt.legend()\n",
    "# plt.savefig('calhousing_%.0f_lvals.eps' % (alpha*100,))\n",
    "plt.show()"
   ]
  },
  {
   "cell_type": "code",
   "execution_count": 12,
   "id": "6a2c7029-5bb8-42fa-9a8e-664ab9d25dcc",
   "metadata": {},
   "outputs": [
    {
     "name": "stderr",
     "output_type": "stream",
     "text": [
      "The PostScript backend does not support transparency; partially transparent artists will be rendered opaque.\n"
     ]
    },
    {
     "data": {
      "image/png": "[encoded data removed]",
      "text/plain": [
       "<Figure size 432x360 with 1 Axes>"
      ]
     },
     "metadata": {
      "needs_background": "light"
     },
     "output_type": "display_data"
    }
   ],
   "source": [
    "plt.figure(figsize=(6,5))\n",
    "plt.xlabel('Ранг')\n",
    "plt.ylabel('Отступ')\n",
    "plt.title(\"Распределение отступов ($m=$%s)\" % m)\n",
    "plt.plot(sorted([-lfm(X_o[k]) * Y_o[k] for k in range(N)]), linestyle='--', color='k', marker='o', label='LS')\n",
    "# plt.loglog(sorted([-lfm_agg(X_o[k]) * Y_o[k] for k in range(N)]), linestyle='-', color='k', marker='o', label=r\"WM($\\alpha$=%.2f)\" % alpha)\n",
    "plt.legend()\n",
    "plt.savefig('cancer_%.0f_%s_errors.eps' % (alpha*100,m))\n",
    "# plt.ylim(-0.1,1)\n",
    "plt.show()"
   ]
  },
  {
   "cell_type": "code",
   "execution_count": 13,
   "id": "c5db67a4-9f4f-47c6-aa8e-a3affd4d74a3",
   "metadata": {},
   "outputs": [],
   "source": [
    "Y_ls = lfm.evaluate_all(X_o)\n",
    "# Y_agg = lfm_agg.evaluate_all(X_o)"
   ]
  },
  {
   "cell_type": "code",
   "execution_count": 14,
   "id": "fa82ee45-f0fd-492e-bb79-2a68b2630aa1",
   "metadata": {},
   "outputs": [
    {
     "name": "stdout",
     "output_type": "stream",
     "text": [
      "1.0\n"
     ]
    }
   ],
   "source": [
    "acc_ls = metrics.accuracy_score(Y_o, np.sign(Y_ls))\n",
    "# acc_wm = metrics.accuracy_score(Y_o, np.sign(Y_agg))\n",
    "# print(acc_ls, acc_wm)\n",
    "print(acc_ls)"
   ]
  },
  {
   "cell_type": "code",
   "execution_count": null,
   "id": "25af0db0-288f-4024-af41-dae3895c8f0a",
   "metadata": {},
   "outputs": [],
   "source": []
  }
 ],
 "metadata": {
  "kernelspec": {
   "display_name": "Python 3 (ipykernel)",
   "language": "python",
   "name": "python3"
  },
  "language_info": {
   "codemirror_mode": {
    "name": "ipython",
    "version": 3
   },
   "file_extension": ".py",
   "mimetype": "text/x-python",
   "name": "python",
   "nbconvert_exporter": "python",
   "pygments_lexer": "ipython3",
   "version": "3.9.12"
  }
 },
 "nbformat": 4,
 "nbformat_minor": 5
}
