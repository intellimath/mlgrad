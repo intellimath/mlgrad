{
 "cells": [
  {
   "cell_type": "markdown",
   "id": "36a076b8-b752-490a-b89c-e18ee3ec768f",
   "metadata": {},
   "source": [
    "## Модуль Regr "
   ]
  },
  {
   "cell_type": "markdown",
   "id": "268d8d66-faa7-476b-8ca8-235be007246f",
   "metadata": {},
   "source": [
    "Модуль `regr` является надстройкой над пакетом [mlgrad](https://bitbucket.org/intellimath/mlgrad). Он предоставляет высокоуровненый интерфейс для решения задач регрессии на основе робастных методов. "
   ]
  },
  {
   "cell_type": "markdown",
   "id": "9914add6-07d7-4109-9cb7-b20ecdcad75d",
   "metadata": {},
   "source": [
    "#### averaging_function"
   ]
  },
  {
   "cell_type": "markdown",
   "id": "2e633ed4-d37e-49f7-ab0d-f77d128fa38f",
   "metadata": {},
   "source": [
    "`averaging_function(kind='M', *, rhofunc=func.Sqrt(0.001), alpha=0.5, tol=1.0e-8, n_iter=1000)`\n",
    "\n",
    "Функция создает экземпляр класса для вычисления агрегирующих функций.\n",
    "\n",
    "Параметр `kind:str` принимает значения \"M\", \"WM\", \"SWM\":\n",
    "\n",
    "* \"M\"\n",
    "\n",
    "  Создаетс экземпляр класса для вычисления агрегирующей функции  \n",
    "  $$\\bar z_{\\rho,\\alpha} = \\mathsf{M}_\\rho\\{z_1,\\dots,z_N\\}=\\arg\\min_{u}\\sum_{k=1}^N {\\rho_\\alpha}(z_k-u).$$\n",
    "  \n",
    "\n",
    "* \"WM\"\n",
    "\n",
    "  Создаетс экземпляр класса для вычисления агрегирующей функции \n",
    "  $$\\mathsf{WM}_{\\rho_\\alpha}\\{z_1,\\dots,z_N\\}=\\frac{1}{N}\\sum_{k=1}^N \\min(z_k, \\bar z_{\\rho_\\alpha}).$$\n",
    "\n",
    "* \"SWM\"\n",
    "\n",
    "  Создаетс экземпляр класса для вычисления агрегирующей функции \n",
    "  $$\\mathsf{SWM}_\\rho\\{z_1,\\dots,z_N\\}=\\frac{1}{N}\\sum_{k=1}^N \\frac{1}{2}(z_k + \\bar z_{\\rho_\\alpha} - \\rho(z_k - \\bar z_{\\rho_\\alpha})) .$$\n",
    "\n",
    "Параметр `rhofunc` задает функцию для вычисления сглаженной функции модуля.\n",
    "\n",
    "Параметр `alpha` используется для определения сглаженного варианта квантиля."
   ]
  },
  {
   "cell_type": "code",
   "execution_count": null,
   "id": "070fa677-f068-4c7d-b425-1f1d03f588ad",
   "metadata": {},
   "outputs": [],
   "source": []
  }
 ],
 "metadata": {
  "kernelspec": {
   "display_name": "Python 3 (ipykernel)",
   "language": "python",
   "name": "python3"
  },
  "language_info": {
   "codemirror_mode": {
    "name": "ipython",
    "version": 3
   },
   "file_extension": ".py",
   "mimetype": "text/x-python",
   "name": "python",
   "nbconvert_exporter": "python",
   "pygments_lexer": "ipython3",
   "version": "3.11.1"
  }
 },
 "nbformat": 4,
 "nbformat_minor": 5
}
