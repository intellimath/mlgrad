{
 "cells": [
  {
   "cell_type": "markdown",
   "id": "ae5461f0-3cdf-4a32-a92d-ed8f758b2168",
   "metadata": {},
   "source": [
    "# Классификация спектров"
   ]
  },
  {
   "cell_type": "code",
   "execution_count": 1,
   "id": "e2aef375-48a6-4dd7-8a6b-6956134e4869",
   "metadata": {
    "execution": {
     "iopub.execute_input": "2024-09-19T13:16:02.646126Z",
     "iopub.status.busy": "2024-09-19T13:16:02.645711Z",
     "iopub.status.idle": "2024-09-19T13:16:04.521337Z",
     "shell.execute_reply": "2024-09-19T13:16:04.520643Z",
     "shell.execute_reply.started": "2024-09-19T13:16:02.646087Z"
    }
   },
   "outputs": [],
   "source": [
    "import numpy as np\n",
    "import matplotlib.pyplot as plt\n",
    "\n",
    "from sklearn.linear_model import LinearRegression\n",
    "from sklearn.preprocessing import scale as std_scale, robust_scale\n",
    "\n",
    "from scipy.signal import find_peaks, find_peaks_cwt, peak_widths\n",
    "\n",
    "import numpy as np\n",
    "from sklearn.datasets import load_digits\n",
    "from sklearn.preprocessing import scale\n",
    "import sklearn.metrics as metrics\n",
    "\n",
    "import matplotlib.pyplot as plt\n",
    "import matplotlib.animation as ani\n",
    "\n",
    "import mlgrad.models as models\n",
    "import mlgrad.regr as regr\n",
    "import mlgrad.cls as cls\n",
    "import mlgrad.plots as plots\n",
    "import mlgrad.funcs as funcs\n",
    "import mlgrad.funcs2 as funcs2\n",
    "import mlgrad.loss as loss\n",
    "import mlgrad.gd as gd\n",
    "import mlgrad.smooth as smooth\n",
    "\n",
    "import rampy\n",
    "import pybaselines"
   ]
  },
  {
   "cell_type": "code",
   "execution_count": 2,
   "id": "a47d4358-b4ef-400f-af59-cbf362ca755a",
   "metadata": {
    "execution": {
     "iopub.execute_input": "2024-09-19T13:16:04.523066Z",
     "iopub.status.busy": "2024-09-19T13:16:04.522712Z",
     "iopub.status.idle": "2024-09-19T13:16:04.529169Z",
     "shell.execute_reply": "2024-09-19T13:16:04.528556Z",
     "shell.execute_reply.started": "2024-09-19T13:16:04.523045Z"
    }
   },
   "outputs": [],
   "source": [
    "def plot_spectra(d, ax=None):\n",
    "    if ax is None:\n",
    "        ax = plt.gca()\n",
    "    for i, key in enumerate(d):\n",
    "        Xs, Ys = d[key]\n",
    "        if key == '191':\n",
    "            color = 'b'\n",
    "            label = \"B\"\n",
    "        if key == '606':\n",
    "            color = 'r'\n",
    "            label = \"A\"\n",
    "    \n",
    "        ax.plot(np.mean(Ys, axis=0), color=color, linewidth=2.0, label=label)\n",
    "    ax.legend(loc=\"upper left\")\n",
    "    ax.set_xlabel(\"$k$ (индекс точки)\")\n",
    "    ax.set_ylabel(\"Интенсивность (нормированная)\")\n",
    "    ax.set_title(\"Спектры (усредненные) по классам и значения коэффициентов\")\n",
    "    ax.minorticks_on()\n",
    "\n",
    "def plot_params(param, ax=None):\n",
    "    if ax is None:\n",
    "        ax = plt.gca()\n",
    "    pp = np.asarray(param)\n",
    "    ymax = np.asarray(pp[1:].copy())\n",
    "    ymin = np.asarray(pp[1:].copy())\n",
    "    np.putmask(ymax, ymax<0, 0)\n",
    "    np.putmask(ymin, ymax>0, 0)\n",
    "    n = len(ymin)\n",
    "    print(n)\n",
    "    ax.vlines(range(n), ymin, ymax, color='k', linewidth=1., label=r\"Вектор коэффициентов $\\mathbf{w}$\")\n",
    "    ax.minorticks_on()\n",
    "    ax.set_ylabel(r\"$w_k$\")\n",
    "    ax.legend(loc=\"upper right\")\n"
   ]
  },
  {
   "cell_type": "code",
   "execution_count": 3,
   "id": "533061a8-d568-4955-9f9a-8c2c107d1ebf",
   "metadata": {
    "execution": {
     "iopub.execute_input": "2024-09-19T13:16:04.530464Z",
     "iopub.status.busy": "2024-09-19T13:16:04.530204Z",
     "iopub.status.idle": "2024-09-19T13:16:04.542796Z",
     "shell.execute_reply": "2024-09-19T13:16:04.540896Z",
     "shell.execute_reply.started": "2024-09-19T13:16:04.530439Z"
    }
   },
   "outputs": [],
   "source": [
    "def robust_mean(ys, tau=3.5, median=np.median):\n",
    "    med = median(ys)\n",
    "    dys = abs(ys - med)\n",
    "    zz = 0.67449 * dys / median(dys)\n",
    "    ii = (zz <= tau)\n",
    "    return ys[ii].mean()\n",
    "\n",
    "def robust_range(ys, tau=3.5, median=np.median):\n",
    "    med = median(ys)\n",
    "    dys = abs(ys - med)\n",
    "    zz = 0.6745 * dys / median(dys)\n",
    "    ii = (zz <= tau)\n",
    "    return ys[ii]\n",
    "\n",
    "def robust_indexes(ys, tau=3.5, median=np.median):\n",
    "    med = median(ys)\n",
    "    dys = abs(ys - med)\n",
    "    zz = 0.67449 * dys / median(dys)\n",
    "    return zz <= tau\n",
    "\n",
    "def postprocess_data2(Ys, tau=3.5, median=np.median):\n",
    "    N, m = Ys.shape\n",
    "    RR = []\n",
    "\n",
    "    if m % 2:\n",
    "        flag = True\n",
    "        i1, i2 = (m//2)-1, m//2\n",
    "    else:\n",
    "        flag = False\n",
    "        i1 = (m//2) + 1\n",
    "\n",
    "    for ys in Ys:\n",
    "        ys.sort()\n",
    "        if flag:\n",
    "            med = (ys[i1] + ys[i2])/2\n",
    "        else:\n",
    "            med = ys[i1]\n",
    "        dys = abs(ys - med)\n",
    "        dys.sort()\n",
    "        if flag:\n",
    "            dys_med = (dys[i1] + dys[i2]) / 2\n",
    "        else:\n",
    "            dys_med = dys[i1]\n",
    "        zs = 0.67449 * dys / dys_med\n",
    "        RR.append(ys[zs <= tau])\n",
    "    \n",
    "    Y = np.empty(N, 'd')\n",
    "    concatenate = np.concatenate\n",
    "\n",
    "    Y[0] = RR[0].mean()\n",
    "    Y[N-1] = RR[N-1].mean()\n",
    "    \n",
    "    for i in range(1, N-1):\n",
    "        ys = RR[i]\n",
    "        ys_min, ys_max = ys.min(), ys.max()\n",
    "\n",
    "        ys1 = RR[i-1]\n",
    "        ys2 = RR[i+1]\n",
    "        \n",
    "        ys1 = ys1[(ys_min <= ys1) & (ys1 <= ys_max)]        \n",
    "        ys2 = ys2[(ys_min <= ys2) & (ys2 <= ys_max)]\n",
    "\n",
    "        ys = concatenate((ys1,ys,ys2))\n",
    "        Y[i] = ys.mean()\n",
    "    \n",
    "    return Y\n",
    "\n",
    "def postprocess_data1(Ys, tau=3.5):\n",
    "    return [robust_mean(ys, tau=tau) for ys in Ys]\n"
   ]
  },
  {
   "cell_type": "code",
   "execution_count": 4,
   "id": "8c0af02b-ad24-4efe-b4bf-9c964e061041",
   "metadata": {
    "execution": {
     "iopub.execute_input": "2024-09-19T13:16:04.546958Z",
     "iopub.status.busy": "2024-09-19T13:16:04.546687Z",
     "iopub.status.idle": "2024-09-19T13:16:04.553182Z",
     "shell.execute_reply": "2024-09-19T13:16:04.552477Z",
     "shell.execute_reply.started": "2024-09-19T13:16:04.546939Z"
    }
   },
   "outputs": [],
   "source": [
    "def load_data(root):\n",
    "    import os\n",
    "    median = np.median\n",
    "    d = {}\n",
    "    for fold in os.listdir(root):\n",
    "        Xs = []\n",
    "        Ys = []\n",
    "        for fname in os.listdir(f\"{root}/{fold}\"):\n",
    "            if not fname.endswith(\".txt\"):\n",
    "                continue\n",
    "            with open(f\"{root}/{fold}/{fname}\", 'rt') as h:\n",
    "\n",
    "                xy = np.loadtxt(f\"{root}/{fold}/{fname}\", delimiter=\"\\t\")\n",
    "                xs = xy[:,0]\n",
    "                ys = xy[:,1:]\n",
    "                ys /= 1000\n",
    "\n",
    "                # plt.figure(figsize=(10,3))\n",
    "                # for y in ys:\n",
    "                #     s = abs(y - median(y))\n",
    "                #     s /= median(s)\n",
    "                #     s *= 0.67449\n",
    "                #     plt.plot(sorted(s), linewidth=0.5)\n",
    "                # plt.hlines(3.5, 0, 30, color='k', linewidth=1.5)\n",
    "                # plt.show()\n",
    "\n",
    "                # ys = postprocess_data1(ys, tau=3.0)\n",
    "                ys = postprocess_data2(ys, tau=3.0)\n",
    "\n",
    "                # ys_sorted = np.sort(ys, axis=1)\n",
    "                # ys = np.mean(ys_sorted[:,:27], axis=1)\n",
    "                Xs.append(xs[42:])\n",
    "                Ys.append(ys[42:])\n",
    "\n",
    "        Xs, Ys =  np.array(Xs), np.array(Ys)\n",
    "\n",
    "        # med = np.median(Ys, axis=0)\n",
    "        # dd = abs(Ys - med)\n",
    "        # ss = dd.sum(axis=1)\n",
    "        # ii = robust_indexes(ss, tau=3.5)\n",
    "        # Xs, Ys = Xs[ii,:], Ys[ii,:]\n",
    "        \n",
    "        if '191' in fold:\n",
    "            d['191'] = (Xs, Ys)\n",
    "        if '606' in fold:\n",
    "            d['606'] = (Xs, Ys)\n",
    "            \n",
    "    return d"
   ]
  },
  {
   "cell_type": "code",
   "execution_count": 5,
   "id": "e29a5532-bb53-41a1-8fa8-ef33c8506581",
   "metadata": {
    "execution": {
     "iopub.execute_input": "2024-09-19T13:16:04.554452Z",
     "iopub.status.busy": "2024-09-19T13:16:04.554178Z",
     "iopub.status.idle": "2024-09-19T13:16:09.825957Z",
     "shell.execute_reply": "2024-09-19T13:16:09.823243Z",
     "shell.execute_reply.started": "2024-09-19T13:16:04.554424Z"
    }
   },
   "outputs": [
    {
     "ename": "TypeError",
     "evalue": "'module' object is not callable",
     "output_type": "error",
     "traceback": [
      "\u001b[0;31m---------------------------------------------------------------------------\u001b[0m",
      "\u001b[0;31mTypeError\u001b[0m                                 Traceback (most recent call last)",
      "Cell \u001b[0;32mIn[5], line 17\u001b[0m\n\u001b[1;32m     15\u001b[0m xs \u001b[38;5;241m=\u001b[39m Xs[k]\n\u001b[1;32m     16\u001b[0m ys \u001b[38;5;241m=\u001b[39m Ys[k]\n\u001b[0;32m---> 17\u001b[0m ys \u001b[38;5;241m=\u001b[39m \u001b[43msmooth\u001b[49m\u001b[38;5;241;43m.\u001b[39;49m\u001b[43mwhittaker\u001b[49m\u001b[43m(\u001b[49m\u001b[43mys\u001b[49m\u001b[43m,\u001b[49m\u001b[43m \u001b[49m\u001b[43mtau2\u001b[49m\u001b[38;5;241;43m=\u001b[39;49m\u001b[38;5;241;43m10.0\u001b[39;49m\u001b[43m,\u001b[49m\u001b[43m \u001b[49m\u001b[43mh\u001b[49m\u001b[38;5;241;43m=\u001b[39;49m\u001b[38;5;241;43m0.001\u001b[39;49m\u001b[43m,\u001b[49m\u001b[43m \u001b[49m\u001b[43mfunc\u001b[49m\u001b[38;5;241;43m=\u001b[39;49m\u001b[43mfuncs\u001b[49m\u001b[38;5;241;43m.\u001b[39;49m\u001b[43mSquare\u001b[49m\u001b[43m(\u001b[49m\u001b[43m)\u001b[49m\u001b[43m)\u001b[49m\n\u001b[1;32m     18\u001b[0m \u001b[38;5;66;03m# ys = rampy.smooth(xs, ys, method=\"whittaker\", Lambda=4.0)\u001b[39;00m\n\u001b[1;32m     19\u001b[0m \u001b[38;5;66;03m# bs, _ = pybaselines.whittaker.aspls(ys, lam=1.0e5)\u001b[39;00m\n\u001b[1;32m     20\u001b[0m \u001b[38;5;66;03m# bs, _ = pybaselines.morphological.mor(ys)\u001b[39;00m\n\u001b[1;32m     21\u001b[0m \u001b[38;5;66;03m# ys = ys - bs\u001b[39;00m\n\u001b[1;32m     22\u001b[0m \u001b[38;5;66;03m# ys = smooth.whittaker(ys, tau2=10.0)\u001b[39;00m\n\u001b[1;32m     23\u001b[0m ys \u001b[38;5;241m-\u001b[39m\u001b[38;5;241m=\u001b[39m ys\u001b[38;5;241m.\u001b[39mmin()\n",
      "\u001b[0;31mTypeError\u001b[0m: 'module' object is not callable"
     ]
    },
    {
     "data": {
      "text/plain": [
       "<Figure size 1500x700 with 0 Axes>"
      ]
     },
     "metadata": {},
     "output_type": "display_data"
    }
   ],
   "source": [
    "d = load_data(\"Table\")\n",
    "\n",
    "for i, key in enumerate(d):\n",
    "    nn = len(d)\n",
    "    Xs, Ys = d[key]\n",
    "    if key == '191':\n",
    "        color = 'b'\n",
    "        title = \"B\"\n",
    "    if key == '606':\n",
    "        color = 'r'\n",
    "        title = \"A\"\n",
    "\n",
    "    plt.figure(figsize=(15,7))\n",
    "    for k in range(len(Xs)):\n",
    "        xs = Xs[k]\n",
    "        ys = Ys[k]\n",
    "        ys = smooth.whittaker(ys, tau2=10.0, h=0.001, func=funcs.Square())\n",
    "        # ys = rampy.smooth(xs, ys, method=\"whittaker\", Lambda=4.0)\n",
    "        # bs, _ = pybaselines.whittaker.aspls(ys, lam=1.0e5)\n",
    "        # bs, _ = pybaselines.morphological.mor(ys)\n",
    "        # ys = ys - bs\n",
    "        # ys = smooth.whittaker(ys, tau2=10.0)\n",
    "        ys -= ys.min()\n",
    "        ys /= np.trapz(ys, xs)\n",
    "        ys *= 1000\n",
    "        Ys[k,:] = ys\n",
    "        \n",
    "        # plt.plot(ys, color=color, linewidth=0.2, marker='s', markersize=2)\n",
    "        plt.plot(ys, color=color, linewidth=0.2)    \n",
    "        \n",
    "    plt.plot(np.median(Ys, axis=0), color='k', linewidth=2.0)\n",
    "    plt.hlines(0, -10, 1000, linewidth=0.5, colors='k', linestyle='--')\n",
    "    # plt.xlim(100, 300)\n",
    "    plt.minorticks_on()\n",
    "    plt.xlabel(\"Индекс (длины волны)\")\n",
    "    plt.ylabel(\"Интенсивность (нормированная)\")\n",
    "    plt.title(f\"Класс: {title}\")\n",
    "    plt.grid(1)\n",
    "    plt.tight_layout()\n",
    "    plt.show()\n",
    "\n",
    "    # plt.figure(figsize=(10,3))\n",
    "    # plt.title(f\"Класс: {title}\")\n",
    "    # ys_med = \n",
    "    # for y in Ys:\n",
    "    #     s = abs(y - np.median(y))\n",
    "    #     z = 0.67449 * s / np.median(s)\n",
    "    #     plt.plot(sorted(z), linewidth=0.5)\n",
    "    # plt.hlines(3.5, 0, 30, color=color, linewidth=1.5)\n",
    "    # plt.show()\n"
   ]
  },
  {
   "cell_type": "code",
   "execution_count": null,
   "id": "a46ed682-7e95-4805-a85a-c1a4175a1986",
   "metadata": {
    "execution": {
     "iopub.status.busy": "2024-09-19T13:16:09.826639Z",
     "iopub.status.idle": "2024-09-19T13:16:09.826886Z",
     "shell.execute_reply": "2024-09-19T13:16:09.826779Z",
     "shell.execute_reply.started": "2024-09-19T13:16:09.826767Z"
    }
   },
   "outputs": [],
   "source": [
    "for i, key in enumerate(d):\n",
    "    Xs, Ys = d[key]\n",
    "    if key == '606': # А\n",
    "        XX2 = Ys\n",
    "        YY2 = np.full(len(Ys), +1, 'd')\n",
    "        print(f\"Класс A: {len(Ys)} спектров\")\n",
    "    if key == '191': # B\n",
    "        XX1 = Ys\n",
    "        YY1 = np.full(len(Ys), -1, 'd')\n",
    "        print(f\"Класс B: {len(Ys)} спектров\")\n",
    "\n",
    "XX = np.concatenate((XX1, XX2), axis=0) \n",
    "YY = np.concatenate((YY1, YY2), axis=0) \n",
    "print(f\"Всего {len(XX)} спектров\")\n",
    "\n",
    "print(\"Класс A: метка +1\")\n",
    "print(\"Класс B: метка -1\")\n",
    "\n",
    "XX = np.ascontiguousarray(XX)\n",
    "YY = np.ascontiguousarray(YY)\n",
    "\n",
    "N, n = XX.shape\n",
    "print(r\"Размерность вектора x:\", n)"
   ]
  },
  {
   "cell_type": "code",
   "execution_count": null,
   "id": "3b4456c4-4081-4953-8166-fa6c119caf92",
   "metadata": {
    "execution": {
     "iopub.status.busy": "2024-09-19T13:16:09.827980Z",
     "iopub.status.idle": "2024-09-19T13:16:09.828306Z",
     "shell.execute_reply": "2024-09-19T13:16:09.828160Z",
     "shell.execute_reply.started": "2024-09-19T13:16:09.828145Z"
    }
   },
   "outputs": [],
   "source": [
    "from sklearn.decomposition import PCA"
   ]
  },
  {
   "cell_type": "code",
   "execution_count": null,
   "id": "93f84834-5df6-418e-98d8-dce8466f88ff",
   "metadata": {
    "execution": {
     "iopub.status.busy": "2024-09-19T13:16:09.829217Z",
     "iopub.status.idle": "2024-09-19T13:16:09.829520Z",
     "shell.execute_reply": "2024-09-19T13:16:09.829377Z",
     "shell.execute_reply.started": "2024-09-19T13:16:09.829363Z"
    }
   },
   "outputs": [],
   "source": [
    "pca1 = PCA(2)\n",
    "pca1.fit(XX1.T)\n",
    "U1 = pca1.transform(XX1.T)\n",
    "print(U1.shape, YY1.shape)\n",
    "\n",
    "pca2 = PCA(2)\n",
    "pca2.fit(XX2.T)\n",
    "U2 = pca2.transform(XX2.T)\n",
    "print(U2.shape, YY2.shape)\n",
    "\n",
    "plt.figure(figsize=(5,4))\n",
    "plt.scatter(U1[:,0], U1[:,1], label='1')\n",
    "plt.scatter(U2[:,0], U2[:,1], label='2')\n",
    "plt.legend()\n",
    "plt.show()"
   ]
  },
  {
   "cell_type": "code",
   "execution_count": null,
   "id": "930d14ff-e1de-409c-a8d2-0dc6203ae3d5",
   "metadata": {
    "execution": {
     "iopub.status.busy": "2024-09-19T13:16:09.830633Z",
     "iopub.status.idle": "2024-09-19T13:16:09.831124Z",
     "shell.execute_reply": "2024-09-19T13:16:09.830947Z",
     "shell.execute_reply.started": "2024-09-19T13:16:09.830930Z"
    }
   },
   "outputs": [],
   "source": [
    "pca1 = PCA(2)\n",
    "pca1.fit(XX1)\n",
    "U1_1 = pca1.transform(XX1)\n",
    "U1_2 = pca1.transform(XX2)\n",
    "pca2 = PCA(2)\n",
    "pca2.fit(XX2)\n",
    "U2_1 = pca2.transform(XX1)\n",
    "U2_2 = pca2.transform(XX2)\n",
    "\n",
    "plt.figure(figsize=(11,5))\n",
    "plt.subplot(1,2,1)\n",
    "plt.scatter(U1_1[:,0], U1_1[:,1], c='r')\n",
    "plt.scatter(U1_2[:,0], U1_2[:,1], c='b')\n",
    "plt.subplot(1,2,2)\n",
    "plt.scatter(U2_1[:,0], U2_1[:,1], c='r')\n",
    "plt.scatter(U2_2[:,0], U2_2[:,1], c='b')\n",
    "plt.tight_layout()\n",
    "plt.show()"
   ]
  },
  {
   "cell_type": "code",
   "execution_count": null,
   "id": "95836de4-b5df-4516-bcac-348771ee6883",
   "metadata": {
    "execution": {
     "iopub.status.busy": "2024-09-19T13:16:09.831759Z",
     "iopub.status.idle": "2024-09-19T13:16:09.832068Z",
     "shell.execute_reply": "2024-09-19T13:16:09.831924Z",
     "shell.execute_reply.started": "2024-09-19T13:16:09.831909Z"
    }
   },
   "outputs": [],
   "source": [
    "hinge_loss = loss.MarginLoss(funcs.Hinge(1.0))\n",
    "l2_reg = funcs2.SquareNorm()\n",
    "l1_reg = funcs2.AbsoluteNorm()\n",
    "soft_l1_reg = funcs2.SoftAbsoluteNorm(0.001)\n",
    "sigmoidal_func = funcs.Sigmoidal(6.0)\n",
    "sigmoidal_func2 = funcs.Sigmoidal(2.0)\n",
    "sq_loss = loss.ErrorLoss(funcs.Square())"
   ]
  },
  {
   "cell_type": "markdown",
   "id": "22616300-e61f-4316-9edd-7ce9f15816d6",
   "metadata": {},
   "source": [
    "### Линейное разделение (функция Хинжа, без регуляризации)"
   ]
  },
  {
   "cell_type": "markdown",
   "id": "c3e579d7-a115-4b2c-bc99-cbae75ec4388",
   "metadata": {},
   "source": [
    "$$\n",
    "w^\\star = \\arg \\min_{\\mathbf{w}} \n",
    "\\frac{1}{N}\\sum_{k=1}^N \n",
    "H\\bigl(y_k[w_0+(\\mathbf{w},\\mathbf{x}_k)]\\bigr)\n",
    "$$\n",
    "$$\n",
    "H(u) = \\max(-u,0)\n",
    "$$"
   ]
  },
  {
   "cell_type": "code",
   "execution_count": null,
   "id": "86acfeda-b420-4cff-9042-d7ee90dff0c2",
   "metadata": {
    "execution": {
     "iopub.status.busy": "2024-09-19T13:16:09.832945Z",
     "iopub.status.idle": "2024-09-19T13:16:09.833240Z",
     "shell.execute_reply": "2024-09-19T13:16:09.833130Z",
     "shell.execute_reply.started": "2024-09-19T13:16:09.833118Z"
    }
   },
   "outputs": [],
   "source": [
    "# График функции Хинжа\n",
    "plt.figure(figsize=(6,3))\n",
    "plt.plot([-1,0,1],[1,0,0], linewidth=2, color='k')\n",
    "plt.title(\"Функция Хинжа\")\n",
    "plt.hlines(0,-1,0, linestyles='dashed', color='LightGrey')\n",
    "plt.vlines(0,0,1, linestyles='dashed', color='LightGrey')\n",
    "plt.xlabel(r\"$u$\")\n",
    "plt.ylabel(r\"$H(u)$\")\n",
    "plt.show()"
   ]
  },
  {
   "cell_type": "code",
   "execution_count": null,
   "id": "d903d77a-a34d-4391-ae12-4a3272de7fb2",
   "metadata": {
    "execution": {
     "iopub.status.busy": "2024-09-19T13:16:09.834324Z",
     "iopub.status.idle": "2024-09-19T13:16:09.834568Z",
     "shell.execute_reply": "2024-09-19T13:16:09.834462Z",
     "shell.execute_reply.started": "2024-09-19T13:16:09.834451Z"
    }
   },
   "outputs": [],
   "source": [
    "mod1 = models.LinearModel(n) # линейная модель"
   ]
  },
  {
   "cell_type": "code",
   "execution_count": null,
   "id": "57161d2a-49b2-4d8b-aa19-54fe3b7f82fd",
   "metadata": {
    "execution": {
     "iopub.status.busy": "2024-09-19T13:16:09.835573Z",
     "iopub.status.idle": "2024-09-19T13:16:09.835937Z",
     "shell.execute_reply": "2024-09-19T13:16:09.835775Z",
     "shell.execute_reply.started": "2024-09-19T13:16:09.835755Z"
    }
   },
   "outputs": [],
   "source": [
    "alg1 = cls.classification_as_regr(XX, YY, mod1,\n",
    "                                  lossfunc=hinge_loss, \n",
    "                                  normalizer=gd.Masked(mod1.n_param, 1.0e-5),\n",
    "                                  h=0.001, n_iter=10000)\n",
    "\n",
    "plt.figure(figsize=(12,4))\n",
    "plots.plot_losses(alg1)\n",
    "plt.show()\n",
    "\n",
    "print(\"Относительное число правильных ответов:\", \n",
    "        metrics.accuracy_score(YY1, np.sign(mod1.evaluate_all(XX1))),\n",
    "        metrics.accuracy_score(YY2, np.sign(mod1.evaluate_all(XX2))))"
   ]
  },
  {
   "cell_type": "code",
   "execution_count": null,
   "id": "2d09a9d8-b75d-41fe-ab8b-f7120f377db2",
   "metadata": {
    "execution": {
     "iopub.status.busy": "2024-09-19T13:16:09.836859Z",
     "iopub.status.idle": "2024-09-19T13:16:09.837209Z",
     "shell.execute_reply": "2024-09-19T13:16:09.837038Z",
     "shell.execute_reply.started": "2024-09-19T13:16:09.837024Z"
    }
   },
   "outputs": [],
   "source": [
    "plt.figure(figsize=(12,5))\n",
    "plots.plot_cls_function(mod1, XX, YY)\n",
    "plt.show()"
   ]
  },
  {
   "cell_type": "code",
   "execution_count": null,
   "id": "8f11de63-b301-41a0-be7f-c894e984a713",
   "metadata": {
    "execution": {
     "iopub.status.busy": "2024-09-19T13:16:09.838603Z",
     "iopub.status.idle": "2024-09-19T13:16:09.838954Z",
     "shell.execute_reply": "2024-09-19T13:16:09.838800Z",
     "shell.execute_reply.started": "2024-09-19T13:16:09.838784Z"
    }
   },
   "outputs": [],
   "source": [
    "plt.figure(figsize=(15,7))\n",
    "ax1 = plt.gca()\n",
    "plot_spectra(d, ax=ax1)\n",
    "ax2 = plt.twinx(ax1)\n",
    "plot_params(mod1.param, ax=ax2)\n",
    "plt.show()"
   ]
  },
  {
   "cell_type": "code",
   "execution_count": null,
   "id": "a0dcc073-f480-4a38-86c8-7596ed14d644",
   "metadata": {},
   "outputs": [],
   "source": []
  },
  {
   "cell_type": "markdown",
   "id": "9caafaa1-265b-4eb5-b5c6-2fb99a200f89",
   "metadata": {},
   "source": [
    "### Линейное разделение (функция Хинжа, L2 регуляризация)"
   ]
  },
  {
   "cell_type": "markdown",
   "id": "06f9853e-e689-40f7-8f66-850929320e1d",
   "metadata": {},
   "source": [
    "$$\n",
    "w^\\star = \\arg \\min_{\\mathbf{w}} \\frac{1}{N} \\sum_{k=1}^N \n",
    "H\\bigl(y_k[w_0+(\\mathbf{w},\\mathbf{x}_k)]\\bigr) + \\tau\\|\\mathbf{w}\\|_2^2,\n",
    "$$\n",
    "$$\n",
    "H(u) = \\max(-u,0)\n",
    "$$\n",
    "$$\n",
    "\\|\\mathbf{w}\\|_2^2 = w_1^2+\\cdots+w_n^2\n",
    "$$"
   ]
  },
  {
   "cell_type": "code",
   "execution_count": null,
   "id": "0bebbb05-3a49-4e03-bede-ffbfb1d0da8c",
   "metadata": {
    "execution": {
     "iopub.status.busy": "2024-09-19T13:16:09.841764Z",
     "iopub.status.idle": "2024-09-19T13:16:09.842033Z",
     "shell.execute_reply": "2024-09-19T13:16:09.841926Z",
     "shell.execute_reply.started": "2024-09-19T13:16:09.841914Z"
    }
   },
   "outputs": [],
   "source": [
    "mod2 = models.LinearModel(n)"
   ]
  },
  {
   "cell_type": "code",
   "execution_count": null,
   "id": "7eacc31a-0491-43ce-b6eb-48b56d3200b1",
   "metadata": {
    "execution": {
     "iopub.status.busy": "2024-09-19T13:16:09.844328Z",
     "iopub.status.idle": "2024-09-19T13:16:09.844700Z",
     "shell.execute_reply": "2024-09-19T13:16:09.844575Z",
     "shell.execute_reply.started": "2024-09-19T13:16:09.844560Z"
    }
   },
   "outputs": [],
   "source": [
    "alg2 = cls.classification_as_regr(XX, YY, mod2,\n",
    "                                 lossfunc=hinge_loss, \n",
    "                                 regnorm=l2_reg, tau=0.4,\n",
    "                                 normalizer=gd.Masked(mod2.n_param, 1.0e-5),\n",
    "                                 h=0.001, n_iter=10000)\n",
    "plt.figure(figsize=(12,5))\n",
    "plots.plot_losses(alg2)\n",
    "plt.show()\n",
    "\n",
    "print(\"Относительное число правильных ответов:\", \n",
    "        metrics.accuracy_score(YY1, np.sign(mod2.evaluate_all(XX1))),\n",
    "        metrics.accuracy_score(YY2, np.sign(mod2.evaluate_all(XX2))))"
   ]
  },
  {
   "cell_type": "code",
   "execution_count": null,
   "id": "169ec44e-36e2-483d-8b04-309214026ee3",
   "metadata": {
    "execution": {
     "iopub.status.busy": "2024-09-19T13:16:09.845853Z",
     "iopub.status.idle": "2024-09-19T13:16:09.846271Z",
     "shell.execute_reply": "2024-09-19T13:16:09.846075Z",
     "shell.execute_reply.started": "2024-09-19T13:16:09.846057Z"
    }
   },
   "outputs": [],
   "source": [
    "plt.figure(figsize=(12,5))\n",
    "plots.plot_cls_function(mod2, XX, YY)\n",
    "plt.show()"
   ]
  },
  {
   "cell_type": "code",
   "execution_count": null,
   "id": "968879c2-f066-485b-bfe0-834e30e2c5ee",
   "metadata": {
    "execution": {
     "iopub.status.busy": "2024-09-19T13:16:09.848612Z",
     "iopub.status.idle": "2024-09-19T13:16:09.849449Z",
     "shell.execute_reply": "2024-09-19T13:16:09.849178Z",
     "shell.execute_reply.started": "2024-09-19T13:16:09.849145Z"
    }
   },
   "outputs": [],
   "source": [
    "plt.figure(figsize=(15,8))\n",
    "ax1 = plt.gca()\n",
    "plot_spectra(d, ax=ax1)\n",
    "ax2 = plt.twinx(ax1)\n",
    "plot_params(mod2.param, ax=ax2)\n",
    "plt.show()"
   ]
  },
  {
   "cell_type": "markdown",
   "id": "f94f8c8a-7fef-4baf-a221-52f0f1aadcbb",
   "metadata": {},
   "source": [
    "### Линейное разделение (функция Хинжа, L1 регуляризацией)"
   ]
  },
  {
   "cell_type": "markdown",
   "id": "24aa8396-7d08-4361-a698-8cbd546073c7",
   "metadata": {},
   "source": [
    "$$\n",
    "w^\\star = \\arg \\min_{\\mathbf{w}} \\frac{1}{N} \\sum_{k=1}^N \n",
    "H\\bigl(y_k[w_0+(\\mathbf{w},\\mathbf{x}_k)]\\bigr) + \n",
    "\\tau\\|\\mathbf{w}\\|_1,\n",
    "$$\n",
    "$$\n",
    "H(u) = \\max(-u,0)\n",
    "$$\n",
    "$$\n",
    "\\|\\mathbf{w}\\|_1 = |w_1|+\\cdots+|w_n|\n",
    "$$"
   ]
  },
  {
   "cell_type": "code",
   "execution_count": null,
   "id": "db40d93f-9fee-4545-9f59-3f5fe284b206",
   "metadata": {
    "execution": {
     "iopub.status.busy": "2024-09-19T13:16:09.851139Z",
     "iopub.status.idle": "2024-09-19T13:16:09.853106Z",
     "shell.execute_reply": "2024-09-19T13:16:09.852575Z",
     "shell.execute_reply.started": "2024-09-19T13:16:09.852480Z"
    }
   },
   "outputs": [],
   "source": [
    "mod3 = models.LinearModel(n)"
   ]
  },
  {
   "cell_type": "code",
   "execution_count": null,
   "id": "897f8aa4-eae1-4cf4-92ed-81b6014d2cc6",
   "metadata": {
    "execution": {
     "iopub.status.busy": "2024-09-19T13:16:09.854605Z",
     "iopub.status.idle": "2024-09-19T13:16:09.855254Z",
     "shell.execute_reply": "2024-09-19T13:16:09.855075Z",
     "shell.execute_reply.started": "2024-09-19T13:16:09.855056Z"
    }
   },
   "outputs": [],
   "source": [
    "alg3 = cls.classification_as_regr(XX, YY, mod3,\n",
    "                                 lossfunc=hinge_loss, \n",
    "                                 regnorm=l1_reg, tau=0.005,\n",
    "                                 normalizer=gd.Masked(mod3.n_param, 1.0e-5),\n",
    "                                 h=0.001, n_iter=10000)\n",
    "plt.figure(figsize=(12,5))\n",
    "plots.plot_losses(alg3)\n",
    "plt.show()\n",
    "\n",
    "print(\"Относительное число правильных ответов:\", \n",
    "        metrics.accuracy_score(YY1, np.sign(mod3.evaluate_all(XX1))),\n",
    "        metrics.accuracy_score(YY2, np.sign(mod3.evaluate_all(XX2))))\n",
    "\n",
    "print((mod3.param.base != 0).sum())"
   ]
  },
  {
   "cell_type": "code",
   "execution_count": null,
   "id": "0409876a-6ccd-420f-b136-0dc9f28adaed",
   "metadata": {
    "execution": {
     "iopub.status.busy": "2024-09-19T13:16:09.856804Z",
     "iopub.status.idle": "2024-09-19T13:16:09.857323Z",
     "shell.execute_reply": "2024-09-19T13:16:09.857059Z",
     "shell.execute_reply.started": "2024-09-19T13:16:09.857039Z"
    }
   },
   "outputs": [],
   "source": [
    "plt.figure(figsize=(12,5))\n",
    "plots.plot_cls_function(mod3, XX, YY)\n",
    "plt.show()"
   ]
  },
  {
   "cell_type": "code",
   "execution_count": null,
   "id": "f80351da-7106-4a55-8e2e-2541dd45ea31",
   "metadata": {
    "execution": {
     "iopub.status.busy": "2024-09-19T13:16:09.858537Z",
     "iopub.status.idle": "2024-09-19T13:16:09.858919Z",
     "shell.execute_reply": "2024-09-19T13:16:09.858778Z",
     "shell.execute_reply.started": "2024-09-19T13:16:09.858763Z"
    }
   },
   "outputs": [],
   "source": [
    "plt.figure(figsize=(15,8))\n",
    "ax1 = plt.gca()\n",
    "plot_spectra(d, ax=ax1)\n",
    "ax2 = plt.twinx(ax1)\n",
    "plot_params(mod3.param, ax=ax2)\n",
    "plt.show()"
   ]
  },
  {
   "cell_type": "code",
   "execution_count": null,
   "id": "850bb639-2675-4a4d-99f9-22d0efa819a4",
   "metadata": {
    "execution": {
     "iopub.status.busy": "2024-09-19T13:16:09.861297Z",
     "iopub.status.idle": "2024-09-19T13:16:09.861731Z",
     "shell.execute_reply": "2024-09-19T13:16:09.861545Z",
     "shell.execute_reply.started": "2024-09-19T13:16:09.861528Z"
    }
   },
   "outputs": [],
   "source": [
    "counts = np.zeros(XX.shape[1], 'i')\n",
    "qwals = []\n",
    "for i in range(50):\n",
    "    _mod = models.LinearModel(n)\n",
    "    for j in range(2):\n",
    "        _alg = cls.classification_as_regr(XX, YY, _mod,\n",
    "                                     lossfunc=hinge_loss, \n",
    "                                     regnorm=l1_reg, tau=0.003,\n",
    "                                     normalizer=gd.Masked(_mod.n_param, 1.0e-5),\n",
    "                                     h=0.001, n_iter=10000)\n",
    "    _qwal = metrics.accuracy_score(YY, np.sign(_mod.evaluate_all(XX)))\n",
    "    qwals.append(_qwal)\n",
    "    \n",
    "    I = np.argwhere(abs(_alg.risk.param.base[1:]) >= 0.001)[:,0]\n",
    "    counts[I] += 1\n",
    "\n",
    "# print(counts)"
   ]
  },
  {
   "cell_type": "code",
   "execution_count": null,
   "id": "98b65c3e-673d-4d82-987c-20a4615f9f7c",
   "metadata": {
    "execution": {
     "iopub.status.busy": "2024-09-19T13:16:09.863823Z",
     "iopub.status.idle": "2024-09-19T13:16:09.864339Z",
     "shell.execute_reply": "2024-09-19T13:16:09.864116Z",
     "shell.execute_reply.started": "2024-09-19T13:16:09.864095Z"
    }
   },
   "outputs": [],
   "source": [
    "plt.figure(figsize=(15,8))\n",
    "ax1 = plt.gca()\n",
    "plot_spectra(d, ax=ax1)\n",
    "ax2 = plt.twinx(ax1)\n",
    "plot_params(counts, ax=ax2)\n",
    "plt.show()\n",
    "\n",
    "plt.hist(qwals, bins=10)\n",
    "plt.show()"
   ]
  },
  {
   "cell_type": "code",
   "execution_count": null,
   "id": "d1509b58-375a-4ea5-8179-04f62ddaf7fd",
   "metadata": {
    "execution": {
     "iopub.status.busy": "2024-09-19T13:16:09.866814Z",
     "iopub.status.idle": "2024-09-19T13:16:09.870460Z",
     "shell.execute_reply": "2024-09-19T13:16:09.869833Z",
     "shell.execute_reply.started": "2024-09-19T13:16:09.869747Z"
    }
   },
   "outputs": [],
   "source": [
    "I1 = np.argwhere(counts > 5)[:,0]\n",
    "XXI = np.ascontiguousarray(XX[:,I1])\n",
    "print(XXI.shape, YY.shape)"
   ]
  },
  {
   "cell_type": "code",
   "execution_count": null,
   "id": "c7c6ff8f-f52b-4f6f-b8e6-abf52dae9417",
   "metadata": {
    "execution": {
     "iopub.status.busy": "2024-09-19T13:16:09.872439Z",
     "iopub.status.idle": "2024-09-19T13:16:09.873024Z",
     "shell.execute_reply": "2024-09-19T13:16:09.872671Z",
     "shell.execute_reply.started": "2024-09-19T13:16:09.872651Z"
    }
   },
   "outputs": [],
   "source": [
    "mod3_i = models.LinearModel(XXI.shape[1])"
   ]
  },
  {
   "cell_type": "code",
   "execution_count": null,
   "id": "a263888b-c8e3-47bd-a1ec-396ac35f25a5",
   "metadata": {
    "execution": {
     "iopub.status.busy": "2024-09-19T13:16:09.875854Z",
     "iopub.status.idle": "2024-09-19T13:16:09.877739Z",
     "shell.execute_reply": "2024-09-19T13:16:09.876810Z",
     "shell.execute_reply.started": "2024-09-19T13:16:09.876720Z"
    }
   },
   "outputs": [],
   "source": [
    "alg3_i = cls.classification_as_regr(XXI, YY, mod3_i,\n",
    "                                 lossfunc=hinge_loss, \n",
    "                                 regnorm=l1_reg, tau=0.003,\n",
    "                                 normalizer=gd.Masked(mod3_i.n_param, 1.0e-5),\n",
    "                                 h=0.001, n_iter=10000)\n",
    "plt.figure(figsize=(12,5))\n",
    "plots.plot_losses(alg3_i)\n",
    "plt.show()\n",
    "\n",
    "print(\"Относительное число правильных ответов:\", \n",
    "        metrics.accuracy_score(YY1, np.sign(mod3_i.evaluate_all(np.ascontiguousarray(XX1[:,I1])))),\n",
    "        metrics.accuracy_score(YY2, np.sign(mod3_i.evaluate_all(np.ascontiguousarray(XX2[:,I1])))))\n",
    "\n",
    "print((mod3_i.param.base != 0).sum())"
   ]
  },
  {
   "cell_type": "code",
   "execution_count": null,
   "id": "976521f0-61d7-4503-b803-24dea11aaf96",
   "metadata": {
    "execution": {
     "iopub.status.busy": "2024-09-19T13:16:09.879450Z",
     "iopub.status.idle": "2024-09-19T13:16:09.880607Z",
     "shell.execute_reply": "2024-09-19T13:16:09.880226Z",
     "shell.execute_reply.started": "2024-09-19T13:16:09.880179Z"
    }
   },
   "outputs": [],
   "source": [
    "p = np.zeros(XX.shape[1]+1, 'd')\n",
    "p[I1] = mod3_i.param[1:]\n",
    "p[0] = mod3_i.param[0]\n",
    "\n",
    "plt.figure(figsize=(15,8))\n",
    "ax1 = plt.gca()\n",
    "plot_spectra(d, ax=ax1)\n",
    "ax2 = plt.twinx(ax1)\n",
    "plot_params(p, ax=ax2)\n",
    "plt.show()\n"
   ]
  },
  {
   "cell_type": "markdown",
   "id": "08846d96-9b06-44a5-804d-4a4a384c19d3",
   "metadata": {},
   "source": [
    "## Линейное разделение (сигмоидальная функция)"
   ]
  },
  {
   "cell_type": "markdown",
   "id": "38e211d1-ea14-4134-8cc5-5101f1e08c87",
   "metadata": {},
   "source": [
    "$$\n",
    "y = \\sigma\\bigl(w_0 + (\\mathbf{w},\\mathbf{x})\\bigr)\n",
    "$$\n",
    "где\n",
    "$$\n",
    "\\sigma(s) = \\mathrm{th}(s) = \\frac{e^{\\alpha x} - e^{-\\alpha x}}{e^{\\alpha x} + e^{-\\alpha x}}\n",
    "$$"
   ]
  },
  {
   "cell_type": "markdown",
   "id": "92fa9452-10e8-4380-b4f6-30e950dddc28",
   "metadata": {},
   "source": [
    "$$\n",
    "w^\\star = \\arg \\min_{\\mathbf{w}} \\frac{1}{N} \\sum_{k=1}^N \n",
    "\\bigl(\\sigma(w_0+(\\mathbf{w},\\mathbf{x}_k)) - y_k\\bigr)^2 \n",
    "$$\n"
   ]
  },
  {
   "cell_type": "code",
   "execution_count": null,
   "id": "dbc87c3d-d78b-4eea-9a4f-68507a0af140",
   "metadata": {
    "execution": {
     "iopub.status.busy": "2024-09-19T13:16:09.889586Z",
     "iopub.status.idle": "2024-09-19T13:16:09.892540Z",
     "shell.execute_reply": "2024-09-19T13:16:09.892043Z",
     "shell.execute_reply.started": "2024-09-19T13:16:09.892009Z"
    }
   },
   "outputs": [],
   "source": [
    "sigmoidal_func = funcs.Sigmoidal(6.0)\n",
    "mod1_s = models.SigmaNeuronModel(sigmoidal_func, n)"
   ]
  },
  {
   "cell_type": "code",
   "execution_count": null,
   "id": "911edba3-944f-44ff-9715-7a7d9e7790fe",
   "metadata": {
    "execution": {
     "iopub.status.busy": "2024-09-19T13:16:09.895453Z",
     "iopub.status.idle": "2024-09-19T13:16:09.896257Z",
     "shell.execute_reply": "2024-09-19T13:16:09.895937Z",
     "shell.execute_reply.started": "2024-09-19T13:16:09.895905Z"
    }
   },
   "outputs": [],
   "source": [
    "alg1_s = cls.classification_as_regr(XX, YY, mod1_s,\n",
    "                                 lossfunc=sq_loss,\n",
    "                                 normalizer=gd.Masked(mod1_s.n_param, 1.0e-4),\n",
    "                                 h=0.001, n_iter=5000)\n",
    "plt.figure(figsize=(12,3))\n",
    "plt.plot(alg1_s.lvals)\n",
    "plt.show()\n",
    "\n",
    "print(\"Относительное число правильных ответов:\", \n",
    "      metrics.accuracy_score(YY, np.sign(mod1_s.evaluate_all(XX))))"
   ]
  },
  {
   "cell_type": "code",
   "execution_count": null,
   "id": "c7737972-ff18-4d67-9ea1-79dd80612d15",
   "metadata": {
    "execution": {
     "iopub.status.busy": "2024-09-19T13:16:09.898509Z",
     "iopub.status.idle": "2024-09-19T13:16:09.899382Z",
     "shell.execute_reply": "2024-09-19T13:16:09.899088Z",
     "shell.execute_reply.started": "2024-09-19T13:16:09.899058Z"
    }
   },
   "outputs": [],
   "source": [
    "plt.figure(figsize=(12,5))\n",
    "plots.plot_cls_function(mod1_s, XX, YY)\n",
    "plt.show()"
   ]
  },
  {
   "cell_type": "code",
   "execution_count": null,
   "id": "fd344684-3974-47e0-8658-007bf02026ae",
   "metadata": {
    "execution": {
     "iopub.status.busy": "2024-09-19T13:16:09.902067Z",
     "iopub.status.idle": "2024-09-19T13:16:09.902727Z",
     "shell.execute_reply": "2024-09-19T13:16:09.902443Z",
     "shell.execute_reply.started": "2024-09-19T13:16:09.902413Z"
    }
   },
   "outputs": [],
   "source": [
    "plt.figure(figsize=(15,8))\n",
    "ax1 = plt.gca()\n",
    "plot_spectra(d, ax=ax1)\n",
    "ax2 = plt.twinx(ax1)\n",
    "plot_params(mod1_s, ax=ax2)\n",
    "plt.show()"
   ]
  },
  {
   "cell_type": "markdown",
   "id": "32f56d4c-50e6-48c6-b303-8b83f5a2dd19",
   "metadata": {
    "execution": {
     "iopub.execute_input": "2024-03-14T15:47:45.726655Z",
     "iopub.status.busy": "2024-03-14T15:47:45.725661Z",
     "iopub.status.idle": "2024-03-14T15:47:45.732908Z",
     "shell.execute_reply": "2024-03-14T15:47:45.730831Z",
     "shell.execute_reply.started": "2024-03-14T15:47:45.726580Z"
    }
   },
   "source": [
    "### Линейное разделение (максимизация отступа, с L2 регуляризацией)"
   ]
  },
  {
   "cell_type": "markdown",
   "id": "cc71ee25-beee-45bb-a90d-b2922250831d",
   "metadata": {},
   "source": [
    "$$\n",
    "w^\\star = \\arg \\min_{\\mathbf{w}} \\frac{1}{N} \\sum_{k=1}^N \n",
    "\\bigl(\\sigma(w_0+(\\mathbf{w},\\mathbf{x}_k)) - y_k\\bigr)^2 + \n",
    "\\tau\\|\\mathbf{w}\\|_2^2,\n",
    "$$\n",
    "$$\n",
    "\\|\\mathbf{w}\\|_2^2 = w_1^2+\\cdots+w_n^2\n",
    "$$"
   ]
  },
  {
   "cell_type": "code",
   "execution_count": null,
   "id": "346a846f-7b98-478f-913a-3c2e7db604d7",
   "metadata": {
    "execution": {
     "iopub.status.busy": "2024-09-19T13:16:09.907480Z",
     "iopub.status.idle": "2024-09-19T13:16:09.908974Z",
     "shell.execute_reply": "2024-09-19T13:16:09.908715Z",
     "shell.execute_reply.started": "2024-09-19T13:16:09.908670Z"
    }
   },
   "outputs": [],
   "source": [
    "mod2_s = models.SigmaNeuronModel(sigmoidal_func, n)"
   ]
  },
  {
   "cell_type": "code",
   "execution_count": null,
   "id": "41bf2d20-42ff-4ea8-93ba-6b73cc8d4c5d",
   "metadata": {
    "execution": {
     "iopub.status.busy": "2024-09-19T13:16:09.911635Z",
     "iopub.status.idle": "2024-09-19T13:16:09.912300Z",
     "shell.execute_reply": "2024-09-19T13:16:09.911994Z",
     "shell.execute_reply.started": "2024-09-19T13:16:09.911971Z"
    }
   },
   "outputs": [],
   "source": [
    "alg2_s = cls.classification_as_regr(XX, YY, mod2_s,\n",
    "                                 lossfunc=sq_loss, \n",
    "                                 regnorm=soft_l1_reg, tau=0.1,\n",
    "                                 normalizer=gd.Masked(mod2_s.n_param, 1.0e-5),\n",
    "                                 h=0.001, n_iter=5000)\n",
    "plt.figure(figsize=(12,5))\n",
    "plots.plot_losses(alg2_s)\n",
    "plt.show()\n",
    "\n",
    "metrics.accuracy_score(YY, np.sign(mod2_s.evaluate_all(XX)))"
   ]
  },
  {
   "cell_type": "code",
   "execution_count": null,
   "id": "fa7454e8-1770-4339-bada-de8c9d28d47e",
   "metadata": {
    "execution": {
     "iopub.status.busy": "2024-09-19T13:16:09.913526Z",
     "iopub.status.idle": "2024-09-19T13:16:09.914141Z",
     "shell.execute_reply": "2024-09-19T13:16:09.913905Z",
     "shell.execute_reply.started": "2024-09-19T13:16:09.913867Z"
    }
   },
   "outputs": [],
   "source": [
    "plt.figure(figsize=(12,5))\n",
    "plots.plot_cls_function(mod2_s, XX, YY)\n",
    "plt.show()"
   ]
  },
  {
   "cell_type": "code",
   "execution_count": null,
   "id": "97e6123c-f8de-43fd-b3f6-f99f9953a8f6",
   "metadata": {
    "execution": {
     "iopub.status.busy": "2024-09-19T13:16:09.915734Z",
     "iopub.status.idle": "2024-09-19T13:16:09.916945Z",
     "shell.execute_reply": "2024-09-19T13:16:09.916109Z",
     "shell.execute_reply.started": "2024-09-19T13:16:09.916081Z"
    }
   },
   "outputs": [],
   "source": [
    "plt.figure(figsize=(15,8))\n",
    "ax1 = plt.gca()\n",
    "plot_spectra(d, ax=ax1)\n",
    "ax2 = plt.twinx(ax1)\n",
    "plot_params(mod2_s.param, ax=ax2)\n",
    "plt.show()"
   ]
  },
  {
   "cell_type": "markdown",
   "id": "9e814c06-2c5b-4f4b-9f97-188b5045ac78",
   "metadata": {
    "execution": {
     "iopub.execute_input": "2024-03-14T15:47:45.726655Z",
     "iopub.status.busy": "2024-03-14T15:47:45.725661Z",
     "iopub.status.idle": "2024-03-14T15:47:45.732908Z",
     "shell.execute_reply": "2024-03-14T15:47:45.730831Z",
     "shell.execute_reply.started": "2024-03-14T15:47:45.726580Z"
    }
   },
   "source": [
    "### Линейное разделение (максимизация отступа, с L1 регуляризацией)"
   ]
  },
  {
   "cell_type": "markdown",
   "id": "fc4365fc-048e-4e79-b040-2897c0814f26",
   "metadata": {},
   "source": [
    "$$\n",
    "w^\\star = \\arg \\min_{\\mathbf{w}} \\frac{1}{N} \\sum_{k=1}^N \n",
    "\\sigma\\bigl(y_k[w_0+(\\mathbf{w},\\mathbf{x}_k)]\\bigr) + \\tau\\|\\mathbf{w}\\|_1,\n",
    "$$\n",
    "$$\n",
    "\\|\\mathbf{w}\\|_1 = |w_1|+\\cdots+|w_n|\n",
    "$$"
   ]
  },
  {
   "cell_type": "code",
   "execution_count": null,
   "id": "4578f97d-8dd6-4b5f-98ac-1542e3b80108",
   "metadata": {
    "execution": {
     "iopub.status.busy": "2024-09-19T13:16:09.920696Z",
     "iopub.status.idle": "2024-09-19T13:16:09.923802Z",
     "shell.execute_reply": "2024-09-19T13:16:09.923405Z",
     "shell.execute_reply.started": "2024-09-19T13:16:09.923371Z"
    }
   },
   "outputs": [],
   "source": [
    "mod3_s = models.SigmaNeuronModel(sigmoidal_func2, n)"
   ]
  },
  {
   "cell_type": "code",
   "execution_count": null,
   "id": "17ede0f3-de90-481c-b8e9-d3a8c07d0818",
   "metadata": {
    "execution": {
     "iopub.status.busy": "2024-09-19T13:16:09.927771Z",
     "iopub.status.idle": "2024-09-19T13:16:09.928738Z",
     "shell.execute_reply": "2024-09-19T13:16:09.928460Z",
     "shell.execute_reply.started": "2024-09-19T13:16:09.928431Z"
    }
   },
   "outputs": [],
   "source": [
    "alg3_s = cls.classification_as_regr(XX, YY, mod3_s,\n",
    "                                 lossfunc=sq_loss, \n",
    "                                 regnorm=l1_reg, tau=0.01,\n",
    "                                 normalizer=gd.Masked(mod3_s.n_param, 1.0e-5),\n",
    "                                 h=0.001, n_iter=10000, n_restart=2)\n",
    "plt.figure(figsize=(12,5))\n",
    "plots.plot_losses(alg3_s)\n",
    "plt.show()\n",
    "\n",
    "print(\"Относительное число правильных ответов:\", \n",
    "      metrics.accuracy_score(YY1, np.sign(mod3_s.evaluate_all(XX1))),\n",
    "      metrics.accuracy_score(YY2, np.sign(mod3_s.evaluate_all(XX2))),\n",
    "      metrics.accuracy_score(YY, np.sign(mod3_s.evaluate_all(XX))),)\n",
    "\n",
    "print((mod3_s.param.base != 0).sum())"
   ]
  },
  {
   "cell_type": "code",
   "execution_count": null,
   "id": "68b21450-993a-4019-80ac-62dfefce5713",
   "metadata": {
    "execution": {
     "iopub.status.busy": "2024-09-19T13:16:09.930652Z",
     "iopub.status.idle": "2024-09-19T13:16:09.931284Z",
     "shell.execute_reply": "2024-09-19T13:16:09.930968Z",
     "shell.execute_reply.started": "2024-09-19T13:16:09.930938Z"
    }
   },
   "outputs": [],
   "source": [
    "plt.figure(figsize=(12,5))\n",
    "plots.plot_cls_function(mod3_s, XX, YY)\n",
    "plt.show()"
   ]
  },
  {
   "cell_type": "code",
   "execution_count": null,
   "id": "d4af9476-ceb2-423c-8eb3-d84cc56abd04",
   "metadata": {
    "execution": {
     "iopub.status.busy": "2024-09-19T13:16:09.935558Z",
     "iopub.status.idle": "2024-09-19T13:16:09.936508Z",
     "shell.execute_reply": "2024-09-19T13:16:09.936230Z",
     "shell.execute_reply.started": "2024-09-19T13:16:09.936185Z"
    }
   },
   "outputs": [],
   "source": [
    "plt.figure(figsize=(15,8))\n",
    "ax1 = plt.gca()\n",
    "plot_spectra(d, ax=ax1)\n",
    "ax2 = plt.twinx(ax1)\n",
    "plot_params(mod3_s.param, ax=ax2)\n",
    "plt.show()"
   ]
  },
  {
   "cell_type": "code",
   "execution_count": null,
   "id": "6309be35-5378-4b6a-a1dc-2e7f21b36e83",
   "metadata": {
    "execution": {
     "iopub.status.busy": "2024-09-19T13:16:09.939582Z",
     "iopub.status.idle": "2024-09-19T13:16:09.941145Z",
     "shell.execute_reply": "2024-09-19T13:16:09.940331Z",
     "shell.execute_reply.started": "2024-09-19T13:16:09.940200Z"
    }
   },
   "outputs": [],
   "source": [
    "counts = np.zeros(XX.shape[1], 'i')\n",
    "qwals = []\n",
    "for i in range(50):\n",
    "    _mod = models.SigmaNeuronModel(sigmoidal_func2, n)\n",
    "    _alg = cls.classification_as_regr(XX, YY, _mod,\n",
    "                                     lossfunc=sq_loss, \n",
    "                                     regnorm=l1_reg, tau=0.01,\n",
    "                                     normalizer=gd.Masked(_mod.n_param, 1.0e-5),\n",
    "                                     h=0.001, n_iter=10000, n_restart=2)\n",
    "    _qwal = metrics.accuracy_score(YY, np.sign(_mod.evaluate_all(XX)))\n",
    "    qwals.append(_qwal)\n",
    "    \n",
    "    I = np.argwhere(abs(_alg.risk.param.base[1:]) >= 0.001)[:,0]\n",
    "    counts[I] += 1\n",
    "\n",
    "# print(counts)"
   ]
  },
  {
   "cell_type": "code",
   "execution_count": null,
   "id": "a3a755e9-ece1-4735-bcd5-b05c69e95c87",
   "metadata": {
    "execution": {
     "iopub.status.busy": "2024-09-19T13:16:09.944855Z",
     "iopub.status.idle": "2024-09-19T13:16:09.945594Z",
     "shell.execute_reply": "2024-09-19T13:16:09.945240Z",
     "shell.execute_reply.started": "2024-09-19T13:16:09.945211Z"
    }
   },
   "outputs": [],
   "source": [
    "plt.figure(figsize=(15,8))\n",
    "ax1 = plt.gca()\n",
    "plot_spectra(d, ax=ax1)\n",
    "ax2 = plt.twinx(ax1)\n",
    "plot_params(counts, ax=ax2)\n",
    "plt.show()"
   ]
  },
  {
   "cell_type": "code",
   "execution_count": null,
   "id": "88727eee-b192-4847-b596-f954c7daa79f",
   "metadata": {
    "execution": {
     "iopub.status.busy": "2024-09-19T13:16:09.947439Z",
     "iopub.status.idle": "2024-09-19T13:16:09.951239Z",
     "shell.execute_reply": "2024-09-19T13:16:09.950069Z",
     "shell.execute_reply.started": "2024-09-19T13:16:09.949921Z"
    }
   },
   "outputs": [],
   "source": [
    "plt.hist(qwals, rwidth=0.9)\n",
    "plt.show()"
   ]
  },
  {
   "cell_type": "code",
   "execution_count": null,
   "id": "00231488-8773-47d8-b636-c0366cd70e7d",
   "metadata": {
    "execution": {
     "iopub.status.busy": "2024-09-19T13:16:09.955212Z",
     "iopub.status.idle": "2024-09-19T13:16:09.957338Z",
     "shell.execute_reply": "2024-09-19T13:16:09.956504Z",
     "shell.execute_reply.started": "2024-09-19T13:16:09.956361Z"
    }
   },
   "outputs": [],
   "source": [
    "I1 = np.argwhere(counts > 5)[:,0]\n",
    "XXI = np.ascontiguousarray(XX[:,I1])\n",
    "print(XXI.shape, YY.shape)"
   ]
  },
  {
   "cell_type": "code",
   "execution_count": null,
   "id": "cea07580-b090-40f1-8a36-40614c916a7f",
   "metadata": {
    "execution": {
     "iopub.status.busy": "2024-09-19T13:16:09.961246Z",
     "iopub.status.idle": "2024-09-19T13:16:09.961927Z",
     "shell.execute_reply": "2024-09-19T13:16:09.961632Z",
     "shell.execute_reply.started": "2024-09-19T13:16:09.961605Z"
    }
   },
   "outputs": [],
   "source": [
    "mod3_s1 = models.SigmaNeuronModel(sigmoidal_func2, XXI.shape[1])\n",
    "alg3_s1 = cls.classification_as_regr(XXI, YY, mod3_s1,\n",
    "                                 lossfunc=sq_loss, \n",
    "                                 regnorm=l1_reg, tau=0.005,\n",
    "                                 normalizer=gd.Masked(mod3_s1.n_param, 1.0e-5),\n",
    "                                 h=0.001, n_iter=10000, n_restart=1)\n",
    "plt.figure(figsize=(12,5))\n",
    "plots.plot_losses(alg3_s1)\n",
    "plt.show()\n",
    "\n",
    "print(\"Относительное число правильных ответов:\", \n",
    "      metrics.accuracy_score(YY1, np.sign(mod3_s1.evaluate_all(np.ascontiguousarray(XX1[:,I1])))),\n",
    "      metrics.accuracy_score(YY2, np.sign(mod3_s1.evaluate_all(np.ascontiguousarray(XX2[:,I1])))),\n",
    "      metrics.accuracy_score(YY, np.sign(mod3_s1.evaluate_all(XXI))),)\n",
    "\n",
    "print((mod3_s1.param.base != 0).sum())"
   ]
  },
  {
   "cell_type": "code",
   "execution_count": null,
   "id": "fa9a2a8d-56b5-4272-a513-62a0c51afd1e",
   "metadata": {
    "execution": {
     "iopub.status.busy": "2024-09-19T13:16:09.963882Z",
     "iopub.status.idle": "2024-09-19T13:16:09.964759Z",
     "shell.execute_reply": "2024-09-19T13:16:09.964435Z",
     "shell.execute_reply.started": "2024-09-19T13:16:09.964398Z"
    }
   },
   "outputs": [],
   "source": [
    "p = np.zeros(XX.shape[1]+1, 'd')\n",
    "p[I1] = mod3_s1.param[1:]\n",
    "p[0] = mod3_s1.param[0]\n",
    "\n",
    "plt.figure(figsize=(15,8))\n",
    "ax1 = plt.gca()\n",
    "plot_spectra(d, ax=ax1)\n",
    "ax2 = plt.twinx(ax1)\n",
    "plot_params(p, ax=ax2)\n",
    "plt.show()\n"
   ]
  },
  {
   "cell_type": "code",
   "execution_count": null,
   "id": "07d6aad7-3dcb-48e6-a6f5-daf31ccc82bf",
   "metadata": {
    "execution": {
     "iopub.status.busy": "2024-09-19T13:16:09.969486Z",
     "iopub.status.idle": "2024-09-19T13:16:09.971415Z",
     "shell.execute_reply": "2024-09-19T13:16:09.970471Z",
     "shell.execute_reply.started": "2024-09-19T13:16:09.970375Z"
    },
    "jp-MarkdownHeadingCollapsed": true
   },
   "outputs": [],
   "source": [
    "n_hidden = 10\n",
    "linear4 = models.LinearLayer(XX.shape[1], n_hidden)\n",
    "scaler4 = models.ScaleLayer(sigmoidal_func, n_hidden)\n",
    "body4 = models.FFNetworkModel()\n",
    "body4.add(linear4)\n",
    "body4.add(scaler4)\n",
    "head4 = models.LinearModel(n_hidden)\n",
    "mod4_s = models.FFNetworkFuncModel(head4, body4)\n",
    "mod4_s.allocate()\n",
    "mod4_s.init_param()"
   ]
  },
  {
   "cell_type": "code",
   "execution_count": null,
   "id": "ac41b23a-d57f-443a-88a8-6610206bda3c",
   "metadata": {
    "execution": {
     "iopub.status.busy": "2024-09-19T13:16:09.974481Z",
     "iopub.status.idle": "2024-09-19T13:16:09.975906Z",
     "shell.execute_reply": "2024-09-19T13:16:09.975571Z",
     "shell.execute_reply.started": "2024-09-19T13:16:09.975543Z"
    }
   },
   "outputs": [],
   "source": [
    "alg4_s = cls.classification_as_regr(XX, YY, mod4_s,\n",
    "                                 lossfunc=sq_loss, \n",
    "                                 regnorm=l1_reg, tau=0.01,\n",
    "                                 normalizer=gd.Masked(mod4_s.n_param, 1.0e-5),\n",
    "                                 h=0.001, n_iter=10000)\n",
    "plt.figure(figsize=(12,5))\n",
    "plots.plot_losses(alg4_s)\n",
    "plt.show()\n",
    "\n",
    "print(\"Относительное число правильных ответов:\", \n",
    "      metrics.accuracy_score(YY1, np.sign(mod4_s.evaluate_all(XX1))),\n",
    "      metrics.accuracy_score(YY2, np.sign(mod4_s.evaluate_all(XX2))))"
   ]
  },
  {
   "cell_type": "code",
   "execution_count": null,
   "id": "5eb590b3-cd5a-4ce3-9bae-cb79245dbd92",
   "metadata": {
    "execution": {
     "iopub.status.busy": "2024-09-19T13:16:09.978779Z",
     "iopub.status.idle": "2024-09-19T13:16:09.979565Z",
     "shell.execute_reply": "2024-09-19T13:16:09.979225Z",
     "shell.execute_reply.started": "2024-09-19T13:16:09.979194Z"
    }
   },
   "outputs": [],
   "source": [
    "plt.figure(figsize=(12,5))\n",
    "plots.plot_cls_function(mod4_s, XX, YY)\n",
    "plt.show()"
   ]
  },
  {
   "cell_type": "code",
   "execution_count": null,
   "id": "8253549a-b3d1-4465-8632-78ba6d366fcc",
   "metadata": {
    "execution": {
     "iopub.status.busy": "2024-09-19T13:16:09.983835Z",
     "iopub.status.idle": "2024-09-19T13:16:09.986560Z",
     "shell.execute_reply": "2024-09-19T13:16:09.985915Z",
     "shell.execute_reply.started": "2024-09-19T13:16:09.985786Z"
    }
   },
   "outputs": [],
   "source": [
    "plt.figure(figsize=(20,4))\n",
    "plot_params(mod4_s)\n",
    "plt.vlines([n_hidden+XX.shape[1]*i for i in range(n_hidden)], 0,4)\n",
    "plt.show()"
   ]
  },
  {
   "cell_type": "code",
   "execution_count": null,
   "id": "1ea7ad42-8de1-41f3-a26c-63ff25bc1830",
   "metadata": {
    "execution": {
     "iopub.status.busy": "2024-09-19T13:16:09.989132Z",
     "iopub.status.idle": "2024-09-19T13:16:09.990020Z",
     "shell.execute_reply": "2024-09-19T13:16:09.989703Z",
     "shell.execute_reply.started": "2024-09-19T13:16:09.989644Z"
    },
    "jp-MarkdownHeadingCollapsed": true
   },
   "outputs": [],
   "source": [
    "n_hidden = 7\n",
    "linear5 = models.LinearLayer(XX.shape[1], n_hidden)\n",
    "scaler5 = models.ScaleLayer(sigmoidal_func, n_hidden)\n",
    "body5 = models.FFNetworkModel()\n",
    "body5.add(linear5)\n",
    "body5.add(scaler5)\n",
    "head5 = models.LinearModel(n_hidden)\n",
    "mod5_s = models.FFNetworkFuncModel(head5, body5)\n",
    "mod5_s.allocate()\n",
    "mod5_s.init_param()"
   ]
  },
  {
   "cell_type": "code",
   "execution_count": null,
   "id": "d80aea06-8a28-4157-aea0-f312b4eeafd7",
   "metadata": {
    "execution": {
     "iopub.status.busy": "2024-09-19T13:16:09.992363Z",
     "iopub.status.idle": "2024-09-19T13:16:09.993004Z",
     "shell.execute_reply": "2024-09-19T13:16:09.992690Z",
     "shell.execute_reply.started": "2024-09-19T13:16:09.992660Z"
    }
   },
   "outputs": [],
   "source": [
    "alg5_s = cls.classification_as_regr(XX, YY, mod5_s,\n",
    "                                 lossfunc=hinge_loss, \n",
    "                                 regnorm=l1_reg, tau=0.001,\n",
    "                                 normalizer=gd.Masked(mod5_s.n_param, 1.0e-4),\n",
    "                                 h=0.001, n_iter=10000, n_restart=3)\n",
    "plt.figure(figsize=(12,5))\n",
    "plots.plot_losses(alg5_s)\n",
    "plt.show()\n",
    "\n",
    "print(\"Относительное число правильных ответов:\", \n",
    "      metrics.accuracy_score(YY1, np.sign(mod5_s.evaluate_all(XX1))),\n",
    "      metrics.accuracy_score(YY2, np.sign(mod5_s.evaluate_all(XX2))))"
   ]
  },
  {
   "cell_type": "code",
   "execution_count": null,
   "id": "e25a219f-961d-40f6-b18b-53399c583304",
   "metadata": {
    "execution": {
     "iopub.status.busy": "2024-09-19T13:16:09.996089Z",
     "iopub.status.idle": "2024-09-19T13:16:09.996789Z",
     "shell.execute_reply": "2024-09-19T13:16:09.996528Z",
     "shell.execute_reply.started": "2024-09-19T13:16:09.996493Z"
    }
   },
   "outputs": [],
   "source": [
    "plt.figure(figsize=(12,5))\n",
    "plots.plot_cls_function(mod5_s, XX, YY)\n",
    "plt.show()"
   ]
  },
  {
   "cell_type": "code",
   "execution_count": null,
   "id": "f23c43fd-ed9e-44cb-aa74-cd34cdfd4fe6",
   "metadata": {
    "execution": {
     "iopub.status.busy": "2024-09-19T13:16:10.001465Z",
     "iopub.status.idle": "2024-09-19T13:16:10.003068Z",
     "shell.execute_reply": "2024-09-19T13:16:10.002514Z",
     "shell.execute_reply.started": "2024-09-19T13:16:10.002461Z"
    }
   },
   "outputs": [],
   "source": [
    "plt.figure(figsize=(20,4))\n",
    "plot_params(mod5_s)\n",
    "plt.vlines([n_hidden+(XX.shape[1]+1)*i for i in range(n_hidden)], 0,3)\n",
    "plt.show()"
   ]
  },
  {
   "cell_type": "code",
   "execution_count": null,
   "id": "28f153aa-d64a-4cc6-8a3b-35cd75cf5061",
   "metadata": {},
   "outputs": [],
   "source": []
  }
 ],
 "metadata": {
  "kernelspec": {
   "display_name": "Python 3 (ipykernel)",
   "language": "python",
   "name": "python3"
  },
  "language_info": {
   "codemirror_mode": {
    "name": "ipython",
    "version": 3
   },
   "file_extension": ".py",
   "mimetype": "text/x-python",
   "name": "python",
   "nbconvert_exporter": "python",
   "pygments_lexer": "ipython3",
   "version": "3.12.6"
  }
 },
 "nbformat": 4,
 "nbformat_minor": 5
}
