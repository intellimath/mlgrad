{
 "cells": [
  {
   "cell_type": "code",
   "execution_count": 1,
   "id": "5082039a-392b-489d-91ce-15250a777c2f",
   "metadata": {
    "execution": {
     "iopub.execute_input": "2024-05-19T14:46:56.728898Z",
     "iopub.status.busy": "2024-05-19T14:46:56.728233Z",
     "iopub.status.idle": "2024-05-19T14:46:57.453587Z",
     "shell.execute_reply": "2024-05-19T14:46:57.452962Z",
     "shell.execute_reply.started": "2024-05-19T14:46:56.728859Z"
    }
   },
   "outputs": [],
   "source": [
    "from mlgrad.af import averaging_function\n",
    "from mlgrad.funcs import Quantile_Sqrt\n",
    "from mlgrad.funcs2 import SquareDiff\n",
    "\n",
    "import numpy as np\n",
    "import matplotlib.pyplot as plt"
   ]
  },
  {
   "cell_type": "code",
   "execution_count": 2,
   "id": "0e0eece8-538b-4cf8-9111-c7ba6087110d",
   "metadata": {
    "execution": {
     "iopub.execute_input": "2024-05-19T15:08:18.687060Z",
     "iopub.status.busy": "2024-05-19T15:08:18.686627Z",
     "iopub.status.idle": "2024-05-19T15:08:18.694814Z",
     "shell.execute_reply": "2024-05-19T15:08:18.693786Z",
     "shell.execute_reply.started": "2024-05-19T15:08:18.687028Z"
    }
   },
   "outputs": [],
   "source": [
    "class RWittakerSmoother:\n",
    "    #\n",
    "    def __init__(self, func=None, h=0.01, n_iter=1000, tol=1.0e-8):\n",
    "        self.func = func\n",
    "        self.func2 = SquareDiff()\n",
    "        self.n_iter = n_iter\n",
    "        self.tol = tol\n",
    "        self.h = h\n",
    "        self.tau = 1.0e5\n",
    "    #\n",
    "    def fit(self, Y):\n",
    "        Z = Y.copy()\n",
    "        \n",
    "        qval = qval_min = self.func2.evaluate(Z)\n",
    "        qvals = [qval]\n",
    "        Z_min = Z.copy()\n",
    "        for K in range(self.n_iter):\n",
    "            qval_prev = qval\n",
    "\n",
    "            grad = Z - X + self.tau * self.func2.gradient(Z)\n",
    "            Z -= self.h * grad\n",
    "\n",
    "            ZX = Z - X\n",
    "            qval = (ZX * ZX).sum() + self.tau * self.func2.evaluate(Z)\n",
    "            qvals.append(qval)\n",
    "\n",
    "            if qval < qval_min:\n",
    "                qval_min = qval\n",
    "                Z_min = Z.copy()\n",
    "\n",
    "            if abs(qval - qval_prev) / (1 + qval_min):\n",
    "                break\n",
    "\n",
    "        self.Z = Z_min\n",
    "        self.K = K+1\n",
    "        self.qvals = qvals\n"
   ]
  },
  {
   "cell_type": "code",
   "execution_count": null,
   "id": "a468a03c-f419-40a5-8ea3-7b781636c57a",
   "metadata": {},
   "outputs": [],
   "source": []
  }
 ],
 "metadata": {
  "kernelspec": {
   "display_name": "Python 3 (ipykernel)",
   "language": "python",
   "name": "python3"
  },
  "language_info": {
   "codemirror_mode": {
    "name": "ipython",
    "version": 3
   },
   "file_extension": ".py",
   "mimetype": "text/x-python",
   "name": "python",
   "nbconvert_exporter": "python",
   "pygments_lexer": "ipython3",
   "version": "3.13.2"
  }
 },
 "nbformat": 4,
 "nbformat_minor": 5
}
