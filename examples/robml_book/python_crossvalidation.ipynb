{
 "cells": [
  {
   "cell_type": "markdown",
   "metadata": {},
   "source": [
    "# Метод скользящего контроля"
   ]
  },
  {
   "cell_type": "code",
   "execution_count": 1,
   "metadata": {
    "collapsed": false,
    "jupyter": {
     "outputs_hidden": false
    }
   },
   "outputs": [],
   "source": [
    "import numpy as np\n",
    "import pandas as pd\n",
    "import matplotlib.pyplot as plt\n",
    "\n",
    "import sklearn.neighbors as neighbors\n",
    "import sklearn.metrics as metrics\n",
    "import sklearn.model_selection as model_selection"
   ]
  },
  {
   "cell_type": "code",
   "execution_count": 2,
   "metadata": {
    "collapsed": false,
    "jupyter": {
     "outputs_hidden": false
    }
   },
   "outputs": [],
   "source": [
    "# список признаков\n",
    "attrs = [\"sepal length\", \"sepal width\", \"petal length\", \"petal width\"]\n",
    "\n",
    "# загрузка данных (dataframe)\n",
    "iris_df = pd.read_csv(\"data/iris.data\", sep=\",\", names = attrs+['class'])\n",
    "\n",
    "# имена классов\n",
    "cls_names = iris_df[\"class\"]\n",
    "cls_names = cls_names.unique()\n",
    "cls_names = list(cls_names)\n",
    "\n",
    "# номера классов\n",
    "cls_col = iris_df[\"class\"]\n",
    "cls_ids = cls_col.apply(lambda c: cls_names.index(c)+1)"
   ]
  },
  {
   "cell_type": "code",
   "execution_count": 3,
   "metadata": {
    "collapsed": false,
    "jupyter": {
     "outputs_hidden": false
    }
   },
   "outputs": [
    {
     "data": {
      "text/html": [
       "<div>\n",
       "<style scoped>\n",
       "    .dataframe tbody tr th:only-of-type {\n",
       "        vertical-align: middle;\n",
       "    }\n",
       "\n",
       "    .dataframe tbody tr th {\n",
       "        vertical-align: top;\n",
       "    }\n",
       "\n",
       "    .dataframe thead th {\n",
       "        text-align: right;\n",
       "    }\n",
       "</style>\n",
       "<table border=\"1\" class=\"dataframe\">\n",
       "  <thead>\n",
       "    <tr style=\"text-align: right;\">\n",
       "      <th></th>\n",
       "      <th>sepal length</th>\n",
       "      <th>sepal width</th>\n",
       "      <th>petal length</th>\n",
       "      <th>petal width</th>\n",
       "      <th>class</th>\n",
       "    </tr>\n",
       "  </thead>\n",
       "  <tbody>\n",
       "    <tr>\n",
       "      <th>0</th>\n",
       "      <td>5.1</td>\n",
       "      <td>3.5</td>\n",
       "      <td>1.4</td>\n",
       "      <td>0.2</td>\n",
       "      <td>Iris-setosa</td>\n",
       "    </tr>\n",
       "    <tr>\n",
       "      <th>1</th>\n",
       "      <td>4.9</td>\n",
       "      <td>3.0</td>\n",
       "      <td>1.4</td>\n",
       "      <td>0.2</td>\n",
       "      <td>Iris-setosa</td>\n",
       "    </tr>\n",
       "    <tr>\n",
       "      <th>2</th>\n",
       "      <td>4.7</td>\n",
       "      <td>3.2</td>\n",
       "      <td>1.3</td>\n",
       "      <td>0.2</td>\n",
       "      <td>Iris-setosa</td>\n",
       "    </tr>\n",
       "    <tr>\n",
       "      <th>3</th>\n",
       "      <td>4.6</td>\n",
       "      <td>3.1</td>\n",
       "      <td>1.5</td>\n",
       "      <td>0.2</td>\n",
       "      <td>Iris-setosa</td>\n",
       "    </tr>\n",
       "    <tr>\n",
       "      <th>4</th>\n",
       "      <td>5.0</td>\n",
       "      <td>3.6</td>\n",
       "      <td>1.4</td>\n",
       "      <td>0.2</td>\n",
       "      <td>Iris-setosa</td>\n",
       "    </tr>\n",
       "    <tr>\n",
       "      <th>...</th>\n",
       "      <td>...</td>\n",
       "      <td>...</td>\n",
       "      <td>...</td>\n",
       "      <td>...</td>\n",
       "      <td>...</td>\n",
       "    </tr>\n",
       "    <tr>\n",
       "      <th>145</th>\n",
       "      <td>6.7</td>\n",
       "      <td>3.0</td>\n",
       "      <td>5.2</td>\n",
       "      <td>2.3</td>\n",
       "      <td>Iris-virginica</td>\n",
       "    </tr>\n",
       "    <tr>\n",
       "      <th>146</th>\n",
       "      <td>6.3</td>\n",
       "      <td>2.5</td>\n",
       "      <td>5.0</td>\n",
       "      <td>1.9</td>\n",
       "      <td>Iris-virginica</td>\n",
       "    </tr>\n",
       "    <tr>\n",
       "      <th>147</th>\n",
       "      <td>6.5</td>\n",
       "      <td>3.0</td>\n",
       "      <td>5.2</td>\n",
       "      <td>2.0</td>\n",
       "      <td>Iris-virginica</td>\n",
       "    </tr>\n",
       "    <tr>\n",
       "      <th>148</th>\n",
       "      <td>6.2</td>\n",
       "      <td>3.4</td>\n",
       "      <td>5.4</td>\n",
       "      <td>2.3</td>\n",
       "      <td>Iris-virginica</td>\n",
       "    </tr>\n",
       "    <tr>\n",
       "      <th>149</th>\n",
       "      <td>5.9</td>\n",
       "      <td>3.0</td>\n",
       "      <td>5.1</td>\n",
       "      <td>1.8</td>\n",
       "      <td>Iris-virginica</td>\n",
       "    </tr>\n",
       "  </tbody>\n",
       "</table>\n",
       "<p>150 rows × 5 columns</p>\n",
       "</div>"
      ],
      "text/plain": [
       "     sepal length  sepal width  petal length  petal width           class\n",
       "0             5.1          3.5           1.4          0.2     Iris-setosa\n",
       "1             4.9          3.0           1.4          0.2     Iris-setosa\n",
       "2             4.7          3.2           1.3          0.2     Iris-setosa\n",
       "3             4.6          3.1           1.5          0.2     Iris-setosa\n",
       "4             5.0          3.6           1.4          0.2     Iris-setosa\n",
       "..            ...          ...           ...          ...             ...\n",
       "145           6.7          3.0           5.2          2.3  Iris-virginica\n",
       "146           6.3          2.5           5.0          1.9  Iris-virginica\n",
       "147           6.5          3.0           5.2          2.0  Iris-virginica\n",
       "148           6.2          3.4           5.4          2.3  Iris-virginica\n",
       "149           5.9          3.0           5.1          1.8  Iris-virginica\n",
       "\n",
       "[150 rows x 5 columns]"
      ]
     },
     "execution_count": 3,
     "metadata": {},
     "output_type": "execute_result"
    }
   ],
   "source": [
    "iris_df"
   ]
  },
  {
   "cell_type": "code",
   "execution_count": 4,
   "metadata": {
    "collapsed": false,
    "jupyter": {
     "outputs_hidden": false
    }
   },
   "outputs": [],
   "source": [
    "X = np.c_[tuple(iris_df[a] for a in attrs)]\n",
    "Y = cls_ids.values"
   ]
  },
  {
   "cell_type": "code",
   "execution_count": 5,
   "metadata": {
    "collapsed": false,
    "jupyter": {
     "outputs_hidden": false
    }
   },
   "outputs": [],
   "source": [
    "cv = model_selection.StratifiedKFold(n_splits=3, shuffle=True)"
   ]
  },
  {
   "cell_type": "code",
   "execution_count": 6,
   "metadata": {
    "collapsed": false,
    "jupyter": {
     "outputs_hidden": false
    }
   },
   "outputs": [],
   "source": [
    "MV_test = []\n",
    "MV_train = []\n",
    "for train_indices, test_indices in cv.split(X,Y):\n",
    "    X_train, X_test = X[train_indices,:], X[test_indices,:]\n",
    "    Y_train, Y_test = Y[train_indices], Y[test_indices]\n",
    "    clf = neighbors.KNeighborsClassifier(n_neighbors=3)\n",
    "    clf.fit(X_train, Y_train)\n",
    "    Y_p_train = clf.predict(X_train)\n",
    "    Y_p_test = clf.predict(X_test)\n",
    "    mv_test = metrics.accuracy_score(Y_test, Y_p_test)\n",
    "    mv_train = metrics.accuracy_score(Y_train, Y_p_train)\n",
    "    MV_train.append(mv_train)\n",
    "    MV_test.append(mv_test)"
   ]
  },
  {
   "cell_type": "code",
   "execution_count": 7,
   "metadata": {
    "collapsed": false,
    "jupyter": {
     "outputs_hidden": false
    }
   },
   "outputs": [
    {
     "name": "stdout",
     "output_type": "stream",
     "text": [
      "train: [0.97, 0.95, 0.98]\n",
      "test: [0.96, 0.98, 0.94]\n",
      "0.9666666666666667 0.96\n"
     ]
    }
   ],
   "source": [
    "print('train:', MV_train)\n",
    "print('test:', MV_test)\n",
    "print(np.mean(MV_train), np.mean(MV_test))"
   ]
  },
  {
   "cell_type": "code",
   "execution_count": 8,
   "metadata": {
    "collapsed": false,
    "jupyter": {
     "outputs_hidden": false
    }
   },
   "outputs": [
    {
     "data": {
      "image/png": "[encoded data removed]",
      "text/plain": [
       "<Figure size 504x288 with 1 Axes>"
      ]
     },
     "metadata": {
      "image/png": {
       "height": 248,
       "width": 427
      },
      "needs_background": "light"
     },
     "output_type": "execute_result"
    }
   ],
   "source": [
    "plt.figure(figsize=(7,4))\n",
    "plt.plot(MV_train, marker='o', label='train')\n",
    "plt.plot(MV_test, marker='o', label='test')\n",
    "plt.legend()\n",
    "plt.ylim(0,1.3)\n",
    "plt.minorticks_on()\n",
    "plt.grid(1)\n",
    "plt.show()"
   ]
  },
  {
   "cell_type": "code",
   "execution_count": 9,
   "metadata": {
    "collapsed": false,
    "jupyter": {
     "outputs_hidden": false
    }
   },
   "outputs": [],
   "source": [
    "cv2 = model_selection.StratifiedShuffleSplit(n_splits=21, train_size=0.51)"
   ]
  },
  {
   "cell_type": "code",
   "execution_count": 10,
   "metadata": {
    "collapsed": false,
    "jupyter": {
     "outputs_hidden": false
    }
   },
   "outputs": [],
   "source": [
    "MV2_test = []\n",
    "MV2_train = []\n",
    "for train_indices, test_indices in cv2.split(X,Y):\n",
    "    X_train, X_test = X[train_indices,:], X[test_indices,:]\n",
    "    Y_train, Y_test = Y[train_indices], Y[test_indices]\n",
    "    clf2 = neighbors.KNeighborsClassifier(n_neighbors=3)\n",
    "    clf2.fit(X_train, Y_train)\n",
    "    Y_p_train = clf2.predict(X_train)\n",
    "    Y_p_test = clf2.predict(X_test)\n",
    "    mv_test = metrics.accuracy_score(Y_test, Y_p_test)\n",
    "    mv_train = metrics.accuracy_score(Y_train, Y_p_train)\n",
    "    MV2_train.append(mv_train)\n",
    "    MV2_test.append(mv_test)"
   ]
  },
  {
   "cell_type": "code",
   "execution_count": 11,
   "metadata": {
    "collapsed": false,
    "jupyter": {
     "outputs_hidden": false
    }
   },
   "outputs": [
    {
     "name": "stdout",
     "output_type": "stream",
     "text": [
      "train: [0.9473684210526315, 0.9868421052631579, 0.9736842105263158, 0.9736842105263158, 0.9736842105263158, 0.9736842105263158, 0.9605263157894737, 0.9736842105263158, 0.9473684210526315, 0.9736842105263158, 0.9868421052631579, 0.9605263157894737, 1.0, 0.9736842105263158, 0.9736842105263158, 0.9868421052631579, 0.9605263157894737, 0.9736842105263158, 0.9868421052631579, 0.9736842105263158, 0.9736842105263158]\n",
      "test: [0.9459459459459459, 0.9594594594594594, 0.972972972972973, 0.9594594594594594, 0.9459459459459459, 0.9594594594594594, 0.9324324324324325, 0.972972972972973, 0.9594594594594594, 0.9594594594594594, 0.9594594594594594, 0.9459459459459459, 0.9459459459459459, 0.972972972972973, 0.9594594594594594, 0.9594594594594594, 0.9324324324324325, 0.9594594594594594, 0.9594594594594594, 0.9594594594594594, 0.918918918918919]\n",
      "0.9730576441102756 0.9543114543114543\n"
     ]
    }
   ],
   "source": [
    "print('train:', MV2_train)\n",
    "print('test:', MV2_test)\n",
    "print(np.mean(MV2_train), np.mean(MV2_test))"
   ]
  },
  {
   "cell_type": "code",
   "execution_count": 12,
   "metadata": {
    "collapsed": false,
    "jupyter": {
     "outputs_hidden": false
    }
   },
   "outputs": [
    {
     "data": {
      "image/png": "[encoded data removed]",
      "text/plain": [
       "<Figure size 504x288 with 1 Axes>"
      ]
     },
     "metadata": {
      "image/png": {
       "height": 248,
       "width": 428
      },
      "needs_background": "light"
     },
     "output_type": "execute_result"
    }
   ],
   "source": [
    "plt.figure(figsize=(7,4))\n",
    "plt.plot(MV2_train, marker='o', label='train')\n",
    "plt.plot(MV2_test, marker='o', label='test')\n",
    "plt.legend()\n",
    "plt.ylim(0,1.3)\n",
    "plt.minorticks_on()\n",
    "plt.grid(1)\n",
    "plt.show()"
   ]
  },
  {
   "cell_type": "code",
   "execution_count": 16,
   "metadata": {
    "collapsed": false,
    "jupyter": {
     "outputs_hidden": false
    }
   },
   "outputs": [],
   "source": [
    "MV_mean = []\n",
    "A = np.arange(0.1, 0.66, 0.02)\n",
    "for train_size in A:\n",
    "    cv3 = model_selection.StratifiedShuffleSplit(n_splits=41, train_size=train_size)\n",
    "    MV3_test = []\n",
    "    for train_indices, test_indices in cv3.split(X,Y):\n",
    "        X_train, X_test = X[train_indices,:], X[test_indices,:]\n",
    "        Y_train, Y_test = Y[train_indices], Y[test_indices]\n",
    "        clf3 = neighbors.KNeighborsClassifier(n_neighbors=3)\n",
    "        clf3.fit(X_train, Y_train)\n",
    "        Y_p_test = clf3.predict(X_test)\n",
    "        mv_test = metrics.accuracy_score(Y_test, Y_p_test)\n",
    "        MV3_test.append(mv_test)\n",
    "    mv_mean = np.mean(MV3_test)\n",
    "    MV_mean.append(mv_mean)"
   ]
  },
  {
   "cell_type": "code",
   "execution_count": 17,
   "metadata": {
    "collapsed": false,
    "jupyter": {
     "outputs_hidden": false
    }
   },
   "outputs": [
    {
     "name": "stdout",
     "output_type": "stream",
     "text": [
      "[0.928274616079494, 0.933850702143385, 0.9432785025524675, 0.9432830042586139, 0.9422962522308151, 0.9479674796747968, 0.944757139879091, 0.9537869062901156, 0.9534168314656121, 0.9514453477868112, 0.9537746806039488, 0.9557627929220467, 0.9583641290958362, 0.9537601626016261, 0.953842119066352, 0.9598915989159891, 0.958228202971685, 0.9573170731707317, 0.9536284251731406, 0.957473420888055, 0.9570731707317074, 0.9559620596205963, 0.9558147755390598, 0.9575018477457502, 0.9585753000387146, 0.9601626016260163, 0.9602053915275994, 0.9593495934959348, 0.9598278335724534]\n"
     ]
    }
   ],
   "source": [
    "print(MV_mean)"
   ]
  },
  {
   "cell_type": "code",
   "execution_count": 19,
   "metadata": {
    "collapsed": false,
    "jupyter": {
     "outputs_hidden": false
    },
    "scrolled": true
   },
   "outputs": [
    {
     "data": {
      "image/png": "[encoded data removed]",
      "text/plain": [
       "<Figure size 864x288 with 1 Axes>"
      ]
     },
     "metadata": {
      "image/png": {
       "height": 252,
       "width": 719
      },
      "needs_background": "light"
     },
     "output_type": "execute_result"
    }
   ],
   "source": [
    "plt.figure(figsize=(12,4))\n",
    "plt.plot(MV_mean, marker='o', label='test')\n",
    "plt.legend()\n",
    "plt.ylim(0.8, 1.0)\n",
    "plt.xticks(np.arange(len(MV_mean)),[\"%.2f\"%a for a in A])\n",
    "plt.minorticks_on()\n",
    "plt.grid(1)\n",
    "plt.show()"
   ]
  },
  {
   "cell_type": "markdown",
   "metadata": {},
   "source": [
    "### Задача 6\n",
    "\n",
    "Для набора данных `wine` с предварительным стандартным масштабированием значений признаков оценить обобщающую способность алгоритма `KNeighborsClassifier` следующими способами:\n",
    "\n",
    "1. Используя метод `KFoldSplit`.\n",
    "2. Используя метод `ShuffleSplit`.\n",
    "\n",
    "Построить распределение значений оценок точности алгоритма на тестовых выборках в зависимости от доли объектов, участвующих в обучающей выборке.\n",
    "\n",
    "Оценить какую долю выборки достаточно использовать, чтобы получить не менее 90%, 85%, 80% (найти какое) правильных ответов на тестовых выборках.\n"
   ]
  },
  {
   "cell_type": "code",
   "execution_count": null,
   "metadata": {
    "collapsed": false,
    "jupyter": {
     "outputs_hidden": false
    }
   },
   "outputs": [],
   "source": []
  },
  {
   "cell_type": "code",
   "execution_count": null,
   "metadata": {
    "collapsed": false,
    "jupyter": {
     "outputs_hidden": false
    }
   },
   "outputs": [],
   "source": []
  },
  {
   "cell_type": "code",
   "execution_count": null,
   "metadata": {
    "collapsed": false,
    "jupyter": {
     "outputs_hidden": false
    }
   },
   "outputs": [],
   "source": []
  }
 ],
 "metadata": {
  "kernelspec": {
   "display_name": "Python 3 (ipykernel)",
   "language": "python",
   "name": "python3"
  },
  "language_info": {
   "codemirror_mode": {
    "name": "ipython",
    "version": 3
   },
   "file_extension": ".py",
   "mimetype": "text/x-python",
   "name": "python",
   "nbconvert_exporter": "python",
   "pygments_lexer": "ipython3",
   "version": "3.11.2"
  },
  "name": "python_crossvalidation.ipynb"
 },
 "nbformat": 4,
 "nbformat_minor": 4
}
