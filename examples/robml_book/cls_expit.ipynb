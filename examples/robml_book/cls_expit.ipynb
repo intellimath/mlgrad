{
 "cells": [
  {
   "cell_type": "code",
   "execution_count": 2,
   "id": "348bebb4-3e71-42fc-8334-cc614c24c94a",
   "metadata": {
    "execution": {
     "iopub.execute_input": "2025-01-03T09:52:59.255784Z",
     "iopub.status.busy": "2025-01-03T09:52:59.255369Z",
     "iopub.status.idle": "2025-01-03T09:52:59.270989Z",
     "shell.execute_reply": "2025-01-03T09:52:59.268389Z",
     "shell.execute_reply.started": "2025-01-03T09:52:59.255744Z"
    }
   },
   "outputs": [],
   "source": [
    "import sympy as sym\n",
    "sym.init_printing()"
   ]
  },
  {
   "cell_type": "code",
   "execution_count": 3,
   "id": "7ff9760e-6462-4d03-9f8e-d8174cab041c",
   "metadata": {
    "execution": {
     "iopub.execute_input": "2025-01-03T09:54:20.321742Z",
     "iopub.status.busy": "2025-01-03T09:54:20.320452Z",
     "iopub.status.idle": "2025-01-03T09:54:20.327999Z",
     "shell.execute_reply": "2025-01-03T09:54:20.326831Z",
     "shell.execute_reply.started": "2025-01-03T09:54:20.321667Z"
    }
   },
   "outputs": [],
   "source": [
    "λ = sym.Symbol(\"λ\")\n",
    "x = sym.Symbol(\"x\")\n",
    "c = sym.Symbol(\"c\")"
   ]
  },
  {
   "cell_type": "code",
   "execution_count": 8,
   "id": "657ef3a3-38da-42ad-a222-6691f0da380b",
   "metadata": {
    "execution": {
     "iopub.execute_input": "2025-01-03T09:57:22.463210Z",
     "iopub.status.busy": "2025-01-03T09:57:22.462773Z",
     "iopub.status.idle": "2025-01-03T09:57:22.478671Z",
     "shell.execute_reply": "2025-01-03T09:57:22.477501Z",
     "shell.execute_reply.started": "2025-01-03T09:57:22.463187Z"
    }
   },
   "outputs": [],
   "source": [
    "F = 1 / (1 + sym.exp(-λ*(x-c)))"
   ]
  },
  {
   "cell_type": "code",
   "execution_count": 14,
   "id": "972b0410-951f-424d-b972-b6f785036584",
   "metadata": {
    "execution": {
     "iopub.execute_input": "2025-01-03T10:00:44.754801Z",
     "iopub.status.busy": "2025-01-03T10:00:44.754410Z",
     "iopub.status.idle": "2025-01-03T10:00:45.098724Z",
     "shell.execute_reply": "2025-01-03T10:00:45.098083Z",
     "shell.execute_reply.started": "2025-01-03T10:00:44.754768Z"
    }
   },
   "outputs": [
    {
     "data": {
      "image/png": "[encoded data removed]",
      "text/latex": [
       "$\\displaystyle \\frac{λ e^{- λ \\left(- c + x\\right)}}{\\left(1 + e^{- λ \\left(- c + x\\right)}\\right)^{2}}$"
      ],
      "text/plain": [
       "     -λ⋅(-c + x)   \n",
       "  λ⋅ℯ              \n",
       "───────────────────\n",
       "                  2\n",
       "⎛     -λ⋅(-c + x)⎞ \n",
       "⎝1 + ℯ           ⎠ "
      ]
     },
     "execution_count": 14,
     "metadata": {},
     "output_type": "execute_result"
    }
   ],
   "source": [
    "p = F.diff(x)\n",
    "p"
   ]
  },
  {
   "cell_type": "code",
   "execution_count": 22,
   "id": "082886e9-f753-4276-b1ac-ced1c9943d3c",
   "metadata": {
    "execution": {
     "iopub.execute_input": "2025-01-03T10:07:58.412259Z",
     "iopub.status.busy": "2025-01-03T10:07:58.411847Z",
     "iopub.status.idle": "2025-01-03T10:07:59.034814Z",
     "shell.execute_reply": "2025-01-03T10:07:59.034153Z",
     "shell.execute_reply.started": "2025-01-03T10:07:58.412229Z"
    }
   },
   "outputs": [
    {
     "data": {
      "image/png": "[encoded data removed]",
      "text/latex": [
       "$\\displaystyle - \\log{\\left(\\frac{λ}{\\cosh{\\left(λ \\left(c - x\\right) \\right)} + 1} \\right)} + \\log{\\left(2 \\right)}$"
      ],
      "text/plain": [
       "     ⎛         λ         ⎞         \n",
       "- log⎜───────────────────⎟ + log(2)\n",
       "     ⎝cosh(λ⋅(c - x)) + 1⎠         "
      ]
     },
     "execution_count": 22,
     "metadata": {},
     "output_type": "execute_result"
    }
   ],
   "source": [
    "L = -sym.log(p)\n",
    "L"
   ]
  },
  {
   "cell_type": "code",
   "execution_count": 26,
   "id": "c1b2e971-13a4-4af3-8607-4ded7029d30d",
   "metadata": {
    "execution": {
     "iopub.execute_input": "2025-01-03T10:11:39.304711Z",
     "iopub.status.busy": "2025-01-03T10:11:39.304385Z",
     "iopub.status.idle": "2025-01-03T10:11:39.828472Z",
     "shell.execute_reply": "2025-01-03T10:11:39.827802Z",
     "shell.execute_reply.started": "2025-01-03T10:11:39.304680Z"
    }
   },
   "outputs": [
    {
     "data": {
      "image/png": "[encoded data removed]",
      "text/latex": [
       "$\\displaystyle - \\frac{\\left(1 + e^{- λ \\left(- c + x\\right)}\\right)^{2} \\left(\\frac{λ \\left(c - x\\right) e^{- λ \\left(- c + x\\right)}}{\\left(1 + e^{- λ \\left(- c + x\\right)}\\right)^{2}} - \\frac{2 λ \\left(c - x\\right) e^{- 2 λ \\left(- c + x\\right)}}{\\left(1 + e^{- λ \\left(- c + x\\right)}\\right)^{3}} + \\frac{e^{- λ \\left(- c + x\\right)}}{\\left(1 + e^{- λ \\left(- c + x\\right)}\\right)^{2}}\\right) e^{λ \\left(- c + x\\right)}}{λ}$"
      ],
      "text/plain": [
       "                   2 ⎛           -λ⋅(-c + x)                -2⋅λ⋅(-c + x)      ↪\n",
       " ⎛     -λ⋅(-c + x)⎞  ⎜λ⋅(c - x)⋅ℯ              2⋅λ⋅(c - x)⋅ℯ                   ↪\n",
       "-⎝1 + ℯ           ⎠ ⋅⎜────────────────────── - ────────────────────────── + ── ↪\n",
       "                     ⎜                   2                          3          ↪\n",
       "                     ⎜ ⎛     -λ⋅(-c + x)⎞         ⎛     -λ⋅(-c + x)⎞        ⎛  ↪\n",
       "                     ⎝ ⎝1 + ℯ           ⎠         ⎝1 + ℯ           ⎠        ⎝1 ↪\n",
       "────────────────────────────────────────────────────────────────────────────── ↪\n",
       "                                                      λ                        ↪\n",
       "\n",
       "↪   -λ⋅(-c + x)    ⎞             \n",
       "↪  ℯ               ⎟  λ⋅(-c + x) \n",
       "↪ ─────────────────⎟⋅ℯ           \n",
       "↪                 2⎟             \n",
       "↪     -λ⋅(-c + x)⎞ ⎟             \n",
       "↪  + ℯ           ⎠ ⎠             \n",
       "↪ ───────────────────────────────\n",
       "↪                                "
      ]
     },
     "execution_count": 26,
     "metadata": {},
     "output_type": "execute_result"
    }
   ],
   "source": [
    "dL = L.diff(λ)\n",
    "dL.simplify()\n",
    "sym.simplify()\n",
    "dL\n"
   ]
  },
  {
   "cell_type": "code",
   "execution_count": null,
   "id": "69ec4e0b-c2c9-48d7-bcd8-dae78403cbb0",
   "metadata": {},
   "outputs": [],
   "source": []
  }
 ],
 "metadata": {
  "kernelspec": {
   "display_name": "Python 3 (ipykernel)",
   "language": "python",
   "name": "python3"
  },
  "language_info": {
   "codemirror_mode": {
    "name": "ipython",
    "version": 3
   },
   "file_extension": ".py",
   "mimetype": "text/x-python",
   "name": "python",
   "nbconvert_exporter": "python",
   "pygments_lexer": "ipython3",
   "version": "3.12.8"
  }
 },
 "nbformat": 4,
 "nbformat_minor": 5
}
