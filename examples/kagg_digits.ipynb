{
 "cells": [
  {
   "cell_type": "code",
   "execution_count": 1,
   "metadata": {
    "collapsed": true,
    "jupyter": {
     "outputs_hidden": true
    }
   },
   "outputs": [],
   "source": [
    "import numpy as np\n",
    "import matplotlib.pyplot as plt\n",
    "import pandas as pd\n",
    "from sklearn.decomposition import PCA\n",
    "from sklearn.datasets import load_digits\n",
    "from sklearn.cluster import KMeans\n",
    "\n",
    "%matplotlib inline\n",
    "\n",
    "from mlgrad.distance import PowerDistance\n",
    "from mlgrad.gfunc import GFuncExp, GFuncPow\n",
    "from mlgrad.kagg import KAgg"
   ]
  },
  {
   "cell_type": "code",
   "execution_count": 2,
   "metadata": {
    "collapsed": true,
    "jupyter": {
     "outputs_hidden": true
    }
   },
   "outputs": [],
   "source": [
    "def entropy(X):\n",
    "    S = 0.\n",
    "    for x in X:\n",
    "        if x:\n",
    "            S += np.log(x)*x\n",
    "    return -S"
   ]
  },
  {
   "cell_type": "code",
   "execution_count": 3,
   "metadata": {},
   "outputs": [],
   "source": [
    "digits_dataset = load_digits()\n",
    "data = digits_dataset.data\n",
    "cls = digits_dataset.target"
   ]
  },
  {
   "cell_type": "code",
   "execution_count": 4,
   "metadata": {},
   "outputs": [
    {
     "data": {
      "text/plain": [
       "(1797, 64)"
      ]
     },
     "execution_count": 4,
     "metadata": {},
     "output_type": "execute_result"
    }
   ],
   "source": [
    "data.shape"
   ]
  },
  {
   "cell_type": "code",
   "execution_count": 5,
   "metadata": {},
   "outputs": [
    {
     "data": {
      "image/png": "[encoded data removed]",
      "text/plain": [
       "<matplotlib.figure.Figure at 0x1047930b8>"
      ]
     },
     "metadata": {},
     "output_type": "display_data"
    }
   ],
   "source": [
    "N = 64\n",
    "pca = PCA(N)\n",
    "pca.fit(data)\n",
    "X = pca.transform(data)\n",
    "plt.bar(range(N), pca.explained_variance_ratio_)\n",
    "plt.grid(1)\n",
    "plt.show()"
   ]
  },
  {
   "cell_type": "code",
   "execution_count": 6,
   "metadata": {},
   "outputs": [
    {
     "ename": "TypeError",
     "evalue": "__init__() takes exactly 2 positional arguments (1 given)",
     "output_type": "error",
     "traceback": [
      "\u001b[0;31m---------------------------------------------------------------------------\u001b[0m",
      "\u001b[0;31mTypeError\u001b[0m                                 Traceback (most recent call last)",
      "\u001b[0;32m<ipython-input-6-81e283d1f8fc>\u001b[0m in \u001b[0;36m<module>\u001b[0;34m()\u001b[0m\n\u001b[0;32m----> 1\u001b[0;31m \u001b[0mdist_func\u001b[0m \u001b[0;34m=\u001b[0m \u001b[0mPowerDistance\u001b[0m\u001b[0;34m(\u001b[0m\u001b[0;36m2.0\u001b[0m\u001b[0;34m)\u001b[0m\u001b[0;34m\u001b[0m\u001b[0m\n\u001b[0m\u001b[1;32m      2\u001b[0m \u001b[0mgfunc\u001b[0m \u001b[0;34m=\u001b[0m \u001b[0mGFuncExp\u001b[0m\u001b[0;34m(\u001b[0m\u001b[0;36m2.0\u001b[0m\u001b[0;34m,\u001b[0m \u001b[0;36m0.5\u001b[0m\u001b[0;34m)\u001b[0m\u001b[0;34m\u001b[0m\u001b[0m\n\u001b[1;32m      3\u001b[0m \u001b[0mkagg\u001b[0m \u001b[0;34m=\u001b[0m \u001b[0mKAgg\u001b[0m\u001b[0;34m(\u001b[0m\u001b[0mdist_func\u001b[0m\u001b[0;34m,\u001b[0m \u001b[0mgfunc\u001b[0m\u001b[0;34m,\u001b[0m \u001b[0mh\u001b[0m\u001b[0;34m=\u001b[0m\u001b[0;36m0.0001\u001b[0m\u001b[0;34m,\u001b[0m \u001b[0mtol\u001b[0m\u001b[0;34m=\u001b[0m\u001b[0;36m1.0e-3\u001b[0m\u001b[0;34m,\u001b[0m \u001b[0mmax_epoch\u001b[0m\u001b[0;34m=\u001b[0m\u001b[0;36m1000\u001b[0m\u001b[0;34m,\u001b[0m \u001b[0mls\u001b[0m\u001b[0;34m=\u001b[0m\u001b[0;36m0\u001b[0m\u001b[0;34m)\u001b[0m\u001b[0;34m\u001b[0m\u001b[0m\n\u001b[1;32m      4\u001b[0m \u001b[0mkagg\u001b[0m\u001b[0;34m.\u001b[0m\u001b[0mfit\u001b[0m\u001b[0;34m(\u001b[0m\u001b[0mX\u001b[0m\u001b[0;34m,\u001b[0m \u001b[0mn_centers\u001b[0m\u001b[0;34m=\u001b[0m\u001b[0;36m10\u001b[0m\u001b[0;34m)\u001b[0m\u001b[0;34m\u001b[0m\u001b[0m\n\u001b[1;32m      5\u001b[0m \u001b[0mprint\u001b[0m\u001b[0;34m(\u001b[0m\u001b[0;34m'K='\u001b[0m\u001b[0;34m,\u001b[0m \u001b[0mkagg\u001b[0m\u001b[0;34m.\u001b[0m\u001b[0mstate\u001b[0m\u001b[0;34m[\u001b[0m\u001b[0;34m'K'\u001b[0m\u001b[0;34m]\u001b[0m\u001b[0;34m)\u001b[0m\u001b[0;34m\u001b[0m\u001b[0m\n",
      "\u001b[0;32mlib/mlgrad/distance.pyx\u001b[0m in \u001b[0;36mmlgrad.distance.PowerDistance.__init__ (lib/mlgrad/distance.c:2052)\u001b[0;34m()\u001b[0m\n",
      "\u001b[0;31mTypeError\u001b[0m: __init__() takes exactly 2 positional arguments (1 given)"
     ]
    }
   ],
   "source": [
    "dist_func = PowerDistance(2.0)\n",
    "gfunc = GFuncExp(2.0, 0.5)\n",
    "kagg = KAgg(dist_func, gfunc, h=0.0001, tol=1.0e-3, max_epoch=1000, ls=0)\n",
    "kagg.fit(X, n_centers=10)\n",
    "print('K=', kagg.state['K'])\n",
    "centers = kagg.state['centers']"
   ]
  },
  {
   "cell_type": "code",
   "execution_count": null,
   "metadata": {
    "collapsed": true,
    "jupyter": {
     "outputs_hidden": true
    }
   },
   "outputs": [],
   "source": [
    "Y = kagg.predict(X)\n",
    "Z = np.argmax(Y, axis=1)"
   ]
  },
  {
   "cell_type": "code",
   "execution_count": null,
   "metadata": {},
   "outputs": [],
   "source": [
    "M = np.zeros((10,10), dtype=np.double)\n",
    "for c,z in zip(cls,Z):\n",
    "    M[c,z] += 1 \n",
    "\n",
    "cc = []\n",
    "zz =[]\n",
    "vals = []\n",
    "for i in range(10):\n",
    "    for j in range(10):\n",
    "        v = M[i,j]\n",
    "        if v:\n",
    "            cc.append(i)\n",
    "            zz.append(j)\n",
    "            vals.append(v)\n",
    "    \n",
    "cc = np.array(cc, dtype=np.double)\n",
    "zz = np.array(zz, dtype=np.double)\n",
    "vals=np.array(vals, dtype=np.double)\n",
    "\n",
    "E = []\n",
    "for i in range(10):\n",
    "    E.append(entropy(M[i,:]/np.sum(M[i,:])))\n",
    "print(E)"
   ]
  },
  {
   "cell_type": "code",
   "execution_count": null,
   "metadata": {},
   "outputs": [],
   "source": [
    "kmean = KMeans(10)\n",
    "kmean.fit(X)\n",
    "Z2 = kmean.predict(X)\n",
    "print(Z2, cls)"
   ]
  },
  {
   "cell_type": "code",
   "execution_count": null,
   "metadata": {},
   "outputs": [],
   "source": [
    "M2 = np.zeros((10,10), dtype=np.double)\n",
    "for c2,z2 in zip(cls,Z2):\n",
    "    M2[c2,z2] += 1 \n",
    "\n",
    "cc2 = []\n",
    "zz2 =[]\n",
    "vals2 = []\n",
    "for i2 in range(10):\n",
    "    for j2 in range(10):\n",
    "        v2 = M2[i2,j2]\n",
    "        if v2:\n",
    "            cc2.append(i2)\n",
    "            zz2.append(j2)\n",
    "            vals2.append(v2)\n",
    "    \n",
    "cc2 = np.array(cc2, dtype=np.double)\n",
    "zz2 = np.array(zz2, dtype=np.double)\n",
    "vals2=np.array(vals2, dtype=np.double)\n",
    "\n",
    "E2 = []\n",
    "for i in range(10):\n",
    "    E2.append(entropy(M2[i,:]/np.sum(M2[i,:])))\n",
    "print(E2)"
   ]
  },
  {
   "cell_type": "code",
   "execution_count": null,
   "metadata": {},
   "outputs": [],
   "source": [
    "plt.figure(figsize=(12,6))\n",
    "plt.subplot(1,2,1)\n",
    "plt.title(\"kagg\")\n",
    "plt.scatter(cc, zz, s=4*vals, c=cc)\n",
    "plt.xticks(list(range(0,10)))\n",
    "plt.yticks(list(range(0,10)))\n",
    "plt.xlim(-1,10)\n",
    "plt.ylim(-1,10)\n",
    "for i,v in enumerate(E):\n",
    "    plt.text(i-0.3,-1, \"%.2f\" % v)\n",
    "plt.subplot(1,2,2)\n",
    "plt.title(\"kmeans\")\n",
    "plt.scatter(cc2, zz2, s=4*vals2, c=cc2)\n",
    "plt.xticks(list(range(0,10)))\n",
    "plt.yticks(list(range(0,10)))\n",
    "plt.xlim(-1,10)\n",
    "plt.ylim(-1,10)\n",
    "for i2,v2 in enumerate(E2):\n",
    "    plt.text(i2-0.3,-1, \"%.2f\" % v2)\n",
    "plt.show()"
   ]
  },
  {
   "cell_type": "code",
   "execution_count": null,
   "metadata": {
    "collapsed": true,
    "jupyter": {
     "outputs_hidden": true
    }
   },
   "outputs": [],
   "source": []
  }
 ],
 "metadata": {
  "kernelspec": {
   "display_name": "Python 3",
   "language": "python",
   "name": "python3"
  },
  "language_info": {
   "codemirror_mode": {
    "name": "ipython",
    "version": 3
   },
   "file_extension": ".py",
   "mimetype": "text/x-python",
   "name": "python",
   "nbconvert_exporter": "python",
   "pygments_lexer": "ipython3",
   "version": "3.8.6"
  }
 },
 "nbformat": 4,
 "nbformat_minor": 4
}
