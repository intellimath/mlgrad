{
 "cells": [
  {
   "cell_type": "code",
   "execution_count": 1,
   "metadata": {},
   "outputs": [],
   "source": [
    "import sys\n",
    "#print(sys.version)\n",
    "\n",
    "import matplotlib.pyplot as plt\n",
    "#%matplotlib inline\n",
    "%config BackendInline.figure_format='eps'\n",
    "\n",
    "plt.style.use(['seaborn-paper', 'seaborn-white', 'seaborn-ticks'])\n",
    "#plt.matplotlib.rcParams['figure.dpi'] = 120\n",
    "#plt.matplotlib.rcParams['savefig.dpi'] = 120\n",
    "\n",
    "import numpy as np\n",
    "import pandas as pd\n",
    "from sklearn.datasets import make_blobs\n",
    "from sklearn import cluster\n",
    "\n",
    "import mlgrad.func as func\n",
    "import mlgrad.distance as distance\n",
    "import mlgrad.weights as weights\n",
    "import mlgrad.averager as averager\n",
    "import mlgrad.kmeans as kmeans\n",
    "import mlgrad.avragg as avragg\n",
    "\n",
    "from mlgrad import ws_average_it, averager_it, averager_fg, fg, erm_fg, sg, erm_sg, irgd, erm_irgd, drisk"
   ]
  },
  {
   "cell_type": "code",
   "execution_count": 2,
   "metadata": {},
   "outputs": [
    {
     "name": "stdout",
     "output_type": "stream",
     "text": [
      "(200, 2) (100, 2)\n"
     ]
    },
    {
     "data": {
      "image/png": "[encoded data removed]",
      "text/plain": [
       "<Figure size 432x288 with 1 Axes>"
      ]
     },
     "metadata": {
      "needs_background": "light"
     },
     "output_type": "display_data"
    }
   ],
   "source": [
    "S=100.\n",
    "X_1, Y_1 = make_blobs(n_samples=200, n_features=2, \n",
    "                    centers=[(-30,20), (30,-30)], \n",
    "                    cluster_std=[5.0, 5.0])\n",
    "Y_1 += 1\n",
    "\n",
    "X_2, Y_2 = make_blobs(n_samples=100, n_features=2, \n",
    "                    centers=[(10,40),(40, 70)], \n",
    "                    cluster_std=[30., 30.])\n",
    "Y_2 = 3\n",
    "print(X_1.shape, X_2.shape)\n",
    "X1 = np.vstack([X_1, X_2])\n",
    "Y1 = np.hstack([Y_1, Y_2])\n",
    "X1 /= S\n",
    "\n",
    "plt.scatter(X1[:,0], X1[:,1], s=16, cmap=plt.cm.rainbow)\n",
    "plt.show()"
   ]
  },
  {
   "cell_type": "code",
   "execution_count": 3,
   "metadata": {},
   "outputs": [
    {
     "name": "stdout",
     "output_type": "stream",
     "text": [
      "(200, 2) (200, 2)\n"
     ]
    },
    {
     "data": {
      "image/png": "[encoded data removed]",
      "text/plain": [
       "<Figure size 432x288 with 1 Axes>"
      ]
     },
     "metadata": {
      "needs_background": "light"
     },
     "output_type": "display_data"
    }
   ],
   "source": [
    "X_1, Y_1 = make_blobs(n_samples=200, n_features=2, \n",
    "                    centers=[(-30,30), (30,-30)], \n",
    "                    cluster_std=[5.0, 5.0])\n",
    "Y_1 += 1\n",
    "\n",
    "X_2, Y_2 = make_blobs(n_samples=200, n_features=2, \n",
    "                    centers=[(0,70),(60, 70)], \n",
    "                    cluster_std=[40., 40.])\n",
    "Y_2 = 3\n",
    "print(X_1.shape, X_2.shape)\n",
    "X2 = np.vstack([X_1, X_2])\n",
    "Y2 = np.hstack([Y_1, Y_2])\n",
    "X2 /= S\n",
    "\n",
    "plt.scatter(X2[:,0], X2[:,1], s=16, cmap=plt.cm.rainbow)\n",
    "plt.show()"
   ]
  },
  {
   "cell_type": "code",
   "execution_count": 4,
   "metadata": {},
   "outputs": [],
   "source": [
    "xmin, xmax = -150./S, 170./S\n",
    "ymin, ymax = -50./S, 170./S\n",
    "def draw_map(cls, i):\n",
    "    x_range = np.linspace(xmin, xmax, 100)\n",
    "    y_range = np.linspace(ymin, ymax, 100)\n",
    "    XX, YY = np.meshgrid(x_range, y_range)\n",
    "    XY = np.c_[XX.ravel(), YY.ravel()]\n",
    "    ZZ = cls(XY)\n",
    "    ZZ = ZZ[:,i]\n",
    "    ZZ = ZZ.reshape(XX.shape)\n",
    "    im = plt.imshow(ZZ, origin='bottom', extent=(xmin,xmax,ymin,ymax), aspect=\"auto\")\n",
    "#     plt.colorbar(im)\n",
    "    plt.xlim(xmin, xmax)\n",
    "    plt.ylim(ymin, ymax)"
   ]
  },
  {
   "cell_type": "code",
   "execution_count": 5,
   "metadata": {},
   "outputs": [
    {
     "name": "stdout",
     "output_type": "stream",
     "text": [
      "1001 [[-0.17755892  0.23819383]\n",
      " [ 0.30416882 -0.24897378]]\n"
     ]
    }
   ],
   "source": [
    "s=30.\n",
    "avrfunc = averager_it(func.QuantileFunc(0.33, func.Sqrt()))\n",
    "minfunc = avragg.KolmogorovMean(func.Power(6.), func.Power(1./6.))\n",
    "hcd_rob2 = kmeans.HCD_M2(avrfunc, minfunc, X1, 2, n_iter=1000, tol=0.01)\n",
    "hcd_rob2.fit()"
   ]
  },
  {
   "cell_type": "code",
   "execution_count": 6,
   "metadata": {},
   "outputs": [
    {
     "ename": "NameError",
     "evalue": "name 'hcd_rob3' is not defined",
     "output_type": "error",
     "traceback": [
      "\u001b[0;31m---------------------------------------------------------------------------\u001b[0m",
      "\u001b[0;31mNameError\u001b[0m                                 Traceback (most recent call last)",
      "\u001b[0;32m<ipython-input-6-25fadc66f893>\u001b[0m in \u001b[0;36m<module>\u001b[0;34m\u001b[0m\n\u001b[1;32m     12\u001b[0m \u001b[0mplt\u001b[0m\u001b[0;34m.\u001b[0m\u001b[0msubplot\u001b[0m\u001b[0;34m(\u001b[0m\u001b[0;36m2\u001b[0m\u001b[0;34m,\u001b[0m \u001b[0;36m2\u001b[0m\u001b[0;34m,\u001b[0m \u001b[0;36m3\u001b[0m\u001b[0;34m)\u001b[0m\u001b[0;34m\u001b[0m\u001b[0;34m\u001b[0m\u001b[0m\n\u001b[1;32m     13\u001b[0m \u001b[0mplt\u001b[0m\u001b[0;34m.\u001b[0m\u001b[0mtitle\u001b[0m\u001b[0;34m(\u001b[0m\u001b[0;34mr\"IR-KMeans-M2, 50%, class 0\"\u001b[0m\u001b[0;34m)\u001b[0m\u001b[0;34m\u001b[0m\u001b[0;34m\u001b[0m\u001b[0m\n\u001b[0;32m---> 14\u001b[0;31m \u001b[0mdraw_map\u001b[0m\u001b[0;34m(\u001b[0m\u001b[0mhcd_rob3\u001b[0m\u001b[0;34m,\u001b[0m \u001b[0;36m0\u001b[0m\u001b[0;34m)\u001b[0m\u001b[0;34m\u001b[0m\u001b[0;34m\u001b[0m\u001b[0m\n\u001b[0m\u001b[1;32m     15\u001b[0m \u001b[0mplt\u001b[0m\u001b[0;34m.\u001b[0m\u001b[0mscatter\u001b[0m\u001b[0;34m(\u001b[0m\u001b[0mX2\u001b[0m\u001b[0;34m[\u001b[0m\u001b[0;34m:\u001b[0m\u001b[0;34m,\u001b[0m\u001b[0;36m0\u001b[0m\u001b[0;34m]\u001b[0m\u001b[0;34m,\u001b[0m \u001b[0mX2\u001b[0m\u001b[0;34m[\u001b[0m\u001b[0;34m:\u001b[0m\u001b[0;34m,\u001b[0m\u001b[0;36m1\u001b[0m\u001b[0;34m]\u001b[0m\u001b[0;34m,\u001b[0m \u001b[0ms\u001b[0m\u001b[0;34m=\u001b[0m\u001b[0;36m16\u001b[0m\u001b[0;34m,\u001b[0m \u001b[0mc\u001b[0m\u001b[0;34m=\u001b[0m\u001b[0;34m'w'\u001b[0m\u001b[0;34m,\u001b[0m \u001b[0medgecolors\u001b[0m\u001b[0;34m=\u001b[0m\u001b[0;34m'k'\u001b[0m\u001b[0;34m)\u001b[0m\u001b[0;34m\u001b[0m\u001b[0;34m\u001b[0m\u001b[0m\n\u001b[1;32m     16\u001b[0m \u001b[0mplt\u001b[0m\u001b[0;34m.\u001b[0m\u001b[0mscatter\u001b[0m\u001b[0;34m(\u001b[0m\u001b[0mhcd_rob3\u001b[0m\u001b[0;34m.\u001b[0m\u001b[0mparams\u001b[0m\u001b[0;34m[\u001b[0m\u001b[0;34m:\u001b[0m\u001b[0;34m,\u001b[0m\u001b[0;36m0\u001b[0m\u001b[0;34m]\u001b[0m\u001b[0;34m,\u001b[0m \u001b[0mhcd_rob3\u001b[0m\u001b[0;34m.\u001b[0m\u001b[0mparams\u001b[0m\u001b[0;34m[\u001b[0m\u001b[0;34m:\u001b[0m\u001b[0;34m,\u001b[0m\u001b[0;36m1\u001b[0m\u001b[0;34m]\u001b[0m\u001b[0;34m,\u001b[0m \u001b[0mc\u001b[0m\u001b[0;34m=\u001b[0m\u001b[0;34m'Grey'\u001b[0m\u001b[0;34m,\u001b[0m \u001b[0ms\u001b[0m\u001b[0;34m=\u001b[0m\u001b[0;36m100\u001b[0m\u001b[0;34m,\u001b[0m \u001b[0medgecolors\u001b[0m\u001b[0;34m=\u001b[0m\u001b[0;34m'k'\u001b[0m\u001b[0;34m)\u001b[0m\u001b[0;34m\u001b[0m\u001b[0;34m\u001b[0m\u001b[0m\n",
      "\u001b[0;31mNameError\u001b[0m: name 'hcd_rob3' is not defined"
     ]
    },
    {
     "data": {
      "image/png": "[encoded data removed]",
      "text/plain": [
       "<Figure size 576x576 with 3 Axes>"
      ]
     },
     "metadata": {
      "needs_background": "light"
     },
     "output_type": "display_data"
    }
   ],
   "source": [
    "plt.figure(figsize=(8,8))\n",
    "plt.subplot(2, 2, 1)\n",
    "plt.title(r\"IR-KMeans-M2, 33%, class 0\")\n",
    "draw_map(hcd_rob2, 0)\n",
    "plt.scatter(X1[:,0], X1[:,1], s=16, c='w', edgecolors='k')\n",
    "plt.scatter(hcd_rob2.params[:,0], hcd_rob2.params[:,1], c='Grey', s=100, edgecolors='k')\n",
    "plt.subplot(2, 2, 2)\n",
    "plt.title(r\"IR-KMeans-M2, 33%, class 1\")\n",
    "draw_map(hcd_rob2, 1)\n",
    "plt.scatter(X1[:,0], X1[:,1], s=16, c='w', edgecolors='k')\n",
    "plt.scatter(hcd_rob2.params[:,0], hcd_rob2.params[:,1], c='Grey', s=100, edgecolors='k')\n",
    "plt.subplot(2, 2, 3)\n",
    "plt.title(r\"IR-KMeans-M2, 50%, class 0\")\n",
    "draw_map(hcd_rob3, 0)\n",
    "plt.scatter(X2[:,0], X2[:,1], s=16, c='w', edgecolors='k')\n",
    "plt.scatter(hcd_rob3.params[:,0], hcd_rob3.params[:,1], c='Grey', s=100, edgecolors='k')\n",
    "plt.subplot(2, 2, 4)\n",
    "plt.title(r\"IR-KMeans-M2, 50%, class 1\")\n",
    "draw_map(hcd_rob3, 1)\n",
    "plt.scatter(X2[:,0], X2[:,1], s=16, c='w', edgecolors='k')\n",
    "plt.scatter(hcd_rob3.params[:,0], hcd_rob3.params[:,1], c='Grey', s=100, edgecolors='k')\n",
    "\n",
    "plt.tight_layout()\n",
    "plt.savefig('fig/rob_kmeans/robust_kmeans2_m1.eps')\n",
    "plt.show()\n"
   ]
  },
  {
   "cell_type": "code",
   "execution_count": null,
   "metadata": {},
   "outputs": [],
   "source": [
    "X2, Y2 = make_blobs(n_samples=800, n_features=2, centers=8, cluster_std=0.5)\n",
    "Y2 += 1\n",
    "\n",
    "plt.scatter(X2[:,0], X2[:,1], s=9, c=Y2, cmap=plt.cm.rainbow)\n",
    "plt.show()"
   ]
  },
  {
   "cell_type": "code",
   "execution_count": null,
   "metadata": {},
   "outputs": [],
   "source": [
    "avrfunc = averager_it(func.QuantileFunc(0.15, func.Sqrt()))\n",
    "hcd_rob3 = kmeans.HCD_M1(avrfunc, X2, 2, n_iter=100, tol=0.01)\n",
    "hcd_rob3.fit()\n",
    "\n",
    "avrfunc = averager_it(func.QuantileFunc(0.20, func.Sqrt()))\n",
    "hcd_rob4 = kmeans.HCD_M1(avrfunc, X2, 3, n_iter=100, tol=0.01)\n",
    "hcd_rob4.fit()\n",
    "\n",
    "avrfunc = averager_it(func.QuantileFunc(0.25, func.Sqrt()))\n",
    "hcd_rob5 = kmeans.HCD_M1(avrfunc, X2, 4, n_iter=100, tol=0.01)\n",
    "hcd_rob5.fit()\n",
    "\n",
    "avrfunc = averager_it(func.QuantileFunc(0.30, func.Sqrt()))\n",
    "hcd_rob6 = kmeans.HCD_M1(avrfunc, X2, 5, n_iter=100, tol=0.01)\n",
    "hcd_rob6.fit()\n",
    "\n",
    "avrfunc = averager_it(func.QuantileFunc(0.35, func.Sqrt()))\n",
    "hcd_rob7 = kmeans.HCD_M1(avrfunc, X2, 6, n_iter=100, tol=0.01)\n",
    "hcd_rob7.fit()\n",
    "\n",
    "avrfunc = averager_it(func.QuantileFunc(0.40, func.Sqrt()))\n",
    "hcd_rob8 = kmeans.HCD_M1(avrfunc, X2, 7, n_iter=100, tol=0.01)\n",
    "hcd_rob8.fit()\n",
    "print(hcd_rob3.K, hcd_rob4.K, hcd_rob5.K, hcd_rob6.K, hcd_rob7.K, hcd_rob8.K)"
   ]
  },
  {
   "cell_type": "code",
   "execution_count": null,
   "metadata": {},
   "outputs": [],
   "source": [
    "plt.figure(figsize=(9,5))\n",
    "plt.subplot(2,3,1)\n",
    "plt.scatter(X2[:,0], X2[:,1], s=9, c='gray', cmap=plt.cm.rainbow)\n",
    "plt.scatter(hcd_rob3.params[:,0], hcd_rob3.params[:,1], c='k', s=81)\n",
    "plt.title(r\"2 clusters, $\\alpha=0.15$\")\n",
    "plt.xticks([],[])\n",
    "plt.subplot(2,3,2)\n",
    "plt.scatter(X2[:,0], X2[:,1], s=9, c='gray', cmap=plt.cm.rainbow)\n",
    "plt.scatter(hcd_rob4.params[:,0], hcd_rob4.params[:,1], c='k', s=81)\n",
    "plt.title(r\"3 clusters, $\\alpha=0.20$\")\n",
    "plt.xticks([],[])\n",
    "plt.yticks([],[])\n",
    "plt.subplot(2,3,3)\n",
    "plt.scatter(X2[:,0], X2[:,1], s=9, c='gray', cmap=plt.cm.rainbow)\n",
    "plt.scatter(hcd_rob5.params[:,0], hcd_rob5.params[:,1], c='k', s=81)\n",
    "plt.title(r\"4 clusters, $\\alpha=0.25$\")\n",
    "plt.xticks([],[])\n",
    "plt.yticks([],[])\n",
    "plt.subplot(2,3,4)\n",
    "plt.scatter(X2[:,0], X2[:,1], s=9, c='gray', cmap=plt.cm.rainbow)\n",
    "plt.scatter(hcd_rob6.params[:,0], hcd_rob6.params[:,1], c='k', s=81)\n",
    "plt.title(r\"5 clusters, $\\alpha=0.30$\")\n",
    "plt.subplot(2,3,5)\n",
    "plt.scatter(X2[:,0], X2[:,1], s=9, c='gray', cmap=plt.cm.rainbow)\n",
    "plt.scatter(hcd_rob7.params[:,0], hcd_rob7.params[:,1], c='k', s=81)\n",
    "plt.title(r\"6 clusters, $\\alpha=0.35$\")\n",
    "plt.subplot(2,3,6)\n",
    "plt.scatter(X2[:,0], X2[:,1], s=9, c='gray', cmap=plt.cm.rainbow)\n",
    "plt.scatter(hcd_rob8.params[:,0], hcd_rob8.params[:,1], c='k', s=81)\n",
    "plt.title(r\"7 clusters, $\\alpha=0.40$\")\n",
    "plt.yticks([],[])\n",
    "plt.tight_layout()\n",
    "plt.savefig('fig/rob_kmeans/robust_kmeans2_m2.eps')\n",
    "plt.show()"
   ]
  },
  {
   "cell_type": "code",
   "execution_count": null,
   "metadata": {},
   "outputs": [],
   "source": [
    "centers1, _, _ = cluster.k_means(X2, 2)\n",
    "centers2, _, _ = cluster.k_means(X2, 3)\n",
    "centers3, _, _ = cluster.k_means(X2, 4)\n",
    "centers4, _, _ = cluster.k_means(X2, 5)\n",
    "centers5, _, _ = cluster.k_means(X2, 6)\n",
    "centers6, _, _ = cluster.k_means(X2, 7)\n"
   ]
  },
  {
   "cell_type": "code",
   "execution_count": null,
   "metadata": {},
   "outputs": [],
   "source": [
    "plt.figure(figsize=(9,5))\n",
    "plt.subplot(2,3,1)\n",
    "plt.scatter(X2[:,0], X2[:,1], s=9, c='gray', cmap=plt.cm.rainbow)\n",
    "plt.scatter(centers1[:,0], centers1[:,1], c='k', s=81)\n",
    "plt.title(\"2 clusters\")\n",
    "plt.xticks([],[])\n",
    "plt.subplot(2,3,2)\n",
    "plt.scatter(X2[:,0], X2[:,1], s=9, c='gray', cmap=plt.cm.rainbow)\n",
    "plt.scatter(centers2[:,0], centers2[:,1], c='k', s=81)\n",
    "plt.title(\"3 clusters\")\n",
    "plt.xticks([],[])\n",
    "plt.yticks([],[])\n",
    "plt.subplot(2,3,3)\n",
    "plt.scatter(X2[:,0], X2[:,1], s=9, c='gray', cmap=plt.cm.rainbow)\n",
    "plt.scatter(centers3[:,0], centers3[:,1], c='k', s=81)\n",
    "plt.title(\"4 clusters\")\n",
    "plt.xticks([],[])\n",
    "plt.yticks([],[])\n",
    "plt.subplot(2,3,4)\n",
    "plt.scatter(X2[:,0], X2[:,1], s=9, c='gray', cmap=plt.cm.rainbow)\n",
    "plt.scatter(centers4[:,0], centers4[:,1], c='k', s=81)\n",
    "plt.title(\"5 clusters\")\n",
    "plt.subplot(2,3,5)\n",
    "plt.scatter(X2[:,0], X2[:,1], s=9, c='gray', cmap=plt.cm.rainbow)\n",
    "plt.scatter(centers5[:,0], centers5[:,1], c='k', s=81)\n",
    "plt.title(\"6 clusters\")\n",
    "plt.subplot(2,3,6)\n",
    "plt.scatter(X2[:,0], X2[:,1], s=9, c='gray', cmap=plt.cm.rainbow)\n",
    "plt.scatter(centers6[:,0], centers6[:,1], c='k', s=81)\n",
    "plt.title(\"7 clusters\")\n",
    "plt.yticks([],[])\n",
    "plt.tight_layout()\n",
    "plt.savefig('fig/rob_kmeans/robust_kmeans_m2_1.eps')\n",
    "plt.show()"
   ]
  },
  {
   "cell_type": "code",
   "execution_count": null,
   "metadata": {},
   "outputs": [],
   "source": [
    "s1data = np.loadtxt(\"data/cbb/s1.txt\")\n",
    "s1data *= 1.0e-6\n",
    "\n",
    "plt.scatter(s1data[:,0], s1data[:,1], s=9, c='gray')\n",
    "plt.show()"
   ]
  },
  {
   "cell_type": "code",
   "execution_count": null,
   "metadata": {},
   "outputs": [],
   "source": [
    "hcd_s1_sq = kmeans.HCD(func.Id(), s1data, 15)\n",
    "hcd_s1_sq.fit()\n",
    "hcd_s1_sq.K\n",
    "\n",
    "plt.scatter(s1data[:,0], s1data[:,1], c='grey', s=9, cmap=plt.cm.rainbow)\n",
    "plt.scatter(hcd_s1_sq.params[:,0], hcd_s1_sq.params[:,1], c='k', s=81)\n",
    "plt.show()"
   ]
  },
  {
   "cell_type": "code",
   "execution_count": null,
   "metadata": {},
   "outputs": [],
   "source": [
    "centers, labels, _ = cluster.k_means(s1data, 10)\n",
    "\n",
    "plt.scatter(s1data[:,0], s1data[:,1], c='gray', s=9, cmap=plt.cm.rainbow)\n",
    "plt.scatter(centers[:,0], centers[:,1], c='k', s=81)\n",
    "plt.show()"
   ]
  },
  {
   "cell_type": "code",
   "execution_count": null,
   "metadata": {},
   "outputs": [],
   "source": [
    "avrfunc = averager_it(func.QuantileFunc(0.20, func.Sqrt(0.001)) )\n",
    "hcd_s1_rob2 = kmeans.HCD_M1(avrfunc, s1data, 10, n_iter=1000, tol=0.001)\n",
    "hcd_s1_rob2.fit()\n",
    "print(hcd_s1_rob2.K)\n",
    "\n",
    "plt.scatter(s1data[:,0], s1data[:,1], c='gray', s=9, cmap=plt.cm.rainbow)\n",
    "plt.scatter(hcd_s1_rob2.params[:,0], hcd_s1_rob2.params[:,1], c='k', s=81)\n",
    "plt.show()"
   ]
  },
  {
   "cell_type": "code",
   "execution_count": null,
   "metadata": {},
   "outputs": [],
   "source": [
    "avrfunc = averager_it(func.QuantileFunc(0.1, func.Sqrt(0.001)) )\n",
    "hcd_s1_rob3 = kmeans.HCD_M1(avrfunc, s1data, 3, n_iter=1000, tol=0.001)\n",
    "hcd_s1_rob3.fit()\n",
    "print(hcd_s1_rob3.K)\n",
    "\n",
    "plt.scatter(s1data[:,0], s1data[:,1], c='gray', s=9, cmap=plt.cm.rainbow)\n",
    "plt.scatter(hcd_s1_rob3.params[:,0], hcd_s1_rob3.params[:,1], c='k', s=81)\n",
    "plt.show()"
   ]
  },
  {
   "cell_type": "code",
   "execution_count": null,
   "metadata": {},
   "outputs": [],
   "source": [
    "s2data = np.loadtxt(\"data/cbb/s2.txt\")\n",
    "s2data *= 1.0e-6\n",
    "\n",
    "plt.scatter(s2data[:,0], s2data[:,1], s=9)\n",
    "plt.show()"
   ]
  },
  {
   "cell_type": "code",
   "execution_count": null,
   "metadata": {},
   "outputs": [],
   "source": [
    "centers2, labels2, _ = cluster.k_means(s2data, 15)\n",
    "\n",
    "plt.scatter(s2data[:,0], s2data[:,1], c=labels2, s=9, cmap=plt.cm.rainbow)\n",
    "plt.scatter(centers2[:,0], centers2[:,1], c='k', s=81)\n",
    "plt.show()"
   ]
  },
  {
   "cell_type": "code",
   "execution_count": null,
   "metadata": {},
   "outputs": [],
   "source": [
    "hcd_s2_sq1 = kmeans.HCD(func.Id(), s2data, 15)\n",
    "hcd_s2_sq1.fit()\n",
    "\n",
    "plt.scatter(s2data[:,0], s2data[:,1], c=hcd_s2_sq1.Y, s=9, cmap=plt.cm.rainbow)\n",
    "plt.scatter(hcd_s2_sq1.params[:,0], hcd_s2_sq1.params[:,1], c='k', s=81)\n",
    "plt.show()"
   ]
  },
  {
   "cell_type": "code",
   "execution_count": null,
   "metadata": {},
   "outputs": [],
   "source": [
    "avrfunc = averager_it(func.QuantileFunc(0.08, func.Sqrt(0.001)) )\n",
    "hcd_s2_rob1 = kmeans.HCD_M1(avrfunc, s2data, 10, n_iter=1000, tol=0.001)\n",
    "hcd_s2_rob1.fit()\n",
    "print(hcd_s2_rob1.K)\n",
    "\n",
    "plt.scatter(s2data[:,0], s2data[:,1], s=9, c='gray', cmap=plt.cm.rainbow)\n",
    "plt.scatter(hcd_s2_rob1.params[:,0], hcd_s2_rob1.params[:,1], c='k', edgecolors='k', s=81)\n",
    "plt.show()"
   ]
  },
  {
   "cell_type": "code",
   "execution_count": null,
   "metadata": {},
   "outputs": [],
   "source": [
    "s3data = np.loadtxt(\"data/cbb/s3.txt\")\n",
    "s3data *= 1.0e-6\n",
    "\n",
    "plt.scatter(s3data[:,0], s3data[:,1], s=9, c='gray')\n",
    "plt.show()"
   ]
  },
  {
   "cell_type": "code",
   "execution_count": null,
   "metadata": {},
   "outputs": [],
   "source": [
    "centers3, labels3, _ = cluster.k_means(s3data, 15)\n",
    "\n",
    "plt.scatter(s3data[:,0], s3data[:,1], c='gray', s=9, cmap=plt.cm.rainbow)\n",
    "plt.scatter(centers3[:,0], centers3[:,1], c='k', s=81)\n",
    "plt.show()"
   ]
  },
  {
   "cell_type": "code",
   "execution_count": null,
   "metadata": {},
   "outputs": [],
   "source": [
    "centers3, labels3, _ = cluster.k_means(s3data, 10)\n",
    "\n",
    "plt.scatter(s3data[:,0], s3data[:,1], c='gray', s=9, cmap=plt.cm.rainbow)\n",
    "plt.scatter(centers3[:,0], centers3[:,1], c='k', s=81)\n",
    "plt.show()"
   ]
  },
  {
   "cell_type": "code",
   "execution_count": null,
   "metadata": {},
   "outputs": [],
   "source": [
    "avrfunc = averager_it(func.QuantileFunc(0.30, func.Sqrt(0.001)) )\n",
    "hcd_s3_rob1 = kmeans.HCD_M1(avrfunc, s3data, 10, n_iter=1000, tol=0.001)\n",
    "hcd_s3_rob1.fit()\n",
    "print(hcd_s3_rob1.K)\n",
    "\n",
    "plt.scatter(s3data[:,0], s3data[:,1], s=9, c='gray', cmap=plt.cm.rainbow)\n",
    "plt.scatter(hcd_s3_rob1.params[:,0], hcd_s3_rob1.params[:,1], c='k', edgecolors='k', s=81)\n",
    "plt.show()"
   ]
  },
  {
   "cell_type": "code",
   "execution_count": null,
   "metadata": {},
   "outputs": [],
   "source": [
    "s4data = np.loadtxt(\"data/cbb/s4.txt\")\n",
    "s4data *= 1.0e-6\n",
    "\n",
    "plt.scatter(s4data[:,0], s4data[:,1], s=9, c='gray')\n",
    "plt.show()"
   ]
  },
  {
   "cell_type": "code",
   "execution_count": null,
   "metadata": {},
   "outputs": [],
   "source": [
    "centers4, labels4, _ = cluster.k_means(s4data, 15)\n",
    "\n",
    "plt.scatter(s4data[:,0], s4data[:,1], c='gray', s=9, cmap=plt.cm.rainbow)\n",
    "plt.scatter(centers4[:,0], centers4[:,1], c='k', s=81)\n",
    "plt.show()"
   ]
  },
  {
   "cell_type": "code",
   "execution_count": null,
   "metadata": {},
   "outputs": [],
   "source": [
    "centers4, labels4, _ = cluster.k_means(s4data, 10)\n",
    "\n",
    "plt.scatter(s4data[:,0], s4data[:,1], c='gray', s=9, cmap=plt.cm.rainbow)\n",
    "plt.scatter(centers4[:,0], centers4[:,1], c='k', s=81)\n",
    "plt.show()"
   ]
  },
  {
   "cell_type": "code",
   "execution_count": null,
   "metadata": {},
   "outputs": [],
   "source": [
    "avrfunc = averager_it(func.QuantileFunc(0.33, func.Sqrt(0.001)) )\n",
    "hcd_s4_rob1 = kmeans.HCD_M1(avrfunc, s4data, 10, n_iter=1000, tol=0.001)\n",
    "hcd_s4_rob1.fit()\n",
    "print(hcd_s4_rob1.K)\n",
    "\n",
    "plt.scatter(s4data[:,0], s4data[:,1], s=9, c='gray', cmap=plt.cm.rainbow)\n",
    "plt.scatter(hcd_s4_rob1.params[:,0], hcd_s4_rob1.params[:,1], c='k', edgecolors='k', s=81)\n",
    "plt.show()"
   ]
  },
  {
   "cell_type": "code",
   "execution_count": null,
   "metadata": {},
   "outputs": [],
   "source": []
  }
 ],
 "metadata": {
  "kernelspec": {
   "display_name": "Python 3",
   "language": "python",
   "name": "python3"
  },
  "language_info": {
   "codemirror_mode": {
    "name": "ipython",
    "version": 3
   },
   "file_extension": ".py",
   "mimetype": "text/x-python",
   "name": "python",
   "nbconvert_exporter": "python",
   "pygments_lexer": "ipython3",
   "version": "3.7.5rc1"
  }
 },
 "nbformat": 4,
 "nbformat_minor": 4
}
