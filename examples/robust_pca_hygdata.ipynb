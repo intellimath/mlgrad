{
 "cells": [
  {
   "cell_type": "code",
   "execution_count": 1,
   "id": "1d24f0d5-2e0d-4f86-b28f-ac8de55e0409",
   "metadata": {
    "execution": {
     "iopub.execute_input": "2024-10-04T20:38:45.625521Z",
     "iopub.status.busy": "2024-10-04T20:38:45.624275Z",
     "iopub.status.idle": "2024-10-04T20:38:46.528494Z",
     "shell.execute_reply": "2024-10-04T20:38:46.526895Z",
     "shell.execute_reply.started": "2024-10-04T20:38:45.625473Z"
    }
   },
   "outputs": [
    {
     "ename": "ModuleNotFoundError",
     "evalue": "No module named 'mlgrad.func'",
     "output_type": "error",
     "traceback": [
      "\u001b[0;31m---------------------------------------------------------------------------\u001b[0m",
      "\u001b[0;31mModuleNotFoundError\u001b[0m                       Traceback (most recent call last)",
      "Cell \u001b[0;32mIn[1], line 4\u001b[0m\n\u001b[1;32m      2\u001b[0m \u001b[38;5;28;01mimport\u001b[39;00m \u001b[38;5;21;01mmatplotlib\u001b[39;00m\u001b[38;5;21;01m.\u001b[39;00m\u001b[38;5;21;01mpyplot\u001b[39;00m \u001b[38;5;28;01mas\u001b[39;00m \u001b[38;5;21;01mplt\u001b[39;00m\n\u001b[1;32m      3\u001b[0m \u001b[38;5;28;01mimport\u001b[39;00m \u001b[38;5;21;01mmlgrad\u001b[39;00m\u001b[38;5;21;01m.\u001b[39;00m\u001b[38;5;21;01maf\u001b[39;00m \u001b[38;5;28;01mas\u001b[39;00m \u001b[38;5;21;01maf\u001b[39;00m\n\u001b[0;32m----> 4\u001b[0m \u001b[38;5;28;01mimport\u001b[39;00m \u001b[38;5;21;01mmlgrad\u001b[39;00m\u001b[38;5;21;01m.\u001b[39;00m\u001b[38;5;21;01mfunc\u001b[39;00m \u001b[38;5;28;01mas\u001b[39;00m \u001b[38;5;21;01mfunc\u001b[39;00m\n\u001b[1;32m      5\u001b[0m \u001b[38;5;28;01mimport\u001b[39;00m \u001b[38;5;21;01mmlgrad\u001b[39;00m\u001b[38;5;21;01m.\u001b[39;00m\u001b[38;5;21;01mutils\u001b[39;00m \u001b[38;5;28;01mas\u001b[39;00m \u001b[38;5;21;01mutils\u001b[39;00m\n\u001b[1;32m      6\u001b[0m \u001b[38;5;28;01mimport\u001b[39;00m \u001b[38;5;21;01mmlgrad\u001b[39;00m\u001b[38;5;21;01m.\u001b[39;00m\u001b[38;5;21;01mpca\u001b[39;00m \u001b[38;5;28;01mas\u001b[39;00m \u001b[38;5;21;01mpca\u001b[39;00m\n",
      "\u001b[0;31mModuleNotFoundError\u001b[0m: No module named 'mlgrad.func'"
     ]
    }
   ],
   "source": [
    "import numpy as np\n",
    "import matplotlib.pyplot as plt\n",
    "import mlgrad.af as af\n",
    "import mlgrad.funcs as funcs\n",
    "import mlgrad.utils as utils\n",
    "import mlgrad.pca as pca\n",
    "import pandas as pd\n",
    "import sklearn.datasets as datasets\n",
    "import sklearn.decomposition as decomposition"
   ]
  },
  {
   "cell_type": "code",
   "execution_count": null,
   "id": "748d0c85-791a-44ce-a584-8cabbaacef8f",
   "metadata": {
    "execution": {
     "iopub.status.busy": "2024-10-04T20:38:46.528987Z",
     "iopub.status.idle": "2024-10-04T20:38:46.529218Z",
     "shell.execute_reply": "2024-10-04T20:38:46.529119Z",
     "shell.execute_reply.started": "2024-10-04T20:38:46.529108Z"
    }
   },
   "outputs": [],
   "source": [
    "df = pd.read_csv(\"data/hygdata_v3-abridged.csv\", sep=',', usecols=['ci','lum'])\n",
    "df.dropna(inplace=True)\n",
    "print(df.columns)\n",
    "df"
   ]
  },
  {
   "cell_type": "code",
   "execution_count": null,
   "id": "5de4302f-959d-4046-8da1-8ed035bc0692",
   "metadata": {
    "execution": {
     "iopub.status.busy": "2024-10-04T20:38:46.530589Z",
     "iopub.status.idle": "2024-10-04T20:38:46.530832Z",
     "shell.execute_reply": "2024-10-04T20:38:46.530726Z",
     "shell.execute_reply.started": "2024-10-04T20:38:46.530715Z"
    }
   },
   "outputs": [],
   "source": [
    "ci = df['ci'].values\n",
    "lum = df['lum'].values\n",
    "iii = lum > 0\n",
    "lum = lum[iii]\n",
    "ci = ci[iii]\n",
    "lum = np.log(lum)\n",
    "T = np.log(4600 * (10.92/(ci+1.7)+10.92/(ci+0.62)))\n",
    "X0 = np.c_[lum,T]"
   ]
  },
  {
   "cell_type": "code",
   "execution_count": null,
   "id": "b3a3251f-e6ad-408d-8e93-2de372026c3a",
   "metadata": {
    "execution": {
     "iopub.status.busy": "2024-10-04T20:38:46.531718Z",
     "iopub.status.idle": "2024-10-04T20:38:46.532007Z",
     "shell.execute_reply": "2024-10-04T20:38:46.531869Z",
     "shell.execute_reply.started": "2024-10-04T20:38:46.531856Z"
    }
   },
   "outputs": [],
   "source": [
    "# plt.figure(figsize=(18,3))\n",
    "plt.scatter(lum, T, s=9, c='w', edgecolors='k', linewidth=0.5)\n",
    "plt.xlabel('lum')\n",
    "plt.ylabel('T')\n",
    "plt.title('Hertzsprung-Russell Diagram')\n",
    "plt.minorticks_on()\n",
    "plt.show()"
   ]
  },
  {
   "cell_type": "code",
   "execution_count": null,
   "id": "d499e0cb-8e42-4236-8c16-e36bf8a39747",
   "metadata": {
    "execution": {
     "iopub.status.busy": "2024-10-04T20:38:46.532990Z",
     "iopub.status.idle": "2024-10-04T20:38:46.533306Z",
     "shell.execute_reply": "2024-10-04T20:38:46.533167Z",
     "shell.execute_reply.started": "2024-10-04T20:38:46.533154Z"
    }
   },
   "outputs": [],
   "source": [
    "pca_sk = decomposition.PCA()\n",
    "pca_sk = pca_sk.fit(X0)"
   ]
  },
  {
   "cell_type": "code",
   "execution_count": null,
   "id": "987718c4-38e1-462a-9fb7-2ca40ead75f2",
   "metadata": {
    "execution": {
     "iopub.status.busy": "2024-10-04T20:38:46.534285Z",
     "iopub.status.idle": "2024-10-04T20:38:46.534603Z",
     "shell.execute_reply": "2024-10-04T20:38:46.534445Z",
     "shell.execute_reply.started": "2024-10-04T20:38:46.534430Z"
    }
   },
   "outputs": [],
   "source": [
    "sk_cs = pca_sk.components_\n",
    "sk_c0 = pca_sk.mean_\n",
    "sk_a1 = sk_cs[0,:]\n",
    "sk_a2 = sk_cs[1,:]"
   ]
  },
  {
   "cell_type": "code",
   "execution_count": null,
   "id": "184b7620-175a-4425-8f68-9362cf17c508",
   "metadata": {
    "execution": {
     "iopub.status.busy": "2024-10-04T20:38:46.535519Z",
     "iopub.status.idle": "2024-10-04T20:38:46.535892Z",
     "shell.execute_reply": "2024-10-04T20:38:46.535751Z",
     "shell.execute_reply.started": "2024-10-04T20:38:46.535738Z"
    }
   },
   "outputs": [],
   "source": [
    "plt.figure(figsize=(20,3))\n",
    "plt.scatter(lum, T, s=9, c='w', edgecolors='k', linewidth=0.5)\n",
    "plt.xlabel('lum')\n",
    "plt.ylabel('T')\n",
    "plt.scatter([sk_c0[0]], [sk_c0[1]], s=81, c='w', edgecolors='k')\n",
    "plt.plot([sk_c0[0]-2*sk_a1[0], sk_c0[0]+2*sk_a1[0]], [sk_c0[1]-2*sk_a1[1], sk_c0[1]+2*sk_a1[1]], label='1')\n",
    "plt.plot([sk_c0[0]-2*sk_a2[0], sk_c0[0]+2*sk_a2[0]], [sk_c0[1]-2*sk_a2[1], sk_c0[1]+2*sk_a2[1]], label='2')\n",
    "plt.title('Hertzsprung-Russell Diagram')\n",
    "plt.minorticks_on()\n",
    "plt.legend()\n",
    "plt.show()"
   ]
  },
  {
   "cell_type": "code",
   "execution_count": null,
   "id": "5d78a39c-8421-42d4-95cb-f87ee690ea85",
   "metadata": {
    "execution": {
     "iopub.status.busy": "2024-10-04T20:38:46.536850Z",
     "iopub.status.idle": "2024-10-04T20:38:46.537153Z",
     "shell.execute_reply": "2024-10-04T20:38:46.537012Z",
     "shell.execute_reply.started": "2024-10-04T20:38:46.536998Z"
    }
   },
   "outputs": [],
   "source": [
    "c0 = pca.location(X0)\n",
    "plt.figure(figsize=(12,5))\n",
    "plt.plot(sorted(pca.distance_center(X0, c0)), marker='s', markersize=2)\n",
    "plt.minorticks_on()\n",
    "plt.show()\n",
    "print(c0)"
   ]
  },
  {
   "cell_type": "code",
   "execution_count": null,
   "id": "36a29c57-b818-4020-91d7-734c37db087d",
   "metadata": {
    "execution": {
     "iopub.status.busy": "2024-10-04T20:38:46.537997Z",
     "iopub.status.idle": "2024-10-04T20:38:46.538537Z",
     "shell.execute_reply": "2024-10-04T20:38:46.538361Z",
     "shell.execute_reply.started": "2024-10-04T20:38:46.538345Z"
    }
   },
   "outputs": [],
   "source": [
    "# N = len(X0)\n",
    "# alpha = (N - 8) / N\n",
    "# print(alpha)\n",
    "wma = af.averaging_function(\"WM\", rhofunc=funcs.Quantile_Sqrt(0.9, 0.001))\n",
    "c = pca.robust_location(X0, wma)\n",
    "plt.plot(sorted(pca.distance_center(X0, c)), marker='s', markersize=3)\n",
    "plt.show()\n",
    "print(c)"
   ]
  },
  {
   "cell_type": "code",
   "execution_count": null,
   "id": "586a86cf-d45c-4c30-ad85-7b155c18d70c",
   "metadata": {
    "execution": {
     "iopub.status.busy": "2024-10-04T20:38:46.539456Z",
     "iopub.status.idle": "2024-10-04T20:38:46.539773Z",
     "shell.execute_reply": "2024-10-04T20:38:46.539629Z",
     "shell.execute_reply.started": "2024-10-04T20:38:46.539615Z"
    }
   },
   "outputs": [],
   "source": [
    "D0 = pca.distance_center(X0, c0)\n",
    "D1 = pca.distance_center(X0, c)\n",
    "plt.scatter(D0, D1)\n",
    "plt.minorticks_on()\n",
    "plt.grid(1)\n",
    "plt.show()"
   ]
  },
  {
   "cell_type": "code",
   "execution_count": null,
   "id": "ad264413-066f-4b62-be08-ab3d99a2d732",
   "metadata": {
    "execution": {
     "iopub.status.busy": "2024-10-04T20:38:46.541134Z",
     "iopub.status.idle": "2024-10-04T20:38:46.541556Z",
     "shell.execute_reply": "2024-10-04T20:38:46.541363Z",
     "shell.execute_reply.started": "2024-10-04T20:38:46.541345Z"
    }
   },
   "outputs": [],
   "source": [
    "X1 = X0 - c\n",
    "X1_0 = X0 - c0"
   ]
  },
  {
   "cell_type": "code",
   "execution_count": null,
   "id": "a58ed559-9ad8-449a-8891-2aa56794415e",
   "metadata": {
    "execution": {
     "iopub.status.busy": "2024-10-04T20:38:46.542700Z",
     "iopub.status.idle": "2024-10-04T20:38:46.543186Z",
     "shell.execute_reply": "2024-10-04T20:38:46.542983Z",
     "shell.execute_reply.started": "2024-10-04T20:38:46.542963Z"
    }
   },
   "outputs": [],
   "source": [
    "a1_0, L1_0 = pca.find_pc(X1_0)\n",
    "plt.plot(sorted(pca.distance_line(X1_0, a1_0)), marker='o', markersize=4)\n",
    "plt.show()\n",
    "print(L1_0, a1_0)"
   ]
  },
  {
   "cell_type": "code",
   "execution_count": null,
   "id": "deb0e673-98bf-4193-b63b-49d12653e859",
   "metadata": {
    "execution": {
     "iopub.status.busy": "2024-10-04T20:38:46.544624Z",
     "iopub.status.idle": "2024-10-04T20:38:46.545030Z",
     "shell.execute_reply": "2024-10-04T20:38:46.544837Z",
     "shell.execute_reply.started": "2024-10-04T20:38:46.544818Z"
    }
   },
   "outputs": [],
   "source": [
    "# N = len(X0)\n",
    "# alpha = (N - 12) / N\n",
    "# print(alpha)\n",
    "wma = af.averaging_function(\"WM\", rhofunc=funcs.Quantile_Sqrt(0.9, 0.001))\n",
    "a1, L1 = pca.find_robust_pc(X1, wma)\n",
    "plt.plot(sorted(pca.distance_line(X1, a1)), marker='o', markersize=4)\n",
    "plt.show()\n",
    "print(L1, a1)\n",
    "U1 = pca.project_line(X1, a1)\n",
    "U1_0 = pca.project_line(X1_0, a1_0)"
   ]
  },
  {
   "cell_type": "code",
   "execution_count": null,
   "id": "e8d40271-6960-43aa-9989-6a8aff655fe3",
   "metadata": {
    "execution": {
     "iopub.status.busy": "2024-10-04T20:38:46.546271Z",
     "iopub.status.idle": "2024-10-04T20:38:46.546694Z",
     "shell.execute_reply": "2024-10-04T20:38:46.546510Z",
     "shell.execute_reply.started": "2024-10-04T20:38:46.546479Z"
    }
   },
   "outputs": [],
   "source": [
    "plt.scatter(pca.distance_line(X1_0, a1_0), pca.distance_line(X1, a1))\n",
    "plt.minorticks_on()\n",
    "plt.grid(1)\n",
    "plt.show()"
   ]
  },
  {
   "cell_type": "code",
   "execution_count": null,
   "id": "51d1eee4-8d7b-4deb-b881-c6d078c042ce",
   "metadata": {
    "execution": {
     "iopub.status.busy": "2024-10-04T20:38:46.547795Z",
     "iopub.status.idle": "2024-10-04T20:38:46.548051Z",
     "shell.execute_reply": "2024-10-04T20:38:46.547945Z",
     "shell.execute_reply.started": "2024-10-04T20:38:46.547934Z"
    }
   },
   "outputs": [],
   "source": [
    "X2 = pca.project(X1, a1)\n",
    "X2_0 = pca.project(X1_0, a1_0)"
   ]
  },
  {
   "cell_type": "code",
   "execution_count": null,
   "id": "c169cf1b-1e5a-48e1-8d19-d1f2f1823675",
   "metadata": {
    "execution": {
     "iopub.status.busy": "2024-10-04T20:38:46.549236Z",
     "iopub.status.idle": "2024-10-04T20:38:46.549634Z",
     "shell.execute_reply": "2024-10-04T20:38:46.549442Z",
     "shell.execute_reply.started": "2024-10-04T20:38:46.549425Z"
    }
   },
   "outputs": [],
   "source": [
    "a2_0, L2_0 = pca.find_pc(X2)\n",
    "plt.plot(sorted(pca.distance_line(X2_0, a2_0)), marker='o', markersize=4)\n",
    "plt.show()\n",
    "print(L2_0, a2_0)"
   ]
  },
  {
   "cell_type": "code",
   "execution_count": null,
   "id": "1a9f6fc3-1eb5-4ac8-96a4-8e11cb3ce0e8",
   "metadata": {
    "execution": {
     "iopub.status.busy": "2024-10-04T20:38:46.552163Z",
     "iopub.status.idle": "2024-10-04T20:38:46.552594Z",
     "shell.execute_reply": "2024-10-04T20:38:46.552435Z",
     "shell.execute_reply.started": "2024-10-04T20:38:46.552420Z"
    }
   },
   "outputs": [],
   "source": [
    "# N = len(X0)\n",
    "# alpha = (N - 10) / N\n",
    "# print(alpha)\n",
    "wma = af.averaging_function(\"WM\", rhofunc=funcs.Quantile_Sqrt(0.9, 0.001))\n",
    "a2, L2 = pca.find_robust_pc(X2, wma)\n",
    "plt.plot(sorted(pca.distance_line(X2, a2)), marker='o', markersize=3)\n",
    "plt.show()\n",
    "print(L2, a2)\n",
    "U2 = pca.project_line(X2, a2)\n",
    "U2_0 = pca.project_line(X2_0, a2_0)"
   ]
  },
  {
   "cell_type": "code",
   "execution_count": null,
   "id": "71541bed-821c-43e2-b1b4-9f0b8212c5e1",
   "metadata": {
    "execution": {
     "iopub.status.busy": "2024-10-04T20:38:46.553515Z",
     "iopub.status.idle": "2024-10-04T20:38:46.553847Z",
     "shell.execute_reply": "2024-10-04T20:38:46.553685Z",
     "shell.execute_reply.started": "2024-10-04T20:38:46.553673Z"
    }
   },
   "outputs": [],
   "source": [
    "plt.scatter(pca.distance_line(X2_0, a2_0), pca.distance_line(X2, a2))\n",
    "plt.minorticks_on()\n",
    "plt.grid(1)\n",
    "plt.show()"
   ]
  },
  {
   "cell_type": "code",
   "execution_count": null,
   "id": "3ae8996d-949d-4859-b938-74e454eb65e8",
   "metadata": {
    "execution": {
     "iopub.status.busy": "2024-10-04T20:38:46.555318Z",
     "iopub.status.idle": "2024-10-04T20:38:46.555819Z",
     "shell.execute_reply": "2024-10-04T20:38:46.555576Z",
     "shell.execute_reply.started": "2024-10-04T20:38:46.555554Z"
    }
   },
   "outputs": [],
   "source": [
    "plt.figure(figsize=(13,3))\n",
    "plt.scatter(lum, T, s=9, c='w', edgecolors='k', linewidth=0.5)\n",
    "plt.scatter([sk_c0[0]], [sk_c0[1]], s=81, c='w', edgecolors='k')\n",
    "plt.scatter([c[0]], c[[1]], s=81, c='w', edgecolors='k')\n",
    "plt.plot([sk_c0[0]-4*sk_a1[0], sk_c0[0]+4*sk_a1[0]], [sk_c0[1]-4*sk_a1[1], sk_c0[1]+4*sk_a1[1]], \n",
    "         label='pca', linestyle='--', c='k')\n",
    "plt.plot([sk_c0[0]-2*sk_a2[0], sk_c0[0]+2*sk_a2[0]], [sk_c0[1]-2*sk_a2[1], sk_c0[1]+2*sk_a2[1]],\n",
    "        linestyle='--', c='k')\n",
    "plt.plot([c[0]-4*a1[0], c[0]+4*a1[0]], [c[1]-4*a1[1], c[1]+4*a1[1]], \n",
    "         label='robust_pca', linestyle='-', c='k')\n",
    "plt.plot([c[0]-2*a2[0], c[0]+2*a2[0]], [c[1]-2*a2[1], c[1]+2*a2[1]],\n",
    "        linestyle='-', c='k')\n",
    "plt.xlabel('lum')\n",
    "plt.ylabel('ci')\n",
    "plt.title('Hertzsprung-Russell Diagram')\n",
    "plt.minorticks_on()\n",
    "plt.legend()\n",
    "plt.tight_layout()\n",
    "plt.savefig('robust_pca_hygdata.eps')\n",
    "plt.show()"
   ]
  },
  {
   "cell_type": "code",
   "execution_count": null,
   "id": "416bca1e-eef6-4b88-ad46-b6d643c0adf7",
   "metadata": {
    "execution": {
     "iopub.status.busy": "2024-10-04T20:38:46.558198Z",
     "iopub.status.idle": "2024-10-04T20:38:46.558527Z",
     "shell.execute_reply": "2024-10-04T20:38:46.558377Z",
     "shell.execute_reply.started": "2024-10-04T20:38:46.558365Z"
    }
   },
   "outputs": [],
   "source": [
    "print(c0, c)"
   ]
  },
  {
   "cell_type": "code",
   "execution_count": null,
   "id": "504d7236-cb2e-4502-8fbf-57deffb6b118",
   "metadata": {
    "execution": {
     "iopub.status.busy": "2024-10-04T20:38:46.559715Z",
     "iopub.status.idle": "2024-10-04T20:38:46.560085Z",
     "shell.execute_reply": "2024-10-04T20:38:46.559921Z",
     "shell.execute_reply.started": "2024-10-04T20:38:46.559905Z"
    }
   },
   "outputs": [],
   "source": [
    "print(a1_0, a2_0)\n",
    "print(a1, a2)"
   ]
  },
  {
   "cell_type": "code",
   "execution_count": null,
   "id": "14b71ce5-bc2e-4368-9e00-a3391c54f8d5",
   "metadata": {},
   "outputs": [],
   "source": []
  },
  {
   "cell_type": "code",
   "execution_count": null,
   "id": "87798b1c-c468-49fa-a7f9-3f9602c2a1a0",
   "metadata": {},
   "outputs": [],
   "source": []
  }
 ],
 "metadata": {
  "kernelspec": {
   "display_name": "Python 3 (ipykernel)",
   "language": "python",
   "name": "python3"
  },
  "language_info": {
   "codemirror_mode": {
    "name": "ipython",
    "version": 3
   },
   "file_extension": ".py",
   "mimetype": "text/x-python",
   "name": "python",
   "nbconvert_exporter": "python",
   "pygments_lexer": "ipython3",
   "version": "3.12.6"
  }
 },
 "nbformat": 4,
 "nbformat_minor": 5
}
