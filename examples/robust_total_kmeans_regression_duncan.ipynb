{
 "cells": [
  {
   "cell_type": "code",
   "execution_count": 1,
   "metadata": {},
   "outputs": [],
   "source": [
    "import numpy as np\n",
    "import matplotlib.pyplot as plt\n",
    "import pandas as pd\n",
    "\n",
    "import matplotlib as mpl\n",
    "mpl.style.use('seaborn-notebook')"
   ]
  },
  {
   "cell_type": "code",
   "execution_count": 2,
   "metadata": {},
   "outputs": [
    {
     "data": {
      "text/html": [
       "<div>\n",
       "<style scoped>\n",
       "    .dataframe tbody tr th:only-of-type {\n",
       "        vertical-align: middle;\n",
       "    }\n",
       "\n",
       "    .dataframe tbody tr th {\n",
       "        vertical-align: top;\n",
       "    }\n",
       "\n",
       "    .dataframe thead th {\n",
       "        text-align: right;\n",
       "    }\n",
       "</style>\n",
       "<table border=\"1\" class=\"dataframe\">\n",
       "  <thead>\n",
       "    <tr style=\"text-align: right;\">\n",
       "      <th></th>\n",
       "      <th>name</th>\n",
       "      <th>type</th>\n",
       "      <th>income</th>\n",
       "      <th>education</th>\n",
       "      <th>prestige</th>\n",
       "    </tr>\n",
       "  </thead>\n",
       "  <tbody>\n",
       "    <tr>\n",
       "      <th>0</th>\n",
       "      <td>accountant</td>\n",
       "      <td>prof</td>\n",
       "      <td>62</td>\n",
       "      <td>86</td>\n",
       "      <td>82</td>\n",
       "    </tr>\n",
       "    <tr>\n",
       "      <th>1</th>\n",
       "      <td>pilot</td>\n",
       "      <td>prof</td>\n",
       "      <td>72</td>\n",
       "      <td>76</td>\n",
       "      <td>83</td>\n",
       "    </tr>\n",
       "    <tr>\n",
       "      <th>2</th>\n",
       "      <td>architect</td>\n",
       "      <td>prof</td>\n",
       "      <td>75</td>\n",
       "      <td>92</td>\n",
       "      <td>90</td>\n",
       "    </tr>\n",
       "    <tr>\n",
       "      <th>3</th>\n",
       "      <td>author</td>\n",
       "      <td>prof</td>\n",
       "      <td>55</td>\n",
       "      <td>90</td>\n",
       "      <td>76</td>\n",
       "    </tr>\n",
       "    <tr>\n",
       "      <th>4</th>\n",
       "      <td>chemist</td>\n",
       "      <td>prof</td>\n",
       "      <td>64</td>\n",
       "      <td>86</td>\n",
       "      <td>90</td>\n",
       "    </tr>\n",
       "    <tr>\n",
       "      <th>5</th>\n",
       "      <td>minister</td>\n",
       "      <td>prof</td>\n",
       "      <td>21</td>\n",
       "      <td>84</td>\n",
       "      <td>87</td>\n",
       "    </tr>\n",
       "    <tr>\n",
       "      <th>6</th>\n",
       "      <td>professor</td>\n",
       "      <td>prof</td>\n",
       "      <td>64</td>\n",
       "      <td>93</td>\n",
       "      <td>93</td>\n",
       "    </tr>\n",
       "    <tr>\n",
       "      <th>7</th>\n",
       "      <td>dentist</td>\n",
       "      <td>prof</td>\n",
       "      <td>80</td>\n",
       "      <td>100</td>\n",
       "      <td>90</td>\n",
       "    </tr>\n",
       "    <tr>\n",
       "      <th>8</th>\n",
       "      <td>reporter</td>\n",
       "      <td>wc</td>\n",
       "      <td>67</td>\n",
       "      <td>87</td>\n",
       "      <td>52</td>\n",
       "    </tr>\n",
       "    <tr>\n",
       "      <th>9</th>\n",
       "      <td>engineer</td>\n",
       "      <td>prof</td>\n",
       "      <td>72</td>\n",
       "      <td>86</td>\n",
       "      <td>88</td>\n",
       "    </tr>\n",
       "    <tr>\n",
       "      <th>10</th>\n",
       "      <td>undertaker</td>\n",
       "      <td>prof</td>\n",
       "      <td>42</td>\n",
       "      <td>74</td>\n",
       "      <td>57</td>\n",
       "    </tr>\n",
       "    <tr>\n",
       "      <th>11</th>\n",
       "      <td>lawyer</td>\n",
       "      <td>prof</td>\n",
       "      <td>76</td>\n",
       "      <td>98</td>\n",
       "      <td>89</td>\n",
       "    </tr>\n",
       "    <tr>\n",
       "      <th>12</th>\n",
       "      <td>physician</td>\n",
       "      <td>prof</td>\n",
       "      <td>76</td>\n",
       "      <td>97</td>\n",
       "      <td>97</td>\n",
       "    </tr>\n",
       "    <tr>\n",
       "      <th>13</th>\n",
       "      <td>welfare.worker</td>\n",
       "      <td>prof</td>\n",
       "      <td>41</td>\n",
       "      <td>84</td>\n",
       "      <td>59</td>\n",
       "    </tr>\n",
       "    <tr>\n",
       "      <th>14</th>\n",
       "      <td>teacher</td>\n",
       "      <td>prof</td>\n",
       "      <td>48</td>\n",
       "      <td>91</td>\n",
       "      <td>73</td>\n",
       "    </tr>\n",
       "    <tr>\n",
       "      <th>15</th>\n",
       "      <td>conductor</td>\n",
       "      <td>wc</td>\n",
       "      <td>76</td>\n",
       "      <td>34</td>\n",
       "      <td>38</td>\n",
       "    </tr>\n",
       "    <tr>\n",
       "      <th>16</th>\n",
       "      <td>contractor</td>\n",
       "      <td>prof</td>\n",
       "      <td>53</td>\n",
       "      <td>45</td>\n",
       "      <td>76</td>\n",
       "    </tr>\n",
       "    <tr>\n",
       "      <th>17</th>\n",
       "      <td>factory.owner</td>\n",
       "      <td>prof</td>\n",
       "      <td>60</td>\n",
       "      <td>56</td>\n",
       "      <td>81</td>\n",
       "    </tr>\n",
       "    <tr>\n",
       "      <th>18</th>\n",
       "      <td>store.manager</td>\n",
       "      <td>prof</td>\n",
       "      <td>42</td>\n",
       "      <td>44</td>\n",
       "      <td>45</td>\n",
       "    </tr>\n",
       "    <tr>\n",
       "      <th>19</th>\n",
       "      <td>banker</td>\n",
       "      <td>prof</td>\n",
       "      <td>78</td>\n",
       "      <td>82</td>\n",
       "      <td>92</td>\n",
       "    </tr>\n",
       "    <tr>\n",
       "      <th>20</th>\n",
       "      <td>bookkeeper</td>\n",
       "      <td>wc</td>\n",
       "      <td>29</td>\n",
       "      <td>72</td>\n",
       "      <td>39</td>\n",
       "    </tr>\n",
       "    <tr>\n",
       "      <th>21</th>\n",
       "      <td>mail.carrier</td>\n",
       "      <td>wc</td>\n",
       "      <td>48</td>\n",
       "      <td>55</td>\n",
       "      <td>34</td>\n",
       "    </tr>\n",
       "    <tr>\n",
       "      <th>22</th>\n",
       "      <td>insurance.agent</td>\n",
       "      <td>wc</td>\n",
       "      <td>55</td>\n",
       "      <td>71</td>\n",
       "      <td>41</td>\n",
       "    </tr>\n",
       "    <tr>\n",
       "      <th>23</th>\n",
       "      <td>store.clerk</td>\n",
       "      <td>wc</td>\n",
       "      <td>29</td>\n",
       "      <td>50</td>\n",
       "      <td>16</td>\n",
       "    </tr>\n",
       "    <tr>\n",
       "      <th>24</th>\n",
       "      <td>carpenter</td>\n",
       "      <td>bc</td>\n",
       "      <td>21</td>\n",
       "      <td>23</td>\n",
       "      <td>33</td>\n",
       "    </tr>\n",
       "    <tr>\n",
       "      <th>25</th>\n",
       "      <td>electrician</td>\n",
       "      <td>bc</td>\n",
       "      <td>47</td>\n",
       "      <td>39</td>\n",
       "      <td>53</td>\n",
       "    </tr>\n",
       "    <tr>\n",
       "      <th>26</th>\n",
       "      <td>RR.engineer</td>\n",
       "      <td>bc</td>\n",
       "      <td>81</td>\n",
       "      <td>28</td>\n",
       "      <td>67</td>\n",
       "    </tr>\n",
       "    <tr>\n",
       "      <th>27</th>\n",
       "      <td>machinist</td>\n",
       "      <td>bc</td>\n",
       "      <td>36</td>\n",
       "      <td>32</td>\n",
       "      <td>57</td>\n",
       "    </tr>\n",
       "    <tr>\n",
       "      <th>28</th>\n",
       "      <td>auto.repairman</td>\n",
       "      <td>bc</td>\n",
       "      <td>22</td>\n",
       "      <td>22</td>\n",
       "      <td>26</td>\n",
       "    </tr>\n",
       "    <tr>\n",
       "      <th>29</th>\n",
       "      <td>plumber</td>\n",
       "      <td>bc</td>\n",
       "      <td>44</td>\n",
       "      <td>25</td>\n",
       "      <td>29</td>\n",
       "    </tr>\n",
       "    <tr>\n",
       "      <th>30</th>\n",
       "      <td>gas.stn.attendant</td>\n",
       "      <td>bc</td>\n",
       "      <td>15</td>\n",
       "      <td>29</td>\n",
       "      <td>10</td>\n",
       "    </tr>\n",
       "    <tr>\n",
       "      <th>31</th>\n",
       "      <td>coal.miner</td>\n",
       "      <td>bc</td>\n",
       "      <td>7</td>\n",
       "      <td>7</td>\n",
       "      <td>15</td>\n",
       "    </tr>\n",
       "    <tr>\n",
       "      <th>32</th>\n",
       "      <td>streetcar.motorman</td>\n",
       "      <td>bc</td>\n",
       "      <td>42</td>\n",
       "      <td>26</td>\n",
       "      <td>19</td>\n",
       "    </tr>\n",
       "    <tr>\n",
       "      <th>33</th>\n",
       "      <td>taxi.driver</td>\n",
       "      <td>bc</td>\n",
       "      <td>9</td>\n",
       "      <td>19</td>\n",
       "      <td>10</td>\n",
       "    </tr>\n",
       "    <tr>\n",
       "      <th>34</th>\n",
       "      <td>truck.driver</td>\n",
       "      <td>bc</td>\n",
       "      <td>21</td>\n",
       "      <td>15</td>\n",
       "      <td>13</td>\n",
       "    </tr>\n",
       "    <tr>\n",
       "      <th>35</th>\n",
       "      <td>machine.operator</td>\n",
       "      <td>bc</td>\n",
       "      <td>21</td>\n",
       "      <td>20</td>\n",
       "      <td>24</td>\n",
       "    </tr>\n",
       "    <tr>\n",
       "      <th>36</th>\n",
       "      <td>barber</td>\n",
       "      <td>bc</td>\n",
       "      <td>16</td>\n",
       "      <td>26</td>\n",
       "      <td>20</td>\n",
       "    </tr>\n",
       "    <tr>\n",
       "      <th>37</th>\n",
       "      <td>bartender</td>\n",
       "      <td>bc</td>\n",
       "      <td>16</td>\n",
       "      <td>28</td>\n",
       "      <td>7</td>\n",
       "    </tr>\n",
       "    <tr>\n",
       "      <th>38</th>\n",
       "      <td>shoe.shiner</td>\n",
       "      <td>bc</td>\n",
       "      <td>9</td>\n",
       "      <td>17</td>\n",
       "      <td>3</td>\n",
       "    </tr>\n",
       "    <tr>\n",
       "      <th>39</th>\n",
       "      <td>cook</td>\n",
       "      <td>bc</td>\n",
       "      <td>14</td>\n",
       "      <td>22</td>\n",
       "      <td>16</td>\n",
       "    </tr>\n",
       "    <tr>\n",
       "      <th>40</th>\n",
       "      <td>soda.clerk</td>\n",
       "      <td>bc</td>\n",
       "      <td>12</td>\n",
       "      <td>30</td>\n",
       "      <td>6</td>\n",
       "    </tr>\n",
       "    <tr>\n",
       "      <th>41</th>\n",
       "      <td>watchman</td>\n",
       "      <td>bc</td>\n",
       "      <td>17</td>\n",
       "      <td>25</td>\n",
       "      <td>11</td>\n",
       "    </tr>\n",
       "    <tr>\n",
       "      <th>42</th>\n",
       "      <td>janitor</td>\n",
       "      <td>bc</td>\n",
       "      <td>7</td>\n",
       "      <td>20</td>\n",
       "      <td>8</td>\n",
       "    </tr>\n",
       "    <tr>\n",
       "      <th>43</th>\n",
       "      <td>policeman</td>\n",
       "      <td>bc</td>\n",
       "      <td>34</td>\n",
       "      <td>47</td>\n",
       "      <td>41</td>\n",
       "    </tr>\n",
       "    <tr>\n",
       "      <th>44</th>\n",
       "      <td>waiter</td>\n",
       "      <td>bc</td>\n",
       "      <td>8</td>\n",
       "      <td>32</td>\n",
       "      <td>10</td>\n",
       "    </tr>\n",
       "  </tbody>\n",
       "</table>\n",
       "</div>"
      ],
      "text/plain": [
       "                  name  type  income  education  prestige\n",
       "0           accountant  prof      62         86        82\n",
       "1                pilot  prof      72         76        83\n",
       "2            architect  prof      75         92        90\n",
       "3               author  prof      55         90        76\n",
       "4              chemist  prof      64         86        90\n",
       "5             minister  prof      21         84        87\n",
       "6            professor  prof      64         93        93\n",
       "7              dentist  prof      80        100        90\n",
       "8             reporter    wc      67         87        52\n",
       "9             engineer  prof      72         86        88\n",
       "10          undertaker  prof      42         74        57\n",
       "11              lawyer  prof      76         98        89\n",
       "12           physician  prof      76         97        97\n",
       "13      welfare.worker  prof      41         84        59\n",
       "14             teacher  prof      48         91        73\n",
       "15           conductor    wc      76         34        38\n",
       "16          contractor  prof      53         45        76\n",
       "17       factory.owner  prof      60         56        81\n",
       "18       store.manager  prof      42         44        45\n",
       "19              banker  prof      78         82        92\n",
       "20          bookkeeper    wc      29         72        39\n",
       "21        mail.carrier    wc      48         55        34\n",
       "22     insurance.agent    wc      55         71        41\n",
       "23         store.clerk    wc      29         50        16\n",
       "24           carpenter    bc      21         23        33\n",
       "25         electrician    bc      47         39        53\n",
       "26         RR.engineer    bc      81         28        67\n",
       "27           machinist    bc      36         32        57\n",
       "28      auto.repairman    bc      22         22        26\n",
       "29             plumber    bc      44         25        29\n",
       "30   gas.stn.attendant    bc      15         29        10\n",
       "31          coal.miner    bc       7          7        15\n",
       "32  streetcar.motorman    bc      42         26        19\n",
       "33         taxi.driver    bc       9         19        10\n",
       "34        truck.driver    bc      21         15        13\n",
       "35    machine.operator    bc      21         20        24\n",
       "36              barber    bc      16         26        20\n",
       "37           bartender    bc      16         28         7\n",
       "38         shoe.shiner    bc       9         17         3\n",
       "39                cook    bc      14         22        16\n",
       "40          soda.clerk    bc      12         30         6\n",
       "41            watchman    bc      17         25        11\n",
       "42             janitor    bc       7         20         8\n",
       "43           policeman    bc      34         47        41\n",
       "44              waiter    bc       8         32        10"
      ]
     },
     "execution_count": 2,
     "metadata": {},
     "output_type": "execute_result"
    }
   ],
   "source": [
    "df_duncan = pd.read_csv(\"data/Duncan.csv\", sep=\",\")\n",
    "df_duncan"
   ]
  },
  {
   "cell_type": "code",
   "execution_count": 3,
   "metadata": {},
   "outputs": [],
   "source": [
    "X_name, X_type, X_income, X_education, X_prestige = \\\n",
    "           [df_duncan[name].values for name in ('name','type','income', 'education', 'prestige')]"
   ]
  },
  {
   "cell_type": "code",
   "execution_count": 4,
   "metadata": {},
   "outputs": [],
   "source": [
    "X_income = X_income.astype('d')\n",
    "X_prestige = X_prestige.astype('d')\n",
    "X_education = X_education.astype('d')"
   ]
  },
  {
   "cell_type": "code",
   "execution_count": 9,
   "metadata": {},
   "outputs": [
    {
     "name": "stderr",
     "output_type": "stream",
     "text": [
      "No artists with labels found to put in legend.  Note that artists whose label start with an underscore are ignored when legend() is called with no argument.\n",
      "The PostScript backend does not support transparency; partially transparent artists will be rendered opaque.\n"
     ]
    },
    {
     "data": {
      "image/png": "[encoded data removed]",
      "text/plain": [
       "<Figure size 360x288 with 1 Axes>"
      ]
     },
     "metadata": {
      "needs_background": "light"
     },
     "output_type": "display_data"
    }
   ],
   "source": [
    "plt.figure(figsize=(5.0,4.0))\n",
    "# plt.figure(figsize=(15,12))\n",
    "plt.scatter(X_income, X_prestige, s=36, c='w', edgecolors='k', linewidth=1.0)\n",
    "# plt.title(\"Доход и престиж\")\n",
    "plt.plot([7, 90], [0, 72], linestyle='--', color='k')\n",
    "plt.plot([0, 90], [4, 110], linestyle='--', color='k')\n",
    "# for x_name, x_income, x_prestige in zip(X_name, X_income, X_prestige):\n",
    "#     plt.text(x_income, x_prestige+2, x_name)\n",
    "plt.xlabel('income')\n",
    "plt.ylabel('prestige')\n",
    "plt.legend()\n",
    "plt.savefig('fig/kmeans_regression_duncan_income_prestige.eps')\n",
    "plt.show()"
   ]
  },
  {
   "cell_type": "code",
   "execution_count": 6,
   "metadata": {},
   "outputs": [
    {
     "data": {
      "image/png": "[encoded data removed]",
      "text/plain": [
       "<Figure size 504x360 with 1 Axes>"
      ]
     },
     "metadata": {
      "needs_background": "light"
     },
     "output_type": "display_data"
    }
   ],
   "source": [
    "plt.figure(figsize=(7,5))\n",
    "#plt.figure(figsize=(15,12))\n",
    "plt.scatter(X_education, X_income, s=64, c='w', edgecolors='k', linewidth=1.0)\n",
    "# plt.plot([7, 90], [0, 72], linestyle='--', label='1', color='k')\n",
    "# plt.plot([0, 90], [4, 110], linestyle='--', label='2', color='k')\n",
    "# for x_name, x_education, x_income in zip(X_name, X_education, X_income):\n",
    "#     plt.text(x_education, x_income+2, x_name)\n",
    "# plt.xlabel('Доход')\n",
    "# plt.ylabel('Престиж')\n",
    "# plt.legend()\n",
    "plt.show()"
   ]
  },
  {
   "cell_type": "code",
   "execution_count": 7,
   "metadata": {},
   "outputs": [],
   "source": [
    "import mlgrad\n",
    "import mlgrad.model as ml_model\n",
    "import mlgrad.risk as ml_risk\n",
    "import mlgrad.loss as ml_loss\n",
    "import mlgrad.weights as ml_weights\n",
    "import mlgrad.func as ml_func\n",
    "import mlgrad.af as ml_af\n",
    "import mlgrad.gd as ml_gd"
   ]
  },
  {
   "cell_type": "code",
   "execution_count": 8,
   "metadata": {},
   "outputs": [],
   "source": [
    "layer = ml_model.GeneralModelLayer(2)\n",
    "linmod1 = ml_model.TLinearModel(2)\n",
    "linmod2 = ml_model.TLinearModel(2)\n",
    "layer.append(linmod1)\n",
    "layer.append(linmod2)\n",
    "nn = ml_model.FFNetworkModel()\n",
    "nn.add(layer)\n",
    "\n",
    "nn.allocate()\n",
    "nn.init_param()"
   ]
  },
  {
   "cell_type": "code",
   "execution_count": 9,
   "metadata": {},
   "outputs": [],
   "source": [
    "X = np.c_[X_income, X_prestige]\n",
    "Y = np.zeros(len(X), 'd')"
   ]
  },
  {
   "cell_type": "code",
   "execution_count": 10,
   "metadata": {},
   "outputs": [],
   "source": [
    "minloss = ml_loss.SoftMinLoss2(ml_loss.ErrorLoss(ml_func.Square()), 2, a=15)\n",
    "tone_risk = ml_risk.ER21(X, Y, nn, minloss)"
   ]
  },
  {
   "cell_type": "code",
   "execution_count": 11,
   "metadata": {},
   "outputs": [
    {
     "data": {
      "image/png": "[encoded data removed]",
      "text/plain": [
       "<Figure size 576x396 with 1 Axes>"
      ]
     },
     "metadata": {
      "needs_background": "light"
     },
     "output_type": "display_data"
    }
   ],
   "source": [
    "tone_alg = mlgrad.erm_fg(tone_risk, n_restart=1, h=0.1, normalizer=ml_gd.LinearModelNormalizer())\n",
    "\n",
    "plt.plot(tone_alg.lvals)\n",
    "plt.show()"
   ]
  },
  {
   "cell_type": "code",
   "execution_count": 12,
   "metadata": {},
   "outputs": [
    {
     "name": "stdout",
     "output_type": "stream",
     "text": [
      "[-0.5418696  -0.25698791  0.20237248]\n",
      "[-0.76399905  0.32501664 -0.4513006 ]\n"
     ]
    },
    {
     "data": {
      "text/plain": [
       "307"
      ]
     },
     "execution_count": 12,
     "metadata": {},
     "output_type": "execute_result"
    }
   ],
   "source": [
    "print(np.array(linmod1.param))\n",
    "print(np.array(linmod2.param))\n",
    "tone_alg.K"
   ]
  },
  {
   "cell_type": "code",
   "execution_count": 13,
   "metadata": {},
   "outputs": [],
   "source": [
    "o_linmod1 = ml_model.LinearModel(-linmod1.param.base[:-1] / linmod1.param.base[-1])\n",
    "o_linmod2 = ml_model.LinearModel(-linmod2.param.base[:-1] / linmod2.param.base[-1])"
   ]
  },
  {
   "cell_type": "code",
   "execution_count": 14,
   "metadata": {},
   "outputs": [
    {
     "name": "stdout",
     "output_type": "stream",
     "text": [
      "[2.67758544 1.26987579]\n",
      "[-1.69288287  0.72017772]\n"
     ]
    }
   ],
   "source": [
    "print(np.array(o_linmod1.param))\n",
    "print(np.array(o_linmod2.param))\n"
   ]
  },
  {
   "cell_type": "code",
   "execution_count": 15,
   "metadata": {},
   "outputs": [
    {
     "data": {
      "image/png": "[encoded data removed]",
      "text/plain": [
       "<Figure size 504x360 with 1 Axes>"
      ]
     },
     "metadata": {
      "needs_background": "light"
     },
     "output_type": "display_data"
    }
   ],
   "source": [
    "plt.figure(figsize=(7,5))\n",
    "# plt.figure(figsize=(15,12))\n",
    "plt.scatter(X[:,0], X[:,1], s=49, c='w', edgecolors='k', linewidth=1.0)\n",
    "# plt.title(\"Соотношения тонов\")\n",
    "plt.plot([0., 100.], o_linmod1.evaluate_all(np.array([[0.], [100.]])), linestyle='--', label='1', color='k')\n",
    "plt.plot([0., 100.], o_linmod2.evaluate_all(np.array([[0.], [100.]])), linestyle=':', label='2', color='k')\n",
    "# for x_name, x_income, x_prestige in zip(X_name, X_income, X_prestige):\n",
    "#     plt.text(x_income, x_prestige+2, x_name)\n",
    "# plt.xlabel('Фактическое соотношение тонов')\n",
    "# plt.ylabel('Воспринимаемое соотношение тонов')\n",
    "# plt.ylim(1.2, 3.1)\n",
    "# plt.xlim(1.2, 3.1)\n",
    "plt.legend()\n",
    "# plt.savefig('fig/tonedata_scatter.eps')\n",
    "plt.show()"
   ]
  },
  {
   "cell_type": "code",
   "execution_count": 30,
   "metadata": {},
   "outputs": [],
   "source": [
    "layer_rob = ml_model.GeneralModelLayer(2)\n",
    "rob_linmod1 = ml_model.TLinearModel(2)\n",
    "rob_linmod2 = ml_model.TLinearModel(2)\n",
    "layer_rob.append(rob_linmod1)\n",
    "layer_rob.append(rob_linmod2)\n",
    "nn_rob = ml_model.FFNetworkModel()\n",
    "nn_rob.add(layer_rob)\n",
    "\n",
    "nn_rob.allocate()\n",
    "nn_rob.init_param()\n"
   ]
  },
  {
   "cell_type": "code",
   "execution_count": 31,
   "metadata": {},
   "outputs": [],
   "source": [
    "minloss = ml_loss.SoftMinLoss2(ml_loss.RelativeErrorLoss(ml_func.Square()), 2, a=15)\n",
    "tone_rob_risk = ml_risk.ER21(X, Y, nn_rob, minloss)\n",
    "agg_func = ml_af.averaging_function(\"WM\", alpha=0.95)\n",
    "weights_tone = ml_weights.MWeights(agg_func, tone_rob_risk)"
   ]
  },
  {
   "cell_type": "code",
   "execution_count": 32,
   "metadata": {},
   "outputs": [
    {
     "name": "stdout",
     "output_type": "stream",
     "text": [
      "38616.81274162542\n"
     ]
    },
    {
     "data": {
      "image/png": "[encoded data removed]",
      "text/plain": [
       "<Figure size 576x396 with 1 Axes>"
      ]
     },
     "metadata": {
      "needs_background": "light"
     },
     "output_type": "display_data"
    }
   ],
   "source": [
    "fg_tone = mlgrad.fg(tone_rob_risk, h=0.001, normalizer=ml_gd.LinearModelNormalizer())\n",
    "tone_rob_alg = mlgrad.erm_irgd(fg_tone, weights_tone)\n",
    "\n",
    "plt.plot(tone_rob_alg.lvals)\n",
    "plt.show()"
   ]
  },
  {
   "cell_type": "code",
   "execution_count": 33,
   "metadata": {},
   "outputs": [
    {
     "name": "stdout",
     "output_type": "stream",
     "text": [
      "[ 1.33803343 -0.15979156  0.18890122]\n",
      "[ 0.76214568  0.46595738 -0.37523415]\n"
     ]
    },
    {
     "data": {
      "text/plain": [
       "100"
      ]
     },
     "execution_count": 33,
     "metadata": {},
     "output_type": "execute_result"
    }
   ],
   "source": [
    "print(np.array(rob_linmod1.param))\n",
    "print(np.array(rob_linmod2.param))\n",
    "tone_rob_alg.K"
   ]
  },
  {
   "cell_type": "code",
   "execution_count": 34,
   "metadata": {},
   "outputs": [],
   "source": [
    "o_rob_linmod1 = ml_model.LinearModel(-rob_linmod1.param.base[:-1]/rob_linmod1.param.base[-1])\n",
    "o_rob_linmod2 = ml_model.LinearModel(-rob_linmod2.param.base[:-1]/rob_linmod2.param.base[-1])"
   ]
  },
  {
   "cell_type": "code",
   "execution_count": 35,
   "metadata": {},
   "outputs": [
    {
     "data": {
      "image/png": "[encoded data removed]",
      "text/plain": [
       "<Figure size 504x360 with 1 Axes>"
      ]
     },
     "metadata": {
      "needs_background": "light"
     },
     "output_type": "display_data"
    }
   ],
   "source": [
    "plt.figure(figsize=(7,5))\n",
    "# plt.figure(figsize=(15,12))\n",
    "plt.scatter(X[:,0], X[:,1], s=49, c='w', edgecolors='k', linewidth=1.0)\n",
    "# plt.title(\"Соотношения тонов\")\n",
    "plt.plot([0., 100.], o_rob_linmod1.evaluate_all(np.array([[0.], [100.]])), linestyle='--', label='1', color='k')\n",
    "plt.plot([0., 100.], o_rob_linmod2.evaluate_all(np.array([[0.], [100.]])), linestyle=':', label='2', color='k')\n",
    "# for x_name, x_income, x_prestige in zip(X_name, X_income, X_prestige):\n",
    "#     plt.text(x_income, x_prestige+2, x_name)\n",
    "# plt.xlabel('Фактическое соотношение тонов')\n",
    "# plt.ylabel('Воспринимаемое соотношение тонов')\n",
    "# plt.ylim(1.2, 3.1)\n",
    "# plt.xlim(1.2, 3.1)\n",
    "plt.legend()\n",
    "# plt.savefig('fig/tonedata_scatter.eps')\n",
    "plt.show()"
   ]
  },
  {
   "cell_type": "code",
   "execution_count": 36,
   "metadata": {},
   "outputs": [
    {
     "data": {
      "image/png": "[encoded data removed]",
      "text/plain": [
       "<Figure size 504x360 with 1 Axes>"
      ]
     },
     "metadata": {
      "needs_background": "light"
     },
     "output_type": "display_data"
    }
   ],
   "source": [
    "plt.figure(figsize=(7,5))\n",
    "# plt.figure(figsize=(15,12))\n",
    "plt.scatter(X[:,0], X[:,1], s=49, c='w', edgecolors='k', linewidth=1.0)\n",
    "# plt.title(\"Соотношения тонов\")\n",
    "plt.plot([0., 100.], o_rob_linmod1.evaluate_all(np.array([[0.], [100.]])), linestyle='--', label='1', color='k')\n",
    "plt.plot([0., 100.], o_rob_linmod2.evaluate_all(np.array([[0.], [100.]])), linestyle=':', label='2', color='k')\n",
    "plt.plot([0., 100.], o_linmod1.evaluate_all(np.array([[0.], [100.]])), linestyle='--', label='1', color='m')\n",
    "plt.plot([0., 100.], o_linmod2.evaluate_all(np.array([[0.], [100.]])), linestyle=':', label='2', color='m')\n",
    "# for x_name, x_income, x_prestige in zip(X_name, X_income, X_prestige):\n",
    "#     plt.text(x_income, x_prestige+2, x_name)\n",
    "# plt.xlabel('Фактическое соотношение тонов')\n",
    "# plt.ylabel('Воспринимаемое соотношение тонов')\n",
    "# plt.ylim(1.2, 3.1)\n",
    "# plt.xlim(1.2, 3.1)\n",
    "plt.legend()\n",
    "# plt.savefig('fig/tonedata_scatter.eps')\n",
    "plt.show()"
   ]
  },
  {
   "cell_type": "code",
   "execution_count": 37,
   "metadata": {},
   "outputs": [
    {
     "data": {
      "image/png": "[encoded data removed]",
      "text/plain": [
       "<Figure size 576x396 with 1 Axes>"
      ]
     },
     "metadata": {
      "needs_background": "light"
     },
     "output_type": "display_data"
    }
   ],
   "source": [
    "plt.plot(sorted(np.sqrt(tone_rob_risk.evaluate_losses())), label='robust')\n",
    "plt.plot(sorted(np.sqrt(tone_risk.evaluate_losses())), label='usual')\n",
    "plt.legend()\n",
    "plt.show()"
   ]
  },
  {
   "cell_type": "code",
   "execution_count": null,
   "metadata": {},
   "outputs": [],
   "source": []
  },
  {
   "cell_type": "code",
   "execution_count": null,
   "metadata": {},
   "outputs": [],
   "source": []
  }
 ],
 "metadata": {
  "kernelspec": {
   "display_name": "Python 3 (ipykernel)",
   "language": "python",
   "name": "python3"
  },
  "language_info": {
   "codemirror_mode": {
    "name": "ipython",
    "version": 3
   },
   "file_extension": ".py",
   "mimetype": "text/x-python",
   "name": "python",
   "nbconvert_exporter": "python",
   "pygments_lexer": "ipython3",
   "version": "3.9.13"
  }
 },
 "nbformat": 4,
 "nbformat_minor": 4
}
