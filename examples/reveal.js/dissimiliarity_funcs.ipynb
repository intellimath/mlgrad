{
 "cells": [
  {
   "cell_type": "markdown",
   "metadata": {},
   "source": [
    "# Dissimiliarity functions"
   ]
  },
  {
   "cell_type": "code",
   "execution_count": 1,
   "metadata": {},
   "outputs": [],
   "source": [
    "import mlgrad.func as func\n",
    "\n",
    "import matplotlib.pyplot as plt\n",
    "import numpy as np\n",
    "\n",
    "%matplotlib inline"
   ]
  },
  {
   "cell_type": "code",
   "execution_count": 45,
   "metadata": {},
   "outputs": [],
   "source": [
    "c0=2.\n",
    "\n",
    "def sqr(r):\n",
    "    return r*r/2.\n",
    "def sqr_d1(r):\n",
    "    return r\n",
    "def sqr_d2(r):\n",
    "    return 1.\n",
    "\n",
    "def sqr_t1(r, c=c0):\n",
    "    r_abs = abs(r)\n",
    "    if r_abs <= c:\n",
    "        return r*r/2\n",
    "    else:\n",
    "        return c*c/2\n",
    "def sqr_t1_d1(r, c=c0):\n",
    "    r_abs = abs(r)\n",
    "    if r_abs <= c:\n",
    "        return r\n",
    "    else:\n",
    "        return 0.\n",
    "def sqr_t1_d2(r, c=c0):\n",
    "    r_abs = abs(r)\n",
    "    if r_abs <= c:\n",
    "        return 1\n",
    "    else:\n",
    "        return 0.\n",
    "\n",
    "def sqr_t2_d1(r, c=c0):\n",
    "    if r <= c:\n",
    "        return r*r/2.\n",
    "    else:\n",
    "        return c*abs(r) - c*c/2.\n",
    "def sqr_t2_d1(r, c=c0):\n",
    "    if r <= c:\n",
    "        return abs(r)\n",
    "    else:\n",
    "        return c\n",
    "def sqr_t2_d2(r, c=c0):\n",
    "    if r <= c:\n",
    "        return 1\n",
    "    else:\n",
    "        return 0.\n",
    "\n",
    "xrange = np.linspace(-4, 4, 500)\n",
    "xrange2 = np.linspace(-5, 5, 700)"
   ]
  },
  {
   "cell_type": "code",
   "execution_count": 46,
   "metadata": {},
   "outputs": [
    {
     "data": {
      "image/png": "[encoded data removed]",
      "text/plain": [
       "<Figure size 1008x288 with 2 Axes>"
      ]
     },
     "metadata": {},
     "output_type": "display_data"
    }
   ],
   "source": [
    "plt.figure(figsize=(14, 4))\n",
    "plt.subplot(1, 3, 1)\n",
    "plt.title(r'$\\rho(r)=r^2/2$')\n",
    "plt.plot(xrange, [sqr(x) for x in xrange], label=r\"$\\rho$\")\n",
    "plt.plot(xrange, [sqr_d1(x) for x in xrange], label=r\"$\\rho^\\prime$\")\n",
    "plt.plot(xrange, [sqr_d2(x) for x in xrange], label=r\"$\\rho^{\\prime\\prime}$\")\n",
    "plt.minorticks_on()\n",
    "plt.grid(1)\n",
    "plt.legend()\n",
    "plt.subplot(1, 3, 2)\n",
    "plt.title(r'$\\rho(r)=\\max\\{r^2/2,c^2/2\\}$')\n",
    "plt.plot(xrange, [sqr_t1(x) for x in xrange], label=r\"$\\rho$\")\n",
    "plt.plot(xrange2, [sqr_t1_d1(x) for x in xrange2], label=r\"$\\rho^\\prime$\")\n",
    "plt.plot(xrange, [sqr_t1_d2(x) for x in xrange], label=r\"$\\rho^{\\prime\\prime}$\")\n",
    "plt.xticks([-c, 0, c], ['$-c$', '$0$', '$c$'])\n",
    "plt.yticks([-c*c/2, 0, 1, c*c/2], ['$-c^2/2$', '$0$', '$1$', '$c^2/2$'])\n",
    "plt.minorticks_on()\n",
    "plt.grid(1)\n",
    "plt.legend()\n",
    "plt.show()"
   ]
  },
  {
   "cell_type": "markdown",
   "metadata": {},
   "source": [
    "### Quantile"
   ]
  },
  {
   "cell_type": "markdown",
   "metadata": {},
   "source": [
    "$\\rho(z,u)=(\\alpha-[z<u])(z-u)$\n",
    "\n",
    "$\\rho_z(z,u)=([z<u]-\\alpha)$\n",
    "\n",
    "$(\\alpha-1) m + \\alpha(N-m) = \\alpha N-m=0\\Rightarrow m=\\alpha N$"
   ]
  },
  {
   "cell_type": "markdown",
   "metadata": {},
   "source": [
    "### Expectile"
   ]
  },
  {
   "cell_type": "markdown",
   "metadata": {},
   "source": [
    "$\\rho(z,u)=0.5(\\alpha-[z<u])(z-u)|z-u|$\n",
    "\n",
    "$\\rho_z(z,u)=(\\alpha[z<u]+(1-\\alpha)[z\\geqslant0])(z-u)$\n"
   ]
  },
  {
   "cell_type": "markdown",
   "metadata": {},
   "source": [
    "### Assymetrical power $(\\beta=1-\\alpha)$"
   ]
  },
  {
   "cell_type": "markdown",
   "metadata": {},
   "source": [
    "$p(x,y) = \\tfrac 1 p \\left(\\alpha[x>y] + \\beta[x<y]\\right) |x-y|^p$"
   ]
  },
  {
   "cell_type": "markdown",
   "metadata": {},
   "source": [
    "$p_x(x,y) = \\left(\\alpha[x>y] - \\beta[x<y]\\right)|x-y|^{p-1}$"
   ]
  },
  {
   "cell_type": "markdown",
   "metadata": {},
   "source": [
    "$p_{xx}(x,y) = (p-1)\\left(\\alpha[x>y] + \\beta[x<y]\\right)|x-y|^{p-2}$"
   ]
  },
  {
   "cell_type": "markdown",
   "metadata": {},
   "source": [
    "$p_{xy}(x,y) = -p_{xx}(x,y)$"
   ]
  },
  {
   "cell_type": "markdown",
   "metadata": {},
   "source": [
    "## Dissimiliarity functions for surrogate quantile"
   ]
  },
  {
   "cell_type": "markdown",
   "metadata": {},
   "source": [
    "### Power based $(\\beta=1-\\alpha)$"
   ]
  },
  {
   "cell_type": "markdown",
   "metadata": {},
   "source": [
    "$p(x,y)=\\left(\\alpha[ x>y] + \\beta[x<y]\\right)\\bigl((a^p+|x-y|^p)^{1/p}-a\\bigr)$"
   ]
  },
  {
   "cell_type": "markdown",
   "metadata": {},
   "source": [
    "$p_x(x,y) = \\left(\\alpha[x>y] - \\beta[x<y]\\right)|x-y|^{p-1}(a^p+|x-y|^p)^{\\tfrac{1}{p}-1}$"
   ]
  },
  {
   "cell_type": "markdown",
   "metadata": {},
   "source": [
    "$p_{xx}(x,y)=\\left(\\alpha[x>y] + \\beta[x<y]\\right)(p-1)a^p|x-y|^{p-2}(a^p+|x-y|^p)^{\\tfrac{1}{p}-2}$"
   ]
  },
  {
   "cell_type": "markdown",
   "metadata": {},
   "source": [
    "$p_{xy}(x,y)=-p_{xx}(x,y)$"
   ]
  },
  {
   "cell_type": "code",
   "execution_count": null,
   "metadata": {
    "collapsed": true,
    "jupyter": {
     "outputs_hidden": true
    }
   },
   "outputs": [],
   "source": []
  }
 ],
 "metadata": {
  "kernelspec": {
   "display_name": "Python 3",
   "language": "python",
   "name": "python3"
  },
  "language_info": {
   "codemirror_mode": {
    "name": "ipython",
    "version": 3
   },
   "file_extension": ".py",
   "mimetype": "text/x-python",
   "name": "python",
   "nbconvert_exporter": "python",
   "pygments_lexer": "ipython3",
   "version": "3.7.4+"
  }
 },
 "nbformat": 4,
 "nbformat_minor": 4
}
