{
 "cells": [
  {
   "cell_type": "code",
   "execution_count": 1,
   "id": "1d24f0d5-2e0d-4f86-b28f-ac8de55e0409",
   "metadata": {},
   "outputs": [],
   "source": [
    "import numpy as np\n",
    "import matplotlib.pyplot as plt\n",
    "import mlgrad.af as af\n",
    "import mlgrad.func as func\n",
    "import mlgrad.utils as utils\n",
    "import pandas as pd\n",
    "\n",
    "import mlgrad.pca as pca"
   ]
  },
  {
   "cell_type": "code",
   "execution_count": 4,
   "id": "f8b9dc3e-9995-44de-afb3-28ec3bf525b7",
   "metadata": {},
   "outputs": [
    {
     "data": {
      "text/html": [
       "<div>\n",
       "<style scoped>\n",
       "    .dataframe tbody tr th:only-of-type {\n",
       "        vertical-align: middle;\n",
       "    }\n",
       "\n",
       "    .dataframe tbody tr th {\n",
       "        vertical-align: top;\n",
       "    }\n",
       "\n",
       "    .dataframe thead th {\n",
       "        text-align: right;\n",
       "    }\n",
       "</style>\n",
       "<table border=\"1\" class=\"dataframe\">\n",
       "  <thead>\n",
       "    <tr style=\"text-align: right;\">\n",
       "      <th></th>\n",
       "      <th>Material1</th>\n",
       "      <th>Material2</th>\n",
       "      <th>Material3</th>\n",
       "      <th>Condition</th>\n",
       "      <th>Octane</th>\n",
       "    </tr>\n",
       "    <tr>\n",
       "      <th>Sample</th>\n",
       "      <th></th>\n",
       "      <th></th>\n",
       "      <th></th>\n",
       "      <th></th>\n",
       "      <th></th>\n",
       "    </tr>\n",
       "  </thead>\n",
       "  <tbody>\n",
       "    <tr>\n",
       "      <th>1</th>\n",
       "      <td>55.33</td>\n",
       "      <td>1.72</td>\n",
       "      <td>54</td>\n",
       "      <td>1.66219</td>\n",
       "      <td>92.19</td>\n",
       "    </tr>\n",
       "    <tr>\n",
       "      <th>2</th>\n",
       "      <td>59.13</td>\n",
       "      <td>1.20</td>\n",
       "      <td>53</td>\n",
       "      <td>1.58399</td>\n",
       "      <td>92.74</td>\n",
       "    </tr>\n",
       "    <tr>\n",
       "      <th>3</th>\n",
       "      <td>57.39</td>\n",
       "      <td>1.42</td>\n",
       "      <td>55</td>\n",
       "      <td>1.61731</td>\n",
       "      <td>91.88</td>\n",
       "    </tr>\n",
       "    <tr>\n",
       "      <th>4</th>\n",
       "      <td>56.43</td>\n",
       "      <td>1.78</td>\n",
       "      <td>55</td>\n",
       "      <td>1.66228</td>\n",
       "      <td>92.80</td>\n",
       "    </tr>\n",
       "    <tr>\n",
       "      <th>5</th>\n",
       "      <td>55.98</td>\n",
       "      <td>1.58</td>\n",
       "      <td>54</td>\n",
       "      <td>1.63195</td>\n",
       "      <td>92.56</td>\n",
       "    </tr>\n",
       "    <tr>\n",
       "      <th>...</th>\n",
       "      <td>...</td>\n",
       "      <td>...</td>\n",
       "      <td>...</td>\n",
       "      <td>...</td>\n",
       "      <td>...</td>\n",
       "    </tr>\n",
       "    <tr>\n",
       "      <th>78</th>\n",
       "      <td>67.60</td>\n",
       "      <td>1.84</td>\n",
       "      <td>55</td>\n",
       "      <td>1.64758</td>\n",
       "      <td>91.86</td>\n",
       "    </tr>\n",
       "    <tr>\n",
       "      <th>79</th>\n",
       "      <td>64.81</td>\n",
       "      <td>2.24</td>\n",
       "      <td>54</td>\n",
       "      <td>1.69592</td>\n",
       "      <td>91.61</td>\n",
       "    </tr>\n",
       "    <tr>\n",
       "      <th>80</th>\n",
       "      <td>63.13</td>\n",
       "      <td>1.60</td>\n",
       "      <td>52</td>\n",
       "      <td>1.66118</td>\n",
       "      <td>92.17</td>\n",
       "    </tr>\n",
       "    <tr>\n",
       "      <th>81</th>\n",
       "      <td>63.48</td>\n",
       "      <td>3.46</td>\n",
       "      <td>52</td>\n",
       "      <td>1.48216</td>\n",
       "      <td>91.56</td>\n",
       "    </tr>\n",
       "    <tr>\n",
       "      <th>82</th>\n",
       "      <td>62.25</td>\n",
       "      <td>3.56</td>\n",
       "      <td>50</td>\n",
       "      <td>1.49734</td>\n",
       "      <td>92.16</td>\n",
       "    </tr>\n",
       "  </tbody>\n",
       "</table>\n",
       "<p>82 rows × 5 columns</p>\n",
       "</div>"
      ],
      "text/plain": [
       "        Material1  Material2  Material3  Condition  Octane\n",
       "Sample                                                    \n",
       "1           55.33       1.72         54    1.66219   92.19\n",
       "2           59.13       1.20         53    1.58399   92.74\n",
       "3           57.39       1.42         55    1.61731   91.88\n",
       "4           56.43       1.78         55    1.66228   92.80\n",
       "5           55.98       1.58         54    1.63195   92.56\n",
       "...           ...        ...        ...        ...     ...\n",
       "78          67.60       1.84         55    1.64758   91.86\n",
       "79          64.81       2.24         54    1.69592   91.61\n",
       "80          63.13       1.60         52    1.66118   92.17\n",
       "81          63.48       3.46         52    1.48216   91.56\n",
       "82          62.25       3.56         50    1.49734   92.16\n",
       "\n",
       "[82 rows x 5 columns]"
      ]
     },
     "execution_count": 4,
     "metadata": {},
     "output_type": "execute_result"
    }
   ],
   "source": [
    "df = pd.read_csv(\"data/octane.csv\", sep=',', index_col='Sample')\n",
    "df"
   ]
  },
  {
   "cell_type": "code",
   "execution_count": 6,
   "id": "7b72399a-58c3-4769-be91-bcd266675bbf",
   "metadata": {},
   "outputs": [],
   "source": [
    "XY = df.values\n"
   ]
  },
  {
   "cell_type": "code",
   "execution_count": 8,
   "id": "941cbb0d-ce35-4b78-a8d1-f2687070bc64",
   "metadata": {},
   "outputs": [],
   "source": [
    "# qf = af.averaging_function(\"WM\", rhofunc=func.Power(1.1, 0.01), alpha=0.86)\n",
    "qf = af.averaging_function(\"WM\", rhofunc=func.Sqrt(0.01), alpha=0.91)\n",
    "amf = af.averaging_function(\"AM\")"
   ]
  },
  {
   "cell_type": "code",
   "execution_count": 9,
   "id": "36a29c57-b818-4020-91d7-734c37db087d",
   "metadata": {},
   "outputs": [
    {
     "name": "stdout",
     "output_type": "stream",
     "text": [
      "1 [61.93426829  1.26695122 56.80487805  1.5860578  91.65219512]\n"
     ]
    }
   ],
   "source": [
    "K, c = pca.find_rob_center(XY, qf)\n",
    "print(K, c)"
   ]
  },
  {
   "cell_type": "code",
   "execution_count": 10,
   "id": "9886be04-ac0e-4734-91e2-91e9cb33369d",
   "metadata": {},
   "outputs": [],
   "source": [
    "Z = XY - c\n",
    "U = (Z * Z).sum(axis=1)\n",
    "U.sort()"
   ]
  },
  {
   "cell_type": "code",
   "execution_count": 12,
   "id": "8c3a3721-9a41-4575-9cc9-e7a428356605",
   "metadata": {},
   "outputs": [
    {
     "data": {
      "text/plain": [
       "0.9146341463414634"
      ]
     },
     "execution_count": 12,
     "metadata": {},
     "output_type": "execute_result"
    }
   ],
   "source": [
    "N = len(XY)\n",
    "(N - 7) / N"
   ]
  },
  {
   "cell_type": "code",
   "execution_count": 13,
   "id": "ad264413-066f-4b62-be08-ab3d99a2d732",
   "metadata": {},
   "outputs": [
    {
     "name": "stdout",
     "output_type": "stream",
     "text": [
      "[[ 1.27848626e+04 -1.18680889e+03  2.62502927e+03 -8.04398372e+01\n",
      "  -1.25684800e+03]\n",
      " [-1.18680889e+03  3.05915991e+02 -2.90846829e+02  6.77456204e+00\n",
      "   9.11231622e+01]\n",
      " [ 2.62502927e+03 -2.90846829e+02  2.48995122e+03 -7.35356200e+01\n",
      "  -4.11420488e+02]\n",
      " [-8.04398372e+01  6.77456204e+00 -7.35356200e+01  4.04536722e+00\n",
      "   1.63355904e+01]\n",
      " [-1.25684800e+03  9.11231622e+01 -4.11420488e+02  1.63355904e+01\n",
      "   1.62219539e+02]]\n"
     ]
    }
   ],
   "source": [
    "XY2 = XY - c\n",
    "S = XY2.T @ XY2\n",
    "X2 = XY2[:,0]\n",
    "Y2 = XY2[:,1]\n",
    "print(S)"
   ]
  },
  {
   "cell_type": "code",
   "execution_count": 14,
   "id": "a58ed559-9ad8-449a-8891-2aa56794415e",
   "metadata": {},
   "outputs": [
    {
     "name": "stdout",
     "output_type": "stream",
     "text": [
      "[ 3.48694247 -0.33067368  0.84133472 -0.02565891 -0.35263478]\n"
     ]
    }
   ],
   "source": [
    "a0, L0, Z0 = pca.find_pc(XY2)\n",
    "plt.plot(sorted(Z0), marker='o')\n",
    "plt.show()\n",
    "print(a0)"
   ]
  },
  {
   "cell_type": "code",
   "execution_count": 15,
   "id": "deb0e673-98bf-4193-b63b-49d12653e859",
   "metadata": {},
   "outputs": [
    {
     "name": "stdout",
     "output_type": "stream",
     "text": [
      "(82,)\n"
     ]
    },
    {
     "data": {
      "image/png": "[encoded data removed]",
      "text/plain": [
       "<Figure size 640x480 with 1 Axes>"
      ]
     },
     "metadata": {},
     "output_type": "display_data"
    },
    {
     "name": "stdout",
     "output_type": "stream",
     "text": [
      "[ 0.976869   -0.09579603  0.16715557 -0.00407742 -0.09269558]\n"
     ]
    }
   ],
   "source": [
    "a1, L1, Z1 = pca.find_rob_pc(XY2, qf)\n",
    "plt.plot(sorted(Z1), marker='o')\n",
    "plt.show()\n",
    "print(a1)"
   ]
  },
  {
   "cell_type": "code",
   "execution_count": null,
   "id": "e8d40271-6960-43aa-9989-6a8aff655fe3",
   "metadata": {},
   "outputs": [],
   "source": []
  }
 ],
 "metadata": {
  "kernelspec": {
   "display_name": "Python 3 (ipykernel)",
   "language": "python",
   "name": "python3"
  },
  "language_info": {
   "codemirror_mode": {
    "name": "ipython",
    "version": 3
   },
   "file_extension": ".py",
   "mimetype": "text/x-python",
   "name": "python",
   "nbconvert_exporter": "python",
   "pygments_lexer": "ipython3",
   "version": "3.10.7"
  }
 },
 "nbformat": 4,
 "nbformat_minor": 5
}
