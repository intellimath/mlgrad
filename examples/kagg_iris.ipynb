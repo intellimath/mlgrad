{
 "cells": [
  {
   "cell_type": "code",
   "execution_count": 1,
   "metadata": {
    "collapsed": false,
    "deletable": true,
    "editable": true
   },
   "outputs": [],
   "source": [
    "import numpy as np\n",
    "import matplotlib.pyplot as plt\n",
    "import pandas as pd\n",
    "from sklearn.decomposition import PCA\n",
    "\n",
    "%matplotlib inline\n",
    "\n",
    "from kagg.distance import PowerDistance\n",
    "from kagg.gfunc import GFuncExp, GFuncPow\n",
    "from kagg.kagg import KAgg"
   ]
  },
  {
   "cell_type": "code",
   "execution_count": 2,
   "metadata": {
    "collapsed": false,
    "deletable": true,
    "editable": true
   },
   "outputs": [],
   "source": [
    "iris = pd.read_csv(\"data/iris.data\")"
   ]
  },
  {
   "cell_type": "code",
   "execution_count": 3,
   "metadata": {
    "collapsed": false,
    "deletable": true,
    "editable": true
   },
   "outputs": [
    {
     "data": {
      "text/plain": [
       "['Iris-setosa', 'Iris-versicolor', 'Iris-virginica']"
      ]
     },
     "execution_count": 3,
     "metadata": {},
     "output_type": "execute_result"
    }
   ],
   "source": [
    "cls_seq = iris[\"cls\"]\n",
    "cls_names = list(cls_seq.unique())\n",
    "cls_names"
   ]
  },
  {
   "cell_type": "code",
   "execution_count": 4,
   "metadata": {
    "collapsed": false,
    "deletable": true,
    "editable": true
   },
   "outputs": [],
   "source": [
    "Y = np.array([cls_names.index(name) for name in cls_seq])\n",
    "X = np.c_[iris[\"sl\"],iris[\"sw\"],iris[\"pl\"],iris[\"pw\"]]\n",
    "\n",
    "pca = PCA(2)\n",
    "pca.fit(X)\n",
    "U = pca.transform(X)"
   ]
  },
  {
   "cell_type": "code",
   "execution_count": 5,
   "metadata": {
    "collapsed": false,
    "deletable": true,
    "editable": true
   },
   "outputs": [
    {
     "name": "stdout",
     "output_type": "stream",
     "text": [
      "K= 24\n",
      "[[-2.47202937 -0.11803932]\n",
      " [ 1.39268076  0.06646555]]\n"
     ]
    }
   ],
   "source": [
    "dist_func = PowerDistance(2.0)\n",
    "gfunc = GFuncExp(2.0, 0.5)\n",
    "kagg = KAgg(dist_func, gfunc, eps=1.0e-5, t0=0.01, max_epoch=1000)\n",
    "kagg.fit(U, n_centers=2)\n",
    "print('K=', kagg.state['K'])\n",
    "centers = kagg.state['centers']\n",
    "print(centers)"
   ]
  },
  {
   "cell_type": "code",
   "execution_count": 6,
   "metadata": {
    "collapsed": false,
    "deletable": true,
    "editable": true
   },
   "outputs": [],
   "source": [
    "vals = kagg.predict(U)\n",
    "colors = []\n",
    "for val in vals:\n",
    "    colors.append([val[0],val[1],0])"
   ]
  },
  {
   "cell_type": "code",
   "execution_count": 7,
   "metadata": {
    "collapsed": false,
    "deletable": true,
    "editable": true
   },
   "outputs": [],
   "source": [
    "x1min, x1max = min(U[:,0]), max(U[:,0])\n",
    "x2min, x2max = min(U[:,1]), max(U[:,1])\n",
    "x1 = np.linspace(x1min, x1max, 100)\n",
    "x2 = np.linspace(x2min, x2max, 100)\n",
    "xx, yy = np.meshgrid(x1, x2)\n",
    "XX = np.c_[xx.ravel(), yy.ravel()]\n",
    "vals2 = kagg.predict(XX)\n",
    "YY = vals2[:,0]\n",
    "YY = YY.reshape(xx.shape)\n",
    "colors2 = []\n",
    "for val in vals2:\n",
    "    colors2.append([val[0],val[1],0])"
   ]
  },
  {
   "cell_type": "code",
   "execution_count": 8,
   "metadata": {
    "collapsed": false,
    "deletable": true,
    "editable": true
   },
   "outputs": [
    {
     "data": {
      "image/png": "[encoded data removed]",
      "text/plain": [
       "<matplotlib.figure.Figure at 0x10c31d7f0>"
      ]
     },
     "metadata": {},
     "output_type": "display_data"
    }
   ],
   "source": [
    "plt.figure(figsize=(4,4))\n",
    "plt.imshow(YY, extent=(x1min, x1max, x2min, x2max), origin=\"lower\", aspect=\"auto\", interpolation=\"nearest\", cmap=plt.cm.RdYlGn)\n",
    "#plt.scatter(xx.ravel(), yy.ravel(), c=colors2, s=9, edgecolors=colors2)\n",
    "sc = plt.scatter(U[:,0], U[:,1], c=vals[:,0], s=64, cmap=plt.cm.RdYlGn)\n",
    "plt.scatter(centers[:,0], centers[:,1], c=[1,0], s=256, cmap=plt.cm.RdYlGn)\n",
    "plt.xlim(x1min, x1max)\n",
    "plt.ylim(x2min, x2max)\n",
    "plt.xticks([])\n",
    "plt.yticks([])\n",
    "plt.show()"
   ]
  },
  {
   "cell_type": "code",
   "execution_count": 9,
   "metadata": {
    "collapsed": false,
    "deletable": true,
    "editable": true
   },
   "outputs": [
    {
     "name": "stdout",
     "output_type": "stream",
     "text": [
      "K= 1001\n",
      "[[ 0.58769354  0.03257719]\n",
      " [ 0.52049169  0.03928341]\n",
      " [ 0.52221233  0.03418335]]\n"
     ]
    },
    {
     "ename": "ValueError",
     "evalue": "total size of new array must be unchanged",
     "output_type": "error",
     "traceback": [
      "\u001b[0;31m---------------------------------------------------------------------------\u001b[0m",
      "\u001b[0;31mValueError\u001b[0m                                Traceback (most recent call last)",
      "\u001b[0;32m<ipython-input-9-840cc6bd27e4>\u001b[0m in \u001b[0;36m<module>\u001b[0;34m()\u001b[0m\n\u001b[1;32m     19\u001b[0m         \u001b[0mXX\u001b[0m \u001b[0;34m=\u001b[0m \u001b[0mnp\u001b[0m\u001b[0;34m.\u001b[0m\u001b[0mc_\u001b[0m\u001b[0;34m[\u001b[0m\u001b[0mxx\u001b[0m\u001b[0;34m.\u001b[0m\u001b[0mravel\u001b[0m\u001b[0;34m(\u001b[0m\u001b[0;34m)\u001b[0m\u001b[0;34m,\u001b[0m \u001b[0myy\u001b[0m\u001b[0;34m.\u001b[0m\u001b[0mravel\u001b[0m\u001b[0;34m(\u001b[0m\u001b[0;34m)\u001b[0m\u001b[0;34m]\u001b[0m\u001b[0;34m\u001b[0m\u001b[0m\n\u001b[1;32m     20\u001b[0m         \u001b[0mvals2\u001b[0m \u001b[0;34m=\u001b[0m \u001b[0mkagg\u001b[0m\u001b[0;34m.\u001b[0m\u001b[0mpredict\u001b[0m\u001b[0;34m(\u001b[0m\u001b[0mXX\u001b[0m\u001b[0;34m)\u001b[0m\u001b[0;34m\u001b[0m\u001b[0m\n\u001b[0;32m---> 21\u001b[0;31m         \u001b[0mYY\u001b[0m \u001b[0;34m=\u001b[0m \u001b[0mvals2\u001b[0m\u001b[0;34m.\u001b[0m\u001b[0mreshape\u001b[0m\u001b[0;34m(\u001b[0m\u001b[0mxx\u001b[0m\u001b[0;34m.\u001b[0m\u001b[0mshape\u001b[0m\u001b[0;34m)\u001b[0m\u001b[0;34m\u001b[0m\u001b[0m\n\u001b[0m\u001b[1;32m     22\u001b[0m         \u001b[0mcolors2\u001b[0m \u001b[0;34m=\u001b[0m \u001b[0;34m[\u001b[0m\u001b[0;34m]\u001b[0m\u001b[0;34m\u001b[0m\u001b[0m\n\u001b[1;32m     23\u001b[0m         \u001b[0;32mfor\u001b[0m \u001b[0mval\u001b[0m \u001b[0;32min\u001b[0m \u001b[0mvals2\u001b[0m\u001b[0;34m:\u001b[0m\u001b[0;34m\u001b[0m\u001b[0m\n",
      "\u001b[0;31mValueError\u001b[0m: total size of new array must be unchanged"
     ]
    }
   ],
   "source": [
    "# for p in [1.0, 1.5, 2.0]:\n",
    "#     for s in [0.2, 1.0, 5.0]:\n",
    "#         dist_func = PowerDistance(p)\n",
    "#         gfunc = GFuncExp(s, 1./p)\n",
    "#         kagg = KAgg(dist_func, gfunc, eps=1.0e-4, t0=0.01, max_epoch=1000)\n",
    "#         kagg.fit(U, n_centers=3)\n",
    "#         print('K=', kagg.state['K'])\n",
    "#         centers = kagg.state['centers']\n",
    "#         print(centers)       \n",
    "        \n",
    "#         vals = kagg.predict(U)\n",
    "#         colors = []\n",
    "#         for val in vals:\n",
    "#             colors.append([val[0],val[1],0])   \n",
    "            \n",
    "#         x1 = np.linspace(4,8.5,100)\n",
    "#         x2 = np.linspace(1.0,5.0,100)\n",
    "#         xx, yy = np.meshgrid(x1, x2)\n",
    "#         XX = np.c_[xx.ravel(), yy.ravel()]\n",
    "#         vals2 = kagg.predict(XX)\n",
    "#         YY = vals2.reshape(xx.shape)\n",
    "#         colors2 = []\n",
    "#         for val in vals2:\n",
    "#             colors2.append([val[0],val[1],0])            "
   ]
  },
  {
   "cell_type": "code",
   "execution_count": null,
   "metadata": {
    "collapsed": true,
    "deletable": true,
    "editable": true
   },
   "outputs": [],
   "source": []
  }
 ],
 "metadata": {
  "kernelspec": {
   "display_name": "Python 3",
   "language": "python",
   "name": "python3"
  },
  "language_info": {
   "codemirror_mode": {
    "name": "ipython",
    "version": 3
   },
   "file_extension": ".py",
   "mimetype": "text/x-python",
   "name": "python",
   "nbconvert_exporter": "python",
   "pygments_lexer": "ipython3",
   "version": "3.5.3"
  }
 },
 "nbformat": 4,
 "nbformat_minor": 0
}
