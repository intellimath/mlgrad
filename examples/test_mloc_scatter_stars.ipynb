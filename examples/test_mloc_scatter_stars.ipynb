{
 "cells": [
  {
   "cell_type": "code",
   "execution_count": 1,
   "metadata": {},
   "outputs": [
    {
     "name": "stderr",
     "output_type": "stream",
     "text": [
      "<frozen importlib._bootstrap>:228: RuntimeWarning: mlgrad.distance.DistanceWithScale size changed, may indicate binary incompatibility. Expected 232 from C header, got 240 from PyObject\n",
      "<frozen importlib._bootstrap>:228: RuntimeWarning: mlgrad.distance.MahalanobisDistance size changed, may indicate binary incompatibility. Expected 232 from C header, got 240 from PyObject\n"
     ]
    }
   ],
   "source": [
    "import mlgrad.mlocation_scatter as mls\n",
    "import mlgrad.avragg as avragg\n",
    "import mlgrad.distance as distance\n",
    "import mlgrad.func as func\n",
    "import mlgrad.regular as regular\n",
    "\n",
    "from mlgrad import erm_fg, erm_sg, erm_irgd, fg, fg_rud, sg, weights, averager_it, erisk\n",
    "\n",
    "import pandas as pd\n",
    "import numpy as np\n",
    "import matplotlib.pyplot as plt\n",
    "plt.style.use(['seaborn-notebook', 'seaborn-white', 'seaborn-ticks'])"
   ]
  },
  {
   "cell_type": "code",
   "execution_count": null,
   "metadata": {},
   "outputs": [],
   "source": [
    "df = pd.read_csv(\"data/starsCYG.csv\", sep=',', usecols=[\"log.Te\", \"log.light\"], )\n",
    "df[:10]"
   ]
  },
  {
   "cell_type": "code",
   "execution_count": null,
   "metadata": {},
   "outputs": [],
   "source": [
    "X = df[\"log.Te\"].values.reshape((-1,1))\n",
    "X = np.asarray(X, \"d\")\n",
    "Y = df[\"log.light\"].values\n",
    "\n",
    "# X = np.log(X)\n",
    "# Y = np.log(Y)"
   ]
  },
  {
   "cell_type": "code",
   "execution_count": null,
   "metadata": {},
   "outputs": [],
   "source": [
    "plt.figure(figsize=(5.0, 4.0))\n",
    "plt.scatter(X, Y, s=49, c='w', edgecolors='k', linewidth=1.)\n",
    "plt.minorticks_on()\n",
    "plt.grid(1)\n",
    "plt.show()"
   ]
  },
  {
   "cell_type": "code",
   "execution_count": null,
   "metadata": {},
   "outputs": [],
   "source": [
    "XY = np.c_[X, Y]\n",
    "print(len(XY))"
   ]
  },
  {
   "cell_type": "code",
   "execution_count": null,
   "metadata": {},
   "outputs": [],
   "source": [
    "avg = avragg.MWAverage(averager_it(func.QuantileFunc(0.85, func.Sqrt(0.001))))\n",
    "# reg = func.Absolute()\n",
    "mlse = mls.MLocationScatterEstimator(avg, n_step=30, reg=None, h=0.01)\n",
    "mlse.fit(XY)"
   ]
  },
  {
   "cell_type": "code",
   "execution_count": null,
   "metadata": {},
   "outputs": [],
   "source": [
    "plt.plot(mlse.dvals)\n",
    "plt.show()\n",
    "plt.plot(mlse.mlocation.dvals)\n",
    "plt.show()\n",
    "plt.plot(mlse.mscatter.dvals)\n",
    "plt.show()"
   ]
  },
  {
   "cell_type": "code",
   "execution_count": null,
   "metadata": {},
   "outputs": [],
   "source": [
    "loc, S = mlse.loc.base, mlse.S.base\n",
    "distfunc = mlse.distfunc\n",
    "\n",
    "loc0 = mls.standard_location(XY)\n",
    "S0 = mls.standard_covariance(XY, loc0)\n",
    "distfunc0 = distance.MahalanobisDistance(np.linalg.inv(S0.T))"
   ]
  },
  {
   "cell_type": "code",
   "execution_count": null,
   "metadata": {},
   "outputs": [],
   "source": [
    "print(loc)\n",
    "print(S)\n",
    "print(mlse.K)"
   ]
  },
  {
   "cell_type": "code",
   "execution_count": null,
   "metadata": {},
   "outputs": [],
   "source": [
    "plt.figure(figsize=(5.0, 4.0))\n",
    "plt.scatter(X, Y, s=49, c='w', edgecolors='k', linewidth=1.)\n",
    "plt.scatter([loc[0]], [loc[1]], s=49, c='k', edgecolors='k', linewidth=1., marker='o', label='robust')\n",
    "plt.scatter([loc0[0]], [loc0[1]], s=49, c='k', edgecolors='k', linewidth=1., marker='s', label='classic')\n",
    "plt.minorticks_on()\n",
    "plt.grid(1)\n",
    "plt.legend()\n",
    "plt.show()"
   ]
  },
  {
   "cell_type": "code",
   "execution_count": null,
   "metadata": {},
   "outputs": [],
   "source": [
    "# plt.figure(figsize=(5.0, 4.0))\n",
    "# D0 = [distfunc0(xy, loc0) for xy in XY]\n",
    "# D = [mlse.distfunc(xy, loc) for xy in XY]\n",
    "# plt.scatter(D0, D, c='w', edgecolors='k', linewidth=1)\n",
    "# plt.xlabel('Classic distance')\n",
    "# plt.ylabel('Robust distance')\n",
    "# plt.title('starsCYG [log.Te, log.light]')\n",
    "# plt.savefig('fig/robust_clustering_distance_stars.eps')\n",
    "# plt.grid(1)\n",
    "# plt.minorticks_on()\n",
    "# plt.show()"
   ]
  },
  {
   "cell_type": "code",
   "execution_count": null,
   "metadata": {},
   "outputs": [],
   "source": [
    "# eigval, eigvecs = np.linalg.eig(distfunc.S)\n",
    "# eigval0, eigvecs0 = np.linalg.eig(distfunc0.S)\n",
    "# print(eigval)\n",
    "# print(eigval0)\n",
    "# print(eigvecs)\n",
    "# print(eigvecs0)\n",
    "plt.figure(figsize=(11.0, 4.0))\n",
    "plt.subplot(1,2,1)\n",
    "plt.scatter(X, Y, s=49, c='w', edgecolors='k', linewidth=1.)\n",
    "plt.scatter([loc[0]], [loc[1]], s=49, c='k', edgecolors='k', linewidth=1., marker='o', label='Robust')\n",
    "plt.scatter([loc0[0]], [loc0[1]], s=49, c='k', edgecolors='k', linewidth=1., marker='s', label='Classic')\n",
    "# plt.plot([loc[0]-eigvecs[0,0], loc[0], loc[0]+eigvecs[0,0]], \n",
    "#          [loc[1]-eigvecs[1,0], loc[1], loc[1]+eigvecs[1,0]], color='k')\n",
    "# plt.plot([loc[0]-eigvecs[0,1], loc[0], loc[0]+eigvecs[0,1]], \n",
    "#          [loc[1]-eigvecs[1,1], loc[1], loc[1]+eigvecs[1,1]], color='k')\n",
    "# plt.plot([loc0[0]-eigvecs0[0,0], loc0[0], loc0[0]+eigvecs0[0,0]], \n",
    "#          [loc0[1]-eigvecs0[1,0], loc0[1], loc0[1]+eigvecs0[1,0]], color='k', linestyle='--')\n",
    "# plt.plot([loc0[0]-eigvecs0[0,1], loc0[0], loc0[0]+eigvecs0[0,1]], \n",
    "#          [loc0[1]-eigvecs0[1,1], loc0[1], loc0[1]+eigvecs0[1,1]], color='k', linestyle='--')\n",
    "xrange = np.linspace(3., 5.5, 100)\n",
    "yrange = np.linspace(3., 7., 100)\n",
    "XX2, YY2 = np.meshgrid(xrange, yrange)\n",
    "XY2 = np.c_[XX2.ravel(), YY2.ravel()]\n",
    "D = np.array([distfunc(loc, xy) for xy in XY2])\n",
    "D_s = D.reshape(XX2.shape)\n",
    "D0 = np.array([distfunc0(loc0, xy) for xy in XY2])\n",
    "D0_s = D0.reshape(XX2.shape)\n",
    "plt.contour(XX2, YY2, D_s, levels=[0.,0.4])\n",
    "plt.contour(XX2, YY2, D0_s, levels=[0., 10.0], linestyles='dotted')\n",
    "plt.minorticks_on()\n",
    "plt.grid(1)\n",
    "plt.legend()\n",
    "# plt.xlim(3.25, 5)\n",
    "# plt.ylim(-2, 12)\n",
    "plt.title('starsCYG [log.Te, log.light]')\n",
    "plt.subplot(1,2,2)\n",
    "D0 = [distfunc0(xy, loc0) for xy in XY]\n",
    "D = [distfunc(xy, loc) for xy in XY]\n",
    "plt.scatter(D0, D, c='w', edgecolors='k', linewidth=1)\n",
    "plt.xlabel('Classic distance')\n",
    "plt.ylabel('Robust distance')\n",
    "plt.title('starsCYG [log.Te, log.light]')\n",
    "plt.savefig('fig/robust_clustering_distance_stars.eps')\n",
    "plt.grid(1)\n",
    "plt.minorticks_on()\n",
    "plt.savefig('fig/robust_location_scatter_stars.eps')\n",
    "plt.show()"
   ]
  },
  {
   "cell_type": "code",
   "execution_count": null,
   "metadata": {},
   "outputs": [],
   "source": [
    "40/47"
   ]
  },
  {
   "cell_type": "code",
   "execution_count": null,
   "metadata": {},
   "outputs": [],
   "source": []
  }
 ],
 "metadata": {
  "kernelspec": {
   "display_name": "Python 3",
   "language": "python",
   "name": "python3"
  },
  "language_info": {
   "codemirror_mode": {
    "name": "ipython",
    "version": 3
   },
   "file_extension": ".py",
   "mimetype": "text/x-python",
   "name": "python",
   "nbconvert_exporter": "python",
   "pygments_lexer": "ipython3",
   "version": "3.9.1"
  }
 },
 "nbformat": 4,
 "nbformat_minor": 4
}
