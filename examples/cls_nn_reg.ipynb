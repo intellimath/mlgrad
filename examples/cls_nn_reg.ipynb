{
 "cells": [
  {
   "cell_type": "code",
   "execution_count": 7,
   "id": "82ad671f-0e37-4eb5-b4aa-3f231e45111e",
   "metadata": {},
   "outputs": [],
   "source": [
    "import numpy as np\n",
    "import matplotlib.pyplot as plt\n",
    "\n",
    "import mlgrad.funcs as funcs\n",
    "import mlgrad.models as models\n",
    "import mlgrad.loss as loss\n",
    "import mlgrad.risks as risks\n",
    "import mlgrad.gd as gd"
   ]
  },
  {
   "cell_type": "code",
   "execution_count": 12,
   "id": "952cfcd4-0df6-4ae3-87a8-34d2d1cb4148",
   "metadata": {},
   "outputs": [],
   "source": [
    "from sklearn.datasets import load_digits\n",
    "X, Y = load_digits(return_X_y=True)\n",
    "X17 = X[(Y==1) | (Y==7)]\n",
    "Y17 = Y[(Y==1) | (Y==7)]\n",
    "Y17[Y17==7] = -1\n",
    "Y17 = Y17.astype(\"d\")"
   ]
  },
  {
   "cell_type": "code",
   "execution_count": 13,
   "id": "9eac521e-8552-436c-9e6e-31e568fe8f06",
   "metadata": {},
   "outputs": [],
   "source": [
    "n_input = X17.shape[1]\n",
    "n_hidden = 100\n",
    "head = models.LinearModel(n_hidden)\n",
    "body = models.FFNetworkModel()\n",
    "linlayer = models.LinearLayer(n_input, n_hidden)\n",
    "rholayer = models.ScaleLayer(funcs.Sigmoidal(1.0), n_hidden)\n",
    "body.add(linlayer)\n",
    "body.add(rholayer)\n",
    "nn = models.FFNetworkFuncModel(head, body)"
   ]
  },
  {
   "cell_type": "code",
   "execution_count": 14,
   "id": "6f33c085-6bdc-47c4-a600-325e178d88c9",
   "metadata": {},
   "outputs": [],
   "source": [
    "nn.allocate()"
   ]
  },
  {
   "cell_type": "code",
   "execution_count": 15,
   "id": "c63b4e36-40f4-475e-95b8-38885268d458",
   "metadata": {},
   "outputs": [],
   "source": [
    "risk = risks.ERisk(X17, Y17, nn, loss.MarginLoss(funcs.Hinge(1.0)))\n",
    "alg = gd.FG(risk, h=0.01)"
   ]
  },
  {
   "cell_type": "code",
   "execution_count": null,
   "id": "8d4be719-9b08-45b7-bd73-deafd45f7bf3",
   "metadata": {},
   "outputs": [],
   "source": [
    "class L2_reg:\n",
    "    #\n",
    "    def __init__(self, start, n, lam):\n",
    "        self.start = start\n",
    "        self.n = n\n",
    "        self.lam = lam\n",
    "    #\n",
    "    def evaluate(self, W):\n",
    "        w =  W[self.start:self.start+self.n]\n",
    "        return 0.5 * self.lam * w @ w\n",
    "    #\n",
    "    def gradient(self, W, R):\n",
    "        w =  W[self.start:self.start+self.n]\n",
    "        R[self.start:self.start+self.n] += self.lam * w\n",
    "\n",
    "class GD_R2(gd.FG):\n",
    "    #\n",
    "    def __init__(self, risk, ):\n",
    "        self.risk = risk\n",
    "    #\n",
    "    def add_reg(self, ref):\n",
    "        self.regs = []\n",
    "        for \n"
   ]
  }
 ],
 "metadata": {
  "kernelspec": {
   "display_name": "Python 3 (ipykernel)",
   "language": "python",
   "name": "python3"
  },
  "language_info": {
   "codemirror_mode": {
    "name": "ipython",
    "version": 3
   },
   "file_extension": ".py",
   "mimetype": "text/x-python",
   "name": "python",
   "nbconvert_exporter": "python",
   "pygments_lexer": "ipython3",
   "version": "3.13.5"
  }
 },
 "nbformat": 4,
 "nbformat_minor": 5
}
