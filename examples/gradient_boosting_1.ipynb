{
 "cells": [
  {
   "cell_type": "code",
   "execution_count": 1,
   "id": "715b5f1f-92d7-4207-9825-25e2af2f83f0",
   "metadata": {},
   "outputs": [],
   "source": [
    "from mlgrad.risk import ERisk, ERiskGB\n",
    "from mlgrad.loss import SquareErrorLoss\n",
    "from mlgrad.model import LinearFuncModel, SigmaNeuronModel, FFNetworkModel, \\\n",
    "                        FFNetworkFuncModel, SigmaNeuronModelLayer, LinearModel\n",
    "from mlgrad.func import SoftPlus, Sqrt, Sigmoidal, HingeSqrt\n",
    "\n",
    "from mlgrad import erm_fg, erm_irgd, fg, erm_fg, erisk\n",
    "from mlgrad.regr import m_regression_irls\n",
    "from mlgrad.af import averaging_function\n",
    "from mlgrad.weights import MWeights\n",
    "\n",
    "import numpy as np"
   ]
  },
  {
   "cell_type": "code",
   "execution_count": 2,
   "id": "aba07efd-9494-4644-824b-b73e2fa920c5",
   "metadata": {},
   "outputs": [],
   "source": [
    "def find_alpha(X, E, mod, W=None):\n",
    "    Yh = np.array([mod(Xk) for Xk in X])\n",
    "    if W is None:\n",
    "        alpha = np.sum(E * Yh) / np.sum(Yh * Yh)\n",
    "    else:\n",
    "        alpha = np.sum(W * E * Yh) / np.sum(W * Yh * Yh)\n",
    "    return alpha"
   ]
  },
  {
   "cell_type": "code",
   "execution_count": 3,
   "id": "52912fa1-e9ac-4d0f-8a28-085d2e37f342",
   "metadata": {},
   "outputs": [],
   "source": [
    "def find_param(X, E, mod, loss_func, W=None):\n",
    "    rs = ERisk(X, E, mod, loss_func)\n",
    "    if W is not None:\n",
    "        rs.use_weights(W)\n",
    "    alg_fg = erm_fg(rs, h=0.01, tol=1.0e-6)"
   ]
  },
  {
   "cell_type": "code",
   "execution_count": 13,
   "id": "e731cf91-564b-49a8-8e6c-1fc1bf498254",
   "metadata": {},
   "outputs": [],
   "source": [
    "def find_param_alpha_agg(X, Y, lfm, mod, loss_func, agg, n_iter=30, tol=1.0e-5):\n",
    "    alpha = alpha_min = 1\n",
    "    W = np.zeros(len(X), 'd')\n",
    "    param_min = mod.param.copy()\n",
    "\n",
    "    L = np.array([loss_func(lfm(Xk) + alpha*mod(Xk), Yk) for Xk, Yk in zip(X, Y)])\n",
    "    agg.fit(L)\n",
    "    lval = lval_min = agg.u\n",
    "    agg.gradient(L, W)\n",
    "    \n",
    "    for j in range(n_iter):        \n",
    "        lval_prev = lval\n",
    "\n",
    "        E = np.array([(Yk - lfm(Xk))/alpha for Xk, Yk in zip(X,Y)])\n",
    "        find_param(X, E, mod, loss_func, W)\n",
    "        \n",
    "        E = (Y - np.array([lfm(Xk) for Xk in X]))\n",
    "        alpha = find_alpha(X, E, mod, W)\n",
    "\n",
    "        if lval < lval_min:\n",
    "            param_min = mod.param.copy()\n",
    "            alpha_min = alpha\n",
    "            lval_min = lval\n",
    "\n",
    "        L = np.array([loss_func(lfm(Xk) + alpha*mod(Xk), Yk) for Xk, Yk in zip(X, Y)])\n",
    "        agg.fit(L)\n",
    "        lval = agg.u\n",
    "        \n",
    "        agg.gradient(L, W)\n",
    "        \n",
    "        if lval < lval_min:\n",
    "            param_min = mod.param.copy()\n",
    "            alpha_min = alpha\n",
    "            lval_min = lval\n",
    "            \n",
    "        if j < 2:\n",
    "            continue\n",
    "        \n",
    "        if abs(lval - lval_prev) < tol:\n",
    "            break\n",
    "            \n",
    "    mod.param[:] = param_min\n",
    "    alpha = alpha_min\n",
    "    print(j)\n",
    "    return alpha\n",
    "        "
   ]
  },
  {
   "cell_type": "code",
   "execution_count": 5,
   "id": "e7e12e69-67fd-424d-959e-f1d9af0cb4a4",
   "metadata": {},
   "outputs": [],
   "source": [
    "def find_param_alpha(X, Y, lfm, mod, loss_func, n_iter=100, tol=1.0e-6):\n",
    "    lval = lval_min = 10000000.\n",
    "    alpha_min = alpha = 1\n",
    "\n",
    "    for j in range(n_iter):\n",
    "        lval_prev = lval\n",
    "\n",
    "        E = np.array([(Yk - lfm(Xk)) for Xk,Yk in zip(X,Y)])\n",
    "        find_param(X, E/alpha, mod, loss_func)\n",
    "        \n",
    "        alpha = find_alpha(X, E, mod)\n",
    "\n",
    "        lval = np.mean([loss_func(lfm(Xk) + alpha*mod(Xk), Yk) for Xk, Yk in zip(X, Y)])\n",
    "\n",
    "        if lval < lval_min:\n",
    "            param_min = mod.param.copy()\n",
    "            alpha_min = alpha\n",
    "            lval_min = lval\n",
    "\n",
    "        if j < 2:\n",
    "            continue\n",
    "        \n",
    "        if abs(lval - lval_prev)  < tol:\n",
    "            break\n",
    "\n",
    "    mod.param[:] = param_min\n",
    "    alpha = alpha_min\n",
    "    print(j)\n",
    "    return alpha        "
   ]
  },
  {
   "cell_type": "code",
   "execution_count": 6,
   "id": "86f2b98d-a10a-450b-9eaf-03eee012b5e3",
   "metadata": {},
   "outputs": [],
   "source": [
    "def gb_fit_agg(X, Y, alpha=0.75, n_iter=100):\n",
    "    N = len(X)\n",
    "    lfm = LinearFuncModel()\n",
    "    agg = averaging_function('WM', alpha=alpha)\n",
    "    loss_func = SquareErrorLoss()\n",
    "    lvals = []\n",
    "    a = 1\n",
    "    for k in range(n_iter):\n",
    "        # body = FFNetworkModel()\n",
    "        # layer = SigmaNeuronModelLayer(Sigmoidal(), X.shape[1], 3)\n",
    "        # body.add(layer)\n",
    "        # head = LinearModel(3)\n",
    "        # mod = FFNetworkFuncModel(head, body)\n",
    "        # mod.allocate()\n",
    "        mod = SigmaNeuronModel(Sigmoidal(), X.shape[1])\n",
    "        mod.init_param()\n",
    "\n",
    "        a = find_param_alpha_agg(X, Y, lfm, mod, loss_func, agg)\n",
    "        # print(k, lfm.weights)\n",
    "        lfm.add(mod, a)\n",
    "        # s = np.sum(lfm.weights)\n",
    "        # lfm.weights = [w/s for w in lfm.weights]\n",
    "        L = np.array([loss_func(lfm(Xk), Yk) for Xk, Yk in zip(X,Y)])\n",
    "        agg.fit(L)\n",
    "        lvals.append(agg.u)\n",
    "    return lfm, lvals\n"
   ]
  },
  {
   "cell_type": "code",
   "execution_count": 7,
   "id": "05c6c61c-3f9d-43be-8ddc-50265ca10d23",
   "metadata": {},
   "outputs": [],
   "source": [
    "def gb_fit(X, Y, n_iter=100):\n",
    "    lfm = LinearFuncModel()\n",
    "    loss_func = SquareErrorLoss()\n",
    "    lvals = []\n",
    "    for k in range(n_iter):\n",
    "        # body = FFNetworkModel()\n",
    "        # layer = SigmaNeuronModelLayer(Sigmoidal(), X.shape[1], 3)\n",
    "        # body.add(layer)\n",
    "        # head = LinearModel(3)\n",
    "        # mod = FFNetworkFuncModel(head, body)\n",
    "        # mod.allocate()\n",
    "        mod = SigmaNeuronModel(Sigmoidal(), X.shape[1])\n",
    "        mod.init_param()\n",
    "\n",
    "        a = find_param_alpha(X, Y, lfm, mod, loss_func)\n",
    "        lfm.add(mod, a)\n",
    "\n",
    "        lvals.append(np.mean([loss_func(lfm(Xk), Yk) for Xk, Yk in zip(X,Y)]))\n",
    "    return lfm, lvals"
   ]
  },
  {
   "cell_type": "code",
   "execution_count": 8,
   "id": "90cd9aab-2b5f-4f81-92dd-6985e5d6c5b2",
   "metadata": {},
   "outputs": [],
   "source": [
    "import sklearn.datasets as datasets"
   ]
  },
  {
   "cell_type": "code",
   "execution_count": 9,
   "id": "ac336305-1942-4cf9-8c81-abe4d4c4c882",
   "metadata": {},
   "outputs": [],
   "source": [
    "X, Y = datasets.load_diabetes(return_X_y=True)"
   ]
  },
  {
   "cell_type": "code",
   "execution_count": 10,
   "id": "1e9ae3b8-d867-457d-9fd4-1d3476b96c91",
   "metadata": {},
   "outputs": [],
   "source": [
    "# Is = np.random.randint(0, len(X), 30)\n",
    "# for i in Is:\n",
    "#     Y[i] += 1000"
   ]
  },
  {
   "cell_type": "code",
   "execution_count": 11,
   "id": "9ad4bd3a-10aa-41bb-aaa1-4e165072ce6e",
   "metadata": {},
   "outputs": [
    {
     "name": "stdout",
     "output_type": "stream",
     "text": [
      "45\n",
      "99\n",
      "99\n",
      "99\n",
      "99\n",
      "99\n",
      "99\n",
      "99\n",
      "99\n",
      "99\n",
      "99\n",
      "99\n",
      "99\n",
      "99\n",
      "99\n",
      "99\n",
      "99\n",
      "99\n",
      "99\n",
      "99\n",
      "99\n",
      "99\n",
      "99\n",
      "99\n",
      "99\n",
      "99\n",
      "99\n",
      "99\n",
      "99\n",
      "99\n",
      "99\n",
      "99\n",
      "99\n",
      "99\n",
      "99\n",
      "99\n",
      "99\n",
      "99\n",
      "99\n",
      "99\n",
      "99\n",
      "99\n",
      "99\n",
      "99\n",
      "99\n",
      "99\n",
      "99\n",
      "99\n",
      "99\n",
      "99\n",
      "[ 3.06894544e+02  1.34861490e+00  9.86430666e-01 -5.43124262e-01\n",
      "  1.79995361e+00 -8.25175559e-01  1.01009804e+00 -4.12760369e-01\n",
      "  7.78248084e-01 -4.96263594e-01  7.70907047e-01 -3.21292131e-01\n",
      "  1.10042108e+00 -4.74315079e-01  8.99283986e-01 -4.90860439e-01\n",
      "  1.07885134e+00 -6.40946265e-01 -2.38524460e-01  6.52306879e-01\n",
      " -3.80891833e-01  6.67182776e-02  1.12162846e+00 -5.43719147e-01\n",
      " -4.50777409e-01  3.43475040e-01  7.85554930e-01 -3.59835082e-01\n",
      "  7.69943167e-01 -5.04309901e-01 -3.15101349e-01  2.53613791e-01\n",
      "  1.11551243e+00 -5.88308316e-01  9.06763103e-01 -5.42848227e-01\n",
      "  8.34479639e-01 -5.61751198e-01 -3.22645281e-01  3.49222620e-01\n",
      "  9.53694585e-01 -5.96297788e-01  8.47939385e-01 -3.71345776e-01\n",
      "  9.34885975e-01 -4.29489090e-01  8.09845982e-01 -3.09581349e-01\n",
      "  7.20521350e-01 -4.00152608e-01]\n"
     ]
    }
   ],
   "source": [
    "lfm, lvals = gb_fit(X, Y, n_iter=50)\n",
    "print(np.asarray(lfm.weights))"
   ]
  },
  {
   "cell_type": "code",
   "execution_count": 12,
   "id": "732d994c-8d18-485d-8523-7801e821650e",
   "metadata": {},
   "outputs": [
    {
     "name": "stdout",
     "output_type": "stream",
     "text": [
      "29\n",
      "29\n",
      "29\n",
      "29\n",
      "29\n",
      "29\n",
      "29\n",
      "29\n",
      "29\n",
      "29\n",
      "29\n",
      "29\n",
      "29\n",
      "29\n",
      "29\n",
      "29\n",
      "29\n",
      "29\n",
      "29\n",
      "29\n",
      "29\n",
      "29\n",
      "29\n",
      "29\n",
      "29\n",
      "29\n",
      "29\n",
      "29\n",
      "29\n",
      "29\n",
      "29\n",
      "29\n",
      "29\n",
      "29\n",
      "29\n",
      "29\n",
      "29\n",
      "29\n",
      "29\n",
      "29\n"
     ]
    },
    {
     "ename": "UnboundLocalError",
     "evalue": "local variable 'param_min' referenced before assignment",
     "output_type": "error",
     "traceback": [
      "\u001b[0;31m---------------------------------------------------------------------------\u001b[0m",
      "\u001b[0;31mUnboundLocalError\u001b[0m                         Traceback (most recent call last)",
      "\u001b[0;32m/tmp/ipykernel_23397/1107627643.py\u001b[0m in \u001b[0;36m<module>\u001b[0;34m\u001b[0m\n\u001b[0;32m----> 1\u001b[0;31m \u001b[0mlfm_agg\u001b[0m\u001b[0;34m,\u001b[0m \u001b[0mlvals_agg\u001b[0m \u001b[0;34m=\u001b[0m \u001b[0mgb_fit_agg\u001b[0m\u001b[0;34m(\u001b[0m\u001b[0mX\u001b[0m\u001b[0;34m,\u001b[0m \u001b[0mY\u001b[0m\u001b[0;34m,\u001b[0m \u001b[0malpha\u001b[0m\u001b[0;34m=\u001b[0m\u001b[0;36m0.95\u001b[0m\u001b[0;34m,\u001b[0m \u001b[0mn_iter\u001b[0m\u001b[0;34m=\u001b[0m\u001b[0;36m50\u001b[0m\u001b[0;34m)\u001b[0m\u001b[0;34m\u001b[0m\u001b[0;34m\u001b[0m\u001b[0m\n\u001b[0m\u001b[1;32m      2\u001b[0m \u001b[0mprint\u001b[0m\u001b[0;34m(\u001b[0m\u001b[0mnp\u001b[0m\u001b[0;34m.\u001b[0m\u001b[0masarray\u001b[0m\u001b[0;34m(\u001b[0m\u001b[0mlfm_agg\u001b[0m\u001b[0;34m.\u001b[0m\u001b[0mweights\u001b[0m\u001b[0;34m)\u001b[0m\u001b[0;34m)\u001b[0m\u001b[0;34m\u001b[0m\u001b[0;34m\u001b[0m\u001b[0m\n",
      "\u001b[0;32m/tmp/ipykernel_23397/294477285.py\u001b[0m in \u001b[0;36mgb_fit_agg\u001b[0;34m(X, Y, alpha, n_iter)\u001b[0m\n\u001b[1;32m     16\u001b[0m         \u001b[0mmod\u001b[0m\u001b[0;34m.\u001b[0m\u001b[0minit_param\u001b[0m\u001b[0;34m(\u001b[0m\u001b[0;34m)\u001b[0m\u001b[0;34m\u001b[0m\u001b[0;34m\u001b[0m\u001b[0m\n\u001b[1;32m     17\u001b[0m \u001b[0;34m\u001b[0m\u001b[0m\n\u001b[0;32m---> 18\u001b[0;31m         \u001b[0ma\u001b[0m \u001b[0;34m=\u001b[0m \u001b[0mfind_param_alpha_agg\u001b[0m\u001b[0;34m(\u001b[0m\u001b[0mX\u001b[0m\u001b[0;34m,\u001b[0m \u001b[0mY\u001b[0m\u001b[0;34m,\u001b[0m \u001b[0mlfm\u001b[0m\u001b[0;34m,\u001b[0m \u001b[0mmod\u001b[0m\u001b[0;34m,\u001b[0m \u001b[0mloss_func\u001b[0m\u001b[0;34m,\u001b[0m \u001b[0magg\u001b[0m\u001b[0;34m)\u001b[0m\u001b[0;34m\u001b[0m\u001b[0;34m\u001b[0m\u001b[0m\n\u001b[0m\u001b[1;32m     19\u001b[0m         \u001b[0;31m# print(k, lfm.weights)\u001b[0m\u001b[0;34m\u001b[0m\u001b[0;34m\u001b[0m\u001b[0m\n\u001b[1;32m     20\u001b[0m         \u001b[0mlfm\u001b[0m\u001b[0;34m.\u001b[0m\u001b[0madd\u001b[0m\u001b[0;34m(\u001b[0m\u001b[0mmod\u001b[0m\u001b[0;34m,\u001b[0m \u001b[0ma\u001b[0m\u001b[0;34m)\u001b[0m\u001b[0;34m\u001b[0m\u001b[0;34m\u001b[0m\u001b[0m\n",
      "\u001b[0;32m/tmp/ipykernel_23397/264259438.py\u001b[0m in \u001b[0;36mfind_param_alpha_agg\u001b[0;34m(X, Y, lfm, mod, loss_func, agg, n_iter, tol)\u001b[0m\n\u001b[1;32m     39\u001b[0m             \u001b[0;32mbreak\u001b[0m\u001b[0;34m\u001b[0m\u001b[0;34m\u001b[0m\u001b[0m\n\u001b[1;32m     40\u001b[0m \u001b[0;34m\u001b[0m\u001b[0m\n\u001b[0;32m---> 41\u001b[0;31m     \u001b[0mmod\u001b[0m\u001b[0;34m.\u001b[0m\u001b[0mparam\u001b[0m\u001b[0;34m[\u001b[0m\u001b[0;34m:\u001b[0m\u001b[0;34m]\u001b[0m \u001b[0;34m=\u001b[0m \u001b[0mparam_min\u001b[0m\u001b[0;34m\u001b[0m\u001b[0;34m\u001b[0m\u001b[0m\n\u001b[0m\u001b[1;32m     42\u001b[0m     \u001b[0malpha\u001b[0m \u001b[0;34m=\u001b[0m \u001b[0malpha_min\u001b[0m\u001b[0;34m\u001b[0m\u001b[0;34m\u001b[0m\u001b[0m\n\u001b[1;32m     43\u001b[0m     \u001b[0mprint\u001b[0m\u001b[0;34m(\u001b[0m\u001b[0mj\u001b[0m\u001b[0;34m)\u001b[0m\u001b[0;34m\u001b[0m\u001b[0;34m\u001b[0m\u001b[0m\n",
      "\u001b[0;31mUnboundLocalError\u001b[0m: local variable 'param_min' referenced before assignment"
     ]
    }
   ],
   "source": [
    "lfm_agg, lvals_agg = gb_fit_agg(X, Y, alpha=0.95, n_iter=50)\n",
    "print(np.asarray(lfm_agg.weights))"
   ]
  },
  {
   "cell_type": "code",
   "execution_count": null,
   "id": "e137b20c-056c-4c64-89f1-4e2f8ac89671",
   "metadata": {},
   "outputs": [],
   "source": [
    "import matplotlib.pyplot as plt"
   ]
  },
  {
   "cell_type": "code",
   "execution_count": null,
   "id": "7bb2cc31-2c3f-4976-8a44-c2d92141ecb2",
   "metadata": {},
   "outputs": [],
   "source": [
    "plt.plot(np.log(lvals), label='ls')\n",
    "plt.plot(np.log(lvals_agg), label='wm')\n",
    "plt.legend()\n",
    "plt.show()"
   ]
  },
  {
   "cell_type": "code",
   "execution_count": null,
   "id": "33b284fa-a15d-4855-8ac9-af1a7e977838",
   "metadata": {},
   "outputs": [],
   "source": [
    "plt.figure(figsize=(16,8))\n",
    "plt.plot(sorted([abs(lfm(X[k])-Y[k]) for k in range(len(X))]), label='ls')\n",
    "plt.plot(sorted([abs(lfm_agg(X[k])-Y[k]) for k in range(len(X))]), label='wm')\n",
    "plt.legend()\n",
    "plt.show()"
   ]
  },
  {
   "cell_type": "code",
   "execution_count": null,
   "id": "640e0f16-9c1f-4d35-8c60-0cca2d122f07",
   "metadata": {},
   "outputs": [],
   "source": [
    "50/len(X)"
   ]
  },
  {
   "cell_type": "code",
   "execution_count": null,
   "id": "bc9e7ec4-2903-48ee-ab3a-b88a67840c2c",
   "metadata": {},
   "outputs": [],
   "source": []
  }
 ],
 "metadata": {
  "kernelspec": {
   "display_name": "Python 3 (ipykernel)",
   "language": "python",
   "name": "python3"
  },
  "language_info": {
   "codemirror_mode": {
    "name": "ipython",
    "version": 3
   },
   "file_extension": ".py",
   "mimetype": "text/x-python",
   "name": "python",
   "nbconvert_exporter": "python",
   "pygments_lexer": "ipython3",
   "version": "3.9.10"
  }
 },
 "nbformat": 4,
 "nbformat_minor": 5
}
