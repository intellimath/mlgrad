{
 "cells": [
  {
   "cell_type": "code",
   "execution_count": null,
   "id": "fb263c3c-747d-4f9f-a990-943b5a6cfc99",
   "metadata": {},
   "outputs": [],
   "source": [
    "import numpy as np\n",
    "einsum = np.einsum"
   ]
  },
  {
   "cell_type": "code",
   "execution_count": null,
   "id": "39d8c2f2-b83f-4dcb-990b-fba4a6f58cef",
   "metadata": {},
   "outputs": [],
   "source": [
    "X = np.random.random((1000,2))\n",
    "e = np.array([1.,1.])"
   ]
  },
  {
   "cell_type": "code",
   "execution_count": null,
   "id": "e0abd933-3762-4cc5-a260-88cd41574c3d",
   "metadata": {},
   "outputs": [],
   "source": [
    "# (X*X)@ e\n",
    "%timeit Y=(X*X)@ e"
   ]
  },
  {
   "cell_type": "code",
   "execution_count": null,
   "id": "a8e7218f-5015-4199-ab1a-e064af8eeb53",
   "metadata": {},
   "outputs": [],
   "source": [
    "# einsum(\"ni,ni->n\", X, X)\n",
    "%timeit Y=einsum(\"ni,ni->n\", X, X)"
   ]
  },
  {
   "cell_type": "code",
   "execution_count": null,
   "id": "19815987-bf7a-4116-a4b2-b0fdac748146",
   "metadata": {},
   "outputs": [],
   "source": [
    "X=np.array([[1.,1.],[2.,2.],[3.,3.]])"
   ]
  },
  {
   "cell_type": "code",
   "execution_count": null,
   "id": "e23df392-cc4a-4ec7-a51b-a13740f6065b",
   "metadata": {},
   "outputs": [],
   "source": [
    "a=np.array([0.2,0.3])"
   ]
  },
  {
   "cell_type": "code",
   "execution_count": null,
   "id": "755ca42e-19ca-4e80-8108-87b88d6800ea",
   "metadata": {},
   "outputs": [],
   "source": [
    "(X @ a)[:,None] * X"
   ]
  },
  {
   "cell_type": "code",
   "execution_count": null,
   "id": "1413a4d4-5a1b-48ed-a3cc-9b3f010779e5",
   "metadata": {},
   "outputs": [],
   "source": [
    "np.array([[1,2],[2,3],[3,4]]).T * np.array([10,20,30])"
   ]
  },
  {
   "cell_type": "code",
   "execution_count": null,
   "id": "58021023-4a33-4fe3-a6fb-fb442d2b2a3a",
   "metadata": {},
   "outputs": [],
   "source": [
    "import ctypes\n",
    "A = np.ascontiguousarray(np.arange(100))\n",
    "A1 = A[2:-2]"
   ]
  },
  {
   "cell_type": "code",
   "execution_count": null,
   "id": "58154520-3b73-415b-92e8-2d28c878ef89",
   "metadata": {},
   "outputs": [],
   "source": []
  },
  {
   "cell_type": "code",
   "execution_count": null,
   "id": "1d007ed9-1f64-4c5e-b747-9f0e26bdc6a2",
   "metadata": {},
   "outputs": [],
   "source": [
    "%load_ext cython"
   ]
  },
  {
   "cell_type": "code",
   "execution_count": null,
   "id": "815f7921-1340-4a72-9d23-3f3e81b47efa",
   "metadata": {},
   "outputs": [],
   "source": [
    "%%cython\n",
    "\n",
    "import numpy as np\n",
    "\n",
    "cdef double[::1] buf = np.arange(30, dtype=\"d\")\n",
    "cdef double[::1] buf1 = buf[10:20]\n",
    "sub = np.asarray(buf1, copy=False)\n",
    "print(sub)\n",
    "sub[0] = 100\n",
    "print(np.asarray(buf, copy=False))\n",
    "for i in range(10):\n",
    "    print(buf1[i], end=' ')\n",
    "print()\n",
    "for i in range(30):\n",
    "    print(buf[i], end=' ')\n"
   ]
  },
  {
   "cell_type": "code",
   "execution_count": 1,
   "id": "e385c44f-a709-42b2-833a-f12f52569000",
   "metadata": {},
   "outputs": [],
   "source": [
    "from mlgrad.list_values import list_double"
   ]
  },
  {
   "cell_type": "code",
   "execution_count": 2,
   "id": "a45fc17f-d456-4a86-b609-34242236a298",
   "metadata": {},
   "outputs": [
    {
     "name": "stdout",
     "output_type": "stream",
     "text": [
      "[1. 2. 3. 4. 5. 6. 7. 8.]\n",
      "[0.027777777777777776, 0.05555555555555555, 0.08333333333333333, 0.1111111111111111, 0.1388888888888889, 0.16666666666666666, 0.19444444444444445, 0.2222222222222222]\n",
      "0.027777777777777776 0.05555555555555555 0.08333333333333333 0.1111111111111111 0.1388888888888889 0.16666666666666666 0.19444444444444445 0.2222222222222222 "
     ]
    }
   ],
   "source": [
    "a = list_double()\n",
    "a.extend([1,2,3,4,5,6,7,8])\n",
    "b = a.asarray()\n",
    "print(b)\n",
    "b /= b.sum()\n",
    "print(a.aslist())\n",
    "for i in range(len(a)):\n",
    "    print(a[i], end=' ')"
   ]
  },
  {
   "cell_type": "code",
   "execution_count": 9,
   "id": "85ca5241-c3b9-4023-8530-f442338774c6",
   "metadata": {},
   "outputs": [],
   "source": [
    "import numpy as np\n",
    "from mlgrad.inventory import empty_int_array2"
   ]
  },
  {
   "cell_type": "code",
   "execution_count": 4,
   "id": "1857c69d-65c7-46e7-a9cb-65fd604c4143",
   "metadata": {},
   "outputs": [],
   "source": [
    "ai = empty_int_array2(10)"
   ]
  },
  {
   "cell_type": "code",
   "execution_count": 6,
   "id": "b70c396e-e9e0-4352-9974-5e84cb0ce771",
   "metadata": {},
   "outputs": [],
   "source": [
    "ai.fill(0)"
   ]
  },
  {
   "cell_type": "code",
   "execution_count": 7,
   "id": "b06d1e7e-37c6-41c0-b62d-15898e55af0c",
   "metadata": {},
   "outputs": [
    {
     "data": {
      "text/plain": [
       "array([0, 0, 0, 0, 0, 0, 0, 0, 0, 0], dtype=int32)"
      ]
     },
     "execution_count": 7,
     "metadata": {},
     "output_type": "execute_result"
    }
   ],
   "source": [
    "ai"
   ]
  },
  {
   "cell_type": "code",
   "execution_count": 10,
   "id": "9bf7a2e8-c061-400f-9414-394248259206",
   "metadata": {},
   "outputs": [
    {
     "data": {
      "text/plain": [
       "array([0, 0, 0, 0, 0, 0, 0, 0, 0, 0], dtype=int32)"
      ]
     },
     "execution_count": 10,
     "metadata": {},
     "output_type": "execute_result"
    }
   ],
   "source": [
    "a = np.zeros(10, \"i\")\n",
    "a"
   ]
  },
  {
   "cell_type": "code",
   "execution_count": null,
   "id": "38c550b0-5218-49db-8c8f-83f8146ead07",
   "metadata": {},
   "outputs": [],
   "source": []
  }
 ],
 "metadata": {
  "kernelspec": {
   "display_name": "Python 3 (ipykernel)",
   "language": "python",
   "name": "python3"
  },
  "language_info": {
   "codemirror_mode": {
    "name": "ipython",
    "version": 3
   },
   "file_extension": ".py",
   "mimetype": "text/x-python",
   "name": "python",
   "nbconvert_exporter": "python",
   "pygments_lexer": "ipython3",
   "version": "3.13.5"
  }
 },
 "nbformat": 4,
 "nbformat_minor": 5
}
