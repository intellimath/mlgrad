{
 "cells": [
  {
   "cell_type": "code",
   "execution_count": 11,
   "id": "fb263c3c-747d-4f9f-a990-943b5a6cfc99",
   "metadata": {},
   "outputs": [],
   "source": [
    "import numpy as np\n",
    "einsum = np.einsum"
   ]
  },
  {
   "cell_type": "code",
   "execution_count": 22,
   "id": "39d8c2f2-b83f-4dcb-990b-fba4a6f58cef",
   "metadata": {},
   "outputs": [],
   "source": [
    "X = np.random.random((1000,2))\n",
    "e = np.array([1.,1.])"
   ]
  },
  {
   "cell_type": "code",
   "execution_count": 23,
   "id": "e0abd933-3762-4cc5-a260-88cd41574c3d",
   "metadata": {},
   "outputs": [
    {
     "name": "stdout",
     "output_type": "stream",
     "text": [
      "3.24 µs ± 266 ns per loop (mean ± std. dev. of 7 runs, 100,000 loops each)\n"
     ]
    }
   ],
   "source": [
    "# (X*X)@ e\n",
    "%timeit Y=(X*X)@ e"
   ]
  },
  {
   "cell_type": "code",
   "execution_count": 24,
   "id": "a8e7218f-5015-4199-ab1a-e064af8eeb53",
   "metadata": {},
   "outputs": [
    {
     "name": "stdout",
     "output_type": "stream",
     "text": [
      "7.91 µs ± 231 ns per loop (mean ± std. dev. of 7 runs, 100,000 loops each)\n"
     ]
    }
   ],
   "source": [
    "# einsum(\"ni,ni->n\", X, X)\n",
    "%timeit Y=einsum(\"ni,ni->n\", X, X)"
   ]
  },
  {
   "cell_type": "code",
   "execution_count": 28,
   "id": "19815987-bf7a-4116-a4b2-b0fdac748146",
   "metadata": {},
   "outputs": [],
   "source": [
    "X=np.array([[1.,1.],[2.,2.],[3.,3.]])"
   ]
  },
  {
   "cell_type": "code",
   "execution_count": 31,
   "id": "e23df392-cc4a-4ec7-a51b-a13740f6065b",
   "metadata": {},
   "outputs": [],
   "source": [
    "a=np.array([0.2,0.3])"
   ]
  },
  {
   "cell_type": "code",
   "execution_count": 40,
   "id": "755ca42e-19ca-4e80-8108-87b88d6800ea",
   "metadata": {},
   "outputs": [
    {
     "data": {
      "text/plain": [
       "array([[0.5, 0.5],\n",
       "       [2. , 2. ],\n",
       "       [4.5, 4.5]])"
      ]
     },
     "execution_count": 40,
     "metadata": {},
     "output_type": "execute_result"
    }
   ],
   "source": [
    "(X @ a)[:,None] * X"
   ]
  },
  {
   "cell_type": "code",
   "execution_count": null,
   "id": "1413a4d4-5a1b-48ed-a3cc-9b3f010779e5",
   "metadata": {},
   "outputs": [],
   "source": []
  }
 ],
 "metadata": {
  "kernelspec": {
   "display_name": "Python 3 (ipykernel)",
   "language": "python",
   "name": "python3"
  },
  "language_info": {
   "codemirror_mode": {
    "name": "ipython",
    "version": 3
   },
   "file_extension": ".py",
   "mimetype": "text/x-python",
   "name": "python",
   "nbconvert_exporter": "python",
   "pygments_lexer": "ipython3",
   "version": "3.10.8"
  }
 },
 "nbformat": 4,
 "nbformat_minor": 5
}
