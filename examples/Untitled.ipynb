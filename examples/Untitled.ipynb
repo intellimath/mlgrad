{
 "cells": [
  {
   "cell_type": "code",
   "execution_count": 1,
   "id": "fb557fd2-c0c1-44e5-bb32-1fd01d759d20",
   "metadata": {},
   "outputs": [],
   "source": [
    "%load_ext cython"
   ]
  },
  {
   "cell_type": "code",
   "execution_count": 1,
   "id": "dc3dec4f-0ef6-4bf0-a54b-6fafb730954f",
   "metadata": {},
   "outputs": [],
   "source": [
    "import time\n",
    "import numpy as np"
   ]
  },
  {
   "cell_type": "code",
   "execution_count": 18,
   "id": "d8db297b-69f8-4ad3-ab28-862c1a958492",
   "metadata": {},
   "outputs": [
    {
     "name": "stderr",
     "output_type": "stream",
     "text": [
      "warning: /home/intellimath/.cache/ipython/cython/_cython_magic_ab75790b47604e3905640ed6298c0786.pyx:17:16: Non-trivial type declarators in shared declaration (e.g. mix of pointers and values). Each pointer declaration should be on its own line.\n",
      "warning: /home/intellimath/.cache/ipython/cython/_cython_magic_ab75790b47604e3905640ed6298c0786.pyx:17:21: Non-trivial type declarators in shared declaration (e.g. mix of pointers and values). Each pointer declaration should be on its own line.\n",
      "warning: /home/intellimath/.cache/ipython/cython/_cython_magic_ab75790b47604e3905640ed6298c0786.pyx:17:26: Non-trivial type declarators in shared declaration (e.g. mix of pointers and values). Each pointer declaration should be on its own line.\n"
     ]
    }
   ],
   "source": [
    "%%cython\n",
    "\n",
    "import numpy as np\n",
    "cimport numpy as np\n",
    "import cython\n",
    "from cython.parallel import prange\n",
    "\n",
    "ctypedef np.double_t cDOUBLE\n",
    "DOUBLE = np.float64\n",
    "\n",
    "\n",
    "@cython.wraparound(False)\n",
    "@cython.boundscheck(False)\n",
    "@cython.nonecheck(False)\n",
    "def mydot(double[:,::1] a, double[:,::1] b):\n",
    "    cdef double[:,::1] c\n",
    "    cdef Py_ssize_t i, j, k, M, N, K, JK\n",
    "    cdef double *ai, *bb, *ci\n",
    "\n",
    "    c = np.zeros((a.shape[0], b.shape[1]), dtype=DOUBLE)\n",
    "    M = a.shape[0]\n",
    "    N = a.shape[1]\n",
    "    K = b.shape[1]\n",
    "\n",
    "    for i in prange(M, schedule='static', nogil=True):\n",
    "#         multiply(&a[i,0], &b[0,0], &c[i,0], N, K)\n",
    "        ai = &a[i,0]\n",
    "        ci = &c[i,0]\n",
    "        bb = &b[0,0]\n",
    "        for j in range(N):\n",
    "            JK = j*K\n",
    "            for k in range(K):\n",
    "                ci[k] += ai[j]*bb[k+JK]\n",
    "    return c\n",
    "\n",
    "\n",
    "@cython.wraparound(False)\n",
    "@cython.boundscheck(False)\n",
    "@cython.nonecheck(False)\n",
    "cdef void multiply(double *a, double *b, double *c, Py_ssize_t N, Py_ssize_t K) nogil:\n",
    "    cdef Py_ssize_t j, k\n",
    "    for j in range(N):\n",
    "        for k in range(K):\n",
    "            c[k] += a[j]*b[k+j*K]"
   ]
  },
  {
   "cell_type": "code",
   "execution_count": 19,
   "id": "933d101e-fca6-4c83-bcbf-e721a2efb636",
   "metadata": {},
   "outputs": [
    {
     "name": "stdout",
     "output_type": "stream",
     "text": [
      "finished dot: 0.2402336597442627 s\n",
      "finished mydot: 7.9641923904418945 s\n",
      "Passed test: True\n"
     ]
    }
   ],
   "source": [
    "a = np.random.random((10000,500))\n",
    "b = np.random.random((500,2000))\n",
    "\n",
    "t1 = time.time()\n",
    "c = np.dot(a, b)\n",
    "t2 = time.time()-t1\n",
    "print('finished dot: {} s'.format(t2))\n",
    "\n",
    "t2 = time.time()\n",
    "c2 = mydot(a, b)\n",
    "t3 = time.time()-t2\n",
    "print('finished mydot: {} s'.format(t3))\n",
    "\n",
    "print('Passed test:', np.allclose(c, c2))"
   ]
  },
  {
   "cell_type": "code",
   "execution_count": 5,
   "id": "c8b20b88-f685-461b-8e5e-a659aaf805d6",
   "metadata": {},
   "outputs": [
    {
     "name": "stdout",
     "output_type": "stream",
     "text": [
      "999 µs ± 37.2 µs per loop (mean ± std. dev. of 7 runs, 1000 loops each)\n",
      "1.02 ms ± 88.3 µs per loop (mean ± std. dev. of 7 runs, 1000 loops each)\n"
     ]
    }
   ],
   "source": [
    "a = np.random.rand(1000000)\n",
    "b = np.random.rand(1000000)\n",
    "\n",
    "dot = np.dot\n",
    "\n",
    "%timeit c=a @ b\n",
    "%timeit c=dot(a,b)\n"
   ]
  },
  {
   "cell_type": "code",
   "execution_count": null,
   "id": "fb916d03-6be4-4307-8e5f-a7180e11e020",
   "metadata": {},
   "outputs": [],
   "source": []
  }
 ],
 "metadata": {
  "kernelspec": {
   "display_name": "Python 3",
   "language": "python",
   "name": "python3"
  },
  "language_info": {
   "codemirror_mode": {
    "name": "ipython",
    "version": 3
   },
   "file_extension": ".py",
   "mimetype": "text/x-python",
   "name": "python",
   "nbconvert_exporter": "python",
   "pygments_lexer": "ipython3",
   "version": "3.9.2"
  }
 },
 "nbformat": 4,
 "nbformat_minor": 5
}
