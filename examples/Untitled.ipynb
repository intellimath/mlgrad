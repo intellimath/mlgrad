{
 "cells": [
  {
   "cell_type": "code",
   "execution_count": 1,
   "id": "fb263c3c-747d-4f9f-a990-943b5a6cfc99",
   "metadata": {
    "execution": {
     "iopub.execute_input": "2024-05-06T12:17:20.458649Z",
     "iopub.status.busy": "2024-05-06T12:17:20.458196Z",
     "iopub.status.idle": "2024-05-06T12:17:20.625180Z",
     "shell.execute_reply": "2024-05-06T12:17:20.623642Z",
     "shell.execute_reply.started": "2024-05-06T12:17:20.458617Z"
    }
   },
   "outputs": [],
   "source": [
    "import numpy as np\n",
    "einsum = np.einsum"
   ]
  },
  {
   "cell_type": "code",
   "execution_count": 22,
   "id": "39d8c2f2-b83f-4dcb-990b-fba4a6f58cef",
   "metadata": {},
   "outputs": [],
   "source": [
    "X = np.random.random((1000,2))\n",
    "e = np.array([1.,1.])"
   ]
  },
  {
   "cell_type": "code",
   "execution_count": 23,
   "id": "e0abd933-3762-4cc5-a260-88cd41574c3d",
   "metadata": {},
   "outputs": [
    {
     "name": "stdout",
     "output_type": "stream",
     "text": [
      "3.24 µs ± 266 ns per loop (mean ± std. dev. of 7 runs, 100,000 loops each)\n"
     ]
    }
   ],
   "source": [
    "# (X*X)@ e\n",
    "%timeit Y=(X*X)@ e"
   ]
  },
  {
   "cell_type": "code",
   "execution_count": 24,
   "id": "a8e7218f-5015-4199-ab1a-e064af8eeb53",
   "metadata": {},
   "outputs": [
    {
     "name": "stdout",
     "output_type": "stream",
     "text": [
      "7.91 µs ± 231 ns per loop (mean ± std. dev. of 7 runs, 100,000 loops each)\n"
     ]
    }
   ],
   "source": [
    "# einsum(\"ni,ni->n\", X, X)\n",
    "%timeit Y=einsum(\"ni,ni->n\", X, X)"
   ]
  },
  {
   "cell_type": "code",
   "execution_count": 28,
   "id": "19815987-bf7a-4116-a4b2-b0fdac748146",
   "metadata": {},
   "outputs": [],
   "source": [
    "X=np.array([[1.,1.],[2.,2.],[3.,3.]])"
   ]
  },
  {
   "cell_type": "code",
   "execution_count": 31,
   "id": "e23df392-cc4a-4ec7-a51b-a13740f6065b",
   "metadata": {},
   "outputs": [],
   "source": [
    "a=np.array([0.2,0.3])"
   ]
  },
  {
   "cell_type": "code",
   "execution_count": 40,
   "id": "755ca42e-19ca-4e80-8108-87b88d6800ea",
   "metadata": {},
   "outputs": [
    {
     "data": {
      "text/plain": [
       "array([[0.5, 0.5],\n",
       "       [2. , 2. ],\n",
       "       [4.5, 4.5]])"
      ]
     },
     "execution_count": 40,
     "metadata": {},
     "output_type": "execute_result"
    }
   ],
   "source": [
    "(X @ a)[:,None] * X"
   ]
  },
  {
   "cell_type": "code",
   "execution_count": 4,
   "id": "1413a4d4-5a1b-48ed-a3cc-9b3f010779e5",
   "metadata": {
    "execution": {
     "iopub.execute_input": "2023-11-12T18:08:40.339131Z",
     "iopub.status.busy": "2023-11-12T18:08:40.338187Z",
     "iopub.status.idle": "2023-11-12T18:08:40.361316Z",
     "shell.execute_reply": "2023-11-12T18:08:40.360477Z",
     "shell.execute_reply.started": "2023-11-12T18:08:40.339082Z"
    }
   },
   "outputs": [
    {
     "data": {
      "text/plain": [
       "array([[ 10,  40,  90],\n",
       "       [ 20,  60, 120]])"
      ]
     },
     "execution_count": 4,
     "metadata": {},
     "output_type": "execute_result"
    }
   ],
   "source": [
    "np.array([[1,2],[2,3],[3,4]]).T * np.array([10,20,30])"
   ]
  },
  {
   "cell_type": "code",
   "execution_count": 2,
   "id": "58021023-4a33-4fe3-a6fb-fb442d2b2a3a",
   "metadata": {
    "execution": {
     "iopub.execute_input": "2024-05-06T12:18:13.073527Z",
     "iopub.status.busy": "2024-05-06T12:18:13.072476Z",
     "iopub.status.idle": "2024-05-06T12:18:13.079735Z",
     "shell.execute_reply": "2024-05-06T12:18:13.078853Z",
     "shell.execute_reply.started": "2024-05-06T12:18:13.073479Z"
    }
   },
   "outputs": [],
   "source": [
    "A = np.ascontiguousarray(np.arange(100))\n",
    "A1 = A[1:-1]"
   ]
  },
  {
   "cell_type": "code",
   "execution_count": null,
   "id": "58154520-3b73-415b-92e8-2d28c878ef89",
   "metadata": {},
   "outputs": [],
   "source": []
  },
  {
   "cell_type": "code",
   "execution_count": null,
   "id": "1d007ed9-1f64-4c5e-b747-9f0e26bdc6a2",
   "metadata": {},
   "outputs": [],
   "source": []
  }
 ],
 "metadata": {
  "kernelspec": {
   "display_name": "Python 3 (ipykernel)",
   "language": "python",
   "name": "python3"
  },
  "language_info": {
   "codemirror_mode": {
    "name": "ipython",
    "version": 3
   },
   "file_extension": ".py",
   "mimetype": "text/x-python",
   "name": "python",
   "nbconvert_exporter": "python",
   "pygments_lexer": "ipython3",
   "version": "3.11.2"
  }
 },
 "nbformat": 4,
 "nbformat_minor": 5
}
