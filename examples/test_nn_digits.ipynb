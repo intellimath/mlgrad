{
 "cells": [
  {
   "cell_type": "code",
   "execution_count": 3,
   "metadata": {
    "ExecuteTime": {
     "end_time": "2017-12-27T11:27:32.910717Z",
     "start_time": "2017-12-27T11:27:26.882237Z"
    },
    "execution": {
     "iopub.execute_input": "2024-05-23T20:06:38.378809Z",
     "iopub.status.busy": "2024-05-23T20:06:38.378374Z",
     "iopub.status.idle": "2024-05-23T20:06:39.424112Z",
     "shell.execute_reply": "2024-05-23T20:06:39.423297Z",
     "shell.execute_reply.started": "2024-05-23T20:06:38.378770Z"
    }
   },
   "outputs": [],
   "source": [
    "import numpy as np\n",
    "\n",
    "import mlgrad.models as models\n",
    "import mlgrad.loss as loss\n",
    "import mlgrad.funcs as funcs\n",
    "import mlgrad.risks as risks\n",
    "\n",
    "from pprint import pprint\n",
    "\n",
    "from sklearn.datasets import load_digits\n",
    "from sklearn.preprocessing import MinMaxScaler\n",
    "\n",
    "import matplotlib.pyplot as plt"
   ]
  },
  {
   "cell_type": "code",
   "execution_count": 4,
   "metadata": {
    "ExecuteTime": {
     "end_time": "2017-12-27T11:27:33.172178Z",
     "start_time": "2017-12-27T11:27:32.912785Z"
    },
    "execution": {
     "iopub.execute_input": "2024-05-23T20:06:41.090146Z",
     "iopub.status.busy": "2024-05-23T20:06:41.088803Z",
     "iopub.status.idle": "2024-05-23T20:06:41.118592Z",
     "shell.execute_reply": "2024-05-23T20:06:41.117728Z",
     "shell.execute_reply.started": "2024-05-23T20:06:41.090100Z"
    }
   },
   "outputs": [
    {
     "name": "stdout",
     "output_type": "stream",
     "text": [
      "(1797, 64)\n"
     ]
    }
   ],
   "source": [
    "digits = load_digits()\n",
    "X, Y = digits.data, digits.target\n",
    "print(X.shape)\n",
    "#scaler = MinMaxScaler()\n",
    "#Xt = scaler.fit_transform(X)\n",
    "Xt = X / 16."
   ]
  },
  {
   "cell_type": "code",
   "execution_count": null,
   "metadata": {
    "execution": {
     "iopub.status.busy": "2024-05-23T20:05:48.885528Z",
     "iopub.status.idle": "2024-05-23T20:05:48.885758Z",
     "shell.execute_reply": "2024-05-23T20:05:48.885655Z",
     "shell.execute_reply.started": "2024-05-23T20:05:48.885643Z"
    }
   },
   "outputs": [],
   "source": [
    "def sigma_neuron_layer2(n_input, n_output):\n",
    "    layer = model.GeneralModelLayer(n_input)\n",
    "    outfunc = func.Arctang()\n",
    "    for i in range(n_output):\n",
    "        mod = model.SigmaNeuronModel(outfunc, n_input)\n",
    "        layer.models.append(mod)\n",
    "    layer.n_input = n_input\n",
    "    layer.n_output = n_output\n",
    "    layer.n_param = sum(mod.n_param for mod in layer.models)\n",
    "    return layer\n",
    "\n",
    "def linear_neuron_layer2(n_input, n_output):\n",
    "    layer = model.GeneralModelLayer(n_input)\n",
    "    for i in range(n_output):\n",
    "        mod = model.LinearModel(n_input)\n",
    "        layer.models.append(mod)\n",
    "    layer.n_input = n_input\n",
    "    layer.n_output = n_output\n",
    "    layer.n_param = sum(mod.n_param for mod in layer.models)\n",
    "    return layer"
   ]
  },
  {
   "cell_type": "code",
   "execution_count": null,
   "metadata": {
    "ExecuteTime": {
     "end_time": "2017-12-27T11:27:33.197476Z",
     "start_time": "2017-12-27T11:27:33.174721Z"
    },
    "execution": {
     "iopub.status.busy": "2024-05-23T20:05:48.886512Z",
     "iopub.status.idle": "2024-05-23T20:05:48.886741Z",
     "shell.execute_reply": "2024-05-23T20:05:48.886639Z",
     "shell.execute_reply.started": "2024-05-23T20:05:48.886627Z"
    }
   },
   "outputs": [],
   "source": [
    "def sigma_neuron_layer(n_input, n):\n",
    "    layer = model.SigmaNeuronModelLayer(func.Arctang(), n_input, n)\n",
    "    return layer\n",
    "\n",
    "def linear_neuron_layer(n_input, n):\n",
    "    layer = model.SigmaNeuronModelLayer(func.Id(), n_input, n)\n",
    "    return layer\n"
   ]
  },
  {
   "cell_type": "code",
   "execution_count": null,
   "metadata": {
    "ExecuteTime": {
     "end_time": "2017-12-27T11:27:33.221359Z",
     "start_time": "2017-12-27T11:27:33.200447Z"
    },
    "execution": {
     "iopub.status.busy": "2024-05-23T20:05:48.887534Z",
     "iopub.status.idle": "2024-05-23T20:05:48.887761Z",
     "shell.execute_reply": "2024-05-23T20:05:48.887656Z",
     "shell.execute_reply.started": "2024-05-23T20:05:48.887644Z"
    }
   },
   "outputs": [],
   "source": [
    "def binarize(Y, n):\n",
    "    rows = []\n",
    "    for y in Y:\n",
    "        row = np.zeros(n, 'd')\n",
    "        row[y] = 1\n",
    "        row = 2*row-1\n",
    "        rows.append(row)\n",
    "    return np.array(rows)\n",
    "\n",
    "Ys = binarize(Y, 10)\n",
    "print(Ys.shape, Xt.shape)\n",
    "#print([y for y in Ys])"
   ]
  },
  {
   "cell_type": "code",
   "execution_count": null,
   "metadata": {
    "ExecuteTime": {
     "end_time": "2017-12-27T11:27:33.249387Z",
     "start_time": "2017-12-27T11:27:33.225287Z"
    },
    "execution": {
     "iopub.status.busy": "2024-05-23T20:05:48.888484Z",
     "iopub.status.idle": "2024-05-23T20:05:48.888712Z",
     "shell.execute_reply": "2024-05-23T20:05:48.888608Z",
     "shell.execute_reply.started": "2024-05-23T20:05:48.888596Z"
    }
   },
   "outputs": [],
   "source": [
    "n_input = 64\n",
    "n_hidden = 15\n",
    "layer1 = sigma_neuron_layer(n_input, n_hidden)\n",
    "layer2 = linear_neuron_layer(n_hidden, 10)\n",
    "\n",
    "ffnn = model.FFNetworkModel()\n",
    "ffnn.add(layer1)\n",
    "ffnn.add(layer2)\n",
    "\n",
    "ffnn.allocate()"
   ]
  },
  {
   "cell_type": "code",
   "execution_count": null,
   "metadata": {
    "execution": {
     "iopub.status.busy": "2024-05-23T20:05:48.889498Z",
     "iopub.status.idle": "2024-05-23T20:05:48.889724Z",
     "shell.execute_reply": "2024-05-23T20:05:48.889622Z",
     "shell.execute_reply.started": "2024-05-23T20:05:48.889610Z"
    }
   },
   "outputs": [],
   "source": [
    "ffnn.param[:] = np.random.random(size=ffnn.n_param)"
   ]
  },
  {
   "cell_type": "code",
   "execution_count": null,
   "metadata": {
    "ExecuteTime": {
     "end_time": "2017-12-27T11:27:33.623224Z",
     "start_time": "2017-12-27T11:27:33.252206Z"
    },
    "execution": {
     "iopub.status.busy": "2024-05-23T20:05:48.890344Z",
     "iopub.status.idle": "2024-05-23T20:05:48.890563Z",
     "shell.execute_reply": "2024-05-23T20:05:48.890461Z",
     "shell.execute_reply.started": "2024-05-23T20:05:48.890449Z"
    },
    "scrolled": true
   },
   "outputs": [],
   "source": [
    "loss_func = loss.ErrorMultLoss(func.Square())\n",
    "batch = risk.make_batch(len(Xt), 200)\n",
    "er = erisk2(Xt, Ys, ffnn, loss_func, batch=batch)\n",
    "_fg = erm_fg(er, h=0.0001, tol=1.0e-6, n_iter=1000)"
   ]
  },
  {
   "cell_type": "code",
   "execution_count": null,
   "metadata": {
    "execution": {
     "iopub.status.busy": "2024-05-23T20:05:48.891376Z",
     "iopub.status.idle": "2024-05-23T20:05:48.891597Z",
     "shell.execute_reply": "2024-05-23T20:05:48.891496Z",
     "shell.execute_reply.started": "2024-05-23T20:05:48.891484Z"
    }
   },
   "outputs": [],
   "source": [
    "plt.plot(_fg.lvals)\n",
    "plt.show()"
   ]
  },
  {
   "cell_type": "code",
   "execution_count": null,
   "metadata": {
    "execution": {
     "iopub.status.busy": "2024-05-23T20:05:48.892372Z",
     "iopub.status.idle": "2024-05-23T20:05:48.892594Z",
     "shell.execute_reply": "2024-05-23T20:05:48.892492Z",
     "shell.execute_reply.started": "2024-05-23T20:05:48.892479Z"
    }
   },
   "outputs": [],
   "source": [
    "np.sum([np.argmax(ffnn(x)) == y for x,y in zip(Xt,Y)])/len(Y)"
   ]
  },
  {
   "cell_type": "code",
   "execution_count": null,
   "metadata": {
    "ExecuteTime": {
     "end_time": "2017-12-27T11:27:33.751101Z",
     "start_time": "2017-12-27T11:27:33.628510Z"
    },
    "execution": {
     "iopub.status.busy": "2024-05-23T20:05:48.894424Z",
     "iopub.status.idle": "2024-05-23T20:05:48.894684Z",
     "shell.execute_reply": "2024-05-23T20:05:48.894583Z",
     "shell.execute_reply.started": "2024-05-23T20:05:48.894571Z"
    }
   },
   "outputs": [],
   "source": [
    "#np.sum(np.equal([np.sum(np.sign(ffnn(x)*y)) for x,y in zip(Xt,Ys)], 10))/len(Y)"
   ]
  },
  {
   "cell_type": "code",
   "execution_count": null,
   "metadata": {
    "ExecuteTime": {
     "end_time": "2017-12-27T11:27:34.024643Z",
     "start_time": "2017-12-27T11:27:33.754755Z"
    },
    "execution": {
     "iopub.status.busy": "2024-05-23T20:05:48.895366Z",
     "iopub.status.idle": "2024-05-23T20:05:48.895654Z",
     "shell.execute_reply": "2024-05-23T20:05:48.895505Z",
     "shell.execute_reply.started": "2024-05-23T20:05:48.895487Z"
    }
   },
   "outputs": [],
   "source": [
    "#plt.plot(np.sort([np.sum(np.abs(ffnn(x)-y)) for x,y in zip(Xt,Ys)]))\n",
    "#plt.show()"
   ]
  },
  {
   "cell_type": "code",
   "execution_count": null,
   "metadata": {
    "execution": {
     "iopub.status.busy": "2024-05-23T20:05:48.896618Z",
     "iopub.status.idle": "2024-05-23T20:05:48.896993Z",
     "shell.execute_reply": "2024-05-23T20:05:48.896825Z",
     "shell.execute_reply.started": "2024-05-23T20:05:48.896808Z"
    }
   },
   "outputs": [],
   "source": [
    "ffnn.param[:] = np.random.random(size=ffnn.n_param)"
   ]
  },
  {
   "cell_type": "code",
   "execution_count": null,
   "metadata": {
    "execution": {
     "iopub.status.busy": "2024-05-23T20:05:48.897806Z",
     "iopub.status.idle": "2024-05-23T20:05:48.898033Z",
     "shell.execute_reply": "2024-05-23T20:05:48.897932Z",
     "shell.execute_reply.started": "2024-05-23T20:05:48.897920Z"
    }
   },
   "outputs": [],
   "source": [
    "loss_func = loss.ErrorMultLoss(func.Square())\n",
    "er2 = erisk2(Xt, Ys, ffnn, loss_func)\n",
    "fg2 = fg(er2, h=0.002, tol=1.0e-7, )\n",
    "avg2 = averager_it(func.QuantileFunc(0.95, func.Sqrt(0.001)))\n",
    "wg2 = weights.WMWeights(avg2, er2)\n",
    "alg = erm_irgd(fg2, wg2, n_iter=30)\n",
    "Yp2 = np.array([ffnn(x) for x in Xt])"
   ]
  },
  {
   "cell_type": "code",
   "execution_count": null,
   "metadata": {
    "execution": {
     "iopub.status.busy": "2024-05-23T20:05:48.898768Z",
     "iopub.status.idle": "2024-05-23T20:05:48.898996Z",
     "shell.execute_reply": "2024-05-23T20:05:48.898894Z",
     "shell.execute_reply.started": "2024-05-23T20:05:48.898882Z"
    }
   },
   "outputs": [],
   "source": [
    "plt.plot(alg.lvals)\n",
    "plt.show()"
   ]
  },
  {
   "cell_type": "code",
   "execution_count": null,
   "metadata": {
    "execution": {
     "iopub.status.busy": "2024-05-23T20:05:48.900041Z",
     "iopub.status.idle": "2024-05-23T20:05:48.900276Z",
     "shell.execute_reply": "2024-05-23T20:05:48.900171Z",
     "shell.execute_reply.started": "2024-05-23T20:05:48.900160Z"
    }
   },
   "outputs": [],
   "source": [
    "np.sum([np.argmax(ffnn(x)) == y for x,y in zip(Xt,Y)])/len(Y)"
   ]
  },
  {
   "cell_type": "code",
   "execution_count": null,
   "metadata": {},
   "outputs": [],
   "source": []
  }
 ],
 "metadata": {
  "hide_input": false,
  "kernelspec": {
   "display_name": "Python 3 (ipykernel)",
   "language": "python",
   "name": "python3"
  },
  "language_info": {
   "codemirror_mode": {
    "name": "ipython",
    "version": 3
   },
   "file_extension": ".py",
   "mimetype": "text/x-python",
   "name": "python",
   "nbconvert_exporter": "python",
   "pygments_lexer": "ipython3",
   "version": "3.11.2"
  }
 },
 "nbformat": 4,
 "nbformat_minor": 4
}
