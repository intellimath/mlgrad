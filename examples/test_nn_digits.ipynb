{
 "cells": [
  {
   "cell_type": "code",
   "execution_count": 1,
   "metadata": {
    "ExecuteTime": {
     "end_time": "2017-12-27T11:27:32.910717Z",
     "start_time": "2017-12-27T11:27:26.882237Z"
    }
   },
   "outputs": [],
   "source": [
    "import numpy as np\n",
    "\n",
    "import mlgrad.model as model\n",
    "import mlgrad.loss as loss\n",
    "import mlgrad.func as func\n",
    "import mlgrad.risk as risk\n",
    "\n",
    "from mlgrad import erm_fg, erm_irgd, fg, weights, averager_it, erisk2, sg, erm_sg\n",
    "\n",
    "from pprint import pprint\n",
    "\n",
    "from axon import loads, dumps\n",
    "from sklearn.datasets import load_digits\n",
    "from sklearn.preprocessing import MinMaxScaler\n",
    "\n",
    "import matplotlib.pyplot as plt"
   ]
  },
  {
   "cell_type": "code",
   "execution_count": 2,
   "metadata": {
    "ExecuteTime": {
     "end_time": "2017-12-27T11:27:33.172178Z",
     "start_time": "2017-12-27T11:27:32.912785Z"
    }
   },
   "outputs": [
    {
     "name": "stdout",
     "output_type": "stream",
     "text": [
      "(1797, 64)\n"
     ]
    }
   ],
   "source": [
    "digits = load_digits()\n",
    "X, Y = digits.data, digits.target\n",
    "print(X.shape)\n",
    "#scaler = MinMaxScaler()\n",
    "#Xt = scaler.fit_transform(X)\n",
    "Xt = X / 16."
   ]
  },
  {
   "cell_type": "code",
   "execution_count": 3,
   "metadata": {},
   "outputs": [],
   "source": [
    "def sigma_neuron_layer2(n_input, n_output):\n",
    "    layer = model.GeneralModelLayer(n_input)\n",
    "    outfunc = func.Arctang()\n",
    "    for i in range(n_output):\n",
    "        mod = model.SigmaNeuronModel(outfunc, n_input)\n",
    "        layer.models.append(mod)\n",
    "    layer.n_input = n_input\n",
    "    layer.n_output = n_output\n",
    "    layer.n_param = sum(mod.n_param for mod in layer.models)\n",
    "    return layer\n",
    "\n",
    "def linear_neuron_layer2(n_input, n_output):\n",
    "    layer = model.GeneralModelLayer(n_input)\n",
    "    for i in range(n_output):\n",
    "        mod = model.LinearModel(n_input)\n",
    "        layer.models.append(mod)\n",
    "    layer.n_input = n_input\n",
    "    layer.n_output = n_output\n",
    "    layer.n_param = sum(mod.n_param for mod in layer.models)\n",
    "    return layer"
   ]
  },
  {
   "cell_type": "code",
   "execution_count": 4,
   "metadata": {
    "ExecuteTime": {
     "end_time": "2017-12-27T11:27:33.197476Z",
     "start_time": "2017-12-27T11:27:33.174721Z"
    }
   },
   "outputs": [],
   "source": [
    "def sigma_neuron_layer(n_input, n):\n",
    "    layer = model.SigmaNeuronModelLayer(func.Arctang(), n_input, n)\n",
    "    return layer\n",
    "\n",
    "def linear_neuron_layer(n_input, n):\n",
    "    layer = model.SigmaNeuronModelLayer(func.Id(), n_input, n)\n",
    "    return layer\n"
   ]
  },
  {
   "cell_type": "code",
   "execution_count": 5,
   "metadata": {
    "ExecuteTime": {
     "end_time": "2017-12-27T11:27:33.221359Z",
     "start_time": "2017-12-27T11:27:33.200447Z"
    }
   },
   "outputs": [
    {
     "name": "stdout",
     "output_type": "stream",
     "text": [
      "(1797, 10) (1797, 64)\n"
     ]
    }
   ],
   "source": [
    "def binarize(Y, n):\n",
    "    rows = []\n",
    "    for y in Y:\n",
    "        row = np.zeros(n, 'd')\n",
    "        row[y] = 1\n",
    "        row = 2*row-1\n",
    "        rows.append(row)\n",
    "    return np.array(rows)\n",
    "\n",
    "Ys = binarize(Y, 10)\n",
    "print(Ys.shape, Xt.shape)\n",
    "#print([y for y in Ys])"
   ]
  },
  {
   "cell_type": "code",
   "execution_count": 6,
   "metadata": {
    "ExecuteTime": {
     "end_time": "2017-12-27T11:27:33.249387Z",
     "start_time": "2017-12-27T11:27:33.225287Z"
    }
   },
   "outputs": [],
   "source": [
    "n_input = 64\n",
    "n_hidden = 15\n",
    "layer1 = sigma_neuron_layer(n_input, n_hidden)\n",
    "layer2 = linear_neuron_layer(n_hidden, 10)\n",
    "\n",
    "ffnn = model.FFNetworkModel()\n",
    "ffnn.add(layer1)\n",
    "ffnn.add(layer2)\n",
    "\n",
    "ffnn.allocate()"
   ]
  },
  {
   "cell_type": "code",
   "execution_count": 1,
   "metadata": {},
   "outputs": [
    {
     "ename": "NameError",
     "evalue": "name 'np' is not defined",
     "output_type": "error",
     "traceback": [
      "\u001b[0;31m---------------------------------------------------------------------------\u001b[0m",
      "\u001b[0;31mNameError\u001b[0m                                 Traceback (most recent call last)",
      "\u001b[0;32m<ipython-input-1-b9945306f8dc>\u001b[0m in \u001b[0;36m<module>\u001b[0;34m\u001b[0m\n\u001b[0;32m----> 1\u001b[0;31m \u001b[0mffnn\u001b[0m\u001b[0;34m.\u001b[0m\u001b[0mparam\u001b[0m\u001b[0;34m[\u001b[0m\u001b[0;34m:\u001b[0m\u001b[0;34m]\u001b[0m \u001b[0;34m=\u001b[0m \u001b[0mnp\u001b[0m\u001b[0;34m.\u001b[0m\u001b[0mrandom\u001b[0m\u001b[0;34m.\u001b[0m\u001b[0mrandom\u001b[0m\u001b[0;34m(\u001b[0m\u001b[0msize\u001b[0m\u001b[0;34m=\u001b[0m\u001b[0mffnn\u001b[0m\u001b[0;34m.\u001b[0m\u001b[0mn_param\u001b[0m\u001b[0;34m)\u001b[0m\u001b[0;34m\u001b[0m\u001b[0;34m\u001b[0m\u001b[0m\n\u001b[0m",
      "\u001b[0;31mNameError\u001b[0m: name 'np' is not defined"
     ]
    }
   ],
   "source": [
    "ffnn.param[:] = np.random.random(size=ffnn.n_param)"
   ]
  },
  {
   "cell_type": "code",
   "execution_count": 48,
   "metadata": {
    "ExecuteTime": {
     "end_time": "2017-12-27T11:27:33.623224Z",
     "start_time": "2017-12-27T11:27:33.252206Z"
    },
    "scrolled": true
   },
   "outputs": [],
   "source": [
    "loss_func = loss.ErrorMultLoss(func.Square())\n",
    "batch = risk.make_batch(len(Xt), 200)\n",
    "er = erisk2(Xt, Ys, ffnn, loss_func, batch=batch)\n",
    "_fg = erm_fg(er, h=0.0001, tol=1.0e-6, n_iter=1000)"
   ]
  },
  {
   "cell_type": "code",
   "execution_count": 49,
   "metadata": {},
   "outputs": [
    {
     "data": {
      "image/png": "[encoded data removed]",
      "text/plain": [
       "<Figure size 432x288 with 1 Axes>"
      ]
     },
     "metadata": {
      "needs_background": "light"
     },
     "output_type": "display_data"
    }
   ],
   "source": [
    "plt.plot(_fg.lvals)\n",
    "plt.show()"
   ]
  },
  {
   "cell_type": "code",
   "execution_count": 50,
   "metadata": {},
   "outputs": [
    {
     "data": {
      "text/plain": [
       "0.9905397885364496"
      ]
     },
     "execution_count": 50,
     "metadata": {},
     "output_type": "execute_result"
    }
   ],
   "source": [
    "np.sum([np.argmax(ffnn(x)) == y for x,y in zip(Xt,Y)])/len(Y)"
   ]
  },
  {
   "cell_type": "code",
   "execution_count": null,
   "metadata": {
    "ExecuteTime": {
     "end_time": "2017-12-27T11:27:33.751101Z",
     "start_time": "2017-12-27T11:27:33.628510Z"
    }
   },
   "outputs": [],
   "source": [
    "#np.sum(np.equal([np.sum(np.sign(ffnn(x)*y)) for x,y in zip(Xt,Ys)], 10))/len(Y)"
   ]
  },
  {
   "cell_type": "code",
   "execution_count": null,
   "metadata": {
    "ExecuteTime": {
     "end_time": "2017-12-27T11:27:34.024643Z",
     "start_time": "2017-12-27T11:27:33.754755Z"
    }
   },
   "outputs": [],
   "source": [
    "#plt.plot(np.sort([np.sum(np.abs(ffnn(x)-y)) for x,y in zip(Xt,Ys)]))\n",
    "#plt.show()"
   ]
  },
  {
   "cell_type": "code",
   "execution_count": null,
   "metadata": {},
   "outputs": [],
   "source": [
    "ffnn.param[:] = np.random.random(size=ffnn.n_param)"
   ]
  },
  {
   "cell_type": "code",
   "execution_count": null,
   "metadata": {},
   "outputs": [],
   "source": [
    "loss_func = loss.ErrorMultLoss(func.Square())\n",
    "er2 = erisk2(Xt, Ys, ffnn, loss_func)\n",
    "fg2 = fg(er2, h=0.002, tol=1.0e-7, )\n",
    "avg2 = averager_it(func.QuantileFunc(0.95, func.Sqrt(0.001)))\n",
    "wg2 = weights.WMWeights(avg2, er2)\n",
    "alg = erm_irgd(fg2, wg2, n_iter=30)\n",
    "Yp2 = np.array([ffnn(x) for x in Xt])"
   ]
  },
  {
   "cell_type": "code",
   "execution_count": null,
   "metadata": {},
   "outputs": [],
   "source": [
    "plt.plot(alg.lvals)\n",
    "plt.show()"
   ]
  },
  {
   "cell_type": "code",
   "execution_count": null,
   "metadata": {},
   "outputs": [],
   "source": [
    "np.sum([np.argmax(ffnn(x)) == y for x,y in zip(Xt,Y)])/len(Y)"
   ]
  },
  {
   "cell_type": "code",
   "execution_count": null,
   "metadata": {},
   "outputs": [],
   "source": []
  }
 ],
 "metadata": {
  "hide_input": false,
  "kernelspec": {
   "display_name": "Python 3",
   "language": "python",
   "name": "python3"
  },
  "language_info": {
   "codemirror_mode": {
    "name": "ipython",
    "version": 3
   },
   "file_extension": ".py",
   "mimetype": "text/x-python",
   "name": "python",
   "nbconvert_exporter": "python",
   "pygments_lexer": "ipython3",
   "version": "3.7.2"
  }
 },
 "nbformat": 4,
 "nbformat_minor": 2
}
