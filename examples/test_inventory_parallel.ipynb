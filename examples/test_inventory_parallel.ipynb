{
 "cells": [
  {
   "cell_type": "code",
   "execution_count": 1,
   "id": "450a3e10-f3fc-4169-adae-34aff3ca0bbe",
   "metadata": {
    "tags": []
   },
   "outputs": [],
   "source": [
    "%load_ext cython"
   ]
  },
  {
   "cell_type": "code",
   "execution_count": 2,
   "id": "196cc27f-af3c-4b80-8528-be3663d9a657",
   "metadata": {
    "tags": []
   },
   "outputs": [
    {
     "name": "stdout",
     "output_type": "stream",
     "text": [
      "Content of stderr:\n",
      "In file included from /home/intellimath/.local/lib/python3.11/site-packages/numpy/core/include/numpy/ndarraytypes.h:1948,\n",
      "                 from /home/intellimath/.local/lib/python3.11/site-packages/numpy/core/include/numpy/ndarrayobject.h:12,\n",
      "                 from /home/intellimath/.local/lib/python3.11/site-packages/numpy/core/include/numpy/arrayobject.h:5,\n",
      "                 from /home/intellimath/.cache/ipython/cython/_cython_magic_376da53109574eeac8bab26cab5700a2c2b83a55.c:1184:\n",
      "/home/intellimath/.local/lib/python3.11/site-packages/numpy/core/include/numpy/npy_1_7_deprecated_api.h:17:2: warning: #warning \"Using deprecated NumPy API, disable it with \" \"#define NPY_NO_DEPRECATED_API NPY_1_7_API_VERSION\" [-Wcpp]\n",
      "   17 | #warning \"Using deprecated NumPy API, disable it with \" \\\n",
      "      |  ^~~~~~~"
     ]
    }
   ],
   "source": [
    "%%cython --compile-args=-fopenmp --link-args=-fopenmp\n",
    "#cython: language_level=3, boundscheck=False, wraparound=False, initializedcheck=False, cdivision=True\n",
    "cimport cython\n",
    "cimport libc.math as cmath\n",
    "\n",
    "from cython.parallel import parallel, prange\n",
    "from mlgrad.inventory cimport _dot\n",
    "\n",
    "import numpy as np\n",
    "cimport numpy as np\n",
    "\n",
    "cpdef copy(double[::1] to, double[::1] src):\n",
    "    cdef Py_ssize_t i\n",
    "    for i in range(to.shape[0]):\n",
    "        to[i] = src[i] + cmath.sin(i)\n",
    "    \n",
    "cpdef copy_openmp(double[::1] to, double[::1] src):\n",
    "    cdef Py_ssize_t i\n",
    "    for i in prange(to.shape[0], nogil=True, schedule='static', num_threads=4):\n",
    "        to[i] = src[i] + cmath.sin(i)\n",
    "\n",
    "cdef void _matrix_dot(const double *A, const double *x, const Py_ssize_t m, const Py_ssize_t n, double *y):\n",
    "    cdef Py_ssize_t j\n",
    "\n",
    "    for j in prange(m, nogil=True, schedule='static', num_threads=4):\n",
    "        y[j] = _dot(A+j*n, x, n)\n",
    "    \n",
    "cpdef matrix_dot(double[:,::1] A, double[::1] x, double[::1] y):\n",
    "    _matrix_dot(&A[0,0], &x[0], A.shape[0], A.shape[1], &y[0])\n"
   ]
  },
  {
   "cell_type": "code",
   "execution_count": 3,
   "id": "203b55e0-dca2-4c61-a95c-a7a960feb4cc",
   "metadata": {
    "tags": []
   },
   "outputs": [
    {
     "name": "stdout",
     "output_type": "stream",
     "text": [
      "13.1 µs ± 324 ns per loop (mean ± std. dev. of 7 runs, 100,000 loops each)\n",
      "6.13 µs ± 15 ns per loop (mean ± std. dev. of 7 runs, 100,000 loops each)\n"
     ]
    }
   ],
   "source": [
    "A = np.full(1000, 1, 'd')\n",
    "B = np.full(1000, -1, 'd')\n",
    "%timeit copy(A, B)\n",
    "%timeit copy_openmp(A, B)"
   ]
  },
  {
   "cell_type": "code",
   "execution_count": 4,
   "id": "037442cb-eda6-43f6-8393-57edc1168535",
   "metadata": {},
   "outputs": [
    {
     "name": "stdout",
     "output_type": "stream",
     "text": [
      "9.93 µs ± 1.14 µs per loop (mean ± std. dev. of 7 runs, 100,000 loops each)\n",
      "5.26 µs ± 363 ns per loop (mean ± std. dev. of 7 runs, 100,000 loops each)\n"
     ]
    }
   ],
   "source": [
    "A = np.random.random((1000,10))\n",
    "x = np.random.random(10)\n",
    "y = np.zeros(10, 'd')\n",
    "\n",
    "%timeit A @ x\n",
    "%timeit matrix_dot(A,x,y)\n"
   ]
  },
  {
   "cell_type": "code",
   "execution_count": null,
   "id": "0502ce78-62b7-4779-aae4-4f86d86909f5",
   "metadata": {},
   "outputs": [],
   "source": []
  }
 ],
 "metadata": {
  "kernelspec": {
   "display_name": "Python 3 (ipykernel)",
   "language": "python",
   "name": "python3"
  },
  "language_info": {
   "codemirror_mode": {
    "name": "ipython",
    "version": 3
   },
   "file_extension": ".py",
   "mimetype": "text/x-python",
   "name": "python",
   "nbconvert_exporter": "python",
   "pygments_lexer": "ipython3",
   "version": "3.11.2"
  }
 },
 "nbformat": 4,
 "nbformat_minor": 5
}
