{
 "cells": [
  {
   "cell_type": "code",
   "execution_count": 1,
   "metadata": {},
   "outputs": [
    {
     "name": "stdout",
     "output_type": "stream",
     "text": [
      "3.11.2 (main, Mar 13 2023, 12:18:29) [GCC 12.2.0]\n"
     ]
    },
    {
     "name": "stderr",
     "output_type": "stream",
     "text": [
      "/tmp/ipykernel_104037/3675965635.py:8: MatplotlibDeprecationWarning: The seaborn styles shipped by Matplotlib are deprecated since 3.6, as they no longer correspond to the styles shipped by seaborn. However, they will remain available as 'seaborn-v0_8-<style>'. Alternatively, directly use the seaborn API instead.\n",
      "  plt.style.use(['seaborn-paper', 'seaborn-white', 'seaborn-ticks'])\n",
      "/tmp/ipykernel_104037/3675965635.py:8: MatplotlibDeprecationWarning: The seaborn styles shipped by Matplotlib are deprecated since 3.6, as they no longer correspond to the styles shipped by seaborn. However, they will remain available as 'seaborn-v0_8-<style>'. Alternatively, directly use the seaborn API instead.\n",
      "  plt.style.use(['seaborn-paper', 'seaborn-white', 'seaborn-ticks'])\n",
      "/tmp/ipykernel_104037/3675965635.py:8: MatplotlibDeprecationWarning: The seaborn styles shipped by Matplotlib are deprecated since 3.6, as they no longer correspond to the styles shipped by seaborn. However, they will remain available as 'seaborn-v0_8-<style>'. Alternatively, directly use the seaborn API instead.\n",
      "  plt.style.use(['seaborn-paper', 'seaborn-white', 'seaborn-ticks'])\n"
     ]
    }
   ],
   "source": [
    "import sys\n",
    "print(sys.version)\n",
    "\n",
    "import matplotlib.pyplot as plt\n",
    "#%matplotlib inline\n",
    "#%config BackendInline.figure_format='svg'\n",
    "\n",
    "plt.style.use(['seaborn-paper', 'seaborn-white', 'seaborn-ticks'])\n",
    "plt.matplotlib.rcParams['figure.dpi'] = 120\n",
    "plt.matplotlib.rcParams['savefig.dpi'] = 120\n",
    "\n",
    "import numpy as np\n",
    "import pandas as pd\n",
    "\n",
    "import mlgrad.model as model\n",
    "import mlgrad.func as func\n",
    "import mlgrad.func2 as regular\n",
    "import mlgrad.loss as loss\n",
    "import mlgrad.weights as weights\n",
    "import mlgrad.averager as averager\n",
    "\n",
    "from mlgrad import averager_it, averager_fg, fg, erm_fg, irgd, erm_irgd, erisk"
   ]
  },
  {
   "cell_type": "code",
   "execution_count": 2,
   "metadata": {},
   "outputs": [],
   "source": [
    "#plt.style.available"
   ]
  },
  {
   "cell_type": "markdown",
   "metadata": {},
   "source": [
    "## Искусственный пример"
   ]
  },
  {
   "cell_type": "code",
   "execution_count": 3,
   "metadata": {},
   "outputs": [],
   "source": [
    "def gendataset(N=70, a=3., b=9., q=0.4, dy=2.):\n",
    "    M = int(q*N)\n",
    "    X0 = np.linspace(-8., 8., N+1)\n",
    "    Y0 = 2.+3.*X0\n",
    "    Y0 += 2*dy*np.random.random(N+1)-dy\n",
    "    if q > 0:\n",
    "        X1 = a*np.random.random(M) - a - 8\n",
    "        Y1 = b*(2*np.random.random(M)-1)\n",
    "        Y1 += 2.+3.*X1 + 50\n",
    "        X2 = a*np.random.random(M) - a + 9\n",
    "        Y2 = b*(2*np.random.random(M)-1)\n",
    "        Y2 += 2.+3.*X2 - 50\n",
    "        X = np.hstack((X0, X1, X2))\n",
    "        Y = np.hstack((Y0, Y1, Y2))\n",
    "    else:\n",
    "        X = X0\n",
    "        Y = Y0\n",
    "    Xs = X.reshape(-1,1)\n",
    "    xrange = np.array(np.linspace(-8., 8., 10)).reshape(-1,1)\n",
    "    return X, Y, Xs, xrange"
   ]
  },
  {
   "cell_type": "code",
   "execution_count": 4,
   "metadata": {},
   "outputs": [],
   "source": [
    "loss_func_sq = loss.ErrorLoss(func.Square())\n",
    "loss_func_abs = loss.ErrorLoss(func.Absolute())\n",
    "loss_func_hub = loss.ErrorLoss(func.Huber())\n",
    "loss_func_tuk = loss.ErrorLoss(func.Tukey())\n",
    "loss_func_lgs = loss.ErrorLoss(func.Logistic(1.0))\n",
    "loss_func_quant = loss.ErrorLoss(func.Quantile(0.5))"
   ]
  },
  {
   "cell_type": "code",
   "execution_count": 5,
   "metadata": {},
   "outputs": [],
   "source": [
    "def plot_log(d):\n",
    "    plt.figure(figsize=(15,4))\n",
    "    m = len(d)\n",
    "    i = 1\n",
    "    for key, vals in sorted(d.items()):\n",
    "        plt.subplot(1, m, i)\n",
    "        k_range, u_seq = zip(*enumerate(d[key]))\n",
    "        plt.plot(k_range, u_seq, marker='s', markersize=3)\n",
    "        plt.grid(1)\n",
    "        plt.title(key)\n",
    "        plt.minorticks_on()\n",
    "        i += 1\n",
    "        plt.tight_layout()\n",
    "    plt.show()"
   ]
  },
  {
   "cell_type": "code",
   "execution_count": 6,
   "metadata": {},
   "outputs": [],
   "source": [
    "def linear_regression_gd(Xs, Y, loss_func, h=0.01, tol=1.0e-6, n_iter=5000, callback=None):\n",
    "    m = Xs.shape[1] + 1\n",
    "    param_init = np.array(np.random.random(m))\n",
    "    lm_line = model.LinearModel(param_init)\n",
    "    er = erisk(Xs, Y, lm_line, loss_func)\n",
    "    alg = erm_fg(er, h=h, tol=tol, n_iter=n_iter, verbose=1, callback=callback)\n",
    "    return alg"
   ]
  },
  {
   "cell_type": "code",
   "execution_count": 7,
   "metadata": {},
   "outputs": [],
   "source": [
    "def linear_regression_pb(X, Y, line_model, loss_func, penalty_func, callback=None, h=0.01, n_iter=100):\n",
    "    avrfunc = averager_it(penalty_func, tol=1.0e-6, n_iter=5000)\n",
    "    #avrfunc = averager_fg(penalty_func, h=0.01, tol=1.0e-5, n_iter=5000)\n",
    "    #alg_reg = regular.Square()\n",
    "    er = erisk(X, Y, line_model, loss_func)\n",
    "    alg_fg = fg(er, h=h, tol=1.0e-6, n_iter=5000, stop_condition='diffL2')\n",
    "    alg_weights = weights.MWeights(avrfunc, er)\n",
    "    #irgd_averager = averager.ArrayCyclicAverager(20)\n",
    "    irgd_averager = None\n",
    "    alg_irgd = erm_irgd(alg_fg, alg_weights, tol=1.0e-4, callback=callback, param_averager=irgd_averager, n_iter=n_iter)\n",
    "    return alg_irgd"
   ]
  },
  {
   "cell_type": "code",
   "execution_count": 8,
   "metadata": {},
   "outputs": [],
   "source": [
    "def linear_m_regression(X, Y, line_model, loss_func, rho_func, callback=None):\n",
    "    alg_reg = None # regular.Square()\n",
    "    er = erisk(X, Y, line_model, loss_func)    \n",
    "    alg_fg = fg(regular=alg_reg, h=0.01, tol=1.0e-6, n_iter=5000, tau=0.001)\n",
    "    alg_weights = weights.RWeights(rho_func, er)\n",
    "    #irgd_averager = averager.ArrayCyclicAverager(20)\n",
    "    alg_irgd = erm_irgd(alg_fg, alg_weights, tol=1.0e-5, callback=callback, param_averager=None) #irgd_averager)\n",
    "    return alg_irgd"
   ]
  },
  {
   "cell_type": "code",
   "execution_count": 9,
   "metadata": {},
   "outputs": [],
   "source": [
    "q = 0.0\n",
    "dy = 5\n",
    "X0, Y0, X0s, xrange  = gendataset(q=q, dy=dy)"
   ]
  },
  {
   "cell_type": "code",
   "execution_count": 10,
   "metadata": {},
   "outputs": [
    {
     "name": "stdout",
     "output_type": "stream",
     "text": [
      "K=76 param=[2.03672464 3.09227851]\n"
     ]
    },
    {
     "data": {
      "image/png": "[encoded data removed]",
      "text/plain": [
       "<Figure size 300x300 with 1 Axes>"
      ]
     },
     "metadata": {},
     "output_type": "display_data"
    }
   ],
   "source": [
    "d0 = {\"param\":[], \"lval\":[]}\n",
    "def callback0(alg, d=d0):\n",
    "    d[\"lval\"].append(alg.risk.lval)\n",
    "    d[\"param\"].append(alg.risk.param.base.copy())\n",
    "\n",
    "alg_sq = linear_regression_gd(X0s, Y0, loss_func_sq, h=0.1, tol=1.0e-6, callback=callback0)\n",
    "#w = alg_sq.model.param.base\n",
    "#plot_log(d0)\n",
    "\n",
    "plt.figure(figsize=(2.5, 2.5))\n",
    "plt.scatter(X0, Y0, s=9, marker='o', c='w', edgecolors='k', linewidths=0.75) #, label='data')\n",
    "plt.plot(xrange, alg_sq.risk.model.evaluate_all(xrange), color='k', linewidth=1., label=r'$r^2$', linestyle='-')\n",
    "plt.grid(1)\n",
    "plt.minorticks_on()\n",
    "plt.legend()\n",
    "plt.tight_layout()\n",
    "plt.savefig('fig/ni2017_linreg_1.eps')\n",
    "plt.show()"
   ]
  },
  {
   "cell_type": "code",
   "execution_count": 11,
   "metadata": {},
   "outputs": [],
   "source": [
    "q = 0.10\n",
    "dy = 5\n",
    "X1, Y1, X1s, xrange  = gendataset(q=q, dy=dy)"
   ]
  },
  {
   "cell_type": "code",
   "execution_count": 12,
   "metadata": {},
   "outputs": [
    {
     "name": "stdout",
     "output_type": "stream",
     "text": [
      "K=162 param=[1.84435482 0.82591206]\n",
      "K=608 param=[2.37910615 2.75551447]\n",
      "K=332 param=[2.3665684  2.70513766]\n"
     ]
    },
    {
     "data": {
      "image/png": "[encoded data removed]",
      "text/plain": [
       "<Figure size 300x300 with 1 Axes>"
      ]
     },
     "metadata": {},
     "output_type": "display_data"
    }
   ],
   "source": [
    "alg_sq = linear_regression_gd(X1s, Y1, loss_func_sq)\n",
    "alg_abs = linear_regression_gd(X1s, Y1, loss_func_abs)\n",
    "alg_hub = linear_regression_gd(X1s, Y1, loss_func_hub)\n",
    "\n",
    "plt.figure(figsize=(2.5, 2.5))\n",
    "plt.scatter(X1, Y1, s=9, marker='o', c='w', edgecolors='k', linewidths=0.75) #, label='data')\n",
    "plt.plot(xrange, alg_sq.risk.model.evaluate_all(xrange), color='k', linewidth=1., label=r'$r^2$', linestyle='--')\n",
    "#plt.plot(xrange, alg_abs.model.evaluate_all(xrange), color='k', linewidth=1., label=r'$|r|$', linestyle='-.')\n",
    "plt.grid(1)\n",
    "plt.minorticks_on()\n",
    "plt.legend()\n",
    "plt.tight_layout()\n",
    "plt.savefig('fig/ni2017_linreg_2.png')\n",
    "plt.show()"
   ]
  },
  {
   "cell_type": "code",
   "execution_count": 13,
   "metadata": {},
   "outputs": [],
   "source": [
    "def huber_func(r, c=1):\n",
    "    xs = []\n",
    "    for x in r:\n",
    "        x_abs = abs(x)\n",
    "        if x_abs <= c:\n",
    "            v = (x_abs/c)**2\n",
    "        else:\n",
    "            v = 2.*(x_abs/c)-1.\n",
    "        xs.append(v)\n",
    "    return xs\n",
    "\n",
    "def tukey_func(r, c=1):\n",
    "    xs = []\n",
    "    for x in r:\n",
    "        x_abs = abs(x)\n",
    "        if x_abs <= c:\n",
    "            v = 1.-(1.-(x_abs/c)**2)**3\n",
    "        else:\n",
    "            v = 1.\n",
    "        xs.append(v)\n",
    "    return xs\n",
    "\n",
    "def abs_trunc(r, c=1):\n",
    "    xs = []\n",
    "    for x in r:\n",
    "        v = abs(x) - c\n",
    "        if v < 0:\n",
    "            v = 0.\n",
    "        xs.append(v)\n",
    "    return xs"
   ]
  },
  {
   "cell_type": "code",
   "execution_count": 14,
   "metadata": {},
   "outputs": [
    {
     "data": {
      "image/png": "[encoded data removed]",
      "text/plain": [
       "<Figure size 300x300 with 1 Axes>"
      ]
     },
     "metadata": {},
     "output_type": "display_data"
    }
   ],
   "source": [
    "plt.figure(figsize=(2.5, 2.5))\n",
    "range_x = np.linspace(0, 1.7, 50)\n",
    "range_x2 = np.linspace(0, 1.95, 50)\n",
    "plt.plot(range_x, np.power(range_x, 2), color='k', linestyle='-', label=r'$r^2$')\n",
    "plt.plot(range_x2, abs_trunc(range_x2), color='k', linestyle=':', label=r'$\\max(0,r-c)$')\n",
    "plt.plot(range_x2, huber_func(range_x2), color='k', linestyle='--', label=r'Хьюбер')\n",
    "plt.plot(range_x2, tukey_func(range_x2), color='k', linestyle='-.', label=r'Тьюки')\n",
    "plt.scatter([1], [1], c='k', s=16)\n",
    "plt.xticks([0, 1], [0, 'c'])\n",
    "plt.yticks([0, 1], [0, 'c'])\n",
    "plt.hlines(0, 0, 2.0, linewidth=0.5)\n",
    "plt.vlines(0, 0, 3.0, linewidth=0.5)\n",
    "plt.legend(loc='best')\n",
    "plt.tight_layout()\n",
    "plt.savefig('fig/ni2017_regr_3.png')\n",
    "plt.show()"
   ]
  },
  {
   "cell_type": "code",
   "execution_count": 15,
   "metadata": {},
   "outputs": [
    {
     "data": {
      "image/png": "[encoded data removed]",
      "text/plain": [
       "<Figure size 300x300 with 1 Axes>"
      ]
     },
     "metadata": {},
     "output_type": "display_data"
    }
   ],
   "source": [
    "plt.figure(figsize=(2.5, 2.5))\n",
    "range_x1 = np.linspace(-3., 0., 100)\n",
    "range_x2 = np.linspace(0., 2., 100)\n",
    "plt.plot(range_x1, 0.25*range_x1**2, color='k', linestyle='-')\n",
    "plt.plot(range_x2, range_x2**2, color='k', linestyle='-')\n",
    "plt.xticks([0, -1.5, 0.75], ['z','$u_1$','$u_2$'])\n",
    "plt.vlines(0.75, 0., 0.75*0.75, linewidth=0.75, linestyle='--')\n",
    "plt.vlines(-1.5, 0., 0.25*1.5*1.5, linewidth=0.75, linestyle='--')\n",
    "plt.hlines(0, -3, 2, linewidth=0.75)\n",
    "plt.hlines(0.75*0.75, -1.5, 0.75, linewidth=0.75, linestyle='--')\n",
    "plt.hlines(0, -1.5, 0.75, linewidth=2.0)\n",
    "plt.vlines(0, 0, 4, linewidth=0.75)\n",
    "plt.yticks([], [])\n",
    "plt.text(0.1, 3.8, r'$\\rho(u)$', {'size':9})\n",
    "plt.tight_layout()\n",
    "plt.savefig('fig/ni2017_rho.png')\n",
    "plt.show()"
   ]
  },
  {
   "cell_type": "code",
   "execution_count": 16,
   "metadata": {},
   "outputs": [
    {
     "data": {
      "image/png": "[encoded data removed]",
      "text/plain": [
       "<Figure size 300x300 with 1 Axes>"
      ]
     },
     "metadata": {},
     "output_type": "display_data"
    }
   ],
   "source": [
    "plt.figure(figsize=(2.5, 2.5))\n",
    "range_x = np.linspace(-1., 1., 100)\n",
    "range_x2 = np.linspace(-2., 2., 100)\n",
    "plt.plot(range_x, np.abs(range_x), color='k', linestyle='-', label=r'медиана')\n",
    "plt.plot(range_x, 0.25*np.abs(range_x)*(range_x<=0) + 0.75*np.abs(range_x)*(range_x>0), color='k', linestyle='--', label=r'$0.75$-квантиль')\n",
    "#plt.plot(range_x, 0.75*np.abs(range_x)*(range_x<=0) + 0.25*np.abs(range_x)*(range_x>0), color='k', linestyle='-.', label=r'$0.25$-квантиль')\n",
    "plt.legend(loc='best')\n",
    "plt.xticks([], [])\n",
    "plt.yticks([], [])\n",
    "plt.tight_layout()\n",
    "plt.savefig('fig/ni2017_Mrho_robust.png')\n",
    "plt.show()"
   ]
  },
  {
   "cell_type": "code",
   "execution_count": 17,
   "metadata": {},
   "outputs": [
    {
     "data": {
      "image/png": "[encoded data removed]",
      "text/plain": [
       "<Figure size 300x300 with 1 Axes>"
      ]
     },
     "metadata": {},
     "output_type": "display_data"
    }
   ],
   "source": [
    "a=1.0\n",
    "plt.figure(figsize=(2.5, 2.5))\n",
    "range_x = np.linspace(-4., 4., 100)\n",
    "range_x2 = np.linspace(-2., 2., 100)\n",
    "plt.plot(range_x, np.abs(range_x), color='k', linestyle='-', label=r'|r|')\n",
    "plt.plot(range_x, np.abs(range_x)-a*np.log(a+np.abs(range_x))+a*np.log(a), color='k', linestyle='--', label=r'$|r|-\\varepsilon\\ln(\\varepsilon+|r|)+\\varepsilon\\ln\\varepsilon$')\n",
    "plt.plot(range_x, np.sqrt(a**2+range_x**2)-a, color='k', linestyle='-.', label=r'$\\sqrt{\\varepsilon^2+r^2}-\\varepsilon$')\n",
    "plt.legend(loc='best')\n",
    "plt.xticks([], [])\n",
    "plt.yticks([], [])\n",
    "plt.tight_layout()\n",
    "plt.savefig('fig/ni2017_Mrho_robust2.png')\n",
    "plt.show()"
   ]
  },
  {
   "cell_type": "code",
   "execution_count": 18,
   "metadata": {},
   "outputs": [
    {
     "data": {
      "image/png": "[encoded data removed]",
      "text/plain": [
       "<Figure size 300x300 with 1 Axes>"
      ]
     },
     "metadata": {},
     "output_type": "display_data"
    }
   ],
   "source": [
    "plt.figure(figsize=(2.5, 2.5))\n",
    "plt.scatter(X1, Y1, s=9, marker='o', c='w', edgecolors='k', linewidths=0.75) #, label='data')\n",
    "plt.plot(xrange, alg_sq.risk.model.evaluate_all(xrange), color='k', linewidth=1., label=r'$r^2$', linestyle='--')\n",
    "plt.plot(xrange, alg_hub.risk.model.evaluate_all(xrange), color='k', linewidth=1., label=r'$Huber$', linestyle='-')\n",
    "plt.grid(1)\n",
    "plt.minorticks_on()\n",
    "plt.legend()\n",
    "plt.tight_layout()\n",
    "plt.savefig('fig/ni2017_linreg_4.pdf')\n",
    "plt.show()"
   ]
  },
  {
   "cell_type": "code",
   "execution_count": 19,
   "metadata": {},
   "outputs": [],
   "source": [
    "q = 0.3\n",
    "dy = 4\n",
    "X2, Y2, X2s, xrange  = gendataset(q=q, dy=dy)\n",
    "alpha = 0.01"
   ]
  },
  {
   "cell_type": "code",
   "execution_count": 20,
   "metadata": {},
   "outputs": [
    {
     "ename": "NameError",
     "evalue": "name 'Average_Iterative' is not defined",
     "output_type": "error",
     "traceback": [
      "\u001b[0;31m---------------------------------------------------------------------------\u001b[0m",
      "\u001b[0;31mNameError\u001b[0m                                 Traceback (most recent call last)",
      "Cell \u001b[0;32mIn [20], line 21\u001b[0m\n\u001b[1;32m     17\u001b[0m lm_line4 \u001b[38;5;241m=\u001b[39m model\u001b[38;5;241m.\u001b[39mLinearModel(param_init4)\n\u001b[1;32m     19\u001b[0m \u001b[38;5;66;03m#alg_irgd2 = linear_regression_pb(X2s, Y2, lm_line4, loss_func_sq, penalty_func_sq2, callback=callback2, h=0.002, n_iter=100)\u001b[39;00m\n\u001b[0;32m---> 21\u001b[0m irgd2_avrfunc \u001b[38;5;241m=\u001b[39m \u001b[43maverager_it\u001b[49m\u001b[43m(\u001b[49m\u001b[43mpenalty_func_sq2\u001b[49m\u001b[43m,\u001b[49m\u001b[43m \u001b[49m\u001b[43mn_iter\u001b[49m\u001b[38;5;241;43m=\u001b[39;49m\u001b[38;5;241;43m5000\u001b[39;49m\u001b[43m)\u001b[49m\n\u001b[1;32m     22\u001b[0m er2 \u001b[38;5;241m=\u001b[39m erisk(X2s, Y2, lm_line4, loss_func_sq)    \n\u001b[1;32m     23\u001b[0m irgd2_fg \u001b[38;5;241m=\u001b[39m fg(er2, h\u001b[38;5;241m=\u001b[39m\u001b[38;5;241m0.005\u001b[39m, tol\u001b[38;5;241m=\u001b[39m\u001b[38;5;241m1.0e-7\u001b[39m, n_iter\u001b[38;5;241m=\u001b[39m\u001b[38;5;241m5000\u001b[39m, stop_condition\u001b[38;5;241m=\u001b[39m\u001b[38;5;124m'\u001b[39m\u001b[38;5;124mdiffL2\u001b[39m\u001b[38;5;124m'\u001b[39m)\n",
      "File \u001b[0;32m~/.local/lib/python3.11/site-packages/mlgrad-0.6-py3.11-linux-x86_64.egg/mlgrad/__init__.py:78\u001b[0m, in \u001b[0;36maverager_it\u001b[0;34m(func, tol, n_iter)\u001b[0m\n\u001b[1;32m     76\u001b[0m \u001b[38;5;28;01mdef\u001b[39;00m \u001b[38;5;21maverager_it\u001b[39m(func, tol\u001b[38;5;241m=\u001b[39m\u001b[38;5;241m1.0e-6\u001b[39m, n_iter\u001b[38;5;241m=\u001b[39m\u001b[38;5;241m1000\u001b[39m):\n\u001b[1;32m     77\u001b[0m     penalty \u001b[38;5;241m=\u001b[39m PenaltyAverage(func)\n\u001b[0;32m---> 78\u001b[0m     alg \u001b[38;5;241m=\u001b[39m \u001b[43mAverage_Iterative\u001b[49m(penalty, tol\u001b[38;5;241m=\u001b[39mtol, n_iter\u001b[38;5;241m=\u001b[39mn_iter)\n\u001b[1;32m     79\u001b[0m     \u001b[38;5;28;01mreturn\u001b[39;00m alg\n",
      "\u001b[0;31mNameError\u001b[0m: name 'Average_Iterative' is not defined"
     ]
    }
   ],
   "source": [
    "alpha=0.01\n",
    "#penalty_func_sq2 = func.Quantile_AlphaLog(alpha, 0.62)\n",
    "penalty_func_sq2 = func.QuantileFunc(0.62, func.Sqrt(4.0))\n",
    "\n",
    "d2 = {\"u\":[],\"param\":[], \"K\":[], \"Ka\":[], \"lval\":[], \"pval\":[], \"s\":[]}\n",
    "def callback2(alg, d=d2):\n",
    "    d[\"u\"].append(alg.weights.average.u)\n",
    "    # d[\"s\"].append(alg.weights.average.s)\n",
    "    d[\"K\"].append(alg.gd.K)\n",
    "    d[\"lval\"].append(alg.gd.risk.lval)\n",
    "    d[\"Ka\"].append(alg.weights.average.K)\n",
    "    d[\"pval\"].append(alg.weights.average.pval)\n",
    "    d[\"param\"].append(alg.gd.risk.model.param.base.copy())\n",
    "\n",
    "#param_init2 = np.random.random((2,))\n",
    "param_init4 = np.array([0.,-1.])\n",
    "lm_line4 = model.LinearModel(param_init4)\n",
    "\n",
    "#alg_irgd2 = linear_regression_pb(X2s, Y2, lm_line4, loss_func_sq, penalty_func_sq2, callback=callback2, h=0.002, n_iter=100)\n",
    "\n",
    "irgd2_avrfunc = averager_it(penalty_func_sq2, n_iter=5000)\n",
    "er2 = erisk(X2s, Y2, lm_line4, loss_func_sq)    \n",
    "irgd2_fg = fg(er2, h=0.005, tol=1.0e-7, n_iter=5000, stop_condition='diffL2')\n",
    "irgd2_weights = weights.MWeights(irgd2_avrfunc, er2)\n",
    "#irgd2_averager = averager.ArrayCyclicAverager(20)\n",
    "alg_irgd2 = erm_irgd(irgd2_fg, irgd2_weights, callback=callback2, n_iter=30)\n",
    "\n",
    "plot_log(d2)"
   ]
  },
  {
   "cell_type": "code",
   "execution_count": null,
   "metadata": {},
   "outputs": [],
   "source": [
    "alg_sq = linear_regression_gd(X2s, Y2, loss_func_sq, h=0.01)\n",
    "alg_abs = linear_regression_gd(X2s, Y2, loss_func_abs, h=0.2)\n",
    "alg_hub = linear_regression_gd(X2s, Y2, loss_func_hub, h=0.1)\n",
    "loss_func_tuk = loss.ErrorLoss(func.Tukey(40.))\n",
    "alg_tuk = linear_regression_gd(X2s, Y2, loss_func_tuk, h=0.01)\n",
    "#alg_quant = linear_regression_gd(X2s, Y2, loss.Loss(func.Quantile(0.5)))\n",
    "\n",
    "plt.figure(figsize=(3.5,3.5))\n",
    "plt.scatter(X2, Y2, s=9, marker='o', c='w', edgecolors='k', linewidths=0.75) #, label='data')\n",
    "#plt.plot(xrange, alg_sq.model.evaluate_all(xrange), color='k', linewidth=1., label=r'$r^2$', linestyle='--')\n",
    "plt.plot(xrange, alg_hub.risk.model.evaluate_all(xrange), color='k', linewidth=1., label='Huber', linestyle='--')\n",
    "plt.plot(xrange, alg_tuk.risk.model.evaluate_all(xrange), color='k', linewidth=1., label=r'Tukey', linestyle='-.')\n",
    "#plt.plot(xrange, alg_quant.model.evaluate_all(xrange), color='k', linewidth=1., label=r'Quantile', linestyle='-.')\n",
    "plt.plot(xrange, alg_irgd2.gd.risk.model.evaluate_all(xrange), color='k', linewidth=1., label='M/$r^2$', linestyle='-')\n",
    "plt.grid(1)\n",
    "plt.minorticks_on()\n",
    "plt.xlabel('x')\n",
    "plt.ylabel('y')\n",
    "plt.legend()\n",
    "plt.tight_layout()\n",
    "plt.savefig('fig/ni2017_pblinreg_30.pdf')\n",
    "#plt.savefig('fig/ni2017_linreg_5.eps')\n",
    "plt.show()"
   ]
  },
  {
   "cell_type": "code",
   "execution_count": null,
   "metadata": {},
   "outputs": [],
   "source": [
    "q = 0.5\n",
    "dy = 5\n",
    "X25, Y25, X25s, xrange  = gendataset(q=q, dy=dy)\n",
    "alpha = 0.01"
   ]
  },
  {
   "cell_type": "code",
   "execution_count": null,
   "metadata": {},
   "outputs": [],
   "source": [
    "d25 = {\"u\":[],\"param\":[], \"K\":[], \"Ka\":[], \"lval\":[], \"pval\":[]}\n",
    "def callback2(alg, d=d25):\n",
    "    d[\"u\"].append(alg.weights.average.u)\n",
    "    d[\"K\"].append(alg.gd.K)\n",
    "    d[\"lval\"].append(alg.gd.risk.lval)\n",
    "    d[\"Ka\"].append(alg.weights.average.K)\n",
    "    d[\"pval\"].append(alg.weights.average.pval)\n",
    "    d[\"param\"].append(alg.gd.risk.param.base.copy())\n",
    "\n",
    "alpha=0.01\n",
    "#penalty_func_sq2 = func.Quantile_AlphaLog(alpha, 0.50)\n",
    "penalty_func_sq2 = func.Sqrt(4.0)\n",
    "\n",
    "#param_init2 = np.random.random((2,))\n",
    "param_init45 = np.array([0.,-1.])\n",
    "lm_line45 = model.LinearModel(param_init45)\n",
    "\n",
    "irgd25_avrfunc = averager_it(penalty_func_sq2, n_iter=5000)\n",
    "er2 = erisk(X2s, Y2, lm_line4, loss_func_sq)    \n",
    "irgd25_fg = fg(er2, h=0.005, tol=1.0e-7, n_iter=5000, stop_condition='diffL2')\n",
    "irgd25_weights = weights.MWeights(irgd2_avrfunc, er2)\n",
    "#irgd25_averager = averager.ArrayCyclicAverager(20)\n",
    "alg_irgd25 = erm_irgd(irgd25_fg, irgd25_weights, param_averager=None, callback=callback2)\n",
    "\n",
    "plot_log(d25)"
   ]
  },
  {
   "cell_type": "code",
   "execution_count": null,
   "metadata": {},
   "outputs": [],
   "source": [
    "alg_sq = linear_regression_gd(X25s, Y25, loss_func_sq, h=0.2)\n",
    "alg_abs = linear_regression_gd(X25s, Y25, loss_func_abs, h=0.2)\n",
    "alg_hub = linear_regression_gd(X25s, Y25, loss_func_hub, h=0.1)\n",
    "loss_func_tuk = loss.ErrorLoss(func.Tukey(30.))\n",
    "alg_tuk = linear_regression_gd(X25s, Y25, loss_func_tuk, h=0.01)\n",
    "#alg_quant = linear_regression_gd(X2s, Y2, loss.Loss(func.Quantile(0.5)))\n",
    "\n",
    "plt.figure(figsize=(3.5,3.5))\n",
    "plt.scatter(X25, Y25, s=9, marker='o', c='w', edgecolors='k', linewidths=0.75) #, label='data')\n",
    "#plt.plot(xrange, alg_sq.model.evaluate_all(xrange), color='k', linewidth=1., label=r'$r^2$', linestyle='--')\n",
    "plt.plot(xrange, alg_hub.risk.model.evaluate_all(xrange), color='k', linewidth=1., label='Huber', linestyle='--')\n",
    "plt.plot(xrange, alg_tuk.risk.model.evaluate_all(xrange), color='k', linewidth=1., label=r'Tukey', linestyle='-.')\n",
    "#plt.plot(xrange, alg_quant.model.evaluate_all(xrange), color='k', linewidth=1., label=r'Quantile', linestyle='-.')\n",
    "plt.plot(xrange, alg_irgd25.gd.risk.model.evaluate_all(xrange), color='k', linewidth=1., label=r'M/$r^2$', linestyle='-')\n",
    "plt.grid(1)\n",
    "plt.minorticks_on()\n",
    "plt.xlabel('x')\n",
    "plt.ylabel('y')\n",
    "plt.legend()\n",
    "plt.tight_layout()\n",
    "plt.savefig('fig/ni2017_pblinreg_50.pdf')\n",
    "#plt.savefig('fig/ni2017_linreg_6.eps')\n",
    "plt.show()"
   ]
  },
  {
   "cell_type": "code",
   "execution_count": null,
   "metadata": {},
   "outputs": [],
   "source": [
    "q = 0.60\n",
    "dy = 3\n",
    "X3, Y3, X3s, xrange  = gendataset(q=q, dy=dy)"
   ]
  },
  {
   "cell_type": "code",
   "execution_count": null,
   "metadata": {},
   "outputs": [],
   "source": [
    "penalty_func = func.Quantile_AlphaLog(0.1, 0.4)\n",
    "penalty_func"
   ]
  },
  {
   "cell_type": "code",
   "execution_count": null,
   "metadata": {},
   "outputs": [],
   "source": [
    "alg_s = linear_regression_gd(X3s, Y3, loss_func_sq, h=0.5)\n",
    "alg_a = linear_regression_gd(X3s, Y3, loss_func_abs)\n",
    "loss_func_hub = loss.ErrorLoss(func.Huber(40.))\n",
    "alg_h = linear_regression_gd(X3s, Y3, loss_func_hub)\n",
    "loss_func_tuk = loss.ErrorLoss(func.Tukey(40.))\n",
    "alg_t = linear_regression_gd(X3s, Y3, loss_func_tuk)\n",
    "alg_l = linear_regression_gd(X3s, Y3, loss_func_lgs, h=0.05)\n",
    "alg_q = linear_regression_gd(X3s, Y3, loss.ErrorLoss(func.Quantile(0.51)))"
   ]
  },
  {
   "cell_type": "code",
   "execution_count": null,
   "metadata": {},
   "outputs": [],
   "source": [
    "\n",
    "d = {\"u\":[],\"param\":[], \"K\":[], \"Ka\":[], \"lval\":[], \"pval\":[]}\n",
    "def callback(alg, d=d):\n",
    "    d[\"u\"].append(alg.weights.average.u)\n",
    "    d[\"K\"].append(alg.gd.K)\n",
    "    d[\"lval\"].append(alg.gd.risk.lval)\n",
    "    d[\"Ka\"].append(alg.weights.average.K)\n",
    "    d[\"pval\"].append(alg.weights.average.pval)\n",
    "    d[\"param\"].append(alg.gd.risk.param.base.copy())\n"
   ]
  },
  {
   "cell_type": "code",
   "execution_count": null,
   "metadata": {
    "scrolled": true
   },
   "outputs": [],
   "source": [
    "alpha=0.01\n",
    "#loss_func_sq = loss.Loss(func.Square())\n",
    "penalty_func_sq = func.Quantile_AlphaLog(alpha, 0.6)\n",
    "#penalty_func_sq2 = func.QuantileFunc(0.45, func.Sqrt(alpha))\n",
    "\n",
    "param_init2 = np.random.random((2,))\n",
    "#param_init2 = np.array([2.,3.])\n",
    "lm_line2 = model.LinearModel(param_init2)\n",
    "\n",
    "alg_irgd = linear_regression_pb(X3s, Y3, lm_line2, loss_func_sq, penalty_func_sq2, callback=callback, h=0.01, n_iter=100)\n",
    "\n",
    "plot_log(d)"
   ]
  },
  {
   "cell_type": "code",
   "execution_count": null,
   "metadata": {},
   "outputs": [],
   "source": [
    "#plt.figure(figsize=(3.5, 3))\n",
    "plt.figure(figsize=(2.5, 2.5))\n",
    "#plt.title(r'шум: %s, выбросы: %s%%' % (dy, int(200*q)))\n",
    "plt.scatter(X3, Y3, s=9, marker='o', c='w', edgecolors='k', linewidths=0.75)\n",
    "plt.grid(1)\n",
    "plt.minorticks_on()\n",
    "#plt.plot(xrange, lm_line2.evaluate_all(xrange), color='k', linewidth=1., label=r'LQS$_\\alpha$ (0.5)')\n",
    "#plt.plot(xrange, lm_line3.evaluate_all(xrange), color='k', linewidth=1.0, label=r'M${\\sqrt{1+r^2}}-1:|r|$')\n",
    "#plt.plot(xrange, alg_s.model.evaluate_all(xrange), color='k', linewidth=1., linestyle='--', label=r'$r^2$')\n",
    "#plt.plot(xrange, alg_a.model.evaluate_all(xrange), color='k', linewidth=1., linestyle='-.', label=r'$|r|$')\n",
    "plt.plot(xrange, alg_h.risk.model.evaluate_all(xrange), color='k', linewidth=1., linestyle='--', label='Huber')\n",
    "plt.plot(xrange, alg_t.risk.model.evaluate_all(xrange), color='k', linewidth=1., linestyle='-.', label='Tukey')\n",
    "#plt.plot(xrange, alg_l.model.evaluate_all(xrange), color='k', linewidth=1., linestyle='-', marker='s', label='Logistic')\n",
    "#plt.plot(xrange, alg_q.model.evaluate_all(xrange), color='k', linewidth=1., linestyle='-.', label=r'LQ$_\\alpha$ 0.51')\n",
    "plt.plot(xrange, alg_irgd.gd.risk.model.evaluate_all(xrange), color='k', linewidth=1., label='M/$r^2$', linestyle='-')\n",
    "#plt.xlim(-5, 20)\n",
    "plt.legend(loc='best')\n",
    "#plt.xticks([],[])\n",
    "#plt.yticks([],[])\n",
    "plt.tight_layout()\n",
    "plt.savefig('fig/ni2017_pblinreg_3.pdf')\n",
    "plt.show()"
   ]
  },
  {
   "cell_type": "markdown",
   "metadata": {},
   "source": [
    "## Diabets"
   ]
  },
  {
   "cell_type": "code",
   "execution_count": null,
   "metadata": {},
   "outputs": [],
   "source": [
    "# df = pd.read_csv('data/diabets.txt', sep='\\t')\n",
    "\n",
    "# AGE = df['AGE'].values\n",
    "# SEX = df['SEX'].values\n",
    "# BMI = df['BMI'].values\n",
    "# BP = df['BP'].values\n",
    "# S1 = df['S1'].values\n",
    "# S2 = df['S2'].values\n",
    "# S3 = df['S3'].values\n",
    "# S4 = df['S4'].values\n",
    "# S5 = df['S5'].values\n",
    "# S6 = df['S6'].values\n",
    "\n",
    "# diabet_Y = df['Y'].values\n",
    "# diabet_Y = diabet_Y.astype('d')\n",
    "# diabet_X = np.c_[AGE,SEX,BMI,BP,S1,S2,S3,S4,S5,S6]\n",
    "\n",
    "# print(diabet_X.shape, diabet_X.dtype, diabet_Y.dtype)"
   ]
  },
  {
   "cell_type": "code",
   "execution_count": null,
   "metadata": {},
   "outputs": [],
   "source": [
    "# diabet_pca = decomposition.PCA()\n",
    "# diabet_pca.fit(diabet_X)\n",
    "\n",
    "# plt.figure(figsize=(5,3))\n",
    "# plt.bar(range(diabet_X.shape[-1]), diabet_pca.explained_variance_ratio_)\n",
    "# plt.show()"
   ]
  },
  {
   "cell_type": "code",
   "execution_count": null,
   "metadata": {},
   "outputs": [],
   "source": [
    "# diabet_pca.n_components = 2\n",
    "# U = diabet_pca.fit_transform(diabet_X)"
   ]
  },
  {
   "cell_type": "code",
   "execution_count": null,
   "metadata": {},
   "outputs": [],
   "source": [
    "# plt.scatter(U[:,0], U[:,1], c=diabet_Y)\n",
    "# plt.show()"
   ]
  },
  {
   "cell_type": "code",
   "execution_count": null,
   "metadata": {},
   "outputs": [],
   "source": [
    "# skl_lr = linear_model.HuberRegressor()\n",
    "# skl_lr.fit(U, diabet_Y)\n",
    "# print(skl_lr.coef_, skl_lr.intercept_)"
   ]
  },
  {
   "cell_type": "code",
   "execution_count": null,
   "metadata": {},
   "outputs": [],
   "source": [
    "# err = np.abs(diabet_Y - skl_lr.predict(U))\n",
    "# err.sort()"
   ]
  },
  {
   "cell_type": "code",
   "execution_count": null,
   "metadata": {},
   "outputs": [],
   "source": [
    "#lms_lr_model = model.LinearModel(np.random.random(size=2))\n",
    "#lms_lr = pbsa.PbFG(lms_lr_model, loss.Absolute(), dissimilarity.Median_AlphaLog(0.001), hw=10.0, hu=10.0, tol=1.0e-4, max_epoch=100)\n",
    "#lms_lr.fit(U, diabet_Y)\n",
    "#print(lms_lr.K, lms_lr.u, lms_lr_model.param.base)"
   ]
  },
  {
   "cell_type": "code",
   "execution_count": null,
   "metadata": {},
   "outputs": [],
   "source": [
    "#err2 = np.abs(diabet_Y - lms_lr_model.evaluate_all(diabet_X))\n",
    "#err2.sort()"
   ]
  },
  {
   "cell_type": "code",
   "execution_count": null,
   "metadata": {},
   "outputs": [],
   "source": [
    "# plt.figure(figsize=(6,3))\n",
    "# plt.plot(range(err2.shape[0]), err2, label='lms')\n",
    "# plt.plot(range(err.shape[0]), err, label='huber')\n",
    "# plt.legend(loc='best')\n",
    "# plt.show()"
   ]
  },
  {
   "cell_type": "code",
   "execution_count": null,
   "metadata": {},
   "outputs": [],
   "source": []
  }
 ],
 "metadata": {
  "hide_input": false,
  "kernelspec": {
   "display_name": "Python 3 (ipykernel)",
   "language": "python",
   "name": "python3"
  },
  "language_info": {
   "codemirror_mode": {
    "name": "ipython",
    "version": 3
   },
   "file_extension": ".py",
   "mimetype": "text/x-python",
   "name": "python",
   "nbconvert_exporter": "python",
   "pygments_lexer": "ipython3",
   "version": "3.11.2"
  }
 },
 "nbformat": 4,
 "nbformat_minor": 4
}
