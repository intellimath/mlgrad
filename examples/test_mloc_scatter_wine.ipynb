{
 "cells": [
  {
   "cell_type": "code",
   "execution_count": 1,
   "metadata": {},
   "outputs": [],
   "source": [
    "import mlgrad.mlocation_scatter as mls\n",
    "import mlgrad.avragg as avragg\n",
    "import mlgrad.distance as distance\n",
    "import mlgrad.func as func\n",
    "import mlgrad.loss as loss\n",
    "import mlgrad.model as model\n",
    "import mlgrad.weights as weights\n",
    "\n",
    "from mlgrad import erm_fg, erm_sg, erm_irgd, fg, fg_rud, sg, weights, averager_it, erisk\n",
    "\n",
    "import pandas as pd\n",
    "import numpy as np\n",
    "import matplotlib.pyplot as plt\n",
    "# from matplotlib import rcsetup\n",
    "plt.style.use(['seaborn-notebook', 'seaborn-white', 'seaborn-ticks'])\n",
    "\n",
    "# rcsetup.defaultParams['font.size'][0] = 12\n",
    "# rcsetup.defaultParams\n",
    "# plt.style.available"
   ]
  },
  {
   "cell_type": "code",
   "execution_count": 2,
   "metadata": {},
   "outputs": [
    {
     "name": "stdout",
     "output_type": "stream",
     "text": [
      "178\n"
     ]
    }
   ],
   "source": [
    "names = ['p1', 'p2', 'p3', 'p4', 'p5', 'p6', 'p7', \n",
    "         'p8', 'p9', 'p10', 'p11', 'p12', 'p13']\n",
    "df = pd.read_csv('data/wine.data', names=['cls'] + names)\n",
    "print(len(df))"
   ]
  },
  {
   "cell_type": "code",
   "execution_count": 3,
   "metadata": {},
   "outputs": [],
   "source": [
    "Xs = []\n",
    "for i in range(1,4):\n",
    "    _df = df[df['cls'] == i]\n",
    "    _X = np.c_[tuple(_df[n].values for n in names)]\n",
    "    Xs.append(_X)\n",
    "del _X, _df\n",
    "\n",
    "XX = np.c_[tuple(df[n].values for n in names)]\n",
    "Y = df['cls'].values"
   ]
  },
  {
   "cell_type": "code",
   "execution_count": 4,
   "metadata": {},
   "outputs": [],
   "source": [
    "# avg = avragg.MWAverage(averager_it(func.QuantileFunc(0.9, func.Sqrt(0.001))))\n",
    "# mlse = mls.MLocationScatterEstimator(avg, n_iter=100, h=0.02)\n",
    "# mlse.fit(X1)"
   ]
  },
  {
   "cell_type": "code",
   "execution_count": 5,
   "metadata": {},
   "outputs": [],
   "source": [
    "# print(mlse.dvals)\n",
    "# plt.plot(mlse.dvals)\n",
    "# plt.show()"
   ]
  },
  {
   "cell_type": "code",
   "execution_count": 6,
   "metadata": {},
   "outputs": [],
   "source": [
    "# loc1, S1 = mlse.loc, mlse.S\n",
    "# distfunc = mlse.distfunc"
   ]
  },
  {
   "cell_type": "code",
   "execution_count": 7,
   "metadata": {},
   "outputs": [],
   "source": [
    "# loc, S = mlse.loc.base, mlse.S.base\n",
    "# distfunc = mlse.distfunc\n",
    "\n",
    "# loc0 = mls.standard_location(X1)\n",
    "# S0 = mls.standard_covariance(X1, loc0)\n",
    "# mls.scale_matrix(S0)\n",
    "# distfunc0 = distance.MahalanobisDistance(np.linalg.inv(S0))\n",
    "# print(loc0)\n",
    "# print(loc)"
   ]
  },
  {
   "cell_type": "code",
   "execution_count": 8,
   "metadata": {},
   "outputs": [],
   "source": [
    "# distfunc = distance.MahalanobisDistance(np.linalg.inv(S))\n",
    "# distfunc0 = distance.MahalanobisDistance(np.linalg.inv(S0))\n",
    "\n",
    "# D0 = np.array([distfunc0(x, loc0) for x in X1])\n",
    "# D = np.array([distfunc(x, loc) for x in X1])\n",
    "# D0_s = D0.reshape(-1,1)"
   ]
  },
  {
   "cell_type": "code",
   "execution_count": 9,
   "metadata": {},
   "outputs": [],
   "source": [
    "# linmod2 = model.LinearModel(np.array([0., 1.]))\n",
    "# loss2 = loss.ErrorLoss(func.Square())\n",
    "# avg2 = avragg.MWAverage(averager_it(func.QuantileFunc(0.8, func.Sqrt(0.001))))\n",
    "# er2 = erisk(D0_s, D, linmod2, loss2)\n",
    "# fg2 = fg(er2)\n",
    "# wg2 = weights.MWeights(avg2, er2)\n",
    "# irgd2 = erm_irgd(fg2, wg2)"
   ]
  },
  {
   "cell_type": "code",
   "execution_count": 10,
   "metadata": {},
   "outputs": [],
   "source": [
    "# plt.figure(figsize=(10.0, 4.0))\n",
    "# plt.subplot(1,2,1)\n",
    "# plt.scatter(D0, D, c='w', edgecolors='k', linewidth=1)\n",
    "# X0 = np.array([[0.], [6.]])\n",
    "# plt.plot(X0, linmod2.evaluate_all(X0), c='k', linewidth=1.5, linestyle='--')\n",
    "# plt.xlabel('Классическое расстояние')\n",
    "# plt.ylabel('Робастное расстояние')\n",
    "# plt.title('WINE [class=3]')\n",
    "# # plt.ylim(0,10)\n",
    "# plt.subplot(1,2,2)\n",
    "# plt.bar(range(len(D)), np.sort(np.abs(D - linmod2.evaluate_all(D0_s))))\n",
    "# plt.savefig('fig/robust_clustering_elipse_wine_3.eps')\n",
    "# plt.show()"
   ]
  },
  {
   "cell_type": "code",
   "execution_count": 11,
   "metadata": {},
   "outputs": [],
   "source": [
    "# plt.scatter(D10, D1, linewidth=1, label='1')\n",
    "# plt.scatter(D20, D2, linewidth=1, label='2')\n",
    "# plt.scatter(D30, D3, linewidth=1, label='3')\n",
    "# plt.ylim(0,4)\n",
    "# plt.legend()"
   ]
  },
  {
   "cell_type": "code",
   "execution_count": 49,
   "metadata": {},
   "outputs": [],
   "source": [
    "def find_class_center(cls):\n",
    "    df1 = df[df['cls'] == cls]\n",
    "    X1 = np.c_[tuple(df1[n].values for n in names)]\n",
    "    print(len(X1))\n",
    "    avg = avragg.MWAverage(averager_it(func.QuantileFunc(0.9, func.Sqrt(0.001))))\n",
    "#     avg = averager_it(func.QuantileFunc(0.9, func.Sqrt(0.001)))\n",
    "    mlse = mls.MLocationScatterEstimator(avg, n_iter=500, n_step=50, h=0.1)\n",
    "    mlse.fit(X1)\n",
    "    \n",
    "    loc0 = mls.standard_location(X1)\n",
    "    S0 = mls.standard_covariance(X1, loc0)\n",
    "    mls.scale_matrix(S0)\n",
    "    distfunc0 = distance.MahalanobisDistance(np.linalg.inv(S0))\n",
    "    \n",
    "    print('class ', cls)\n",
    "    return mlse.loc.base, mlse.S.base, mlse.distfunc, loc0, S0, distfunc0\n"
   ]
  },
  {
   "cell_type": "code",
   "execution_count": 50,
   "metadata": {},
   "outputs": [
    {
     "name": "stdout",
     "output_type": "stream",
     "text": [
      "59\n",
      "class  1\n",
      "CPU times: user 1.63 s, sys: 47.9 ms, total: 1.68 s\n",
      "Wall time: 424 ms\n"
     ]
    }
   ],
   "source": [
    "%time loc1, S1, distfunc1, loc10, S10, distfunc10 = find_class_center(1)"
   ]
  },
  {
   "cell_type": "code",
   "execution_count": 51,
   "metadata": {},
   "outputs": [
    {
     "name": "stdout",
     "output_type": "stream",
     "text": [
      "71\n",
      "class  2\n",
      "CPU times: user 1.58 s, sys: 47.9 ms, total: 1.63 s\n",
      "Wall time: 405 ms\n"
     ]
    }
   ],
   "source": [
    "%time loc2, S2, distfunc2, loc20, S20, distfunc20 = find_class_center(2)"
   ]
  },
  {
   "cell_type": "code",
   "execution_count": 52,
   "metadata": {},
   "outputs": [
    {
     "name": "stdout",
     "output_type": "stream",
     "text": [
      "48\n",
      "class  3\n",
      "CPU times: user 445 ms, sys: 19.7 ms, total: 465 ms\n",
      "Wall time: 118 ms\n"
     ]
    }
   ],
   "source": [
    "%time loc3, S3, distfunc3, loc30, S30, distfunc30 = find_class_center(3)"
   ]
  },
  {
   "cell_type": "code",
   "execution_count": 53,
   "metadata": {},
   "outputs": [
    {
     "name": "stdout",
     "output_type": "stream",
     "text": [
      "<MemoryView of 'ndarray' object> \n",
      " <MemoryView of 'ndarray' object> \n",
      " <MemoryView of 'ndarray' object>\n"
     ]
    }
   ],
   "source": [
    "with np.printoptions(precision=1, suppress=True, linewidth=120):\n",
    "    print(distfunc1.S.base,\"\\n\",distfunc2.S.base,\"\\n\",distfunc3.S.base)\n",
    "    \n",
    "# np.set_printoptions()"
   ]
  },
  {
   "cell_type": "code",
   "execution_count": 54,
   "metadata": {},
   "outputs": [],
   "source": [
    "locs = [loc1, loc2, loc3]\n",
    "locs0 = [loc10, loc20, loc30]\n",
    "distfuncs = [distfunc1, distfunc2, distfunc3]\n",
    "distfuncs0 = [distfunc10, distfunc20, distfunc30]"
   ]
  },
  {
   "cell_type": "code",
   "execution_count": 55,
   "metadata": {},
   "outputs": [
    {
     "data": {
      "image/png": "[encoded data removed]",
      "text/plain": [
       "<Figure size 1296x360 with 3 Axes>"
      ]
     },
     "metadata": {
      "needs_background": "light"
     },
     "output_type": "display_data"
    }
   ],
   "source": [
    "plt.figure(figsize=(18.0, 5.0))\n",
    "for i in range(3):\n",
    "    plt.subplot(1,3,i+1)\n",
    "    _distfunc = distfuncs[i]\n",
    "    _distfunc0 = distfuncs0[i]\n",
    "    _loc = locs[i]\n",
    "    _loc0 = locs0[i]\n",
    "    _D0 = np.array([_distfunc0(x, _loc0) for x in Xs[i]])\n",
    "    _D  = np.array([_distfunc(x, _loc) for x in Xs[i]])\n",
    "    _D1 = np.sort(_D)\n",
    "    _D0_s = _D0.reshape(-1,1)\n",
    "    plt.scatter(_D0, _D, c='w', edgecolors='k', linewidth=1)\n",
    "    plt.xlabel('Classic distance')\n",
    "    plt.ylabel('Robust distance')\n",
    "    plt.minorticks_on()\n",
    "    plt.title('WINE [class=%s]' % i)\n",
    "plt.savefig('fig/robust_location_scatter_wine.eps')\n",
    "\n",
    "del _distfunc, _distfunc0, _loc, _loc0, _D0, _D, _D1, _D0_s\n",
    "plt.show()"
   ]
  },
  {
   "cell_type": "code",
   "execution_count": 56,
   "metadata": {},
   "outputs": [],
   "source": [
    "ds = [15, 14, 30.]\n",
    "d1, d2, d3 = ds"
   ]
  },
  {
   "cell_type": "code",
   "execution_count": 20,
   "metadata": {},
   "outputs": [
    {
     "data": {
      "image/png": "[encoded data removed]",
      "text/plain": [
       "<Figure size 1080x288 with 3 Axes>"
      ]
     },
     "metadata": {
      "needs_background": "light"
     },
     "output_type": "display_data"
    }
   ],
   "source": [
    "plt.figure(figsize=(15.0, 4.0))\n",
    "for i in range(3):\n",
    "    plt.subplot(1,3,i+1)\n",
    "    _distfunc = distfuncs[i]\n",
    "    _distfunc0 = distfuncs[i]\n",
    "    _loc = locs[i]\n",
    "    _loc0 = locs0[i]\n",
    "    _D0 = np.array([_distfunc0(x, _loc0) for x in XX])\n",
    "    _D  = np.array([_distfunc(x, _loc) for x in XX])\n",
    "    _D0_s = _D0.reshape(-1,1)\n",
    "    _sc = plt.scatter(_D0, _D, c=Y, edgecolors='k', s=81, linewidth=1, cmap=plt.cm.gist_rainbow)\n",
    "#     plt.colorbar(_sc)\n",
    "    plt.xlabel('Классическое расстояние')\n",
    "    plt.ylabel('Робастное расстояние')\n",
    "    plt.title('WINE [class=%s]' % i)\n",
    "    plt.ylim(0, ds[i])\n",
    "    plt.xlim(0,30)\n",
    "plt.savefig('fig/robust_clustering_ellipse_wine_all_classes.eps')\n",
    "    \n",
    "    \n",
    "plt.show()"
   ]
  },
  {
   "cell_type": "code",
   "execution_count": 21,
   "metadata": {},
   "outputs": [],
   "source": [
    "def classify(Xk):\n",
    "    dk1 = distfunc1(Xk, loc1) \n",
    "    dk2 = distfunc2(Xk, loc2)     \n",
    "    dk3 = distfunc3(Xk, loc3)\n",
    "    if dk1 <= d1:\n",
    "        return 1\n",
    "    elif dk3 <= d3:\n",
    "        return 3\n",
    "    elif dk2 <= d2:\n",
    "        return 2\n",
    "    else:\n",
    "        return 0"
   ]
  },
  {
   "cell_type": "code",
   "execution_count": 22,
   "metadata": {},
   "outputs": [],
   "source": [
    "YY = np.array([classify(Xk) for Xk in XX])"
   ]
  },
  {
   "cell_type": "code",
   "execution_count": 23,
   "metadata": {},
   "outputs": [
    {
     "name": "stdout",
     "output_type": "stream",
     "text": [
      "[1 1 1 1 1 1 1 1 1 1 1 1 1 1 1 1 1 1 1 1 1 1 1 1 1 1 1 1 1 1 1 1 1 1 1 1 1\n",
      " 1 1 1 1 1 1 1 1 1 1 1 1 1 1 1 1 1 1 1 1 1 1 2 2 2 2 2 2 2 2 2 2 2 2 2 2 2\n",
      " 2 2 2 2 2 2 2 2 2 2 2 2 2 2 2 2 2 2 2 2 2 2 2 2 2 2 2 2 2 2 2 2 2 2 2 2 2\n",
      " 2 2 2 2 2 2 2 2 2 2 2 2 2 2 2 2 2 2 2 3 3 3 3 3 3 3 3 3 3 3 3 3 3 3 3 3 3\n",
      " 3 3 3 3 3 3 3 3 3 3 3 3 3 3 3 3 3 3 3 3 3 3 3 3 3 3 3 3 3 3]\n",
      "[1 1 1 1 1 1 1 1 1 1 1 1 1 0 1 1 1 1 1 1 1 0 1 1 1 1 1 1 1 1 1 1 1 1 1 1 1\n",
      " 1 1 0 1 0 1 2 1 0 1 1 1 1 0 1 1 1 1 1 1 1 1 0 3 0 0 2 2 1 0 2 0 0 3 0 2 0\n",
      " 0 2 2 2 0 2 2 1 2 0 2 1 2 2 2 2 2 2 2 2 2 0 0 2 2 2 2 2 2 2 2 2 2 2 2 2 0\n",
      " 2 2 2 2 2 2 0 3 2 2 0 0 0 0 2 2 2 2 0 3 3 3 3 3 3 3 3 3 3 3 3 3 3 3 3 3 3\n",
      " 3 3 3 3 3 3 3 3 3 3 3 3 3 3 3 3 3 3 3 3 3 3 3 3 3 3 3 3 3 3]\n"
     ]
    }
   ],
   "source": [
    "print(Y)\n",
    "print(YY)"
   ]
  },
  {
   "cell_type": "code",
   "execution_count": 24,
   "metadata": {},
   "outputs": [
    {
     "data": {
      "text/plain": [
       "17.687074829931973"
      ]
     },
     "execution_count": 24,
     "metadata": {},
     "output_type": "execute_result"
    }
   ],
   "source": [
    "100*sum(YY==0)/147"
   ]
  },
  {
   "cell_type": "code",
   "execution_count": null,
   "metadata": {},
   "outputs": [],
   "source": []
  }
 ],
 "metadata": {
  "kernelspec": {
   "display_name": "Python 3 (ipykernel)",
   "language": "python",
   "name": "python3"
  },
  "language_info": {
   "codemirror_mode": {
    "name": "ipython",
    "version": 3
   },
   "file_extension": ".py",
   "mimetype": "text/x-python",
   "name": "python",
   "nbconvert_exporter": "python",
   "pygments_lexer": "ipython3",
   "version": "3.11.2"
  }
 },
 "nbformat": 4,
 "nbformat_minor": 4
}
