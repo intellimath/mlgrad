{
 "cells": [
  {
   "cell_type": "code",
   "execution_count": 6,
   "metadata": {
    "collapsed": false,
    "deletable": true,
    "editable": true
   },
   "outputs": [],
   "source": [
    "import numpy as np\n",
    "import mlgrad.model as model\n",
    "import mlgrad.loss as loss\n",
    "import mlgrad.func as func\n",
    "import mlgrad.avragg as avragg\n",
    "import mlgrad.pbfg as pbfg\n",
    "import mlgrad.gd as gd\n",
    "\n",
    "import pandas as pd\n",
    "import matplotlib.pyplot as plt\n",
    "%matplotlib inline"
   ]
  },
  {
   "cell_type": "code",
   "execution_count": 7,
   "metadata": {
    "collapsed": false,
    "deletable": true,
    "editable": true
   },
   "outputs": [],
   "source": [
    "df = pd.read_csv(\"data/animals.dat\", sep=',')"
   ]
  },
  {
   "cell_type": "code",
   "execution_count": 8,
   "metadata": {
    "collapsed": false,
    "deletable": true,
    "editable": true
   },
   "outputs": [
    {
     "data": {
      "text/html": [
       "<div>\n",
       "<table border=\"1\" class=\"dataframe\">\n",
       "  <thead>\n",
       "    <tr style=\"text-align: right;\">\n",
       "      <th></th>\n",
       "      <th>name</th>\n",
       "      <th>body</th>\n",
       "      <th>brain</th>\n",
       "    </tr>\n",
       "  </thead>\n",
       "  <tbody>\n",
       "    <tr>\n",
       "      <th>0</th>\n",
       "      <td>Mountain beaver</td>\n",
       "      <td>1.350</td>\n",
       "      <td>8.1</td>\n",
       "    </tr>\n",
       "    <tr>\n",
       "      <th>1</th>\n",
       "      <td>Cow</td>\n",
       "      <td>465.000</td>\n",
       "      <td>423.0</td>\n",
       "    </tr>\n",
       "    <tr>\n",
       "      <th>2</th>\n",
       "      <td>Grey wolf</td>\n",
       "      <td>36.330</td>\n",
       "      <td>119.5</td>\n",
       "    </tr>\n",
       "    <tr>\n",
       "      <th>3</th>\n",
       "      <td>Goat</td>\n",
       "      <td>27.660</td>\n",
       "      <td>115.0</td>\n",
       "    </tr>\n",
       "    <tr>\n",
       "      <th>4</th>\n",
       "      <td>Guinea pig</td>\n",
       "      <td>1.040</td>\n",
       "      <td>5.5</td>\n",
       "    </tr>\n",
       "    <tr>\n",
       "      <th>5</th>\n",
       "      <td>Dipliodocus</td>\n",
       "      <td>11700.000</td>\n",
       "      <td>50.0</td>\n",
       "    </tr>\n",
       "    <tr>\n",
       "      <th>6</th>\n",
       "      <td>Asian elephant</td>\n",
       "      <td>2547.000</td>\n",
       "      <td>4603.0</td>\n",
       "    </tr>\n",
       "    <tr>\n",
       "      <th>7</th>\n",
       "      <td>Donkey</td>\n",
       "      <td>187.100</td>\n",
       "      <td>419.0</td>\n",
       "    </tr>\n",
       "    <tr>\n",
       "      <th>8</th>\n",
       "      <td>Horse</td>\n",
       "      <td>521.000</td>\n",
       "      <td>655.0</td>\n",
       "    </tr>\n",
       "    <tr>\n",
       "      <th>9</th>\n",
       "      <td>Potar monkey</td>\n",
       "      <td>10.000</td>\n",
       "      <td>115.0</td>\n",
       "    </tr>\n",
       "    <tr>\n",
       "      <th>10</th>\n",
       "      <td>Cat</td>\n",
       "      <td>3.300</td>\n",
       "      <td>25.6</td>\n",
       "    </tr>\n",
       "    <tr>\n",
       "      <th>11</th>\n",
       "      <td>Giraffe</td>\n",
       "      <td>529.000</td>\n",
       "      <td>680.0</td>\n",
       "    </tr>\n",
       "    <tr>\n",
       "      <th>12</th>\n",
       "      <td>Gorilla</td>\n",
       "      <td>207.000</td>\n",
       "      <td>406.0</td>\n",
       "    </tr>\n",
       "    <tr>\n",
       "      <th>13</th>\n",
       "      <td>Human</td>\n",
       "      <td>62.000</td>\n",
       "      <td>1320.0</td>\n",
       "    </tr>\n",
       "    <tr>\n",
       "      <th>14</th>\n",
       "      <td>African elephant</td>\n",
       "      <td>6654.000</td>\n",
       "      <td>5712.0</td>\n",
       "    </tr>\n",
       "    <tr>\n",
       "      <th>15</th>\n",
       "      <td>Triceratops</td>\n",
       "      <td>9400.000</td>\n",
       "      <td>70.0</td>\n",
       "    </tr>\n",
       "    <tr>\n",
       "      <th>16</th>\n",
       "      <td>Rhesus monkey</td>\n",
       "      <td>6.800</td>\n",
       "      <td>179.0</td>\n",
       "    </tr>\n",
       "    <tr>\n",
       "      <th>17</th>\n",
       "      <td>Kangaroo</td>\n",
       "      <td>35.000</td>\n",
       "      <td>56.0</td>\n",
       "    </tr>\n",
       "    <tr>\n",
       "      <th>18</th>\n",
       "      <td>Golden hamster</td>\n",
       "      <td>0.120</td>\n",
       "      <td>1.0</td>\n",
       "    </tr>\n",
       "    <tr>\n",
       "      <th>19</th>\n",
       "      <td>Mouse</td>\n",
       "      <td>0.023</td>\n",
       "      <td>0.4</td>\n",
       "    </tr>\n",
       "    <tr>\n",
       "      <th>20</th>\n",
       "      <td>Rabbit</td>\n",
       "      <td>2.500</td>\n",
       "      <td>12.1</td>\n",
       "    </tr>\n",
       "    <tr>\n",
       "      <th>21</th>\n",
       "      <td>Sheep</td>\n",
       "      <td>55.500</td>\n",
       "      <td>175.0</td>\n",
       "    </tr>\n",
       "    <tr>\n",
       "      <th>22</th>\n",
       "      <td>Jaguar</td>\n",
       "      <td>100.000</td>\n",
       "      <td>157.0</td>\n",
       "    </tr>\n",
       "    <tr>\n",
       "      <th>23</th>\n",
       "      <td>Chimpanzee</td>\n",
       "      <td>52.160</td>\n",
       "      <td>440.0</td>\n",
       "    </tr>\n",
       "    <tr>\n",
       "      <th>24</th>\n",
       "      <td>Rat</td>\n",
       "      <td>0.280</td>\n",
       "      <td>1.9</td>\n",
       "    </tr>\n",
       "    <tr>\n",
       "      <th>25</th>\n",
       "      <td>Brachiosaurus</td>\n",
       "      <td>87000.000</td>\n",
       "      <td>154.5</td>\n",
       "    </tr>\n",
       "    <tr>\n",
       "      <th>26</th>\n",
       "      <td>Mole</td>\n",
       "      <td>0.122</td>\n",
       "      <td>3.0</td>\n",
       "    </tr>\n",
       "    <tr>\n",
       "      <th>27</th>\n",
       "      <td>Pig</td>\n",
       "      <td>192.000</td>\n",
       "      <td>180.0</td>\n",
       "    </tr>\n",
       "  </tbody>\n",
       "</table>\n",
       "</div>"
      ],
      "text/plain": [
       "                name       body   brain\n",
       "0    Mountain beaver      1.350     8.1\n",
       "1                Cow    465.000   423.0\n",
       "2          Grey wolf     36.330   119.5\n",
       "3               Goat     27.660   115.0\n",
       "4         Guinea pig      1.040     5.5\n",
       "5        Dipliodocus  11700.000    50.0\n",
       "6     Asian elephant   2547.000  4603.0\n",
       "7             Donkey    187.100   419.0\n",
       "8              Horse    521.000   655.0\n",
       "9       Potar monkey     10.000   115.0\n",
       "10               Cat      3.300    25.6\n",
       "11           Giraffe    529.000   680.0\n",
       "12           Gorilla    207.000   406.0\n",
       "13             Human     62.000  1320.0\n",
       "14  African elephant   6654.000  5712.0\n",
       "15       Triceratops   9400.000    70.0\n",
       "16     Rhesus monkey      6.800   179.0\n",
       "17          Kangaroo     35.000    56.0\n",
       "18    Golden hamster      0.120     1.0\n",
       "19             Mouse      0.023     0.4\n",
       "20            Rabbit      2.500    12.1\n",
       "21             Sheep     55.500   175.0\n",
       "22            Jaguar    100.000   157.0\n",
       "23        Chimpanzee     52.160   440.0\n",
       "24               Rat      0.280     1.9\n",
       "25     Brachiosaurus  87000.000   154.5\n",
       "26              Mole      0.122     3.0\n",
       "27               Pig    192.000   180.0"
      ]
     },
     "execution_count": 8,
     "metadata": {},
     "output_type": "execute_result"
    }
   ],
   "source": [
    "df"
   ]
  },
  {
   "cell_type": "code",
   "execution_count": 13,
   "metadata": {
    "collapsed": false,
    "deletable": true,
    "editable": true
   },
   "outputs": [],
   "source": [
    "X = df[\"body\"].values.reshape((-1,1))\n",
    "X = np.asarray(X, \"d\")\n",
    "Y = df[\"brain\"].values\n",
    "\n",
    "X = np.log(X)\n",
    "Y = np.log(Y)"
   ]
  },
  {
   "cell_type": "code",
   "execution_count": 14,
   "metadata": {
    "collapsed": false,
    "deletable": true,
    "editable": true
   },
   "outputs": [
    {
     "data": {
      "image/png": "[encoded data removed]",
      "text/plain": [
       "<matplotlib.figure.Figure at 0x107ba2f98>"
      ]
     },
     "metadata": {},
     "output_type": "display_data"
    }
   ],
   "source": [
    "plt.figure(figsize=(5.0, 4.0))\n",
    "plt.scatter(X, Y, s=64, c='w')\n",
    "plt.xlabel('body')\n",
    "plt.ylabel('brain')\n",
    "plt.minorticks_on()\n",
    "plt.grid(1)\n",
    "#plt.loglog()\n",
    "plt.show()"
   ]
  },
  {
   "cell_type": "code",
   "execution_count": 15,
   "metadata": {
    "collapsed": false,
    "deletable": true,
    "editable": true
   },
   "outputs": [
    {
     "data": {
      "text/latex": [
       "$\\ell(y - \\tilde y)$"
      ],
      "text/plain": [
       "<mlgrad.loss.Loss at 0x107b20438>"
      ]
     },
     "execution_count": 15,
     "metadata": {},
     "output_type": "execute_result"
    }
   ],
   "source": [
    "loss_func = loss.Loss(func.Square())\n",
    "loss_func"
   ]
  },
  {
   "cell_type": "code",
   "execution_count": 16,
   "metadata": {
    "collapsed": false,
    "deletable": true,
    "editable": true
   },
   "outputs": [
    {
     "data": {
      "text/latex": [
       "$ρ_q(x)=\\mathrm{sign}_q(x)(|x| - \\alpha\\ln(\\alpha+|x|)+\\alpha\\ln\\alpha)$"
      ],
      "text/plain": [
       "<mlgrad.func.Quantile_AlphaLog at 0x107df7c00>"
      ]
     },
     "execution_count": 16,
     "metadata": {},
     "output_type": "execute_result"
    }
   ],
   "source": [
    "penalty_func = func.Quantile_AlphaLog(0.001, 0.5)\n",
    "penalty_func"
   ]
  },
  {
   "cell_type": "code",
   "execution_count": 17,
   "metadata": {
    "collapsed": true,
    "deletable": true,
    "editable": true
   },
   "outputs": [],
   "source": [
    "param_init = np.random.random((2,))\n",
    "lm_learn1 = model.LinearModel(param_init.copy())"
   ]
  },
  {
   "cell_type": "code",
   "execution_count": 43,
   "metadata": {
    "collapsed": false,
    "deletable": true,
    "editable": true
   },
   "outputs": [
    {
     "name": "stdout",
     "output_type": "stream",
     "text": [
      "M: 1001 K: 168\n"
     ]
    }
   ],
   "source": [
    "avrfunc = avragg.Average_AdaM(penalty_func, h=0.2, tol=1.0e-4)\n",
    "fg = gd.AdaM(lm_learn1, loss_func, h=0.01, tol=1.0e-4)\n",
    "alg1 = pbfg\n",
    "alg1.fit(X, Y)\n",
    "print(\"M:\", alg1.M, \"K:\", fg.K)"
   ]
  },
  {
   "cell_type": "code",
   "execution_count": 44,
   "metadata": {
    "collapsed": false,
    "deletable": true,
    "editable": true
   },
   "outputs": [
    {
     "data": {
      "text/latex": [
       "$y(\\mathbf{x})=2.00+0.75x_{1}$"
      ],
      "text/plain": [
       "<mlgrad.model.LinearModel at 0x1077adb10>"
      ]
     },
     "execution_count": 44,
     "metadata": {},
     "output_type": "execute_result"
    }
   ],
   "source": [
    "lm_learn1"
   ]
  },
  {
   "cell_type": "code",
   "execution_count": 29,
   "metadata": {
    "collapsed": false,
    "deletable": true,
    "editable": true
   },
   "outputs": [
    {
     "name": "stdout",
     "output_type": "stream",
     "text": [
      "K: 240\n"
     ]
    }
   ],
   "source": [
    "param_init2 = np.random.random((2,))\n",
    "lm_learn2 = model.LinearModel(param_init2)\n",
    "\n",
    "alg2 = gd.AdaM(lm_learn2, loss_func, h=0.1, tol=1.0e-7, n_iter=10000)\n",
    "alg2.fit(X, Y)\n",
    "print(\"K:\", alg2.K)"
   ]
  },
  {
   "cell_type": "code",
   "execution_count": 30,
   "metadata": {
    "collapsed": false,
    "deletable": true,
    "editable": true
   },
   "outputs": [
    {
     "data": {
      "text/latex": [
       "$y(\\mathbf{x})=2.55+0.50x_{1}$"
      ],
      "text/plain": [
       "<mlgrad.model.LinearModel at 0x1078c53d0>"
      ]
     },
     "execution_count": 30,
     "metadata": {},
     "output_type": "execute_result"
    }
   ],
   "source": [
    "lm_learn2"
   ]
  },
  {
   "cell_type": "code",
   "execution_count": 45,
   "metadata": {
    "collapsed": false,
    "deletable": true,
    "editable": true
   },
   "outputs": [
    {
     "data": {
      "image/png": "[encoded data removed]",
      "text/plain": [
       "<matplotlib.figure.Figure at 0x107a80b38>"
      ]
     },
     "metadata": {},
     "output_type": "display_data"
    }
   ],
   "source": [
    "plt.figure(figsize=(6.0, 5.0))\n",
    "plt.title('Animals dataset')\n",
    "X0 = np.linspace(-4., 12., 20)\n",
    "plt.scatter(X, Y, s=64, c='w', edgecolors='k', linewidths=2., label='data')\n",
    "plt.plot(X0, lm_learn1.evaluate_all(X0.reshape(-1,1)), c='k', label=r'LMedS$_\\alpha$')\n",
    "plt.plot(X0, lm_learn2.evaluate_all(X0.reshape(-1,1)), c='k', marker='*', markersize=8, label=r'LMS')\n",
    "plt.minorticks_on()\n",
    "plt.grid(1)\n",
    "plt.legend(loc='best')\n",
    "plt.xlim(-5., 13.)\n",
    "plt.ylim(-2., 12.)\n",
    "plt.show()"
   ]
  },
  {
   "cell_type": "code",
   "execution_count": null,
   "metadata": {
    "collapsed": true,
    "deletable": true,
    "editable": true
   },
   "outputs": [],
   "source": []
  }
 ],
 "metadata": {
  "kernelspec": {
   "display_name": "Python 3",
   "language": "python",
   "name": "python3"
  },
  "language_info": {
   "codemirror_mode": {
    "name": "ipython",
    "version": 3
   },
   "file_extension": ".py",
   "mimetype": "text/x-python",
   "name": "python",
   "nbconvert_exporter": "python",
   "pygments_lexer": "ipython3",
   "version": "3.5.3"
  }
 },
 "nbformat": 4,
 "nbformat_minor": 0
}
