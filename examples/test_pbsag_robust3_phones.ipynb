{
 "cells": [
  {
   "cell_type": "code",
   "execution_count": 1,
   "metadata": {
    "collapsed": false,
    "deletable": true,
    "editable": true
   },
   "outputs": [],
   "source": [
    "import numpy as np\n",
    "import mlgrad.model as model\n",
    "import mlgrad.loss as loss\n",
    "import mlgrad.func as func\n",
    "import mlgrad.avragg as avragg\n",
    "import mlgrad.averager as averager\n",
    "import mlgrad.gd as gd\n",
    "import mlgrad.pbfg as pbfg\n",
    "\n",
    "import sklearn.linear_model as sklm\n",
    "\n",
    "import pandas as pd\n",
    "import matplotlib.pyplot as plt"
   ]
  },
  {
   "cell_type": "code",
   "execution_count": 2,
   "metadata": {
    "collapsed": false,
    "deletable": true,
    "editable": true
   },
   "outputs": [],
   "source": [
    "df = pd.read_csv(\"data/phones.dat\", sep=' ', names=[\"year\", \"calls\"])\n",
    "#df"
   ]
  },
  {
   "cell_type": "code",
   "execution_count": 3,
   "metadata": {
    "collapsed": false,
    "deletable": true,
    "editable": true
   },
   "outputs": [
    {
     "data": {
      "image/png": "[encoded data removed]",
      "text/plain": [
       "<matplotlib.figure.Figure at 0x10a1cf438>"
      ]
     },
     "metadata": {},
     "output_type": "display_data"
    }
   ],
   "source": [
    "plt.figure(figsize=(7.0, 4.0))\n",
    "plt.scatter(df[\"year\"], df[\"calls\"], s=64, marker='o', c='w', edgecolors='k', linewidths=2., label='data')\n",
    "plt.minorticks_on()\n",
    "plt.grid(1)\n",
    "plt.show()"
   ]
  },
  {
   "cell_type": "code",
   "execution_count": 4,
   "metadata": {
    "collapsed": false,
    "deletable": true,
    "editable": true
   },
   "outputs": [],
   "source": [
    "X = df[\"year\"].values.reshape((-1,1))\n",
    "X = np.asarray(X, \"d\") - 50.\n",
    "Y = df[\"calls\"].values"
   ]
  },
  {
   "cell_type": "code",
   "execution_count": 13,
   "metadata": {
    "collapsed": false,
    "deletable": true,
    "editable": true
   },
   "outputs": [
    {
     "data": {
      "text/latex": [
       "$\\ell(y - \\tilde y)$"
      ],
      "text/plain": [
       "<mlgrad.loss.ErrorLoss at 0x10aa1e9b0>"
      ]
     },
     "execution_count": 13,
     "metadata": {},
     "output_type": "execute_result"
    }
   ],
   "source": [
    "loss_func = loss.ErrorLoss(func.Square())\n",
    "loss_func"
   ]
  },
  {
   "cell_type": "code",
   "execution_count": 14,
   "metadata": {
    "collapsed": false,
    "deletable": true,
    "editable": true
   },
   "outputs": [
    {
     "data": {
      "text/latex": [
       "$ρ_q(x)=\\mathrm{sign}_q(x)(|x| - \\alpha\\ln(\\alpha+|x|)+\\alpha\\ln\\alpha)$"
      ],
      "text/plain": [
       "<mlgrad.func.Quantile_AlphaLog at 0x10aa500f0>"
      ]
     },
     "execution_count": 14,
     "metadata": {},
     "output_type": "execute_result"
    }
   ],
   "source": [
    "penalty_func = func.Quantile_AlphaLog(0.001, 0.5)\n",
    "penalty_func"
   ]
  },
  {
   "cell_type": "code",
   "execution_count": 15,
   "metadata": {
    "collapsed": false,
    "deletable": true,
    "editable": true
   },
   "outputs": [
    {
     "name": "stdout",
     "output_type": "stream",
     "text": [
      "M: 52 K: 2 [ 0.10604779  0.14142701]\n"
     ]
    }
   ],
   "source": [
    "param_init = np.random.random((2,))\n",
    "lm_learn = model.LinearModel(param_init)\n",
    "\n",
    "avrfunc = avragg.Average_FG(penalty_func, h=0.01, tol=1.0e-5)\n",
    "fg = gd.FG(lm_learn, loss_func, h=0.01, tol=1.0e-5)\n",
    "#fg.use_gradient_averager(averager.ArrayAdaM1())\n",
    "alg = pbfg.PbFG(avrfunc, fg, tol=1.0e-4)\n",
    "alg.fit(X, Y)\n",
    "print(\"M:\", alg.K, \"K:\", fg.K, lm_learn.param.base)"
   ]
  },
  {
   "cell_type": "code",
   "execution_count": 16,
   "metadata": {
    "collapsed": false,
    "deletable": true,
    "editable": true
   },
   "outputs": [
    {
     "data": {
      "text/latex": [
       "$y(\\mathbf{x})=0.11+0.14x_{1}$"
      ],
      "text/plain": [
       "<mlgrad.model.LinearModel at 0x10a9ea3d0>"
      ]
     },
     "execution_count": 16,
     "metadata": {},
     "output_type": "execute_result"
    }
   ],
   "source": [
    "lm_learn"
   ]
  },
  {
   "cell_type": "code",
   "execution_count": 17,
   "metadata": {
    "collapsed": false,
    "deletable": true,
    "editable": true
   },
   "outputs": [
    {
     "name": "stdout",
     "output_type": "stream",
     "text": [
      "K: 423\n"
     ]
    }
   ],
   "source": [
    "param_init2 = np.random.random((2,))\n",
    "lm_learn2 = model.LinearModel(param_init2)\n",
    "\n",
    "alg2 = gd.FG(lm_learn2, loss_func, h=0.01)\n",
    "#alg2.use_gradient_averager(averager.ArrayAdaM1())\n",
    "alg2.fit(X, Y)\n",
    "print(\"K:\", alg2.K)"
   ]
  },
  {
   "cell_type": "code",
   "execution_count": 18,
   "metadata": {
    "collapsed": false,
    "deletable": true,
    "editable": true
   },
   "outputs": [
    {
     "data": {
      "text/latex": [
       "$y(\\mathbf{x})=-0.33+0.47x_{1}$"
      ],
      "text/plain": [
       "<mlgrad.model.LinearModel at 0x10a9ea4b8>"
      ]
     },
     "execution_count": 18,
     "metadata": {},
     "output_type": "execute_result"
    }
   ],
   "source": [
    "lm_learn2"
   ]
  },
  {
   "cell_type": "code",
   "execution_count": 19,
   "metadata": {
    "collapsed": false,
    "deletable": true,
    "editable": true
   },
   "outputs": [
    {
     "data": {
      "image/png": "[encoded data removed]",
      "text/plain": [
       "<matplotlib.figure.Figure at 0x10aa56400>"
      ]
     },
     "metadata": {},
     "output_type": "display_data"
    }
   ],
   "source": [
    "plt.figure(figsize=(6.0, 5.0))\n",
    "X0 = np.linspace(-1, 25, 20)\n",
    "plt.title('Phones dataset')\n",
    "plt.scatter(X, Y, s=64, c='w', edgecolors='k', linewidths=2.)\n",
    "plt.plot(X0, lm_learn.evaluate_all(X0.reshape(-1,1)), c='k', label=r'LMedS$_\\alpha$')\n",
    "plt.plot(X0, lm_learn2.evaluate_all(X0.reshape(-1,1)), marker='*', markersize=8, c='k', label='LMS')\n",
    "plt.minorticks_on()\n",
    "plt.grid(1)\n",
    "plt.legend(loc='upper left')\n",
    "plt.ylim(-1,23)\n",
    "plt.xlim(-1,24)\n",
    "plt.show()"
   ]
  },
  {
   "cell_type": "code",
   "execution_count": null,
   "metadata": {
    "collapsed": true,
    "deletable": true,
    "editable": true
   },
   "outputs": [],
   "source": []
  }
 ],
 "metadata": {
  "kernelspec": {
   "display_name": "Python 3",
   "language": "python",
   "name": "python3"
  },
  "language_info": {
   "codemirror_mode": {
    "name": "ipython",
    "version": 3
   },
   "file_extension": ".py",
   "mimetype": "text/x-python",
   "name": "python",
   "nbconvert_exporter": "python",
   "pygments_lexer": "ipython3",
   "version": "3.6.4"
  }
 },
 "nbformat": 4,
 "nbformat_minor": 2
}
