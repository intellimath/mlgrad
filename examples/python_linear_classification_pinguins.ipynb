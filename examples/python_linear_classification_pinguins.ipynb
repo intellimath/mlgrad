{
 "cells": [
  {
   "cell_type": "code",
   "execution_count": 12,
   "id": "5fc4cbba-dc34-468b-bd25-205aa7727541",
   "metadata": {
    "execution": {
     "iopub.execute_input": "2025-04-06T17:51:18.916459Z",
     "iopub.status.busy": "2025-04-06T17:51:18.915813Z",
     "iopub.status.idle": "2025-04-06T17:51:19.254919Z",
     "shell.execute_reply": "2025-04-06T17:51:19.254058Z",
     "shell.execute_reply.started": "2025-04-06T17:51:18.916413Z"
    }
   },
   "outputs": [],
   "source": [
    "import matplotlib.pyplot as plt\n",
    "import sklearn.datasets as datasets\n",
    "import numpy as np\n",
    "import pandas as pd\n",
    "import sklearn.preprocessing as preprocessing\n",
    "import sklearn.decomposition as decomposition"
   ]
  },
  {
   "cell_type": "code",
   "execution_count": 20,
   "id": "97f19787-f813-46d2-8a9a-9a532174f3e6",
   "metadata": {
    "execution": {
     "iopub.execute_input": "2025-04-06T17:56:48.039755Z",
     "iopub.status.busy": "2025-04-06T17:56:48.039063Z",
     "iopub.status.idle": "2025-04-06T17:56:48.067236Z",
     "shell.execute_reply": "2025-04-06T17:56:48.066401Z",
     "shell.execute_reply.started": "2025-04-06T17:56:48.039713Z"
    }
   },
   "outputs": [
    {
     "data": {
      "text/html": [
       "<div>\n",
       "<style scoped>\n",
       "    .dataframe tbody tr th:only-of-type {\n",
       "        vertical-align: middle;\n",
       "    }\n",
       "\n",
       "    .dataframe tbody tr th {\n",
       "        vertical-align: top;\n",
       "    }\n",
       "\n",
       "    .dataframe thead th {\n",
       "        text-align: right;\n",
       "    }\n",
       "</style>\n",
       "<table border=\"1\" class=\"dataframe\">\n",
       "  <thead>\n",
       "    <tr style=\"text-align: right;\">\n",
       "      <th></th>\n",
       "      <th>species</th>\n",
       "      <th>island</th>\n",
       "      <th>bill_length_mm</th>\n",
       "      <th>bill_depth_mm</th>\n",
       "      <th>flipper_length_mm</th>\n",
       "      <th>body_mass_g</th>\n",
       "      <th>sex</th>\n",
       "    </tr>\n",
       "  </thead>\n",
       "  <tbody>\n",
       "    <tr>\n",
       "      <th>0</th>\n",
       "      <td>Adelie</td>\n",
       "      <td>Torgersen</td>\n",
       "      <td>39.1</td>\n",
       "      <td>18.7</td>\n",
       "      <td>181.0</td>\n",
       "      <td>3750.0</td>\n",
       "      <td>MALE</td>\n",
       "    </tr>\n",
       "    <tr>\n",
       "      <th>1</th>\n",
       "      <td>Adelie</td>\n",
       "      <td>Torgersen</td>\n",
       "      <td>39.5</td>\n",
       "      <td>17.4</td>\n",
       "      <td>186.0</td>\n",
       "      <td>3800.0</td>\n",
       "      <td>FEMALE</td>\n",
       "    </tr>\n",
       "    <tr>\n",
       "      <th>2</th>\n",
       "      <td>Adelie</td>\n",
       "      <td>Torgersen</td>\n",
       "      <td>40.3</td>\n",
       "      <td>18.0</td>\n",
       "      <td>195.0</td>\n",
       "      <td>3250.0</td>\n",
       "      <td>FEMALE</td>\n",
       "    </tr>\n",
       "    <tr>\n",
       "      <th>4</th>\n",
       "      <td>Adelie</td>\n",
       "      <td>Torgersen</td>\n",
       "      <td>36.7</td>\n",
       "      <td>19.3</td>\n",
       "      <td>193.0</td>\n",
       "      <td>3450.0</td>\n",
       "      <td>FEMALE</td>\n",
       "    </tr>\n",
       "    <tr>\n",
       "      <th>5</th>\n",
       "      <td>Adelie</td>\n",
       "      <td>Torgersen</td>\n",
       "      <td>39.3</td>\n",
       "      <td>20.6</td>\n",
       "      <td>190.0</td>\n",
       "      <td>3650.0</td>\n",
       "      <td>MALE</td>\n",
       "    </tr>\n",
       "    <tr>\n",
       "      <th>...</th>\n",
       "      <td>...</td>\n",
       "      <td>...</td>\n",
       "      <td>...</td>\n",
       "      <td>...</td>\n",
       "      <td>...</td>\n",
       "      <td>...</td>\n",
       "      <td>...</td>\n",
       "    </tr>\n",
       "    <tr>\n",
       "      <th>338</th>\n",
       "      <td>Gentoo</td>\n",
       "      <td>Biscoe</td>\n",
       "      <td>47.2</td>\n",
       "      <td>13.7</td>\n",
       "      <td>214.0</td>\n",
       "      <td>4925.0</td>\n",
       "      <td>FEMALE</td>\n",
       "    </tr>\n",
       "    <tr>\n",
       "      <th>340</th>\n",
       "      <td>Gentoo</td>\n",
       "      <td>Biscoe</td>\n",
       "      <td>46.8</td>\n",
       "      <td>14.3</td>\n",
       "      <td>215.0</td>\n",
       "      <td>4850.0</td>\n",
       "      <td>FEMALE</td>\n",
       "    </tr>\n",
       "    <tr>\n",
       "      <th>341</th>\n",
       "      <td>Gentoo</td>\n",
       "      <td>Biscoe</td>\n",
       "      <td>50.4</td>\n",
       "      <td>15.7</td>\n",
       "      <td>222.0</td>\n",
       "      <td>5750.0</td>\n",
       "      <td>MALE</td>\n",
       "    </tr>\n",
       "    <tr>\n",
       "      <th>342</th>\n",
       "      <td>Gentoo</td>\n",
       "      <td>Biscoe</td>\n",
       "      <td>45.2</td>\n",
       "      <td>14.8</td>\n",
       "      <td>212.0</td>\n",
       "      <td>5200.0</td>\n",
       "      <td>FEMALE</td>\n",
       "    </tr>\n",
       "    <tr>\n",
       "      <th>343</th>\n",
       "      <td>Gentoo</td>\n",
       "      <td>Biscoe</td>\n",
       "      <td>49.9</td>\n",
       "      <td>16.1</td>\n",
       "      <td>213.0</td>\n",
       "      <td>5400.0</td>\n",
       "      <td>MALE</td>\n",
       "    </tr>\n",
       "  </tbody>\n",
       "</table>\n",
       "<p>333 rows × 7 columns</p>\n",
       "</div>"
      ],
      "text/plain": [
       "    species     island  bill_length_mm  bill_depth_mm  flipper_length_mm  \\\n",
       "0    Adelie  Torgersen            39.1           18.7              181.0   \n",
       "1    Adelie  Torgersen            39.5           17.4              186.0   \n",
       "2    Adelie  Torgersen            40.3           18.0              195.0   \n",
       "4    Adelie  Torgersen            36.7           19.3              193.0   \n",
       "5    Adelie  Torgersen            39.3           20.6              190.0   \n",
       "..      ...        ...             ...            ...                ...   \n",
       "338  Gentoo     Biscoe            47.2           13.7              214.0   \n",
       "340  Gentoo     Biscoe            46.8           14.3              215.0   \n",
       "341  Gentoo     Biscoe            50.4           15.7              222.0   \n",
       "342  Gentoo     Biscoe            45.2           14.8              212.0   \n",
       "343  Gentoo     Biscoe            49.9           16.1              213.0   \n",
       "\n",
       "     body_mass_g     sex  \n",
       "0         3750.0    MALE  \n",
       "1         3800.0  FEMALE  \n",
       "2         3250.0  FEMALE  \n",
       "4         3450.0  FEMALE  \n",
       "5         3650.0    MALE  \n",
       "..           ...     ...  \n",
       "338       4925.0  FEMALE  \n",
       "340       4850.0  FEMALE  \n",
       "341       5750.0    MALE  \n",
       "342       5200.0  FEMALE  \n",
       "343       5400.0    MALE  \n",
       "\n",
       "[333 rows x 7 columns]"
      ]
     },
     "execution_count": 20,
     "metadata": {},
     "output_type": "execute_result"
    }
   ],
   "source": [
    "df = pd.read_csv(\"data/penguins.csv\", sep=\",\")\n",
    "df.dropna(inplace=True)\n",
    "df.dropna(subset=['sex'])\n",
    "df"
   ]
  },
  {
   "cell_type": "code",
   "execution_count": 26,
   "id": "f78ef12a-2b73-4af5-9e9d-d457a964246b",
   "metadata": {
    "execution": {
     "iopub.execute_input": "2025-04-06T17:57:15.218930Z",
     "iopub.status.busy": "2025-04-06T17:57:15.218094Z",
     "iopub.status.idle": "2025-04-06T17:57:15.228601Z",
     "shell.execute_reply": "2025-04-06T17:57:15.227795Z",
     "shell.execute_reply.started": "2025-04-06T17:57:15.218880Z"
    }
   },
   "outputs": [
    {
     "name": "stdout",
     "output_type": "stream",
     "text": [
      "[[-0.89604189  0.7807321  -1.42675157 -0.56847478]\n",
      " [-0.82278787  0.11958397 -1.06947358 -0.50628618]\n",
      " [-0.67627982  0.42472926 -0.42637319 -1.1903608 ]\n",
      " ...\n",
      " [ 1.17338426 -0.74499437  1.50292796  1.91906927]\n",
      " [ 0.22108196 -1.20271231  0.78837197  1.23499466]\n",
      " [ 1.08181673 -0.54156417  0.85982757  1.48374906]]\n"
     ]
    }
   ],
   "source": [
    "sex_col = df[\"sex\"]\n",
    "Y = np.array(sex_col.apply(lambda n: 1.0 if n == \"MALE\" else -1.0))\n",
    "\n",
    "X = np.c_[df.bill_length_mm.values, \n",
    "          df.bill_depth_mm.values,\n",
    "          df.flipper_length_mm.values,\n",
    "          df.body_mass_g.values]\n",
    "X = preprocessing.scale(X)\n",
    "print(X)"
   ]
  },
  {
   "cell_type": "code",
   "execution_count": 32,
   "id": "b5fa3651-5310-4dfd-a33f-eb5cb601dac3",
   "metadata": {
    "execution": {
     "iopub.execute_input": "2025-04-06T17:57:35.475731Z",
     "iopub.status.busy": "2025-04-06T17:57:35.474995Z",
     "iopub.status.idle": "2025-04-06T17:57:35.483295Z",
     "shell.execute_reply": "2025-04-06T17:57:35.481635Z",
     "shell.execute_reply.started": "2025-04-06T17:57:35.475671Z"
    }
   },
   "outputs": [],
   "source": [
    "Is = np.argsort(Y)\n",
    "Y = Y[Is]\n",
    "X = X[Is]"
   ]
  },
  {
   "cell_type": "code",
   "execution_count": 28,
   "id": "3e20b866-da1e-4d5f-a541-2f19131e176e",
   "metadata": {
    "execution": {
     "iopub.execute_input": "2025-04-06T17:57:17.503299Z",
     "iopub.status.busy": "2025-04-06T17:57:17.502968Z",
     "iopub.status.idle": "2025-04-06T17:57:17.506918Z",
     "shell.execute_reply": "2025-04-06T17:57:17.506228Z",
     "shell.execute_reply.started": "2025-04-06T17:57:17.503267Z"
    }
   },
   "outputs": [],
   "source": [
    "import sklearn.decomposition as decomposition"
   ]
  },
  {
   "cell_type": "code",
   "execution_count": 29,
   "id": "81ae1b6e-5cd6-4b6d-9dae-a944b145c32b",
   "metadata": {
    "execution": {
     "iopub.execute_input": "2025-04-06T17:57:18.341371Z",
     "iopub.status.busy": "2025-04-06T17:57:18.341157Z",
     "iopub.status.idle": "2025-04-06T17:57:18.345043Z",
     "shell.execute_reply": "2025-04-06T17:57:18.344569Z",
     "shell.execute_reply.started": "2025-04-06T17:57:18.341354Z"
    }
   },
   "outputs": [],
   "source": [
    "pca = decomposition.PCA(2)\n",
    "U = pca.fit_transform(X)"
   ]
  },
  {
   "cell_type": "code",
   "execution_count": 30,
   "id": "4c32f1b4-0e6d-47e0-8fd5-b7d0277b43d6",
   "metadata": {
    "execution": {
     "iopub.execute_input": "2025-04-06T17:57:19.211420Z",
     "iopub.status.busy": "2025-04-06T17:57:19.211060Z",
     "iopub.status.idle": "2025-04-06T17:57:19.614467Z",
     "shell.execute_reply": "2025-04-06T17:57:19.613275Z",
     "shell.execute_reply.started": "2025-04-06T17:57:19.211386Z"
    }
   },
   "outputs": [
    {
     "data": {
      "image/png": "[encoded data removed]",
      "text/plain": [
       "<Figure size 640x480 with 2 Axes>"
      ]
     },
     "metadata": {},
     "output_type": "display_data"
    }
   ],
   "source": [
    "cs = plt.scatter(U[:,0], U[:,1], c=Y)\n",
    "plt.colorbar(cs, ticks=[-1,1])\n",
    "plt.show()"
   ]
  },
  {
   "cell_type": "code",
   "execution_count": null,
   "id": "1fd21eec-f0df-4a9e-8ef0-17f843228652",
   "metadata": {},
   "outputs": [],
   "source": []
  }
 ],
 "metadata": {
  "kernelspec": {
   "display_name": "Python 3 (ipykernel)",
   "language": "python",
   "name": "python3"
  },
  "language_info": {
   "codemirror_mode": {
    "name": "ipython",
    "version": 3
   },
   "file_extension": ".py",
   "mimetype": "text/x-python",
   "name": "python",
   "nbconvert_exporter": "python",
   "pygments_lexer": "ipython3",
   "version": "3.13.2"
  }
 },
 "nbformat": 4,
 "nbformat_minor": 5
}
