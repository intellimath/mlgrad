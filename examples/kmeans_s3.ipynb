{
 "cells": [
  {
   "cell_type": "code",
   "execution_count": 1,
   "metadata": {
    "collapsed": false,
    "execution": {
     "iopub.execute_input": "2024-04-30T17:40:39.132934Z",
     "iopub.status.busy": "2024-04-30T17:40:39.132309Z",
     "iopub.status.idle": "2024-04-30T17:40:40.571815Z",
     "shell.execute_reply": "2024-04-30T17:40:40.570055Z",
     "shell.execute_reply.started": "2024-04-30T17:40:39.132901Z"
    },
    "jupyter": {
     "outputs_hidden": false
    }
   },
   "outputs": [],
   "source": [
    "import numpy as np\n",
    "import pandas as pd\n",
    "from math import sqrt\n",
    "\n",
    "from mlgrad.cluster import KMeans, KMeansMahalanobis"
   ]
  },
  {
   "cell_type": "code",
   "execution_count": 2,
   "metadata": {
    "execution": {
     "iopub.execute_input": "2024-04-30T17:40:40.575109Z",
     "iopub.status.busy": "2024-04-30T17:40:40.574570Z",
     "iopub.status.idle": "2024-04-30T17:40:40.586835Z",
     "shell.execute_reply": "2024-04-30T17:40:40.585142Z",
     "shell.execute_reply.started": "2024-04-30T17:40:40.575053Z"
    }
   },
   "outputs": [],
   "source": [
    "def permutate_values(Yp, Y, m):\n",
    "    d = {}\n",
    "    for yp,y in zip(Yp, Y):\n",
    "        c = d.setdefault((yp,y), 0)\n",
    "        d[(yp,y)] = c+1\n",
    "    print(d)\n",
    "    values = np.array(list(d.values()))\n",
    "    keys = list(d.keys())\n",
    "    indices = list(np.argsort(values))\n",
    "    keys = [keys[indices[-i]] for i in range(1,m+1)]\n",
    "    print(keys)\n",
    "    d = dict(keys)\n",
    "    for i in range(len(Y)):\n",
    "        yp = Yp[i]\n",
    "        Yp[i] = d[yp]"
   ]
  },
  {
   "cell_type": "code",
   "execution_count": 4,
   "metadata": {
    "collapsed": false,
    "execution": {
     "iopub.execute_input": "2024-04-30T17:40:50.002979Z",
     "iopub.status.busy": "2024-04-30T17:40:50.002620Z",
     "iopub.status.idle": "2024-04-30T17:40:50.024880Z",
     "shell.execute_reply": "2024-04-30T17:40:50.023973Z",
     "shell.execute_reply.started": "2024-04-30T17:40:50.002946Z"
    },
    "jupyter": {
     "outputs_hidden": false
    }
   },
   "outputs": [],
   "source": [
    "sdata = pd.read_csv(\"data/cbb/s2.txt\", names=['x1', 'x2'], sep='\\s+')"
   ]
  },
  {
   "cell_type": "code",
   "execution_count": 6,
   "metadata": {
    "collapsed": false,
    "execution": {
     "iopub.execute_input": "2024-04-30T17:41:00.986592Z",
     "iopub.status.busy": "2024-04-30T17:41:00.985847Z",
     "iopub.status.idle": "2024-04-30T17:41:00.995805Z",
     "shell.execute_reply": "2024-04-30T17:41:00.994881Z",
     "shell.execute_reply.started": "2024-04-30T17:41:00.986541Z"
    },
    "jupyter": {
     "outputs_hidden": false
    }
   },
   "outputs": [
    {
     "name": "stdout",
     "output_type": "stream",
     "text": [
      "5000\n",
      "[[845753. 636607.]\n",
      " [812954. 643720.]\n",
      " [868217. 609046.]\n",
      " ...\n",
      " [706472. 171207.]\n",
      " [659128. 142611.]\n",
      " [665898.  98088.]]\n"
     ]
    }
   ],
   "source": [
    "X = np.c_[sdata['x1'], sdata['x2']]\n",
    "X = np.ascontiguousarray(X, 'd')\n",
    "# X = scale(X)  \n",
    "print(len(X))\n",
    "print(X)"
   ]
  },
  {
   "cell_type": "code",
   "execution_count": 7,
   "metadata": {
    "execution": {
     "iopub.execute_input": "2024-04-30T17:41:03.078288Z",
     "iopub.status.busy": "2024-04-30T17:41:03.077183Z",
     "iopub.status.idle": "2024-04-30T17:41:03.086685Z",
     "shell.execute_reply": "2024-04-30T17:41:03.085742Z",
     "shell.execute_reply.started": "2024-04-30T17:41:03.078230Z"
    }
   },
   "outputs": [],
   "source": [
    "x1_min, x1_max = X[:,0].min(), X[:,0].max()\n",
    "x2_min, x2_max = X[:,1].min(), X[:,1].max()\n",
    "x_min = min(x1_min, x2_min)\n",
    "x_max = max(x1_max, x2_max)\n",
    "extent = (x_min, x_max, x_min, x_max)\n",
    "xrange1 = np.linspace(x_min, x_max, 100)\n",
    "xrange2 = np.linspace(x_min, x_max, 100)\n",
    "XX1, XX2, = np.meshgrid(xrange1, xrange2)\n",
    "XX = np.c_[XX1.ravel(), XX2.ravel()]"
   ]
  },
  {
   "cell_type": "code",
   "execution_count": 8,
   "metadata": {
    "execution": {
     "iopub.execute_input": "2024-04-30T17:41:04.035345Z",
     "iopub.status.busy": "2024-04-30T17:41:04.035040Z",
     "iopub.status.idle": "2024-04-30T17:41:04.067221Z",
     "shell.execute_reply": "2024-04-30T17:41:04.064106Z",
     "shell.execute_reply.started": "2024-04-30T17:41:04.035318Z"
    }
   },
   "outputs": [
    {
     "ename": "NameError",
     "evalue": "name 'plt' is not defined",
     "output_type": "error",
     "traceback": [
      "\u001b[0;31m---------------------------------------------------------------------------\u001b[0m",
      "\u001b[0;31mNameError\u001b[0m                                 Traceback (most recent call last)",
      "Cell \u001b[0;32mIn [8], line 1\u001b[0m\n\u001b[0;32m----> 1\u001b[0m \u001b[43mplt\u001b[49m\u001b[38;5;241m.\u001b[39mfigure(figsize\u001b[38;5;241m=\u001b[39m(\u001b[38;5;241m6\u001b[39m,\u001b[38;5;241m5\u001b[39m))\n\u001b[1;32m      2\u001b[0m plt\u001b[38;5;241m.\u001b[39mscatter(X[:,\u001b[38;5;241m0\u001b[39m], X[:,\u001b[38;5;241m1\u001b[39m], c\u001b[38;5;241m=\u001b[39m\u001b[38;5;124m'\u001b[39m\u001b[38;5;124mk\u001b[39m\u001b[38;5;124m'\u001b[39m, edgecolors\u001b[38;5;241m=\u001b[39m\u001b[38;5;124m'\u001b[39m\u001b[38;5;124mw\u001b[39m\u001b[38;5;124m'\u001b[39m, marker\u001b[38;5;241m=\u001b[39m\u001b[38;5;124m'\u001b[39m\u001b[38;5;124ms\u001b[39m\u001b[38;5;124m'\u001b[39m, s\u001b[38;5;241m=\u001b[39m\u001b[38;5;241m9\u001b[39m)\n\u001b[1;32m      3\u001b[0m plt\u001b[38;5;241m.\u001b[39mshow()\n",
      "\u001b[0;31mNameError\u001b[0m: name 'plt' is not defined"
     ]
    }
   ],
   "source": [
    "plt.figure(figsize=(6,5))\n",
    "plt.scatter(X[:,0], X[:,1], c='k', edgecolors='w', marker='s', s=9)\n",
    "plt.show()"
   ]
  },
  {
   "cell_type": "code",
   "execution_count": null,
   "metadata": {
    "execution": {
     "iopub.status.busy": "2024-04-30T17:40:41.322157Z",
     "iopub.status.idle": "2024-04-30T17:40:41.322691Z",
     "shell.execute_reply": "2024-04-30T17:40:41.322501Z",
     "shell.execute_reply.started": "2024-04-30T17:40:41.322470Z"
    }
   },
   "outputs": [],
   "source": [
    "alpha = 0.9"
   ]
  },
  {
   "cell_type": "code",
   "execution_count": null,
   "metadata": {
    "collapsed": false,
    "execution": {
     "iopub.status.busy": "2024-04-30T17:40:41.324680Z",
     "iopub.status.idle": "2024-04-30T17:40:41.325480Z",
     "shell.execute_reply": "2024-04-30T17:40:41.325205Z",
     "shell.execute_reply.started": "2024-04-30T17:40:41.325175Z"
    },
    "jupyter": {
     "outputs_hidden": false
    }
   },
   "outputs": [],
   "source": [
    "# avgmin = avragg.SoftMinimal(2.0)\n",
    "avgmin = avragg.Minimal()\n",
    "avrfunc = averager_it(func.QuantileFunc(alpha, func.Sqrt(0.001)))\n",
    "# avrfunc = averager_it(func.QuantileFunc(alpha, func.Power(1.01, 0.001)))\n",
    "avrfunc = avragg.ParameterizedAverage(func.WinsorizedSmoothFunc(func.Sqrt(0.001)), avrfunc)\n",
    "hcd = mlocation_scatter.MLocationsScattersEstimator(avrfunc, avgmin, 15, \n",
    "                                    tol=1.0e-9, n_iter=200)"
   ]
  },
  {
   "cell_type": "code",
   "execution_count": null,
   "metadata": {
    "execution": {
     "iopub.status.busy": "2024-04-30T17:40:41.326988Z",
     "iopub.status.idle": "2024-04-30T17:40:41.327408Z",
     "shell.execute_reply": "2024-04-30T17:40:41.327216Z",
     "shell.execute_reply.started": "2024-04-30T17:40:41.327196Z"
    }
   },
   "outputs": [],
   "source": [
    "hcd.fit(X)"
   ]
  },
  {
   "cell_type": "code",
   "execution_count": null,
   "metadata": {
    "execution": {
     "iopub.status.busy": "2024-04-30T17:40:41.328583Z",
     "iopub.status.idle": "2024-04-30T17:40:41.328910Z",
     "shell.execute_reply": "2024-04-30T17:40:41.328760Z",
     "shell.execute_reply.started": "2024-04-30T17:40:41.328744Z"
    }
   },
   "outputs": [],
   "source": [
    "plt.figure(figsize=(10,4))\n",
    "plt.subplot(1,2,1)\n",
    "plt.plot(hcd.dvals)\n",
    "plt.subplot(1,2,2)\n",
    "plt.plot(hcd.dvals2)\n",
    "plt.show()"
   ]
  },
  {
   "cell_type": "code",
   "execution_count": null,
   "metadata": {
    "execution": {
     "iopub.status.busy": "2024-04-30T17:40:41.330097Z",
     "iopub.status.idle": "2024-04-30T17:40:41.330461Z",
     "shell.execute_reply": "2024-04-30T17:40:41.330319Z",
     "shell.execute_reply.started": "2024-04-30T17:40:41.330301Z"
    }
   },
   "outputs": [],
   "source": [
    "D = hcd.evaluate_dist(XX)\n",
    "DD = D.reshape(XX1.shape)\n",
    "print(D.min(), D.max())"
   ]
  },
  {
   "cell_type": "code",
   "execution_count": null,
   "metadata": {
    "collapsed": false,
    "execution": {
     "iopub.status.busy": "2024-04-30T17:40:41.333153Z",
     "iopub.status.idle": "2024-04-30T17:40:41.333940Z",
     "shell.execute_reply": "2024-04-30T17:40:41.333556Z",
     "shell.execute_reply.started": "2024-04-30T17:40:41.333521Z"
    },
    "jupyter": {
     "outputs_hidden": false
    }
   },
   "outputs": [],
   "source": [
    "# plt.figure(figsize=(8,7))\n",
    "# plt.scatter(X[:,0], X[:,1], c='k', edgecolors='w', marker='s', s=9)\n",
    "# plt.contour(DD, origin='lower', extent=extent, \n",
    "#             levels=np.linspace(0.0,D.max(),100), colors='grey', linewidths=0.5)\n",
    "# plt.scatter(hcd.locs[:,0], hcd.locs[:,1], c='k', edgecolors='k', s=100)\n",
    "# plt.show()"
   ]
  },
  {
   "cell_type": "code",
   "execution_count": null,
   "metadata": {
    "execution": {
     "iopub.status.busy": "2024-04-30T17:40:41.337364Z",
     "iopub.status.idle": "2024-04-30T17:40:41.338475Z",
     "shell.execute_reply": "2024-04-30T17:40:41.338101Z",
     "shell.execute_reply.started": "2024-04-30T17:40:41.338059Z"
    }
   },
   "outputs": [],
   "source": [
    "# avgmin = avragg.SoftMinimal(2.0)\n",
    "avgmin2 = avragg.Minimal()\n",
    "avrfunc2 = averager_it(func.QuantileFunc(alpha, func.Sqrt(0.001)))\n",
    "# avrfunc = averager_it(func.QuantileFunc(alpha, func.Power(1.01, 0.001)))\n",
    "avrfunc2 = avragg.ParameterizedAverage(func.WinsorizedSmoothFunc(func.Sqrt(0.001)), avrfunc2)\n",
    "hcd2 = mlocation_scatter.MLocationsScattersEstimator(avrfunc2, avgmin2, 15, \n",
    "                                    tol=1.0e-9, n_iter=200)"
   ]
  },
  {
   "cell_type": "code",
   "execution_count": null,
   "metadata": {
    "execution": {
     "iopub.status.busy": "2024-04-30T17:40:41.340840Z",
     "iopub.status.idle": "2024-04-30T17:40:41.341302Z",
     "shell.execute_reply": "2024-04-30T17:40:41.341091Z",
     "shell.execute_reply.started": "2024-04-30T17:40:41.341071Z"
    }
   },
   "outputs": [],
   "source": [
    "hcd2.fit(X)"
   ]
  },
  {
   "cell_type": "code",
   "execution_count": null,
   "metadata": {
    "execution": {
     "iopub.status.busy": "2024-04-30T17:40:41.342566Z",
     "iopub.status.idle": "2024-04-30T17:40:41.342944Z",
     "shell.execute_reply": "2024-04-30T17:40:41.342760Z",
     "shell.execute_reply.started": "2024-04-30T17:40:41.342741Z"
    }
   },
   "outputs": [],
   "source": [
    "D_2 = hcd2.evaluate_dist(XX)\n",
    "DD_2 = D_2.reshape(XX1.shape)\n",
    "print(D_2.min(), D_2.max())"
   ]
  },
  {
   "cell_type": "markdown",
   "metadata": {},
   "source": [
    "### Среднее арифметическое"
   ]
  },
  {
   "cell_type": "code",
   "execution_count": null,
   "metadata": {
    "execution": {
     "iopub.status.busy": "2024-04-30T17:40:41.344899Z",
     "iopub.status.idle": "2024-04-30T17:40:41.345430Z",
     "shell.execute_reply": "2024-04-30T17:40:41.345209Z",
     "shell.execute_reply.started": "2024-04-30T17:40:41.345186Z"
    }
   },
   "outputs": [],
   "source": [
    "arith = avragg.ArithMean()\n",
    "km = mlocation_scatter.MLocationsScattersEstimator(arith, avgmin, 15, \n",
    "                                    tol=1.0e-9, n_iter=200)"
   ]
  },
  {
   "cell_type": "code",
   "execution_count": null,
   "metadata": {
    "execution": {
     "iopub.status.busy": "2024-04-30T17:40:41.346680Z",
     "iopub.status.idle": "2024-04-30T17:40:41.347089Z",
     "shell.execute_reply": "2024-04-30T17:40:41.346899Z",
     "shell.execute_reply.started": "2024-04-30T17:40:41.346879Z"
    }
   },
   "outputs": [],
   "source": [
    "km.fit(X)"
   ]
  },
  {
   "cell_type": "code",
   "execution_count": null,
   "metadata": {
    "execution": {
     "iopub.status.busy": "2024-04-30T17:40:41.348269Z",
     "iopub.status.idle": "2024-04-30T17:40:41.348708Z",
     "shell.execute_reply": "2024-04-30T17:40:41.348496Z",
     "shell.execute_reply.started": "2024-04-30T17:40:41.348475Z"
    }
   },
   "outputs": [],
   "source": [
    "plt.figure(figsize=(10,4))\n",
    "plt.subplot(1,2,1)\n",
    "plt.plot(km.dvals)\n",
    "plt.subplot(1,2,2)\n",
    "plt.plot(km.dvals2)\n",
    "plt.show()"
   ]
  },
  {
   "cell_type": "code",
   "execution_count": null,
   "metadata": {
    "execution": {
     "iopub.status.busy": "2024-04-30T17:40:41.349822Z",
     "iopub.status.idle": "2024-04-30T17:40:41.350269Z",
     "shell.execute_reply": "2024-04-30T17:40:41.350054Z",
     "shell.execute_reply.started": "2024-04-30T17:40:41.350029Z"
    }
   },
   "outputs": [],
   "source": [
    "D2 = km.evaluate_dist(XX)\n",
    "DD2 = D2.reshape(XX1.shape)\n",
    "print(D2.min(), D2.max())"
   ]
  },
  {
   "cell_type": "code",
   "execution_count": null,
   "metadata": {
    "execution": {
     "iopub.status.busy": "2024-04-30T17:40:41.351523Z",
     "iopub.status.idle": "2024-04-30T17:40:41.351915Z",
     "shell.execute_reply": "2024-04-30T17:40:41.351731Z",
     "shell.execute_reply.started": "2024-04-30T17:40:41.351712Z"
    }
   },
   "outputs": [],
   "source": [
    "# plt.figure(figsize=(7,6))\n",
    "# plt.contour(DD2, origin='lower', extent=extent, \n",
    "#             levels=np.linspace(0.,D2.max(),100), colors='grey', linewidths=0.5)\n",
    "# plt.scatter(X[:,0], X[:,1], c='k', edgecolors='w', marker='s', s=9)\n",
    "# plt.scatter(km.locs[:,0], km.locs[:,1], c='k', edgecolors='w', s=100)\n",
    "# plt.show()"
   ]
  },
  {
   "cell_type": "code",
   "execution_count": null,
   "metadata": {
    "execution": {
     "iopub.status.busy": "2024-04-30T17:40:41.353122Z",
     "iopub.status.idle": "2024-04-30T17:40:41.353622Z",
     "shell.execute_reply": "2024-04-30T17:40:41.353394Z",
     "shell.execute_reply.started": "2024-04-30T17:40:41.353367Z"
    }
   },
   "outputs": [],
   "source": [
    "arith2 = avragg.ArithMean()\n",
    "km2 = mlocation_scatter.MLocationsScattersEstimator(arith2, avgmin, 15, \n",
    "                                    tol=1.0e-9, n_iter=200)"
   ]
  },
  {
   "cell_type": "code",
   "execution_count": null,
   "metadata": {
    "execution": {
     "iopub.status.busy": "2024-04-30T17:40:41.354657Z",
     "iopub.status.idle": "2024-04-30T17:40:41.355321Z",
     "shell.execute_reply": "2024-04-30T17:40:41.354942Z",
     "shell.execute_reply.started": "2024-04-30T17:40:41.354917Z"
    }
   },
   "outputs": [],
   "source": [
    "km2.fit(X)"
   ]
  },
  {
   "cell_type": "code",
   "execution_count": null,
   "metadata": {
    "execution": {
     "iopub.status.busy": "2024-04-30T17:40:41.357458Z",
     "iopub.status.idle": "2024-04-30T17:40:41.357987Z",
     "shell.execute_reply": "2024-04-30T17:40:41.357790Z",
     "shell.execute_reply.started": "2024-04-30T17:40:41.357769Z"
    }
   },
   "outputs": [],
   "source": [
    "D2_2 = km2.evaluate_dist(XX)\n",
    "DD2_2 = D2_2.reshape(XX1.shape)\n",
    "print(D2_2.min(), D2_2.max())"
   ]
  },
  {
   "cell_type": "code",
   "execution_count": null,
   "metadata": {
    "execution": {
     "iopub.status.busy": "2024-04-30T17:40:41.358871Z",
     "iopub.status.idle": "2024-04-30T17:40:41.359175Z",
     "shell.execute_reply": "2024-04-30T17:40:41.359036Z",
     "shell.execute_reply.started": "2024-04-30T17:40:41.359021Z"
    }
   },
   "outputs": [],
   "source": [
    "plt.figure(figsize=(14,6.5))\n",
    "\n",
    "plt.subplot(1,2,1)\n",
    "plt.title('Robust algorithm')\n",
    "plt.contour(DD, origin='lower', extent=extent, \n",
    "            levels=np.linspace(0.,D.max(),100), colors='grey', linewidths=0.5)\n",
    "plt.scatter(X[:,0], X[:,1], c='w', edgecolors='k', marker='o', linewidths=0.5, s=16)\n",
    "plt.scatter(hcd.locs[:,0], hcd.locs[:,1], c='k', edgecolors='k', s=100)\n",
    "\n",
    "plt.subplot(1,2,2)\n",
    "plt.title('Regular algorithm')\n",
    "plt.contour(DD2, origin='lower', extent=extent, \n",
    "            levels=np.linspace(0.,D2.max(),100), colors='grey', linewidths=0.5)\n",
    "plt.scatter(X[:,0], X[:,1], c='w', edgecolors='k', marker='o', linewidths=0.5, s=16)\n",
    "plt.scatter(km.locs[:,0], km.locs[:,1], c='k', edgecolors='w', s=100)\n",
    "plt.savefig('fig/robust_kmeans_center_variance_s4.eps')\n",
    "plt.tight_layout()\n",
    "plt.show()"
   ]
  },
  {
   "cell_type": "code",
   "execution_count": null,
   "metadata": {
    "execution": {
     "iopub.status.busy": "2024-04-30T17:40:41.361566Z",
     "iopub.status.idle": "2024-04-30T17:40:41.362548Z",
     "shell.execute_reply": "2024-04-30T17:40:41.362048Z",
     "shell.execute_reply.started": "2024-04-30T17:40:41.362019Z"
    }
   },
   "outputs": [],
   "source": [
    "plt.figure(figsize=(14,6.5))\n",
    "\n",
    "plt.subplot(1,2,1)\n",
    "plt.title('Robust algorithm')\n",
    "plt.contour(DD_2, origin='lower', extent=extent, \n",
    "            levels=np.linspace(0.,D_2.max(),50), colors='grey', linewidths=0.5)\n",
    "plt.scatter(X[:,0], X[:,1], c='k', edgecolors='w', marker='s', s=9)\n",
    "plt.scatter(hcd2.locs[:,0], hcd2.locs[:,1], c='k', edgecolors='k', s=100)\n",
    "\n",
    "plt.subplot(1,2,2)\n",
    "plt.title('Regular algorithm')\n",
    "plt.contour(DD2_2, origin='lower', extent=extent, \n",
    "            levels=np.linspace(0.,D2_2.max(),50), colors='grey', linewidths=0.5)\n",
    "plt.scatter(X[:,0], X[:,1], c='k', edgecolors='w', marker='s', s=9)\n",
    "plt.scatter(km2.locs[:,0], km2.locs[:,1], c='k', edgecolors='w', s=100)\n",
    "plt.savefig('fig/robust_kmeans_center_variance2_s4.eps')\n",
    "plt.tight_layout()\n",
    "plt.show()"
   ]
  },
  {
   "cell_type": "code",
   "execution_count": null,
   "metadata": {
    "execution": {
     "iopub.status.busy": "2024-04-30T17:40:41.365645Z",
     "iopub.status.idle": "2024-04-30T17:40:41.366693Z",
     "shell.execute_reply": "2024-04-30T17:40:41.366286Z",
     "shell.execute_reply.started": "2024-04-30T17:40:41.366254Z"
    }
   },
   "outputs": [],
   "source": [
    "D_1 = hcd.evaluate_dist(X)\n",
    "D_2 = km.evaluate_dist(X)\n",
    "D2_1 = hcd2.evaluate_dist(X)\n",
    "D2_2 = km2.evaluate_dist(X)\n",
    "plt.figure(figsize=(12,5))\n",
    "plt.subplot(1,2,1)\n",
    "# plt.plot(sorted(D_1), label='robust (S)', c='k', marker='s', markersize=4)\n",
    "# plt.plot(sorted(D_2), label='regular (S)', c='k', linestyle='--', marker='s', markersize=4)\n",
    "plt.scatter(D_2, D_1)\n",
    "plt.xlabel('regular')\n",
    "plt.ylabel('robust')\n",
    "plt.legend()\n",
    "# plt.ylim(1e-6, 5)\n",
    "plt.grid(1)\n",
    "plt.subplot(1,2,2)\n",
    "plt.plot(sorted(D2_1), label='robust', c='k')\n",
    "plt.plot(sorted(D2_2), label='regular', c='k', linestyle='--')\n",
    "plt.legend()\n",
    "# plt.ylim(1e-6, 5)\n",
    "plt.grid(1)\n",
    "plt.savefig('fig/distances_s4.eps')\n",
    "plt.show()"
   ]
  },
  {
   "cell_type": "code",
   "execution_count": null,
   "metadata": {},
   "outputs": [],
   "source": []
  }
 ],
 "metadata": {
  "kernelspec": {
   "display_name": "Python 3 (ipykernel)",
   "language": "python",
   "name": "python3"
  },
  "language_info": {
   "codemirror_mode": {
    "name": "ipython",
    "version": 3
   },
   "file_extension": ".py",
   "mimetype": "text/x-python",
   "name": "python",
   "nbconvert_exporter": "python",
   "pygments_lexer": "ipython3",
   "version": "3.11.2"
  }
 },
 "nbformat": 4,
 "nbformat_minor": 4
}
