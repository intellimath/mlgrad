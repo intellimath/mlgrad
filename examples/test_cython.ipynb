{
 "cells": [
  {
   "cell_type": "code",
   "execution_count": 1,
   "id": "3552881b-7b06-447f-8e07-55827a0bbc29",
   "metadata": {
    "execution": {
     "iopub.execute_input": "2024-12-25T09:35:33.419828Z",
     "iopub.status.busy": "2024-12-25T09:35:33.418979Z",
     "iopub.status.idle": "2024-12-25T09:35:34.036867Z",
     "shell.execute_reply": "2024-12-25T09:35:34.036219Z",
     "shell.execute_reply.started": "2024-12-25T09:35:33.419796Z"
    }
   },
   "outputs": [],
   "source": [
    "%load_ext Cython"
   ]
  },
  {
   "cell_type": "code",
   "execution_count": 2,
   "id": "16358ddc-2f83-4953-8b64-51b578cfd627",
   "metadata": {
    "execution": {
     "iopub.execute_input": "2024-12-25T09:36:48.972868Z",
     "iopub.status.busy": "2024-12-25T09:36:48.972292Z",
     "iopub.status.idle": "2024-12-25T09:36:56.235376Z",
     "shell.execute_reply": "2024-12-25T09:36:56.234699Z",
     "shell.execute_reply.started": "2024-12-25T09:36:48.972826Z"
    }
   },
   "outputs": [
    {
     "name": "stdout",
     "output_type": "stream",
     "text": [
      "<class 'numpy.ndarray'>\n"
     ]
    }
   ],
   "source": [
    "%%cython\n",
    "\n",
    "import numpy as np\n",
    "\n",
    "cdef double[::1] aa = np.ones(10, \"d\")\n",
    "\n",
    "print(type(aa.base))"
   ]
  },
  {
   "cell_type": "code",
   "execution_count": null,
   "id": "ee10d16d-dba6-4e45-9ec2-ce05449c8ff9",
   "metadata": {},
   "outputs": [],
   "source": []
  },
  {
   "cell_type": "code",
   "execution_count": 2,
   "id": "53000d64-5079-4363-a607-6370044cee61",
   "metadata": {
    "execution": {
     "iopub.execute_input": "2024-11-30T17:51:15.542642Z",
     "iopub.status.busy": "2024-11-30T17:51:15.542453Z",
     "iopub.status.idle": "2024-11-30T17:51:16.309768Z",
     "shell.execute_reply": "2024-11-30T17:51:16.308952Z",
     "shell.execute_reply.started": "2024-11-30T17:51:15.542620Z"
    }
   },
   "outputs": [
    {
     "name": "stdout",
     "output_type": "stream",
     "text": [
      "1\n"
     ]
    }
   ],
   "source": [
    "%%cython\n",
    "\n",
    "cimport numpy\n",
    "import numpy as np\n",
    "\n",
    "cdef numpy.npy_bool b\n",
    "\n",
    "aa = np.array([1,2,3,4,5,6], 'd')\n",
    "ii = (aa < 4)\n",
    "b = ii[0]\n",
    "print(b)\n"
   ]
  },
  {
   "cell_type": "code",
   "execution_count": 3,
   "id": "0da97475-03fe-4ed8-adb3-6c6ab78fb84c",
   "metadata": {
    "execution": {
     "iopub.execute_input": "2024-11-30T17:51:16.310701Z",
     "iopub.status.busy": "2024-11-30T17:51:16.310390Z",
     "iopub.status.idle": "2024-11-30T17:51:17.049779Z",
     "shell.execute_reply": "2024-11-30T17:51:17.047752Z",
     "shell.execute_reply.started": "2024-11-30T17:51:16.310677Z"
    }
   },
   "outputs": [
    {
     "ename": "AttributeError",
     "evalue": "'mlgrad.array_allocator._memoryviewslice' object has no attribute 'from_object'",
     "output_type": "error",
     "traceback": [
      "\u001b[0;31m---------------------------------------------------------------------------\u001b[0m",
      "\u001b[0;31mAttributeError\u001b[0m                            Traceback (most recent call last)",
      "Cell \u001b[0;32mIn[3], line 1\u001b[0m\n\u001b[0;32m----> 1\u001b[0m \u001b[43mget_ipython\u001b[49m\u001b[43m(\u001b[49m\u001b[43m)\u001b[49m\u001b[38;5;241;43m.\u001b[39;49m\u001b[43mrun_cell_magic\u001b[49m\u001b[43m(\u001b[49m\u001b[38;5;124;43m'\u001b[39;49m\u001b[38;5;124;43mcython\u001b[39;49m\u001b[38;5;124;43m'\u001b[39;49m\u001b[43m,\u001b[49m\u001b[43m \u001b[49m\u001b[38;5;124;43m'\u001b[39;49m\u001b[38;5;124;43m'\u001b[39;49m\u001b[43m,\u001b[49m\u001b[43m \u001b[49m\u001b[38;5;124;43m\"\u001b[39;49m\u001b[38;5;130;43;01m\\n\u001b[39;49;00m\u001b[38;5;124;43mimport numpy as np\u001b[39;49m\u001b[38;5;130;43;01m\\n\u001b[39;49;00m\u001b[38;5;124;43mfrom mlgrad.array_allocator import memoryview_start_and_len\u001b[39;49m\u001b[38;5;130;43;01m\\n\u001b[39;49;00m\u001b[38;5;130;43;01m\\n\u001b[39;49;00m\u001b[38;5;124;43mA = np.zeros(100, \u001b[39;49m\u001b[38;5;124;43m'\u001b[39;49m\u001b[38;5;124;43md\u001b[39;49m\u001b[38;5;124;43m'\u001b[39;49m\u001b[38;5;124;43m)\u001b[39;49m\u001b[38;5;130;43;01m\\n\u001b[39;49;00m\u001b[38;5;124;43mB = A.reshape(20,5)\u001b[39;49m\u001b[38;5;130;43;01m\\n\u001b[39;49;00m\u001b[38;5;124;43mcdef double[::1] b = A[2:-2]\u001b[39;49m\u001b[38;5;130;43;01m\\n\u001b[39;49;00m\u001b[38;5;124;43mcdef double[::1] c = B[10,:]\u001b[39;49m\u001b[38;5;130;43;01m\\n\u001b[39;49;00m\u001b[38;5;130;43;01m\\n\u001b[39;49;00m\u001b[38;5;124;43mprint(memoryview_start_and_len(b))\u001b[39;49m\u001b[38;5;130;43;01m\\n\u001b[39;49;00m\u001b[38;5;124;43mprint(memoryview_start_and_len(c))\u001b[39;49m\u001b[38;5;130;43;01m\\n\u001b[39;49;00m\u001b[38;5;124;43m\"\u001b[39;49m\u001b[43m)\u001b[49m\n",
      "File \u001b[0;32m/usr/lib/python3/dist-packages/IPython/core/interactiveshell.py:2541\u001b[0m, in \u001b[0;36mInteractiveShell.run_cell_magic\u001b[0;34m(self, magic_name, line, cell)\u001b[0m\n\u001b[1;32m   2539\u001b[0m \u001b[38;5;28;01mwith\u001b[39;00m \u001b[38;5;28mself\u001b[39m\u001b[38;5;241m.\u001b[39mbuiltin_trap:\n\u001b[1;32m   2540\u001b[0m     args \u001b[38;5;241m=\u001b[39m (magic_arg_s, cell)\n\u001b[0;32m-> 2541\u001b[0m     result \u001b[38;5;241m=\u001b[39m \u001b[43mfn\u001b[49m\u001b[43m(\u001b[49m\u001b[38;5;241;43m*\u001b[39;49m\u001b[43margs\u001b[49m\u001b[43m,\u001b[49m\u001b[43m \u001b[49m\u001b[38;5;241;43m*\u001b[39;49m\u001b[38;5;241;43m*\u001b[39;49m\u001b[43mkwargs\u001b[49m\u001b[43m)\u001b[49m\n\u001b[1;32m   2543\u001b[0m \u001b[38;5;66;03m# The code below prevents the output from being displayed\u001b[39;00m\n\u001b[1;32m   2544\u001b[0m \u001b[38;5;66;03m# when using magics with decorator @output_can_be_silenced\u001b[39;00m\n\u001b[1;32m   2545\u001b[0m \u001b[38;5;66;03m# when the last Python token in the expression is a ';'.\u001b[39;00m\n\u001b[1;32m   2546\u001b[0m \u001b[38;5;28;01mif\u001b[39;00m \u001b[38;5;28mgetattr\u001b[39m(fn, magic\u001b[38;5;241m.\u001b[39mMAGIC_OUTPUT_CAN_BE_SILENCED, \u001b[38;5;28;01mFalse\u001b[39;00m):\n",
      "File \u001b[0;32m~/.local/lib/python3.12/site-packages/Cython/Build/IpythonMagic.py:359\u001b[0m, in \u001b[0;36mCythonMagics.cython\u001b[0;34m(self, line, cell)\u001b[0m\n\u001b[1;32m    356\u001b[0m \u001b[38;5;66;03m# Build seems ok, but we might still want to show any warnings that occurred\u001b[39;00m\n\u001b[1;32m    357\u001b[0m print_compiler_output(get_stdout(), get_stderr(), sys\u001b[38;5;241m.\u001b[39mstdout)\n\u001b[0;32m--> 359\u001b[0m module \u001b[38;5;241m=\u001b[39m \u001b[43mload_dynamic\u001b[49m\u001b[43m(\u001b[49m\u001b[43mmodule_name\u001b[49m\u001b[43m,\u001b[49m\u001b[43m \u001b[49m\u001b[43mmodule_path\u001b[49m\u001b[43m)\u001b[49m\n\u001b[1;32m    360\u001b[0m \u001b[38;5;28mself\u001b[39m\u001b[38;5;241m.\u001b[39m_import_all(module)\n\u001b[1;32m    362\u001b[0m \u001b[38;5;28;01mif\u001b[39;00m args\u001b[38;5;241m.\u001b[39mannotate:\n",
      "File \u001b[0;32m~/.local/lib/python3.12/site-packages/Cython/Build/Inline.py:51\u001b[0m, in \u001b[0;36mload_dynamic\u001b[0;34m(name, path)\u001b[0m\n\u001b[1;32m     49\u001b[0m spec \u001b[38;5;241m=\u001b[39m importlib\u001b[38;5;241m.\u001b[39mutil\u001b[38;5;241m.\u001b[39mspec_from_file_location(name, loader\u001b[38;5;241m=\u001b[39mExtensionFileLoader(name, path))\n\u001b[1;32m     50\u001b[0m module \u001b[38;5;241m=\u001b[39m importlib\u001b[38;5;241m.\u001b[39mutil\u001b[38;5;241m.\u001b[39mmodule_from_spec(spec)\n\u001b[0;32m---> 51\u001b[0m \u001b[43mspec\u001b[49m\u001b[38;5;241;43m.\u001b[39;49m\u001b[43mloader\u001b[49m\u001b[38;5;241;43m.\u001b[39;49m\u001b[43mexec_module\u001b[49m\u001b[43m(\u001b[49m\u001b[43mmodule\u001b[49m\u001b[43m)\u001b[49m\n\u001b[1;32m     52\u001b[0m \u001b[38;5;28;01mreturn\u001b[39;00m module\n",
      "File \u001b[0;32m<frozen importlib._bootstrap_external>:1297\u001b[0m, in \u001b[0;36mexec_module\u001b[0;34m(self, module)\u001b[0m\n",
      "File \u001b[0;32m<frozen importlib._bootstrap>:488\u001b[0m, in \u001b[0;36m_call_with_frames_removed\u001b[0;34m(f, *args, **kwds)\u001b[0m\n",
      "File \u001b[0;32m_cython_magic_e06d2c040155cdf2a9187c4909b729820f86ffd9.pyx:10\u001b[0m, in \u001b[0;36minit _cython_magic_e06d2c040155cdf2a9187c4909b729820f86ffd9\u001b[0;34m()\u001b[0m\n",
      "File \u001b[0;32mlib/mlgrad/array_allocator.pyx:51\u001b[0m, in \u001b[0;36mmlgrad.array_allocator.memoryview_start_and_len\u001b[0;34m()\u001b[0m\n",
      "File \u001b[0;32mlib/mlgrad/array_allocator.pyx:38\u001b[0m, in \u001b[0;36mmlgrad.array_allocator._memoryview_start_and_len\u001b[0;34m()\u001b[0m\n",
      "\u001b[0;31mAttributeError\u001b[0m: 'mlgrad.array_allocator._memoryviewslice' object has no attribute 'from_object'"
     ]
    }
   ],
   "source": [
    "%%cython\n",
    "\n",
    "import numpy as np\n",
    "from mlgrad.array_allocator import memoryview_start_and_len\n",
    "\n",
    "A = np.zeros(100, 'd')\n",
    "B = A.reshape(20,5)\n",
    "cdef double[::1] b = A[2:-2]\n",
    "cdef double[::1] c = B[10,:]\n",
    "\n",
    "print(memoryview_start_and_len(b))\n",
    "print(memoryview_start_and_len(c))\n"
   ]
  },
  {
   "cell_type": "code",
   "execution_count": null,
   "id": "ee1025ef-7e05-4b65-9dae-3c063ae52e0b",
   "metadata": {},
   "outputs": [],
   "source": []
  }
 ],
 "metadata": {
  "kernelspec": {
   "display_name": "Python 3 (ipykernel)",
   "language": "python",
   "name": "python3"
  },
  "language_info": {
   "codemirror_mode": {
    "name": "ipython",
    "version": 3
   },
   "file_extension": ".py",
   "mimetype": "text/x-python",
   "name": "python",
   "nbconvert_exporter": "python",
   "pygments_lexer": "ipython3",
   "version": "3.12.8"
  }
 },
 "nbformat": 4,
 "nbformat_minor": 5
}
