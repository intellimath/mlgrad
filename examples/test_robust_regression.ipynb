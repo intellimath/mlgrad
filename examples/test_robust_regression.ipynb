{
 "cells": [
  {
   "cell_type": "code",
   "execution_count": 1,
   "metadata": {},
   "outputs": [
    {
     "ename": "ModuleNotFoundError",
     "evalue": "No module named 'mlgrad.linreg'",
     "output_type": "error",
     "traceback": [
      "\u001b[0;31m---------------------------------------------------------------------------\u001b[0m",
      "\u001b[0;31mModuleNotFoundError\u001b[0m                       Traceback (most recent call last)",
      "\u001b[0;32m<ipython-input-1-2cff06856982>\u001b[0m in \u001b[0;36m<module>\u001b[0;34m\u001b[0m\n\u001b[1;32m      9\u001b[0m \u001b[0;32mfrom\u001b[0m \u001b[0mmlgrad\u001b[0m\u001b[0;34m.\u001b[0m\u001b[0mutils\u001b[0m \u001b[0;32mimport\u001b[0m \u001b[0marray_exclude_outliers\u001b[0m\u001b[0;34m\u001b[0m\u001b[0;34m\u001b[0m\u001b[0m\n\u001b[1;32m     10\u001b[0m \u001b[0;34m\u001b[0m\u001b[0m\n\u001b[0;32m---> 11\u001b[0;31m \u001b[0;32mimport\u001b[0m \u001b[0mmlgrad\u001b[0m\u001b[0;34m.\u001b[0m\u001b[0mlinreg\u001b[0m \u001b[0;32mas\u001b[0m \u001b[0mlinreg\u001b[0m\u001b[0;34m\u001b[0m\u001b[0;34m\u001b[0m\u001b[0m\n\u001b[0m\u001b[1;32m     12\u001b[0m \u001b[0;34m\u001b[0m\u001b[0m\n\u001b[1;32m     13\u001b[0m \u001b[0;32mfrom\u001b[0m \u001b[0mmlgrad\u001b[0m \u001b[0;32mimport\u001b[0m \u001b[0maverager_it\u001b[0m\u001b[0;34m,\u001b[0m \u001b[0maverager_fg\u001b[0m\u001b[0;34m,\u001b[0m \u001b[0mfg\u001b[0m\u001b[0;34m,\u001b[0m \u001b[0merm_fg\u001b[0m\u001b[0;34m,\u001b[0m \u001b[0msg\u001b[0m\u001b[0;34m,\u001b[0m \u001b[0merm_sg\u001b[0m\u001b[0;34m,\u001b[0m \u001b[0mirgd\u001b[0m\u001b[0;34m,\u001b[0m \u001b[0merm_irgd\u001b[0m\u001b[0;34m,\u001b[0m \u001b[0merisk\u001b[0m\u001b[0;34m,\u001b[0m \u001b[0mmrisk\u001b[0m\u001b[0;34m\u001b[0m\u001b[0;34m\u001b[0m\u001b[0m\n",
      "\u001b[0;31mModuleNotFoundError\u001b[0m: No module named 'mlgrad.linreg'"
     ]
    }
   ],
   "source": [
    "import numpy as np\n",
    "import mlgrad.model as model\n",
    "import mlgrad.loss as loss\n",
    "import mlgrad.func as func\n",
    "import mlgrad.avragg as avragg\n",
    "import mlgrad.gd as gd\n",
    "import mlgrad.regular as regular\n",
    "import mlgrad.weights as weights\n",
    "from mlgrad.utils import array_exclude_outliers\n",
    "\n",
    "import mlgrad.linreg as linreg\n",
    "\n",
    "from mlgrad import averager_it, averager_fg, fg, erm_fg, sg, erm_sg, irgd, erm_irgd, erisk, mrisk\n",
    "\n",
    "#import sklearn.linear_model as sklm\n",
    "\n",
    "import pandas as pd\n",
    "import matplotlib.pyplot as plt\n",
    "plt.style.use(['seaborn-notebook', 'seaborn-ticks'])\n",
    "\n",
    "import sys\n",
    "print(sys.version)"
   ]
  },
  {
   "cell_type": "code",
   "execution_count": null,
   "metadata": {
    "scrolled": true
   },
   "outputs": [],
   "source": [
    "df = pd.read_csv(\"data/starsCYG.csv\", sep=',', usecols=[\"log.Te\", \"log.light\"], )"
   ]
  },
  {
   "cell_type": "code",
   "execution_count": null,
   "metadata": {
    "scrolled": true
   },
   "outputs": [],
   "source": [
    "len(df)"
   ]
  },
  {
   "cell_type": "code",
   "execution_count": null,
   "metadata": {},
   "outputs": [],
   "source": [
    "Y = df[\"log.light\"].values\n",
    "X = df[\"log.Te\"].values\n",
    "\n",
    "X -= np.median(X)\n",
    "Y -= np.median(Y)\n",
    "\n",
    "# x_min, x_max = X.min(), X.max()\n",
    "# X = (X - x_min) / (x_max - x_min)\n",
    "# y_min, y_max = Y.min(), Y.max()\n",
    "# Y = (Y - y_min) / (y_max - y_min)\n",
    "\n",
    "Xs = X.reshape((-1,1))"
   ]
  },
  {
   "cell_type": "code",
   "execution_count": null,
   "metadata": {},
   "outputs": [],
   "source": [
    "plt.figure(figsize=(6.0, 5.0))\n",
    "plt.scatter(X, Y, s=64, c='w', edgecolors='k', linewidths=2.)\n",
    "plt.minorticks_on()\n",
    "plt.grid(1)\n",
    "plt.xlabel('log.Te')\n",
    "plt.ylabel('log.light')\n",
    "# plt.xlim(-0.9, 0.6)\n",
    "# plt.ylim(-2.5, 2.0)\n",
    "plt.show()"
   ]
  },
  {
   "cell_type": "code",
   "execution_count": null,
   "metadata": {},
   "outputs": [],
   "source": [
    "loss_func_sq = loss.ErrorLoss(func.Square())\n",
    "loss_func_rsq = loss.RelativeErrorLoss(func.Square())\n",
    "loss_func_abs = loss.ErrorLoss(func.Absolute())"
   ]
  },
  {
   "cell_type": "code",
   "execution_count": null,
   "metadata": {},
   "outputs": [],
   "source": [
    "mod1 = model.LinearModel(1)\n",
    "mod1.init()\n",
    "\n",
    "print(np.array(mod1.param))"
   ]
  },
  {
   "cell_type": "code",
   "execution_count": null,
   "metadata": {},
   "outputs": [],
   "source": [
    "# def regression(Xs, Y, mod, lossfunc=None, h=0.001, tol=1.0e-8, n_iter=1000, verbose=1, n_restart=5):\n",
    "#     _lossfunc = lossfunc\n",
    "#     if lossfunc is None:\n",
    "#         _lossfunc = loss.SquareErrorLoss()\n",
    "#     er = erisk(Xs, Y, mod, _lossfunc)\n",
    "#     alg_fg = erm_fg(er, h=h, tol=tol, n_iter=n_iter, verbose=verbose, n_restart=5)\n",
    "#     return alg_fg"
   ]
  },
  {
   "cell_type": "code",
   "execution_count": null,
   "metadata": {},
   "outputs": [],
   "source": [
    "# er1 = erisk(Xs, Y, mod1, loss_func_sq)\n",
    "# alg_fg1 = erm_fg(er1, h=0.001, tol=1.0e-8, verbose=1, n_restart=5)\n",
    "\n",
    "alg_fg1 = linreg.regression(Xs, Y, mod1)\n",
    "\n",
    "plt.plot(alg_fg1.lvals)\n",
    "plt.minorticks_on()\n",
    "plt.grid(1)\n",
    "plt.show()"
   ]
  },
  {
   "cell_type": "code",
   "execution_count": null,
   "metadata": {},
   "outputs": [],
   "source": [
    "def averaging_function(kind, **kw):\n",
    "    if kind == 'M':\n",
    "        alpha = kw.get('alpha', 0.5)\n",
    "        func = kw.get('func', Quantile_Sqrt(alpha, 0.001))\n",
    "        avg = averager_it(func)\n",
    "    elif kind == 'WM':\n",
    "        alpha = kw.get('alpha', 0.5)\n",
    "        func = kw.get('func', Quantile_Sqrt(alpha, 0.001))\n",
    "        avg = averager_it(func)\n",
    "        avg = avragg.WMAverage(avg)\n",
    "    else:\n",
    "        raise ValueError('Invalid argument value')\n",
    "    return avg\n",
    "        "
   ]
  },
  {
   "cell_type": "code",
   "execution_count": null,
   "metadata": {},
   "outputs": [],
   "source": [
    "# def m_regression(Xs, Y, mod, \n",
    "#                  lossfunc=None, avrfunc=None, h=0.001, \n",
    "#                  tol=1.0e-8, n_iter=1000, tol2=1.0e-5, n_iter2=21):\n",
    "#     _lossfunc = lossfunc\n",
    "#     if lossfunc is None:\n",
    "#         _lossfunc = loss.SquareErrorLoss()\n",
    "\n",
    "#     er = erisk(Xs, Y, mod, _lossfunc)\n",
    "#     alg_fg = fg(er, h=h, tol=tol)\n",
    "\n",
    "#     _avrfunc = avrfunc\n",
    "#     if avrfunc is None:\n",
    "#         _avrfunc = averager_it(func.Quantile_Sqrt(0.5, 0.001))\n",
    "#         _avrfunc = avragg.WMAverage(_avrfunc)\n",
    "\n",
    "#     wg = weights.MWeights(_avrfunc, er)\n",
    "#     irgd = erm_irgd(alg_fg, wg, n_iter=n_iter2, tol=tol2)\n",
    "        \n",
    "#     return irgd"
   ]
  },
  {
   "cell_type": "code",
   "execution_count": null,
   "metadata": {},
   "outputs": [],
   "source": [
    "mod2 = model.LinearModel(1)\n",
    "mod2.init()"
   ]
  },
  {
   "cell_type": "code",
   "execution_count": null,
   "metadata": {},
   "outputs": [],
   "source": [
    "# er2 = erisk(Xs, Y, mod2, loss_func_sq)\n",
    "# alg_fg2 = fg(er2, h=0.001, tol=1.0e-9)\n",
    "# avg2 = averager_it(func.Quantile_Sqrt(0.83, 0.001))\n",
    "# avg2 = avragg.WMAverage(avg2)\n",
    "# wg2 = weights.MWeights(avg2, er2)\n",
    "# irgd2 = erm_irgd(alg_fg2, wg2, n_iter=21, tol=1.0e-5)\n",
    "\n",
    "avg2 = averager_it(func.Quantile_Sqrt(0.84, 0.001))\n",
    "avg2 = avragg.WMAverage(avg2)\n",
    "irgd2 = linreg.m_regression(Xs, Y, mod2)\n",
    "\n",
    "plt.plot(irgd2.lvals)\n",
    "plt.minorticks_on()\n",
    "plt.grid(1)\n",
    "plt.show()"
   ]
  },
  {
   "cell_type": "code",
   "execution_count": null,
   "metadata": {},
   "outputs": [],
   "source": [
    "res1 = np.abs(Y - mod1.evaluate_all(Xs))\n",
    "res1.sort()\n",
    "res2 = np.abs(Y - mod2.evaluate_all(Xs))\n",
    "res2.sort()\n",
    "#ranges = np.arange(len(res1))\n",
    "\n",
    "plt.plot(res1, marker='o', label='ols')\n",
    "plt.plot(res2, marker='o', label='rob')\n",
    "plt.legend()\n",
    "plt.show()"
   ]
  },
  {
   "cell_type": "code",
   "execution_count": null,
   "metadata": {},
   "outputs": [],
   "source": [
    "Err = np.abs(Y - mod2.evaluate_all(Xs))\n",
    "\n",
    "X1, X1_ = array_exclude_outliers(X, Err, 7) \n",
    "Y1, Y1_ = array_exclude_outliers(Y, Err, 7) \n",
    "X1s = X1.reshape(-1,1)"
   ]
  },
  {
   "cell_type": "code",
   "execution_count": null,
   "metadata": {},
   "outputs": [],
   "source": [
    "plt.figure(figsize=(6.0, 5.0))\n",
    "plt.title('StarsCYG dataset')\n",
    "plt.scatter(X1, Y1, s=64, c='w', edgecolors='k', linewidths=1., label='regular data')\n",
    "plt.scatter(X1_, Y1_, s=64, c='Grey', edgecolors='k', linewidths=1., label='outliers')\n",
    "X0 = np.linspace(X.min(), X.max(), 20)\n",
    "plt.plot(X0, mod1.evaluate_all(X0.reshape(-1,1)), c='k', linestyle='--', linewidth=2.5, label=r'LS')\n",
    "plt.plot(X0, mod2.evaluate_all(X0.reshape(-1,1)), color='k', linewidth=2., label=r'WM')\n",
    "plt.minorticks_on()\n",
    "plt.grid(1)\n",
    "plt.xlabel('log.Te')\n",
    "plt.ylabel('log.light')\n",
    "# plt.xlim(-0.9, 0.6)\n",
    "# plt.ylim(-2.5, 2.0)\n",
    "plt.legend(loc='best')\n",
    "plt.show()"
   ]
  },
  {
   "cell_type": "code",
   "execution_count": null,
   "metadata": {},
   "outputs": [],
   "source": [
    "mod21 = model.LinearModel(1)\n",
    "mod21.init()"
   ]
  },
  {
   "cell_type": "code",
   "execution_count": null,
   "metadata": {},
   "outputs": [],
   "source": [
    "er21 = erisk(Xs, Y, mod21, loss_func_sq)\n",
    "alg_fg21 = fg(er21, h=0.001, tol=1.0e-8)\n",
    "wg21 = weights.RWeights(func.Sqrt(1.0), er21)\n",
    "irgd21 = erm_irgd(alg_fg21, wg21, n_iter=21, tol=1.0e-6)\n",
    "\n",
    "plt.plot(irgd21.lvals)\n",
    "plt.minorticks_on()\n",
    "plt.grid(1)\n",
    "plt.show()"
   ]
  },
  {
   "cell_type": "code",
   "execution_count": null,
   "metadata": {},
   "outputs": [],
   "source": [
    "plt.figure(figsize=(6.0, 5.0))\n",
    "plt.title('StarsCYG dataset')\n",
    "plt.scatter(X1, Y1, s=64, c='w', edgecolors='k', linewidths=1., label='regular data')\n",
    "plt.scatter(X1_, Y1_, s=64, c='Grey', edgecolors='k', linewidths=1., label='outliers')\n",
    "X0 = np.linspace(-0.9, 0.6, 20)\n",
    "plt.plot(X0, mod1.evaluate_all(X0.reshape(-1,1)), c='k', linestyle='--', linewidth=2.5, label=r'LS')\n",
    "plt.plot(X0, mod21.evaluate_all(X0.reshape(-1,1)), color='k', linewidth=2., label=r'R')\n",
    "plt.minorticks_on()\n",
    "plt.grid(1)\n",
    "plt.xlabel('log.Te')\n",
    "plt.ylabel('log.light')\n",
    "plt.xlim(-0.9, 0.6)\n",
    "plt.ylim(-2.5, 2.0)\n",
    "plt.legend(loc='best')\n",
    "plt.show()"
   ]
  },
  {
   "cell_type": "code",
   "execution_count": null,
   "metadata": {},
   "outputs": [],
   "source": [
    "mod22 = model.LinearModel(1)\n",
    "mod22.init()"
   ]
  },
  {
   "cell_type": "code",
   "execution_count": null,
   "metadata": {},
   "outputs": [],
   "source": [
    "avg22 = averager_it(func.Quantile_Sqrt(0.84, 0.001))\n",
    "avg22 = avragg.WMAverage(avg22)\n",
    "mr2 = mrisk(Xs, Y, mod22, loss_func_sq, avg22)\n",
    "alg_fg2 = fg(mr2, h=0.01, tol=1.0e-7)\n",
    "alg_fg2.fit()\n",
    "\n",
    "plt.plot(alg_fg2.lvals)\n",
    "plt.minorticks_on()\n",
    "plt.grid(1)\n",
    "plt.show()"
   ]
  },
  {
   "cell_type": "code",
   "execution_count": null,
   "metadata": {},
   "outputs": [],
   "source": [
    "plt.figure(figsize=(6.0, 5.0))\n",
    "plt.title('StarsCYG dataset')\n",
    "plt.scatter(X1, Y1, s=64, c='w', edgecolors='k', linewidths=1., label='regular data')\n",
    "plt.scatter(X1_, Y1_, s=64, c='Grey', edgecolors='k', linewidths=1., label='outliers')\n",
    "X0 = np.linspace(-0.9, 0.6, 20)\n",
    "plt.plot(X0, mod1.evaluate_all(X0.reshape(-1,1)), c='k', linestyle='--', linewidth=2.5, label=r'LS')\n",
    "plt.plot(X0, mod22.evaluate_all(X0.reshape(-1,1)), color='k', linewidth=2., label=r'WM')\n",
    "plt.minorticks_on()\n",
    "plt.grid(1)\n",
    "plt.xlabel('log.Te')\n",
    "plt.ylabel('log.light')\n",
    "plt.xlim(-0.9, 0.6)\n",
    "plt.ylim(-2.5, 2.0)\n",
    "plt.legend(loc='best')\n",
    "plt.show()"
   ]
  },
  {
   "cell_type": "code",
   "execution_count": null,
   "metadata": {},
   "outputs": [],
   "source": [
    "mod3 = model.LinearModel(1)\n",
    "mod3.init()"
   ]
  },
  {
   "cell_type": "code",
   "execution_count": null,
   "metadata": {},
   "outputs": [],
   "source": [
    "er3 = erisk(X1s, Y1, mod3, loss_func_sq)\n",
    "alg_fg3 = erm_fg(er3, h=0.01, tol=1.0e-6, verbose=0)\n",
    "\n",
    "plt.plot(alg_fg3.lvals)\n",
    "plt.minorticks_on()\n",
    "plt.grid(1)\n",
    "plt.show()"
   ]
  },
  {
   "cell_type": "code",
   "execution_count": null,
   "metadata": {},
   "outputs": [],
   "source": [
    "mod4 = model.LinearModel(1)\n",
    "mod4.init()"
   ]
  },
  {
   "cell_type": "code",
   "execution_count": null,
   "metadata": {},
   "outputs": [],
   "source": [
    "er4 = erisk(Xs, Y, mod4, loss_func_rsq)\n",
    "alg_fg4 = fg(er4, h=0.001, tol=1.0e-9)\n",
    "avg4 = averager_it(func.QuantileFunc(0.83, func.Sqrt(0.001)))\n",
    "avg4 = avragg.HMAverage(avg4)\n",
    "wg4 = weights.MWeights(avg4, er4)\n",
    "irgd4 = erm_irgd(alg_fg4, wg4, n_iter=22, tol=1.0e-5)\n",
    "\n",
    "plt.plot(irgd4.lvals)\n",
    "plt.minorticks_on()\n",
    "plt.grid(1)\n",
    "plt.show()"
   ]
  },
  {
   "cell_type": "code",
   "execution_count": null,
   "metadata": {},
   "outputs": [],
   "source": [
    "Err = np.abs(Y - mod4.evaluate_all(Xs))\n",
    "\n",
    "X2, X2_ = array_exclude_outliers(X, Err, 6) \n",
    "Y2, Y2_ = array_exclude_outliers(Y, Err, 6) \n",
    "X2s = X2.reshape(-1,1)"
   ]
  },
  {
   "cell_type": "code",
   "execution_count": null,
   "metadata": {},
   "outputs": [],
   "source": [
    "plt.figure(figsize=(6.0, 5.0))\n",
    "plt.title('StarsCYG dataset')\n",
    "plt.scatter(X2, Y2, s=64, c='w', edgecolors='k', linewidths=1., label='regular data')\n",
    "plt.scatter(X2_, Y2_, s=64, c='Grey', edgecolors='k', linewidths=1., label='outliers')\n",
    "X0 = np.linspace(-0.9, 0.6, 20)\n",
    "plt.plot(X0, mod3.evaluate_all(X0.reshape(-1,1)), c='k', linestyle='--', linewidth=2.5, label=r'LS')\n",
    "plt.plot(X0, mod4.evaluate_all(X0.reshape(-1,1)), color='k', linewidth=2., label=r'WM')\n",
    "plt.plot(X0, mod2.evaluate_all(X0.reshape(-1,1)), c='k', linestyle=':', linewidth=2.5, label=r'HM')\n",
    "plt.minorticks_on()\n",
    "plt.grid(1)\n",
    "plt.xlabel('log.Te')\n",
    "plt.ylabel('log.light')\n",
    "plt.legend(loc='best')\n",
    "plt.xlim(-0.9, 0.6)\n",
    "plt.ylim(-2.5, 2.0)\n",
    "plt.show()"
   ]
  },
  {
   "cell_type": "code",
   "execution_count": null,
   "metadata": {},
   "outputs": [],
   "source": [
    "res3 = np.abs(Y1 - mod2.evaluate_all(X1s))\n",
    "res3.sort()\n",
    "res4 = np.abs(Y1 - mod4.evaluate_all(X1s))\n",
    "res4.sort()\n",
    "plt.plot(res3, marker='s', label='HM')\n",
    "plt.plot(res4, marker='s', label='WM')\n",
    "plt.legend()\n",
    "plt.show()"
   ]
  },
  {
   "cell_type": "code",
   "execution_count": null,
   "metadata": {},
   "outputs": [],
   "source": [
    "40/47"
   ]
  },
  {
   "cell_type": "code",
   "execution_count": null,
   "metadata": {},
   "outputs": [],
   "source": []
  }
 ],
 "metadata": {
  "kernelspec": {
   "display_name": "Python 3",
   "language": "python",
   "name": "python3"
  },
  "language_info": {
   "codemirror_mode": {
    "name": "ipython",
    "version": 3
   },
   "file_extension": ".py",
   "mimetype": "text/x-python",
   "name": "python",
   "nbconvert_exporter": "python",
   "pygments_lexer": "ipython3",
   "version": "3.9.1+"
  }
 },
 "nbformat": 4,
 "nbformat_minor": 4
}
