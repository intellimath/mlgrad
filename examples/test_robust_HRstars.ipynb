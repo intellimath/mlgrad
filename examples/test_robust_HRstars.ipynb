{
 "cells": [
  {
   "cell_type": "code",
   "execution_count": 2,
   "metadata": {},
   "outputs": [
    {
     "ename": "ModuleNotFoundError",
     "evalue": "No module named 'rdata'",
     "output_type": "error",
     "traceback": [
      "\u001b[0;31m---------------------------------------------------------------------------\u001b[0m",
      "\u001b[0;31mModuleNotFoundError\u001b[0m                       Traceback (most recent call last)",
      "Cell \u001b[0;32mIn [2], line 16\u001b[0m\n\u001b[1;32m     12\u001b[0m \u001b[38;5;28;01mfrom\u001b[39;00m \u001b[38;5;21;01mmlgrad\u001b[39;00m \u001b[38;5;28;01mimport\u001b[39;00m averager_it, averager_fg, fg, erm_fg, sg, erm_sg, irgd, erm_irgd, erisk\n\u001b[1;32m     14\u001b[0m \u001b[38;5;66;03m#import sklearn.linear_model as sklm\u001b[39;00m\n\u001b[0;32m---> 16\u001b[0m \u001b[38;5;28;01mimport\u001b[39;00m \u001b[38;5;21;01mrdata\u001b[39;00m\n\u001b[1;32m     18\u001b[0m \u001b[38;5;28;01mimport\u001b[39;00m \u001b[38;5;21;01mpandas\u001b[39;00m \u001b[38;5;28;01mas\u001b[39;00m \u001b[38;5;21;01mpd\u001b[39;00m\n\u001b[1;32m     19\u001b[0m \u001b[38;5;28;01mimport\u001b[39;00m \u001b[38;5;21;01mmatplotlib\u001b[39;00m\u001b[38;5;21;01m.\u001b[39;00m\u001b[38;5;21;01mpyplot\u001b[39;00m \u001b[38;5;28;01mas\u001b[39;00m \u001b[38;5;21;01mplt\u001b[39;00m\n",
      "\u001b[0;31mModuleNotFoundError\u001b[0m: No module named 'rdata'"
     ]
    }
   ],
   "source": [
    "import numpy as np\n",
    "import mlgrad.model as model\n",
    "import mlgrad.loss as loss\n",
    "import mlgrad.func as func\n",
    "import mlgrad.distance as distance\n",
    "import mlgrad.avragg as avragg\n",
    "import mlgrad.gd as gd\n",
    "# import mlgrad.regular as regular\n",
    "import mlgrad.weights as weights\n",
    "import mlgrad.mlocation_scatter as mlocation_scatter\n",
    "\n",
    "from mlgrad import averager_it, averager_fg, fg, erm_fg, sg, erm_sg, irgd, erm_irgd, erisk\n",
    "\n",
    "#import sklearn.linear_model as sklm\n",
    "\n",
    "import rdata\n",
    "\n",
    "import pandas as pd\n",
    "import matplotlib.pyplot as plt\n",
    "plt.style.use(['seaborn-notebook', 'seaborn-white', 'seaborn-ticks'])"
   ]
  },
  {
   "cell_type": "code",
   "execution_count": null,
   "metadata": {},
   "outputs": [],
   "source": [
    "parsed = rdata.parser.parse_file(\"data/HRstars.rda\")\n",
    "data = rdata.conversion.convert(parsed)\n",
    "hr = data['HRstars']\n",
    "hr[:10]"
   ]
  },
  {
   "cell_type": "code",
   "execution_count": null,
   "metadata": {},
   "outputs": [],
   "source": [
    "plt.hist(hr['Para'], bins=50)"
   ]
  },
  {
   "cell_type": "code",
   "execution_count": null,
   "metadata": {},
   "outputs": [],
   "source": []
  },
  {
   "cell_type": "code",
   "execution_count": null,
   "metadata": {},
   "outputs": [],
   "source": [
    "plt.figure(figsize=(15,12))\n",
    "plt.scatter(hr['V'], hr['BV'], c=hr['BV'], s=9, cmap=plt.cm.nipy_spectral)\n",
    "plt.xlabel('V')\n",
    "plt.ylabel('Uncert')\n",
    "plt.ylim(-0.6,2.5)\n",
    "plt.minorticks_on()\n",
    "plt.show()"
   ]
  },
  {
   "cell_type": "code",
   "execution_count": null,
   "metadata": {},
   "outputs": [],
   "source": [
    "df = hr\n",
    "Y = df[\"V\"].values\n",
    "X = df[\"BV\"].values\n",
    "\n",
    "Xs = X.reshape((-1,1))"
   ]
  },
  {
   "cell_type": "code",
   "execution_count": null,
   "metadata": {},
   "outputs": [],
   "source": [
    "plt.figure(figsize=(6.0, 5.0))\n",
    "plt.scatter(X, Y, s=1, linewidths=2.)\n",
    "plt.minorticks_on()\n",
    "plt.grid(1)\n",
    "plt.ylabel('V')\n",
    "plt.xlabel('BV')\n",
    "plt.show()"
   ]
  },
  {
   "cell_type": "code",
   "execution_count": null,
   "metadata": {},
   "outputs": [],
   "source": [
    "loss_func_sq = loss.ErrorLoss(func.Square())\n",
    "loss_func_abs = loss.ErrorLoss(func.Absolute())"
   ]
  },
  {
   "cell_type": "code",
   "execution_count": null,
   "metadata": {},
   "outputs": [],
   "source": [
    "#regular_func = regular.Square()"
   ]
  },
  {
   "cell_type": "code",
   "execution_count": null,
   "metadata": {},
   "outputs": [],
   "source": [
    "mod1 = model.LinearModel(1)\n",
    "mod1.init_param()"
   ]
  },
  {
   "cell_type": "code",
   "execution_count": null,
   "metadata": {},
   "outputs": [],
   "source": [
    "er1 = erisk(Xs, Y, mod1, loss_func_sq)\n",
    "alg_fg1 = erm_fg(er1, h=0.01, tol=1.0e-6, verbose=0)\n",
    "print(\"Completed?\", alg_fg1.completed)\n",
    "\n",
    "plt.plot(alg_fg1.lvals)\n",
    "plt.show()"
   ]
  },
  {
   "cell_type": "code",
   "execution_count": null,
   "metadata": {},
   "outputs": [],
   "source": [
    "mod2 = model.LinearModel(1)\n",
    "mod2.init_param()"
   ]
  },
  {
   "cell_type": "code",
   "execution_count": null,
   "metadata": {},
   "outputs": [],
   "source": [
    "er2 = erisk(Xs, Y, mod2, loss_func_sq)\n",
    "alg_fg2 = fg(er2, h=0.001, tol=1.0e-6)\n",
    "avg2 = averager_it(func.QuantileFunc(0.5, func.Sqrt(0.001)))\n",
    "avg2 = avragg.MWAverage(avg2)\n",
    "wg2 = weights.MWeights(avg2, er2)\n",
    "irgd2 = erm_irgd(alg_fg2, wg2, n_iter=21, verbose=0)\n",
    "\n",
    "plt.figure(figsize=(10,4))\n",
    "plt.subplot(1,2,1)\n",
    "plt.plot(irgd2.lvals)\n",
    "plt.subplot(1,2,2)\n",
    "plt.plot(irgd2.n_iters)\n",
    "plt.show()"
   ]
  },
  {
   "cell_type": "code",
   "execution_count": null,
   "metadata": {},
   "outputs": [],
   "source": [
    "plt.figure(figsize=(10.0, 8.0))\n",
    "plt.title('HRstars dataset')\n",
    "sc=plt.scatter(X, Y, s=1, linewidths=2., label='data', c=df['Para'], cmap=plt.cm.gist_rainbow)\n",
    "plt.colorbar(sc)\n",
    "X0 = np.linspace(X.min(), X.max(), 20)\n",
    "plt.plot(X0, mod1.evaluate_all(X0.reshape(-1,1)), c='k', markersize=8, label=r'LS')\n",
    "plt.plot(X0, mod2.evaluate_all(X0.reshape(-1,1)), color='k', linewidth=1., marker='*', markersize=8, label=r'WM')\n",
    "plt.minorticks_on()\n",
    "plt.grid(1)\n",
    "#plt.xlabel('log.Te')\n",
    "#plt.ylabel('log.light')\n",
    "plt.xlim(-0.6, 2.6)\n",
    "plt.ylim(-1, 20)\n",
    "plt.legend(loc='best')\n",
    "plt.show()"
   ]
  },
  {
   "cell_type": "code",
   "execution_count": null,
   "metadata": {},
   "outputs": [],
   "source": [
    "res1 = np.abs(Y - mod1.evaluate_all(Xs))\n",
    "res1.sort()\n",
    "res2 = np.abs(Y - mod2.evaluate_all(Xs))\n",
    "res2.sort()\n",
    "plt.plot(res1, label='1')\n",
    "plt.plot(res2, label='2')\n",
    "plt.legend()\n",
    "plt.show()"
   ]
  },
  {
   "cell_type": "code",
   "execution_count": null,
   "metadata": {},
   "outputs": [],
   "source": [
    "37/47"
   ]
  },
  {
   "cell_type": "code",
   "execution_count": null,
   "metadata": {},
   "outputs": [],
   "source": [
    "names = list(hr.keys()[1:])\n",
    "XX = np.c_[tuple(hr[name].values for name in names[:-1])]"
   ]
  },
  {
   "cell_type": "code",
   "execution_count": null,
   "metadata": {},
   "outputs": [],
   "source": [
    "avg3 = averager_it(func.QuantileFunc(0.9, func.Sqrt(0.001)))\n",
    "avg3 = avragg.MWAverage(avg3)\n",
    "\n",
    "alg = mlocation_scatter.MLocationScatterEstimator(avg3, n_iter=20)\n",
    "alg.fit(XX)"
   ]
  },
  {
   "cell_type": "code",
   "execution_count": null,
   "metadata": {},
   "outputs": [],
   "source": [
    "plt.plot(alg.dvals)\n",
    "plt.show()"
   ]
  },
  {
   "cell_type": "code",
   "execution_count": null,
   "metadata": {},
   "outputs": [],
   "source": [
    "loc, S = alg.loc.base, alg.S.base\n",
    "\n",
    "loc0 = mlocation_scatter.standard_location(XX)\n",
    "S0 = mlocation_scatter.standard_covariance(XX, loc0)\n",
    "\n",
    "distfunc = distance.MahalanobisDistance(np.linalg.inv(S))\n",
    "distfunc0 = distance.MahalanobisDistance(np.linalg.inv(S0))"
   ]
  },
  {
   "cell_type": "code",
   "execution_count": null,
   "metadata": {},
   "outputs": [],
   "source": [
    "D0 = [distfunc0(x, loc0) for x in XX]\n",
    "D = [distfunc(x, loc) for x in XX]\n",
    "plt.scatter(D0, D, c='w', edgecolor='k', linewidth=1)\n",
    "plt.xlabel('Классическое расстояние')\n",
    "plt.ylabel('Робастное расстояние')\n",
    "plt.minorticks_on()\n",
    "plt.xlim(0,10)\n",
    "plt.ylim(0,5)\n",
    "# plt.title('Многомерное нормальное (m=%s) с выбросами %s%%' % (m, q))\n",
    "# plt.savefig('fig/robust_clustering_dran_multinormal_distance_%s_%s.eps' % (m, q))\n",
    "plt.show()"
   ]
  },
  {
   "cell_type": "code",
   "execution_count": null,
   "metadata": {},
   "outputs": [],
   "source": [
    "avg4 = averager_it(func.QuantileFunc(0.5, func.Sqrt(0.001)))\n",
    "avg4 = avragg.MWAverage(avg4)\n",
    "\n",
    "alg2 = mlocation_scatter.MLocationsScattersEstimator(avg4, 3)\n",
    "alg2.fit(XX)"
   ]
  },
  {
   "cell_type": "code",
   "execution_count": null,
   "metadata": {},
   "outputs": [],
   "source": [
    "plt.plot(alg2.dvals)\n",
    "plt.show()"
   ]
  },
  {
   "cell_type": "code",
   "execution_count": null,
   "metadata": {},
   "outputs": [],
   "source": [
    "D = alg2.calc_distances()\n",
    "plt.plot(sorted(D))\n",
    "# plt.ylim(0,200)\n",
    "plt.show()"
   ]
  },
  {
   "cell_type": "code",
   "execution_count": null,
   "metadata": {},
   "outputs": [],
   "source": [
    "for S in alg2.scatters:\n",
    "    print(np.linalg.inv(S))"
   ]
  },
  {
   "cell_type": "code",
   "execution_count": null,
   "metadata": {},
   "outputs": [],
   "source": []
  }
 ],
 "metadata": {
  "kernelspec": {
   "display_name": "Python 3 (ipykernel)",
   "language": "python",
   "name": "python3"
  },
  "language_info": {
   "codemirror_mode": {
    "name": "ipython",
    "version": 3
   },
   "file_extension": ".py",
   "mimetype": "text/x-python",
   "name": "python",
   "nbconvert_exporter": "python",
   "pygments_lexer": "ipython3",
   "version": "3.10.8"
  }
 },
 "nbformat": 4,
 "nbformat_minor": 4
}
