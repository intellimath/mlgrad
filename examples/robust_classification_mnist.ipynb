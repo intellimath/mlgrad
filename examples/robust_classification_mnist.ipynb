{
 "cells": [
  {
   "cell_type": "code",
   "execution_count": 1,
   "id": "6a71a187-aab9-4831-a917-61fe24720123",
   "metadata": {},
   "outputs": [],
   "source": [
    "import numpy as np\n",
    "import sklearn.datasets as datasets\n",
    "from sklearn.preprocessing import scale\n",
    "\n",
    "import matplotlib.pyplot as plt\n",
    "\n",
    "import mlgrad.regr as regr\n",
    "import mlgrad.model as model\n",
    "import mlgrad.func as func"
   ]
  },
  {
   "cell_type": "code",
   "execution_count": 2,
   "id": "dc5fec39-c501-4767-a6ee-10becec56864",
   "metadata": {},
   "outputs": [],
   "source": [
    "X, Y = datasets.fetch_openml('mnist_784', version=1, return_X_y=True, as_frame=False)"
   ]
  },
  {
   "cell_type": "code",
   "execution_count": 3,
   "id": "353e1fd3-8dfe-4c6f-94ab-f3a313f66fac",
   "metadata": {},
   "outputs": [
    {
     "name": "stdout",
     "output_type": "stream",
     "text": [
      "(70000, 784) (70000,)\n"
     ]
    }
   ],
   "source": [
    "print(X.shape, Y.shape)"
   ]
  },
  {
   "cell_type": "code",
   "execution_count": 4,
   "id": "c6b7ba0c-cda8-4cc5-8cc7-8d91f877a0cb",
   "metadata": {},
   "outputs": [
    {
     "name": "stdout",
     "output_type": "stream",
     "text": [
      "(70000, 784) (70000,)\n"
     ]
    }
   ],
   "source": [
    "I1 = (Y == 1)\n",
    "I7 = (Y == 7)\n",
    "IX = (Y != 1) & (Y != 7)\n",
    "X1 = X[I1]\n",
    "Y1 = np.ones(len(X1), 'd')\n",
    "X7 = X[I7]\n",
    "Y7 = -np.ones(len(X7), 'd')\n",
    "XX = X[IX]\n",
    "YX = np.zeros(len(XX), 'd')\n",
    "\n",
    "X17 = np.concatenate((X1, X7, XX), axis=0)\n",
    "Y17 = np.concatenate((Y1, Y7, YX))\n",
    "\n",
    "N = len(Y17)\n",
    "print(X17.shape, Y17.shape)"
   ]
  },
  {
   "cell_type": "code",
   "execution_count": 5,
   "id": "050d0721-db42-4d15-99d0-6e117c7eb4ac",
   "metadata": {},
   "outputs": [],
   "source": [
    "for i in range(N):\n",
    "    X17[i] = scale(X17[i])"
   ]
  },
  {
   "cell_type": "code",
   "execution_count": 6,
   "id": "05daa295-ce9b-40f4-b878-f50ad85ad14b",
   "metadata": {},
   "outputs": [
    {
     "data": {
      "text/plain": [
       "28.0"
      ]
     },
     "execution_count": 6,
     "metadata": {},
     "output_type": "execute_result"
    }
   ],
   "source": [
    "np.sqrt(784)"
   ]
  },
  {
   "cell_type": "code",
   "execution_count": 7,
   "id": "ad404220-b324-4acc-9267-17c619c0e541",
   "metadata": {},
   "outputs": [
    {
     "data": {
      "image/png": "[encoded data removed]",
      "text/plain": [
       "<Figure size 432x288 with 1 Axes>"
      ]
     },
     "metadata": {
      "needs_background": "light"
     },
     "output_type": "display_data"
    },
    {
     "data": {
      "image/png": "[encoded data removed]",
      "text/plain": [
       "<Figure size 432x288 with 1 Axes>"
      ]
     },
     "metadata": {
      "needs_background": "light"
     },
     "output_type": "display_data"
    }
   ],
   "source": [
    "plt.imshow(X17[0].reshape(28,28), plt.cm.Greys)\n",
    "plt.show()\n",
    "plt.imshow(X17[-1].reshape(28,28), plt.cm.Greys)\n",
    "plt.show()"
   ]
  },
  {
   "cell_type": "code",
   "execution_count": 8,
   "id": "8fbf31bc-dcd7-4697-a0a6-717b4c11ac6a",
   "metadata": {},
   "outputs": [],
   "source": [
    "def sigma_neuron_layer(n_input, n_output):\n",
    "    outfunc = func.Sigmoidal()\n",
    "    layer = model.SigmaNeuronModelLayer(outfunc, n_input, n_output)\n",
    "    return layer"
   ]
  },
  {
   "cell_type": "code",
   "execution_count": 9,
   "id": "8d0f26c6-6274-48d6-9ad1-fa33d7e6865c",
   "metadata": {},
   "outputs": [],
   "source": [
    "def create_nn(n_input, n_hidden):\n",
    "    layer1 = sigma_neuron_layer(n_input, n_hidden)\n",
    "\n",
    "    body = model.FFNetworkModel()\n",
    "    body.add(layer1)\n",
    "\n",
    "    head = model.LinearModel(n_hidden)\n",
    "    ffnn = model.FFNetworkFuncModel(head, body)\n",
    "    ffnn.allocate()\n",
    "    return ffnn"
   ]
  },
  {
   "cell_type": "code",
   "execution_count": 10,
   "id": "5a6e66ad-ec5f-4ad1-b026-772e55617100",
   "metadata": {},
   "outputs": [],
   "source": [
    "ffnn_sq = create_nn(784, 16)\n",
    "ffnn_sq.param[:] = np.random.random(ffnn_sq.n_param)"
   ]
  },
  {
   "cell_type": "code",
   "execution_count": null,
   "id": "bab952bf-6d8b-46c7-adba-f4a84029fa96",
   "metadata": {},
   "outputs": [],
   "source": [
    "lr = regr.regression(X17, Y17, ffnn_sq, n_restart=1)"
   ]
  },
  {
   "cell_type": "code",
   "execution_count": null,
   "id": "569c48d0-bb52-486b-a25c-2662af123447",
   "metadata": {},
   "outputs": [],
   "source": [
    "plt.plot(np.log(lr.lvals))\n",
    "plt.show()"
   ]
  },
  {
   "cell_type": "code",
   "execution_count": null,
   "id": "56d3b0a0-d211-4f53-b1e4-243e13ad202e",
   "metadata": {},
   "outputs": [],
   "source": [
    "Y17_p = ffnn_sq.evaluate_all(X17)"
   ]
  },
  {
   "cell_type": "code",
   "execution_count": null,
   "id": "9b4cc1ce-87a1-45f1-ad95-ec082fcfc105",
   "metadata": {},
   "outputs": [],
   "source": [
    "plt.scatter(Y17, Y17_p, c=Y17, s=9)\n",
    "plt.show()"
   ]
  },
  {
   "cell_type": "code",
   "execution_count": null,
   "id": "af72d5c7-64ca-4f36-bde8-cb2b4d948383",
   "metadata": {},
   "outputs": [],
   "source": []
  },
  {
   "cell_type": "code",
   "execution_count": null,
   "id": "5fee6310-7eae-46bf-98da-d7b14f7e4c4f",
   "metadata": {},
   "outputs": [],
   "source": []
  }
 ],
 "metadata": {
  "kernelspec": {
   "display_name": "Python 3",
   "language": "python",
   "name": "python3"
  },
  "language_info": {
   "codemirror_mode": {
    "name": "ipython",
    "version": 3
   },
   "file_extension": ".py",
   "mimetype": "text/x-python",
   "name": "python",
   "nbconvert_exporter": "python",
   "pygments_lexer": "ipython3",
   "version": "3.9.2"
  }
 },
 "nbformat": 4,
 "nbformat_minor": 5
}
