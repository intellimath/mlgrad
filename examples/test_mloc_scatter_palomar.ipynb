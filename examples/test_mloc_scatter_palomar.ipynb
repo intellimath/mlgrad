{
 "cells": [
  {
   "cell_type": "code",
   "execution_count": 1,
   "metadata": {},
   "outputs": [],
   "source": [
    "import mlgrad.mlocation_scatter as mls\n",
    "import mlgrad.avragg as avragg\n",
    "import mlgrad.distance as distance\n",
    "import mlgrad.func as func\n",
    "\n",
    "from mlgrad import erm_fg, erm_sg, erm_irgd, fg, fg_rud, sg, weights, averager_it, erisk\n",
    "\n",
    "import pandas as pd\n",
    "import numpy as np\n",
    "import matplotlib.pyplot as plt\n",
    "# from matplotlib import rcsetup\n",
    "plt.style.use(['seaborn-notebook', 'seaborn-white', 'seaborn-ticks'])\n",
    "\n",
    "# rcsetup.defaultParams['font.size'][0] = 12\n",
    "# rcsetup.defaultParams\n",
    "# plt.style.available"
   ]
  },
  {
   "cell_type": "code",
   "execution_count": 2,
   "metadata": {},
   "outputs": [],
   "source": [
    "import pyreadr"
   ]
  },
  {
   "cell_type": "code",
   "execution_count": 3,
   "metadata": {},
   "outputs": [
    {
     "ename": "LibrdataError",
     "evalue": "The file is compressed using an unsupported compression scheme",
     "output_type": "error",
     "traceback": [
      "\u001b[0;31m---------------------------------------------------------------------------\u001b[0m",
      "\u001b[0;31mLibrdataError\u001b[0m                             Traceback (most recent call last)",
      "\u001b[0;32m<ipython-input-3-b363d07cecfc>\u001b[0m in \u001b[0;36m<module>\u001b[0;34m()\u001b[0m\n\u001b[0;32m----> 1\u001b[0;31m \u001b[0mrdata\u001b[0m \u001b[0;34m=\u001b[0m \u001b[0mpyreadr\u001b[0m\u001b[0;34m.\u001b[0m\u001b[0mpyreadr\u001b[0m\u001b[0;34m.\u001b[0m\u001b[0mread_r\u001b[0m\u001b[0;34m(\u001b[0m\u001b[0;34m'data/dposs.rdata'\u001b[0m\u001b[0;34m)\u001b[0m\u001b[0;34m\u001b[0m\u001b[0;34m\u001b[0m\u001b[0m\n\u001b[0m",
      "\u001b[0;32m/home/intellimath/.local/lib/python3.7/site-packages/pyreadr/pyreadr.py\u001b[0m in \u001b[0;36mread_r\u001b[0;34m(path, use_objects, timezone)\u001b[0m\n\u001b[1;32m     38\u001b[0m     \u001b[0;32mif\u001b[0m \u001b[0mtimezone\u001b[0m\u001b[0;34m:\u001b[0m\u001b[0;34m\u001b[0m\u001b[0;34m\u001b[0m\u001b[0m\n\u001b[1;32m     39\u001b[0m         \u001b[0mparser\u001b[0m\u001b[0;34m.\u001b[0m\u001b[0mset_timezone\u001b[0m\u001b[0;34m(\u001b[0m\u001b[0mtimezone\u001b[0m\u001b[0;34m)\u001b[0m\u001b[0;34m\u001b[0m\u001b[0;34m\u001b[0m\u001b[0m\n\u001b[0;32m---> 40\u001b[0;31m     \u001b[0mparser\u001b[0m\u001b[0;34m.\u001b[0m\u001b[0mparse\u001b[0m\u001b[0;34m(\u001b[0m\u001b[0mpath\u001b[0m\u001b[0;34m)\u001b[0m\u001b[0;34m\u001b[0m\u001b[0;34m\u001b[0m\u001b[0m\n\u001b[0m\u001b[1;32m     41\u001b[0m \u001b[0;34m\u001b[0m\u001b[0m\n\u001b[1;32m     42\u001b[0m     \u001b[0mresult\u001b[0m \u001b[0;34m=\u001b[0m \u001b[0mOrderedDict\u001b[0m\u001b[0;34m(\u001b[0m\u001b[0;34m)\u001b[0m\u001b[0;34m\u001b[0m\u001b[0;34m\u001b[0m\u001b[0m\n",
      "\u001b[0;32m/home/intellimath/.local/lib/python3.7/site-packages/pyreadr/librdata.pyx\u001b[0m in \u001b[0;36mpyreadr.librdata.Parser.parse\u001b[0;34m()\u001b[0m\n",
      "\u001b[0;32m/home/intellimath/.local/lib/python3.7/site-packages/pyreadr/librdata.pyx\u001b[0m in \u001b[0;36mpyreadr.librdata.Parser.parse\u001b[0;34m()\u001b[0m\n",
      "\u001b[0;31mLibrdataError\u001b[0m: The file is compressed using an unsupported compression scheme"
     ]
    }
   ],
   "source": [
    "rdata = pyreadr.pyreadr.read_r('data/dposs.rdata')"
   ]
  },
  {
   "cell_type": "code",
   "execution_count": 2,
   "metadata": {},
   "outputs": [
    {
     "name": "stdout",
     "output_type": "stream",
     "text": [
      "178\n"
     ]
    }
   ],
   "source": [
    "names = ['p1', 'p2', 'p3', 'p4', 'p5', 'p6', 'p7', \n",
    "         'p8', 'p9', 'p10', 'p11', 'p12', 'p13']\n",
    "df = pd.read_csv('data/wine.data', names=['cls'] + names)\n",
    "print(len(df))"
   ]
  },
  {
   "cell_type": "code",
   "execution_count": null,
   "metadata": {},
   "outputs": [],
   "source": []
  },
  {
   "cell_type": "code",
   "execution_count": 3,
   "metadata": {},
   "outputs": [],
   "source": [
    "df3 = df[df['cls'] == 3]\n",
    "X = np.c_[tuple(df3[n].values for n in names)]"
   ]
  },
  {
   "cell_type": "code",
   "execution_count": 4,
   "metadata": {},
   "outputs": [],
   "source": [
    "avg = avragg.MWAverage(averager_it(func.QuantileFunc(0.80, func.Sqrt(1.0))))\n",
    "mlse = mls.MLocationScatterEstimator(avg, n_iter=7, h=0.01)\n",
    "mlse.fit(X)"
   ]
  },
  {
   "cell_type": "code",
   "execution_count": 5,
   "metadata": {},
   "outputs": [
    {
     "name": "stdout",
     "output_type": "stream",
     "text": [
      "[5.0033797490649965, 4.92677825906386, 4.9268005371615216, 4.926876135528364, 4.926997636075401, 4.927159996926194, 4.926909909082802]\n"
     ]
    },
    {
     "data": {
      "image/png": "[encoded data removed]",
      "text/plain": [
       "<Figure size 432x288 with 1 Axes>"
      ]
     },
     "metadata": {
      "needs_background": "light"
     },
     "output_type": "display_data"
    }
   ],
   "source": [
    "print(mlse.dvals)\n",
    "plt.plot(mlse.dvals)\n",
    "plt.show()"
   ]
  },
  {
   "cell_type": "code",
   "execution_count": 6,
   "metadata": {},
   "outputs": [],
   "source": [
    "loc, sc = mlse.loc, mlse.S\n",
    "distfunc = mlse.distfunc"
   ]
  },
  {
   "cell_type": "code",
   "execution_count": 7,
   "metadata": {},
   "outputs": [],
   "source": [
    "# print(loc.base)\n",
    "# print(mlse.S.base)\n",
    "# print(mlse.K)"
   ]
  },
  {
   "cell_type": "code",
   "execution_count": 8,
   "metadata": {},
   "outputs": [],
   "source": [
    "# plt.figure(figsize=(5.0, 4.0))\n",
    "# plt.scatter(X, Y, s=49, c='w', edgecolors='k', linewidth=1.)\n",
    "# plt.scatter([loc[0]], [loc[1]], s=49, c='k', edgecolors='k', linewidth=1., marker='o', label='robust')\n",
    "# plt.scatter([loc0[0]], [loc0[1]], s=49, c='k', edgecolors='k', linewidth=1., marker='s', label='standard')\n",
    "# plt.minorticks_on()\n",
    "# plt.grid(1)\n",
    "# plt.legend()\n",
    "# plt.show()"
   ]
  },
  {
   "cell_type": "code",
   "execution_count": 9,
   "metadata": {},
   "outputs": [
    {
     "name": "stdout",
     "output_type": "stream",
     "text": [
      "[1.31537500e+01 3.33375000e+00 2.43708333e+00 2.14166667e+01\n",
      " 9.93125000e+01 1.67875000e+00 7.81458333e-01 4.47500000e-01\n",
      " 1.15354167e+00 7.39624998e+00 6.82708333e-01 1.68354167e+00\n",
      " 6.29895833e+02]\n",
      "[1.31582100e+01 3.30656758e+00 2.45397905e+00 2.14486093e+01\n",
      " 9.83972455e+01 1.70687272e+00 8.02731162e-01 4.54861357e-01\n",
      " 1.16175814e+00 7.44319341e+00 6.95833908e-01 1.67854922e+00\n",
      " 6.10672358e+02]\n"
     ]
    }
   ],
   "source": [
    "loc, S = mlse.loc.base, mlse.S.base\n",
    "distfunc = mlse.distfunc\n",
    "\n",
    "loc0 = mls.standard_location(X)\n",
    "S0 = mls.standard_covariance(X, loc0)\n",
    "mls.scale_matrix(S0)\n",
    "print(loc0)\n",
    "print(loc)"
   ]
  },
  {
   "cell_type": "code",
   "execution_count": 10,
   "metadata": {},
   "outputs": [],
   "source": [
    "distfunc = distance.MahalanobisDistance(np.linalg.inv(S))\n",
    "distfunc0 = distance.MahalanobisDistance(np.linalg.inv(S0))"
   ]
  },
  {
   "cell_type": "code",
   "execution_count": 11,
   "metadata": {},
   "outputs": [
    {
     "data": {
      "image/png": "[encoded data removed]",
      "text/plain": [
       "<Figure size 360x288 with 1 Axes>"
      ]
     },
     "metadata": {
      "needs_background": "light"
     },
     "output_type": "display_data"
    }
   ],
   "source": [
    "plt.figure(figsize=(5.0, 4.0))\n",
    "D0 = [distfunc0(x, loc0) for x in X]\n",
    "D = [distfunc(x, loc) for x in X]\n",
    "plt.scatter(D0, D, c='w', edgecolor='k', linewidth=1)\n",
    "plt.xlabel('Классическое расстояние')\n",
    "plt.ylabel('Робастное расстояние')\n",
    "plt.title('WINE [class=3]')\n",
    "plt.savefig('fig/robust_clustering_elipse_wine_3.eps')\n",
    "plt.show()"
   ]
  },
  {
   "cell_type": "code",
   "execution_count": null,
   "metadata": {},
   "outputs": [],
   "source": []
  }
 ],
 "metadata": {
  "kernelspec": {
   "display_name": "Python 3 (ipykernel)",
   "language": "python",
   "name": "python3"
  },
  "language_info": {
   "codemirror_mode": {
    "name": "ipython",
    "version": 3
   },
   "file_extension": ".py",
   "mimetype": "text/x-python",
   "name": "python",
   "nbconvert_exporter": "python",
   "pygments_lexer": "ipython3",
   "version": "3.10.8"
  }
 },
 "nbformat": 4,
 "nbformat_minor": 4
}
