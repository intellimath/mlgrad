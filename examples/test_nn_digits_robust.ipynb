{
 "cells": [
  {
   "cell_type": "code",
   "execution_count": 1,
   "metadata": {
    "ExecuteTime": {
     "end_time": "2017-12-27T11:27:32.910717Z",
     "start_time": "2017-12-27T11:27:26.882237Z"
    }
   },
   "outputs": [],
   "source": [
    "import numpy as np\n",
    "\n",
    "import mlgrad.model as model\n",
    "import mlgrad.loss as loss\n",
    "import mlgrad.func as func\n",
    "\n",
    "from mlgrad import erm_fg, erm_irgd, fg, weights, averager_it, erisk2, sg, erm_sg\n",
    "\n",
    "from pprint import pprint\n",
    "\n",
    "from axon import loads, dumps\n",
    "from sklearn.datasets import load_digits\n",
    "from sklearn.preprocessing import MinMaxScaler\n",
    "\n",
    "import matplotlib.pyplot as plt\n",
    "\n",
    "from random import randint"
   ]
  },
  {
   "cell_type": "code",
   "execution_count": 2,
   "metadata": {
    "ExecuteTime": {
     "end_time": "2017-12-27T11:27:33.172178Z",
     "start_time": "2017-12-27T11:27:32.912785Z"
    }
   },
   "outputs": [
    {
     "name": "stdout",
     "output_type": "stream",
     "text": [
      "(1797, 64)\n"
     ]
    }
   ],
   "source": [
    "digits = load_digits()\n",
    "X, Y = digits.data, digits.target\n",
    "print(X.shape)\n",
    "scaler = MinMaxScaler()\n",
    "Xt = scaler.fit_transform(X)"
   ]
  },
  {
   "cell_type": "code",
   "execution_count": 3,
   "metadata": {
    "ExecuteTime": {
     "end_time": "2017-12-27T11:27:33.197476Z",
     "start_time": "2017-12-27T11:27:33.174721Z"
    }
   },
   "outputs": [],
   "source": [
    "def sigma_neuron_layer(n_input, n):\n",
    "    layer = model.ModelLayer(n_input)\n",
    "    for i in range(n):\n",
    "        mod = model.SigmaNeuronModel(func.Arctang(), n_input)\n",
    "        layer.add(mod)\n",
    "    return layer\n",
    "\n",
    "def linear_neuron_layer(n_input, n):\n",
    "    layer = model.ModelLayer(n_input)\n",
    "    for i in range(n):\n",
    "        mod = model.LinearModel(n_input)\n",
    "        layer.add(mod)\n",
    "    return layer"
   ]
  },
  {
   "cell_type": "code",
   "execution_count": 4,
   "metadata": {
    "ExecuteTime": {
     "end_time": "2017-12-27T11:27:33.221359Z",
     "start_time": "2017-12-27T11:27:33.200447Z"
    }
   },
   "outputs": [
    {
     "name": "stdout",
     "output_type": "stream",
     "text": [
      "(1797, 10) (1797, 64)\n"
     ]
    }
   ],
   "source": [
    "def binarize(Y, n):\n",
    "    N = len(Y)\n",
    "    data = np.zeros((N,n), 'd')\n",
    "    rows = []\n",
    "    for k in range(N):\n",
    "        data[k, Y[k]] = 1\n",
    "    data = 2*data-1\n",
    "    return data\n",
    "\n",
    "Ys = binarize(Y, 10)\n",
    "print(Ys.shape, Xt.shape)"
   ]
  },
  {
   "cell_type": "code",
   "execution_count": 5,
   "metadata": {},
   "outputs": [],
   "source": [
    "result = {}"
   ]
  },
  {
   "cell_type": "code",
   "execution_count": 6,
   "metadata": {
    "ExecuteTime": {
     "end_time": "2017-12-27T11:27:33.249387Z",
     "start_time": "2017-12-27T11:27:33.225287Z"
    }
   },
   "outputs": [],
   "source": [
    "n_input = 64\n",
    "n_hidden = 20\n",
    "def create_nn(n_input = 64, n_hidden = 30):\n",
    "    layer1 = sigma_neuron_layer(n_input, n_hidden)\n",
    "    layer2 = linear_neuron_layer(n_hidden, 10)\n",
    "\n",
    "    ffnn = model.FFNetworkModel()\n",
    "    ffnn.add(layer1)\n",
    "    ffnn.add(layer2)\n",
    "\n",
    "    ffnn.allocate()\n",
    "    return ffnn\n",
    "\n",
    "def clf_func(ffnn, x):\n",
    "    return np.argmax(np.sign(ffnn(x)))\n",
    "\n",
    "def margin_func(ffnn, x, y):\n",
    "    u = ffnn(x)\n",
    "    j =  np.argmax(np.sign(u))\n",
    "    if j == y:\n",
    "        return np.abs(u[j])\n",
    "    else:\n",
    "        return -np.abs(u[j])        "
   ]
  },
  {
   "cell_type": "code",
   "execution_count": 7,
   "metadata": {},
   "outputs": [
    {
     "name": "stdout",
     "output_type": "stream",
     "text": [
      "898 898 898\n"
     ]
    }
   ],
   "source": [
    "q = 0.50\n",
    "Q = int(100*q)\n",
    "\n",
    "N = len(Y)\n",
    "N_q = int(q*N)\n",
    "\n",
    "rep_dict = {0:8, 1:7, 2:7, 3:8, 4:9, 5:6, 6:8, 7:1, 8:0, 9:8}\n",
    "\n",
    "Y_o = Y.copy()\n",
    "Is = np.random.permutation(range(N))\n",
    "\n",
    "for i in Is[:N_q]:\n",
    "    Y_o[i] = rep_dict[Y_o[i]]\n",
    "\n",
    "Ys_o = binarize(Y_o, 10)\n",
    "\n",
    "print(N_q, np.sum(Y_o != Y), np.sum(Ys_o != Ys)//2)"
   ]
  },
  {
   "cell_type": "code",
   "execution_count": 8,
   "metadata": {},
   "outputs": [],
   "source": [
    "ffnn0 = create_nn(n_input, n_hidden)\n",
    "ffnn0.param[:] = np.random.random(size=ffnn0.n_param)"
   ]
  },
  {
   "cell_type": "code",
   "execution_count": 9,
   "metadata": {},
   "outputs": [],
   "source": [
    "ffnn1 = create_nn(n_input, n_hidden)\n",
    "ffnn1.param[:] = np.random.random(size=ffnn1.n_param)"
   ]
  },
  {
   "cell_type": "code",
   "execution_count": 45,
   "metadata": {},
   "outputs": [],
   "source": [
    "ffnn2 = create_nn(n_input, n_hidden)\n",
    "ffnn2.param[:] = np.random.random(size=ffnn2.n_param)"
   ]
  },
  {
   "cell_type": "code",
   "execution_count": 44,
   "metadata": {},
   "outputs": [
    {
     "name": "stdout",
     "output_type": "stream",
     "text": [
      "682 [0.11007955 0.99940696 0.12792146 ... 0.10235137 0.02170927 0.16635137]\n"
     ]
    }
   ],
   "source": [
    "loss_func0 = loss.MarginMultLoss(func.Hinge(1.0))\n",
    "er0 = erisk2(Xt, Ys_o, ffnn0, loss_func0)\n",
    "fg0 = erm_fg(er0, h=0.001, tol=1.0e-6, n_iter=1000)"
   ]
  },
  {
   "cell_type": "code",
   "execution_count": 46,
   "metadata": {},
   "outputs": [
    {
     "data": {
      "text/plain": [
       "[<matplotlib.lines.Line2D at 0x113c45898>]"
      ]
     },
     "execution_count": 46,
     "metadata": {},
     "output_type": "execute_result"
    },
    {
     "data": {
      "image/png": "[encoded data removed]",
      "text/plain": [
       "<Figure size 432x288 with 1 Axes>"
      ]
     },
     "metadata": {},
     "output_type": "display_data"
    }
   ],
   "source": [
    "plt.plot(fg0.lvals)"
   ]
  },
  {
   "cell_type": "code",
   "execution_count": 47,
   "metadata": {},
   "outputs": [
    {
     "data": {
      "text/plain": [
       "0.09905397885364496"
      ]
     },
     "execution_count": 47,
     "metadata": {},
     "output_type": "execute_result"
    }
   ],
   "source": [
    "np.sum([clf_func(ffnn0, x) == y for x,y in zip(Xt,Y)])/len(Y)"
   ]
  },
  {
   "cell_type": "code",
   "execution_count": null,
   "metadata": {
    "ExecuteTime": {
     "end_time": "2017-12-27T11:27:33.623224Z",
     "start_time": "2017-12-27T11:27:33.252206Z"
    },
    "scrolled": true
   },
   "outputs": [],
   "source": [
    "loss_func1 = loss.MarginMultLoss(func.Hinge(1.0))\n",
    "er1 = erisk2(Xt, Ys_o, ffnn1, loss_func1)\n",
    "fg1 = erm_fg(er1, h=0.001, tol=1.0e-6, n_iter=1000)"
   ]
  },
  {
   "cell_type": "code",
   "execution_count": null,
   "metadata": {},
   "outputs": [],
   "source": [
    "plt.plot(fg1.lvals)"
   ]
  },
  {
   "cell_type": "code",
   "execution_count": null,
   "metadata": {},
   "outputs": [],
   "source": [
    "np.sum([clf_func(ffnn1, x) == y for x,y in zip(Xt,Y)])/len(Y)"
   ]
  },
  {
   "cell_type": "code",
   "execution_count": 52,
   "metadata": {},
   "outputs": [],
   "source": [
    "loss_func2 = loss.MarginMultLoss(func.Hinge())\n",
    "er2 = erisk2(Xt, Ys_o, ffnn2, loss_func2)\n",
    "fg2 = fg(er2, h=0.1, tol=1.0e-5, n_iter=1000)\n",
    "avg2 = averager_it(func.QuantileFunc(0.6, func.Sqrt(1.0)))\n",
    "wg2 = weights.MWeights(avg2, er2)\n",
    "alg = erm_irgd(fg2, wg2, n_iter=12)"
   ]
  },
  {
   "cell_type": "code",
   "execution_count": 53,
   "metadata": {},
   "outputs": [
    {
     "data": {
      "image/png": "[encoded data removed]",
      "text/plain": [
       "<Figure size 576x288 with 2 Axes>"
      ]
     },
     "metadata": {},
     "output_type": "display_data"
    }
   ],
   "source": [
    "plt.figure(figsize=(8,4))\n",
    "plt.subplot(1,2,1)\n",
    "plt.plot(alg.lvals)\n",
    "plt.subplot(1,2,2)\n",
    "plt.plot(alg.n_iters)\n",
    "plt.tight_layout()\n",
    "plt.show()"
   ]
  },
  {
   "cell_type": "code",
   "execution_count": 54,
   "metadata": {},
   "outputs": [
    {
     "data": {
      "text/plain": [
       "0.21535893155258765"
      ]
     },
     "execution_count": 54,
     "metadata": {},
     "output_type": "execute_result"
    }
   ],
   "source": [
    "np.sum([clf_func(ffnn2, x) == y for x,y in zip(Xt,Y)])/len(Y)"
   ]
  },
  {
   "cell_type": "code",
   "execution_count": 55,
   "metadata": {},
   "outputs": [
    {
     "data": {
      "image/png": "[encoded data removed]",
      "text/plain": [
       "<Figure size 432x288 with 1 Axes>"
      ]
     },
     "metadata": {},
     "output_type": "display_data"
    }
   ],
   "source": [
    "U = [margin_func(ffnn2, x, y) for x, y in zip(Xt, Y)]\n",
    "U = sorted(U)\n",
    "\n",
    "plt.plot(U)\n",
    "plt.hlines(0, 0, 1750)\n",
    "plt.show()"
   ]
  },
  {
   "cell_type": "code",
   "execution_count": null,
   "metadata": {},
   "outputs": [],
   "source": [
    "result[Q] = {\n",
    "    'nn':(ffnn0, ffnn1, ffnn2),\n",
    "    'title':(\n",
    "        'AM / $r^2$ / %s%%' % Q,\n",
    "        'AM / $|r|$ / %s%%' % Q,\n",
    "        'WM$_{%.2f}$ / $r^2$ / %s%%' % (1.1-q, Q) ),\n",
    "}"
   ]
  },
  {
   "cell_type": "code",
   "execution_count": null,
   "metadata": {},
   "outputs": [],
   "source": [
    "m_q = len(result)\n",
    "plt.figure(figsize=(12.0, m_q * 3.0))\n",
    "for j, Q in enumerate(result):\n",
    "    for i in range(3):\n",
    "        current = result[Q]\n",
    "        plt.subplot(m_q, 3, 3*j+i+1)\n",
    "        _ffnn = current['nn'][i]\n",
    "        Y1 = np.array([clf_func(_ffnn, x) for x in Xt])\n",
    "        title = current['title'][i]\n",
    "        \n",
    "        image = np.zeros((10,10), 'd')\n",
    "        for k,l in zip(Y, Y1):\n",
    "            image[k,l] += 1.0\n",
    "        plt.title(title)\n",
    "        plt.plot(0, 9, c='k')\n",
    "        plt.imshow(image, cmap=plt.cm.gray_r)\n",
    "        c = sum(Y != Y1) / len(Y) * 100\n",
    "        plt.ylim(-0.7, 10.8)\n",
    "        plt.text(0, 10, r'errors: %.1f%%' % c)\n",
    "        if i == 0:\n",
    "            plt.ylabel(\"predicted target\")\n",
    "        else:\n",
    "            plt.yticks([], [])\n",
    "        if j == m_q-1:\n",
    "            plt.xlabel(\"original target\")\n",
    "        if j < m_q-1:\n",
    "            plt.xticks([], [])\n",
    "        #plt.minorticks_on()\n",
    "plt.tight_layout()\n",
    "plt.savefig(r\"fig/isnn2018_digits_robust_%s.pdf\" % n_hidden)\n",
    "plt.show()"
   ]
  },
  {
   "cell_type": "code",
   "execution_count": null,
   "metadata": {},
   "outputs": [],
   "source": []
  }
 ],
 "metadata": {
  "hide_input": false,
  "kernelspec": {
   "display_name": "Python 3",
   "language": "python",
   "name": "python3"
  },
  "language_info": {
   "codemirror_mode": {
    "name": "ipython",
    "version": 3
   },
   "file_extension": ".py",
   "mimetype": "text/x-python",
   "name": "python",
   "nbconvert_exporter": "python",
   "pygments_lexer": "ipython3",
   "version": "3.6.4"
  }
 },
 "nbformat": 4,
 "nbformat_minor": 2
}
