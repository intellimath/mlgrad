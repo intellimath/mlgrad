{
 "cells": [
  {
   "cell_type": "code",
   "execution_count": 1,
   "metadata": {
    "collapsed": true
   },
   "outputs": [],
   "source": [
    "import mlgrad.loss as loss"
   ]
  },
  {
   "cell_type": "markdown",
   "metadata": {},
   "source": [
    "### Square"
   ]
  },
  {
   "cell_type": "code",
   "execution_count": 2,
   "metadata": {},
   "outputs": [
    {
     "data": {
      "text/latex": [
       "$\\ell(y,\\tilde y)=0.5(y-\\tilde y)^2$"
      ],
      "text/plain": [
       "<mlgrad.loss.SquareLoss at 0x103b66918>"
      ]
     },
     "execution_count": 2,
     "metadata": {},
     "output_type": "execute_result"
    }
   ],
   "source": [
    "square = loss.SquareLoss()\n",
    "square"
   ]
  },
  {
   "cell_type": "code",
   "execution_count": 3,
   "metadata": {},
   "outputs": [],
   "source": [
    "assert square.evaluate(1.,1.) == 0\n",
    "assert square.evaluate(1.,0.) == 0.5"
   ]
  },
  {
   "cell_type": "code",
   "execution_count": 4,
   "metadata": {
    "collapsed": true
   },
   "outputs": [],
   "source": [
    "assert square.derivative(1.,1.) == 0\n",
    "assert square.derivative(1.,0.) == 1"
   ]
  },
  {
   "cell_type": "markdown",
   "metadata": {},
   "source": [
    "### Power"
   ]
  },
  {
   "cell_type": "code",
   "execution_count": 5,
   "metadata": {},
   "outputs": [
    {
     "data": {
      "text/latex": [
       "$\\ell(y,\\tilde y)=\\frac{1}{p}(y-\\tilde y)^p$"
      ],
      "text/plain": [
       "<mlgrad.loss.PowerLoss at 0x103eea630>"
      ]
     },
     "execution_count": 5,
     "metadata": {},
     "output_type": "execute_result"
    }
   ],
   "source": [
    "power = loss.PowerLoss(2.0)\n",
    "power"
   ]
  },
  {
   "cell_type": "code",
   "execution_count": 6,
   "metadata": {},
   "outputs": [],
   "source": [
    "assert power.evaluate(1.,1.) == 0\n",
    "assert power.evaluate(1.,0.) == 1./power.p"
   ]
  },
  {
   "cell_type": "code",
   "execution_count": 7,
   "metadata": {},
   "outputs": [],
   "source": [
    "assert power.derivative(1.,1.) == 0\n",
    "assert power.derivative(1.,0.) == 1.0"
   ]
  },
  {
   "cell_type": "markdown",
   "metadata": {},
   "source": [
    "###  Huber"
   ]
  },
  {
   "cell_type": "code",
   "execution_count": 8,
   "metadata": {},
   "outputs": [
    {
     "data": {
      "text/latex": [
       "$\\displaystyle\n",
       "            \\ell(y,\\tilde y)=\\cases{\n",
       "                0.5c|y-\\tilde y|, & |y-\\tilde y|<c\\\\\n",
       "                c|y-\\tilde y|, & |y-\\tilde y| \\geq c\\\\\n",
       "            }\n",
       "        $"
      ],
      "text/plain": [
       "<mlgrad.loss.HuberLoss at 0x103285af0>"
      ]
     },
     "execution_count": 8,
     "metadata": {},
     "output_type": "execute_result"
    }
   ],
   "source": [
    "huber = loss.HuberLoss()\n",
    "huber"
   ]
  },
  {
   "cell_type": "markdown",
   "metadata": {},
   "source": [
    "$\\displaystyle\n",
    "            \\ell(y,\\tilde y)=\\cases{\n",
    "                0.5c|y-\\tilde y|, & $|y-\\tilde y| \\leqslant c$\\\\\n",
    "                c|y-\\tilde y|, & $|y-\\tilde y| > c$\n",
    "            }\n",
    "        $"
   ]
  },
  {
   "cell_type": "code",
   "execution_count": null,
   "metadata": {
    "collapsed": true
   },
   "outputs": [],
   "source": []
  }
 ],
 "metadata": {
  "kernelspec": {
   "display_name": "Python 3",
   "language": "python",
   "name": "python3"
  },
  "language_info": {
   "codemirror_mode": {
    "name": "ipython",
    "version": 3
   },
   "file_extension": ".py",
   "mimetype": "text/x-python",
   "name": "python",
   "nbconvert_exporter": "python",
   "pygments_lexer": "ipython3",
   "version": "3.6.1"
  }
 },
 "nbformat": 4,
 "nbformat_minor": 1
}
