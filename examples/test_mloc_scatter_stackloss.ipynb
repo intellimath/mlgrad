{
 "cells": [
  {
   "cell_type": "code",
   "execution_count": 2,
   "metadata": {
    "execution": {
     "iopub.execute_input": "2023-11-20T15:25:42.504430Z",
     "iopub.status.busy": "2023-11-20T15:25:42.503742Z",
     "iopub.status.idle": "2023-11-20T15:25:43.387699Z",
     "shell.execute_reply": "2023-11-20T15:25:43.386784Z",
     "shell.execute_reply.started": "2023-11-20T15:25:42.504402Z"
    }
   },
   "outputs": [
    {
     "name": "stderr",
     "output_type": "stream",
     "text": [
      "/tmp/ipykernel_289153/4042154033.py:11: MatplotlibDeprecationWarning: The seaborn styles shipped by Matplotlib are deprecated since 3.6, as they no longer correspond to the styles shipped by seaborn. However, they will remain available as 'seaborn-v0_8-<style>'. Alternatively, directly use the seaborn API instead.\n",
      "  plt.style.use(['seaborn-notebook', 'seaborn-white', 'seaborn-ticks'])\n",
      "/tmp/ipykernel_289153/4042154033.py:11: MatplotlibDeprecationWarning: The seaborn styles shipped by Matplotlib are deprecated since 3.6, as they no longer correspond to the styles shipped by seaborn. However, they will remain available as 'seaborn-v0_8-<style>'. Alternatively, directly use the seaborn API instead.\n",
      "  plt.style.use(['seaborn-notebook', 'seaborn-white', 'seaborn-ticks'])\n",
      "/tmp/ipykernel_289153/4042154033.py:11: MatplotlibDeprecationWarning: The seaborn styles shipped by Matplotlib are deprecated since 3.6, as they no longer correspond to the styles shipped by seaborn. However, they will remain available as 'seaborn-v0_8-<style>'. Alternatively, directly use the seaborn API instead.\n",
      "  plt.style.use(['seaborn-notebook', 'seaborn-white', 'seaborn-ticks'])\n"
     ]
    }
   ],
   "source": [
    "import mlgrad.mlocation_scatter2 as mls\n",
    "import mlgrad.avragg as avragg\n",
    "import mlgrad.distance as distance\n",
    "import mlgrad.func as func\n",
    "\n",
    "from mlgrad import erm_fg, erm_sg, erm_irgd, fg, fg_rud, sg, weights, averager_it, erisk\n",
    "\n",
    "import pandas as pd\n",
    "import numpy as np\n",
    "import matplotlib.pyplot as plt\n",
    "plt.style.use(['seaborn-notebook', 'seaborn-white', 'seaborn-ticks'])"
   ]
  },
  {
   "cell_type": "code",
   "execution_count": 3,
   "metadata": {
    "execution": {
     "iopub.execute_input": "2023-11-20T15:25:43.389817Z",
     "iopub.status.busy": "2023-11-20T15:25:43.389265Z",
     "iopub.status.idle": "2023-11-20T15:25:43.451164Z",
     "shell.execute_reply": "2023-11-20T15:25:43.449778Z",
     "shell.execute_reply.started": "2023-11-20T15:25:43.389767Z"
    }
   },
   "outputs": [
    {
     "data": {
      "text/html": [
       "<div>\n",
       "<style scoped>\n",
       "    .dataframe tbody tr th:only-of-type {\n",
       "        vertical-align: middle;\n",
       "    }\n",
       "\n",
       "    .dataframe tbody tr th {\n",
       "        vertical-align: top;\n",
       "    }\n",
       "\n",
       "    .dataframe thead th {\n",
       "        text-align: right;\n",
       "    }\n",
       "</style>\n",
       "<table border=\"1\" class=\"dataframe\">\n",
       "  <thead>\n",
       "    <tr style=\"text-align: right;\">\n",
       "      <th></th>\n",
       "      <th>STACKLOSS</th>\n",
       "      <th>AIRFLOW</th>\n",
       "      <th>WATERTEMP</th>\n",
       "      <th>ACIDCONC</th>\n",
       "    </tr>\n",
       "  </thead>\n",
       "  <tbody>\n",
       "    <tr>\n",
       "      <th>0</th>\n",
       "      <td>42</td>\n",
       "      <td>80</td>\n",
       "      <td>27</td>\n",
       "      <td>89</td>\n",
       "    </tr>\n",
       "    <tr>\n",
       "      <th>1</th>\n",
       "      <td>37</td>\n",
       "      <td>80</td>\n",
       "      <td>27</td>\n",
       "      <td>88</td>\n",
       "    </tr>\n",
       "    <tr>\n",
       "      <th>2</th>\n",
       "      <td>37</td>\n",
       "      <td>75</td>\n",
       "      <td>25</td>\n",
       "      <td>90</td>\n",
       "    </tr>\n",
       "    <tr>\n",
       "      <th>3</th>\n",
       "      <td>28</td>\n",
       "      <td>62</td>\n",
       "      <td>24</td>\n",
       "      <td>87</td>\n",
       "    </tr>\n",
       "    <tr>\n",
       "      <th>4</th>\n",
       "      <td>18</td>\n",
       "      <td>62</td>\n",
       "      <td>22</td>\n",
       "      <td>87</td>\n",
       "    </tr>\n",
       "    <tr>\n",
       "      <th>5</th>\n",
       "      <td>18</td>\n",
       "      <td>62</td>\n",
       "      <td>23</td>\n",
       "      <td>87</td>\n",
       "    </tr>\n",
       "    <tr>\n",
       "      <th>6</th>\n",
       "      <td>19</td>\n",
       "      <td>62</td>\n",
       "      <td>24</td>\n",
       "      <td>93</td>\n",
       "    </tr>\n",
       "    <tr>\n",
       "      <th>7</th>\n",
       "      <td>20</td>\n",
       "      <td>62</td>\n",
       "      <td>24</td>\n",
       "      <td>93</td>\n",
       "    </tr>\n",
       "    <tr>\n",
       "      <th>8</th>\n",
       "      <td>15</td>\n",
       "      <td>58</td>\n",
       "      <td>23</td>\n",
       "      <td>87</td>\n",
       "    </tr>\n",
       "    <tr>\n",
       "      <th>9</th>\n",
       "      <td>14</td>\n",
       "      <td>58</td>\n",
       "      <td>18</td>\n",
       "      <td>80</td>\n",
       "    </tr>\n",
       "    <tr>\n",
       "      <th>10</th>\n",
       "      <td>14</td>\n",
       "      <td>58</td>\n",
       "      <td>18</td>\n",
       "      <td>89</td>\n",
       "    </tr>\n",
       "    <tr>\n",
       "      <th>11</th>\n",
       "      <td>13</td>\n",
       "      <td>58</td>\n",
       "      <td>17</td>\n",
       "      <td>88</td>\n",
       "    </tr>\n",
       "    <tr>\n",
       "      <th>12</th>\n",
       "      <td>11</td>\n",
       "      <td>58</td>\n",
       "      <td>18</td>\n",
       "      <td>82</td>\n",
       "    </tr>\n",
       "    <tr>\n",
       "      <th>13</th>\n",
       "      <td>12</td>\n",
       "      <td>58</td>\n",
       "      <td>19</td>\n",
       "      <td>93</td>\n",
       "    </tr>\n",
       "    <tr>\n",
       "      <th>14</th>\n",
       "      <td>8</td>\n",
       "      <td>50</td>\n",
       "      <td>18</td>\n",
       "      <td>89</td>\n",
       "    </tr>\n",
       "    <tr>\n",
       "      <th>15</th>\n",
       "      <td>7</td>\n",
       "      <td>50</td>\n",
       "      <td>18</td>\n",
       "      <td>86</td>\n",
       "    </tr>\n",
       "    <tr>\n",
       "      <th>16</th>\n",
       "      <td>8</td>\n",
       "      <td>50</td>\n",
       "      <td>19</td>\n",
       "      <td>72</td>\n",
       "    </tr>\n",
       "    <tr>\n",
       "      <th>17</th>\n",
       "      <td>8</td>\n",
       "      <td>50</td>\n",
       "      <td>19</td>\n",
       "      <td>79</td>\n",
       "    </tr>\n",
       "    <tr>\n",
       "      <th>18</th>\n",
       "      <td>9</td>\n",
       "      <td>50</td>\n",
       "      <td>20</td>\n",
       "      <td>80</td>\n",
       "    </tr>\n",
       "    <tr>\n",
       "      <th>19</th>\n",
       "      <td>15</td>\n",
       "      <td>56</td>\n",
       "      <td>20</td>\n",
       "      <td>82</td>\n",
       "    </tr>\n",
       "    <tr>\n",
       "      <th>20</th>\n",
       "      <td>15</td>\n",
       "      <td>70</td>\n",
       "      <td>20</td>\n",
       "      <td>91</td>\n",
       "    </tr>\n",
       "  </tbody>\n",
       "</table>\n",
       "</div>"
      ],
      "text/plain": [
       "    STACKLOSS  AIRFLOW  WATERTEMP  ACIDCONC\n",
       "0          42       80         27        89\n",
       "1          37       80         27        88\n",
       "2          37       75         25        90\n",
       "3          28       62         24        87\n",
       "4          18       62         22        87\n",
       "5          18       62         23        87\n",
       "6          19       62         24        93\n",
       "7          20       62         24        93\n",
       "8          15       58         23        87\n",
       "9          14       58         18        80\n",
       "10         14       58         18        89\n",
       "11         13       58         17        88\n",
       "12         11       58         18        82\n",
       "13         12       58         19        93\n",
       "14          8       50         18        89\n",
       "15          7       50         18        86\n",
       "16          8       50         19        72\n",
       "17          8       50         19        79\n",
       "18          9       50         20        80\n",
       "19         15       56         20        82\n",
       "20         15       70         20        91"
      ]
     },
     "execution_count": 3,
     "metadata": {},
     "output_type": "execute_result"
    }
   ],
   "source": [
    "df = pd.read_csv('data/stackloss.csv')\n",
    "df"
   ]
  },
  {
   "cell_type": "code",
   "execution_count": 4,
   "metadata": {
    "execution": {
     "iopub.execute_input": "2023-11-20T15:25:43.987071Z",
     "iopub.status.busy": "2023-11-20T15:25:43.986842Z",
     "iopub.status.idle": "2023-11-20T15:25:43.990900Z",
     "shell.execute_reply": "2023-11-20T15:25:43.989691Z",
     "shell.execute_reply.started": "2023-11-20T15:25:43.987052Z"
    }
   },
   "outputs": [],
   "source": [
    "#pd.plotting.scatter_matrix(df)"
   ]
  },
  {
   "cell_type": "code",
   "execution_count": 5,
   "metadata": {
    "execution": {
     "iopub.execute_input": "2023-11-20T15:25:44.738579Z",
     "iopub.status.busy": "2023-11-20T15:25:44.738226Z",
     "iopub.status.idle": "2023-11-20T15:25:44.744153Z",
     "shell.execute_reply": "2023-11-20T15:25:44.743482Z",
     "shell.execute_reply.started": "2023-11-20T15:25:44.738547Z"
    }
   },
   "outputs": [
    {
     "name": "stdout",
     "output_type": "stream",
     "text": [
      "21\n",
      "0.8095238095238095\n"
     ]
    }
   ],
   "source": [
    "X = df[\"WATERTEMP\"].values.reshape((-1,1))\n",
    "X = np.asarray(X, \"d\")\n",
    "Y = df[\"STACKLOSS\"].values\n",
    "\n",
    "# X = np.log(X)\n",
    "# Y = np.log(Y)\n",
    "print(len(Y))\n",
    "print(17/21)"
   ]
  },
  {
   "cell_type": "code",
   "execution_count": 6,
   "metadata": {
    "execution": {
     "iopub.execute_input": "2023-11-20T15:25:45.547958Z",
     "iopub.status.busy": "2023-11-20T15:25:45.547459Z",
     "iopub.status.idle": "2023-11-20T15:25:46.026786Z",
     "shell.execute_reply": "2023-11-20T15:25:46.026010Z",
     "shell.execute_reply.started": "2023-11-20T15:25:45.547936Z"
    }
   },
   "outputs": [
    {
     "data": {
      "image/png": "[encoded data removed]",
      "text/plain": [
       "<Figure size 500x400 with 1 Axes>"
      ]
     },
     "metadata": {},
     "output_type": "display_data"
    }
   ],
   "source": [
    "plt.figure(figsize=(5.0, 4.0))\n",
    "plt.scatter(X, Y, s=49, c='w', edgecolors='k', linewidth=1.)\n",
    "plt.minorticks_on()\n",
    "plt.grid(1)\n",
    "plt.show()"
   ]
  },
  {
   "cell_type": "code",
   "execution_count": 7,
   "metadata": {
    "execution": {
     "iopub.execute_input": "2023-11-20T15:25:46.365222Z",
     "iopub.status.busy": "2023-11-20T15:25:46.364987Z",
     "iopub.status.idle": "2023-11-20T15:25:46.368966Z",
     "shell.execute_reply": "2023-11-20T15:25:46.367871Z",
     "shell.execute_reply.started": "2023-11-20T15:25:46.365202Z"
    }
   },
   "outputs": [],
   "source": [
    "XY = np.c_[X, Y]"
   ]
  },
  {
   "cell_type": "code",
   "execution_count": 8,
   "metadata": {
    "execution": {
     "iopub.execute_input": "2023-11-20T15:25:47.147644Z",
     "iopub.status.busy": "2023-11-20T15:25:47.147290Z",
     "iopub.status.idle": "2023-11-20T15:25:47.210405Z",
     "shell.execute_reply": "2023-11-20T15:25:47.208898Z",
     "shell.execute_reply.started": "2023-11-20T15:25:47.147613Z"
    }
   },
   "outputs": [
    {
     "ename": "NameError",
     "evalue": "name 'Average_Iterative' is not defined",
     "output_type": "error",
     "traceback": [
      "\u001b[0;31m---------------------------------------------------------------------------\u001b[0m",
      "\u001b[0;31mNameError\u001b[0m                                 Traceback (most recent call last)",
      "Cell \u001b[0;32mIn [8], line 1\u001b[0m\n\u001b[0;32m----> 1\u001b[0m avg \u001b[38;5;241m=\u001b[39m avragg\u001b[38;5;241m.\u001b[39mWMAverage(\u001b[43maverager_it\u001b[49m\u001b[43m(\u001b[49m\u001b[43mfunc\u001b[49m\u001b[38;5;241;43m.\u001b[39;49m\u001b[43mQuantileFunc\u001b[49m\u001b[43m(\u001b[49m\u001b[38;5;241;43m0.81\u001b[39;49m\u001b[43m,\u001b[49m\u001b[43m \u001b[49m\u001b[43mfunc\u001b[49m\u001b[38;5;241;43m.\u001b[39;49m\u001b[43mSqrt\u001b[49m\u001b[43m(\u001b[49m\u001b[38;5;241;43m0.001\u001b[39;49m\u001b[43m)\u001b[49m\u001b[43m)\u001b[49m\u001b[43m)\u001b[49m)\n\u001b[1;32m      2\u001b[0m \u001b[38;5;66;03m# avg = averager_it(func.QuantileFunc(0.81, func.Sqrt(0.001)))\u001b[39;00m\n\u001b[1;32m      3\u001b[0m mlse \u001b[38;5;241m=\u001b[39m mls\u001b[38;5;241m.\u001b[39mMLocationScatterEstimator(avg, n_iter\u001b[38;5;241m=\u001b[39m\u001b[38;5;241m50\u001b[39m, normalize_S\u001b[38;5;241m=\u001b[39m\u001b[38;5;241m1\u001b[39m)\n",
      "File \u001b[0;32m~/.local/lib/python3.11/site-packages/mlgrad-0.6-py3.11-linux-x86_64.egg/mlgrad/__init__.py:78\u001b[0m, in \u001b[0;36maverager_it\u001b[0;34m(func, tol, n_iter)\u001b[0m\n\u001b[1;32m     76\u001b[0m \u001b[38;5;28;01mdef\u001b[39;00m \u001b[38;5;21maverager_it\u001b[39m(func, tol\u001b[38;5;241m=\u001b[39m\u001b[38;5;241m1.0e-6\u001b[39m, n_iter\u001b[38;5;241m=\u001b[39m\u001b[38;5;241m1000\u001b[39m):\n\u001b[1;32m     77\u001b[0m     penalty \u001b[38;5;241m=\u001b[39m PenaltyAverage(func)\n\u001b[0;32m---> 78\u001b[0m     alg \u001b[38;5;241m=\u001b[39m \u001b[43mAverage_Iterative\u001b[49m(penalty, tol\u001b[38;5;241m=\u001b[39mtol, n_iter\u001b[38;5;241m=\u001b[39mn_iter)\n\u001b[1;32m     79\u001b[0m     \u001b[38;5;28;01mreturn\u001b[39;00m alg\n",
      "\u001b[0;31mNameError\u001b[0m: name 'Average_Iterative' is not defined"
     ]
    }
   ],
   "source": [
    "avg = avragg.WMAverage(averager_it(func.QuantileFunc(0.81, func.Sqrt(0.001))))\n",
    "# avg = averager_it(func.QuantileFunc(0.81, func.Sqrt(0.001)))\n",
    "mlse = mls.MLocationScatterEstimator(avg, n_iter=50, normalize_S=1)\n",
    "mlse.fit(XY)"
   ]
  },
  {
   "cell_type": "code",
   "execution_count": null,
   "metadata": {
    "execution": {
     "iopub.status.busy": "2023-11-20T15:25:30.118701Z",
     "iopub.status.idle": "2023-11-20T15:25:30.119100Z",
     "shell.execute_reply": "2023-11-20T15:25:30.118904Z",
     "shell.execute_reply.started": "2023-11-20T15:25:30.118884Z"
    }
   },
   "outputs": [],
   "source": [
    "plt.plot(mlse.dvals)\n",
    "plt.show()"
   ]
  },
  {
   "cell_type": "code",
   "execution_count": null,
   "metadata": {
    "execution": {
     "iopub.status.busy": "2023-11-20T15:25:30.120618Z",
     "iopub.status.idle": "2023-11-20T15:25:30.120918Z",
     "shell.execute_reply": "2023-11-20T15:25:30.120783Z",
     "shell.execute_reply.started": "2023-11-20T15:25:30.120767Z"
    }
   },
   "outputs": [],
   "source": [
    "loc, S = mlse.loc.base, mlse.S.base\n",
    "distfunc = mlse.distfunc\n",
    "\n",
    "loc0 = mls.standard_location(XY)\n",
    "S0 = mls.standard_covariance(XY, loc0)\n",
    "distfunc0 = distance.MahalanobisDistance(np.linalg.inv(S0))\n",
    "# mls.scale_matrix(S0)\n",
    "# S1 = np.linalg.inv(S0)"
   ]
  },
  {
   "cell_type": "code",
   "execution_count": null,
   "metadata": {
    "execution": {
     "iopub.status.busy": "2023-11-20T15:25:30.121859Z",
     "iopub.status.idle": "2023-11-20T15:25:30.122160Z",
     "shell.execute_reply": "2023-11-20T15:25:30.122023Z",
     "shell.execute_reply.started": "2023-11-20T15:25:30.122008Z"
    }
   },
   "outputs": [],
   "source": [
    "print(loc, loc0)\n",
    "print(distfunc.S.base)\n",
    "print(distfunc0.S.base)\n",
    "print(mlse.K)"
   ]
  },
  {
   "cell_type": "code",
   "execution_count": null,
   "metadata": {
    "execution": {
     "iopub.status.busy": "2023-11-20T15:25:30.124001Z",
     "iopub.status.idle": "2023-11-20T15:25:30.124514Z",
     "shell.execute_reply": "2023-11-20T15:25:30.124274Z",
     "shell.execute_reply.started": "2023-11-20T15:25:30.124252Z"
    }
   },
   "outputs": [],
   "source": [
    "plt.figure(figsize=(5.0, 4.0))\n",
    "plt.scatter(X, Y, s=49, c='w', edgecolors='k', linewidth=1.)\n",
    "plt.scatter([loc[0]], [loc[1]], s=49, c='k', edgecolors='k', linewidth=1., marker='o', label='robust')\n",
    "plt.scatter([loc0[0]], [loc0[1]], s=49, c='k', edgecolors='k', linewidth=1., marker='s', label='standard')\n",
    "plt.minorticks_on()\n",
    "plt.grid(1)\n",
    "plt.legend()\n",
    "plt.show()"
   ]
  },
  {
   "cell_type": "code",
   "execution_count": null,
   "metadata": {
    "execution": {
     "iopub.status.busy": "2023-11-20T15:25:30.126344Z",
     "iopub.status.idle": "2023-11-20T15:25:30.127187Z",
     "shell.execute_reply": "2023-11-20T15:25:30.126928Z",
     "shell.execute_reply.started": "2023-11-20T15:25:30.126901Z"
    }
   },
   "outputs": [],
   "source": [
    "plt.figure(figsize=(5.0, 4.0))\n",
    "D0 = [distfunc0(xy, loc0) for xy in XY]\n",
    "D = [mlse.distfunc(xy, loc) for xy in XY]\n",
    "plt.scatter(D0, D, c='w', edgecolors='k', linewidth=1)\n",
    "plt.xlabel('Классическое расстояние')\n",
    "plt.ylabel('Робастное расстояние')\n",
    "plt.title('STACKLOSS [WATERTEMP, STACKLOSS]')\n",
    "plt.savefig('fig/robust_clustering_distance_stackloss.eps')\n",
    "plt.grid(1)\n",
    "plt.minorticks_on()\n",
    "plt.show()"
   ]
  },
  {
   "cell_type": "code",
   "execution_count": null,
   "metadata": {
    "execution": {
     "iopub.status.busy": "2023-11-20T15:25:30.128472Z",
     "iopub.status.idle": "2023-11-20T15:25:30.128979Z",
     "shell.execute_reply": "2023-11-20T15:25:30.128740Z",
     "shell.execute_reply.started": "2023-11-20T15:25:30.128714Z"
    }
   },
   "outputs": [],
   "source": [
    "# _, eigvecs = np.linalg.eig(distfunc.S)\n",
    "# _, eigvecs0 = np.linalg.eig(distfunc0.S)\n",
    "plt.figure(figsize=(11.0, 4.0))\n",
    "plt.subplot(1,2,1)\n",
    "plt.scatter(X, Y, s=49, c='w', edgecolors='k', linewidth=1.)\n",
    "plt.scatter([loc[0]], [loc[1]], s=49, c='k', edgecolors='k', linewidth=1., marker='o', label='Robust')\n",
    "plt.scatter([loc0[0]], [loc0[1]], s=49, c='k', edgecolors='k', linewidth=1., marker='s', label='Classic')\n",
    "# plt.plot([loc[0]-eigvecs[0,0], loc[0], loc[0]+eigvecs[0,0]], \n",
    "#          [loc[1]-eigvecs[1,0], loc[1], loc[1]+eigvecs[1,0]], color='k')\n",
    "# plt.plot([loc[0]-eigvecs[0,1], loc[0], loc[0]+eigvecs[0,1]], \n",
    "#          [loc[1]-eigvecs[1,1], loc[1], loc[1]+eigvecs[1,1]], color='k')\n",
    "# plt.plot([loc0[0]-eigvecs0[0,0], loc0[0], loc0[0]+eigvecs0[0,0]], \n",
    "#          [loc0[1]-eigvecs0[1,0], loc0[1], loc0[1]+eigvecs0[1,0]], color='k', linestyle='--')\n",
    "# plt.plot([loc0[0]-eigvecs0[0,1], loc0[0], loc0[0]+eigvecs0[0,1]], \n",
    "#          [loc0[1]-eigvecs0[1,1], loc0[1], loc0[1]+eigvecs0[1,1]], color='k', linestyle='--')\n",
    "xrange = np.linspace(14., 30., 50)\n",
    "yrange = np.linspace(0., 50., 50)\n",
    "_XX, _YY = np.meshgrid(xrange, yrange)\n",
    "_XY = np.c_[_XX.ravel(), _YY.ravel()]\n",
    "_D = np.array([mlse.distfunc(loc, xy) for xy in _XY])\n",
    "_D = _D.reshape(_XX.shape)\n",
    "_D0 = np.array([distfunc0(loc0, xy) for xy in _XY])\n",
    "_D0 = _D0.reshape(_XX.shape)\n",
    "plt.contour(_XX, _YY, _D, levels=[1, 40])\n",
    "plt.contour(_XX, _YY, _D0, levels=[1, 8], linestyles='dotted')\n",
    "plt.minorticks_on()\n",
    "plt.grid(1)\n",
    "plt.legend()\n",
    "plt.xlim(14, 30)\n",
    "# plt.ylim(-2, 12)\n",
    "plt.title('STACKLOSS [WATERTEMP, STACKLOSS]')\n",
    "plt.subplot(1,2,2)\n",
    "D0 = [distfunc0(xy, loc0) for xy in XY]\n",
    "D = [mlse.distfunc(xy, loc) for xy in XY]\n",
    "plt.scatter(D0, D, c='w', edgecolors='k', linewidth=1)\n",
    "plt.xlabel('Classic distance')\n",
    "plt.ylabel('Robust distance')\n",
    "plt.title('STACKLOSS [WATERTEMP, STACKLOSS]')\n",
    "plt.grid(1)\n",
    "plt.minorticks_on()\n",
    "plt.savefig('fig/robust_location_scatter_stackloss.eps')\n",
    "plt.show()"
   ]
  },
  {
   "cell_type": "code",
   "execution_count": null,
   "metadata": {
    "execution": {
     "iopub.status.busy": "2023-11-20T15:25:30.131547Z",
     "iopub.status.idle": "2023-11-20T15:25:30.132331Z",
     "shell.execute_reply": "2023-11-20T15:25:30.132056Z",
     "shell.execute_reply.started": "2023-11-20T15:25:30.132030Z"
    }
   },
   "outputs": [],
   "source": [
    "XX = np.array(df.values, 'd', order='C')"
   ]
  },
  {
   "cell_type": "code",
   "execution_count": null,
   "metadata": {
    "execution": {
     "iopub.status.busy": "2023-11-20T15:25:30.133570Z",
     "iopub.status.idle": "2023-11-20T15:25:30.134196Z",
     "shell.execute_reply": "2023-11-20T15:25:30.133953Z",
     "shell.execute_reply.started": "2023-11-20T15:25:30.133929Z"
    }
   },
   "outputs": [],
   "source": [
    "avg2 = avragg.HMAverage(averager_it(func.QuantileFunc(0.80, func.Sqrt(0.001))))\n",
    "# avg2 = averager_it(func.QuantileFunc(0.5, func.Sqrt(0.001)))\n",
    "mlse2 = mls.MLocationScatterEstimator(avg2, n_iter=20)\n",
    "mlse2.fit(XX)"
   ]
  },
  {
   "cell_type": "code",
   "execution_count": null,
   "metadata": {
    "execution": {
     "iopub.status.busy": "2023-11-20T15:25:30.135697Z",
     "iopub.status.idle": "2023-11-20T15:25:30.136217Z",
     "shell.execute_reply": "2023-11-20T15:25:30.135992Z",
     "shell.execute_reply.started": "2023-11-20T15:25:30.135969Z"
    }
   },
   "outputs": [],
   "source": [
    "plt.plot(mlse2.dvals)\n",
    "plt.show()"
   ]
  },
  {
   "cell_type": "code",
   "execution_count": null,
   "metadata": {
    "execution": {
     "iopub.status.busy": "2023-11-20T15:25:30.137541Z",
     "iopub.status.idle": "2023-11-20T15:25:30.138191Z",
     "shell.execute_reply": "2023-11-20T15:25:30.137963Z",
     "shell.execute_reply.started": "2023-11-20T15:25:30.137940Z"
    }
   },
   "outputs": [],
   "source": [
    "loc2, S2 = mlse2.loc.base, mlse2.S.base\n",
    "S21 = np.linalg.inv(S2)\n",
    "\n",
    "loc20 = mls.standard_location(XX)\n",
    "S20 = mls.standard_covariance(XX, loc20)\n",
    "mls.scale_matrix(S20)"
   ]
  },
  {
   "cell_type": "code",
   "execution_count": null,
   "metadata": {
    "execution": {
     "iopub.status.busy": "2023-11-20T15:25:30.139517Z",
     "iopub.status.idle": "2023-11-20T15:25:30.140154Z",
     "shell.execute_reply": "2023-11-20T15:25:30.139935Z",
     "shell.execute_reply.started": "2023-11-20T15:25:30.139914Z"
    }
   },
   "outputs": [],
   "source": [
    "distfunc2 = distance.MahalanobisDistance(np.linalg.inv(S2))\n",
    "distfunc20 = distance.MahalanobisDistance(np.linalg.inv(S20))\n",
    "D20 = [distfunc20(xx, loc20) for xx in XX]\n",
    "D2 = [distfunc2(xx, loc2) for xx in XX]"
   ]
  },
  {
   "cell_type": "code",
   "execution_count": null,
   "metadata": {
    "execution": {
     "iopub.status.busy": "2023-11-20T15:25:30.141217Z",
     "iopub.status.idle": "2023-11-20T15:25:30.141870Z",
     "shell.execute_reply": "2023-11-20T15:25:30.141647Z",
     "shell.execute_reply.started": "2023-11-20T15:25:30.141625Z"
    }
   },
   "outputs": [],
   "source": [
    "plt.figure(figsize=(11.0, 4.0))\n",
    "plt.subplot(1, 2, 1)\n",
    "plt.scatter(range(len(D20)), sorted(D20), c='w', edgecolor='k', linewidth=1, label='Classic')\n",
    "plt.scatter(range(len(D2)), sorted(D2), c='k', edgecolor='k', linewidth=1, label='Robust')\n",
    "plt.title('Classic and robust distances')\n",
    "plt.xticks(range(len(D2)))\n",
    "plt.legend()\n",
    "# plt.subplot(1, 3, 2)\n",
    "# plt.scatter(range(len(D2)), sorted(D2), c='w', edgecolor='k', linewidth=1)\n",
    "# plt.ylabel('Robust distance')\n",
    "# plt.xticks(range(len(D2)))\n",
    "# plt.subplot(1, 3, 3)\n",
    "# plt.scatter(D20, D2, c='w', edgecolor='k', linewidth=1)\n",
    "# plt.scatter(D20, D2, c='w', edgecolors='k', linewidth=1, s=weights)\n",
    "\n",
    "# plt.xlabel('Классическое расстояние')\n",
    "# plt.ylabel('Робастное расстояние')\n",
    "# plt.grid(1)\n",
    "# plt.minorticks_on()\n",
    "plt.subplot(1,2,2)\n",
    "plt.scatter(D20, D2, c='w', edgecolors='k', linewidth=1)\n",
    "plt.xlabel('Classic distance')\n",
    "plt.ylabel('Robust distance')\n",
    "plt.title('STACKLOSS [WATERTEMP, STACKLOSS]')\n",
    "plt.grid(1)\n",
    "plt.minorticks_on()\n",
    "plt.savefig('fig/robust_location_scatter_stackloss_2.eps')\n",
    "plt.show()"
   ]
  },
  {
   "cell_type": "code",
   "execution_count": null,
   "metadata": {
    "execution": {
     "iopub.status.busy": "2023-11-20T15:25:30.142880Z",
     "iopub.status.idle": "2023-11-20T15:25:30.143310Z",
     "shell.execute_reply": "2023-11-20T15:25:30.143099Z",
     "shell.execute_reply.started": "2023-11-20T15:25:30.143078Z"
    }
   },
   "outputs": [],
   "source": [
    "print(distfunc2.S.base)"
   ]
  },
  {
   "cell_type": "code",
   "execution_count": null,
   "metadata": {
    "execution": {
     "iopub.status.busy": "2023-11-20T15:25:30.144702Z",
     "iopub.status.idle": "2023-11-20T15:25:30.145188Z",
     "shell.execute_reply": "2023-11-20T15:25:30.144956Z",
     "shell.execute_reply.started": "2023-11-20T15:25:30.144934Z"
    }
   },
   "outputs": [],
   "source": [
    "plt.figure(figsize=(5.0, 4.0))\n",
    "plt.scatter(D20, D2, c='w', edgecolors='k', linewidth=1)\n",
    "plt.xlabel('Классическое расстояние')\n",
    "plt.ylabel('Робастное расстояние')\n",
    "plt.title('STACKLOSS [WATERTEMP, STACKLOSS]')\n",
    "plt.savefig('fig/robust_clustering_distance_stackloss2.eps')\n",
    "plt.grid(1)\n",
    "plt.minorticks_on()\n",
    "plt.show()"
   ]
  },
  {
   "cell_type": "code",
   "execution_count": null,
   "metadata": {
    "execution": {
     "iopub.status.busy": "2023-11-20T15:25:30.146636Z",
     "iopub.status.idle": "2023-11-20T15:25:30.147073Z",
     "shell.execute_reply": "2023-11-20T15:25:30.146866Z",
     "shell.execute_reply.started": "2023-11-20T15:25:30.146845Z"
    }
   },
   "outputs": [],
   "source": [
    "# _, eigvecs = np.linalg.eig(distfunc.S)\n",
    "# _, eigvecs0 = np.linalg.eig(distfunc0.S)\n",
    "plt.figure(figsize=(11.0, 4.0))\n",
    "plt.subplot(1,2,1)\n",
    "plt.scatter(X, Y, s=49, c='w', edgecolors='k', linewidth=1.)\n",
    "plt.scatter([loc2[0]], [loc2[1]], s=49, c='k', edgecolors='k', linewidth=1., marker='o', label='Robust')\n",
    "plt.scatter([loc20[0]], [loc20[1]], s=49, c='k', edgecolors='k', linewidth=1., marker='s', label='Classic')\n",
    "# plt.plot([loc[0]-eigvecs[0,0], loc[0], loc[0]+eigvecs[0,0]], \n",
    "#          [loc[1]-eigvecs[1,0], loc[1], loc[1]+eigvecs[1,0]], color='k')\n",
    "# plt.plot([loc[0]-eigvecs[0,1], loc[0], loc[0]+eigvecs[0,1]], \n",
    "#          [loc[1]-eigvecs[1,1], loc[1], loc[1]+eigvecs[1,1]], color='k')\n",
    "# plt.plot([loc0[0]-eigvecs0[0,0], loc0[0], loc0[0]+eigvecs0[0,0]], \n",
    "#          [loc0[1]-eigvecs0[1,0], loc0[1], loc0[1]+eigvecs0[1,0]], color='k', linestyle='--')\n",
    "# plt.plot([loc0[0]-eigvecs0[0,1], loc0[0], loc0[0]+eigvecs0[0,1]], \n",
    "#          [loc0[1]-eigvecs0[1,1], loc0[1], loc0[1]+eigvecs0[1,1]], color='k', linestyle='--')\n",
    "xrange = np.linspace(14., 30., 50)\n",
    "yrange = np.linspace(0., 50., 50)\n",
    "_XX, _YY = np.meshgrid(xrange, yrange)\n",
    "_XY = np.c_[_XX.ravel(), _YY.ravel()]\n",
    "_D2 = np.array([mlse2.distfunc(loc2, xy) for xy in _XY])\n",
    "_D2 = _D2.reshape(_XX.shape)\n",
    "_D20 = np.array([distfunc20(loc20, xy) for xy in _XY])\n",
    "_D20 = _D20.reshape(_XX.shape)\n",
    "print(_D20.min(), _D20.max())\n",
    "plt.contour(_XX, _YY, _D2) #, levels=[1, 40])\n",
    "plt.contour(_XX, _YY, _D20) #, levels=[3, 50], linestyles='dotted')\n",
    "plt.minorticks_on()\n",
    "plt.grid(1)\n",
    "plt.legend()\n",
    "plt.xlim(14, 30)\n",
    "# plt.ylim(-2, 12)\n",
    "plt.title('STACKLOSS [WATERTEMP, STACKLOSS]')\n",
    "plt.subplot(1,2,2)\n",
    "D20 = [distfunc20(xy, loc20) for xy in XY]\n",
    "D2 = [mlse2.distfunc(xy, loc2) for xy in XY]\n",
    "plt.scatter(D20, D2, c='w', edgecolors='k', linewidth=1)\n",
    "plt.xlabel('Classic distance')\n",
    "plt.ylabel('Robust distance')\n",
    "plt.title('STACKLOSS [WATERTEMP, STACKLOSS]')\n",
    "plt.grid(1)\n",
    "plt.minorticks_on()\n",
    "# plt.savefig('fig/robust_location_scatter_stackloss.eps')\n",
    "plt.show()"
   ]
  },
  {
   "cell_type": "code",
   "execution_count": null,
   "metadata": {},
   "outputs": [],
   "source": []
  }
 ],
 "metadata": {
  "kernelspec": {
   "display_name": "Python 3 (ipykernel)",
   "language": "python",
   "name": "python3"
  },
  "language_info": {
   "codemirror_mode": {
    "name": "ipython",
    "version": 3
   },
   "file_extension": ".py",
   "mimetype": "text/x-python",
   "name": "python",
   "nbconvert_exporter": "python",
   "pygments_lexer": "ipython3",
   "version": "3.11.2"
  }
 },
 "nbformat": 4,
 "nbformat_minor": 4
}
