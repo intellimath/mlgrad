{
 "cells": [
  {
   "cell_type": "code",
   "execution_count": 22,
   "id": "future-junction",
   "metadata": {},
   "outputs": [],
   "source": [
    "import numpy as np\n",
    "import matplotlib.pyplot as plt\n",
    "#%matplotlib inline\n",
    "#%config BackendInline.figure_format='svg'\n",
    "\n",
    "plt.style.use(['seaborn-notebook',])\n",
    "plt.matplotlib.rcParams['figure.dpi'] = 120\n",
    "plt.matplotlib.rcParams['savefig.dpi'] = 120\n",
    "\n",
    "plt.matplotlib.rcParams['mathtext.fontset'] = 'stix'\n",
    "plt.matplotlib.rcParams['font.family'] = 'STIXGeneral'"
   ]
  },
  {
   "cell_type": "code",
   "execution_count": 32,
   "id": "sized-dynamics",
   "metadata": {},
   "outputs": [
    {
     "data": {
      "image/png": "[encoded data removed]",
      "text/plain": [
       "<Figure size 360x360 with 1 Axes>"
      ]
     },
     "metadata": {
      "needs_background": "light"
     },
     "output_type": "display_data"
    }
   ],
   "source": [
    "plt.figure(figsize=(3.0, 3.0))\n",
    "range_x1 = np.linspace(-3., 0., 100)\n",
    "range_x2 = np.linspace(0., 2., 100)\n",
    "plt.hlines(0, -3, 2, color='k', linewidth=1.0)\n",
    "plt.plot(range_x1, 0.25*range_x1**2, color='k', linestyle='-')\n",
    "plt.plot(range_x2, range_x2**2, color='k', linestyle='-')\n",
    "plt.xticks([0,], [r'$\\tilde y$',])\n",
    "# plt.vlines(0.75, 0., 0.75*0.75, linewidth=0.75, linestyle='--')\n",
    "# plt.vlines(-1.5, 0., 0.25*1.5*1.5, linewidth=0.75, linestyle='--')\n",
    "# plt.hlines(0.75*0.75, -1.5, 0.75, linewidth=0.75, linestyle='--')\n",
    "# plt.hlines(0, -1.5, 0.75, linewidth=2.0)\n",
    "plt.vlines(0, -0.1, 0.1, color='k', linewidth=0.75)\n",
    "plt.yticks([], [])\n",
    "ax = plt.gca()\n",
    "ax.set_axis_off()\n",
    "plt.text(-0.1, 0.3, r'$\\tilde y$', {'size':14})\n",
    "plt.text(0.6, 3.5, r'$\\ell_{\\tilde y}(y)$', {'size':14})\n",
    "plt.ylim(-0.2, 4.5)\n",
    "plt.tight_layout()\n",
    "plt.savefig('fig/loss_func.eps')\n",
    "plt.show()"
   ]
  },
  {
   "cell_type": "code",
   "execution_count": null,
   "id": "extraordinary-period",
   "metadata": {},
   "outputs": [],
   "source": []
  }
 ],
 "metadata": {
  "kernelspec": {
   "display_name": "Python 3",
   "language": "python",
   "name": "python3"
  },
  "language_info": {
   "codemirror_mode": {
    "name": "ipython",
    "version": 3
   },
   "file_extension": ".py",
   "mimetype": "text/x-python",
   "name": "python",
   "nbconvert_exporter": "python",
   "pygments_lexer": "ipython3",
   "version": "3.9.1+"
  }
 },
 "nbformat": 4,
 "nbformat_minor": 5
}
