{
 "cells": [
  {
   "cell_type": "markdown",
   "metadata": {
    "collapsed": false
   },
   "source": [
    "# Обучение 2 слойной нейронной сети"
   ]
  },
  {
   "cell_type": "markdown",
   "metadata": {},
   "source": [
    "## Модель нейрона"
   ]
  },
  {
   "cell_type": "markdown",
   "metadata": {},
   "source": [
    "Функция преобразования нейрона:\n",
    "$$\n",
    "y = \\nu(\\mathbf{x}, \\mathbf{w}) = \n",
    "\\sigma\\Bigl(w_0+\\sum_{i=1}^n w_ix_i\\Bigr)\n",
    "$$\n",
    "\n",
    "где \n",
    "$$\n",
    "\\sigma(s) = \\frac{1-e^{-x}}{1+e^{-x}}\n",
    "$$"
   ]
  },
  {
   "cell_type": "markdown",
   "metadata": {},
   "source": [
    "Частные производные по $w_0$ и $w_i$:\n",
    "$$\n",
    "\\frac{\\partial\\nu}{\\partial w_0}=\\sigma^\\prime(s)\n",
    "$$\n",
    "\n",
    "$$\n",
    "\\frac{\\partial\\nu}{\\partial w_i}=\\sigma^\\prime(s)x_i\n",
    "$$\n",
    "\n",
    "где \n",
    "$$\n",
    "s = w_0+\\sum_{i=1}^n w_ix_i\n",
    "$$\n",
    "\n",
    "$$\n",
    "\\sigma^\\prime(x) = \\frac{2e^x}{(e^x + 1)^2}\n",
    "$$"
   ]
  },
  {
   "cell_type": "markdown",
   "metadata": {},
   "source": [
    "На практике переходят от вектора $(x_1,\\dots,x_n)$ к расширенному вектору $(1,x_1,\\dots,x_n)$, и соответственно, к вектору весов $(w_0,w_1,\\dots,w_n)$.\n",
    "\n",
    "В результате формулы приобретают более простой вид:\n",
    "\n",
    "$$\n",
    "\\nu(\\mathbf{x})=\\sigma(\\mathbf{w}\\cdot\\mathbf{x})\n",
    "$$\n",
    "\n",
    "$$\n",
    "\\text{grad}\\,\\nu(\\mathbf{x},\\mathbf{w})=\\sigma^\\prime(s) \\mathbf{x}\n",
    "$$"
   ]
  },
  {
   "cell_type": "code",
   "execution_count": 1,
   "metadata": {
    "collapsed": true
   },
   "outputs": [],
   "source": [
    "from __future__ import print_function, unicode_literals, division"
   ]
  },
  {
   "cell_type": "code",
   "execution_count": 2,
   "metadata": {
    "collapsed": true
   },
   "outputs": [],
   "source": [
    "import numpy as np"
   ]
  },
  {
   "cell_type": "code",
   "execution_count": 3,
   "metadata": {
    "collapsed": false
   },
   "outputs": [],
   "source": [
    "class NeuronModel(object):\n",
    "    #\n",
    "    def __init__(self, param):\n",
    "        self.param = param\n",
    "    #\n",
    "    def evaluate(self, x):\n",
    "        s = np.inner(self.param, x)\n",
    "        self.s = s\n",
    "        e = np.exp(-s)\n",
    "        v = (1-e)/(1+e)\n",
    "        return v\n",
    "    #\n",
    "    def gradient(self, x):\n",
    "        s = np.inner(self.param, x)\n",
    "        self.s = s\n",
    "        e = np.exp(-s)\n",
    "        v = 2*e/(1+e)**2\n",
    "        return v * x\n",
    "    #\n",
    "    def gradient_x(self, x):\n",
    "        s = np.inner(self.param, x)\n",
    "        self.s = s\n",
    "        e = np.exp(-s)\n",
    "        v = 2*e/(1+e)**2\n",
    "        return v * self.param[1:]\n",
    "    "
   ]
  },
  {
   "cell_type": "code",
   "execution_count": 4,
   "metadata": {
    "collapsed": false
   },
   "outputs": [
    {
     "name": "stdout",
     "output_type": "stream",
     "text": [
      "0.905148253645\n",
      "[ 0.09035332  0.09035332  0.09035332]\n",
      "[ 0.09035332  0.09035332]\n"
     ]
    }
   ],
   "source": [
    "neuro = NeuronModel(np.array([1.0,1.0,1.0]))\n",
    "x = np.array([1.0,1.0,1.0])\n",
    "print(neuro.evaluate(x))\n",
    "print(neuro.gradient(x))\n",
    "print(neuro.gradient_x(x))"
   ]
  },
  {
   "cell_type": "code",
   "execution_count": 5,
   "metadata": {
    "collapsed": true
   },
   "outputs": [],
   "source": [
    "import matplotlib.pyplot as plt\n",
    "%matplotlib inline"
   ]
  },
  {
   "cell_type": "code",
   "execution_count": 6,
   "metadata": {
    "collapsed": true
   },
   "outputs": [],
   "source": [
    "X1 = np.linspace(-5, 5, 100)\n",
    "X2 = np.linspace(-5, 5, 100)\n",
    "XX1, XX2 = np.meshgrid(X1, X2)\n",
    "XX = np.c_[np.ones(10000),XX1.ravel(),XX2.ravel()]"
   ]
  },
  {
   "cell_type": "code",
   "execution_count": 7,
   "metadata": {
    "collapsed": false
   },
   "outputs": [],
   "source": [
    "Y = neuro.evaluate(XX)\n",
    "YY = Y.reshape(XX1.shape)"
   ]
  },
  {
   "cell_type": "code",
   "execution_count": 8,
   "metadata": {
    "collapsed": true
   },
   "outputs": [],
   "source": [
    "from mpl_toolkits.mplot3d import axes3d"
   ]
  },
  {
   "cell_type": "code",
   "execution_count": 9,
   "metadata": {
    "collapsed": false
   },
   "outputs": [
    {
     "data": {
      "text/plain": [
       "<mpl_toolkits.mplot3d.art3d.Poly3DCollection at 0x7f8f42931390>"
      ]
     },
     "execution_count": 9,
     "metadata": {},
     "output_type": "execute_result"
    },
    {
     "data": {
      "image/png": "[encoded data removed]",
      "text/plain": [
       "<matplotlib.figure.Figure at 0x7f8f4291ed10>"
      ]
     },
     "metadata": {},
     "output_type": "display_data"
    }
   ],
   "source": [
    "fig = plt.figure()\n",
    "ax = fig.gca(projection='3d')\n",
    "ax.plot_surface(XX1, XX2, YY, rstride=8, cstride=8, alpha=0.3)"
   ]
  },
  {
   "cell_type": "code",
   "execution_count": 10,
   "metadata": {
    "collapsed": false
   },
   "outputs": [],
   "source": [
    "class NeuralNet(object):\n",
    "    #\n",
    "    def __init__(self, n_inputs, n_hidden):\n",
    "        self.n_inputs = n_inputs\n",
    "        self.n_hidden = n_hidden\n",
    "        \n",
    "        self.hidden = []\n",
    "        for j in range(n_hidden):\n",
    "            param = np.random.random((n_inputs+1,))\n",
    "            neuron = NeuronModel(param)\n",
    "            self.hidden.append(neuron)\n",
    "            \n",
    "        param = np.random.random((n_hidden+1,))\n",
    "        self.head = NeuronModel(param)\n",
    "    #\n",
    "    def evaluate(self, inputs):\n",
    "        \n",
    "        hidden_values = np.array([neuron.evaluate(inputs) for neuron in self.hidden])\n",
    "        \n",
    "        u = np.empty((self.n_hidden+1,), dtype=np.double)\n",
    "        u[0] = 1\n",
    "        u[1:] = hidden_values[:]\n",
    "        \n",
    "        y = self.head.evaluate(u)\n",
    "        return y"
   ]
  },
  {
   "cell_type": "markdown",
   "metadata": {},
   "source": [
    "Функция преобразования нейронной сети:\n",
    "\n",
    "$$\n",
    "y = \\sigma(\\mathbf{w}\\cdot\\mathbf{u}),\n",
    "$$\n",
    "где $\\mathbf{u}=(1,u_1,\\dots,u_m)$, $\\mathbf{w}=(w_0,w_1,\\dots,w_m)$.\n",
    "\n",
    "$$\n",
    "u_j = \\sigma(\\mathbf{w_j}\\cdot\\mathbf{x}),\\quad j=1,\\dots,m,\n",
    "$$\n",
    "где $\\mathbf{w_j}=(w_{j0},w_{j1},\\dots,w_{jn})$, $\\mathbf{x}=(1,x_1,\\dots,x_n)$."
   ]
  },
  {
   "cell_type": "markdown",
   "metadata": {},
   "source": [
    "$$\n",
    "\\mathcal{Q}(W)=\\frac 1 N \\sum_{k=1}^N (F(\\mathbf{x}_k,W)-y_k)^2\n",
    "$$"
   ]
  },
  {
   "cell_type": "markdown",
   "metadata": {},
   "source": [
    "$$\n",
    "2(F(\\mathbf{x}_k,W)-y_k)\\text{grad}\\,F(\\mathbf{x}_k,W)\n",
    "$$"
   ]
  },
  {
   "cell_type": "code",
   "execution_count": 23,
   "metadata": {
    "collapsed": false
   },
   "outputs": [],
   "source": [
    "class SGD4NN(object):\n",
    "    #\n",
    "    def __init__(self, nn, h0=1.0, max_epoch=1000, eps=1.0e-6):\n",
    "        self.nn = nn\n",
    "        self.max_epoch = max_epoch\n",
    "        self.h0 = h0\n",
    "        self.eps = eps\n",
    "    #\n",
    "    def fit(self, X, Y):\n",
    "        #\n",
    "        self.K = 0\n",
    "        while self.K < self.max_epoch:\n",
    "            self.h = self.h0 / (1 + self.K)\n",
    "            self.prev_param = self.nn.head.param.copy()\n",
    "            self.prev_params = [n.param.copy() for n in self.nn.hidden]\n",
    "            self.fit_epoch(X, Y)\n",
    "            if self.stop_condition():\n",
    "                break\n",
    "            \n",
    "            self.K += 1\n",
    "            \n",
    "    def fit_epoch(self, X, Y):\n",
    "        N = len(X)\n",
    "        indexes = np.random.randint(0, N, (N,))\n",
    "        for k in indexes:\n",
    "            Xk = X[k]\n",
    "            yk = Y[k]\n",
    "            # адаптируем параметры НС для заданных входов Xk и выхода yk\n",
    "            self.fit_param(Xk, yk, k)\n",
    "    #        \n",
    "    def fit_param(self, Xk, yk, k):\n",
    "        err = self.nn.evaluate(Xk) - yk\n",
    "        grad = self.nn.head.gradient(Xk)\n",
    "        self.nn.head.param -= 2 * self.h * err * grad\n",
    "        \n",
    "        grad_u = self.nn.head.gradient_x(Xk)\n",
    "        for j in range(self.nn.n_hidden):\n",
    "            neuron_j = self.nn.hidden[j]\n",
    "            neuron_j.param -= 2* self.h * err * grad_u[j] * neuron_j.gradient(Xk)\n",
    "    #\n",
    "    def stop_condition(self):\n",
    "        dw = np.max(np.abs(self.nn.head.param - self.prev_param))\n",
    "        if dw > self.eps:\n",
    "            return False\n",
    "        \n",
    "        for i in range(self.nn.n_hidden):\n",
    "            dw = np.max(np.abs(self.nn.hidden[i].param - self.prev_params[i]))\n",
    "            if dw > self.eps:\n",
    "                return False\n",
    "                        \n",
    "        return True\n",
    "    \n",
    "        "
   ]
  },
  {
   "cell_type": "markdown",
   "metadata": {
    "collapsed": true
   },
   "source": [
    "Функция преобразования в обобщенном виде имеет вид:\n",
    "\n",
    "$$y = f(U,W)$$\n",
    "\n",
    "$$\n",
    "u_j = f_j(X,W_j),\\quad j=1,\\dots,m\n",
    "$$"
   ]
  },
  {
   "cell_type": "markdown",
   "metadata": {},
   "source": [
    "$\\displaystyle G=\\text{grad}\\,f$\n",
    "\n",
    "$\\displaystyle G_j = \\text{grad}\\,f_j$\n",
    "\n",
    "$\\displaystyle \\text{grad}\\,F = \\text{grad}\\,f \\big| \\dfrac{\\partial f}{\\partial u_1}\\text{grad}\\,f_1\\big|\\dots \\big|\\dfrac{\\partial f}{\\partial u_m}\\text{grad}\\,f_m$"
   ]
  },
  {
   "cell_type": "code",
   "execution_count": 19,
   "metadata": {
    "collapsed": true
   },
   "outputs": [],
   "source": [
    "Xs = [\n",
    "    np.array([1., 0., 0.]),\n",
    "    np.array([1., 0., 1.]),\n",
    "    np.array([1., 1., 0.]),\n",
    "    np.array([1., 1., 1.]),\n",
    "]\n",
    "Ys = [0., 1., 1., 0.]"
   ]
  },
  {
   "cell_type": "code",
   "execution_count": 67,
   "metadata": {
    "collapsed": false
   },
   "outputs": [],
   "source": [
    "nn = NeuralNet(2, 2)\n",
    "sgd = SGD4NN(nn, eps=1.0e-8, max_epoch=10000, h0=6.0)"
   ]
  },
  {
   "cell_type": "code",
   "execution_count": 68,
   "metadata": {
    "collapsed": false
   },
   "outputs": [
    {
     "name": "stdout",
     "output_type": "stream",
     "text": [
      "K: 10000\n",
      "[ 3.81706924  5.24171319  0.973683  ]\n",
      "[-1.62857658  0.54741299  1.27556447]\n",
      "[-0.35408958  0.24029787  0.58696419]\n"
     ]
    }
   ],
   "source": [
    "sgd.fit(Xs, Ys)\n",
    "print(\"K:\", sgd.K)\n",
    "print(nn.head.param)\n",
    "for n in nn.hidden:\n",
    "    print(n.param)"
   ]
  },
  {
   "cell_type": "code",
   "execution_count": 69,
   "metadata": {
    "collapsed": false
   },
   "outputs": [
    {
     "name": "stdout",
     "output_type": "stream",
     "text": [
      "[0.0, 1.0, 1.0, 0.0] [0.9791098289618384, 0.9791098289618384, 0.9791098289618384, 0.9791098289618384]\n"
     ]
    }
   ],
   "source": [
    "Ys1 = [nn.evaluate(x) for X in Xs]\n",
    "print(Ys, Ys1)"
   ]
  },
  {
   "cell_type": "code",
   "execution_count": null,
   "metadata": {
    "collapsed": true
   },
   "outputs": [],
   "source": []
  }
 ],
 "metadata": {
  "kernelspec": {
   "display_name": "Python 2",
   "language": "python",
   "name": "python2"
  },
  "language_info": {
   "codemirror_mode": {
    "name": "ipython",
    "version": 2
   },
   "file_extension": ".py",
   "mimetype": "text/x-python",
   "name": "python",
   "nbconvert_exporter": "python",
   "pygments_lexer": "ipython2",
   "version": "2.7.12"
  },
  "name": "two_layered_nn_sgd.ipynb"
 },
 "nbformat": 4,
 "nbformat_minor": 0
}
