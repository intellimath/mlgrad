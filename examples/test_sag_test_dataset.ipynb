{
 "cells": [
  {
   "cell_type": "code",
   "execution_count": 6,
   "metadata": {
    "collapsed": false
   },
   "outputs": [],
   "source": [
    "import numpy as np\n",
    "import mlgrad.func as func\n",
    "import mlgrad.loss as loss\n",
    "import mlgrad.model as model\n",
    "import mlgrad.gd as gd\n",
    "import mlgrad.regular as regular\n",
    "import matplotlib.pyplot as plt\n",
    "\n",
    "%matplotlib inline\n",
    "\n",
    "from sklearn.metrics import r2_score, mean_squared_error\n",
    "from sklearn.datasets import make_regression\n",
    "from sklearn.linear_model import Lasso\n",
    "\n",
    "from IPython.display import display, Latex\n"
   ]
  },
  {
   "cell_type": "code",
   "execution_count": 2,
   "metadata": {
    "collapsed": false
   },
   "outputs": [
    {
     "name": "stdout",
     "output_type": "stream",
     "text": [
      "(1000, 10) (1000,) (10,)\n"
     ]
    }
   ],
   "source": [
    "n_features = 10\n",
    "X, Y, coef = make_regression(n_samples=1000, n_features=n_features, n_informative=n_features, coef=True, noise=0.0)\n",
    "print(X.shape, Y.shape, coef.shape)"
   ]
  },
  {
   "cell_type": "code",
   "execution_count": 3,
   "metadata": {
    "collapsed": false
   },
   "outputs": [
    {
     "data": {
      "text/latex": [
       "$y(\\mathbf{x})=+77.83x_{1}+12.37x_{2}+22.78x_{3}+24.06x_{4}+42.96x_{5}+62.45x_{6}+79.15x_{7}+10.51x_{8}+70.06x_{9}+70.61x_{10}$"
      ],
      "text/plain": [
       "<mlgrad.model.LinearModel at 0x108e0fce0>"
      ]
     },
     "execution_count": 3,
     "metadata": {},
     "output_type": "execute_result"
    }
   ],
   "source": [
    "lm0 = model.LinearModel([0] + list(coef))\n",
    "lm0"
   ]
  },
  {
   "cell_type": "code",
   "execution_count": 4,
   "metadata": {
    "collapsed": false
   },
   "outputs": [],
   "source": [
    "# lasso = Lasso(alpha=10)\n",
    "# lasso.fit(X,Y)\n",
    "# lm_lasso=model.LinearModel([0] + list(lasso.coef_))\n",
    "# print(np.sum(np.abs(np.asarray(lm_lasso.param)-np.asarray(lm0.param))))\n",
    "# lm_lasso"
   ]
  },
  {
   "cell_type": "code",
   "execution_count": 8,
   "metadata": {
    "collapsed": false
   },
   "outputs": [
    {
     "name": "stdout",
     "output_type": "stream",
     "text": [
      "K=15 R2=0.999986889 MS=0.39348556683\n",
      "1.46784432282\n"
     ]
    },
    {
     "data": {
      "text/latex": [
       "$y(\\mathbf{x})=-0.03+77.84x_{1}+11.85x_{2}+22.69x_{3}+24.03x_{4}+43.05x_{5}+62.34x_{6}+79.34x_{7}+10.44x_{8}+70.27x_{9}+70.49x_{10}$"
      ],
      "text/plain": [
       "<mlgrad.model.LinearModel at 0x108e0fb10>"
      ]
     },
     "execution_count": 8,
     "metadata": {},
     "output_type": "execute_result"
    }
   ],
   "source": [
    "param0 = 3.*np.random.random((n_features+1,))\n",
    "#print(param0)\n",
    "lm = model.LinearModel(param0)\n",
    "alg = gd.SAG(lm, loss=loss.Loss(func.Square()), h=0.01, tol=1.e-5)\n",
    "alg.fit(X, Y)\n",
    "Z = lm.evaluate_all(X)\n",
    "R2 = r2_score(Y, Z)\n",
    "MS = mean_squared_error(Y, Z)\n",
    "print(\"K=%s R2=%s MS=%s\" % (alg.K, R2, MS))\n",
    "print(np.sum(np.abs(lm.param.base-lm0.param.base)))\n",
    "lm"
   ]
  },
  {
   "cell_type": "code",
   "execution_count": 9,
   "metadata": {
    "collapsed": false
   },
   "outputs": [
    {
     "name": "stdout",
     "output_type": "stream",
     "text": [
      "(1000, 10) (1000,) (10,)\n"
     ]
    }
   ],
   "source": [
    "n_features = 10\n",
    "n_informative = 3\n",
    "X1, Y1, coef1 = make_regression(n_samples=1000, n_features=n_features, n_informative=n_informative, coef=True, noise=0.0)\n",
    "print(X1.shape, Y1.shape, coef1.shape)"
   ]
  },
  {
   "cell_type": "code",
   "execution_count": 10,
   "metadata": {
    "collapsed": false
   },
   "outputs": [
    {
     "data": {
      "text/latex": [
       "$y(\\mathbf{x})=+56.15x_{1}+35.89x_{7}+39.14x_{9}$"
      ],
      "text/plain": [
       "<mlgrad.model.LinearModel at 0x108e0fbf8>"
      ]
     },
     "execution_count": 10,
     "metadata": {},
     "output_type": "execute_result"
    }
   ],
   "source": [
    "lm1 = model.LinearModel([0] + list(coef1))\n",
    "lm1"
   ]
  },
  {
   "cell_type": "code",
   "execution_count": 13,
   "metadata": {
    "collapsed": false
   },
   "outputs": [
    {
     "name": "stdout",
     "output_type": "stream",
     "text": [
      "K=9 R2=0.999985203815 MS=0.0839593779743\n",
      "0.532269547117\n"
     ]
    },
    {
     "data": {
      "text/latex": [
       "$y(\\mathbf{x})=-0.00+56.37x_{1}+0.05x_{4}-0.02x_{6}+36.06x_{7}+39.19x_{9}$"
      ],
      "text/plain": [
       "<mlgrad.model.LinearModel at 0x108e0feb0>"
      ]
     },
     "execution_count": 13,
     "metadata": {},
     "output_type": "execute_result"
    }
   ],
   "source": [
    "param1 = 3.*np.random.random((n_features+1,))\n",
    "#print(param0)\n",
    "lm2 = model.LinearModel(param1)\n",
    "alg1 = gd.SAG(lm2, loss=loss.Loss(func.Square()), regular=regular.Absolute(), tau=0.1, h=0.001, tol=1.0e-5)\n",
    "alg1.fit(X1, Y1)\n",
    "Z1 = lm2.evaluate_all(X1)\n",
    "R2 = r2_score(Y1, Z1)\n",
    "MS = mean_squared_error(Y1, Z1)\n",
    "print(\"K=%s R2=%s MS=%s\" % (alg1.K, R2, MS))\n",
    "print(np.sum(np.abs(np.asarray(lm2.param)-np.asarray(lm1.param))))\n",
    "lm2"
   ]
  },
  {
   "cell_type": "code",
   "execution_count": null,
   "metadata": {
    "collapsed": true
   },
   "outputs": [],
   "source": []
  },
  {
   "cell_type": "code",
   "execution_count": null,
   "metadata": {
    "collapsed": true
   },
   "outputs": [],
   "source": []
  },
  {
   "cell_type": "code",
   "execution_count": null,
   "metadata": {
    "collapsed": true
   },
   "outputs": [],
   "source": []
  },
  {
   "cell_type": "code",
   "execution_count": null,
   "metadata": {
    "collapsed": true
   },
   "outputs": [],
   "source": []
  },
  {
   "cell_type": "code",
   "execution_count": null,
   "metadata": {
    "collapsed": true
   },
   "outputs": [],
   "source": []
  }
 ],
 "metadata": {
  "kernelspec": {
   "display_name": "Python 3",
   "language": "python",
   "name": "python3"
  },
  "language_info": {
   "codemirror_mode": {
    "name": "ipython",
    "version": 3
   },
   "file_extension": ".py",
   "mimetype": "text/x-python",
   "name": "python",
   "nbconvert_exporter": "python",
   "pygments_lexer": "ipython3",
   "version": "3.5.2"
  }
 },
 "nbformat": 4,
 "nbformat_minor": 0
}
