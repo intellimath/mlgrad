{
 "cells": [
  {
   "cell_type": "code",
   "execution_count": 8,
   "id": "bf3f434f-77b7-44c5-b68d-3e58de1c13ea",
   "metadata": {
    "execution": {
     "iopub.execute_input": "2024-09-12T13:01:10.844317Z",
     "iopub.status.busy": "2024-09-12T13:01:10.842071Z",
     "iopub.status.idle": "2024-09-12T13:01:10.858548Z",
     "shell.execute_reply": "2024-09-12T13:01:10.854873Z",
     "shell.execute_reply.started": "2024-09-12T13:01:10.844171Z"
    }
   },
   "outputs": [],
   "source": [
    "import numpy as np\n",
    "import sympy\n",
    "from sympy import MatrixSymbol, Identity, latex\n",
    "\n",
    "from IPython.display import display, Latex"
   ]
  },
  {
   "cell_type": "code",
   "execution_count": 4,
   "id": "b4191a2d-5e2c-426a-bde2-254d01a3d730",
   "metadata": {
    "execution": {
     "iopub.execute_input": "2024-09-12T13:00:29.469325Z",
     "iopub.status.busy": "2024-09-12T13:00:29.469031Z",
     "iopub.status.idle": "2024-09-12T13:00:29.476225Z",
     "shell.execute_reply": "2024-09-12T13:00:29.474270Z",
     "shell.execute_reply.started": "2024-09-12T13:00:29.469299Z"
    }
   },
   "outputs": [],
   "source": [
    "w = sympy.symarray(\"w\", (8,), )\n",
    "W = np.diag(w[1:-1])"
   ]
  },
  {
   "cell_type": "code",
   "execution_count": 5,
   "id": "fcf48b84-a641-49a7-b619-b187912b3876",
   "metadata": {
    "execution": {
     "iopub.execute_input": "2024-09-12T13:00:39.567283Z",
     "iopub.status.busy": "2024-09-12T13:00:39.565213Z",
     "iopub.status.idle": "2024-09-12T13:00:39.581775Z",
     "shell.execute_reply": "2024-09-12T13:00:39.580611Z",
     "shell.execute_reply.started": "2024-09-12T13:00:39.567149Z"
    }
   },
   "outputs": [
    {
     "name": "stdout",
     "output_type": "stream",
     "text": [
      "[[ 1 -2  1  0  0  0  0  0]\n",
      " [ 0  1 -2  1  0  0  0  0]\n",
      " [ 0  0  1 -2  1  0  0  0]\n",
      " [ 0  0  0  1 -2  1  0  0]\n",
      " [ 0  0  0  0  1 -2  1  0]\n",
      " [ 0  0  0  0  0  1 -2  1]]\n",
      "[[ 1 -2  1  0  0  0  0  0]\n",
      " [-2  5 -4  1  0  0  0  0]\n",
      " [ 1 -4  6 -4  1  0  0  0]\n",
      " [ 0  1 -4  6 -4  1  0  0]\n",
      " [ 0  0  1 -4  6 -4  1  0]\n",
      " [ 0  0  0  1 -4  6 -4  1]\n",
      " [ 0  0  0  0  1 -4  5 -2]\n",
      " [ 0  0  0  0  0  1 -2  1]]\n"
     ]
    }
   ],
   "source": [
    "D2 = np.diff(np.eye(8, dtype=\"i\"), 2, axis=0)\n",
    "print(D2)\n",
    "print(D2.T @ D2)"
   ]
  },
  {
   "cell_type": "code",
   "execution_count": 6,
   "id": "839047c5-58b8-4276-8325-32b6a5fa9b41",
   "metadata": {
    "execution": {
     "iopub.execute_input": "2024-09-12T13:00:51.956619Z",
     "iopub.status.busy": "2024-09-12T13:00:51.954432Z",
     "iopub.status.idle": "2024-09-12T13:00:52.074116Z",
     "shell.execute_reply": "2024-09-12T13:00:52.073234Z",
     "shell.execute_reply.started": "2024-09-12T13:00:51.956435Z"
    }
   },
   "outputs": [],
   "source": [
    "DD2 = np.dot(np.dot(D2.T, W), D2)"
   ]
  },
  {
   "cell_type": "code",
   "execution_count": 9,
   "id": "4ee4a6ce-269b-48c3-ab68-eb366dbae2ac",
   "metadata": {
    "execution": {
     "iopub.execute_input": "2024-09-12T13:01:32.177091Z",
     "iopub.status.busy": "2024-09-12T13:01:32.174381Z",
     "iopub.status.idle": "2024-09-12T13:01:32.215299Z",
     "shell.execute_reply": "2024-09-12T13:01:32.214539Z",
     "shell.execute_reply.started": "2024-09-12T13:01:32.177000Z"
    }
   },
   "outputs": [
    {
     "data": {
      "text/latex": [
       "$$\\left(\\begin{array}{llllllll}w_{1}&- 2 w_{1}&w_{1}&0&0&0&0&0\\\\- 2 w_{1}&4 w_{1} + w_{2}&- 2 w_{1} - 2 w_{2}&w_{2}&0&0&0&0\\\\w_{1}&- 2 w_{1} - 2 w_{2}&w_{1} + 4 w_{2} + w_{3}&- 2 w_{2} - 2 w_{3}&w_{3}&0&0&0\\\\0&w_{2}&- 2 w_{2} - 2 w_{3}&w_{2} + 4 w_{3} + w_{4}&- 2 w_{3} - 2 w_{4}&w_{4}&0&0\\\\0&0&w_{3}&- 2 w_{3} - 2 w_{4}&w_{3} + 4 w_{4} + w_{5}&- 2 w_{4} - 2 w_{5}&w_{5}&0\\\\0&0&0&w_{4}&- 2 w_{4} - 2 w_{5}&w_{4} + 4 w_{5} + w_{6}&- 2 w_{5} - 2 w_{6}&w_{6}\\\\0&0&0&0&w_{5}&- 2 w_{5} - 2 w_{6}&w_{5} + 4 w_{6}&- 2 w_{6}\\\\0&0&0&0&0&w_{6}&- 2 w_{6}&w_{6}\\\\\\end{array}\\right)$$"
      ],
      "text/plain": [
       "<IPython.core.display.Latex object>"
      ]
     },
     "metadata": {},
     "output_type": "display_data"
    }
   ],
   "source": [
    "s = r\"$$\\left(\\begin{array}{llllllll}\"\n",
    "for i in range(8):\n",
    "    for j in range(8):\n",
    "        s += latex(DD2[i,j])\n",
    "        if j < 7:\n",
    "            s += r\"&\"\n",
    "        else:\n",
    "            s += r\"\\\\\"\n",
    "s += r\"\\end{array}\\right)$$\"\n",
    "# print(s)\n",
    "display(Latex(s))"
   ]
  },
  {
   "cell_type": "code",
   "execution_count": 10,
   "id": "4100d20f-3084-41bf-bf14-0423f9bd70ff",
   "metadata": {
    "execution": {
     "iopub.execute_input": "2024-09-12T13:01:47.293698Z",
     "iopub.status.busy": "2024-09-12T13:01:47.292923Z",
     "iopub.status.idle": "2024-09-12T13:01:47.303244Z",
     "shell.execute_reply": "2024-09-12T13:01:47.302325Z",
     "shell.execute_reply.started": "2024-09-12T13:01:47.293627Z"
    }
   },
   "outputs": [
    {
     "name": "stdout",
     "output_type": "stream",
     "text": [
      "[[-1.  1.  0.  0.  0.  0.  0.  0.]\n",
      " [ 0. -1.  1.  0.  0.  0.  0.  0.]\n",
      " [ 0.  0. -1.  1.  0.  0.  0.  0.]\n",
      " [ 0.  0.  0. -1.  1.  0.  0.  0.]\n",
      " [ 0.  0.  0.  0. -1.  1.  0.  0.]\n",
      " [ 0.  0.  0.  0.  0. -1.  1.  0.]\n",
      " [ 0.  0.  0.  0.  0.  0. -1.  1.]]\n",
      "[[ 1. -1.  0.  0.  0.  0.  0.  0.]\n",
      " [-1.  2. -1.  0.  0.  0.  0.  0.]\n",
      " [ 0. -1.  2. -1.  0.  0.  0.  0.]\n",
      " [ 0.  0. -1.  2. -1.  0.  0.  0.]\n",
      " [ 0.  0.  0. -1.  2. -1.  0.  0.]\n",
      " [ 0.  0.  0.  0. -1.  2. -1.  0.]\n",
      " [ 0.  0.  0.  0.  0. -1.  2. -1.]\n",
      " [ 0.  0.  0.  0.  0.  0. -1.  1.]]\n"
     ]
    }
   ],
   "source": [
    "D1 = np.diff(np.eye(8), 1, axis=0, )\n",
    "print(D1)\n",
    "print(D1.T @ D1)"
   ]
  },
  {
   "cell_type": "code",
   "execution_count": 11,
   "id": "0911d386-0d6f-4b38-961c-d5799d25e4d5",
   "metadata": {
    "execution": {
     "iopub.execute_input": "2024-09-12T13:01:58.669458Z",
     "iopub.status.busy": "2024-09-12T13:01:58.667465Z",
     "iopub.status.idle": "2024-09-12T13:01:58.754724Z",
     "shell.execute_reply": "2024-09-12T13:01:58.753949Z",
     "shell.execute_reply.started": "2024-09-12T13:01:58.669317Z"
    }
   },
   "outputs": [],
   "source": [
    "w = sympy.symarray(\"w\", (7,))\n",
    "W = np.diag(w)\n",
    "DD1 = np.dot(np.dot(D1.T, W), D1)"
   ]
  },
  {
   "cell_type": "code",
   "execution_count": 12,
   "id": "409362fc-e03d-4268-8e89-06316621ecf1",
   "metadata": {
    "execution": {
     "iopub.execute_input": "2024-09-12T13:02:09.186239Z",
     "iopub.status.busy": "2024-09-12T13:02:09.184818Z",
     "iopub.status.idle": "2024-09-12T13:02:09.223369Z",
     "shell.execute_reply": "2024-09-12T13:02:09.222519Z",
     "shell.execute_reply.started": "2024-09-12T13:02:09.186119Z"
    }
   },
   "outputs": [
    {
     "data": {
      "text/latex": [
       "$$\\left(\\begin{array}{llllllll}1.0 w_{0}&- 1.0 w_{0}&0&0&0&0&0&0\\\\- 1.0 w_{0}&1.0 w_{0} + 1.0 w_{1}&- 1.0 w_{1}&0&0&0&0&0\\\\0&- 1.0 w_{1}&1.0 w_{1} + 1.0 w_{2}&- 1.0 w_{2}&0&0&0&0\\\\0&0&- 1.0 w_{2}&1.0 w_{2} + 1.0 w_{3}&- 1.0 w_{3}&0&0&0\\\\0&0&0&- 1.0 w_{3}&1.0 w_{3} + 1.0 w_{4}&- 1.0 w_{4}&0&0\\\\0&0&0&0&- 1.0 w_{4}&1.0 w_{4} + 1.0 w_{5}&- 1.0 w_{5}&0\\\\0&0&0&0&0&- 1.0 w_{5}&1.0 w_{5} + 1.0 w_{6}&- 1.0 w_{6}\\\\0&0&0&0&0&0&- 1.0 w_{6}&1.0 w_{6}\\\\\\end{array}\\right)$$"
      ],
      "text/plain": [
       "<IPython.core.display.Latex object>"
      ]
     },
     "metadata": {},
     "output_type": "display_data"
    }
   ],
   "source": [
    "s = r\"$$\\left(\\begin{array}{llllllll}\"\n",
    "for i in range(8):\n",
    "    for j in range(8):\n",
    "        s += latex(DD1[i,j])\n",
    "        if j < 7:\n",
    "            s += r\"&\"\n",
    "        else:\n",
    "            s += r\"\\\\\"\n",
    "s += r\"\\end{array}\\right)$$\"\n",
    "# print(s)\n",
    "display(Latex(s))"
   ]
  },
  {
   "cell_type": "code",
   "execution_count": 13,
   "id": "5f569cb9-bbcd-4397-97e7-d53cfa77bcde",
   "metadata": {
    "execution": {
     "iopub.execute_input": "2024-09-12T13:02:19.614542Z",
     "iopub.status.busy": "2024-09-12T13:02:19.614034Z",
     "iopub.status.idle": "2024-09-12T13:02:19.624435Z",
     "shell.execute_reply": "2024-09-12T13:02:19.623327Z",
     "shell.execute_reply.started": "2024-09-12T13:02:19.614495Z"
    }
   },
   "outputs": [
    {
     "name": "stdout",
     "output_type": "stream",
     "text": [
      "[[-1.  3. -3.  1.  0.  0.  0.  0.  0.]\n",
      " [ 0. -1.  3. -3.  1.  0.  0.  0.  0.]\n",
      " [ 0.  0. -1.  3. -3.  1.  0.  0.  0.]\n",
      " [ 0.  0.  0. -1.  3. -3.  1.  0.  0.]\n",
      " [ 0.  0.  0.  0. -1.  3. -3.  1.  0.]\n",
      " [ 0.  0.  0.  0.  0. -1.  3. -3.  1.]]\n",
      "[[  1.  -3.   3.  -1.   0.   0.   0.   0.   0.]\n",
      " [ -3.  10. -12.   6.  -1.   0.   0.   0.   0.]\n",
      " [  3. -12.  19. -15.   6.  -1.   0.   0.   0.]\n",
      " [ -1.   6. -15.  20. -15.   6.  -1.   0.   0.]\n",
      " [  0.  -1.   6. -15.  20. -15.   6.  -1.   0.]\n",
      " [  0.   0.  -1.   6. -15.  20. -15.   6.  -1.]\n",
      " [  0.   0.   0.  -1.   6. -15.  19. -12.   3.]\n",
      " [  0.   0.   0.   0.  -1.   6. -12.  10.  -3.]\n",
      " [  0.   0.   0.   0.   0.  -1.   3.  -3.   1.]]\n"
     ]
    }
   ],
   "source": [
    "D3 = np.diff(np.eye(9), 3, axis=0, )\n",
    "print(D3)\n",
    "print(D3.T @ D3)"
   ]
  },
  {
   "cell_type": "code",
   "execution_count": null,
   "id": "c5687496-058d-4571-9d2b-6e43da2f9482",
   "metadata": {},
   "outputs": [],
   "source": []
  }
 ],
 "metadata": {
  "kernelspec": {
   "display_name": "Python 3 (ipykernel)",
   "language": "python",
   "name": "python3"
  },
  "language_info": {
   "codemirror_mode": {
    "name": "ipython",
    "version": 3
   },
   "file_extension": ".py",
   "mimetype": "text/x-python",
   "name": "python",
   "nbconvert_exporter": "python",
   "pygments_lexer": "ipython3",
   "version": "3.12.6"
  }
 },
 "nbformat": 4,
 "nbformat_minor": 5
}
