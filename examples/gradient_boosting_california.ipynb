{
 "cells": [
  {
   "cell_type": "code",
   "execution_count": 5,
   "id": "715b5f1f-92d7-4207-9825-25e2af2f83f0",
   "metadata": {},
   "outputs": [],
   "source": [
    "from mlgrad.risk import ERisk, ERiskGB\n",
    "from mlgrad.loss import SquareErrorLoss, ErrorLoss\n",
    "from mlgrad.model import LinearFuncModel, SigmaNeuronModel, FFNetworkModel, \\\n",
    "                        FFNetworkFuncModel, SigmaNeuronModelLayer, LinearModel\n",
    "from mlgrad.func import SoftPlus, Sqrt, Sigmoidal, HingeSqrt, Arctang, Absolute\n",
    "\n",
    "from mlgrad import erm_fg, erm_irgd, fg, erm_fg, erisk\n",
    "from mlgrad.regr import m_regression_irls\n",
    "from mlgrad.af import averaging_function\n",
    "from mlgrad.weights import MWeights\n",
    "\n",
    "import numpy as np"
   ]
  },
  {
   "cell_type": "code",
   "execution_count": 6,
   "id": "108eeddf-036d-49d9-ab73-fcd019084c67",
   "metadata": {},
   "outputs": [
    {
     "name": "stdout",
     "output_type": "stream",
     "text": [
      "3.9.12 (main, Mar 24 2022, 13:02:21) \n",
      "[GCC 11.2.0]\n"
     ]
    }
   ],
   "source": [
    "import sklearn.datasets as datasets\n",
    "import sklearn.metrics as metrics\n",
    "import sklearn.preprocessing as preprocessing\n",
    "import matplotlib.pyplot as plt\n",
    "\n",
    "import sys\n",
    "print(sys.version)"
   ]
  },
  {
   "cell_type": "code",
   "execution_count": 3,
   "id": "587bd378-0b3b-4cc9-8ace-cbb338db4e31",
   "metadata": {},
   "outputs": [],
   "source": [
    "# X, Y = datasets.load_boston(return_X_y=True)\n",
    "# N = len(X)\n",
    "# print(X.shape, X.dtype)\n",
    "# print(Y.shape, Y.dtype)\n",
    "# # print(Y)"
   ]
  },
  {
   "cell_type": "code",
   "execution_count": 7,
   "id": "96dbd92c-ab46-4949-9aae-c1311a2c83ee",
   "metadata": {},
   "outputs": [],
   "source": [
    "from sklearn.datasets import fetch_california_housing\n",
    "housing = fetch_california_housing()"
   ]
  },
  {
   "cell_type": "code",
   "execution_count": 8,
   "id": "b8516856-b20c-4af0-a3da-17f3267724db",
   "metadata": {},
   "outputs": [],
   "source": [
    "X = housing.data\n",
    "Y = housing.target"
   ]
  },
  {
   "cell_type": "code",
   "execution_count": 9,
   "id": "e2576850-f35b-4462-a629-b5b7c633b649",
   "metadata": {},
   "outputs": [
    {
     "name": "stdout",
     "output_type": "stream",
     "text": [
      "(20640,) (20640, 8)\n",
      "float64 float64\n"
     ]
    }
   ],
   "source": [
    "print(Y.shape, X.shape)\n",
    "print(Y.dtype, X.dtype)"
   ]
  },
  {
   "cell_type": "code",
   "execution_count": 10,
   "id": "c9c7cceb-2b8e-4741-8141-37da27586e9c",
   "metadata": {},
   "outputs": [],
   "source": [
    "X_o = preprocessing.scale(np.ascontiguousarray(X)) # preprocessing.robust_scale(X)\n",
    "Y_o = Y.copy()"
   ]
  },
  {
   "cell_type": "code",
   "execution_count": 11,
   "id": "7dad6d68-b4af-4097-a3a9-2e2ea07e7ec0",
   "metadata": {},
   "outputs": [],
   "source": [
    "from mlgrad.boost.gb_regression import gb_fit, gb_fit_agg"
   ]
  },
  {
   "cell_type": "code",
   "execution_count": 13,
   "id": "c0bcff39-70ea-4225-bffb-221eddfc871d",
   "metadata": {},
   "outputs": [],
   "source": [
    "def new_model(N):\n",
    "    mod = SigmaNeuronModel(Sigmoidal(1.0), N)\n",
    "    mod.init_param()\n",
    "    return mod\n",
    "\n",
    "m = 20\n",
    "\n",
    "gb = gb_fit(X_o, Y_o, new_model, h=0.01, tol=1.0e-6, n_iter=m)\n",
    "lfm, lvals = gb.complex_model, gb.lvals\n",
    "# print(np.asarray(lfm.weights))"
   ]
  },
  {
   "cell_type": "code",
   "execution_count": 14,
   "id": "a701e73d-087d-4ffe-9e6f-6cb41fe83738",
   "metadata": {},
   "outputs": [
    {
     "ename": "TypeError",
     "evalue": "cannot unpack non-iterable MGradientBoostingRegression object",
     "output_type": "error",
     "traceback": [
      "\u001b[0;31m---------------------------------------------------------------------------\u001b[0m",
      "\u001b[0;31mTypeError\u001b[0m                                 Traceback (most recent call last)",
      "\u001b[0;32m/tmp/ipykernel_7352/1977956966.py\u001b[0m in \u001b[0;36m<module>\u001b[0;34m\u001b[0m\n\u001b[1;32m      1\u001b[0m \u001b[0malpha\u001b[0m\u001b[0;34m=\u001b[0m\u001b[0;36m0.96\u001b[0m\u001b[0;34m\u001b[0m\u001b[0;34m\u001b[0m\u001b[0m\n\u001b[0;32m----> 2\u001b[0;31m \u001b[0mgb_agg\u001b[0m\u001b[0;34m,\u001b[0m \u001b[0mlvals_agg\u001b[0m \u001b[0;34m=\u001b[0m \u001b[0mgb_fit_agg\u001b[0m\u001b[0;34m(\u001b[0m\u001b[0mX_o\u001b[0m\u001b[0;34m,\u001b[0m \u001b[0mY_o\u001b[0m\u001b[0;34m,\u001b[0m \u001b[0mnew_model\u001b[0m\u001b[0;34m,\u001b[0m \u001b[0malpha\u001b[0m\u001b[0;34m=\u001b[0m\u001b[0malpha\u001b[0m\u001b[0;34m,\u001b[0m \u001b[0mh\u001b[0m\u001b[0;34m=\u001b[0m\u001b[0;36m0.01\u001b[0m\u001b[0;34m,\u001b[0m \u001b[0mtol\u001b[0m\u001b[0;34m=\u001b[0m\u001b[0;36m1.0e-6\u001b[0m\u001b[0;34m,\u001b[0m \u001b[0mn_iter\u001b[0m\u001b[0;34m=\u001b[0m\u001b[0mm\u001b[0m\u001b[0;34m)\u001b[0m\u001b[0;34m\u001b[0m\u001b[0;34m\u001b[0m\u001b[0m\n\u001b[0m\u001b[1;32m      3\u001b[0m \u001b[0mlfm_agg\u001b[0m\u001b[0;34m,\u001b[0m \u001b[0mlvals_agg\u001b[0m \u001b[0;34m=\u001b[0m \u001b[0mgb_agg\u001b[0m\u001b[0;34m.\u001b[0m\u001b[0mcomplex_model\u001b[0m\u001b[0;34m,\u001b[0m \u001b[0mgb_agg\u001b[0m\u001b[0;34m.\u001b[0m\u001b[0mlvals\u001b[0m\u001b[0;34m\u001b[0m\u001b[0;34m\u001b[0m\u001b[0m\n\u001b[1;32m      4\u001b[0m \u001b[0;34m\u001b[0m\u001b[0m\n\u001b[1;32m      5\u001b[0m \u001b[0;31m# print(np.asarray(lfm_agg.weights))\u001b[0m\u001b[0;34m\u001b[0m\u001b[0;34m\u001b[0m\u001b[0m\n",
      "\u001b[0;31mTypeError\u001b[0m: cannot unpack non-iterable MGradientBoostingRegression object"
     ]
    }
   ],
   "source": [
    "alpha=0.96\n",
    "gb_agg, lvals_agg = gb_fit_agg(X_o, Y_o, new_model, alpha=alpha, h=0.01, tol=1.0e-6, n_iter=m)\n",
    "lfm_agg, lvals_agg = gb_agg.complex_model, gb_agg.lvals\n",
    "\n",
    "# print(np.asarray(lfm_agg.weights))"
   ]
  },
  {
   "cell_type": "code",
   "execution_count": null,
   "id": "21f27c19-2ccd-4154-b4d2-07fdb12b1b23",
   "metadata": {},
   "outputs": [],
   "source": [
    "print(np.asarray(lfm.weights))\n",
    "print(np.asarray(lfm_agg.weights))"
   ]
  },
  {
   "cell_type": "code",
   "execution_count": null,
   "id": "6f9f8200-8717-480a-8f56-3fd6b4a4cd5c",
   "metadata": {},
   "outputs": [],
   "source": [
    "plt.plot(np.log(lvals), label='ls')\n",
    "plt.plot(np.log(lvals_agg), label='wm')\n",
    "plt.legend()\n",
    "plt.savefig('calhousing_%.0f_m_lvals.eps' % (alpha*100,m))\n",
    "plt.show()"
   ]
  },
  {
   "cell_type": "code",
   "execution_count": null,
   "id": "6a2c7029-5bb8-42fa-9a8e-664ab9d25dcc",
   "metadata": {},
   "outputs": [],
   "source": [
    "plt.figure(figsize=(7,5))\n",
    "plt.loglog(sorted(np.abs(lfm.evaluate_all(X_o)-Y_o)), label='ls') #, marker='o', markersize=1)\n",
    "plt.loglog(sorted(np.abs(lfm_agg.evaluate_all(X_o)-Y_o)), label='wm') #, marker='o', markersize=1)\n",
    "plt.legend()\n",
    "plt.savefig('calhousing_%.0f_%s_errors.eps' % (alpha*100,m))\n",
    "plt.show()"
   ]
  },
  {
   "cell_type": "code",
   "execution_count": null,
   "id": "f79fcf65-04f1-4ee0-a379-bab8f7450e85",
   "metadata": {},
   "outputs": [],
   "source": [
    "plt.figure(figsize=(7,6))\n",
    "plt.scatter(lfm.evaluate_all(X_o)-Y_o, lfm_agg.evaluate_all(X_o)-Y_o, s=9, c='k')\n",
    "plt.savefig('calhousing_%.0f_errors_box.eps' % (alpha*100,))\n",
    "plt.show()"
   ]
  },
  {
   "cell_type": "code",
   "execution_count": null,
   "id": "c5db67a4-9f4f-47c6-aa8e-a3affd4d74a3",
   "metadata": {},
   "outputs": [],
   "source": [
    "Y_ls = np.array([lfm(Xk) for Xk in X_o])\n",
    "Y_agg = np.array([lfm_agg(Xk) for Xk in X_o])"
   ]
  },
  {
   "cell_type": "code",
   "execution_count": null,
   "id": "fa82ee45-f0fd-492e-bb79-2a68b2630aa1",
   "metadata": {},
   "outputs": [],
   "source": [
    "err_ls = np.abs(Y_o - Y_ls)\n",
    "err_wm = np.abs(Y_o - Y_agg)\n",
    "\n",
    "acc_ls = metrics.mean_absolute_error(Y_o, Y_ls)\n",
    "acc_wm = metrics.mean_absolute_error(Y_o, Y_agg)\n",
    "var_ls = np.mean(np.abs(err_ls - acc_ls))\n",
    "var_wm = np.mean(np.abs(err_wm - acc_wm))\n",
    "\n",
    "print(acc_ls, acc_wm)\n",
    "print(var_ls, var_wm)"
   ]
  },
  {
   "cell_type": "code",
   "execution_count": null,
   "id": "61e6fd52-d592-48e3-9a5a-87c3e4fb6fc0",
   "metadata": {},
   "outputs": [],
   "source": [
    "err_ls = np.abs(Y_o - Y_ls)\n",
    "err_wm = np.abs(Y_o - Y_agg)\n",
    "acc_ls = np.median(err_ls)\n",
    "acc_wm = np.median(err_wm)\n",
    "var_ls = np.mean(np.abs(err_ls - acc_ls))\n",
    "var_wm = np.mean(np.abs(err_wm - acc_wm))\n",
    "\n",
    "print(acc_ls, acc_wm)\n",
    "print(var_ls, var_wm)"
   ]
  },
  {
   "cell_type": "code",
   "execution_count": null,
   "id": "5b686e6b-96ff-47f1-8965-648d4bc02de6",
   "metadata": {},
   "outputs": [],
   "source": [
    "plt.figure(figsize=(12,5))\n",
    "plt.subplot(1,2,1)\n",
    "plt.scatter(Y_o, Y_ls, c=np.abs(Y_o-Y_ls), s=9, cmap=plt.cm.Greys_r)\n",
    "plt.plot([0,5], [0,5], color='k')\n",
    "plt.subplot(1,2,2)\n",
    "plt.scatter(Y_o, Y_agg, c=np.abs(Y_o-Y_agg), s=9, cmap=plt.cm.Greys_r)\n",
    "plt.plot([0,5], [0,5], color='k')\n",
    "plt.subplot(1,2,2)\n",
    "plt.tight_layout()\n",
    "plt.show()"
   ]
  },
  {
   "cell_type": "code",
   "execution_count": null,
   "id": "58774f3b-f23a-4f0b-93e7-d23ce72c0cd8",
   "metadata": {},
   "outputs": [],
   "source": []
  },
  {
   "cell_type": "code",
   "execution_count": null,
   "id": "0d628cb1-e91f-4d0f-b64d-bb5a57f78c46",
   "metadata": {},
   "outputs": [],
   "source": []
  }
 ],
 "metadata": {
  "kernelspec": {
   "display_name": "Python 3 (ipykernel)",
   "language": "python",
   "name": "python3"
  },
  "language_info": {
   "codemirror_mode": {
    "name": "ipython",
    "version": 3
   },
   "file_extension": ".py",
   "mimetype": "text/x-python",
   "name": "python",
   "nbconvert_exporter": "python",
   "pygments_lexer": "ipython3",
   "version": "3.9.12"
  }
 },
 "nbformat": 4,
 "nbformat_minor": 5
}
