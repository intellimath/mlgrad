{
 "cells": [
  {
   "cell_type": "code",
   "execution_count": 1,
   "id": "715b5f1f-92d7-4207-9825-25e2af2f83f0",
   "metadata": {},
   "outputs": [],
   "source": [
    "from mlgrad.risk import ERisk, ERiskGB\n",
    "from mlgrad.loss import SquareErrorLoss, ErrorLoss\n",
    "from mlgrad.model import LinearFuncModel, SigmaNeuronModel, FFNetworkModel, \\\n",
    "                        FFNetworkFuncModel, SigmaNeuronModelLayer, LinearModel\n",
    "from mlgrad.func import SoftPlus, Sqrt, Sigmoidal, HingeSqrt, Arctang, Absolute\n",
    "\n",
    "from mlgrad import erm_fg, erm_irgd, fg, erm_fg, erisk\n",
    "from mlgrad.regr import m_regression_irls\n",
    "from mlgrad.af import averaging_function\n",
    "from mlgrad.weights import MWeights\n",
    "\n",
    "import numpy as np"
   ]
  },
  {
   "cell_type": "code",
   "execution_count": 2,
   "id": "108eeddf-036d-49d9-ab73-fcd019084c67",
   "metadata": {},
   "outputs": [
    {
     "name": "stdout",
     "output_type": "stream",
     "text": [
      "3.11.2 (main, Mar 13 2023, 12:18:29) [GCC 12.2.0]\n"
     ]
    }
   ],
   "source": [
    "import sklearn.datasets as datasets\n",
    "import sklearn.metrics as metrics\n",
    "import sklearn.preprocessing as preprocessing\n",
    "import matplotlib.pyplot as plt\n",
    "\n",
    "import sys\n",
    "print(sys.version)"
   ]
  },
  {
   "cell_type": "code",
   "execution_count": 3,
   "id": "587bd378-0b3b-4cc9-8ace-cbb338db4e31",
   "metadata": {},
   "outputs": [],
   "source": [
    "# X, Y = datasets.load_boston(return_X_y=True)\n",
    "# N = len(X)\n",
    "# print(X.shape, X.dtype)\n",
    "# print(Y.shape, Y.dtype)\n",
    "# # print(Y)"
   ]
  },
  {
   "cell_type": "code",
   "execution_count": 4,
   "id": "96dbd92c-ab46-4949-9aae-c1311a2c83ee",
   "metadata": {},
   "outputs": [],
   "source": [
    "from sklearn.datasets import fetch_california_housing\n",
    "housing = fetch_california_housing()"
   ]
  },
  {
   "cell_type": "code",
   "execution_count": 5,
   "id": "b8516856-b20c-4af0-a3da-17f3267724db",
   "metadata": {},
   "outputs": [],
   "source": [
    "X = housing.data\n",
    "Y = housing.target"
   ]
  },
  {
   "cell_type": "code",
   "execution_count": 6,
   "id": "e2576850-f35b-4462-a629-b5b7c633b649",
   "metadata": {},
   "outputs": [
    {
     "name": "stdout",
     "output_type": "stream",
     "text": [
      "(20640,) (20640, 8)\n",
      "float64 float64\n"
     ]
    }
   ],
   "source": [
    "print(Y.shape, X.shape)\n",
    "print(Y.dtype, X.dtype)"
   ]
  },
  {
   "cell_type": "code",
   "execution_count": 7,
   "id": "c9c7cceb-2b8e-4741-8141-37da27586e9c",
   "metadata": {},
   "outputs": [],
   "source": [
    "X_o = preprocessing.scale(np.ascontiguousarray(X)) # preprocessing.robust_scale(X)\n",
    "Y_o = Y.copy()"
   ]
  },
  {
   "cell_type": "code",
   "execution_count": 8,
   "id": "7dad6d68-b4af-4097-a3a9-2e2ea07e7ec0",
   "metadata": {},
   "outputs": [],
   "source": [
    "from mlgrad.boost.gb_regression import gb_fit, gb_fit_agg"
   ]
  },
  {
   "cell_type": "code",
   "execution_count": 9,
   "id": "c0bcff39-70ea-4225-bffb-221eddfc871d",
   "metadata": {},
   "outputs": [
    {
     "ename": "ZeroDivisionError",
     "evalue": "float division",
     "output_type": "error",
     "traceback": [
      "\u001b[0;31m---------------------------------------------------------------------------\u001b[0m",
      "\u001b[0;31mZeroDivisionError\u001b[0m                         Traceback (most recent call last)",
      "Cell \u001b[0;32mIn [9], line 8\u001b[0m\n\u001b[1;32m      4\u001b[0m     \u001b[38;5;28;01mreturn\u001b[39;00m mod\n\u001b[1;32m      6\u001b[0m m \u001b[38;5;241m=\u001b[39m \u001b[38;5;241m20\u001b[39m\n\u001b[0;32m----> 8\u001b[0m gb \u001b[38;5;241m=\u001b[39m \u001b[43mgb_fit\u001b[49m\u001b[43m(\u001b[49m\u001b[43mX_o\u001b[49m\u001b[43m,\u001b[49m\u001b[43m \u001b[49m\u001b[43mY_o\u001b[49m\u001b[43m,\u001b[49m\u001b[43m \u001b[49m\u001b[43mnew_model\u001b[49m\u001b[43m,\u001b[49m\u001b[43m \u001b[49m\u001b[43mh\u001b[49m\u001b[38;5;241;43m=\u001b[39;49m\u001b[38;5;241;43m0.01\u001b[39;49m\u001b[43m,\u001b[49m\u001b[43m \u001b[49m\u001b[43mtol\u001b[49m\u001b[38;5;241;43m=\u001b[39;49m\u001b[38;5;241;43m1.0e-6\u001b[39;49m\u001b[43m,\u001b[49m\u001b[43m \u001b[49m\u001b[43mn_iter\u001b[49m\u001b[38;5;241;43m=\u001b[39;49m\u001b[43mm\u001b[49m\u001b[43m)\u001b[49m\n\u001b[1;32m      9\u001b[0m lfm, lvals \u001b[38;5;241m=\u001b[39m gb\u001b[38;5;241m.\u001b[39mcomplex_model, gb\u001b[38;5;241m.\u001b[39mlvals\n\u001b[1;32m     10\u001b[0m \u001b[38;5;66;03m# print(np.asarray(lfm.weights))\u001b[39;00m\n",
      "File \u001b[0;32m~/.local/lib/python3.11/site-packages/mlgrad-0.6-py3.11-linux-x86_64.egg/mlgrad/boost/gb_regression.py:197\u001b[0m, in \u001b[0;36mgb_fit\u001b[0;34m(X, Y, new_model, loss_func, h, n_iter, n_iter2, tol)\u001b[0m\n\u001b[1;32m    194\u001b[0m     loss_func \u001b[38;5;241m=\u001b[39m SquareErrorLoss()\n\u001b[1;32m    195\u001b[0m gb \u001b[38;5;241m=\u001b[39m GradientBoostingRegression(lfm, new_model, loss_func, \n\u001b[1;32m    196\u001b[0m                       h\u001b[38;5;241m=\u001b[39mh, n_iter\u001b[38;5;241m=\u001b[39mn_iter, n_iter2\u001b[38;5;241m=\u001b[39mn_iter2, tol\u001b[38;5;241m=\u001b[39mtol)\n\u001b[0;32m--> 197\u001b[0m \u001b[43mgb\u001b[49m\u001b[38;5;241;43m.\u001b[39;49m\u001b[43mfit\u001b[49m\u001b[43m(\u001b[49m\u001b[43mX\u001b[49m\u001b[43m,\u001b[49m\u001b[43m \u001b[49m\u001b[43mY\u001b[49m\u001b[43m)\u001b[49m\n\u001b[1;32m    198\u001b[0m \u001b[38;5;28;01mreturn\u001b[39;00m gb\n",
      "File \u001b[0;32m~/.local/lib/python3.11/site-packages/mlgrad-0.6-py3.11-linux-x86_64.egg/mlgrad/boost/gb_regression.py:87\u001b[0m, in \u001b[0;36mGradientBoostingRegression.fit\u001b[0;34m(self, X, Y)\u001b[0m\n\u001b[1;32m     84\u001b[0m risk \u001b[38;5;241m=\u001b[39m ERiskGB(X, Y, mod, \u001b[38;5;28mself\u001b[39m\u001b[38;5;241m.\u001b[39mloss_func)\n\u001b[1;32m     85\u001b[0m risk\u001b[38;5;241m.\u001b[39mH[:] \u001b[38;5;241m=\u001b[39m \u001b[38;5;28mself\u001b[39m\u001b[38;5;241m.\u001b[39mcomplex_model\u001b[38;5;241m.\u001b[39mevaluate_all(X)\n\u001b[0;32m---> 87\u001b[0m \u001b[38;5;28;43mself\u001b[39;49m\u001b[38;5;241;43m.\u001b[39;49m\u001b[43mfind_param_alpha\u001b[49m\u001b[43m(\u001b[49m\u001b[43mrisk\u001b[49m\u001b[43m)\u001b[49m\n\u001b[1;32m     89\u001b[0m \u001b[38;5;66;03m# lval = risk.evaluate()\u001b[39;00m\n\u001b[1;32m     90\u001b[0m \u001b[38;5;28mself\u001b[39m\u001b[38;5;241m.\u001b[39mlvals\u001b[38;5;241m.\u001b[39mappend(\u001b[38;5;28mself\u001b[39m\u001b[38;5;241m.\u001b[39mlval)\n",
      "File \u001b[0;32m~/.local/lib/python3.11/site-packages/mlgrad-0.6-py3.11-linux-x86_64.egg/mlgrad/boost/gb_regression.py:54\u001b[0m, in \u001b[0;36mGradientBoostingRegression.find_param_alpha\u001b[0;34m(self, risk)\u001b[0m\n\u001b[1;32m     51\u001b[0m \u001b[38;5;28;01mfor\u001b[39;00m j \u001b[38;5;129;01min\u001b[39;00m \u001b[38;5;28mrange\u001b[39m(\u001b[38;5;28mself\u001b[39m\u001b[38;5;241m.\u001b[39mn_iter2):\n\u001b[1;32m     52\u001b[0m     lval_prev \u001b[38;5;241m=\u001b[39m lval\n\u001b[0;32m---> 54\u001b[0m     \u001b[38;5;28;43mself\u001b[39;49m\u001b[38;5;241;43m.\u001b[39;49m\u001b[43mfind_param\u001b[49m\u001b[43m(\u001b[49m\u001b[43mrisk\u001b[49m\u001b[43m)\u001b[49m\n\u001b[1;32m     56\u001b[0m     \u001b[38;5;28mself\u001b[39m\u001b[38;5;241m.\u001b[39mfind_alpha(risk)\n\u001b[1;32m     58\u001b[0m     lval \u001b[38;5;241m=\u001b[39m risk\u001b[38;5;241m.\u001b[39mevaluate()\n",
      "File \u001b[0;32m~/.local/lib/python3.11/site-packages/mlgrad-0.6-py3.11-linux-x86_64.egg/mlgrad/boost/gb_regression.py:43\u001b[0m, in \u001b[0;36mGradientBoostingRegression.find_param\u001b[0;34m(self, risk)\u001b[0m\n\u001b[1;32m     42\u001b[0m \u001b[38;5;28;01mdef\u001b[39;00m \u001b[38;5;21mfind_param\u001b[39m(\u001b[38;5;28mself\u001b[39m, risk):\n\u001b[0;32m---> 43\u001b[0m     \u001b[38;5;28;01mreturn\u001b[39;00m \u001b[43merm_fg\u001b[49m\u001b[43m(\u001b[49m\u001b[43mrisk\u001b[49m\u001b[43m,\u001b[49m\u001b[43m \u001b[49m\u001b[43mh\u001b[49m\u001b[38;5;241;43m=\u001b[39;49m\u001b[38;5;28;43mself\u001b[39;49m\u001b[38;5;241;43m.\u001b[39;49m\u001b[43mh\u001b[49m\u001b[43m,\u001b[49m\u001b[43m \u001b[49m\u001b[43mtol\u001b[49m\u001b[38;5;241;43m=\u001b[39;49m\u001b[38;5;28;43mself\u001b[39;49m\u001b[38;5;241;43m.\u001b[39;49m\u001b[43mtol\u001b[49m\u001b[43m)\u001b[49m\n",
      "File \u001b[0;32m~/.local/lib/python3.11/site-packages/mlgrad-0.6-py3.11-linux-x86_64.egg/mlgrad/__init__.py:132\u001b[0m, in \u001b[0;36merm_fg\u001b[0;34m(er, h, tol, n_iter, averager, callback, stop_condition, n_restart, verbose, normalizer)\u001b[0m\n\u001b[1;32m    130\u001b[0m     alg\u001b[38;5;241m.\u001b[39muse_normalizer(normalizer)\n\u001b[1;32m    131\u001b[0m \u001b[38;5;28;01mfor\u001b[39;00m i \u001b[38;5;129;01min\u001b[39;00m \u001b[38;5;28mrange\u001b[39m(n_restart):\n\u001b[0;32m--> 132\u001b[0m     \u001b[43malg\u001b[49m\u001b[38;5;241;43m.\u001b[39;49m\u001b[43mfit\u001b[49m\u001b[43m(\u001b[49m\u001b[43m)\u001b[49m\n\u001b[1;32m    133\u001b[0m     K \u001b[38;5;241m+\u001b[39m\u001b[38;5;241m=\u001b[39m alg\u001b[38;5;241m.\u001b[39mK\n\u001b[1;32m    134\u001b[0m     \u001b[38;5;28;01mif\u001b[39;00m alg\u001b[38;5;241m.\u001b[39mcompleted:\n",
      "File \u001b[0;32mlib/mlgrad/gd.pyx:90\u001b[0m, in \u001b[0;36mmlgrad.gd.GD.fit\u001b[0;34m()\u001b[0m\n",
      "File \u001b[0;32mlib/mlgrad/gd.pyx:139\u001b[0m, in \u001b[0;36mmlgrad.gd.GD.fit_epoch\u001b[0;34m()\u001b[0m\n",
      "File \u001b[0;32mlib/mlgrad/averager_array.pyx:261\u001b[0m, in \u001b[0;36mmlgrad.averager.ArrayAdaM1.update\u001b[0;34m()\u001b[0m\n",
      "\u001b[0;31mZeroDivisionError\u001b[0m: float division"
     ]
    }
   ],
   "source": [
    "def new_model(N):\n",
    "    mod = SigmaNeuronModel(Sigmoidal(1.0), N)\n",
    "    mod.init_param()\n",
    "    return mod\n",
    "\n",
    "m = 20\n",
    "\n",
    "gb = gb_fit(X_o, Y_o, new_model, h=0.01, tol=1.0e-6, n_iter=m)\n",
    "lfm, lvals = gb.complex_model, gb.lvals\n",
    "# print(np.asarray(lfm.weights))"
   ]
  },
  {
   "cell_type": "code",
   "execution_count": null,
   "id": "a701e73d-087d-4ffe-9e6f-6cb41fe83738",
   "metadata": {},
   "outputs": [],
   "source": [
    "alpha=0.96\n",
    "gb_agg, lvals_agg = gb_fit_agg(X_o, Y_o, new_model, alpha=alpha, h=0.01, tol=1.0e-6, n_iter=m)\n",
    "lfm_agg, lvals_agg = gb_agg.complex_model, gb_agg.lvals\n",
    "\n",
    "# print(np.asarray(lfm_agg.weights))"
   ]
  },
  {
   "cell_type": "code",
   "execution_count": null,
   "id": "21f27c19-2ccd-4154-b4d2-07fdb12b1b23",
   "metadata": {},
   "outputs": [],
   "source": [
    "print(np.asarray(lfm.weights))\n",
    "print(np.asarray(lfm_agg.weights))"
   ]
  },
  {
   "cell_type": "code",
   "execution_count": null,
   "id": "6f9f8200-8717-480a-8f56-3fd6b4a4cd5c",
   "metadata": {},
   "outputs": [],
   "source": [
    "plt.plot(np.log(lvals), label='ls')\n",
    "plt.plot(np.log(lvals_agg), label='wm')\n",
    "plt.legend()\n",
    "plt.savefig('calhousing_%.0f_m_lvals.eps' % (alpha*100,m))\n",
    "plt.show()"
   ]
  },
  {
   "cell_type": "code",
   "execution_count": null,
   "id": "6a2c7029-5bb8-42fa-9a8e-664ab9d25dcc",
   "metadata": {},
   "outputs": [],
   "source": [
    "plt.figure(figsize=(7,5))\n",
    "plt.loglog(sorted(np.abs(lfm.evaluate_all(X_o)-Y_o)), label='ls') #, marker='o', markersize=1)\n",
    "plt.loglog(sorted(np.abs(lfm_agg.evaluate_all(X_o)-Y_o)), label='wm') #, marker='o', markersize=1)\n",
    "plt.legend()\n",
    "plt.savefig('calhousing_%.0f_%s_errors.eps' % (alpha*100,m))\n",
    "plt.show()"
   ]
  },
  {
   "cell_type": "code",
   "execution_count": null,
   "id": "f79fcf65-04f1-4ee0-a379-bab8f7450e85",
   "metadata": {},
   "outputs": [],
   "source": [
    "plt.figure(figsize=(7,6))\n",
    "plt.scatter(lfm.evaluate_all(X_o)-Y_o, lfm_agg.evaluate_all(X_o)-Y_o, s=9, c='k')\n",
    "plt.savefig('calhousing_%.0f_errors_box.eps' % (alpha*100,))\n",
    "plt.show()"
   ]
  },
  {
   "cell_type": "code",
   "execution_count": null,
   "id": "c5db67a4-9f4f-47c6-aa8e-a3affd4d74a3",
   "metadata": {},
   "outputs": [],
   "source": [
    "Y_ls = np.array([lfm(Xk) for Xk in X_o])\n",
    "Y_agg = np.array([lfm_agg(Xk) for Xk in X_o])"
   ]
  },
  {
   "cell_type": "code",
   "execution_count": null,
   "id": "fa82ee45-f0fd-492e-bb79-2a68b2630aa1",
   "metadata": {},
   "outputs": [],
   "source": [
    "err_ls = np.abs(Y_o - Y_ls)\n",
    "err_wm = np.abs(Y_o - Y_agg)\n",
    "\n",
    "acc_ls = metrics.mean_absolute_error(Y_o, Y_ls)\n",
    "acc_wm = metrics.mean_absolute_error(Y_o, Y_agg)\n",
    "var_ls = np.mean(np.abs(err_ls - acc_ls))\n",
    "var_wm = np.mean(np.abs(err_wm - acc_wm))\n",
    "\n",
    "print(acc_ls, acc_wm)\n",
    "print(var_ls, var_wm)"
   ]
  },
  {
   "cell_type": "code",
   "execution_count": null,
   "id": "61e6fd52-d592-48e3-9a5a-87c3e4fb6fc0",
   "metadata": {},
   "outputs": [],
   "source": [
    "err_ls = np.abs(Y_o - Y_ls)\n",
    "err_wm = np.abs(Y_o - Y_agg)\n",
    "acc_ls = np.median(err_ls)\n",
    "acc_wm = np.median(err_wm)\n",
    "var_ls = np.mean(np.abs(err_ls - acc_ls))\n",
    "var_wm = np.mean(np.abs(err_wm - acc_wm))\n",
    "\n",
    "print(acc_ls, acc_wm)\n",
    "print(var_ls, var_wm)"
   ]
  },
  {
   "cell_type": "code",
   "execution_count": null,
   "id": "5b686e6b-96ff-47f1-8965-648d4bc02de6",
   "metadata": {},
   "outputs": [],
   "source": [
    "plt.figure(figsize=(12,5))\n",
    "plt.subplot(1,2,1)\n",
    "plt.scatter(Y_o, Y_ls, c=np.abs(Y_o-Y_ls), s=9, cmap=plt.cm.Greys_r)\n",
    "plt.plot([0,5], [0,5], color='k')\n",
    "plt.subplot(1,2,2)\n",
    "plt.scatter(Y_o, Y_agg, c=np.abs(Y_o-Y_agg), s=9, cmap=plt.cm.Greys_r)\n",
    "plt.plot([0,5], [0,5], color='k')\n",
    "plt.subplot(1,2,2)\n",
    "plt.tight_layout()\n",
    "plt.show()"
   ]
  },
  {
   "cell_type": "code",
   "execution_count": null,
   "id": "58774f3b-f23a-4f0b-93e7-d23ce72c0cd8",
   "metadata": {},
   "outputs": [],
   "source": []
  },
  {
   "cell_type": "code",
   "execution_count": null,
   "id": "0d628cb1-e91f-4d0f-b64d-bb5a57f78c46",
   "metadata": {},
   "outputs": [],
   "source": []
  }
 ],
 "metadata": {
  "kernelspec": {
   "display_name": "Python 3 (ipykernel)",
   "language": "python",
   "name": "python3"
  },
  "language_info": {
   "codemirror_mode": {
    "name": "ipython",
    "version": 3
   },
   "file_extension": ".py",
   "mimetype": "text/x-python",
   "name": "python",
   "nbconvert_exporter": "python",
   "pygments_lexer": "ipython3",
   "version": "3.11.2"
  }
 },
 "nbformat": 4,
 "nbformat_minor": 5
}
