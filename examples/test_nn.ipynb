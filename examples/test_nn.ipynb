{
 "cells": [
  {
   "cell_type": "code",
   "execution_count": 1,
   "metadata": {
    "ExecuteTime": {
     "end_time": "2017-12-27T11:26:20.312927Z",
     "start_time": "2017-12-27T11:26:18.202547Z"
    }
   },
   "outputs": [],
   "source": [
    "import numpy as np\n",
    "\n",
    "import mlgrad.model as model\n",
    "import mlgrad.loss as loss\n",
    "import mlgrad.func as func\n",
    "\n",
    "from mlgrad import erm_fg, erisk\n",
    "\n",
    "from pprint import pprint\n",
    "\n",
    "from axon import loads, dumps"
   ]
  },
  {
   "cell_type": "code",
   "execution_count": 2,
   "metadata": {
    "ExecuteTime": {
     "end_time": "2017-12-27T11:26:20.323572Z",
     "start_time": "2017-12-27T11:26:20.315927Z"
    }
   },
   "outputs": [],
   "source": [
    "X = np.array([[-1,-1],[-1,1],[1,-1],[1,1]], 'd')\n",
    "Y = np.array([-1,1,1,-1],'d')"
   ]
  },
  {
   "cell_type": "code",
   "execution_count": 3,
   "metadata": {
    "ExecuteTime": {
     "end_time": "2017-12-27T11:26:20.341024Z",
     "start_time": "2017-12-27T11:26:20.327948Z"
    }
   },
   "outputs": [
    {
     "name": "stdout",
     "output_type": "stream",
     "text": [
      "6\n"
     ]
    }
   ],
   "source": [
    "nn = model.FFNetworkModel()\n",
    "layer = model.ModelLayer(2)\n",
    "layer.add(model.SigmaNeuronModel(func.Sigmoidal(), 3))\n",
    "layer.add(model.SigmaNeuronModel(func.Sigmoidal(), 3))\n",
    "#layer.add(model.SigmaNeuronModel(func.Sigmoidal(), 3))\n",
    "print(layer.n_param)\n",
    "nn.add(layer)"
   ]
  },
  {
   "cell_type": "code",
   "execution_count": 4,
   "metadata": {
    "ExecuteTime": {
     "end_time": "2017-12-27T11:26:20.382636Z",
     "start_time": "2017-12-27T11:26:20.345812Z"
    }
   },
   "outputs": [
    {
     "name": "stdout",
     "output_type": "stream",
     "text": [
      "9\n",
      "[0.05708447872343059, 0.09481125054835982, 0.3546848426756265, 0.519296455393528, 0.3259496988028895, 0.01812231488524363, 0.7974450396896586, 0.6731611434264447, 0.7827638081852911]\n"
     ]
    }
   ],
   "source": [
    "ffnn = model.FFNetworkFuncModel(model.LinearModel(3), nn)\n",
    "ffnn.allocate()\n",
    "print(ffnn.n_param)\n",
    "ffnn.param[:] = np.random.random(size=ffnn.n_param)\n",
    "print(list(ffnn.param))"
   ]
  },
  {
   "cell_type": "code",
   "execution_count": 5,
   "metadata": {
    "ExecuteTime": {
     "end_time": "2017-12-27T11:26:20.394578Z",
     "start_time": "2017-12-27T11:26:20.387062Z"
    }
   },
   "outputs": [
    {
     "name": "stdout",
     "output_type": "stream",
     "text": [
      "[0.05708447872343059, 0.09481125054835982, 0.3546848426756265]\n",
      "[0.519296455393528, 0.3259496988028895, 0.01812231488524363, 0.7974450396896586, 0.6731611434264447, 0.7827638081852911]\n"
     ]
    }
   ],
   "source": [
    "print(list(ffnn.head.param))\n",
    "print(list(ffnn.body.param))"
   ]
  },
  {
   "cell_type": "code",
   "execution_count": 6,
   "metadata": {
    "ExecuteTime": {
     "end_time": "2017-12-27T11:26:20.444289Z",
     "start_time": "2017-12-27T11:26:20.399171Z"
    }
   },
   "outputs": [
    {
     "name": "stdout",
     "output_type": "stream",
     "text": [
      "[-1. -1.] 0.22960913971394942 -1.0\n",
      "[-1.  1.] 0.36215985946804763 1.0\n",
      "[ 1. -1.] 0.35908714259742935 1.0\n",
      "[ 1.  1.] 0.4447400888063039 -1.0\n"
     ]
    }
   ],
   "source": [
    "for x, y in zip(X,Y):\n",
    "    print(x,ffnn(x.copy()),y)"
   ]
  },
  {
   "cell_type": "code",
   "execution_count": 7,
   "metadata": {
    "ExecuteTime": {
     "end_time": "2017-12-27T11:26:20.554850Z",
     "start_time": "2017-12-27T11:26:20.448602Z"
    }
   },
   "outputs": [
    {
     "name": "stdout",
     "output_type": "stream",
     "text": [
      "418 [-1.07582727 -2.23437528  2.28114515 -3.08779404  3.67680517  3.73063368\n",
      "  3.00440253  3.16143353  3.21040044]\n"
     ]
    }
   ],
   "source": [
    "loss_func = loss.ErrorLoss(func.Square())\n",
    "er = erisk(X, Y, ffnn, loss_func)\n",
    "fg = erm_fg(er, h=0.01, tol=1.0e-9)"
   ]
  },
  {
   "cell_type": "code",
   "execution_count": 8,
   "metadata": {
    "ExecuteTime": {
     "end_time": "2017-12-27T11:26:20.570080Z",
     "start_time": "2017-12-27T11:26:20.557824Z"
    }
   },
   "outputs": [
    {
     "name": "stdout",
     "output_type": "stream",
     "text": [
      "[-1. -1.] -0.9998608896055221 -1.0\n",
      "[-1.  1.] 0.9999106898129984 1.0\n",
      "[ 1. -1.] 0.9998925350012222 1.0\n",
      "[ 1.  1.] -0.9999134682518958 -1.0\n"
     ]
    }
   ],
   "source": [
    "for x, y in zip(X,Y):\n",
    "    print(x,ffnn(x),y)"
   ]
  },
  {
   "cell_type": "code",
   "execution_count": 9,
   "metadata": {
    "ExecuteTime": {
     "end_time": "2017-12-27T11:26:20.642000Z",
     "start_time": "2017-12-27T11:26:20.575597Z"
    }
   },
   "outputs": [
    {
     "name": "stdout",
     "output_type": "stream",
     "text": [
      "layers: [[ { param: (-3.0877940438741263 3.6768051727528697 3.7306336751939475)\n",
      "      type: \"Σ-neuron\"}\n",
      "    { param: (3.004402531313504 3.161433532239766 3.2104004383240614)\n",
      "      type: \"Σ-neuron\"}]]\n",
      "head: {\n",
      "  param: (-1.0758272749485145 -2.2343752807383295 2.281145145988444)\n",
      "  type: \"linear\"}\n"
     ]
    }
   ],
   "source": [
    "print(dumps(ffnn.as_json(), pretty=1))"
   ]
  },
  {
   "cell_type": "code",
   "execution_count": 10,
   "metadata": {
    "ExecuteTime": {
     "end_time": "2017-12-27T11:26:20.669117Z",
     "start_time": "2017-12-27T11:26:20.646101Z"
    }
   },
   "outputs": [
    {
     "data": {
      "text/plain": [
       "-0.9998608896055221"
      ]
     },
     "execution_count": 10,
     "metadata": {},
     "output_type": "execute_result"
    }
   ],
   "source": [
    "ffnn([-1.,-1.])"
   ]
  },
  {
   "cell_type": "code",
   "execution_count": 11,
   "metadata": {
    "ExecuteTime": {
     "end_time": "2017-12-27T11:26:20.687826Z",
     "start_time": "2017-12-27T11:26:20.673700Z"
    }
   },
   "outputs": [],
   "source": [
    "nn = model.FFNetworkModel()\n",
    "layer = model.ModelLayer(2)\n",
    "layer.add(model.SigmaNeuronModel(func.Sigmoidal(), 3))\n",
    "layer.add(model.SigmaNeuronModel(func.Sigmoidal(), 3))\n",
    "layer.add(model.SigmaNeuronModel(func.Sigmoidal(), 3))\n",
    "nn.add(layer)"
   ]
  },
  {
   "cell_type": "code",
   "execution_count": 12,
   "metadata": {
    "ExecuteTime": {
     "end_time": "2017-12-27T11:26:20.702634Z",
     "start_time": "2017-12-27T11:26:20.690750Z"
    }
   },
   "outputs": [
    {
     "name": "stdout",
     "output_type": "stream",
     "text": [
      "13\n",
      "[ 0.8467467   0.67407487  0.20955524  0.04400143  0.68814888  0.63069438\n",
      "  0.69050834  0.44656649  0.71770948  0.33377161  0.62263056  0.63122931\n",
      "  0.40743911]\n"
     ]
    }
   ],
   "source": [
    "ffnn = model.FFNetworkFuncModel(model.LinearModel(4), nn)\n",
    "ffnn.allocate()\n",
    "print(ffnn.n_param)\n",
    "ffnn.param[:] = np.random.random(size=ffnn.n_param)\n",
    "print(ffnn.param.base)"
   ]
  },
  {
   "cell_type": "code",
   "execution_count": 13,
   "metadata": {
    "ExecuteTime": {
     "end_time": "2017-12-27T11:26:20.726277Z",
     "start_time": "2017-12-27T11:26:20.706849Z"
    }
   },
   "outputs": [
    {
     "name": "stdout",
     "output_type": "stream",
     "text": [
      "35 [-0.14528603  1.64988025 -2.96134617 -1.78950968  2.74830011  3.30307843\n",
      "  3.55893574 -3.38983881  4.20246344  3.98174766 -2.72422271 -2.84880959\n",
      " -2.7554257 ]\n"
     ]
    }
   ],
   "source": [
    "loss_func = loss.MarginLoss(func.Hinge())\n",
    "er = erisk(X, Y, ffnn, loss_func)\n",
    "fg = erm_fg(er, h=0.1, tol=1.0e-9)"
   ]
  },
  {
   "cell_type": "code",
   "execution_count": 15,
   "metadata": {
    "ExecuteTime": {
     "end_time": "2017-12-27T11:26:52.050087Z",
     "start_time": "2017-12-27T11:26:52.041831Z"
    }
   },
   "outputs": [
    {
     "name": "stdout",
     "output_type": "stream",
     "text": [
      "[-1. -1.] -1.0 -1.0\n",
      "[-1.  1.] 1.0 1.0\n",
      "[ 1. -1.] 1.0 1.0\n",
      "[ 1.  1.] -1.0 -1.0\n"
     ]
    }
   ],
   "source": [
    "for x, y in zip(X,Y):\n",
    "    print(x,np.sign(ffnn(x)),y)"
   ]
  },
  {
   "cell_type": "code",
   "execution_count": null,
   "metadata": {},
   "outputs": [],
   "source": []
  },
  {
   "cell_type": "code",
   "execution_count": null,
   "metadata": {},
   "outputs": [],
   "source": []
  },
  {
   "cell_type": "code",
   "execution_count": null,
   "metadata": {},
   "outputs": [],
   "source": []
  }
 ],
 "metadata": {
  "hide_input": false,
  "kernelspec": {
   "display_name": "Python 3.5",
   "language": "python",
   "name": "python3.5"
  },
  "language_info": {
   "codemirror_mode": {
    "name": "ipython",
    "version": 3
   },
   "file_extension": ".py",
   "mimetype": "text/x-python",
   "name": "python",
   "nbconvert_exporter": "python",
   "pygments_lexer": "ipython3",
   "version": "3.5.4"
  }
 },
 "nbformat": 4,
 "nbformat_minor": 2
}
