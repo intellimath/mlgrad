{
 "cells": [
  {
   "cell_type": "code",
   "execution_count": 1,
   "metadata": {},
   "outputs": [],
   "source": [
    "from sklearn.neural_network import MLPClassifier\n",
    "import matplotlib.pyplot as plt\n",
    "from sklearn.datasets import fetch_openml\n",
    "import numpy as np "
   ]
  },
  {
   "cell_type": "code",
   "execution_count": 2,
   "metadata": {},
   "outputs": [],
   "source": [
    "# Load data from https://www.openml.org/d/554\n",
    "X, Y = fetch_openml('mnist_784', return_X_y=True, data_home=\"data\")\n",
    "X = X / 255."
   ]
  },
  {
   "cell_type": "code",
   "execution_count": 3,
   "metadata": {},
   "outputs": [
    {
     "name": "stdout",
     "output_type": "stream",
     "text": [
      "Dataset size: 70000\n"
     ]
    }
   ],
   "source": [
    "print('Dataset size:', len(Y))"
   ]
  },
  {
   "cell_type": "code",
   "execution_count": 4,
   "metadata": {},
   "outputs": [],
   "source": [
    "# rescale the data, use the traditional train/test split\n",
    "X_train, X_test = X[:40000], X[40000:]\n",
    "Y_train, Y_test = Y[:40000], Y[40000:]"
   ]
  },
  {
   "cell_type": "code",
   "execution_count": 5,
   "metadata": {},
   "outputs": [],
   "source": [
    "tol = 1e-4\n",
    "max_iter = 30"
   ]
  },
  {
   "cell_type": "code",
   "execution_count": 11,
   "metadata": {},
   "outputs": [],
   "source": [
    "mlp = MLPClassifier(hidden_layer_sizes=(20,), alpha=1e-4,\n",
    "                    solver='sgd', tol=1e-4, random_state=None, max_iter=max_iter,\n",
    "                    learning_rate_init=.1, batch_size=100, warm_start=1)"
   ]
  },
  {
   "cell_type": "code",
   "execution_count": 12,
   "metadata": {},
   "outputs": [
    {
     "name": "stderr",
     "output_type": "stream",
     "text": [
      "/Library/Frameworks/Python.framework/Versions/3.7/lib/python3.7/site-packages/sklearn/neural_network/multilayer_perceptron.py:562: ConvergenceWarning: Stochastic Optimizer: Maximum iterations (30) reached and the optimization hasn't converged yet.\n",
      "  % self.max_iter, ConvergenceWarning)\n"
     ]
    },
    {
     "name": "stdout",
     "output_type": "stream",
     "text": [
      "Number of iterations: 30\n",
      "Training set score: 0.970125\n",
      "Test set score: 0.942100\n",
      "Number of iterations: 31\n",
      "Training set score: 0.969900\n",
      "Test set score: 0.941267\n",
      "Number of iterations: 32\n",
      "Training set score: 0.974325\n",
      "Test set score: 0.944000\n",
      "Number of iterations: 33\n",
      "Training set score: 0.979800\n",
      "Test set score: 0.946700\n",
      "Number of iterations: 34\n",
      "Training set score: 0.975950\n",
      "Test set score: 0.945533\n",
      "Number of iterations: 35\n",
      "Training set score: 0.965250\n",
      "Test set score: 0.937267\n",
      "Number of iterations: 36\n",
      "Training set score: 0.972500\n",
      "Test set score: 0.944767\n",
      "Number of iterations: 37\n",
      "Training set score: 0.970925\n",
      "Test set score: 0.943433\n",
      "Number of iterations: 38\n",
      "Training set score: 0.978775\n",
      "Test set score: 0.946700\n",
      "Number of iterations: 39\n",
      "Training set score: 0.973525\n",
      "Test set score: 0.941133\n"
     ]
    }
   ],
   "source": [
    "s_prev = 0\n",
    "for i in range(1,11):\n",
    "    mlp.fit(X_train, Y_train)\n",
    "    s = mlp.score(X_train, Y_train)\n",
    "    print(\"Number of iterations: %s\" % mlp.n_iter_)\n",
    "    print(\"Training set score: %f\" % s)\n",
    "    print(\"Test set score: %f\" % mlp.score(X_test, Y_test))\n",
    "    if abs(s-s_prev) < tol:\n",
    "        break\n",
    "    s_prev = s"
   ]
  },
  {
   "cell_type": "code",
   "execution_count": 8,
   "metadata": {},
   "outputs": [],
   "source": [
    "import copy"
   ]
  },
  {
   "cell_type": "code",
   "execution_count": 9,
   "metadata": {},
   "outputs": [
    {
     "name": "stderr",
     "output_type": "stream",
     "text": [
      "/Library/Frameworks/Python.framework/Versions/3.7/lib/python3.7/site-packages/sklearn/neural_network/multilayer_perceptron.py:562: ConvergenceWarning: Stochastic Optimizer: Maximum iterations (30) reached and the optimization hasn't converged yet.\n",
      "  % self.max_iter, ConvergenceWarning)\n",
      "/Library/Frameworks/Python.framework/Versions/3.7/lib/python3.7/site-packages/sklearn/neural_network/multilayer_perceptron.py:562: ConvergenceWarning: Stochastic Optimizer: Maximum iterations (30) reached and the optimization hasn't converged yet.\n",
      "  % self.max_iter, ConvergenceWarning)\n",
      "/Library/Frameworks/Python.framework/Versions/3.7/lib/python3.7/site-packages/sklearn/neural_network/multilayer_perceptron.py:562: ConvergenceWarning: Stochastic Optimizer: Maximum iterations (30) reached and the optimization hasn't converged yet.\n",
      "  % self.max_iter, ConvergenceWarning)\n",
      "/Library/Frameworks/Python.framework/Versions/3.7/lib/python3.7/site-packages/sklearn/neural_network/multilayer_perceptron.py:562: ConvergenceWarning: Stochastic Optimizer: Maximum iterations (30) reached and the optimization hasn't converged yet.\n",
      "  % self.max_iter, ConvergenceWarning)\n",
      "/Library/Frameworks/Python.framework/Versions/3.7/lib/python3.7/site-packages/sklearn/neural_network/multilayer_perceptron.py:562: ConvergenceWarning: Stochastic Optimizer: Maximum iterations (30) reached and the optimization hasn't converged yet.\n",
      "  % self.max_iter, ConvergenceWarning)\n"
     ]
    },
    {
     "name": "stdout",
     "output_type": "stream",
     "text": [
      "\n",
      "Step: 1\n",
      "Training set score: 0.9797 0.9816 0.9707 0.9757 0.9767\n",
      "Test set score: 0.9487 0.9492 0.9417 0.9444 0.9471\n",
      "Number of iterations:\n",
      "30 30 30 30 30 \n",
      "Step: 2\n",
      "Training set score: 0.9816 0.9816 0.9816 0.9816 0.9816\n",
      "Test set score: 0.9492 0.9492 0.9492 0.9492 0.9492\n",
      "Number of iterations:\n",
      "1 1 1 1 1 "
     ]
    }
   ],
   "source": [
    "m = 5\n",
    "mlps = []\n",
    "\n",
    "for i in range(m):\n",
    "\n",
    "    mlp = MLPClassifier(hidden_layer_sizes=(20,), alpha=1e-4,\n",
    "                    solver='sgd', tol=1e-4, random_state=None, max_iter=max_iter,\n",
    "                    learning_rate_init=.1, batch_size=100, warm_start=1)\n",
    "    mlps.append(mlp)\n",
    "\n",
    "s_prev = 0\n",
    "\n",
    "for i in range(1,11):\n",
    "\n",
    "    ss = []\n",
    "    ss_t = []\n",
    "    for mlp in mlps:\n",
    "        mlp.n_iter_ = 0\n",
    "        mlp.fit(X_train, Y_train)\n",
    "        s = mlp.score(X_train, Y_train)\n",
    "        ss.append(s)\n",
    "        s_t = mlp.score(X_test, Y_test)\n",
    "        ss_t.append(s_t)\n",
    "    print(\"\\nStep:\", i)\n",
    "    print(\"Training set score:\", \" \".join([\"%.4f\" % s for s in ss]))\n",
    "    print(\"Test set score:\", \" \".join([\"%.4f\" % s for s in ss_t]))\n",
    "    print(\"Number of iterations:\") \n",
    "    for mlp in mlps:\n",
    "        if hasattr(mlp, \"n_iter_\"):\n",
    "            print(mlp.n_iter_, end=' ')\n",
    "        else:\n",
    "            print(max_iter, end=\" \")\n",
    "\n",
    "    jj = np.argmax(ss)\n",
    "    s = max(ss)\n",
    "\n",
    "    if abs(s - s_prev) < tol:\n",
    "        break\n",
    "\n",
    "    s_prev = ss[jj]\n",
    "    mlp_best = mlps[jj]\n",
    "\n",
    "    for mlp in mlps:\n",
    "        mlp.coefs_ = copy.deepcopy(mlp_best.coefs_)\n",
    "        mlp.intercepts_ = copy.deepcopy(mlp_best.intercepts_)\n"
   ]
  },
  {
   "cell_type": "code",
   "execution_count": null,
   "metadata": {},
   "outputs": [],
   "source": []
  },
  {
   "cell_type": "code",
   "execution_count": null,
   "metadata": {},
   "outputs": [],
   "source": []
  }
 ],
 "metadata": {
  "kernelspec": {
   "display_name": "Python 3 (ipykernel)",
   "language": "python",
   "name": "python3"
  },
  "language_info": {
   "codemirror_mode": {
    "name": "ipython",
    "version": 3
   },
   "file_extension": ".py",
   "mimetype": "text/x-python",
   "name": "python",
   "nbconvert_exporter": "python",
   "pygments_lexer": "ipython3",
   "version": "3.11.2"
  }
 },
 "nbformat": 4,
 "nbformat_minor": 4
}
