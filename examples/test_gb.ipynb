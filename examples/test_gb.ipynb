{
 "cells": [
  {
   "cell_type": "code",
   "execution_count": 1,
   "id": "62906ef4-61c7-4621-ac52-aaa06797e3ef",
   "metadata": {},
   "outputs": [],
   "source": [
    "from sklearn.ensemble import GradientBoostingClassifier"
   ]
  },
  {
   "cell_type": "code",
   "execution_count": 2,
   "id": "4d2108d0-2844-4d47-ac26-309bbe61f4bc",
   "metadata": {},
   "outputs": [],
   "source": [
    "from mlgrad.af import averaging_function\n",
    "from mlgrad.func import Sqrt"
   ]
  },
  {
   "cell_type": "code",
   "execution_count": 3,
   "id": "7681bdbf-589e-4130-9c6d-b7a78a12c746",
   "metadata": {},
   "outputs": [],
   "source": [
    "from sklearn.datasets import make_hastie_10_2"
   ]
  },
  {
   "cell_type": "code",
   "execution_count": 4,
   "id": "be85a71b-8e77-4ac7-b341-d2063cfc862a",
   "metadata": {},
   "outputs": [],
   "source": [
    "import numpy as np"
   ]
  },
  {
   "cell_type": "code",
   "execution_count": 5,
   "id": "2f4719ca-a95b-4ab9-bf5a-e3ee168f0e7c",
   "metadata": {},
   "outputs": [],
   "source": [
    "XX, YY = make_hastie_10_2()\n",
    "NN = len(YY)\n",
    "N = NN//2\n",
    "Xt, Yt = XX[N:], YY[N:]\n",
    "X, Y = XX[:N], YY[:N]\n",
    "n = X.shape[1]\n",
    "M = 100"
   ]
  },
  {
   "cell_type": "code",
   "execution_count": 6,
   "id": "b7684332-6cc2-4e91-a314-73955325360a",
   "metadata": {},
   "outputs": [],
   "source": [
    "from sklearn.metrics import accuracy_score"
   ]
  },
  {
   "cell_type": "code",
   "execution_count": 7,
   "id": "82a3f72f-329e-49fc-8055-d6c91dceb19a",
   "metadata": {},
   "outputs": [],
   "source": [
    "import matplotlib.pyplot as plt"
   ]
  },
  {
   "cell_type": "markdown",
   "id": "3e925d83-de5c-442a-a4a8-3dffeced554e",
   "metadata": {},
   "source": [
    "$$\n",
    "\\ell (y, r) = -yr + \\ln(1+e^r)\n",
    "$$\n",
    "$$\n",
    "\\ell^\\prime_r (y, r) = -y + \\frac {1} {1+e^{-r}}\n",
    "$$"
   ]
  },
  {
   "cell_type": "code",
   "execution_count": 8,
   "id": "be7a6cfb-2dd9-416e-89f5-a75a14878919",
   "metadata": {},
   "outputs": [],
   "source": [
    "from scipy.special import expit, logsumexp\n",
    "def loss(gb, X, Y):\n",
    "    raw_predictions = gb._raw_predict(X).ravel()\n",
    "    R = (1-Y)*raw_predictions\n",
    "    # R = -1*(Y * raw_predictions).sum(axis=1) + logsumexp(raw_predictions, axis=1)\n",
    "    return R"
   ]
  },
  {
   "cell_type": "code",
   "execution_count": 9,
   "id": "fccc288a-7dc3-467c-8aba-3c2dbecd25d7",
   "metadata": {},
   "outputs": [
    {
     "name": "stdout",
     "output_type": "stream",
     "text": [
      "0.9556666666666667 0.9088333333333334\n"
     ]
    }
   ],
   "source": [
    "gb = GradientBoostingClassifier(n_estimators=M)\n",
    "gb.fit(X, Y)\n",
    "score = accuracy_score(Y, gb.predict(X))\n",
    "score_t = accuracy_score(Yt, gb.predict(Xt))\n",
    "print(score, score_t)"
   ]
  },
  {
   "cell_type": "code",
   "execution_count": 10,
   "id": "14feb8a2-4731-43f1-a19b-e4a92fa85dfa",
   "metadata": {},
   "outputs": [],
   "source": [
    "YY1 = YY.copy()"
   ]
  },
  {
   "cell_type": "code",
   "execution_count": 11,
   "id": "c7529d06-eee4-4007-8e40-ff3b245ff8d7",
   "metadata": {},
   "outputs": [
    {
     "name": "stdout",
     "output_type": "stream",
     "text": [
      "6046\n",
      "6046\n"
     ]
    }
   ],
   "source": [
    "I1 = [i for i in range(NN) if YY[i] == 1]\n",
    "NN1 = len(I1)\n",
    "print(NN1)\n",
    "# I1 = [i for i in I1 if sum(XX[i] > 0)]\n",
    "# NN1 = len(I1)\n",
    "print(NN1)\n",
    "Is = np.random.randint(0, NN1, int(0.2*NN1))\n",
    "for i in Is:\n",
    "    j = I1[i]\n",
    "    YY1[j] = -YY[j]\n",
    "\n",
    "Y1 = YY1[:N]\n",
    "Y1t = YY1[N:]"
   ]
  },
  {
   "cell_type": "code",
   "execution_count": 12,
   "id": "439ba0c8-5471-48bc-b60c-1e0434d4bfaf",
   "metadata": {},
   "outputs": [
    {
     "name": "stdout",
     "output_type": "stream",
     "text": [
      "0.8563333333333333 0.8183333333333334\n"
     ]
    }
   ],
   "source": [
    "gb = GradientBoostingClassifier(n_estimators=M)\n",
    "gb.fit(X, Y1)\n",
    "score = accuracy_score(Y, gb.predict(X))\n",
    "score_t = accuracy_score(Yt, gb.predict(Xt))\n",
    "print(score, score_t)\n",
    "avg = averaging_function('WM', alpha=0.79, rhofunc=Sqrt(0.001))"
   ]
  },
  {
   "cell_type": "code",
   "execution_count": 13,
   "id": "f9016bf1-14f6-4575-a006-fdb5a2c3c632",
   "metadata": {},
   "outputs": [
    {
     "data": {
      "text/plain": [
       "array([10.31443942,  0.        ,  3.97693477, ...,  0.        ,\n",
       "        9.87568605,  9.06205111])"
      ]
     },
     "execution_count": 13,
     "metadata": {},
     "output_type": "execute_result"
    }
   ],
   "source": [
    "loss(gb, X, Y1)"
   ]
  },
  {
   "cell_type": "code",
   "execution_count": 14,
   "id": "08288048-eaf3-45c2-a5d8-3eb4395fd0cb",
   "metadata": {},
   "outputs": [
    {
     "data": {
      "text/plain": [
       "[<matplotlib.lines.Line2D at 0x7fcdcb894700>]"
      ]
     },
     "execution_count": 14,
     "metadata": {},
     "output_type": "execute_result"
    },
    {
     "data": {
      "image/png": "[encoded data removed]",
      "text/plain": [
       "<Figure size 432x288 with 1 Axes>"
      ]
     },
     "metadata": {
      "needs_background": "light"
     },
     "output_type": "display_data"
    }
   ],
   "source": [
    "plt.plot(sorted(loss(gb, X, Y1)))"
   ]
  },
  {
   "cell_type": "code",
   "execution_count": 15,
   "id": "2e59630a-ad45-4332-87b8-c8c1af7a04cf",
   "metadata": {},
   "outputs": [
    {
     "data": {
      "image/png": "[encoded data removed]",
      "text/plain": [
       "<Figure size 432x360 with 1 Axes>"
      ]
     },
     "metadata": {
      "needs_background": "light"
     },
     "output_type": "display_data"
    }
   ],
   "source": [
    "scores = [score]\n",
    "scores_t = [score_t]\n",
    "for k in range(22):\n",
    "    U = loss(gb, X, Y1)\n",
    "    avg.fit(U)\n",
    "    G = avg.nabla(U)\n",
    "\n",
    "    gb.fit(X, Y1, G)\n",
    "    score = accuracy_score(Y, gb.predict(X))\n",
    "    score_t = accuracy_score(Yt, gb.predict(Xt))\n",
    "    scores.append(score)\n",
    "    scores_t.append(score_t)\n",
    "    \n",
    "plt.figure(figsize=(6,5))\n",
    "plt.plot(scores, marker='o', label='train')\n",
    "plt.plot(scores_t, marker='o', label='test')\n",
    "plt.grid(1)\n",
    "plt.minorticks_on()\n",
    "plt.legend()\n",
    "plt.show()"
   ]
  },
  {
   "cell_type": "code",
   "execution_count": null,
   "id": "4eae01cd-21b1-48c4-9681-6966a2bc8840",
   "metadata": {},
   "outputs": [],
   "source": []
  }
 ],
 "metadata": {
  "kernelspec": {
   "display_name": "Python 3 (ipykernel)",
   "language": "python",
   "name": "python3"
  },
  "language_info": {
   "codemirror_mode": {
    "name": "ipython",
    "version": 3
   },
   "file_extension": ".py",
   "mimetype": "text/x-python",
   "name": "python",
   "nbconvert_exporter": "python",
   "pygments_lexer": "ipython3",
   "version": "3.9.9"
  }
 },
 "nbformat": 4,
 "nbformat_minor": 5
}
