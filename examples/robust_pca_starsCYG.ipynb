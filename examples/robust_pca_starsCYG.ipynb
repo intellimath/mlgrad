{
 "cells": [
  {
   "cell_type": "code",
   "execution_count": null,
   "id": "1d24f0d5-2e0d-4f86-b28f-ac8de55e0409",
   "metadata": {},
   "outputs": [],
   "source": [
    "import numpy as np\n",
    "import matplotlib.pyplot as plt\n",
    "import mlgrad.af as af\n",
    "import mlgrad.func as func\n",
    "import mlgrad.utils as utils\n",
    "import pandas as pd\n",
    "\n",
    "import mlgrad.pca as pca"
   ]
  },
  {
   "cell_type": "code",
   "execution_count": null,
   "id": "f8b9dc3e-9995-44de-afb3-28ec3bf525b7",
   "metadata": {},
   "outputs": [
    {
     "data": {
      "text/html": [
       "<div>\n",
       "<style scoped>\n",
       "    .dataframe tbody tr th:only-of-type {\n",
       "        vertical-align: middle;\n",
       "    }\n",
       "\n",
       "    .dataframe tbody tr th {\n",
       "        vertical-align: top;\n",
       "    }\n",
       "\n",
       "    .dataframe thead th {\n",
       "        text-align: right;\n",
       "    }\n",
       "</style>\n",
       "<table border=\"1\" class=\"dataframe\">\n",
       "  <thead>\n",
       "    <tr style=\"text-align: right;\">\n",
       "      <th></th>\n",
       "      <th>log.Te</th>\n",
       "      <th>log.light</th>\n",
       "    </tr>\n",
       "    <tr>\n",
       "      <th>id</th>\n",
       "      <th></th>\n",
       "      <th></th>\n",
       "    </tr>\n",
       "  </thead>\n",
       "  <tbody>\n",
       "    <tr>\n",
       "      <th>1</th>\n",
       "      <td>4.37</td>\n",
       "      <td>5.23</td>\n",
       "    </tr>\n",
       "    <tr>\n",
       "      <th>2</th>\n",
       "      <td>4.56</td>\n",
       "      <td>5.74</td>\n",
       "    </tr>\n",
       "    <tr>\n",
       "      <th>3</th>\n",
       "      <td>4.26</td>\n",
       "      <td>4.93</td>\n",
       "    </tr>\n",
       "    <tr>\n",
       "      <th>4</th>\n",
       "      <td>4.56</td>\n",
       "      <td>5.74</td>\n",
       "    </tr>\n",
       "    <tr>\n",
       "      <th>5</th>\n",
       "      <td>4.30</td>\n",
       "      <td>5.19</td>\n",
       "    </tr>\n",
       "    <tr>\n",
       "      <th>6</th>\n",
       "      <td>4.46</td>\n",
       "      <td>5.46</td>\n",
       "    </tr>\n",
       "    <tr>\n",
       "      <th>7</th>\n",
       "      <td>3.84</td>\n",
       "      <td>4.65</td>\n",
       "    </tr>\n",
       "    <tr>\n",
       "      <th>8</th>\n",
       "      <td>4.57</td>\n",
       "      <td>5.27</td>\n",
       "    </tr>\n",
       "    <tr>\n",
       "      <th>9</th>\n",
       "      <td>4.26</td>\n",
       "      <td>5.57</td>\n",
       "    </tr>\n",
       "    <tr>\n",
       "      <th>10</th>\n",
       "      <td>4.37</td>\n",
       "      <td>5.12</td>\n",
       "    </tr>\n",
       "    <tr>\n",
       "      <th>11</th>\n",
       "      <td>3.49</td>\n",
       "      <td>5.73</td>\n",
       "    </tr>\n",
       "    <tr>\n",
       "      <th>12</th>\n",
       "      <td>4.43</td>\n",
       "      <td>5.45</td>\n",
       "    </tr>\n",
       "    <tr>\n",
       "      <th>13</th>\n",
       "      <td>4.48</td>\n",
       "      <td>5.42</td>\n",
       "    </tr>\n",
       "    <tr>\n",
       "      <th>14</th>\n",
       "      <td>4.01</td>\n",
       "      <td>4.05</td>\n",
       "    </tr>\n",
       "    <tr>\n",
       "      <th>15</th>\n",
       "      <td>4.29</td>\n",
       "      <td>4.26</td>\n",
       "    </tr>\n",
       "    <tr>\n",
       "      <th>16</th>\n",
       "      <td>4.42</td>\n",
       "      <td>4.58</td>\n",
       "    </tr>\n",
       "    <tr>\n",
       "      <th>17</th>\n",
       "      <td>4.23</td>\n",
       "      <td>3.94</td>\n",
       "    </tr>\n",
       "    <tr>\n",
       "      <th>18</th>\n",
       "      <td>4.42</td>\n",
       "      <td>4.18</td>\n",
       "    </tr>\n",
       "    <tr>\n",
       "      <th>19</th>\n",
       "      <td>4.23</td>\n",
       "      <td>4.18</td>\n",
       "    </tr>\n",
       "    <tr>\n",
       "      <th>20</th>\n",
       "      <td>3.49</td>\n",
       "      <td>5.89</td>\n",
       "    </tr>\n",
       "    <tr>\n",
       "      <th>21</th>\n",
       "      <td>4.29</td>\n",
       "      <td>4.38</td>\n",
       "    </tr>\n",
       "    <tr>\n",
       "      <th>22</th>\n",
       "      <td>4.29</td>\n",
       "      <td>4.22</td>\n",
       "    </tr>\n",
       "    <tr>\n",
       "      <th>23</th>\n",
       "      <td>4.42</td>\n",
       "      <td>4.42</td>\n",
       "    </tr>\n",
       "    <tr>\n",
       "      <th>24</th>\n",
       "      <td>4.49</td>\n",
       "      <td>4.85</td>\n",
       "    </tr>\n",
       "    <tr>\n",
       "      <th>25</th>\n",
       "      <td>4.38</td>\n",
       "      <td>5.02</td>\n",
       "    </tr>\n",
       "    <tr>\n",
       "      <th>26</th>\n",
       "      <td>4.42</td>\n",
       "      <td>4.66</td>\n",
       "    </tr>\n",
       "    <tr>\n",
       "      <th>27</th>\n",
       "      <td>4.29</td>\n",
       "      <td>4.66</td>\n",
       "    </tr>\n",
       "    <tr>\n",
       "      <th>28</th>\n",
       "      <td>4.38</td>\n",
       "      <td>4.90</td>\n",
       "    </tr>\n",
       "    <tr>\n",
       "      <th>29</th>\n",
       "      <td>4.22</td>\n",
       "      <td>4.39</td>\n",
       "    </tr>\n",
       "    <tr>\n",
       "      <th>30</th>\n",
       "      <td>3.48</td>\n",
       "      <td>6.05</td>\n",
       "    </tr>\n",
       "    <tr>\n",
       "      <th>31</th>\n",
       "      <td>4.38</td>\n",
       "      <td>4.42</td>\n",
       "    </tr>\n",
       "    <tr>\n",
       "      <th>32</th>\n",
       "      <td>4.56</td>\n",
       "      <td>5.10</td>\n",
       "    </tr>\n",
       "    <tr>\n",
       "      <th>33</th>\n",
       "      <td>4.45</td>\n",
       "      <td>5.22</td>\n",
       "    </tr>\n",
       "    <tr>\n",
       "      <th>34</th>\n",
       "      <td>3.49</td>\n",
       "      <td>6.29</td>\n",
       "    </tr>\n",
       "    <tr>\n",
       "      <th>35</th>\n",
       "      <td>4.23</td>\n",
       "      <td>4.34</td>\n",
       "    </tr>\n",
       "    <tr>\n",
       "      <th>36</th>\n",
       "      <td>4.62</td>\n",
       "      <td>5.62</td>\n",
       "    </tr>\n",
       "    <tr>\n",
       "      <th>37</th>\n",
       "      <td>4.53</td>\n",
       "      <td>5.10</td>\n",
       "    </tr>\n",
       "    <tr>\n",
       "      <th>38</th>\n",
       "      <td>4.45</td>\n",
       "      <td>5.22</td>\n",
       "    </tr>\n",
       "    <tr>\n",
       "      <th>39</th>\n",
       "      <td>4.53</td>\n",
       "      <td>5.18</td>\n",
       "    </tr>\n",
       "    <tr>\n",
       "      <th>40</th>\n",
       "      <td>4.43</td>\n",
       "      <td>5.57</td>\n",
       "    </tr>\n",
       "    <tr>\n",
       "      <th>41</th>\n",
       "      <td>4.38</td>\n",
       "      <td>4.62</td>\n",
       "    </tr>\n",
       "    <tr>\n",
       "      <th>42</th>\n",
       "      <td>4.45</td>\n",
       "      <td>5.06</td>\n",
       "    </tr>\n",
       "    <tr>\n",
       "      <th>43</th>\n",
       "      <td>4.50</td>\n",
       "      <td>5.34</td>\n",
       "    </tr>\n",
       "    <tr>\n",
       "      <th>44</th>\n",
       "      <td>4.45</td>\n",
       "      <td>5.34</td>\n",
       "    </tr>\n",
       "    <tr>\n",
       "      <th>45</th>\n",
       "      <td>4.55</td>\n",
       "      <td>5.54</td>\n",
       "    </tr>\n",
       "    <tr>\n",
       "      <th>46</th>\n",
       "      <td>4.45</td>\n",
       "      <td>4.98</td>\n",
       "    </tr>\n",
       "    <tr>\n",
       "      <th>47</th>\n",
       "      <td>4.42</td>\n",
       "      <td>4.50</td>\n",
       "    </tr>\n",
       "  </tbody>\n",
       "</table>\n",
       "</div>"
      ],
      "text/plain": [
       "    log.Te  log.light\n",
       "id                   \n",
       "1     4.37       5.23\n",
       "2     4.56       5.74\n",
       "3     4.26       4.93\n",
       "4     4.56       5.74\n",
       "5     4.30       5.19\n",
       "6     4.46       5.46\n",
       "7     3.84       4.65\n",
       "8     4.57       5.27\n",
       "9     4.26       5.57\n",
       "10    4.37       5.12\n",
       "11    3.49       5.73\n",
       "12    4.43       5.45\n",
       "13    4.48       5.42\n",
       "14    4.01       4.05\n",
       "15    4.29       4.26\n",
       "16    4.42       4.58\n",
       "17    4.23       3.94\n",
       "18    4.42       4.18\n",
       "19    4.23       4.18\n",
       "20    3.49       5.89\n",
       "21    4.29       4.38\n",
       "22    4.29       4.22\n",
       "23    4.42       4.42\n",
       "24    4.49       4.85\n",
       "25    4.38       5.02\n",
       "26    4.42       4.66\n",
       "27    4.29       4.66\n",
       "28    4.38       4.90\n",
       "29    4.22       4.39\n",
       "30    3.48       6.05\n",
       "31    4.38       4.42\n",
       "32    4.56       5.10\n",
       "33    4.45       5.22\n",
       "34    3.49       6.29\n",
       "35    4.23       4.34\n",
       "36    4.62       5.62\n",
       "37    4.53       5.10\n",
       "38    4.45       5.22\n",
       "39    4.53       5.18\n",
       "40    4.43       5.57\n",
       "41    4.38       4.62\n",
       "42    4.45       5.06\n",
       "43    4.50       5.34\n",
       "44    4.45       5.34\n",
       "45    4.55       5.54\n",
       "46    4.45       4.98\n",
       "47    4.42       4.50"
      ]
     },
     "execution_count": 2,
     "metadata": {},
     "output_type": "execute_result"
    }
   ],
   "source": [
    "df = pd.read_csv(\"data/starsCYG.csv\", sep=',', index_col='id')\n",
    "df"
   ]
  },
  {
   "cell_type": "code",
   "execution_count": null,
   "id": "7b72399a-58c3-4769-be91-bcd266675bbf",
   "metadata": {},
   "outputs": [],
   "source": [
    "X = df['log.Te'].values\n",
    "Y = df['log.light'].values"
   ]
  },
  {
   "cell_type": "code",
   "execution_count": null,
   "id": "b5dffdaf-b367-438c-91e2-855be390f51a",
   "metadata": {},
   "outputs": [
    {
     "name": "stdout",
     "output_type": "stream",
     "text": [
      "[[4.37 5.23]\n",
      " [4.56 5.74]\n",
      " [4.26 4.93]\n",
      " [4.56 5.74]\n",
      " [4.3  5.19]\n",
      " [4.46 5.46]\n",
      " [3.84 4.65]\n",
      " [4.57 5.27]\n",
      " [4.26 5.57]\n",
      " [4.37 5.12]]\n"
     ]
    }
   ],
   "source": [
    "XY = np.c_[X, Y]\n",
    "print(XY[:10])"
   ]
  },
  {
   "cell_type": "code",
   "execution_count": 23,
   "id": "941cbb0d-ce35-4b78-a8d1-f2687070bc64",
   "metadata": {},
   "outputs": [],
   "source": [
    "# qf = af.averaging_function(\"WM\", rhofunc=func.Power(1.1, 0.01), alpha=0.86)\n",
    "qf = af.averaging_function(\"WM\", rhofunc=func.Sqrt(0.1), alpha=0.87)\n",
    "amf = af.averaging_function(\"AM\")"
   ]
  },
  {
   "cell_type": "code",
   "execution_count": 24,
   "id": "36a29c57-b818-4020-91d7-734c37db087d",
   "metadata": {},
   "outputs": [
    {
     "name": "stdout",
     "output_type": "stream",
     "text": [
      "[4.3882749  4.95279837]\n"
     ]
    }
   ],
   "source": [
    "c = pca.find_rob_center(XY, qf)\n",
    "print(c)"
   ]
  },
  {
   "cell_type": "code",
   "execution_count": 25,
   "id": "8c3a3721-9a41-4575-9cc9-e7a428356605",
   "metadata": {},
   "outputs": [
    {
     "data": {
      "text/plain": [
       "0.8723404255319149"
      ]
     },
     "execution_count": 25,
     "metadata": {},
     "output_type": "execute_result"
    }
   ],
   "source": [
    "N = len(XY)\n",
    "(N - 6) / N"
   ]
  },
  {
   "cell_type": "code",
   "execution_count": 26,
   "id": "1bf5b2f2-e2d9-479d-a1c4-ab1e9bf3916a",
   "metadata": {},
   "outputs": [
    {
     "data": {
      "image/png": "[encoded data removed]",
      "text/plain": [
       "<Figure size 640x480 with 1 Axes>"
      ]
     },
     "metadata": {},
     "output_type": "display_data"
    }
   ],
   "source": [
    "Z = pca.distance_center(XY, c)\n",
    "plt.plot(sorted(Z), marker='s', markersize=4)\n",
    "plt.show()"
   ]
  },
  {
   "cell_type": "code",
   "execution_count": 27,
   "id": "ad264413-066f-4b62-be08-ab3d99a2d732",
   "metadata": {},
   "outputs": [
    {
     "name": "stdout",
     "output_type": "stream",
     "text": [
      "[[ 4.17856709 -1.82626771]\n",
      " [-1.82626771 15.17642555]]\n"
     ]
    }
   ],
   "source": [
    "XY2 = XY - c\n",
    "S = XY2.T @ XY2\n",
    "X2 = XY2[:,0]\n",
    "Y2 = XY2[:,1]\n",
    "print(S)"
   ]
  },
  {
   "cell_type": "code",
   "execution_count": 28,
   "id": "a58ed559-9ad8-449a-8891-2aa56794415e",
   "metadata": {},
   "outputs": [
    {
     "name": "stdout",
     "output_type": "stream",
     "text": [
      "[-0.1596401   0.98717528]\n"
     ]
    }
   ],
   "source": [
    "a0, _ = pca.find_pc(XY2)\n",
    "print(a0)"
   ]
  },
  {
   "cell_type": "code",
   "execution_count": 29,
   "id": "97e97cb2-b82d-481e-8939-589060e6b0bd",
   "metadata": {},
   "outputs": [
    {
     "data": {
      "image/png": "[encoded data removed]",
      "text/plain": [
       "<Figure size 300x533.333 with 1 Axes>"
      ]
     },
     "metadata": {},
     "output_type": "display_data"
    }
   ],
   "source": [
    "aa = 16/9\n",
    "plt.figure(figsize=(3,3*aa))\n",
    "plt.scatter(XY2[:,0], XY2[:,1], c='w', edgecolors='k')\n",
    "plt.scatter([0], [0], s=81, c='b')\n",
    "plt.plot([0, a0[0]], [0, a0[1]], label='1')\n",
    "plt.legend()\n",
    "plt.show()"
   ]
  },
  {
   "cell_type": "code",
   "execution_count": 30,
   "id": "deb0e673-98bf-4193-b63b-49d12653e859",
   "metadata": {},
   "outputs": [
    {
     "name": "stdout",
     "output_type": "stream",
     "text": [
      "* 0.020570911239114018 8.085412055181232 [0.88951063 0.75531932]\n",
      "* 0.02031793838857044 12.14764276944336 [0.209793   0.97774582]\n",
      "* 0.020316844043360448 12.17819292296794 [0.17983039 0.98369763]\n",
      "* 0.020316831493988437 12.17970716916476 [0.17803269 0.98402457]\n",
      "* 0.020316830955496298 12.179788028465811 [0.17793547 0.98404216]\n",
      "* 0.020316830926983023 12.179792367241985 [0.17793025 0.9840431 ]\n",
      "* 0.020316830925453826 12.179792600115281 [0.17792997 0.98404315]\n",
      "* 0.020316830925371728 12.179792612614369 [0.17792996 0.98404316]\n",
      "K: 7\n",
      "[0.17792995 0.98404316]\n"
     ]
    }
   ],
   "source": [
    "a1, L1 = pca.find_rob_pc(XY2, qf, verbose=1)\n",
    "print(a1)"
   ]
  },
  {
   "cell_type": "code",
   "execution_count": 31,
   "id": "61972c98-65f1-4e25-8600-b70381c53291",
   "metadata": {},
   "outputs": [
    {
     "data": {
      "image/png": "[encoded data removed]",
      "text/plain": [
       "<Figure size 281.25x500 with 1 Axes>"
      ]
     },
     "metadata": {},
     "output_type": "display_data"
    }
   ],
   "source": [
    "plt.figure(figsize=(5/(16/9),5))\n",
    "plt.scatter(X2, Y2, c='w', edgecolors='k')\n",
    "plt.scatter([0], [0], s=81, c='b')\n",
    "plt.plot([-a1[0], 0, a1[0]], [-a1[1], 0, a1[1]], label='1')\n",
    "plt.legend()\n",
    "plt.show()"
   ]
  },
  {
   "cell_type": "code",
   "execution_count": 32,
   "id": "7598daaa-5d86-490e-802e-dbbf901fea64",
   "metadata": {},
   "outputs": [
    {
     "name": "stdout",
     "output_type": "stream",
     "text": [
      "[4.53006526e-03 8.36260156e-04 1.49258803e-02 8.36260156e-04\n",
      " 1.66594733e-02 3.86742317e-04 2.35855202e-01 1.49782530e-02\n",
      " 5.57180404e-02 2.27848363e-03 1.04495154e+00 2.24749573e-03\n",
      " 5.08696490e-05 4.47762311e-02 7.05584693e-04 9.51617202e-03\n",
      " 5.98185959e-04 2.84674004e-02 3.32892749e-04 1.10396525e+00\n",
      " 2.71571230e-05 1.13434526e-03 1.58809551e-02 1.40168556e-02\n",
      " 4.04011504e-04 6.94163459e-03 1.98997516e-03 1.56639530e-06\n",
      " 4.28384266e-03 1.18593566e+00 7.50959777e-03 2.03899363e-02\n",
      " 1.74160611e-04 1.25859115e+00 2.18221101e-03 1.19491892e-02\n",
      " 1.28305549e-02 1.74160611e-04 9.80845475e-03 4.72784887e-03\n",
      " 2.60834351e-03 1.73603766e-03 1.68490183e-03 6.64975351e-05\n",
      " 2.98812256e-03 3.12483031e-03 1.24959455e-02]\n"
     ]
    }
   ],
   "source": [
    "Z = pca.distance_line(XY2, a1)\n",
    "print(Z)"
   ]
  },
  {
   "cell_type": "code",
   "execution_count": 33,
   "id": "18d4dcbc-9f9f-48d9-a627-2ee13127ed77",
   "metadata": {},
   "outputs": [
    {
     "data": {
      "image/png": "[encoded data removed]",
      "text/plain": [
       "<Figure size 640x480 with 1 Axes>"
      ]
     },
     "metadata": {},
     "output_type": "display_data"
    }
   ],
   "source": [
    "plt.plot(sorted(Z), marker='o')\n",
    "plt.show()"
   ]
  },
  {
   "cell_type": "code",
   "execution_count": 34,
   "id": "96a32007-d0f8-4a42-9b4e-be0dc7e9b6d8",
   "metadata": {},
   "outputs": [
    {
     "data": {
      "image/png": "[encoded data removed]",
      "text/plain": [
       "<Figure size 640x480 with 1 Axes>"
      ]
     },
     "metadata": {},
     "output_type": "display_data"
    }
   ],
   "source": [
    "plt.scatter(pca.distance_line(XY2, a0), pca.distance_line(XY2, a1))\n",
    "plt.minorticks_on()\n",
    "plt.grid(1)\n",
    "plt.show()"
   ]
  },
  {
   "cell_type": "code",
   "execution_count": 35,
   "id": "c9e8753d-c33b-4035-8224-a082d67c6996",
   "metadata": {},
   "outputs": [],
   "source": [
    "from mlgrad.pca.location_scatter import robust_scatter_matrix"
   ]
  },
  {
   "cell_type": "code",
   "execution_count": 36,
   "id": "22a17139-0b7d-432b-915f-333be7cddb8a",
   "metadata": {},
   "outputs": [
    {
     "name": "stdout",
     "output_type": "stream",
     "text": [
      "[[ 4.8694546  -0.83266082]\n",
      " [-0.83266082  0.34774409]]\n"
     ]
    }
   ],
   "source": [
    "S = robust_scatter_matrix(XY2, qf)\n",
    "print(S)"
   ]
  },
  {
   "cell_type": "code",
   "execution_count": 37,
   "id": "6e0117ab-1a60-4b8b-852d-78a423effaeb",
   "metadata": {},
   "outputs": [
    {
     "name": "stdout",
     "output_type": "stream",
     "text": [
      "[[ 0.98447488  0.1755255 ]\n",
      " [-0.1755255   0.98447488]]\n"
     ]
    },
    {
     "data": {
      "text/plain": [
       "0.0"
      ]
     },
     "execution_count": 37,
     "metadata": {},
     "output_type": "execute_result"
    }
   ],
   "source": [
    "L, A = np.linalg.eig(S)\n",
    "print(A)\n",
    "np.dot(A[0], A[1])"
   ]
  },
  {
   "cell_type": "code",
   "execution_count": 38,
   "id": "1e0d65b3-e115-45ab-975d-fa23383ea881",
   "metadata": {},
   "outputs": [
    {
     "data": {
      "image/png": "[encoded data removed]",
      "text/plain": [
       "<Figure size 281.25x500 with 1 Axes>"
      ]
     },
     "metadata": {},
     "output_type": "display_data"
    }
   ],
   "source": [
    "plt.figure(figsize=(5/(1920/1080),5))\n",
    "plt.scatter(X2, Y2, c='w', edgecolors='k')\n",
    "plt.scatter([0], [0], s=81, c='b')\n",
    "plt.plot([-A[0,0], 0, A[0,0]], [-A[1,0], 0, A[1,0]], label='1')\n",
    "plt.plot([-A[0,1], 0, A[0,1]], [-A[1,1], 0, A[1,1]], label='2')\n",
    "plt.legend()\n",
    "plt.show()"
   ]
  },
  {
   "cell_type": "code",
   "execution_count": null,
   "id": "cf113119-8d69-472d-a9f1-bfcd96c2b34c",
   "metadata": {},
   "outputs": [],
   "source": []
  },
  {
   "cell_type": "code",
   "execution_count": null,
   "id": "4c901b81-f01c-46c1-9cab-348294403f48",
   "metadata": {},
   "outputs": [],
   "source": []
  }
 ],
 "metadata": {
  "kernelspec": {
   "display_name": "Python 3 (ipykernel)",
   "language": "python",
   "name": "python3"
  },
  "language_info": {
   "codemirror_mode": {
    "name": "ipython",
    "version": 3
   },
   "file_extension": ".py",
   "mimetype": "text/x-python",
   "name": "python",
   "nbconvert_exporter": "python",
   "pygments_lexer": "ipython3",
   "version": "3.10.8"
  }
 },
 "nbformat": 4,
 "nbformat_minor": 5
}
