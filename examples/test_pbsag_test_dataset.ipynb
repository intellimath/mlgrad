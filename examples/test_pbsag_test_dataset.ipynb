{
 "cells": [
  {
   "cell_type": "code",
   "execution_count": 1,
   "metadata": {
    "collapsed": true
   },
   "outputs": [],
   "source": [
    "import numpy as np\n",
    "import mlgrad.pbsag as pbsag\n",
    "import mlgrad.model as model\n",
    "import mlgrad.loss as loss\n",
    "import mlgrad.penalty as penalty\n",
    "import mlgrad.regular as regular\n",
    "import matplotlib.pyplot as plt\n",
    "\n",
    "%matplotlib inline\n",
    "\n",
    "from sklearn.metrics import r2_score, mean_squared_error\n",
    "from sklearn.datasets import make_regression\n",
    "from sklearn.linear_model import Lasso\n",
    "\n",
    "from IPython.display import display, Latex"
   ]
  },
  {
   "cell_type": "code",
   "execution_count": 2,
   "metadata": {
    "collapsed": false
   },
   "outputs": [
    {
     "name": "stdout",
     "output_type": "stream",
     "text": [
      "(500, 10) (500,) (10,)\n"
     ]
    }
   ],
   "source": [
    "n_features = 10\n",
    "X, Y, coef = make_regression(n_samples=500, n_features=n_features, n_informative=n_features, coef=True, noise=0.0)\n",
    "print(X.shape, Y.shape, coef.shape)"
   ]
  },
  {
   "cell_type": "code",
   "execution_count": 3,
   "metadata": {
    "collapsed": false
   },
   "outputs": [
    {
     "data": {
      "text/latex": [
       "$y(\\mathbf{x})=+65.16x_{1}+58.76x_{2}+71.23x_{3}+15.54x_{4}+2.69x_{5}+15.24x_{6}+59.84x_{7}+79.12x_{8}+60.84x_{9}+22.81x_{10}$"
      ],
      "text/plain": [
       "<mlgrad.model.LinearModel at 0x10b2b02e8>"
      ]
     },
     "execution_count": 3,
     "metadata": {},
     "output_type": "execute_result"
    }
   ],
   "source": [
    "lm0 = model.LinearModel([0] + list(coef))\n",
    "lm0"
   ]
  },
  {
   "cell_type": "code",
   "execution_count": 4,
   "metadata": {
    "collapsed": false
   },
   "outputs": [],
   "source": [
    "# lasso = Lasso(alpha=10)\n",
    "# lasso.fit(X,Y)\n",
    "# lm_lasso=model.LinearModel([0] + list(lasso.coef_))\n",
    "# print(np.sum(np.abs(np.asarray(lm_lasso.param)-np.asarray(lm0.param))))\n",
    "# lm_lasso"
   ]
  },
  {
   "cell_type": "code",
   "execution_count": 5,
   "metadata": {
    "collapsed": false
   },
   "outputs": [
    {
     "name": "stdout",
     "output_type": "stream",
     "text": [
      "K=30 R2=0.998132131122 MS=47.9845031312 hw_mean=6.277101735386705e-09 hs_mean=0.01\n",
      "20.2020976176\n"
     ]
    },
    {
     "data": {
      "text/latex": [
       "$y(\\mathbf{x})=-0.37+69.88x_{1}+57.86x_{2}+70.99x_{3}+18.12x_{4}+1.35x_{5}+17.03x_{6}+62.68x_{7}+82.03x_{8}+62.23x_{9}+21.68x_{10}$"
      ],
      "text/plain": [
       "<mlgrad.model.LinearModel at 0x10b2b0a28>"
      ]
     },
     "execution_count": 5,
     "metadata": {},
     "output_type": "execute_result"
    }
   ],
   "source": [
    "param0 = 3.*np.random.random((n_features+1,))\n",
    "#print(param0)\n",
    "lm = model.LinearModel(param0)\n",
    "loss_func = loss.SquareLoss()\n",
    "penalty_func = penalty.PowerPenalty(1.5)\n",
    "alg = pbsag.PbSAG(lm, loss=loss_func, penalty=penalty_func, h=0.01, tol=1.0e-4, max_epoch=1000, ls=1)\n",
    "alg.fit(X, Y)\n",
    "Z = [lm.evaluate(x) for x in X]\n",
    "R2 = r2_score(Y, Z)\n",
    "MS = mean_squared_error(Y, Z)\n",
    "print(\"K=%s R2=%s MS=%s hw_mean=%s hs_mean=%s\" % (alg.K, R2, MS, alg.hw, alg.hs))\n",
    "print(np.sum(np.abs(np.asarray(lm.param)-np.asarray(lm0.param))))\n",
    "lm"
   ]
  },
  {
   "cell_type": "raw",
   "metadata": {
    "collapsed": true
   },
   "source": []
  },
  {
   "cell_type": "code",
   "execution_count": null,
   "metadata": {
    "collapsed": true
   },
   "outputs": [],
   "source": []
  }
 ],
 "metadata": {
  "kernelspec": {
   "display_name": "Python 3",
   "language": "python",
   "name": "python3"
  },
  "language_info": {
   "codemirror_mode": {
    "name": "ipython",
    "version": 3
   },
   "file_extension": ".py",
   "mimetype": "text/x-python",
   "name": "python",
   "nbconvert_exporter": "python",
   "pygments_lexer": "ipython3",
   "version": "3.5.2"
  }
 },
 "nbformat": 4,
 "nbformat_minor": 0
}
