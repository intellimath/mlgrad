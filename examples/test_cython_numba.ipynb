{
 "cells": [
  {
   "cell_type": "code",
   "execution_count": 1,
   "metadata": {},
   "outputs": [
    {
     "data": {
      "text/plain": [
       "('0.36.1', '0.27.3', '1.13.3')"
      ]
     },
     "execution_count": 1,
     "metadata": {},
     "output_type": "execute_result"
    }
   ],
   "source": [
    "import numpy as np\n",
    "import numba \n",
    "import cython\n",
    "%load_ext cython\n",
    "import pandas as pd\n",
    "\n",
    "numba.__version__, cython.__version__, np.__version__"
   ]
  },
  {
   "cell_type": "code",
   "execution_count": 2,
   "metadata": {},
   "outputs": [],
   "source": [
    "X = np.random.random((1000, 3))"
   ]
  },
  {
   "cell_type": "code",
   "execution_count": 3,
   "metadata": {},
   "outputs": [],
   "source": [
    "def pairwise_python(X):\n",
    "    M = X.shape[0]\n",
    "    N = X.shape[1]\n",
    "    D = np.empty((M, M), dtype=np.float)\n",
    "    for i in range(M):\n",
    "        for j in range(M):\n",
    "            d = 0.0\n",
    "            for k in range(N):\n",
    "                tmp = X[i, k] - X[j, k]\n",
    "                d += tmp * tmp\n",
    "            D[i, j] = np.sqrt(d)\n",
    "    return D\n",
    "\n",
    "#%timeit -n10 pairwise_python(X)"
   ]
  },
  {
   "cell_type": "code",
   "execution_count": 4,
   "metadata": {},
   "outputs": [
    {
     "name": "stdout",
     "output_type": "stream",
     "text": [
      "64.2 ms ± 1.85 ms per loop (mean ± std. dev. of 7 runs, 10 loops each)\n"
     ]
    }
   ],
   "source": [
    "def pairwise_numpy(X):\n",
    "    return np.sqrt(((X[:, None, :] - X) ** 2).sum(-1))\n",
    "\n",
    "%timeit -n10 pairwise_numpy(X)"
   ]
  },
  {
   "cell_type": "code",
   "execution_count": 16,
   "metadata": {},
   "outputs": [
    {
     "name": "stdout",
     "output_type": "stream",
     "text": [
      "The slowest run took 8.46 times longer than the fastest. This could mean that an intermediate result is being cached.\n",
      "14.3 ms ± 17.9 ms per loop (mean ± std. dev. of 7 runs, 10 loops each)\n"
     ]
    }
   ],
   "source": [
    "pairwise_numba = numba.jit(pairwise_python)\n",
    "\n",
    "%timeit -n10 pairwise_numba(X)"
   ]
  },
  {
   "cell_type": "code",
   "execution_count": 6,
   "metadata": {},
   "outputs": [],
   "source": [
    "%%cython\n",
    "import numpy as np\n",
    "cimport cython\n",
    "from libc.math cimport sqrt\n",
    "\n",
    "@cython.boundscheck(False)\n",
    "@cython.wraparound(False)\n",
    "@cython.nonecheck(False)\n",
    "@cython.initializedcheck(False)\n",
    "def pairwise_cython(double[:, ::1] X):\n",
    "    cdef int M = X.shape[0]\n",
    "    cdef int N = X.shape[1]\n",
    "    cdef double tmp, d\n",
    "    cdef double[:, ::1] D = np.empty((M, M), dtype=np.float64)\n",
    "    for i in range(M):\n",
    "        for j in range(M):\n",
    "            d = 0.0\n",
    "            for k in range(N):\n",
    "                tmp = X[i, k] - X[j, k]\n",
    "                d += tmp * tmp\n",
    "            D[i, j] = sqrt(d)\n",
    "    return D"
   ]
  },
  {
   "cell_type": "code",
   "execution_count": 7,
   "metadata": {},
   "outputs": [
    {
     "name": "stdout",
     "output_type": "stream",
     "text": [
      "7.94 ms ± 382 µs per loop (mean ± std. dev. of 7 runs, 10 loops each)\n"
     ]
    }
   ],
   "source": [
    "%timeit -n10 pairwise_cython(X)"
   ]
  },
  {
   "cell_type": "code",
   "execution_count": 8,
   "metadata": {},
   "outputs": [],
   "source": [
    "def amortize_payments_py(B0, R, term, cpr=0.0):\n",
    "    smm = 1. - pow(1 - cpr/100., 1/12.)\n",
    "    r = R/1200.\n",
    "    S = np.zeros(term)\n",
    "    P = np.zeros(term)\n",
    "    I = np.zeros(term)\n",
    "    B = np.zeros(term)\n",
    "    Pr = np.zeros(term)\n",
    "    Bt = B0\n",
    "    pow_term = pow(1+r, term)\n",
    "    A = Bt*r*pow_term/(pow_term - 1)\n",
    "    for i in range(term):\n",
    "        n = term-i\n",
    "\n",
    "        I[i] = Bt * r\n",
    "        Pr[i] = smm*Bt\n",
    "        S[i] = A-I[i] if Bt>1e-2 else 0.\n",
    "        P[i] = S[i] + Pr[i]\n",
    "        Bt = max(Bt - P[i], 0.0)\n",
    "\n",
    "        B[i] = Bt\n",
    "    return S,I, Pr,P, B"
   ]
  },
  {
   "cell_type": "code",
   "execution_count": 9,
   "metadata": {},
   "outputs": [],
   "source": [
    "%%cython\n",
    "cimport cython \n",
    "import numpy as np\n",
    "from libc.math cimport pow, fmax\n",
    "\n",
    "@cython.boundscheck(False)\n",
    "@cython.wraparound(False)\n",
    "@cython.nonecheck(False)\n",
    "@cython.initializedcheck(False)\n",
    "def amortize_payments_cy(double B0,double R,int term,double cpr=0.0):\n",
    "    cdef double smm = 1. - pow(1 - cpr/100., 1/12.)\n",
    "    cdef double r = R/1200.\n",
    "    cdef double[:] D = np.empty(term, dtype=np.float64)\n",
    "    cdef double[:] S = np.empty(term, dtype=np.float64)\n",
    "    cdef double[:] P = np.empty(term, dtype=np.float64)\n",
    "    cdef double[:] I = np.empty(term, dtype=np.float64)\n",
    "    cdef double[:] B = np.empty(term, dtype=np.float64)\n",
    "    cdef double[:] Pr = np.empty(term, dtype=np.float64)\n",
    "    cdef double Bt = B0\n",
    "    cdef double pow_term = pow(1+r, term)\n",
    "    cdef double A = Bt*r*pow_term/(pow_term - 1.)\n",
    "    cdef double n = term\n",
    "    cdef int i=0\n",
    "    for i in range(term):\n",
    "        n = term-i\n",
    "        I[i] = Bt * r\n",
    "        Pr[i] = smm*Bt\n",
    "        S[i] = A-I[i] if Bt>1e-2 else 0.\n",
    "        P[i] = S[i] + Pr[i]\n",
    "        Bt = fmax(Bt - P[i], 0.0)\n",
    "        B[i] = Bt\n",
    "    return S,I,Pr,P,B"
   ]
  },
  {
   "cell_type": "code",
   "execution_count": 10,
   "metadata": {},
   "outputs": [],
   "source": [
    "amortize_payments_nb = numba.njit(cache=True)(amortize_payments_py)"
   ]
  },
  {
   "cell_type": "code",
   "execution_count": 11,
   "metadata": {},
   "outputs": [],
   "source": [
    "B0 = 500000.\n",
    "R = 4.0\n",
    "term = 360"
   ]
  },
  {
   "cell_type": "code",
   "execution_count": 12,
   "metadata": {},
   "outputs": [
    {
     "name": "stdout",
     "output_type": "stream",
     "text": [
      "844 µs ± 61.6 µs per loop (mean ± std. dev. of 7 runs, 1000 loops each)\n"
     ]
    }
   ],
   "source": [
    "%timeit -n1000 S,I, Pr,P, B = amortize_payments_py(B0, R, term, cpr=10)"
   ]
  },
  {
   "cell_type": "code",
   "execution_count": 13,
   "metadata": {},
   "outputs": [
    {
     "name": "stdout",
     "output_type": "stream",
     "text": [
      "The slowest run took 80.50 times longer than the fastest. This could mean that an intermediate result is being cached.\n",
      "84.7 µs ± 188 µs per loop (mean ± std. dev. of 7 runs, 1000 loops each)\n"
     ]
    }
   ],
   "source": [
    "%timeit -n1000 S,I, Pr,P, B = amortize_payments_nb(B0, R, term, cpr=10)"
   ]
  },
  {
   "cell_type": "code",
   "execution_count": 14,
   "metadata": {},
   "outputs": [
    {
     "name": "stdout",
     "output_type": "stream",
     "text": [
      "45.8 µs ± 4.49 µs per loop (mean ± std. dev. of 7 runs, 1000 loops each)\n"
     ]
    }
   ],
   "source": [
    "%timeit -n1000 S,I, Pr,P, B = amortize_payments_cy(B0, R, term, cpr=10)"
   ]
  },
  {
   "cell_type": "code",
   "execution_count": null,
   "metadata": {},
   "outputs": [],
   "source": []
  }
 ],
 "metadata": {
  "hide_input": false,
  "kernelspec": {
   "display_name": "Python 3.5",
   "language": "python",
   "name": "python3.5"
  },
  "language_info": {
   "codemirror_mode": {
    "name": "ipython",
    "version": 3
   },
   "file_extension": ".py",
   "mimetype": "text/x-python",
   "name": "python",
   "nbconvert_exporter": "python",
   "pygments_lexer": "ipython3",
   "version": "3.5.4"
  }
 },
 "nbformat": 4,
 "nbformat_minor": 1
}
