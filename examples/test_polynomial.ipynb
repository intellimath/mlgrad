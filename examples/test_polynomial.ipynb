{
 "cells": [
  {
   "cell_type": "code",
   "execution_count": 1,
   "metadata": {
    "collapsed": true
   },
   "outputs": [],
   "source": [
    "import matplotlib.pyplot as plt\n",
    "\n",
    "plt.style.use(['seaborn-paper', 'seaborn-white'])\n",
    "plt.matplotlib.rcParams['figure.dpi'] = 120\n",
    "plt.matplotlib.rcParams['savefig.dpi'] = 120\n",
    "\n",
    "import numpy as np\n",
    "import pandas as pd\n",
    "\n",
    "import mlgrad.model as model\n",
    "import mlgrad.func as func\n",
    "import mlgrad.regular as regular\n",
    "import mlgrad.avragg as avragg\n",
    "import mlgrad.averager as averager\n",
    "import mlgrad.gd as gd\n",
    "import mlgrad.loss as loss\n",
    "import mlgrad.pbfg as pbfg\n"
   ]
  },
  {
   "cell_type": "code",
   "execution_count": null,
   "metadata": {
    "collapsed": false
   },
   "outputs": [
    {
     "name": "stdout",
     "output_type": "stream",
     "text": [
      "[ 1.  1.  1.]\n"
     ]
    }
   ],
   "source": [
    "param = np.array([1.,1.,1.], 'd')\n",
    "lm = model.LinearModel(param)\n",
    "print(lm.param.base)"
   ]
  },
  {
   "cell_type": "code",
   "execution_count": null,
   "metadata": {
    "collapsed": false
   },
   "outputs": [],
   "source": [
    "poly = model.PolynomialModel([1.,1.,1.])\n",
    "print(poly.param.base)\n",
    "#print(poly([1.]))\n",
    "# grad = np.array([0,0,0], 'd')\n",
    "# model.gradient(poly, [1.], grad)\n",
    "# print(grad)\n"
   ]
  },
  {
   "cell_type": "code",
   "execution_count": null,
   "metadata": {
    "collapsed": true
   },
   "outputs": [],
   "source": []
  }
 ],
 "metadata": {
  "kernelspec": {
   "display_name": "Python 3",
   "language": "python",
   "name": "python3"
  },
  "language_info": {
   "codemirror_mode": {
    "name": "ipython",
    "version": 3
   },
   "file_extension": ".py",
   "mimetype": "text/x-python",
   "name": "python",
   "nbconvert_exporter": "python",
   "pygments_lexer": "ipython3",
   "version": "3.5.3"
  }
 },
 "nbformat": 4,
 "nbformat_minor": 2
}
