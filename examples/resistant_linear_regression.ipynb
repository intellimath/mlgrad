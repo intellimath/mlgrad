{
 "cells": [
  {
   "cell_type": "code",
   "execution_count": 1,
   "metadata": {},
   "outputs": [],
   "source": [
    "from mlgrad.risk import ERisk, ERiskGB\n",
    "from mlgrad.loss import SquareErrorLoss, ErrorLoss\n",
    "from mlgrad.model import LinearFuncModel, SigmaNeuronModel, FFNetworkModel, \\\n",
    "                        FFNetworkFuncModel, SigmaNeuronModelLayer, LinearModel\n",
    "from mlgrad.func import SoftPlus, Sqrt, Sigmoidal, HingeSqrt, Arctang, Absolute\n",
    "\n",
    "from mlgrad import erm_fg, erm_irgd, fg, erm_fg, erisk\n",
    "from mlgrad.regr import m_regression_irls\n",
    "from mlgrad.af import averaging_function\n",
    "from mlgrad.weights import MWeights\n",
    "\n",
    "import numpy as np"
   ]
  },
  {
   "cell_type": "code",
   "execution_count": 2,
   "metadata": {},
   "outputs": [],
   "source": [
    "def gendataset(N=70, a=6., b=6., q=0.4, dy=2.):\n",
    "    M = int(q*N)\n",
    "    X0 = np.linspace(-12., 12., N+1)\n",
    "    Y0 = 2.+3.*X0\n",
    "    Y0 += 2*dy*np.random.random(N+1)-dy\n",
    "    if q > 0:\n",
    "        X1 = a*np.random.random(M) - a - 18\n",
    "        Y1 = b*(2*np.random.random(M)-1)\n",
    "        Y1 += 2.+3.*X1 + 70\n",
    "        X2 = a*np.random.random(M) - a + 24\n",
    "        Y2 = b*(2*np.random.random(M)-1)\n",
    "        Y2 += 2.+3.*X2 - 60\n",
    "        X = np.hstack((X0, X1, X2))\n",
    "        Y = np.hstack((Y0, Y1, Y2))\n",
    "    else:\n",
    "        X = X0\n",
    "        Y = Y0\n",
    "    Xs = X.reshape(-1,1)\n",
    "    xrange = np.linspace(-12., 12., 10).reshape(-1,1)\n",
    "    return X, Y, Xs, M, xrange"
   ]
  },
  {
   "cell_type": "code",
   "execution_count": 7,
   "metadata": {},
   "outputs": [
    {
     "name": "stdout",
     "output_type": "stream",
     "text": [
      "3.9.13 (main, Jun  8 2022, 09:45:57) \n",
      "[GCC 11.3.0]\n"
     ]
    }
   ],
   "source": [
    "import sklearn.datasets as datasets\n",
    "import sklearn.metrics as metrics\n",
    "import sklearn.preprocessing as preprocessing\n",
    "import matplotlib.pyplot as plt\n",
    "\n",
    "import sys\n",
    "print(sys.version)"
   ]
  },
  {
   "cell_type": "code",
   "execution_count": 8,
   "metadata": {},
   "outputs": [
    {
     "name": "stdout",
     "output_type": "stream",
     "text": [
      "44.44444444444444 (55,)\n"
     ]
    }
   ],
   "source": [
    "N = 30\n",
    "q = 0.4\n",
    "dy = 4\n",
    "X1, Y1, X1s, M, xrange0  = gendataset(N, q=q, dy=dy)\n",
    "X0, Y0, X0s, M0, xrange0  = gendataset(N, q=0, dy=dy)\n",
    "Q = 2*M / (N+2.*M) * 100\n",
    "print(Q, X1.shape)"
   ]
  },
  {
   "cell_type": "code",
   "execution_count": 9,
   "metadata": {},
   "outputs": [
    {
     "ename": "NameError",
     "evalue": "name 'model' is not defined",
     "output_type": "error",
     "traceback": [
      "\u001b[0;31m---------------------------------------------------------------------------\u001b[0m",
      "\u001b[0;31mNameError\u001b[0m                                 Traceback (most recent call last)",
      "\u001b[0;32m/tmp/ipykernel_15943/1197181578.py\u001b[0m in \u001b[0;36m<module>\u001b[0;34m\u001b[0m\n\u001b[1;32m      4\u001b[0m \u001b[0mparam_tukey\u001b[0m \u001b[0;34m=\u001b[0m \u001b[0mnp\u001b[0m\u001b[0;34m.\u001b[0m\u001b[0marray\u001b[0m\u001b[0;34m(\u001b[0m\u001b[0;34m[\u001b[0m\u001b[0;36m1.\u001b[0m\u001b[0;34m,\u001b[0m\u001b[0;34m-\u001b[0m\u001b[0;36m1.\u001b[0m\u001b[0;34m]\u001b[0m\u001b[0;34m)\u001b[0m\u001b[0;34m\u001b[0m\u001b[0;34m\u001b[0m\u001b[0m\n\u001b[1;32m      5\u001b[0m \u001b[0;34m\u001b[0m\u001b[0m\n\u001b[0;32m----> 6\u001b[0;31m \u001b[0mlm_hub\u001b[0m \u001b[0;34m=\u001b[0m \u001b[0mmodel\u001b[0m\u001b[0;34m.\u001b[0m\u001b[0mLinearModel\u001b[0m\u001b[0;34m(\u001b[0m\u001b[0;36m1\u001b[0m\u001b[0;34m)\u001b[0m\u001b[0;34m\u001b[0m\u001b[0;34m\u001b[0m\u001b[0m\n\u001b[0m\u001b[1;32m      7\u001b[0m \u001b[0mlm_logsq\u001b[0m \u001b[0;34m=\u001b[0m \u001b[0mmodel\u001b[0m\u001b[0;34m.\u001b[0m\u001b[0mLinearModel\u001b[0m\u001b[0;34m(\u001b[0m\u001b[0;36m1\u001b[0m\u001b[0;34m)\u001b[0m\u001b[0;34m\u001b[0m\u001b[0;34m\u001b[0m\u001b[0m\n\u001b[1;32m      8\u001b[0m \u001b[0mlm_tukey\u001b[0m \u001b[0;34m=\u001b[0m \u001b[0mmodel\u001b[0m\u001b[0;34m.\u001b[0m\u001b[0mLinearModel\u001b[0m\u001b[0;34m(\u001b[0m\u001b[0;36m1\u001b[0m\u001b[0;34m)\u001b[0m\u001b[0;34m\u001b[0m\u001b[0;34m\u001b[0m\u001b[0m\n",
      "\u001b[0;31mNameError\u001b[0m: name 'model' is not defined"
     ]
    }
   ],
   "source": [
    "param_hub = np.array([1.,-1.])\n",
    "param_sqrt = np.array([1.,-1.])\n",
    "param_logsq = np.array([1.,-1.])\n",
    "param_tukey = np.array([1.,-1.])\n",
    "\n",
    "lm_hub = model.LinearModel(1)\n",
    "lm_logsq = model.LinearModel(1)\n",
    "lm_tukey = model.LinearModel(1)\n",
    "lm_hub.init_param()\n",
    "lm_logsq.init_param()\n",
    "lm_tukey.init_param()\n",
    "\n",
    "alg_hub = regr.regression(X1s, Y1, lm_hub, loss_func_hub, h=0.1, n_restart=2)\n",
    "alg_logsq = regr.regression(X1s, Y1, lm_logsq, loss_func_logsq, h=0.1, n_restart=2)\n",
    "alg_tukey = regr.regression(X1s, Y1, lm_tukey, loss_func_logsq, h=0.1, n_restart=2)\n",
    "\n",
    "def plot_classic():\n",
    "    plt.title(\"%.0f%% outliers\" % Q)\n",
    "    plt.scatter(X1, Y1, s=25, marker='o', c='w', edgecolors='k', linewidths=0.9) #, label='data')\n",
    "    plt.plot(X0, alg_hub.risk.model.evaluate_all(X0s), color='k', linewidth=2., label=r'Huber: $y=%.1f%+.1fx$' % tuple(lm_hub.param), linestyle='-.')\n",
    "#     plt.plot(X0, alg_logsq.risk.model.evaluate_all(X0s), color='k', linewidth=2., label=r'logsq: $y=%.1f%.1fx$' % tuple(lm_logsq.param), linestyle='-')\n",
    "    plt.plot(X0, alg_tukey.risk.model.evaluate_all(X0s), color='k', linewidth=2., label=r'Tukey: $y=%.1f%+.1fx$' % tuple(lm_tukey.param), linestyle='--')\n",
    "#     plt.plot(X0, alg_ls.risk.model.evaluate_all(X0s), color='k', linewidth=2., label='ls: y=%.1f+%.1fx' % tuple(lm_ls.param), linestyle=':')\n",
    "    plt.grid(1)\n",
    "    plt.minorticks_on()\n",
    "    plt.legend()"
   ]
  },
  {
   "cell_type": "code",
   "execution_count": null,
   "metadata": {},
   "outputs": [],
   "source": [
    "alg_ridge = linear_model.Ridge(alpha=100.)\n",
    "alg_ridge.fit(X1s, Y1)\n",
    "alg_lasso = linear_model.Lasso(alpha=100.)\n",
    "alg_lasso.fit(X1s, Y1)\n",
    "\n",
    "plt.figure(figsize=(4.5, 4.5))\n",
    "# def lasso_ridge():\n",
    "plt.title(\"%.1f%% outliers\" % Q)\n",
    "plt.scatter(X1, Y1, s=25, marker='o', c='w', edgecolors='k', linewidths=0.9) #, label='data')\n",
    "plt.plot(xrange0, alg_lasso.predict(xrange0), color='k', linewidth=2., label=r'LASSO', linestyle='-.')\n",
    "plt.plot(xrange0, alg_ridge.predict(xrange0), color='k', linewidth=2., label=r'RIDGE', linestyle='--')\n",
    "plt.grid(1)\n",
    "plt.minorticks_on()\n",
    "plt.legend()\n",
    "plt.tight_layout()\n",
    "plt.savefig(\"fig/rob_ml_linear_lasso_%.0f_eng.png\" % Q)\n",
    "plt.show()"
   ]
  },
  {
   "cell_type": "code",
   "execution_count": null,
   "metadata": {},
   "outputs": [],
   "source": [
    "param_m = np.array([1.,-1])\n",
    "\n",
    "lm_m = model.LinearModel(param_m)\n",
    "\n",
    "alpha = 1.0 - Q/100\n",
    "print(alpha)\n",
    "rhofunc=func.Quantile_Sqrt(alpha, 0.001)\n",
    "\n",
    "avg_m = regr.averaging_function('M', rhofunc=rhofunc)\n",
    "alg_m = regr.m_regression_irls(X1s, Y1, lm_m, agg_func=avg_m, h=0.01)\n",
    "\n",
    "plt.plot(alg_m.lvals, label='M')\n",
    "plt.legend()\n",
    "plt.show()"
   ]
  },
  {
   "cell_type": "code",
   "execution_count": null,
   "metadata": {},
   "outputs": [],
   "source": [
    "param_wm = np.array([1.,-1])\n",
    "\n",
    "lm_wm = model.LinearModel(param_wm)\n",
    "\n",
    "avg_wm = regr.averaging_function('WM', rhofunc=rhofunc)\n",
    "alg_wm = regr.m_regression_irls(X1s, Y1, lm_wm, agg_func=avg_wm, h=0.01)\n",
    "\n",
    "plt.plot(alg_wm.lvals, label='WM')\n",
    "plt.legend()\n",
    "plt.show()"
   ]
  },
  {
   "cell_type": "code",
   "execution_count": null,
   "metadata": {},
   "outputs": [],
   "source": [
    "# param_swm = np.array([1.,-1])\n",
    "# lm_swm = model.LinearModel(param_swm)\n",
    "\n",
    "avg_swm = regr.averaging_function('SWM', rhofunc=rhofunc)\n",
    "alg_swm = regr.m_regression(X1s, Y1, lm_swm, agg_func=avg_swm, h=0.001)\n",
    "\n",
    "plt.plot(alg_swm.lvals, label='SWM')\n",
    "plt.legend()\n",
    "plt.show()"
   ]
  },
  {
   "cell_type": "code",
   "execution_count": null,
   "metadata": {},
   "outputs": [],
   "source": [
    "def plot_robust():\n",
    "    plt.title(r\"%.0f%% outliers, $\\alpha=%.2f$\" % (Q, alpha))\n",
    "    plt.scatter(X1, Y1, s=25, marker='o', c='w', edgecolors='k', linewidths=0.9) #, label='data')\n",
    "    plt.plot(xrange0, lm_m.evaluate_all(xrange0), color='k', linewidth=2., \n",
    "             label=r'M$_\\alpha,\\ y=%.1f%+.1fx$' % tuple(lm_m.param), linestyle='-')\n",
    "    plt.plot(xrange0, lm_wm.evaluate_all(xrange0), color='k', linewidth=2., \n",
    "             label=r'WM$_\\alpha,\\ y=%.1f%+.1fx$' % tuple(lm_wm.param), linestyle='--')\n",
    "#     plt.plot(xrange0, lm_swm.evaluate_all(xrange0), color='k', linewidth=2., \n",
    "#              label=r'SWM$_\\alpha,\\ y=%.1f+%.1fx$' % tuple(lm_swm.param), linestyle='-.')\n",
    "    # plt.plot(xrange0, lm_line22_logsq.evaluate_all(xrange0), color='k', linewidth=2., label='logsquare', linestyle='-.')\n",
    "    # plt.plot(xrange0, lm_line22_tukey.evaluate_all(xrange0), color='k', linewidth=2., label='tukey', linestyle='--')\n",
    "    plt.grid(1)\n",
    "    plt.minorticks_on()\n",
    "    plt.legend()"
   ]
  },
  {
   "cell_type": "code",
   "execution_count": null,
   "metadata": {},
   "outputs": [],
   "source": [
    "plt.figure(figsize=(8.0,4.0))\n",
    "plt.subplot(1,2,1)\n",
    "plot_classic()\n",
    "plt.subplot(1,2,2)\n",
    "plot_robust()\n",
    "plt.tight_layout()\n",
    "plt.savefig(\"fig/rb_ml_linear_%.0f_eng.eps\" % Q)\n",
    "plt.show()"
   ]
  },
  {
   "cell_type": "code",
   "execution_count": null,
   "metadata": {},
   "outputs": [],
   "source": []
  },
  {
   "cell_type": "code",
   "execution_count": null,
   "metadata": {},
   "outputs": [],
   "source": []
  }
 ],
 "metadata": {
  "kernelspec": {
   "display_name": "Python 3 (ipykernel)",
   "language": "python",
   "name": "python3"
  },
  "language_info": {
   "codemirror_mode": {
    "name": "ipython",
    "version": 3
   },
   "file_extension": ".py",
   "mimetype": "text/x-python",
   "name": "python",
   "nbconvert_exporter": "python",
   "pygments_lexer": "ipython3",
   "version": "3.9.13"
  }
 },
 "nbformat": 4,
 "nbformat_minor": 4
}
