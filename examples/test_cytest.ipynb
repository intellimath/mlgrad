{
 "cells": [
  {
   "cell_type": "code",
   "execution_count": 1,
   "id": "b037f03d-e4bf-46a8-9f0f-8c74b07b483c",
   "metadata": {},
   "outputs": [],
   "source": [
    "import mlgrad.cytest as cytest"
   ]
  },
  {
   "cell_type": "code",
   "execution_count": 2,
   "id": "fae3f607-b6fb-4133-81a7-fbeb84446085",
   "metadata": {},
   "outputs": [],
   "source": [
    "import numpy as np"
   ]
  },
  {
   "cell_type": "code",
   "execution_count": 3,
   "id": "a53c31e2-8cb2-4bd7-a841-363bf708f785",
   "metadata": {},
   "outputs": [],
   "source": [
    "A = np.random.random(10000)\n",
    "B = np.random.random(10000)"
   ]
  },
  {
   "cell_type": "code",
   "execution_count": 7,
   "id": "bb706396-4fc4-410f-8ed4-2483ccfe25f0",
   "metadata": {},
   "outputs": [
    {
     "name": "stdout",
     "output_type": "stream",
     "text": [
      "2.97 s ± 28.2 ms per loop (mean ± std. dev. of 7 runs, 1 loop each)\n"
     ]
    }
   ],
   "source": [
    "%timeit cytest.test_dot_numpy1(A, B)"
   ]
  },
  {
   "cell_type": "code",
   "execution_count": 8,
   "id": "63046c18-b99c-40f0-9c5a-f76b709aaf9b",
   "metadata": {},
   "outputs": [
    {
     "name": "stdout",
     "output_type": "stream",
     "text": [
      "3.03 s ± 15 ms per loop (mean ± std. dev. of 7 runs, 1 loop each)\n"
     ]
    }
   ],
   "source": [
    "%timeit cytest.test_dot_numpy2(A, B)"
   ]
  },
  {
   "cell_type": "code",
   "execution_count": 9,
   "id": "8c17bcbd-66cc-4fdc-a8d0-3cb8ac57daf8",
   "metadata": {},
   "outputs": [
    {
     "name": "stdout",
     "output_type": "stream",
     "text": [
      "11.8 s ± 6.04 ms per loop (mean ± std. dev. of 7 runs, 1 loop each)\n"
     ]
    }
   ],
   "source": [
    "%timeit cytest.test_dot_cython(A, B)"
   ]
  },
  {
   "cell_type": "code",
   "execution_count": null,
   "id": "6a1540fc-14b9-4123-830d-5af915dc5e32",
   "metadata": {},
   "outputs": [],
   "source": []
  }
 ],
 "metadata": {
  "kernelspec": {
   "display_name": "Python 3 (ipykernel)",
   "language": "python",
   "name": "python3"
  },
  "language_info": {
   "codemirror_mode": {
    "name": "ipython",
    "version": 3
   },
   "file_extension": ".py",
   "mimetype": "text/x-python",
   "name": "python",
   "nbconvert_exporter": "python",
   "pygments_lexer": "ipython3",
   "version": "3.12.6"
  }
 },
 "nbformat": 4,
 "nbformat_minor": 5
}
