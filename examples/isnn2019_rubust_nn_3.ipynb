{
 "cells": [
  {
   "cell_type": "code",
   "execution_count": 1,
   "metadata": {},
   "outputs": [
    {
     "name": "stderr",
     "output_type": "stream",
     "text": [
      "/tmp/ipykernel_101636/4244370690.py:2: MatplotlibDeprecationWarning: The seaborn styles shipped by Matplotlib are deprecated since 3.6, as they no longer correspond to the styles shipped by seaborn. However, they will remain available as 'seaborn-v0_8-<style>'. Alternatively, directly use the seaborn API instead.\n",
      "  plt.style.use(['seaborn-notebook', 'seaborn-white', 'seaborn-ticks'])\n",
      "/tmp/ipykernel_101636/4244370690.py:2: MatplotlibDeprecationWarning: The seaborn styles shipped by Matplotlib are deprecated since 3.6, as they no longer correspond to the styles shipped by seaborn. However, they will remain available as 'seaborn-v0_8-<style>'. Alternatively, directly use the seaborn API instead.\n",
      "  plt.style.use(['seaborn-notebook', 'seaborn-white', 'seaborn-ticks'])\n",
      "/tmp/ipykernel_101636/4244370690.py:2: MatplotlibDeprecationWarning: The seaborn styles shipped by Matplotlib are deprecated since 3.6, as they no longer correspond to the styles shipped by seaborn. However, they will remain available as 'seaborn-v0_8-<style>'. Alternatively, directly use the seaborn API instead.\n",
      "  plt.style.use(['seaborn-notebook', 'seaborn-white', 'seaborn-ticks'])\n"
     ]
    },
    {
     "ename": "ModuleNotFoundError",
     "evalue": "No module named 'mlgrad.regular'",
     "output_type": "error",
     "traceback": [
      "\u001b[0;31m---------------------------------------------------------------------------\u001b[0m",
      "\u001b[0;31mModuleNotFoundError\u001b[0m                       Traceback (most recent call last)",
      "Cell \u001b[0;32mIn [1], line 11\u001b[0m\n\u001b[1;32m      9\u001b[0m \u001b[38;5;28;01mimport\u001b[39;00m \u001b[38;5;21;01mmlgrad\u001b[39;00m\u001b[38;5;21;01m.\u001b[39;00m\u001b[38;5;21;01mmodel\u001b[39;00m \u001b[38;5;28;01mas\u001b[39;00m \u001b[38;5;21;01mmodel\u001b[39;00m\n\u001b[1;32m     10\u001b[0m \u001b[38;5;28;01mimport\u001b[39;00m \u001b[38;5;21;01mmlgrad\u001b[39;00m\u001b[38;5;21;01m.\u001b[39;00m\u001b[38;5;21;01mfunc\u001b[39;00m \u001b[38;5;28;01mas\u001b[39;00m \u001b[38;5;21;01mfunc\u001b[39;00m\n\u001b[0;32m---> 11\u001b[0m \u001b[38;5;28;01mimport\u001b[39;00m \u001b[38;5;21;01mmlgrad\u001b[39;00m\u001b[38;5;21;01m.\u001b[39;00m\u001b[38;5;21;01mregular\u001b[39;00m \u001b[38;5;28;01mas\u001b[39;00m \u001b[38;5;21;01mregular\u001b[39;00m\n\u001b[1;32m     12\u001b[0m \u001b[38;5;28;01mimport\u001b[39;00m \u001b[38;5;21;01mmlgrad\u001b[39;00m\u001b[38;5;21;01m.\u001b[39;00m\u001b[38;5;21;01mloss\u001b[39;00m \u001b[38;5;28;01mas\u001b[39;00m \u001b[38;5;21;01mloss\u001b[39;00m\n\u001b[1;32m     13\u001b[0m \u001b[38;5;28;01mimport\u001b[39;00m \u001b[38;5;21;01mmlgrad\u001b[39;00m\u001b[38;5;21;01m.\u001b[39;00m\u001b[38;5;21;01mweights\u001b[39;00m \u001b[38;5;28;01mas\u001b[39;00m \u001b[38;5;21;01mweights\u001b[39;00m\n",
      "\u001b[0;31mModuleNotFoundError\u001b[0m: No module named 'mlgrad.regular'"
     ]
    }
   ],
   "source": [
    "import matplotlib.pyplot as plt\n",
    "plt.style.use(['seaborn-notebook', 'seaborn-white', 'seaborn-ticks'])\n",
    "from mpl_toolkits.mplot3d import Axes3D\n",
    "\n",
    "from random import random\n",
    "\n",
    "import numpy as np\n",
    "\n",
    "import mlgrad.model as model\n",
    "import mlgrad.func as func\n",
    "import mlgrad.regular as regular\n",
    "import mlgrad.loss as loss\n",
    "import mlgrad.weights as weights\n",
    "import mlgrad.averager as averager\n",
    "import mlgrad.avragg as avragg\n",
    "\n",
    "from mlgrad import averager_it, averager_fg, fg, erm_fg, sg, erm_sg, irgd, erm_irgd, erisk, mrisk"
   ]
  },
  {
   "cell_type": "code",
   "execution_count": null,
   "metadata": {},
   "outputs": [],
   "source": [
    "loss_func_sq = loss.ErrorLoss(func.Square())\n",
    "loss_func_abs = loss.ErrorLoss(func.Absolute())\n",
    "loss_func_sqrt = loss.ErrorLoss(func.Sqrt(1.0))\n",
    "loss_func_logsq = loss.ErrorLoss(func.LogSquare(1.0))"
   ]
  },
  {
   "cell_type": "code",
   "execution_count": null,
   "metadata": {},
   "outputs": [],
   "source": [
    "def sigma_neuron_layer2(n_input, n_output):\n",
    "    outfunc = func.Arctang()\n",
    "    layer = model.SigmaNeuronModelLayer(outfunc, n_input, n_output)\n",
    "    return layer"
   ]
  },
  {
   "cell_type": "code",
   "execution_count": null,
   "metadata": {},
   "outputs": [],
   "source": [
    "def create_nn(n_input, n_hidden):\n",
    "    layer1 = sigma_neuron_layer2(n_input, n_hidden[0])\n",
    "    layer2 = sigma_neuron_layer2(n_hidden[0], n_hidden[1])\n",
    "    layer3 = sigma_neuron_layer2(n_hidden[1], n_hidden[2])\n",
    "\n",
    "    body = model.FFNetworkModel()\n",
    "    body.add(layer1)\n",
    "    body.add(layer2)\n",
    "    body.add(layer3)\n",
    "\n",
    "    head = model.LinearModel(n_hidden[2])\n",
    "    ffnn = model.FFNetworkFuncModel(head, body)\n",
    "    ffnn.allocate()\n",
    "    return ffnn"
   ]
  },
  {
   "cell_type": "code",
   "execution_count": null,
   "metadata": {},
   "outputs": [],
   "source": [
    "def generate_nn(n_input, n_hidden):\n",
    "    nn_orig = create_nn(n_input, n_hidden)\n",
    "    for layer in nn_orig.body.layers:\n",
    "        layer_param = layer.param\n",
    "        n = len(layer_param)\n",
    "        random_param = 8*np.random.random(n)-4\n",
    "        for i in range(n):\n",
    "            layer_param[i] = random_param[i]\n",
    "    head_param = nn_orig.head.param\n",
    "    head_param[0] = 0.\n",
    "    for i in range(n_hidden[-1]):\n",
    "        head_param[i+1] = (-1.)**i /((i+1.))\n",
    "    return nn_orig\n"
   ]
  },
  {
   "cell_type": "code",
   "execution_count": null,
   "metadata": {},
   "outputs": [],
   "source": [
    "result = {}\n",
    "\n",
    "n_input = 2\n",
    "n_hidden = (7, 7, 3)"
   ]
  },
  {
   "cell_type": "code",
   "execution_count": null,
   "metadata": {},
   "outputs": [],
   "source": [
    "nn_orig = generate_nn(n_input, n_hidden)\n",
    "print(nn_orig.param.base)"
   ]
  },
  {
   "cell_type": "code",
   "execution_count": null,
   "metadata": {},
   "outputs": [],
   "source": [
    "Q = 40\n",
    "q = Q / 100.\n",
    "\n",
    "N = 50\n",
    "M = int(q*N*N)"
   ]
  },
  {
   "cell_type": "code",
   "execution_count": null,
   "metadata": {},
   "outputs": [],
   "source": [
    "xrange = np.linspace(-10., 10., N)\n",
    "yrange = np.linspace(-10., 10., N)\n",
    "xxrange, yyrange= np.meshgrid(xrange, yrange, indexing='xy')\n",
    "#iirange, jjrange= np.meshgrid(xrange, yrange, indexing='ij')\n",
    "X = np.c_[xxrange.ravel(), yyrange.ravel()]\n",
    "Y = np.array(nn_orig.evaluate_all(X))\n",
    "Y_s = Y + 0.01*(2*np.random.random(N*N)-1)\n",
    "print(np.max(Y))\n",
    "YY = Y_s.reshape(xxrange.shape)\n",
    "I = np.random.permutation(np.arange(0,N*N))[:M]\n",
    "Y_o = Y_s.copy()\n",
    "for i in I:\n",
    "    yi = Y_o[i]\n",
    "    s = random()\n",
    "    Y_o[i] += s * abs(yi) * 3\n",
    "YY_o = Y_o.reshape(xxrange.shape)\n",
    "\n",
    "# plt.figure(figsize=(12,4))\n",
    "# plt.subplot(1,2,1)\n",
    "# cb1 = plt.imshow(YY, extent=(-7.,7.,-7.,7.), origin='bottom', interpolation='none')\n",
    "# plt.colorbar(cb1)\n",
    "# plt.subplot(1,2,2)\n",
    "# cb2 = plt.imshow(YY_o, extent=(-7.,7.,-7.,7.), origin='bottom', interpolation='none')\n",
    "# plt.colorbar(cb2)\n",
    "# plt.show()\n",
    "\n",
    "plt.figure(figsize=(12,5))\n",
    "fig = plt.gcf()\n",
    "ax1 = fig.add_subplot(1, 2, 1, projection='3d')\n",
    "surf1 = ax1.plot_surface(xxrange, yyrange, YY, cmap=plt.cm.Greys)\n",
    "plt.title(\"Outliers: 0%\")\n",
    "ax2 = fig.add_subplot(1, 2, 2, projection='3d')\n",
    "surf2 = ax2.plot_surface(xxrange, yyrange, YY_o, cmap=plt.cm.Greys, )\n",
    "ax2.set_zlim3d(-3,3)\n",
    "plt.title(\"Outliers: %s%%\" % Q)\n",
    "plt.savefig(r\"fig/isnn2019_surfplot_%s_%s.eps\" % (n_input, n_hidden))\n",
    "plt.show()"
   ]
  },
  {
   "cell_type": "code",
   "execution_count": null,
   "metadata": {},
   "outputs": [],
   "source": [
    "n_param = nn_orig.n_param\n",
    "nn_bp = create_nn(n_input, n_hidden)\n",
    "nn_bp.param[:] = np.random.random(n_param)\n",
    "nn_bp_o = create_nn(n_input, n_hidden)\n",
    "nn_bp_o.param[:] = np.random.random(n_param)\n",
    "nn_sqrt_o = create_nn(n_input, n_hidden)\n",
    "nn_sqrt_o.param[:] = np.random.random(n_param)\n",
    "nn_logsq_o = create_nn(n_input, n_hidden)\n",
    "nn_logsq_o.param[:] = np.random.random(n_param)\n",
    "nn_wm_o = create_nn(n_input, n_hidden)\n",
    "nn_wm_o.param[:] = np.random.random(n_param)\n",
    "nn_m_o = create_nn(n_input, n_hidden)\n",
    "nn_m_o.param[:] = np.random.random(n_param)"
   ]
  },
  {
   "cell_type": "code",
   "execution_count": null,
   "metadata": {},
   "outputs": [],
   "source": [
    "# er_bp = erisk(X, Y_s, nn_bp, loss_func_sq)\n",
    "# fg_bp = erm_fg(er_bp, h=0.001, tol=1.0e-8, verbose=0, n_restart=5)\n",
    "\n",
    "# plt.plot(fg_bp.lvals)\n",
    "# plt.show()"
   ]
  },
  {
   "cell_type": "code",
   "execution_count": null,
   "metadata": {},
   "outputs": [],
   "source": [
    "er_bp_o = erisk(X, Y_o, nn_bp_o, loss_func_sq)\n",
    "fg_bp_o = erm_fg(er_bp_o, h=0.01, tol=1.0e-8, verbose=0, n_restart=5)\n",
    "\n",
    "plt.plot(fg_bp_o.lvals)\n",
    "plt.show()"
   ]
  },
  {
   "cell_type": "code",
   "execution_count": null,
   "metadata": {},
   "outputs": [],
   "source": [
    "er_sqrt_o = erisk(X, Y_o, nn_sqrt_o, loss_func_sqrt)\n",
    "fg_sqrt_o = erm_fg(er_sqrt_o, h=0.01, tol=1.0e-8, verbose=0, n_restart=5)\n",
    "\n",
    "plt.plot(fg_sqrt_o.lvals)\n",
    "plt.show()"
   ]
  },
  {
   "cell_type": "code",
   "execution_count": null,
   "metadata": {},
   "outputs": [],
   "source": [
    "er_logsq_o = erisk(X, Y_o, nn_logsq_o, loss_func_logsq)\n",
    "fg_logsq_o = erm_fg(er_logsq_o, h=0.01, tol=1.0e-8, verbose=0, n_restart=5)\n",
    "\n",
    "plt.plot(fg_logsq_o.lvals)\n",
    "plt.show()"
   ]
  },
  {
   "cell_type": "code",
   "execution_count": null,
   "metadata": {},
   "outputs": [],
   "source": [
    "er_wm_o = erisk(X, Y_o, nn_wm_o, loss_func_sq)\n",
    "fg_wm_o = fg(er_wm_o, h=0.005, tol=1.0e-9)\n",
    "alpha = 0.999-q\n",
    "avg_wm_o = averager_it(func.QuantileFunc(alpha, func.Sqrt(0.001)))\n",
    "wg_wm_o = weights.WMWeights(avg_wm_o, er_wm_o)\n",
    "irgd_wm_o = erm_irgd(fg_wm_o, wg_wm_o, n_iter=22, verbose=0)\n",
    "\n",
    "plt.figure(figsize=(5,4))\n",
    "plt.plot(irgd_wm_o.lvals)\n",
    "plt.show()"
   ]
  },
  {
   "cell_type": "code",
   "execution_count": null,
   "metadata": {},
   "outputs": [],
   "source": [
    "avg22 = averager_it(func.Quantile_Sqrt(alpha, 0.001))\n",
    "avg22 = avragg.WMAverage(avg22)\n",
    "mr2 = mrisk(X, Y, nn_m_o, loss_func_sq, avg22)\n",
    "alg_fg2 = erm_fg(mr2, h=0.005, tol=1.0e-9, n_iter=1000, n_restart=5,)\n",
    "\n",
    "plt.figure(figsize=(5,4))\n",
    "plt.plot(alg_fg2.lvals)\n",
    "plt.show()"
   ]
  },
  {
   "cell_type": "code",
   "execution_count": null,
   "metadata": {},
   "outputs": [],
   "source": [
    "result[Q] = {\n",
    "    'nn':(\n",
    "        nn_bp_o, nn_sqrt_o, nn_logsq_o, nn_wm_o, nn_m_o),\n",
    "    'title':(\n",
    "        'BP | %s%%' % Q,\n",
    "        'BP $\\sqrt{1+x^2}$ | %s%%' % Q,\n",
    "        'BP $\\ln(1+x^2)$ | %s%%' % Q,\n",
    "        'WM-BP | %s%%' % Q,\n",
    "        'M-BP | %s%%' % Q,\n",
    "    ),\n",
    "    'b':0.1\n",
    "}"
   ]
  },
  {
   "cell_type": "code",
   "execution_count": null,
   "metadata": {},
   "outputs": [],
   "source": [
    "K = 5\n",
    "m_q = len(result)\n",
    "plt.figure(figsize=(K*3.5, m_q * 3.5))\n",
    "for j, Q in enumerate(result):\n",
    "    for i in range(K):\n",
    "        current = result[Q]\n",
    "        b = current['b']\n",
    "        plt.subplot(m_q, K, K*j+i+1)\n",
    "        _ffnn = current['nn'][i]\n",
    "        Y1 = np.array(_ffnn.evaluate_all(X))\n",
    "        title = current['title'][i]\n",
    "        plt.title(title)\n",
    "        V = np.abs(Y-Y1)\n",
    "        I = np.argsort(V)\n",
    "        I = I[::-1]\n",
    "        Y2 = [np.min(Y1), np.max(Y1)]\n",
    "        plt.plot(Y2, Y2, c='k')\n",
    "        plt.scatter(Y[I], Y1[I], c=V[I], s=4, cmap=plt.cm.gray)\n",
    "        c = sum(V < b) / len(V) * 100\n",
    "        y_min, y_max = plt.xlim()\n",
    "        plt.text(y_min, Y1.max(), r'$\\{|err|<%.1f\\}\\to%s$%%' % (b, int(c)))\n",
    "        if i == 0:\n",
    "            plt.ylabel(\"predicted target\")\n",
    "        if j == m_q-1:\n",
    "            plt.xlabel(\"original target\")\n",
    "        if j < m_q-1:\n",
    "            plt.xticks([], [])\n",
    "        plt.minorticks_on()\n",
    "plt.tight_layout()\n",
    "plt.savefig(r\"fig/isnn2019_regr_%s_%s.eps\" % (n_input, n_hidden))\n",
    "plt.show()"
   ]
  },
  {
   "cell_type": "code",
   "execution_count": null,
   "metadata": {},
   "outputs": [],
   "source": [
    "K = 5\n",
    "m_q = len(result)\n",
    "plt.figure(figsize=(K*3.0, m_q * 2.75))\n",
    "for j, Q in enumerate(result):\n",
    "    for i in range(K):\n",
    "        current = result[Q]\n",
    "        b = current['b']\n",
    "        plt.subplot(m_q, K, K*j+i+1)\n",
    "        _ffnn = current['nn'][i]\n",
    "        Y1 = np.array(_ffnn.evaluate_all(X))\n",
    "        title = current['title'][i]\n",
    "        plt.title(title)\n",
    "        V = np.abs(Y-Y1)\n",
    "        I = np.argsort(V)\n",
    "        I = I[::-1]\n",
    "        #Y2 = [np.min(Y1), np.max(Y1)]\n",
    "        #plt.plot(Y2, Y2, c='k')\n",
    "        #plt.scatter(Y[I], Y1[I], c=V[I], s=4, cmap=plt.cm.gray)\n",
    "        plt.hist(V, bins=\"auto\", color='grey', edgecolor='k', density=True)\n",
    "        _, h_max = plt.ylim()\n",
    "        plt.vlines(np.mean(V), 0, h_max, colors='k')\n",
    "        c = sum(V < b) / len(V) * 100\n",
    "        y_min, y_max = plt.xlim()\n",
    "        #plt.text(y_min, Y1.max(), r'$\\{|err|<%.1f\\}\\to%s$%%' % (b, int(c)))\n",
    "        if i == 0:\n",
    "            plt.ylabel(\"predicted target\")\n",
    "        if j == m_q-1:\n",
    "            plt.xlabel(\"original target\")\n",
    "#         if j < m_q-1:\n",
    "#             plt.xticks([], [])\n",
    "        plt.minorticks_on()\n",
    "plt.tight_layout()\n",
    "plt.savefig(r\"fig/isnn2019_regr_hist_%s_%s.eps\" % (n_input, n_hidden))\n",
    "plt.show()"
   ]
  },
  {
   "cell_type": "code",
   "execution_count": null,
   "metadata": {},
   "outputs": [],
   "source": [
    "K = 5\n",
    "m_q = len(result)\n",
    "lstyles = ['--', '-.', ':', '-', '-']\n",
    "plt.figure(figsize=(4.0, 3.5))\n",
    "current = result[Q]\n",
    "b = current['b']\n",
    "for i in range(K):\n",
    "    _ffnn = current['nn'][i]\n",
    "    Y1 = np.array(_ffnn.evaluate_all(X))\n",
    "    title = current['title'][i]\n",
    "    #plt.title(title)\n",
    "    V = np.abs(Y-Y1)\n",
    "    Vs = np.sort(V)\n",
    "    plt.plot(Vs, c='k', linestyle=lstyles[i], label = title)\n",
    "plt.tight_layout()\n",
    "plt.ylim(0, 3.0)\n",
    "plt.legend()\n",
    "plt.savefig(r\"fig/isnn2019_regr_err_%s_%s.\" % (n_input, n_hidden))\n",
    "plt.show()"
   ]
  },
  {
   "cell_type": "code",
   "execution_count": null,
   "metadata": {},
   "outputs": [],
   "source": []
  },
  {
   "cell_type": "code",
   "execution_count": null,
   "metadata": {},
   "outputs": [],
   "source": []
  }
 ],
 "metadata": {
  "kernelspec": {
   "display_name": "Python 3 (ipykernel)",
   "language": "python",
   "name": "python3"
  },
  "language_info": {
   "codemirror_mode": {
    "name": "ipython",
    "version": 3
   },
   "file_extension": ".py",
   "mimetype": "text/x-python",
   "name": "python",
   "nbconvert_exporter": "python",
   "pygments_lexer": "ipython3",
   "version": "3.11.2"
  }
 },
 "nbformat": 4,
 "nbformat_minor": 4
}
