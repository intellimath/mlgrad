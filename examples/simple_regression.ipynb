{
 "cells": [
  {
   "cell_type": "code",
   "execution_count": 1,
   "id": "6758ed7f-3203-43bf-b974-a6a2160ec41a",
   "metadata": {
    "execution": {
     "iopub.execute_input": "2025-02-19T17:25:25.704997Z",
     "iopub.status.busy": "2025-02-19T17:25:25.704408Z",
     "iopub.status.idle": "2025-02-19T17:25:27.060698Z",
     "shell.execute_reply": "2025-02-19T17:25:27.059892Z",
     "shell.execute_reply.started": "2025-02-19T17:25:25.704924Z"
    }
   },
   "outputs": [],
   "source": [
    "import pandas as pd\n",
    "import matplotlib.pyplot as plt\n",
    "import numpy as np"
   ]
  },
  {
   "cell_type": "code",
   "execution_count": 2,
   "id": "3d2d1724-21ff-4353-a5a1-f1128004506b",
   "metadata": {
    "execution": {
     "iopub.execute_input": "2025-02-19T17:25:27.066893Z",
     "iopub.status.busy": "2025-02-19T17:25:27.066353Z",
     "iopub.status.idle": "2025-02-19T17:25:27.097455Z",
     "shell.execute_reply": "2025-02-19T17:25:27.096244Z",
     "shell.execute_reply.started": "2025-02-19T17:25:27.066844Z"
    }
   },
   "outputs": [],
   "source": [
    "import mlgrad.loss as loss\n",
    "import mlgrad.funcs as funcs\n",
    "import mlgrad.models as models\n",
    "import mlgrad.risks as risks\n",
    "import mlgrad.gd as gd"
   ]
  },
  {
   "cell_type": "code",
   "execution_count": 3,
   "id": "18fdc3e0-6919-4093-b84f-54b0b68ec757",
   "metadata": {
    "execution": {
     "iopub.execute_input": "2025-02-19T17:25:27.279076Z",
     "iopub.status.busy": "2025-02-19T17:25:27.278623Z",
     "iopub.status.idle": "2025-02-19T17:25:27.316237Z",
     "shell.execute_reply": "2025-02-19T17:25:27.315103Z",
     "shell.execute_reply.started": "2025-02-19T17:25:27.279045Z"
    }
   },
   "outputs": [
    {
     "data": {
      "text/html": [
       "<div>\n",
       "<style scoped>\n",
       "    .dataframe tbody tr th:only-of-type {\n",
       "        vertical-align: middle;\n",
       "    }\n",
       "\n",
       "    .dataframe tbody tr th {\n",
       "        vertical-align: top;\n",
       "    }\n",
       "\n",
       "    .dataframe thead th {\n",
       "        text-align: right;\n",
       "    }\n",
       "</style>\n",
       "<table border=\"1\" class=\"dataframe\">\n",
       "  <thead>\n",
       "    <tr style=\"text-align: right;\">\n",
       "      <th></th>\n",
       "      <th>name</th>\n",
       "      <th>body</th>\n",
       "      <th>brain</th>\n",
       "    </tr>\n",
       "  </thead>\n",
       "  <tbody>\n",
       "    <tr>\n",
       "      <th>0</th>\n",
       "      <td>Mountain beaver</td>\n",
       "      <td>1.350</td>\n",
       "      <td>8.1</td>\n",
       "    </tr>\n",
       "    <tr>\n",
       "      <th>1</th>\n",
       "      <td>Cow</td>\n",
       "      <td>465.000</td>\n",
       "      <td>423.0</td>\n",
       "    </tr>\n",
       "    <tr>\n",
       "      <th>2</th>\n",
       "      <td>Grey wolf</td>\n",
       "      <td>36.330</td>\n",
       "      <td>119.5</td>\n",
       "    </tr>\n",
       "    <tr>\n",
       "      <th>3</th>\n",
       "      <td>Goat</td>\n",
       "      <td>27.660</td>\n",
       "      <td>115.0</td>\n",
       "    </tr>\n",
       "    <tr>\n",
       "      <th>4</th>\n",
       "      <td>Guinea pig</td>\n",
       "      <td>1.040</td>\n",
       "      <td>5.5</td>\n",
       "    </tr>\n",
       "    <tr>\n",
       "      <th>5</th>\n",
       "      <td>Dipliodocus</td>\n",
       "      <td>11700.000</td>\n",
       "      <td>50.0</td>\n",
       "    </tr>\n",
       "    <tr>\n",
       "      <th>6</th>\n",
       "      <td>Asian elephant</td>\n",
       "      <td>2547.000</td>\n",
       "      <td>4603.0</td>\n",
       "    </tr>\n",
       "    <tr>\n",
       "      <th>7</th>\n",
       "      <td>Donkey</td>\n",
       "      <td>187.100</td>\n",
       "      <td>419.0</td>\n",
       "    </tr>\n",
       "    <tr>\n",
       "      <th>8</th>\n",
       "      <td>Horse</td>\n",
       "      <td>521.000</td>\n",
       "      <td>655.0</td>\n",
       "    </tr>\n",
       "    <tr>\n",
       "      <th>9</th>\n",
       "      <td>Potar monkey</td>\n",
       "      <td>10.000</td>\n",
       "      <td>115.0</td>\n",
       "    </tr>\n",
       "    <tr>\n",
       "      <th>10</th>\n",
       "      <td>Cat</td>\n",
       "      <td>3.300</td>\n",
       "      <td>25.6</td>\n",
       "    </tr>\n",
       "    <tr>\n",
       "      <th>11</th>\n",
       "      <td>Giraffe</td>\n",
       "      <td>529.000</td>\n",
       "      <td>680.0</td>\n",
       "    </tr>\n",
       "    <tr>\n",
       "      <th>12</th>\n",
       "      <td>Gorilla</td>\n",
       "      <td>207.000</td>\n",
       "      <td>406.0</td>\n",
       "    </tr>\n",
       "    <tr>\n",
       "      <th>13</th>\n",
       "      <td>Human</td>\n",
       "      <td>62.000</td>\n",
       "      <td>1320.0</td>\n",
       "    </tr>\n",
       "    <tr>\n",
       "      <th>14</th>\n",
       "      <td>African elephant</td>\n",
       "      <td>6654.000</td>\n",
       "      <td>5712.0</td>\n",
       "    </tr>\n",
       "    <tr>\n",
       "      <th>15</th>\n",
       "      <td>Triceratops</td>\n",
       "      <td>9400.000</td>\n",
       "      <td>70.0</td>\n",
       "    </tr>\n",
       "    <tr>\n",
       "      <th>16</th>\n",
       "      <td>Rhesus monkey</td>\n",
       "      <td>6.800</td>\n",
       "      <td>179.0</td>\n",
       "    </tr>\n",
       "    <tr>\n",
       "      <th>17</th>\n",
       "      <td>Kangaroo</td>\n",
       "      <td>35.000</td>\n",
       "      <td>56.0</td>\n",
       "    </tr>\n",
       "    <tr>\n",
       "      <th>18</th>\n",
       "      <td>Golden hamster</td>\n",
       "      <td>0.120</td>\n",
       "      <td>1.0</td>\n",
       "    </tr>\n",
       "    <tr>\n",
       "      <th>19</th>\n",
       "      <td>Mouse</td>\n",
       "      <td>0.023</td>\n",
       "      <td>0.4</td>\n",
       "    </tr>\n",
       "    <tr>\n",
       "      <th>20</th>\n",
       "      <td>Rabbit</td>\n",
       "      <td>2.500</td>\n",
       "      <td>12.1</td>\n",
       "    </tr>\n",
       "    <tr>\n",
       "      <th>21</th>\n",
       "      <td>Sheep</td>\n",
       "      <td>55.500</td>\n",
       "      <td>175.0</td>\n",
       "    </tr>\n",
       "    <tr>\n",
       "      <th>22</th>\n",
       "      <td>Jaguar</td>\n",
       "      <td>100.000</td>\n",
       "      <td>157.0</td>\n",
       "    </tr>\n",
       "    <tr>\n",
       "      <th>23</th>\n",
       "      <td>Chimpanzee</td>\n",
       "      <td>52.160</td>\n",
       "      <td>440.0</td>\n",
       "    </tr>\n",
       "    <tr>\n",
       "      <th>24</th>\n",
       "      <td>Rat</td>\n",
       "      <td>0.280</td>\n",
       "      <td>1.9</td>\n",
       "    </tr>\n",
       "    <tr>\n",
       "      <th>25</th>\n",
       "      <td>Brachiosaurus</td>\n",
       "      <td>87000.000</td>\n",
       "      <td>154.5</td>\n",
       "    </tr>\n",
       "    <tr>\n",
       "      <th>26</th>\n",
       "      <td>Mole</td>\n",
       "      <td>0.122</td>\n",
       "      <td>3.0</td>\n",
       "    </tr>\n",
       "    <tr>\n",
       "      <th>27</th>\n",
       "      <td>Pig</td>\n",
       "      <td>192.000</td>\n",
       "      <td>180.0</td>\n",
       "    </tr>\n",
       "  </tbody>\n",
       "</table>\n",
       "</div>"
      ],
      "text/plain": [
       "                name       body   brain\n",
       "0    Mountain beaver      1.350     8.1\n",
       "1                Cow    465.000   423.0\n",
       "2          Grey wolf     36.330   119.5\n",
       "3               Goat     27.660   115.0\n",
       "4         Guinea pig      1.040     5.5\n",
       "5        Dipliodocus  11700.000    50.0\n",
       "6     Asian elephant   2547.000  4603.0\n",
       "7             Donkey    187.100   419.0\n",
       "8              Horse    521.000   655.0\n",
       "9       Potar monkey     10.000   115.0\n",
       "10               Cat      3.300    25.6\n",
       "11           Giraffe    529.000   680.0\n",
       "12           Gorilla    207.000   406.0\n",
       "13             Human     62.000  1320.0\n",
       "14  African elephant   6654.000  5712.0\n",
       "15       Triceratops   9400.000    70.0\n",
       "16     Rhesus monkey      6.800   179.0\n",
       "17          Kangaroo     35.000    56.0\n",
       "18    Golden hamster      0.120     1.0\n",
       "19             Mouse      0.023     0.4\n",
       "20            Rabbit      2.500    12.1\n",
       "21             Sheep     55.500   175.0\n",
       "22            Jaguar    100.000   157.0\n",
       "23        Chimpanzee     52.160   440.0\n",
       "24               Rat      0.280     1.9\n",
       "25     Brachiosaurus  87000.000   154.5\n",
       "26              Mole      0.122     3.0\n",
       "27               Pig    192.000   180.0"
      ]
     },
     "execution_count": 3,
     "metadata": {},
     "output_type": "execute_result"
    }
   ],
   "source": [
    "df = pd.read_csv(\"data/animals.csv\", sep=\",\")\n",
    "df"
   ]
  },
  {
   "cell_type": "code",
   "execution_count": 4,
   "id": "be670e36-a6cb-48d0-8b99-d8c508572255",
   "metadata": {
    "execution": {
     "iopub.execute_input": "2025-02-19T17:25:28.181269Z",
     "iopub.status.busy": "2025-02-19T17:25:28.180447Z",
     "iopub.status.idle": "2025-02-19T17:25:28.196725Z",
     "shell.execute_reply": "2025-02-19T17:25:28.193904Z",
     "shell.execute_reply.started": "2025-02-19T17:25:28.181195Z"
    }
   },
   "outputs": [],
   "source": [
    "X = np.log(df.body.values)\n",
    "Y = np.log(df.brain.values)\n",
    "Xs = X.reshape(-1,1)"
   ]
  },
  {
   "cell_type": "code",
   "execution_count": 5,
   "id": "c3957a36-280a-4b39-a174-eba72b2957fe",
   "metadata": {
    "execution": {
     "iopub.execute_input": "2025-02-19T17:25:29.397618Z",
     "iopub.status.busy": "2025-02-19T17:25:29.396815Z",
     "iopub.status.idle": "2025-02-19T17:25:29.723759Z",
     "shell.execute_reply": "2025-02-19T17:25:29.722140Z",
     "shell.execute_reply.started": "2025-02-19T17:25:29.397547Z"
    }
   },
   "outputs": [
    {
     "data": {
      "image/png": "[encoded data removed]",
      "text/plain": [
       "<Figure size 640x480 with 1 Axes>"
      ]
     },
     "metadata": {},
     "output_type": "display_data"
    }
   ],
   "source": [
    "plt.scatter(X, Y, c=\"w\", edgecolors=\"k\")\n",
    "plt.show()"
   ]
  },
  {
   "cell_type": "code",
   "execution_count": 6,
   "id": "268cefbf-ede6-4b10-8dc8-f2dca70c61b7",
   "metadata": {
    "execution": {
     "iopub.execute_input": "2025-02-19T17:25:49.109162Z",
     "iopub.status.busy": "2025-02-19T17:25:49.106801Z",
     "iopub.status.idle": "2025-02-19T17:25:49.151771Z",
     "shell.execute_reply": "2025-02-19T17:25:49.149126Z",
     "shell.execute_reply.started": "2025-02-19T17:25:49.109033Z"
    }
   },
   "outputs": [],
   "source": [
    "loss_func = loss.ErrorLoss(funcs.Square())\n",
    "linmod = models.LinearModel(1)\n",
    "linmod.init_param()\n",
    "risk_func = risks.ERisk(Xs, Y, linmod, loss_func)\n",
    "alg = gd.FG(risk_func)\n",
    "alg.fit()"
   ]
  },
  {
   "cell_type": "code",
   "execution_count": 7,
   "id": "8e18a7ec-3bc3-4e82-a140-b1185e4fbf85",
   "metadata": {
    "execution": {
     "iopub.execute_input": "2025-02-19T17:25:50.842180Z",
     "iopub.status.busy": "2025-02-19T17:25:50.841346Z",
     "iopub.status.idle": "2025-02-19T17:25:51.210297Z",
     "shell.execute_reply": "2025-02-19T17:25:51.209348Z",
     "shell.execute_reply.started": "2025-02-19T17:25:50.842101Z"
    }
   },
   "outputs": [
    {
     "data": {
      "image/png": "[encoded data removed]",
      "text/plain": [
       "<Figure size 640x480 with 1 Axes>"
      ]
     },
     "metadata": {},
     "output_type": "display_data"
    }
   ],
   "source": [
    "plt.scatter(X, Y, c=\"w\", edgecolors=\"k\")\n",
    "plt.plot(X, linmod.evaluate_all(Xs))\n",
    "plt.show()"
   ]
  },
  {
   "cell_type": "code",
   "execution_count": 8,
   "id": "17922efb-0b4a-40b5-9f6e-aa8885c076ce",
   "metadata": {
    "execution": {
     "iopub.execute_input": "2025-02-19T17:25:53.143970Z",
     "iopub.status.busy": "2025-02-19T17:25:53.143148Z",
     "iopub.status.idle": "2025-02-19T17:25:53.158129Z",
     "shell.execute_reply": "2025-02-19T17:25:53.155782Z",
     "shell.execute_reply.started": "2025-02-19T17:25:53.143895Z"
    }
   },
   "outputs": [],
   "source": [
    "import mlgrad.regr as regr"
   ]
  },
  {
   "cell_type": "code",
   "execution_count": 9,
   "id": "6c91f31d-0304-4303-8dc5-1795aa071ff6",
   "metadata": {
    "execution": {
     "iopub.execute_input": "2025-02-19T17:25:54.900520Z",
     "iopub.status.busy": "2025-02-19T17:25:54.899724Z",
     "iopub.status.idle": "2025-02-19T17:25:54.909504Z",
     "shell.execute_reply": "2025-02-19T17:25:54.908386Z",
     "shell.execute_reply.started": "2025-02-19T17:25:54.900470Z"
    }
   },
   "outputs": [],
   "source": [
    "#linmod.init_param()\n",
    "linmod1 = models.LinearModel(1)\n",
    "alg2 = regr.regression(Xs, Y, linmod, loss_func)"
   ]
  },
  {
   "cell_type": "code",
   "execution_count": 10,
   "id": "9487a66c-9c19-4c2c-add3-55c5ce9edf44",
   "metadata": {
    "execution": {
     "iopub.execute_input": "2025-02-19T17:25:58.463757Z",
     "iopub.status.busy": "2025-02-19T17:25:58.462843Z",
     "iopub.status.idle": "2025-02-19T17:25:58.845300Z",
     "shell.execute_reply": "2025-02-19T17:25:58.844294Z",
     "shell.execute_reply.started": "2025-02-19T17:25:58.463677Z"
    }
   },
   "outputs": [
    {
     "data": {
      "image/png": "[encoded data removed]",
      "text/plain": [
       "<Figure size 640x480 with 1 Axes>"
      ]
     },
     "metadata": {},
     "output_type": "display_data"
    }
   ],
   "source": [
    "plt.scatter(X, Y, c=\"w\", edgecolors=\"k\")\n",
    "plt.plot(X, linmod.evaluate_all(Xs))\n",
    "plt.show()"
   ]
  },
  {
   "cell_type": "code",
   "execution_count": null,
   "id": "688e3f1d-4bfb-45a2-818b-abe10a6ffb0c",
   "metadata": {},
   "outputs": [],
   "source": [
    "E = abs(Y - linmod.evaluate_all(X[:,None]))"
   ]
  },
  {
   "cell_type": "code",
   "execution_count": null,
   "id": "12eea7d0-b20e-462f-ad59-ed5a0715bc02",
   "metadata": {},
   "outputs": [],
   "source": [
    "import mlgrad.plots as plots"
   ]
  },
  {
   "cell_type": "code",
   "execution_count": null,
   "id": "bbe92886-ac27-46da-9ae1-bada70528a9d",
   "metadata": {},
   "outputs": [],
   "source": [
    "plots.plot_errors(linmod, X[:,None], Y)\n",
    "plt.show()"
   ]
  },
  {
   "cell_type": "code",
   "execution_count": null,
   "id": "48f662d7-eebd-46be-bfc0-ece7b7e3c939",
   "metadata": {},
   "outputs": [],
   "source": [
    "def zscore(X):\n",
    "    mu = X.mean()\n",
    "    sigma = np.sqrt(np.mean((X - mu)**2))\n",
    "    return (X - mu) / sigma"
   ]
  },
  {
   "cell_type": "code",
   "execution_count": null,
   "id": "10a79f8e-2eb5-4c48-abdb-7fa314af73b9",
   "metadata": {},
   "outputs": [],
   "source": [
    "Z = zscore(E)"
   ]
  },
  {
   "cell_type": "code",
   "execution_count": null,
   "id": "d7f2f4a7-cf78-496a-bc66-41eb309f57a1",
   "metadata": {},
   "outputs": [],
   "source": [
    "plt.plot(sorted(abs(Z)), marker='o', color='k')\n",
    "plt.show()"
   ]
  },
  {
   "cell_type": "code",
   "execution_count": null,
   "id": "80a0bc04-58c1-4568-827f-bb677c7e263e",
   "metadata": {},
   "outputs": [],
   "source": [
    "def modified_zscore(X):\n",
    "    mu = np.median(X)\n",
    "    sigma = np.median(abs(X - mu))\n",
    "    return 0.6748 * (X - mu) / sigma"
   ]
  },
  {
   "cell_type": "code",
   "execution_count": null,
   "id": "f002ffcd-ad70-4d90-96b1-ff66373a93b8",
   "metadata": {},
   "outputs": [],
   "source": [
    "Zm = modified_zscore(E)"
   ]
  },
  {
   "cell_type": "code",
   "execution_count": null,
   "id": "b130c0d6-566b-486e-9dc7-065b1531241f",
   "metadata": {},
   "outputs": [],
   "source": [
    "plt.plot(sorted(abs(Zm)), marker='o', color='k')\n",
    "plt.grid(1)\n",
    "plt.minorticks_on()\n",
    "plt.show()"
   ]
  },
  {
   "cell_type": "code",
   "execution_count": null,
   "id": "939edc99-1557-4427-a317-39cc144d7d40",
   "metadata": {},
   "outputs": [],
   "source": [
    "X1 = X[Zm >= 3]\n",
    "Y1 = Y[Zm >= 3]"
   ]
  },
  {
   "cell_type": "code",
   "execution_count": null,
   "id": "73023c71-0496-4e32-8c48-92e9f4ec7b15",
   "metadata": {},
   "outputs": [],
   "source": [
    "plt.scatter(X1, Y1, c=\"w\", edgecolors=\"k\")\n",
    "plt.show()"
   ]
  },
  {
   "cell_type": "code",
   "execution_count": null,
   "id": "5992b339-dc80-44f3-81f8-58bb55884310",
   "metadata": {},
   "outputs": [],
   "source": [
    "linmod2 = models.LinearModel(1)\n",
    "alg2 = regr.regression(X1[:,None], Y1, linmod2, loss_func)\n",
    "E2 = abs(Y1 - linmod2.evaluate(X1[:,None]))"
   ]
  },
  {
   "cell_type": "code",
   "execution_count": null,
   "id": "a516b898-3ffc-4d07-8a9c-551d11eab3af",
   "metadata": {},
   "outputs": [],
   "source": [
    "Z2 = modified_zscore(E2)"
   ]
  },
  {
   "cell_type": "code",
   "execution_count": null,
   "id": "fca28b03-033e-46c4-8725-2a25fd7a1d63",
   "metadata": {},
   "outputs": [],
   "source": [
    "plt.plot(sorted(abs(Z2)), marker='o', color='k')\n",
    "plt.grid(1)\n",
    "plt.minorticks_on()\n",
    "plt.show()"
   ]
  },
  {
   "cell_type": "code",
   "execution_count": null,
   "id": "68cb5870-641e-419a-be07-12eeeb6abcff",
   "metadata": {},
   "outputs": [],
   "source": [
    "X2 = X1[Z2 < 3]\n",
    "Y2 = Y1[Z2 < 3]"
   ]
  },
  {
   "cell_type": "code",
   "execution_count": null,
   "id": "ba1afcf0-e3c9-4333-a076-c85c037c4681",
   "metadata": {},
   "outputs": [],
   "source": [
    "plt.scatter(X2, Y2, c=\"w\", edgecolors=\"k\")\n",
    "plt.show()"
   ]
  },
  {
   "cell_type": "code",
   "execution_count": null,
   "id": "47b8b455-237a-43b6-95c3-72658150f997",
   "metadata": {},
   "outputs": [],
   "source": [
    "linmod3 = models.LinearModel(1)\n",
    "alg3 = regr.regression(X2[:,None], Y2, linmod2, loss_func)\n",
    "E3 = abs(Y2 - linmod3.evaluate(X2[:,None]))"
   ]
  },
  {
   "cell_type": "code",
   "execution_count": null,
   "id": "2edb6b7d-df8c-4326-b0e5-a9ce86f9dbe6",
   "metadata": {},
   "outputs": [],
   "source": []
  }
 ],
 "metadata": {
  "kernelspec": {
   "display_name": "Python 3 (ipykernel)",
   "language": "python",
   "name": "python3"
  },
  "language_info": {
   "codemirror_mode": {
    "name": "ipython",
    "version": 3
   },
   "file_extension": ".py",
   "mimetype": "text/x-python",
   "name": "python",
   "nbconvert_exporter": "python",
   "pygments_lexer": "ipython3",
   "version": "3.13.2"
  }
 },
 "nbformat": 4,
 "nbformat_minor": 5
}
