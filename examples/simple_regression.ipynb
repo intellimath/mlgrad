{
 "cells": [
  {
   "cell_type": "code",
   "execution_count": 1,
   "id": "6758ed7f-3203-43bf-b974-a6a2160ec41a",
   "metadata": {
    "execution": {
     "iopub.execute_input": "2025-02-10T12:47:04.018977Z",
     "iopub.status.busy": "2025-02-10T12:47:04.018357Z",
     "iopub.status.idle": "2025-02-10T12:47:05.303208Z",
     "shell.execute_reply": "2025-02-10T12:47:05.302440Z",
     "shell.execute_reply.started": "2025-02-10T12:47:04.018917Z"
    }
   },
   "outputs": [],
   "source": [
    "import pandas as pd\n",
    "import matplotlib.pyplot as plt\n",
    "import numpy as np"
   ]
  },
  {
   "cell_type": "code",
   "execution_count": 2,
   "id": "3d2d1724-21ff-4353-a5a1-f1128004506b",
   "metadata": {
    "execution": {
     "iopub.execute_input": "2025-02-10T12:47:05.305088Z",
     "iopub.status.busy": "2025-02-10T12:47:05.304639Z",
     "iopub.status.idle": "2025-02-10T12:47:05.339851Z",
     "shell.execute_reply": "2025-02-10T12:47:05.338012Z",
     "shell.execute_reply.started": "2025-02-10T12:47:05.305050Z"
    }
   },
   "outputs": [],
   "source": [
    "import mlgrad.loss as loss\n",
    "import mlgrad.funcs as funcs\n",
    "import mlgrad.models as models\n",
    "import mlgrad.risks as risks\n",
    "import mlgrad.gd as gd"
   ]
  },
  {
   "cell_type": "code",
   "execution_count": 3,
   "id": "18fdc3e0-6919-4093-b84f-54b0b68ec757",
   "metadata": {
    "execution": {
     "iopub.execute_input": "2025-02-10T12:47:05.343097Z",
     "iopub.status.busy": "2025-02-10T12:47:05.341513Z",
     "iopub.status.idle": "2025-02-10T12:47:05.419892Z",
     "shell.execute_reply": "2025-02-10T12:47:05.416843Z",
     "shell.execute_reply.started": "2025-02-10T12:47:05.343023Z"
    }
   },
   "outputs": [
    {
     "data": {
      "text/html": [
       "<div>\n",
       "<style scoped>\n",
       "    .dataframe tbody tr th:only-of-type {\n",
       "        vertical-align: middle;\n",
       "    }\n",
       "\n",
       "    .dataframe tbody tr th {\n",
       "        vertical-align: top;\n",
       "    }\n",
       "\n",
       "    .dataframe thead th {\n",
       "        text-align: right;\n",
       "    }\n",
       "</style>\n",
       "<table border=\"1\" class=\"dataframe\">\n",
       "  <thead>\n",
       "    <tr style=\"text-align: right;\">\n",
       "      <th></th>\n",
       "      <th>name</th>\n",
       "      <th>body</th>\n",
       "      <th>brain</th>\n",
       "    </tr>\n",
       "  </thead>\n",
       "  <tbody>\n",
       "    <tr>\n",
       "      <th>0</th>\n",
       "      <td>Mountain beaver</td>\n",
       "      <td>1.350</td>\n",
       "      <td>8.1</td>\n",
       "    </tr>\n",
       "    <tr>\n",
       "      <th>1</th>\n",
       "      <td>Cow</td>\n",
       "      <td>465.000</td>\n",
       "      <td>423.0</td>\n",
       "    </tr>\n",
       "    <tr>\n",
       "      <th>2</th>\n",
       "      <td>Grey wolf</td>\n",
       "      <td>36.330</td>\n",
       "      <td>119.5</td>\n",
       "    </tr>\n",
       "    <tr>\n",
       "      <th>3</th>\n",
       "      <td>Goat</td>\n",
       "      <td>27.660</td>\n",
       "      <td>115.0</td>\n",
       "    </tr>\n",
       "    <tr>\n",
       "      <th>4</th>\n",
       "      <td>Guinea pig</td>\n",
       "      <td>1.040</td>\n",
       "      <td>5.5</td>\n",
       "    </tr>\n",
       "    <tr>\n",
       "      <th>5</th>\n",
       "      <td>Dipliodocus</td>\n",
       "      <td>11700.000</td>\n",
       "      <td>50.0</td>\n",
       "    </tr>\n",
       "    <tr>\n",
       "      <th>6</th>\n",
       "      <td>Asian elephant</td>\n",
       "      <td>2547.000</td>\n",
       "      <td>4603.0</td>\n",
       "    </tr>\n",
       "    <tr>\n",
       "      <th>7</th>\n",
       "      <td>Donkey</td>\n",
       "      <td>187.100</td>\n",
       "      <td>419.0</td>\n",
       "    </tr>\n",
       "    <tr>\n",
       "      <th>8</th>\n",
       "      <td>Horse</td>\n",
       "      <td>521.000</td>\n",
       "      <td>655.0</td>\n",
       "    </tr>\n",
       "    <tr>\n",
       "      <th>9</th>\n",
       "      <td>Potar monkey</td>\n",
       "      <td>10.000</td>\n",
       "      <td>115.0</td>\n",
       "    </tr>\n",
       "    <tr>\n",
       "      <th>10</th>\n",
       "      <td>Cat</td>\n",
       "      <td>3.300</td>\n",
       "      <td>25.6</td>\n",
       "    </tr>\n",
       "    <tr>\n",
       "      <th>11</th>\n",
       "      <td>Giraffe</td>\n",
       "      <td>529.000</td>\n",
       "      <td>680.0</td>\n",
       "    </tr>\n",
       "    <tr>\n",
       "      <th>12</th>\n",
       "      <td>Gorilla</td>\n",
       "      <td>207.000</td>\n",
       "      <td>406.0</td>\n",
       "    </tr>\n",
       "    <tr>\n",
       "      <th>13</th>\n",
       "      <td>Human</td>\n",
       "      <td>62.000</td>\n",
       "      <td>1320.0</td>\n",
       "    </tr>\n",
       "    <tr>\n",
       "      <th>14</th>\n",
       "      <td>African elephant</td>\n",
       "      <td>6654.000</td>\n",
       "      <td>5712.0</td>\n",
       "    </tr>\n",
       "    <tr>\n",
       "      <th>15</th>\n",
       "      <td>Triceratops</td>\n",
       "      <td>9400.000</td>\n",
       "      <td>70.0</td>\n",
       "    </tr>\n",
       "    <tr>\n",
       "      <th>16</th>\n",
       "      <td>Rhesus monkey</td>\n",
       "      <td>6.800</td>\n",
       "      <td>179.0</td>\n",
       "    </tr>\n",
       "    <tr>\n",
       "      <th>17</th>\n",
       "      <td>Kangaroo</td>\n",
       "      <td>35.000</td>\n",
       "      <td>56.0</td>\n",
       "    </tr>\n",
       "    <tr>\n",
       "      <th>18</th>\n",
       "      <td>Golden hamster</td>\n",
       "      <td>0.120</td>\n",
       "      <td>1.0</td>\n",
       "    </tr>\n",
       "    <tr>\n",
       "      <th>19</th>\n",
       "      <td>Mouse</td>\n",
       "      <td>0.023</td>\n",
       "      <td>0.4</td>\n",
       "    </tr>\n",
       "    <tr>\n",
       "      <th>20</th>\n",
       "      <td>Rabbit</td>\n",
       "      <td>2.500</td>\n",
       "      <td>12.1</td>\n",
       "    </tr>\n",
       "    <tr>\n",
       "      <th>21</th>\n",
       "      <td>Sheep</td>\n",
       "      <td>55.500</td>\n",
       "      <td>175.0</td>\n",
       "    </tr>\n",
       "    <tr>\n",
       "      <th>22</th>\n",
       "      <td>Jaguar</td>\n",
       "      <td>100.000</td>\n",
       "      <td>157.0</td>\n",
       "    </tr>\n",
       "    <tr>\n",
       "      <th>23</th>\n",
       "      <td>Chimpanzee</td>\n",
       "      <td>52.160</td>\n",
       "      <td>440.0</td>\n",
       "    </tr>\n",
       "    <tr>\n",
       "      <th>24</th>\n",
       "      <td>Rat</td>\n",
       "      <td>0.280</td>\n",
       "      <td>1.9</td>\n",
       "    </tr>\n",
       "    <tr>\n",
       "      <th>25</th>\n",
       "      <td>Brachiosaurus</td>\n",
       "      <td>87000.000</td>\n",
       "      <td>154.5</td>\n",
       "    </tr>\n",
       "    <tr>\n",
       "      <th>26</th>\n",
       "      <td>Mole</td>\n",
       "      <td>0.122</td>\n",
       "      <td>3.0</td>\n",
       "    </tr>\n",
       "    <tr>\n",
       "      <th>27</th>\n",
       "      <td>Pig</td>\n",
       "      <td>192.000</td>\n",
       "      <td>180.0</td>\n",
       "    </tr>\n",
       "  </tbody>\n",
       "</table>\n",
       "</div>"
      ],
      "text/plain": [
       "                name       body   brain\n",
       "0    Mountain beaver      1.350     8.1\n",
       "1                Cow    465.000   423.0\n",
       "2          Grey wolf     36.330   119.5\n",
       "3               Goat     27.660   115.0\n",
       "4         Guinea pig      1.040     5.5\n",
       "5        Dipliodocus  11700.000    50.0\n",
       "6     Asian elephant   2547.000  4603.0\n",
       "7             Donkey    187.100   419.0\n",
       "8              Horse    521.000   655.0\n",
       "9       Potar monkey     10.000   115.0\n",
       "10               Cat      3.300    25.6\n",
       "11           Giraffe    529.000   680.0\n",
       "12           Gorilla    207.000   406.0\n",
       "13             Human     62.000  1320.0\n",
       "14  African elephant   6654.000  5712.0\n",
       "15       Triceratops   9400.000    70.0\n",
       "16     Rhesus monkey      6.800   179.0\n",
       "17          Kangaroo     35.000    56.0\n",
       "18    Golden hamster      0.120     1.0\n",
       "19             Mouse      0.023     0.4\n",
       "20            Rabbit      2.500    12.1\n",
       "21             Sheep     55.500   175.0\n",
       "22            Jaguar    100.000   157.0\n",
       "23        Chimpanzee     52.160   440.0\n",
       "24               Rat      0.280     1.9\n",
       "25     Brachiosaurus  87000.000   154.5\n",
       "26              Mole      0.122     3.0\n",
       "27               Pig    192.000   180.0"
      ]
     },
     "execution_count": 3,
     "metadata": {},
     "output_type": "execute_result"
    }
   ],
   "source": [
    "df = pd.read_csv(\"data/animals.csv\", sep=\",\")\n",
    "df"
   ]
  },
  {
   "cell_type": "code",
   "execution_count": 4,
   "id": "be670e36-a6cb-48d0-8b99-d8c508572255",
   "metadata": {
    "execution": {
     "iopub.execute_input": "2025-02-10T12:47:05.423200Z",
     "iopub.status.busy": "2025-02-10T12:47:05.421176Z",
     "iopub.status.idle": "2025-02-10T12:47:05.442853Z",
     "shell.execute_reply": "2025-02-10T12:47:05.440433Z",
     "shell.execute_reply.started": "2025-02-10T12:47:05.423009Z"
    }
   },
   "outputs": [],
   "source": [
    "X = np.log(df.body).values\n",
    "Y = np.log(df.brain).values\n",
    "Xs = X.reshape(-1,1)"
   ]
  },
  {
   "cell_type": "code",
   "execution_count": 5,
   "id": "c3957a36-280a-4b39-a174-eba72b2957fe",
   "metadata": {
    "execution": {
     "iopub.execute_input": "2025-02-10T12:47:05.445559Z",
     "iopub.status.busy": "2025-02-10T12:47:05.445075Z",
     "iopub.status.idle": "2025-02-10T12:47:06.117404Z",
     "shell.execute_reply": "2025-02-10T12:47:06.111733Z",
     "shell.execute_reply.started": "2025-02-10T12:47:05.445515Z"
    }
   },
   "outputs": [
    {
     "data": {
      "image/png": "[encoded data removed]",
      "text/plain": [
       "<Figure size 640x480 with 1 Axes>"
      ]
     },
     "metadata": {},
     "output_type": "display_data"
    }
   ],
   "source": [
    "plt.scatter(X, Y, c=\"w\", edgecolors=\"k\")\n",
    "plt.show()"
   ]
  },
  {
   "cell_type": "code",
   "execution_count": 6,
   "id": "b00346df-6fd5-43d8-a31c-4bbd4745fb6c",
   "metadata": {
    "execution": {
     "iopub.execute_input": "2025-02-10T12:47:06.125685Z",
     "iopub.status.busy": "2025-02-10T12:47:06.121967Z",
     "iopub.status.idle": "2025-02-10T12:47:06.151704Z",
     "shell.execute_reply": "2025-02-10T12:47:06.145830Z",
     "shell.execute_reply.started": "2025-02-10T12:47:06.125525Z"
    }
   },
   "outputs": [
    {
     "data": {
      "text/plain": [
       "  C_CONTIGUOUS : True\n",
       "  F_CONTIGUOUS : True\n",
       "  OWNDATA : False\n",
       "  WRITEABLE : True\n",
       "  ALIGNED : True\n",
       "  WRITEBACKIFCOPY : False"
      ]
     },
     "execution_count": 6,
     "metadata": {},
     "output_type": "execute_result"
    }
   ],
   "source": [
    "Xs.flags"
   ]
  },
  {
   "cell_type": "code",
   "execution_count": 7,
   "id": "268cefbf-ede6-4b10-8dc8-f2dca70c61b7",
   "metadata": {
    "execution": {
     "iopub.execute_input": "2025-02-10T12:47:06.205993Z",
     "iopub.status.busy": "2025-02-10T12:47:06.201110Z",
     "iopub.status.idle": "2025-02-10T12:47:06.237172Z",
     "shell.execute_reply": "2025-02-10T12:47:06.233489Z",
     "shell.execute_reply.started": "2025-02-10T12:47:06.205887Z"
    }
   },
   "outputs": [],
   "source": [
    "loss_func = loss.ErrorLoss(funcs.Square())\n",
    "linmod = models.LinearModel(1)\n",
    "linmod.init_param()\n",
    "risk_func = risks.ERisk(Xs, Y, linmod, loss_func)\n",
    "alg = gd.FG(risk_func)\n",
    "alg.fit()"
   ]
  },
  {
   "cell_type": "code",
   "execution_count": 8,
   "id": "8e18a7ec-3bc3-4e82-a140-b1185e4fbf85",
   "metadata": {
    "execution": {
     "iopub.execute_input": "2025-02-10T12:47:28.361917Z",
     "iopub.status.busy": "2025-02-10T12:47:28.361270Z",
     "iopub.status.idle": "2025-02-10T12:47:28.633678Z",
     "shell.execute_reply": "2025-02-10T12:47:28.632722Z",
     "shell.execute_reply.started": "2025-02-10T12:47:28.361855Z"
    }
   },
   "outputs": [
    {
     "data": {
      "image/png": "[encoded data removed]",
      "text/plain": [
       "<Figure size 640x480 with 1 Axes>"
      ]
     },
     "metadata": {},
     "output_type": "display_data"
    }
   ],
   "source": [
    "plt.scatter(X, Y, c=\"w\", edgecolors=\"k\")\n",
    "plt.plot(X, linmod.evaluate_all(Xs))\n",
    "plt.show()"
   ]
  },
  {
   "cell_type": "code",
   "execution_count": 9,
   "id": "17922efb-0b4a-40b5-9f6e-aa8885c076ce",
   "metadata": {
    "execution": {
     "iopub.execute_input": "2025-02-10T12:48:17.858241Z",
     "iopub.status.busy": "2025-02-10T12:48:17.857035Z",
     "iopub.status.idle": "2025-02-10T12:48:17.865459Z",
     "shell.execute_reply": "2025-02-10T12:48:17.864227Z",
     "shell.execute_reply.started": "2025-02-10T12:48:17.858172Z"
    }
   },
   "outputs": [],
   "source": [
    "import mlgrad.regr as regr"
   ]
  },
  {
   "cell_type": "code",
   "execution_count": 10,
   "id": "6c91f31d-0304-4303-8dc5-1795aa071ff6",
   "metadata": {
    "execution": {
     "iopub.execute_input": "2025-02-10T12:49:41.668362Z",
     "iopub.status.busy": "2025-02-10T12:49:41.667905Z",
     "iopub.status.idle": "2025-02-10T12:49:41.680903Z",
     "shell.execute_reply": "2025-02-10T12:49:41.679740Z",
     "shell.execute_reply.started": "2025-02-10T12:49:41.668323Z"
    }
   },
   "outputs": [],
   "source": [
    "linmod.init_param()\n",
    "alg2 = regr.regression(Xs, Y, linmod, loss_func)"
   ]
  },
  {
   "cell_type": "code",
   "execution_count": 12,
   "id": "9487a66c-9c19-4c2c-add3-55c5ce9edf44",
   "metadata": {
    "execution": {
     "iopub.execute_input": "2025-02-10T12:51:21.600688Z",
     "iopub.status.busy": "2025-02-10T12:51:21.600124Z",
     "iopub.status.idle": "2025-02-10T12:51:21.833994Z",
     "shell.execute_reply": "2025-02-10T12:51:21.833259Z",
     "shell.execute_reply.started": "2025-02-10T12:51:21.600631Z"
    }
   },
   "outputs": [
    {
     "data": {
      "image/png": "[encoded data removed]",
      "text/plain": [
       "<Figure size 640x480 with 1 Axes>"
      ]
     },
     "metadata": {},
     "output_type": "display_data"
    }
   ],
   "source": [
    "plt.scatter(X, Y, c=\"w\", edgecolors=\"k\")\n",
    "plt.plot(X, linmod.evaluate_all(Xs))\n",
    "plt.show()"
   ]
  },
  {
   "cell_type": "code",
   "execution_count": null,
   "id": "688e3f1d-4bfb-45a2-818b-abe10a6ffb0c",
   "metadata": {},
   "outputs": [],
   "source": []
  }
 ],
 "metadata": {
  "kernelspec": {
   "display_name": "Python 3 (ipykernel)",
   "language": "python",
   "name": "python3"
  },
  "language_info": {
   "codemirror_mode": {
    "name": "ipython",
    "version": 3
   },
   "file_extension": ".py",
   "mimetype": "text/x-python",
   "name": "python",
   "nbconvert_exporter": "python",
   "pygments_lexer": "ipython3",
   "version": "3.13.1"
  }
 },
 "nbformat": 4,
 "nbformat_minor": 5
}
