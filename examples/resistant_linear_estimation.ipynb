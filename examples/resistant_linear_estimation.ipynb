{
 "cells": [
  {
   "cell_type": "code",
   "execution_count": 1,
   "metadata": {},
   "outputs": [],
   "source": [
    "import matplotlib.pyplot as plt\n",
    "plt.style.use(['seaborn-paper', 'seaborn-white', 'seaborn-ticks'])\n",
    "\n",
    "import numpy as np\n",
    "\n",
    "import mlgrad.model as model\n",
    "import mlgrad.func as func\n",
    "import mlgrad.loss as loss\n",
    "import mlgrad.loss as loss\n",
    "import mlgrad.weights as weights\n",
    "import mlgrad.averager as averager\n",
    "import mlgrad.avragg as avragg\n",
    "import mlgrad.irgd as irgd\n",
    "\n",
    "#import sklearn.linear_model as linear_model\n",
    "\n",
    "from mlgrad import averager_it, averager_fg, fg, erm_fg, irgd, erm_irgd, erisk"
   ]
  },
  {
   "cell_type": "code",
   "execution_count": 2,
   "metadata": {},
   "outputs": [
    {
     "ename": "FileNotFoundError",
     "evalue": "[Errno 2] No such file or directory: '/Users/intellimath/repos/mlgrad/examples/data/galaxy/'",
     "output_type": "error",
     "traceback": [
      "\u001b[0;31m---------------------------------------------------------------------------\u001b[0m",
      "\u001b[0;31mFileNotFoundError\u001b[0m                         Traceback (most recent call last)",
      "\u001b[0;32m<ipython-input-2-882981518697>\u001b[0m in \u001b[0;36m<module>\u001b[0;34m\u001b[0m\n\u001b[1;32m      2\u001b[0m \u001b[0mdatasets\u001b[0m \u001b[0;34m=\u001b[0m \u001b[0;34m[\u001b[0m\u001b[0;34m]\u001b[0m\u001b[0;34m\u001b[0m\u001b[0;34m\u001b[0m\u001b[0m\n\u001b[1;32m      3\u001b[0m \u001b[0mdirpath\u001b[0m \u001b[0;34m=\u001b[0m \u001b[0;34m'/Users/intellimath/repos/mlgrad/examples/data/galaxy/'\u001b[0m\u001b[0;34m\u001b[0m\u001b[0;34m\u001b[0m\u001b[0m\n\u001b[0;32m----> 4\u001b[0;31m \u001b[0;32mfor\u001b[0m \u001b[0mfn\u001b[0m \u001b[0;32min\u001b[0m \u001b[0mos\u001b[0m\u001b[0;34m.\u001b[0m\u001b[0mlistdir\u001b[0m\u001b[0;34m(\u001b[0m\u001b[0mdirpath\u001b[0m\u001b[0;34m)\u001b[0m\u001b[0;34m:\u001b[0m\u001b[0;34m\u001b[0m\u001b[0;34m\u001b[0m\u001b[0m\n\u001b[0m\u001b[1;32m      5\u001b[0m     \u001b[0mds\u001b[0m \u001b[0;34m=\u001b[0m \u001b[0mnp\u001b[0m\u001b[0;34m.\u001b[0m\u001b[0mloadtxt\u001b[0m\u001b[0;34m(\u001b[0m\u001b[0mdirpath\u001b[0m\u001b[0;34m+\u001b[0m\u001b[0mfn\u001b[0m\u001b[0;34m,\u001b[0m \u001b[0mdtype\u001b[0m\u001b[0;34m=\u001b[0m\u001b[0;34m'd'\u001b[0m\u001b[0;34m)\u001b[0m\u001b[0;34m\u001b[0m\u001b[0;34m\u001b[0m\u001b[0m\n\u001b[1;32m      6\u001b[0m     \u001b[0mdatasets\u001b[0m\u001b[0;34m.\u001b[0m\u001b[0mappend\u001b[0m\u001b[0;34m(\u001b[0m\u001b[0mds\u001b[0m\u001b[0;34m)\u001b[0m\u001b[0;34m\u001b[0m\u001b[0;34m\u001b[0m\u001b[0m\n",
      "\u001b[0;31mFileNotFoundError\u001b[0m: [Errno 2] No such file or directory: '/Users/intellimath/repos/mlgrad/examples/data/galaxy/'"
     ]
    }
   ],
   "source": [
    "import os\n",
    "datasets = []\n",
    "dirpath = '/Users/intellimath/repos/mlgrad/examples/data/galaxy/'\n",
    "for fn in os.listdir(dirpath):\n",
    "    ds = np.loadtxt(dirpath+fn, dtype='d')\n",
    "    datasets.append(ds)\n",
    "    \n",
    "#print(datasets[0])"
   ]
  },
  {
   "cell_type": "code",
   "execution_count": null,
   "metadata": {},
   "outputs": [],
   "source": [
    "# ds = datasets[0]\n",
    "# X, Y = ds[:,0], ds[:,1]"
   ]
  },
  {
   "cell_type": "code",
   "execution_count": null,
   "metadata": {},
   "outputs": [],
   "source": [
    "# X = np.array(X)\n",
    "# Y = np.array(Y)\n",
    "# Xs = X.reshape((-1,1))"
   ]
  },
  {
   "cell_type": "code",
   "execution_count": null,
   "metadata": {},
   "outputs": [],
   "source": [
    "# plt.figure(figsize=(9,7))\n",
    "# plt.scatter(X, Y, s=9, c='w', edgecolors='k')\n",
    "# plt.xlabel('X')\n",
    "# plt.ylabel('Y')\n",
    "# plt.grid(1)\n",
    "# plt.minorticks_on()\n",
    "# plt.show()"
   ]
  },
  {
   "cell_type": "code",
   "execution_count": null,
   "metadata": {},
   "outputs": [],
   "source": [
    "# param_m = np.array([1.,0.])\n",
    "# param_ls = np.array([1.,0.])\n",
    "# linmod_m = model.LinearModel(param_m)\n",
    "# linmod_ls = model.LinearModel(param_ls)\n",
    "# xrange = np.linspace(X.min(), X.max(), 2)"
   ]
  },
  {
   "cell_type": "code",
   "execution_count": null,
   "metadata": {},
   "outputs": [],
   "source": [
    "func_sqrt = func.Sqrt(0.001)\n",
    "loss_sq = loss.ErrorLoss(func.Square())\n",
    "loss_abs = loss.ErrorLoss(func.Absolute())"
   ]
  },
  {
   "cell_type": "code",
   "execution_count": null,
   "metadata": {},
   "outputs": [],
   "source": [
    "# er_ls = erisk(Xs, Y, linmod_ls, loss_sq)\n",
    "# fg_ls = erm_fg(er_ls, h=0.001, tol=1.0e-8, verbose=1)"
   ]
  },
  {
   "cell_type": "code",
   "execution_count": null,
   "metadata": {},
   "outputs": [],
   "source": [
    "# plt.plot(fg_ls.lvals)\n",
    "# plt.title('loss values')\n",
    "# plt.show()"
   ]
  },
  {
   "cell_type": "code",
   "execution_count": null,
   "metadata": {},
   "outputs": [],
   "source": [
    "# er_m = erisk(Xs, Y, linmod_m, loss_sq)\n",
    "# fg_m = fg(er_m, h=0.001, tol=1.0e-6)\n",
    "# wg_m = weights.WMWeights(avrfunc, er_m)\n",
    "# alg_m = erm_irgd(fg_m, wg_m, n_iter=41, h_anneal=0.99, tol=1.0e-4, verbose=1)"
   ]
  },
  {
   "cell_type": "code",
   "execution_count": null,
   "metadata": {},
   "outputs": [],
   "source": [
    "# plt.plot(alg_m.lvals)\n",
    "# plt.title('loss values')\n",
    "# plt.show()"
   ]
  },
  {
   "cell_type": "code",
   "execution_count": null,
   "metadata": {},
   "outputs": [],
   "source": [
    "# plt.figure(figsize=(9,7))\n",
    "# plt.scatter(X, Y, s=9, c='w', edgecolors='k')\n",
    "# plt.plot(xrange, linmod_m.evaluate_all(xrange.reshape((-1,1))), linestyle='-', color='k', linewidth=0.75, label='M')\n",
    "# plt.plot(xrange, linmod_ls.evaluate_all(xrange.reshape((-1,1))), linestyle='--', color='k', linewidth=0.75, label='LS')\n",
    "# plt.xlabel('X')\n",
    "# plt.ylabel('Y')\n",
    "# plt.grid(1)\n",
    "# plt.minorticks_on()\n",
    "# plt.legend()\n",
    "# plt.show()"
   ]
  },
  {
   "cell_type": "code",
   "execution_count": null,
   "metadata": {},
   "outputs": [],
   "source": [
    "# err_m = np.abs(Y-linmod_m.evaluate_all(Xs))\n",
    "# err_m = np.sort(err_m)\n",
    "# err_ls = np.abs(Y-linmod_ls.evaluate_all(Xs))\n",
    "# err_ls = np.sort(err_ls)"
   ]
  },
  {
   "cell_type": "code",
   "execution_count": null,
   "metadata": {},
   "outputs": [],
   "source": [
    "# plt.figure(figsize=(9,7))\n",
    "# plt.plot(err_m, label='M')\n",
    "# plt.plot(err_ls, label='LS')\n",
    "# plt.legend()\n",
    "# plt.grid(1)\n",
    "# plt.minorticks_on()\n",
    "# plt.show()"
   ]
  },
  {
   "cell_type": "code",
   "execution_count": null,
   "metadata": {},
   "outputs": [],
   "source": [
    "alphas = [0.5, 0.3, 0.3]\n",
    "for alpha, ds in zip(alphas, datasets):\n",
    "    X, Y = ds[:,0], ds[:,1]\n",
    "    X = np.array(X)\n",
    "    Y = np.array(Y)\n",
    "    X -= np.median(X)\n",
    "    Y -= np.median(Y)\n",
    "    Xs = X.reshape((-1,1))\n",
    "    xrange = np.linspace(X.min(), X.max(), 2)\n",
    "    param_m = np.array([0.1,0.1])\n",
    "    param_ls = np.array([0.1,0.1])\n",
    "    linmod_m = model.LinearModel(param_m)\n",
    "    linmod_ls = model.LinearModel(param_ls)\n",
    "    \n",
    "    er_ls = erisk(Xs, Y, linmod_ls, loss_sq)\n",
    "    fg_ls = erm_fg(er_ls, h=0.001, tol=1.0e-8, verbose=1)\n",
    "    \n",
    "    avrfunc = averager_it(func.QuantileFunc(alpha, func_sqrt))\n",
    "    \n",
    "    er_m = erisk(Xs, Y, linmod_m, loss_sq)\n",
    "    fg_m = fg(er_m, h=0.001, tol=1.0e-8)\n",
    "    wg_m = weights.MWeights(avrfunc, er_m)\n",
    "    alg_m = erm_irgd(fg_m, wg_m, n_iter=41, h_anneal=0.99, tol=1.0e-4, verbose=1)\n",
    "    \n",
    "    plt.figure(figsize=(7,3))\n",
    "    plt.subplot(1,2,1)\n",
    "    plt.plot(fg_ls.lvals)\n",
    "    plt.title('Arithmetical average of losses')\n",
    "    plt.subplot(1,2,2)\n",
    "    plt.plot(alg_m.lvals)\n",
    "    plt.title('M-average of of losses')\n",
    "    plt.show()    \n",
    "\n",
    "    plt.figure(figsize=(8,6))\n",
    "    plt.scatter(X, Y, s=9, c='w', edgecolors='k')\n",
    "    plt.plot(xrange, linmod_m.evaluate_all(xrange.reshape((-1,1))), linestyle='-', color='k', linewidth=0.75, label='M')\n",
    "    plt.plot(xrange, linmod_ls.evaluate_all(xrange.reshape((-1,1))), linestyle='--', color='k', linewidth=0.75, label='LS')\n",
    "    plt.xlabel('X')\n",
    "    plt.ylabel('Y')\n",
    "    plt.grid(1)\n",
    "    plt.minorticks_on()\n",
    "    plt.legend()\n",
    "    plt.show()\n",
    "    \n",
    "    err_m = np.abs(Y-linmod_m.evaluate_all(Xs))\n",
    "    err_m = np.sort(err_m)\n",
    "    err_ls = np.abs(Y-linmod_ls.evaluate_all(Xs))\n",
    "    err_ls = np.sort(err_ls)\n",
    "    \n",
    "    plt.figure(figsize=(8,6))\n",
    "    plt.plot(err_m, label='M')\n",
    "    plt.plot(err_ls, label='LS')\n",
    "    plt.legend()\n",
    "    plt.grid(1)\n",
    "    plt.minorticks_on()\n",
    "    plt.show()    "
   ]
  },
  {
   "cell_type": "code",
   "execution_count": null,
   "metadata": {},
   "outputs": [],
   "source": []
  }
 ],
 "metadata": {
  "kernelspec": {
   "display_name": "Python 3",
   "language": "python",
   "name": "python3"
  },
  "language_info": {
   "codemirror_mode": {
    "name": "ipython",
    "version": 3
   },
   "file_extension": ".py",
   "mimetype": "text/x-python",
   "name": "python",
   "nbconvert_exporter": "python",
   "pygments_lexer": "ipython3",
   "version": "3.9.2"
  }
 },
 "nbformat": 4,
 "nbformat_minor": 4
}
